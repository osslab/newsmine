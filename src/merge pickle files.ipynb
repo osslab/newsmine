{
 "cells": [
  {
   "cell_type": "code",
   "execution_count": 1,
   "metadata": {
    "collapsed": true
   },
   "outputs": [],
   "source": [
    "import pickle\n",
    "\n",
    "with open('./yonhap_2015.pkl', 'rb') as f1:\n",
    "    pickle_dict1 = pickle.load(f1)\n",
    "\n",
    "with open('./yonhap_2016.pkl', 'rb') as f:\n",
    "    pickle_dict2 = pickle.load(f)\n",
    "    \n",
    "with open('./yonhap_2017.pkl', 'rb') as f2:    \n",
    "    pickle_dict3 = pickle.load(f2)"
   ]
  },
  {
   "cell_type": "code",
   "execution_count": 2,
   "metadata": {
    "collapsed": true
   },
   "outputs": [],
   "source": [
    "pickle_dict1=pickle_dict1.append(pickle_dict2).append(pickle_dict3)"
   ]
  },
  {
   "cell_type": "code",
   "execution_count": 3,
   "metadata": {
    "collapsed": true
   },
   "outputs": [],
   "source": [
    "pickle_dict1=pickle_dict1.reset_index(drop=True)"
   ]
  },
  {
   "cell_type": "code",
   "execution_count": 4,
   "metadata": {},
   "outputs": [
    {
     "data": {
      "text/plain": [
       "836798"
      ]
     },
     "execution_count": 4,
     "metadata": {},
     "output_type": "execute_result"
    }
   ],
   "source": [
    "len(pickle_dict1)"
   ]
  },
  {
   "cell_type": "code",
   "execution_count": 5,
   "metadata": {
    "collapsed": true
   },
   "outputs": [],
   "source": [
    "counts=pickle_dict1.groupby('section').size()\n",
    "sorted_counts=counts.sort_values(ascending=False)"
   ]
  },
  {
   "cell_type": "code",
   "execution_count": 6,
   "metadata": {},
   "outputs": [
    {
     "data": {
      "text/plain": [
       "section\n",
       "지방행정        111001\n",
       "사회일반         99891\n",
       "국제일반         84225\n",
       "정치일반         82755\n",
       "경제일반         80266\n",
       "기업일반         18618\n",
       "산업일반         17347\n",
       "문화일반         14436\n",
       "중앙행정일반       14017\n",
       "외교일반         12830\n",
       "국방일반         11572\n",
       "재테크          11350\n",
       "대기업          10513\n",
       "북한일반          9373\n",
       "경찰            8969\n",
       "IT일반          8708\n",
       "교육일반          8561\n",
       "국회일반          7326\n",
       "소비자           6671\n",
       "증권시장          6520\n",
       "금융·증권일반       5366\n",
       "편집일반          5294\n",
       "대학교육          5009\n",
       "사건일반          4642\n",
       "의료일반          4500\n",
       "대통령업무         4419\n",
       "청와대일반         4204\n",
       "중소기업          4151\n",
       "관광업           3407\n",
       "지방의회          3336\n",
       "             ...  \n",
       "임대업              4\n",
       "스포츠댄스            4\n",
       "야구               3\n",
       "주식시황             3\n",
       "레이싱              3\n",
       "수상레포츠            2\n",
       "해외야구             2\n",
       "해외축구             2\n",
       "무속신앙             2\n",
       "경마               2\n",
       "기업분석             2\n",
       "국내대회             2\n",
       "금시세              2\n",
       "배구               2\n",
       "증시일정             1\n",
       "문화관광             1\n",
       "헤드라인             1\n",
       "핸드볼              1\n",
       "OANA             1\n",
       "장애아시안게임          1\n",
       "레슬링              1\n",
       "하계유니버시아드         1\n",
       "대체의학             1\n",
       "동계올림픽            1\n",
       "개발원조             1\n",
       "승마               1\n",
       "종합금융사            1\n",
       "유럽연합             1\n",
       "익스트림게임           1\n",
       "교포               1\n",
       "dtype: int64"
      ]
     },
     "execution_count": 6,
     "metadata": {},
     "output_type": "execute_result"
    }
   ],
   "source": [
    "sorted_counts"
   ]
  },
  {
   "cell_type": "code",
   "execution_count": 7,
   "metadata": {
    "collapsed": true
   },
   "outputs": [],
   "source": [
    "pickle_dict1.to_pickle('yonhap_all.pkl')"
   ]
  },
  {
   "cell_type": "code",
   "execution_count": 8,
   "metadata": {},
   "outputs": [
    {
     "data": {
      "text/plain": [
       "pandas.core.series.Series"
      ]
     },
     "execution_count": 8,
     "metadata": {},
     "output_type": "execute_result"
    }
   ],
   "source": [
    "type(sorted_counts)"
   ]
  },
  {
   "cell_type": "code",
   "execution_count": 10,
   "metadata": {
    "scrolled": false
   },
   "outputs": [],
   "source": [
    "#print(sorted_counts.to_string())\n",
    "sorted_counts.to_csv('./yonhap_sec.csv')"
   ]
  },
  {
   "cell_type": "code",
   "execution_count": null,
   "metadata": {
    "collapsed": true
   },
   "outputs": [],
   "source": []
  }
 ],
 "metadata": {
  "kernelspec": {
   "display_name": "Python 3",
   "language": "python",
   "name": "python3"
  },
  "language_info": {
   "codemirror_mode": {
    "name": "ipython",
    "version": 3
   },
   "file_extension": ".py",
   "mimetype": "text/x-python",
   "name": "python",
   "nbconvert_exporter": "python",
   "pygments_lexer": "ipython3",
   "version": "3.6.2"
  }
 },
 "nbformat": 4,
 "nbformat_minor": 1
}
