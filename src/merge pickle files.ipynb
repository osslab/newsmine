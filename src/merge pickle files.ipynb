{
 "cells": [
  {
   "cell_type": "code",
   "execution_count": 21,
   "metadata": {
    "collapsed": true
   },
   "outputs": [],
   "source": [
    "import pickle\n",
    "\n",
    "with open('./newsis_2013.pkl', 'rb') as f1:\n",
    "    pickle_dict1 = pickle.load(f1)\n",
    "\n",
    "with open('./newsis_2014.pkl', 'rb') as f2:\n",
    "    pickle_dict2 = pickle.load(f2)\n",
    "    \n",
    "with open('./newsis_2015.pkl', 'rb') as f3:    \n",
    "    pickle_dict3 = pickle.load(f3)\n",
    "    \n",
    "with open('./newsis_2016.pkl', 'rb') as f4:    \n",
    "    pickle_dict4 = pickle.load(f4)    \n",
    "    \n",
    "with open('./newsis_2017.pkl', 'rb') as f5:    \n",
    "    pickle_dict5 = pickle.load(f5)        "
   ]
  },
  {
   "cell_type": "code",
   "execution_count": 22,
   "metadata": {
    "collapsed": true
   },
   "outputs": [],
   "source": [
    "pickle_dict1=pickle_dict1.append(pickle_dict2).append(pickle_dict3).append(pickle_dict4).append(pickle_dict5)"
   ]
  },
  {
   "cell_type": "code",
   "execution_count": 23,
   "metadata": {
    "collapsed": true
   },
   "outputs": [],
   "source": [
    "pickle_dict1=pickle_dict1.reset_index(drop=True)"
   ]
  },
  {
   "cell_type": "code",
   "execution_count": 24,
   "metadata": {},
   "outputs": [
    {
     "data": {
      "text/plain": [
       "3019885"
      ]
     },
     "execution_count": 24,
     "metadata": {},
     "output_type": "execute_result"
    }
   ],
   "source": [
    "len(pickle_dict1)"
   ]
  },
  {
   "cell_type": "code",
   "execution_count": 25,
   "metadata": {
    "collapsed": true
   },
   "outputs": [],
   "source": [
    "pickle_dict1.to_pickle('newsis_all.pkl')"
   ]
  },
  {
   "cell_type": "code",
   "execution_count": null,
   "metadata": {
    "collapsed": true
   },
   "outputs": [],
   "source": []
  }
 ],
 "metadata": {
  "kernelspec": {
   "display_name": "Python 3",
   "language": "python",
   "name": "python3"
  },
  "language_info": {
   "codemirror_mode": {
    "name": "ipython",
    "version": 3
   },
   "file_extension": ".py",
   "mimetype": "text/x-python",
   "name": "python",
   "nbconvert_exporter": "python",
   "pygments_lexer": "ipython3",
   "version": "3.6.2"
  }
 },
 "nbformat": 4,
 "nbformat_minor": 1
}
