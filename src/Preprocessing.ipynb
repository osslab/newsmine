{
 "cells": [
  {
   "cell_type": "code",
   "execution_count": 1,
   "metadata": {
    "collapsed": false
   },
   "outputs": [],
   "source": [
    "import rds_config\n",
    "from sqlalchemy import create_engine\n",
    "\n",
    "#rds settings\n",
    "db_host  = rds_config.db_host\n",
    "db_username = rds_config.db_username\n",
    "db_password = rds_config.db_password\n",
    "db_name = rds_config.db_name\n",
    "\n",
    "#한글 깨짐 현상 해결\n",
    "#http://yongho1037.tistory.com/570\n",
    "SQLALCHEMY_DATABASE_URI = 'mysql+pymysql://' + db_username + ':' + db_password + '@' + db_host + '/' + db_name + '?charset=utf8'\n",
    "\n",
    "engine = create_engine(SQLALCHEMY_DATABASE_URI)\n",
    "connection = engine.connect()"
   ]
  },
  {
   "cell_type": "code",
   "execution_count": 2,
   "metadata": {
    "collapsed": false
   },
   "outputs": [],
   "source": [
    "import pandas as pd\n",
    "sql = \"SELECT date, substring(date, 6,2) as month, media, title, org_count, naver_count, org_count+naver_count as total_count, section FROM newscrawl WHERE org_count>0 or naver_count>0 \"\n",
    "df = pd.read_sql(sql, connection)\n",
    "#pd.read_csv(\"dcdata10.csv\")"
   ]
  },
  {
   "cell_type": "code",
   "execution_count": 3,
   "metadata": {
    "collapsed": false
   },
   "outputs": [
    {
     "data": {
      "text/plain": [
       "450032"
      ]
     },
     "execution_count": 3,
     "metadata": {},
     "output_type": "execute_result"
    }
   ],
   "source": [
    "len(df)"
   ]
  },
  {
   "cell_type": "code",
   "execution_count": 4,
   "metadata": {
    "collapsed": false
   },
   "outputs": [
    {
     "data": {
      "text/html": [
       "<div>\n",
       "<table border=\"1\" class=\"dataframe\">\n",
       "  <thead>\n",
       "    <tr style=\"text-align: right;\">\n",
       "      <th></th>\n",
       "      <th>date</th>\n",
       "      <th>month</th>\n",
       "      <th>media</th>\n",
       "      <th>title</th>\n",
       "      <th>org_count</th>\n",
       "      <th>naver_count</th>\n",
       "      <th>total_count</th>\n",
       "      <th>section</th>\n",
       "    </tr>\n",
       "  </thead>\n",
       "  <tbody>\n",
       "    <tr>\n",
       "      <th>450022</th>\n",
       "      <td>2016-12-14</td>\n",
       "      <td>12</td>\n",
       "      <td>jtbc</td>\n",
       "      <td>박 대통령 '공짜 진료' 논란…특검, 뇌물죄 적용 고심</td>\n",
       "      <td>2</td>\n",
       "      <td>12</td>\n",
       "      <td>14</td>\n",
       "      <td>사회</td>\n",
       "    </tr>\n",
       "    <tr>\n",
       "      <th>450023</th>\n",
       "      <td>2016-12-14</td>\n",
       "      <td>12</td>\n",
       "      <td>jtbc</td>\n",
       "      <td>[오늘] 12월 14일…'최순실 육성' 공개, 분명한 메시지</td>\n",
       "      <td>4</td>\n",
       "      <td>34</td>\n",
       "      <td>38</td>\n",
       "      <td>정치</td>\n",
       "    </tr>\n",
       "    <tr>\n",
       "      <th>450024</th>\n",
       "      <td>2016-12-14</td>\n",
       "      <td>12</td>\n",
       "      <td>jtbc</td>\n",
       "      <td>[앵커브리핑] 눈먼 자들의 국가…감출 수 없는 진실들</td>\n",
       "      <td>6902</td>\n",
       "      <td>53</td>\n",
       "      <td>6955</td>\n",
       "      <td>정치</td>\n",
       "    </tr>\n",
       "    <tr>\n",
       "      <th>450025</th>\n",
       "      <td>2016-12-14</td>\n",
       "      <td>12</td>\n",
       "      <td>jtbc</td>\n",
       "      <td>다시 한 번 또 봐도…'무능했던' 청와대의 7시간 대응</td>\n",
       "      <td>68</td>\n",
       "      <td>23</td>\n",
       "      <td>91</td>\n",
       "      <td>정치</td>\n",
       "    </tr>\n",
       "    <tr>\n",
       "      <th>450026</th>\n",
       "      <td>2016-12-14</td>\n",
       "      <td>12</td>\n",
       "      <td>jtbc</td>\n",
       "      <td>최순실 \"조작으로 몰아라\"…태블릿PC 소유 자백한 셈</td>\n",
       "      <td>166</td>\n",
       "      <td>30</td>\n",
       "      <td>196</td>\n",
       "      <td>사회</td>\n",
       "    </tr>\n",
       "    <tr>\n",
       "      <th>450027</th>\n",
       "      <td>2016-12-14</td>\n",
       "      <td>12</td>\n",
       "      <td>jtbc</td>\n",
       "      <td>[밀착카메라] 청문회 준비 어떻게…국조 위원들 24시</td>\n",
       "      <td>14</td>\n",
       "      <td>37</td>\n",
       "      <td>51</td>\n",
       "      <td>정치</td>\n",
       "    </tr>\n",
       "    <tr>\n",
       "      <th>450028</th>\n",
       "      <td>2016-12-14</td>\n",
       "      <td>12</td>\n",
       "      <td>jtbc</td>\n",
       "      <td>다급했던 최순실 통화…JTBC 보도 사흘 뒤 '은폐 지시'</td>\n",
       "      <td>9175</td>\n",
       "      <td>50</td>\n",
       "      <td>9225</td>\n",
       "      <td>사회</td>\n",
       "    </tr>\n",
       "    <tr>\n",
       "      <th>450029</th>\n",
       "      <td>2016-12-14</td>\n",
       "      <td>12</td>\n",
       "      <td>jtbc</td>\n",
       "      <td>[비하인드 뉴스] 대통령 미용사, 버킹엄궁도 따라갔다</td>\n",
       "      <td>4</td>\n",
       "      <td>0</td>\n",
       "      <td>4</td>\n",
       "      <td>정치</td>\n",
       "    </tr>\n",
       "    <tr>\n",
       "      <th>450030</th>\n",
       "      <td>2016-12-14</td>\n",
       "      <td>12</td>\n",
       "      <td>jtbc</td>\n",
       "      <td>[팩트체크] 개헌, 정말로 '두 달 반' 안에 가능할까?</td>\n",
       "      <td>1119</td>\n",
       "      <td>30</td>\n",
       "      <td>1149</td>\n",
       "      <td>정치</td>\n",
       "    </tr>\n",
       "    <tr>\n",
       "      <th>450031</th>\n",
       "      <td>2016-12-14</td>\n",
       "      <td>12</td>\n",
       "      <td>jtbc</td>\n",
       "      <td>[Talk쏘는 정치] \"걸핏하면 시위해\" 촛불 폄하한 교수</td>\n",
       "      <td>6</td>\n",
       "      <td>15</td>\n",
       "      <td>21</td>\n",
       "      <td>정치</td>\n",
       "    </tr>\n",
       "  </tbody>\n",
       "</table>\n",
       "</div>"
      ],
      "text/plain": [
       "              date month media                              title  org_count  \\\n",
       "450022  2016-12-14    12  jtbc     박 대통령 '공짜 진료' 논란…특검, 뇌물죄 적용 고심          2   \n",
       "450023  2016-12-14    12  jtbc  [오늘] 12월 14일…'최순실 육성' 공개, 분명한 메시지          4   \n",
       "450024  2016-12-14    12  jtbc      [앵커브리핑] 눈먼 자들의 국가…감출 수 없는 진실들       6902   \n",
       "450025  2016-12-14    12  jtbc     다시 한 번 또 봐도…'무능했던' 청와대의 7시간 대응         68   \n",
       "450026  2016-12-14    12  jtbc      최순실 \"조작으로 몰아라\"…태블릿PC 소유 자백한 셈        166   \n",
       "450027  2016-12-14    12  jtbc      [밀착카메라] 청문회 준비 어떻게…국조 위원들 24시         14   \n",
       "450028  2016-12-14    12  jtbc   다급했던 최순실 통화…JTBC 보도 사흘 뒤 '은폐 지시'       9175   \n",
       "450029  2016-12-14    12  jtbc      [비하인드 뉴스] 대통령 미용사, 버킹엄궁도 따라갔다          4   \n",
       "450030  2016-12-14    12  jtbc    [팩트체크] 개헌, 정말로 '두 달 반' 안에 가능할까?       1119   \n",
       "450031  2016-12-14    12  jtbc   [Talk쏘는 정치] \"걸핏하면 시위해\" 촛불 폄하한 교수          6   \n",
       "\n",
       "        naver_count  total_count section  \n",
       "450022           12           14      사회  \n",
       "450023           34           38      정치  \n",
       "450024           53         6955      정치  \n",
       "450025           23           91      정치  \n",
       "450026           30          196      사회  \n",
       "450027           37           51      정치  \n",
       "450028           50         9225      사회  \n",
       "450029            0            4      정치  \n",
       "450030           30         1149      정치  \n",
       "450031           15           21      정치  "
      ]
     },
     "execution_count": 4,
     "metadata": {},
     "output_type": "execute_result"
    }
   ],
   "source": [
    "df.tail(10)"
   ]
  },
  {
   "cell_type": "code",
   "execution_count": 5,
   "metadata": {
    "collapsed": false
   },
   "outputs": [
    {
     "name": "stdout",
     "output_type": "stream",
     "text": [
      "CPU times: user 32.5 s, sys: 128 ms, total: 32.6 s\n",
      "Wall time: 33.7 s\n"
     ]
    }
   ],
   "source": [
    "%%time\n",
    "from konlpy.tag import Mecab\n",
    "mecab = Mecab()\n",
    "\n",
    "def mecab_words(sentence):\n",
    "    word_list = mecab.nouns(sentence)\n",
    "    #return \" \".join(word_list)\n",
    "    return \" \".join(filter(lambda x: len(x)>1, word_list))\n",
    "    #return filter(lambda x: len(x)>1, \" \".join(word_list))\n",
    "\n",
    "df['title_me_noun'] = df['title'].apply(mecab_words)"
   ]
  },
  {
   "cell_type": "code",
   "execution_count": 7,
   "metadata": {
    "collapsed": true
   },
   "outputs": [],
   "source": [
    "df_by_month = df.groupby(['month'])\n",
    "df_by_media_month = df.groupby(['month', 'media'])"
   ]
  },
  {
   "cell_type": "code",
   "execution_count": 9,
   "metadata": {
    "collapsed": false
   },
   "outputs": [],
   "source": [
    "from collections import Counter\n",
    "\n",
    "by_me_month = df_by_month['title_me_noun'].apply(list)\n",
    "result_by_me_month = pd.Series()\n",
    "\n",
    "for month, words in by_me_month.iteritems():\n",
    "    result_by_me_month.set_value(month, Counter(\" \".join(words).split(\" \")))"
   ]
  },
  {
   "cell_type": "code",
   "execution_count": 10,
   "metadata": {
    "collapsed": false
   },
   "outputs": [
    {
     "name": "stdout",
     "output_type": "stream",
     "text": [
      "01 [('종합', 1493), ('한국', 1147), ('대통령', 913), ('중국', 845), ('민주', 804), ('경제', 786), ('뉴스', 761), ('서울', 692), ('위안부', 681), ('정부', 660), ('세계', 616), ('북한', 610), ('시장', 602), ('국민', 578), ('논란', 570), ('한파', 549), ('누리', 529), ('안철수', 521), ('미국', 511), ('영상', 497), ('카드', 494), ('정치', 468), ('의원', 452), ('일본', 448), ('청년', 444), ('가능', 439), ('기업', 421), ('핵실험', 408), ('공항', 405), ('단독', 397)]\n",
      "02 [('종합', 1252), ('한국', 916), ('개성', 882), ('공단', 879), ('대통령', 737), ('뉴스', 689), ('중국', 688), ('정부', 670), ('사드', 666), ('북한', 662), ('국민', 659), ('민주', 650), ('미사일', 649), ('테러', 583), ('서울', 560), ('기업', 552), ('경제', 551), ('세계', 541), ('시장', 533), ('영상', 494), ('제재', 492), ('가능', 489), ('버스터', 478), ('필리', 478), ('논란', 456), ('카드', 452), ('발사', 448), ('의원', 448), ('총선', 425), ('대북', 422)]\n",
      "03 [('공천', 1341), ('종합', 1151), ('민주', 1070), ('한국', 994), ('총선', 881), ('국민', 874), ('김종인', 820), ('뉴스', 819), ('후보', 766), ('대통령', 756), ('대표', 686), ('서울', 685), ('이세돌', 606), ('테러', 598), ('유승민', 589), ('속보', 572), ('알파', 559), ('김무성', 552), ('기업', 542), ('여성', 535), ('누리', 531), ('중국', 525), ('경제', 519), ('논란', 508), ('영상', 501), ('세계', 492), ('단독', 457), ('정부', 455), ('비례', 454), ('야권', 445)]\n",
      "04 [('총선', 1180), ('종합', 1011), ('대통령', 1011), ('한국', 955), ('국민', 823), ('민주', 762), ('투표', 734), ('뉴스', 704), ('정부', 661), ('후보', 658), ('서울', 615), ('경제', 607), ('기업', 601), ('누리', 539), ('선거', 537), ('세월', 526), ('논란', 525), ('대표', 488), ('세계', 479), ('영상', 478), ('중국', 448), ('단독', 437), ('지진', 437), ('구조', 432), ('카드', 422), ('조선', 418), ('일본', 415), ('지원', 415), ('시장', 409), ('조사', 407)]\n",
      "05 [('종합', 1142), ('한국', 1090), ('대통령', 999), ('뉴스', 804), ('여성', 706), ('트럼프', 700), ('서울', 640), ('정부', 632), ('기업', 578), ('국회', 571), ('옥시', 566), ('단독', 551), ('논란', 534), ('세계', 530), ('중국', 512), ('경제', 495), ('조선', 490), ('영상', 470), ('시장', 455), ('카드', 450), ('구조', 423), ('반기문', 421), ('사설', 420), ('살인', 415), ('가능', 399), ('북한', 397), ('대회', 396), ('살균제', 383), ('국민', 378), ('조사', 378)]\n",
      "06 [('종합', 1384), ('한국', 1110), ('시트', 1004), ('브렉', 985), ('국민', 805), ('뉴스', 795), ('공항', 771), ('시장', 752), ('정부', 717), ('중국', 675), ('조선', 666), ('서울', 658), ('세계', 650), ('검찰', 637), ('논란', 599), ('기업', 590), ('수사', 570), ('경찰', 570), ('경제', 568), ('대통령', 567), ('여성', 557), ('국회', 546), ('영상', 531), ('의원', 528), ('사망', 494), ('단독', 493), ('의혹', 487), ('조사', 481), ('사고', 477), ('롯데', 443)]\n",
      "07 [('사드', 2031), ('종합', 1566), ('한국', 1058), ('대통령', 957), ('배치', 944), ('경찰', 853), ('뉴스', 815), ('정부', 747), ('논란', 686), ('서울', 682), ('중국', 639), ('사망', 627), ('국민', 620), ('성주', 616), ('테러', 611), ('세계', 564), ('영상', 546), ('검찰', 538), ('의혹', 537), ('경제', 530), ('조사', 527), ('의원', 526), ('기업', 516), ('여성', 516), ('단독', 512), ('결정', 509), ('우병우', 508), ('시장', 501), ('시간', 472), ('수사', 463)]\n",
      "08 [('종합', 1350), ('사드', 1263), ('대통령', 1068), ('폭염', 1055), ('한국', 1046), ('서울', 746), ('중국', 744), ('정부', 743), ('뉴스', 726), ('민주', 668), ('논란', 620), ('수사', 579), ('영상', 575), ('대표', 570), ('우병우', 563), ('경찰', 546), ('올림픽', 522), ('기업', 516), ('단독', 513), ('세계', 507), ('검찰', 501), ('의원', 493), ('여성', 484), ('가능', 474), ('사망', 473), ('조선', 466), ('최고', 464), ('일본', 437), ('청년', 433), ('국민', 423)]\n",
      "09 [('지진', 1330), ('종합', 1175), ('대통령', 841), ('한국', 766), ('뉴스', 677), ('정부', 574), ('규모', 570), ('추석', 540), ('단독', 522), ('영상', 510), ('서울', 507), ('경주', 475), ('노트', 475), ('세계', 471), ('중국', 468), ('사망', 438), ('사드', 438), ('북한', 430), ('가능', 420), ('기업', 420), ('경찰', 393), ('지원', 390), ('여성', 387), ('한진', 382), ('국민', 381), ('김영란', 373), ('핵실험', 370), ('논란', 368), ('안전', 368), ('카드', 367)]\n",
      "10 [('최순실', 2564), ('대통령', 1839), ('종합', 1176), ('한국', 849), ('의혹', 812), ('뉴스', 746), ('논란', 671), ('단독', 657), ('검찰', 627), ('영상', 595), ('경찰', 585), ('중국', 549), ('정부', 539), ('서울', 526), ('수사', 513), ('노트', 504), ('박근혜', 502), ('사망', 477), ('태풍', 477), ('남기', 468), ('국민', 461), ('세계', 449), ('경제', 447), ('국감', 447), ('트럼프', 446), ('기업', 444), ('시장', 403), ('조사', 382), ('여성', 381), ('청와대', 380)]\n",
      "11 [('대통령', 5574), ('최순실', 2928), ('트럼프', 2035), ('박근혜', 1882), ('뉴스', 1749), ('탄핵', 1356), ('종합', 1276), ('검찰', 1263), ('퇴진', 1185), ('촛불', 1073), ('청와대', 999), ('국정', 974), ('수사', 953), ('조사', 925), ('오마이', 917), ('의혹', 854), ('한국', 853), ('노컷뉴스', 772), ('단독', 757), ('국민', 750), ('촛불집회', 714), ('속보', 696), ('총리', 683), ('영상', 665), ('대선', 653), ('집회', 650), ('시민', 582), ('시간', 567), ('논란', 556), ('정보', 541)]\n",
      "12 [('탄핵', 2380), ('대통령', 1822), ('최순실', 897), ('박근혜', 650), ('종합', 646), ('촛불', 570), ('청문회', 508), ('퇴진', 491), ('국회', 453), ('가결', 449), ('국민', 439), ('세월', 408), ('청와대', 406), ('한국', 385), ('영상', 377), ('의원', 372), ('특검', 367), ('트럼프', 355), ('수사', 344), ('국정', 343), ('표결', 339), ('속보', 333), ('뉴스', 318), ('시간', 317), ('누리', 282), ('내년', 272), ('시민', 263), ('단독', 263), ('촛불집회', 260), ('경제', 258)]\n"
     ]
    }
   ],
   "source": [
    "for month, words in result_by_me_month.iteritems():\n",
    "    print(month, words.most_common(30))"
   ]
  },
  {
   "cell_type": "code",
   "execution_count": 11,
   "metadata": {
    "collapsed": false
   },
   "outputs": [
    {
     "data": {
      "text/html": [
       "<div>\n",
       "<table border=\"1\" class=\"dataframe\">\n",
       "  <thead>\n",
       "    <tr>\n",
       "      <th></th>\n",
       "      <th colspan=\"2\" halign=\"left\">org_count</th>\n",
       "      <th colspan=\"2\" halign=\"left\">naver_count</th>\n",
       "      <th colspan=\"2\" halign=\"left\">total_count</th>\n",
       "    </tr>\n",
       "    <tr>\n",
       "      <th></th>\n",
       "      <th>mean</th>\n",
       "      <th>count</th>\n",
       "      <th>mean</th>\n",
       "      <th>count</th>\n",
       "      <th>mean</th>\n",
       "      <th>count</th>\n",
       "    </tr>\n",
       "    <tr>\n",
       "      <th>month</th>\n",
       "      <th></th>\n",
       "      <th></th>\n",
       "      <th></th>\n",
       "      <th></th>\n",
       "      <th></th>\n",
       "      <th></th>\n",
       "    </tr>\n",
       "  </thead>\n",
       "  <tbody>\n",
       "    <tr>\n",
       "      <th>01</th>\n",
       "      <td>165.487125</td>\n",
       "      <td>40466</td>\n",
       "      <td>23.049745</td>\n",
       "      <td>40466</td>\n",
       "      <td>188.536870</td>\n",
       "      <td>40466</td>\n",
       "    </tr>\n",
       "    <tr>\n",
       "      <th>02</th>\n",
       "      <td>168.984964</td>\n",
       "      <td>37111</td>\n",
       "      <td>25.549163</td>\n",
       "      <td>37111</td>\n",
       "      <td>194.534127</td>\n",
       "      <td>37111</td>\n",
       "    </tr>\n",
       "    <tr>\n",
       "      <th>03</th>\n",
       "      <td>126.101200</td>\n",
       "      <td>40761</td>\n",
       "      <td>22.099114</td>\n",
       "      <td>40761</td>\n",
       "      <td>148.200314</td>\n",
       "      <td>40761</td>\n",
       "    </tr>\n",
       "    <tr>\n",
       "      <th>04</th>\n",
       "      <td>151.722805</td>\n",
       "      <td>37378</td>\n",
       "      <td>25.495265</td>\n",
       "      <td>37378</td>\n",
       "      <td>177.218069</td>\n",
       "      <td>37378</td>\n",
       "    </tr>\n",
       "    <tr>\n",
       "      <th>05</th>\n",
       "      <td>133.163774</td>\n",
       "      <td>39695</td>\n",
       "      <td>24.974405</td>\n",
       "      <td>39695</td>\n",
       "      <td>158.138179</td>\n",
       "      <td>39695</td>\n",
       "    </tr>\n",
       "    <tr>\n",
       "      <th>06</th>\n",
       "      <td>121.357529</td>\n",
       "      <td>41303</td>\n",
       "      <td>22.615137</td>\n",
       "      <td>41303</td>\n",
       "      <td>143.972665</td>\n",
       "      <td>41303</td>\n",
       "    </tr>\n",
       "    <tr>\n",
       "      <th>07</th>\n",
       "      <td>143.167743</td>\n",
       "      <td>43680</td>\n",
       "      <td>25.951809</td>\n",
       "      <td>43680</td>\n",
       "      <td>169.119551</td>\n",
       "      <td>43680</td>\n",
       "    </tr>\n",
       "    <tr>\n",
       "      <th>08</th>\n",
       "      <td>177.883799</td>\n",
       "      <td>41213</td>\n",
       "      <td>29.496809</td>\n",
       "      <td>41213</td>\n",
       "      <td>207.380608</td>\n",
       "      <td>41213</td>\n",
       "    </tr>\n",
       "    <tr>\n",
       "      <th>09</th>\n",
       "      <td>205.389246</td>\n",
       "      <td>33326</td>\n",
       "      <td>31.558393</td>\n",
       "      <td>33326</td>\n",
       "      <td>236.947638</td>\n",
       "      <td>33326</td>\n",
       "    </tr>\n",
       "    <tr>\n",
       "      <th>10</th>\n",
       "      <td>279.059524</td>\n",
       "      <td>36439</td>\n",
       "      <td>35.309449</td>\n",
       "      <td>36439</td>\n",
       "      <td>314.368973</td>\n",
       "      <td>36439</td>\n",
       "    </tr>\n",
       "    <tr>\n",
       "      <th>11</th>\n",
       "      <td>356.246586</td>\n",
       "      <td>40574</td>\n",
       "      <td>44.942648</td>\n",
       "      <td>40574</td>\n",
       "      <td>401.189234</td>\n",
       "      <td>40574</td>\n",
       "    </tr>\n",
       "    <tr>\n",
       "      <th>12</th>\n",
       "      <td>328.621973</td>\n",
       "      <td>18086</td>\n",
       "      <td>36.790335</td>\n",
       "      <td>18086</td>\n",
       "      <td>365.412308</td>\n",
       "      <td>18086</td>\n",
       "    </tr>\n",
       "  </tbody>\n",
       "</table>\n",
       "</div>"
      ],
      "text/plain": [
       "        org_count        naver_count        total_count       \n",
       "             mean  count        mean  count        mean  count\n",
       "month                                                         \n",
       "01     165.487125  40466   23.049745  40466  188.536870  40466\n",
       "02     168.984964  37111   25.549163  37111  194.534127  37111\n",
       "03     126.101200  40761   22.099114  40761  148.200314  40761\n",
       "04     151.722805  37378   25.495265  37378  177.218069  37378\n",
       "05     133.163774  39695   24.974405  39695  158.138179  39695\n",
       "06     121.357529  41303   22.615137  41303  143.972665  41303\n",
       "07     143.167743  43680   25.951809  43680  169.119551  43680\n",
       "08     177.883799  41213   29.496809  41213  207.380608  41213\n",
       "09     205.389246  33326   31.558393  33326  236.947638  33326\n",
       "10     279.059524  36439   35.309449  36439  314.368973  36439\n",
       "11     356.246586  40574   44.942648  40574  401.189234  40574\n",
       "12     328.621973  18086   36.790335  18086  365.412308  18086"
      ]
     },
     "execution_count": 11,
     "metadata": {},
     "output_type": "execute_result"
    }
   ],
   "source": [
    "df_by_month.agg(['mean', 'count'])"
   ]
  },
  {
   "cell_type": "code",
   "execution_count": 12,
   "metadata": {
    "collapsed": true
   },
   "outputs": [],
   "source": [
    "df.reset_index().to_json('data/mecab.json',orient='records')"
   ]
  },
  {
   "cell_type": "code",
   "execution_count": 13,
   "metadata": {
    "collapsed": false
   },
   "outputs": [
    {
     "name": "stdout",
     "output_type": "stream",
     "text": [
      "CPU times: user 856 ms, sys: 48 ms, total: 904 ms\n",
      "Wall time: 904 ms\n"
     ]
    }
   ],
   "source": [
    "%%time\n",
    "from collections import Counter\n",
    "\n",
    "## df 방식과 counter 방식의 현저한 속도차\n",
    "#result = df['title_noun'].head(20000).apply(lambda x: pd.value_counts(x.split(\" \"))).sum(axis = 0)\n",
    "#result.sort_values(axis=0, ascending=False)\n",
    "r1 = df['title_me_noun'].tolist()\n",
    "result = Counter(\" \".join(r1).split(\" \"))"
   ]
  },
  {
   "cell_type": "code",
   "execution_count": 14,
   "metadata": {
    "collapsed": false,
    "scrolled": true
   },
   "outputs": [
    {
     "data": {
      "text/plain": [
       "[('대통령', 17084),\n",
       " ('종합', 14622),\n",
       " ('한국', 11169),\n",
       " ('뉴스', 9603),\n",
       " ('국민', 7191),\n",
       " ('정부', 7084),\n",
       " ('서울', 7016),\n",
       " ('중국', 6703),\n",
       " ('최순실', 6511),\n",
       " ('논란', 6330),\n",
       " ('영상', 6239),\n",
       " ('경제', 5965),\n",
       " ('단독', 5901),\n",
       " ('세계', 5865),\n",
       " ('기업', 5811),\n",
       " ('민주', 5769),\n",
       " ('트럼프', 5689),\n",
       " ('시장', 5414),\n",
       " ('경찰', 5295),\n",
       " ('검찰', 5151),\n",
       " ('사드', 5128),\n",
       " ('여성', 5085),\n",
       " ('수사', 4754),\n",
       " ('가능', 4752),\n",
       " ('조사', 4716),\n",
       " ('카드', 4709),\n",
       " ('의혹', 4682),\n",
       " ('의원', 4578),\n",
       " ('사망', 4527),\n",
       " ('대표', 4525)]"
      ]
     },
     "execution_count": 14,
     "metadata": {},
     "output_type": "execute_result"
    }
   ],
   "source": [
    "result.most_common(30)"
   ]
  },
  {
   "cell_type": "code",
   "execution_count": 15,
   "metadata": {
    "collapsed": false
   },
   "outputs": [
    {
     "name": "stdout",
     "output_type": "stream",
     "text": [
      "CPU times: user 3min 58s, sys: 592 ms, total: 3min 59s\n",
      "Wall time: 3min 54s\n"
     ]
    }
   ],
   "source": [
    "%%time\n",
    "from konlpy.tag import Twitter\n",
    "twitter = Twitter()\n",
    "def words(sentence):\n",
    "    word_list = twitter.nouns(sentence)\n",
    "    return \" \".join(word_list)\n",
    "\n",
    "df['title_noun'] = df['title'].apply(words)\n",
    "#df.reset_index().to_json('data/twitter.json',orient='records')"
   ]
  },
  {
   "cell_type": "code",
   "execution_count": null,
   "metadata": {
    "collapsed": true
   },
   "outputs": [],
   "source": []
  }
 ],
 "metadata": {
  "kernelspec": {
   "display_name": "Python 3",
   "language": "python",
   "name": "python3"
  },
  "language_info": {
   "codemirror_mode": {
    "name": "ipython",
    "version": 3
   },
   "file_extension": ".py",
   "mimetype": "text/x-python",
   "name": "python",
   "nbconvert_exporter": "python",
   "pygments_lexer": "ipython3",
   "version": "3.5.2"
  }
 },
 "nbformat": 4,
 "nbformat_minor": 1
}
