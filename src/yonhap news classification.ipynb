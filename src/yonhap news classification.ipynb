{
 "cells": [
  {
   "cell_type": "code",
   "execution_count": 1,
   "metadata": {
    "collapsed": true
   },
   "outputs": [],
   "source": [
    "import pandas as pd\n",
    "df = pd.read_pickle('yonhap_ready.pkl')"
   ]
  },
  {
   "cell_type": "code",
   "execution_count": 2,
   "metadata": {},
   "outputs": [
    {
     "data": {
      "text/html": [
       "<div>\n",
       "<style scoped>\n",
       "    .dataframe tbody tr th:only-of-type {\n",
       "        vertical-align: middle;\n",
       "    }\n",
       "\n",
       "    .dataframe tbody tr th {\n",
       "        vertical-align: top;\n",
       "    }\n",
       "\n",
       "    .dataframe thead th {\n",
       "        text-align: right;\n",
       "    }\n",
       "</style>\n",
       "<table border=\"1\" class=\"dataframe\">\n",
       "  <thead>\n",
       "    <tr style=\"text-align: right;\">\n",
       "      <th></th>\n",
       "      <th>article</th>\n",
       "      <th>title</th>\n",
       "      <th>article_len</th>\n",
       "      <th>sec1</th>\n",
       "      <th>sec_idx</th>\n",
       "    </tr>\n",
       "  </thead>\n",
       "  <tbody>\n",
       "    <tr>\n",
       "      <th>0</th>\n",
       "      <td>'회장이 청부폭력' 루머 협박범도 기소…사이버명예훼손 전담수사 첫 사례 ...</td>\n",
       "      <td>\"해경이 가만있으라 방송\" 허위사실 유포 40대 기소</td>\n",
       "      <td>966</td>\n",
       "      <td>사회</td>\n",
       "      <td>4</td>\n",
       "    </tr>\n",
       "    <tr>\n",
       "      <th>1</th>\n",
       "      <td>지난 해 9월 북한의 함경북도 항구도시 나진과 러시아 극동지역 도시 ...</td>\n",
       "      <td>南 점검단 방북…나진-하산 프로젝트 시범운송 시작(종합)</td>\n",
       "      <td>1539</td>\n",
       "      <td>정치</td>\n",
       "      <td>6</td>\n",
       "    </tr>\n",
       "    <tr>\n",
       "      <th>2</th>\n",
       "      <td>포항 도착한 화물선       러시아 시베리아산 유연탄 4만 500t을...</td>\n",
       "      <td>나진-하산 프로젝트 탄력…시범수송 석탄 포항 도착(종합)</td>\n",
       "      <td>1827</td>\n",
       "      <td>경제</td>\n",
       "      <td>0</td>\n",
       "    </tr>\n",
       "  </tbody>\n",
       "</table>\n",
       "</div>"
      ],
      "text/plain": [
       "                                             article  \\\n",
       "0        '회장이 청부폭력' 루머 협박범도 기소…사이버명예훼손 전담수사 첫 사례 ...   \n",
       "1          지난 해 9월 북한의 함경북도 항구도시 나진과 러시아 극동지역 도시 ...   \n",
       "2         포항 도착한 화물선       러시아 시베리아산 유연탄 4만 500t을...   \n",
       "\n",
       "                             title  article_len sec1  sec_idx  \n",
       "0    \"해경이 가만있으라 방송\" 허위사실 유포 40대 기소          966   사회        4  \n",
       "1  南 점검단 방북…나진-하산 프로젝트 시범운송 시작(종합)         1539   정치        6  \n",
       "2  나진-하산 프로젝트 탄력…시범수송 석탄 포항 도착(종합)         1827   경제        0  "
      ]
     },
     "execution_count": 2,
     "metadata": {},
     "output_type": "execute_result"
    }
   ],
   "source": [
    "df.head(3)"
   ]
  },
  {
   "cell_type": "code",
   "execution_count": 3,
   "metadata": {},
   "outputs": [
    {
     "name": "stdout",
     "output_type": "stream",
     "text": [
      "(443312,)\n",
      "(443312,)\n"
     ]
    }
   ],
   "source": [
    "X = df.article\n",
    "y = df.sec_idx\n",
    "print(X.shape)\n",
    "print(y.shape)"
   ]
  },
  {
   "cell_type": "code",
   "execution_count": 4,
   "metadata": {},
   "outputs": [
    {
     "name": "stdout",
     "output_type": "stream",
     "text": [
      "(376815,)\n",
      "(66497,)\n",
      "(376815,)\n",
      "(66497,)\n"
     ]
    }
   ],
   "source": [
    "from sklearn.model_selection import train_test_split\n",
    "X_train, X_test, y_train, y_test = train_test_split(X, y, test_size=0.15, random_state=1)\n",
    "print(X_train.shape)\n",
    "print(X_test.shape)\n",
    "print(y_train.shape)\n",
    "print(y_test.shape)"
   ]
  },
  {
   "cell_type": "code",
   "execution_count": 5,
   "metadata": {},
   "outputs": [
    {
     "name": "stdout",
     "output_type": "stream",
     "text": [
      "CPU times: user 24 ms, sys: 0 ns, total: 24 ms\n",
      "Wall time: 24.1 ms\n"
     ]
    }
   ],
   "source": [
    "%%time\n",
    "from konlpy.tag import Mecab; m = Mecab()\n",
    "#pos = lambda d: ['/'.join(p) for p in m.pos(d)]\n",
    "def noun_tagger(text):\n",
    "    #return [pos[0] for pos in m.pos(text) if (pos[1] in ['SL','SH','SN']) or pos[1].startswith('NN')]\n",
    "    return [pos[0] for pos in m.pos(text) if pos[1].startswith('NN')]"
   ]
  },
  {
   "cell_type": "markdown",
   "metadata": {},
   "source": [
    "### Summary:\n",
    "    * vect.fit(train) learns the vocabulary of the training data\n",
    "    * vect.transform(train) uses the fitted vocabulary to build a document term matrix from the training data\n",
    "    * vect.transform(test) uses the fitted vocabulary to build a document term matrix from the testing data(and ignores tokens it hasn't seen before)"
   ]
  },
  {
   "cell_type": "code",
   "execution_count": 6,
   "metadata": {
    "collapsed": true
   },
   "outputs": [],
   "source": [
    "stopwords_news=['지난해', '중','말', '뒤', '곳', '군', '위', '개', '간', '건', '이날', '도', '등', '명', '시', '앞', '원', '분', '회', '년', '것', '씨', '일', '월','오전','오후']"
   ]
  },
  {
   "cell_type": "code",
   "execution_count": 7,
   "metadata": {},
   "outputs": [
    {
     "name": "stdout",
     "output_type": "stream",
     "text": [
      "CPU times: user 24min 5s, sys: 18.9 s, total: 24min 24s\n",
      "Wall time: 24min 23s\n"
     ]
    }
   ],
   "source": [
    "%%time\n",
    "from sklearn.feature_extraction.text import TfidfVectorizer\n",
    "vect = TfidfVectorizer(sublinear_tf=True, tokenizer=noun_tagger,stop_words=stopwords_news, ngram_range=(1,3), min_df=5, max_df=.5)\n",
    "X_train_dtm = vect.fit_transform(X_train)"
   ]
  },
  {
   "cell_type": "code",
   "execution_count": 8,
   "metadata": {
    "collapsed": true
   },
   "outputs": [],
   "source": [
    "X_test_dtm = vect.transform(X_test)"
   ]
  },
  {
   "cell_type": "code",
   "execution_count": 9,
   "metadata": {},
   "outputs": [
    {
     "data": {
      "text/plain": [
       "(376815, 2473920)"
      ]
     },
     "execution_count": 9,
     "metadata": {},
     "output_type": "execute_result"
    }
   ],
   "source": [
    "X_train_dtm.shape"
   ]
  },
  {
   "cell_type": "code",
   "execution_count": 10,
   "metadata": {},
   "outputs": [
    {
     "data": {
      "text/plain": [
       "(66497, 2473920)"
      ]
     },
     "execution_count": 10,
     "metadata": {},
     "output_type": "execute_result"
    }
   ],
   "source": [
    "X_test_dtm.shape"
   ]
  },
  {
   "cell_type": "markdown",
   "metadata": {},
   "source": [
    "## save vector & dtm\n",
    "\n",
    "https://stackoverflow.com/questions/29788047/keep-tfidf-result-for-predicting-new-content-using-scikit-for-python\n",
    "https://stackoverflow.com/questions/32764991/how-do-i-store-a-tfidfvectorizer-for-future-use-in-scikit-learn"
   ]
  },
  {
   "cell_type": "code",
   "execution_count": 11,
   "metadata": {
    "collapsed": true
   },
   "outputs": [],
   "source": [
    "import pickle\n",
    "\n",
    "with open(\"yonhap_tfidf_vect.pkl\", 'wb') as handle:\n",
    "    pickle.dump(vect, handle)\n",
    "\n",
    "with open(\"yonhap_dtm.pkl\", 'wb') as handle:\n",
    "    pickle.dump(X_test_dtm, handle)"
   ]
  },
  {
   "cell_type": "code",
   "execution_count": 16,
   "metadata": {
    "collapsed": true
   },
   "outputs": [],
   "source": [
    "# import and instantiate a Multinomial Naive Bayes model\n",
    "from sklearn.naive_bayes import MultinomialNB\n",
    "nb = MultinomialNB(alpha=.001)"
   ]
  },
  {
   "cell_type": "code",
   "execution_count": 17,
   "metadata": {},
   "outputs": [
    {
     "name": "stdout",
     "output_type": "stream",
     "text": [
      "CPU times: user 3.06 s, sys: 176 ms, total: 3.24 s\n",
      "Wall time: 3.24 s\n"
     ]
    },
    {
     "data": {
      "text/plain": [
       "MultinomialNB(alpha=0.001, class_prior=None, fit_prior=True)"
      ]
     },
     "execution_count": 17,
     "metadata": {},
     "output_type": "execute_result"
    }
   ],
   "source": [
    "# train the model using X_train_dtm (timing it with an IPython \"magic command\")\n",
    "%time nb.fit(X_train_dtm, y_train)"
   ]
  },
  {
   "cell_type": "code",
   "execution_count": 18,
   "metadata": {
    "collapsed": true
   },
   "outputs": [],
   "source": [
    "# make class predictions for X_test_dtm\n",
    "y_pred_class = nb.predict(X_test_dtm)"
   ]
  },
  {
   "cell_type": "code",
   "execution_count": 19,
   "metadata": {},
   "outputs": [
    {
     "data": {
      "text/plain": [
       "0.86871588191948512"
      ]
     },
     "execution_count": 19,
     "metadata": {},
     "output_type": "execute_result"
    }
   ],
   "source": [
    "# calculate accuracy of class predictions\n",
    "from sklearn import metrics\n",
    "metrics.accuracy_score(y_test, y_pred_class)"
   ]
  },
  {
   "cell_type": "code",
   "execution_count": 20,
   "metadata": {},
   "outputs": [
    {
     "name": "stdout",
     "output_type": "stream",
     "text": [
      "             precision    recall  f1-score   support\n",
      "\n",
      "         경제       0.93      0.90      0.92     16445\n",
      "         과학       0.47      0.79      0.59       362\n",
      "         국제       0.85      0.90      0.87     12919\n",
      "         문화       0.76      0.90      0.82      3605\n",
      "         사회       0.88      0.83      0.85     17451\n",
      "         생활       0.50      0.76      0.61      1237\n",
      "         정치       0.91      0.86      0.88     14478\n",
      "\n",
      "avg / total       0.88      0.87      0.87     66497\n",
      "\n"
     ]
    }
   ],
   "source": [
    "from sklearn.metrics import classification_report\n",
    "print(classification_report(y_test, y_pred_class, target_names=['경제', '과학', '국제', '문화', '사회', '생활', '정치']))"
   ]
  },
  {
   "cell_type": "markdown",
   "metadata": {},
   "source": [
    "In practice Multinomial NB can be better than Linear SVM in some situations and svm better than NB on other datasets. Apparently t's possible to combine the two approaches to get a very good baseline: projects:nbsvm - Sida I. Wang\n",
    "\n",
    "You can also try non-linear SVMs but often the quadratic complexity of the SMO algorithm (for instance as implemented in libsvm) makes it not practical on datasets with more than 5000 documents. Instead on prefer to use liblinear than can only train linear SVM on large datasets.\n",
    "\n",
    "https://www.quora.com/What-are-the-differences-similarities-between-SVM-Naive-Bayes-for-binary-text-classification-wrt-how-they-are-processing-the-features\n",
    "\n",
    "http://scikit-learn.org/stable/modules/generated/sklearn.svm.SVC.html#sklearn.svm.SVC"
   ]
  },
  {
   "cell_type": "code",
   "execution_count": 21,
   "metadata": {
    "collapsed": true
   },
   "outputs": [],
   "source": [
    "from sklearn import svm\n",
    "#clf = svm.SVC(decision_function_shape='ovo')\n",
    "clfrSVM=svm.LinearSVC(C=1)"
   ]
  },
  {
   "cell_type": "code",
   "execution_count": 22,
   "metadata": {},
   "outputs": [
    {
     "name": "stdout",
     "output_type": "stream",
     "text": [
      "CPU times: user 1min 28s, sys: 704 ms, total: 1min 29s\n",
      "Wall time: 1min 29s\n"
     ]
    },
    {
     "data": {
      "text/plain": [
       "LinearSVC(C=1, class_weight=None, dual=True, fit_intercept=True,\n",
       "     intercept_scaling=1, loss='squared_hinge', max_iter=1000,\n",
       "     multi_class='ovr', penalty='l2', random_state=None, tol=0.0001,\n",
       "     verbose=0)"
      ]
     },
     "execution_count": 22,
     "metadata": {},
     "output_type": "execute_result"
    }
   ],
   "source": [
    "%time clfrSVM.fit(X_train_dtm, y_train)"
   ]
  },
  {
   "cell_type": "code",
   "execution_count": 23,
   "metadata": {
    "collapsed": true
   },
   "outputs": [],
   "source": [
    "y_pred_class_svm = clfrSVM.predict(X_test_dtm)"
   ]
  },
  {
   "cell_type": "code",
   "execution_count": 24,
   "metadata": {},
   "outputs": [
    {
     "data": {
      "text/plain": [
       "0.91334947441237946"
      ]
     },
     "execution_count": 24,
     "metadata": {},
     "output_type": "execute_result"
    }
   ],
   "source": [
    "from sklearn import metrics\n",
    "metrics.accuracy_score(y_test, y_pred_class_svm)"
   ]
  },
  {
   "cell_type": "code",
   "execution_count": 25,
   "metadata": {},
   "outputs": [
    {
     "name": "stdout",
     "output_type": "stream",
     "text": [
      "             precision    recall  f1-score   support\n",
      "\n",
      "         경제       0.95      0.94      0.94     16445\n",
      "         과학       0.76      0.65      0.70       362\n",
      "         국제       0.89      0.93      0.91     12919\n",
      "         문화       0.88      0.88      0.88      3605\n",
      "         사회       0.90      0.91      0.91     17451\n",
      "         생활       0.79      0.62      0.70      1237\n",
      "         정치       0.93      0.91      0.92     14478\n",
      "\n",
      "avg / total       0.91      0.91      0.91     66497\n",
      "\n"
     ]
    }
   ],
   "source": [
    "print(classification_report(y_test, y_pred_class_svm, target_names=['경제', '과학', '국제', '문화', '사회', '생활', '정치']))"
   ]
  },
  {
   "cell_type": "markdown",
   "metadata": {},
   "source": [
    "https://stackoverflow.com/questions/40115043/no-space-left-on-device-error-while-fitting-sklearn-model"
   ]
  },
  {
   "cell_type": "code",
   "execution_count": 26,
   "metadata": {},
   "outputs": [
    {
     "name": "stdout",
     "output_type": "stream",
     "text": [
      "0\n"
     ]
    }
   ],
   "source": [
    "import numpy as np\n",
    "counts = np.bincount(y_pred_class[(y_pred_class!=2) & (y_test==2)])\n",
    "print(np.argmax(counts))"
   ]
  },
  {
   "cell_type": "markdown",
   "metadata": {},
   "source": [
    "After removing short articles to improve accuracy, the accuracy is still around 91% when I use SVM. The main cause can be found belown example. Below articles shows why so many science news articles are predicted as a economics articles. Those articles looks economics articles. I think this happens because the category have chosen by reporters. So mainly due to data error."
   ]
  },
  {
   "cell_type": "code",
   "execution_count": 27,
   "metadata": {},
   "outputs": [
    {
     "data": {
      "text/plain": [
       "134870           아시아인프라투자은행(AIIB) 개소식에서 연설하는 리커창 중국 총리  ...\n",
       "237177           15,000 무너진 일본 주가  소비위축에 대외악재 산적…참의원 선거 ...\n",
       "184399              1년만에 만장일치 결정 \"노동시장 호조·물가상승 고려한 조치, 경...\n",
       "314134           국제유가는 10일(현지시간) 비교적 큰 폭의 오름세를 보였다.     ...\n",
       "29999            LG디스플레이, 베이징서 '아트슬림 프로모션' 행사 개최      LG...\n",
       "131833           중국 인민은행       중국 당국의 유동성 투입에도 춘제(春節·음력설...\n",
       "59946                그리스 재무부가 11일(현지시간) 국제통화기금(IMF) 채무 7...\n",
       "31614            중국인, 미국 내 외국인 주택 거래 '큰손'으로       지난해 미국...\n",
       "196063           런던 남동부의 주택가   \"세 사는 가구 늘고 임차료도 올라 저축은커녕...\n",
       "220499           우버 홈페이지 캡처  '모든 것 위한 우버'로 영역확장…'문어발 확장'...\n",
       "155731            일본의 국가 채무가 사상 최고치를 경신했다.      일본 재무성은 ...\n",
       "129654           한적한 중국 베이징의 한 백화점       중국의 지난해 재정수입 증가...\n",
       "406737          스마트폰에 엇갈린 희비…대만은 작년 아이폰7 덕에 GDP 깜짝 성장   ...\n",
       "46483            지우마 호세프 브라질 대통령       브라질 경제가 원자재 가격 하락...\n",
       "217240           일본 주식 시장   외국인투자 증가 주요인…25년 연속 세계 최대 채권...\n",
       "176502           중국 창업의 산실 중관춘［EPA=연합뉴스 자료사진］       중국에서...\n",
       "94875                세계 최대 원유수입국인 중국이 저장고 포화 때문에 전략비축유(S...\n",
       "196248                  영국의 유럽연합(EU) 이탈(브렉시트·Brexit) 결정 ...\n",
       "99105                유럽 주요 증시는 18일(현지시간) 상승세로 출발했다.     ...\n",
       "132863           중국증시 시세판 지난 20일 중국 베이징의 한 증권사에서 투자자가 컴퓨...\n",
       "406915          달러 부족으로 현대차 생산 5년간 중단 MMC 중역 재개 방침 밝혀  현...\n",
       "343255          \"한국업체들 반도체·OLED 품질 압도…중국도 의존 불가피\"  삼성전자,...\n",
       "206149           홍콩 증권거래소［연합뉴스 자료사진］  홍콩거래소 대표 \"선강퉁 곧 출범...\n",
       "443258          \"韓기업들 중국인 기호와 환경 적응 못해 경쟁력 상실\" 주장  사드 보복...\n",
       "261208           중국 저장성 항저우   홍콩 부동산 거래량 6개월간 39% 급감…25년...\n",
       "301044           456억달러로 2015년과 비교해 두 배 늘어   중국의 대(對)미국 ...\n",
       "91051           FT \"1월 양적완화 발표로 금융시장 분위기 급반전\"       '유로존...\n",
       "333883          필리핀 마켓 이어 중국계 온라인 쇼핑몰 야미바이 MOU…      한국농...\n",
       "235461           일본은행 본점 일본 도쿄도 주오구 니혼바시에 있는 의 2013년 2월 ...\n",
       "74956                세계 각국이 자국 경제 상황에 맞게 기준금리를 조정하거나 동결하...\n",
       "                                ...                        \n",
       "301390            인도의 제조업 경기가 시중에 유통되는 현금의 86%를 차지하던 500...\n",
       "237176                  태국 국가경제사회개발위원회(NESDB)는 15일 4분기 국...\n",
       "319665          전경련·日게이단렌, 내년 봄 한국서 공동 일본 취업 세미나   한일 양국...\n",
       "204165           왕젠린 다롄완다그룹 회장        중국 기업들이 홍콩증시를 떠나는 ...\n",
       "239894               유럽증시가 주요 20개국(G20) 재무장관 및 중앙은행 총재 회...\n",
       "356942          7월 신규 일자리 20만9천개…시간당 임금 소폭 상승   미국의 고용 상...\n",
       "168306         독일 중앙은행인 분데스방크  물가상승률 전망치도 1.1% → 0.2%로 수...\n",
       "135639           샤프 로고       일본 정부 산하 펀드가 위기에 빠진 일본 전자업체...\n",
       "5808              일본은행        마리오 드라기 유럽중앙은행(ECB) 총재의 추가...\n",
       "102943            크리스틴라가르드 IMF 총재   당장 구제금융 제공하겠다는 뜻은 아닌...\n",
       "208413           英 중앙은행 총재        영국 중앙은행인 영란은행(BOE)이 4일...\n",
       "18655                   세계 성장 엔진인 중국의 현재 모습이 과거 일본의 '잃어버...\n",
       "270018           일본 나리타국제공항 입국자 게이트 주변이 각국에서 찾아온 여행객으로 붐...\n",
       "108574           카를로스 곤 닛산자동차 사장(AP.연합뉴스.자료사진)  아베노믹스가 유...\n",
       "256087           아베 총리, 도쿄서 동일본대지진 5주기 기자회견(  정부 교부금·피해배...\n",
       "192958           유로존 인플레 제고 등으로 경제활력 증진 기대   유럽중앙은행(ECB)...\n",
       "33989            엔블록셀-팡정집단의 투자의향서 체결식        한국의 '스타트업'(...\n",
       "397405            일본의 장기금리가 3일 한때 0.150%로 1년만에 최고수준을 기록했...\n",
       "246210           구로다 하루히코 일본은행 총재       유럽중앙은행(ECB)에 이어 ...\n",
       "262601           아베 총리[AFP.연합뉴스.자료사진]       일본 정부는 13일 경...\n",
       "19385            19일 인도 라자스탄 주 자이푸르에서 손윤호(오른쪽) HM디지털 대표이...\n",
       "66881                사우디 아라비아의 대미(對美) 원유 수출이 2009년 금융위기 ...\n",
       "52618              \"성장엔진에서 문제아 전락\" 서방언론 지적에 공세나서        ...\n",
       "35675                영국 중앙은행인 영국은행(BoE)이 4일(현지시간) 정례통화정책...\n",
       "21323            지난달 28일(현지시간) 미국 뉴욕 유엔본부의 총회장에서 시진핑(왼쪽)...\n",
       "222295              * 1분기 특기 사항:      - 현금 EBITDA는 1,950...\n",
       "275135                  중국 국책 연구기관이 이례적으로 국가부채의 위험성을 경고하...\n",
       "6164             주가 충격에 따른 GDP 영향        윤영숙 기자 = 한국이 전 ...\n",
       "46448            \"중국 정년연장 추진，노령화·연금고갈 대비\"     = 중국 정부가 최...\n",
       "149282           기준금리 0.5% 유지…\"주택 시장 둔화·수출 부진\"   캐나다 중앙은...\n",
       "Name: article, Length: 563, dtype: object"
      ]
     },
     "execution_count": 27,
     "metadata": {},
     "output_type": "execute_result"
    }
   ],
   "source": [
    "X_test[(y_pred_class==0) & (y_test==2)]"
   ]
  },
  {
   "cell_type": "code",
   "execution_count": 28,
   "metadata": {},
   "outputs": [
    {
     "data": {
      "text/html": [
       "<div>\n",
       "<style scoped>\n",
       "    .dataframe tbody tr th:only-of-type {\n",
       "        vertical-align: middle;\n",
       "    }\n",
       "\n",
       "    .dataframe tbody tr th {\n",
       "        vertical-align: top;\n",
       "    }\n",
       "\n",
       "    .dataframe thead th {\n",
       "        text-align: right;\n",
       "    }\n",
       "</style>\n",
       "<table border=\"1\" class=\"dataframe\">\n",
       "  <thead>\n",
       "    <tr style=\"text-align: right;\">\n",
       "      <th></th>\n",
       "      <th>article</th>\n",
       "      <th>title</th>\n",
       "      <th>article_len</th>\n",
       "      <th>sec1</th>\n",
       "      <th>sec_idx</th>\n",
       "    </tr>\n",
       "  </thead>\n",
       "  <tbody>\n",
       "    <tr>\n",
       "      <th>247480</th>\n",
       "      <td>인공지능 '알파고'가 이세돌 9단에 3연승하자 중국 일부 ...</td>\n",
       "      <td>&lt;세기의 대국&gt; 중 누리꾼, 중국판 알파고 '마이고'에 기대감</td>\n",
       "      <td>648</td>\n",
       "      <td>국제</td>\n",
       "      <td>2</td>\n",
       "    </tr>\n",
       "  </tbody>\n",
       "</table>\n",
       "</div>"
      ],
      "text/plain": [
       "                                                  article  \\\n",
       "247480                인공지능 '알파고'가 이세돌 9단에 3연승하자 중국 일부 ...   \n",
       "\n",
       "                                     title  article_len sec1  sec_idx  \n",
       "247480  <세기의 대국> 중 누리꾼, 중국판 알파고 '마이고'에 기대감          648   국제        2  "
      ]
     },
     "execution_count": 28,
     "metadata": {},
     "output_type": "execute_result"
    }
   ],
   "source": [
    "df[df.index==247480]"
   ]
  },
  {
   "cell_type": "code",
   "execution_count": 29,
   "metadata": {
    "collapsed": true
   },
   "outputs": [],
   "source": [
    "with open(\"yonhap_svm_clf.pkl\", 'wb') as handle:\n",
    "    pickle.dump(clfrSVM, handle)"
   ]
  },
  {
   "cell_type": "code",
   "execution_count": 30,
   "metadata": {
    "collapsed": true
   },
   "outputs": [],
   "source": [
    "with open(\"yonhap_nb_clf.pkl\", 'wb') as handle:\n",
    "    pickle.dump(nb, handle)"
   ]
  },
  {
   "cell_type": "code",
   "execution_count": null,
   "metadata": {
    "collapsed": true
   },
   "outputs": [],
   "source": []
  }
 ],
 "metadata": {
  "kernelspec": {
   "display_name": "Python 3",
   "language": "python",
   "name": "python3"
  },
  "language_info": {
   "codemirror_mode": {
    "name": "ipython",
    "version": 3
   },
   "file_extension": ".py",
   "mimetype": "text/x-python",
   "name": "python",
   "nbconvert_exporter": "python",
   "pygments_lexer": "ipython3",
   "version": "3.6.2"
  }
 },
 "nbformat": 4,
 "nbformat_minor": 2
}
