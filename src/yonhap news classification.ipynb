{
 "cells": [
  {
   "cell_type": "code",
   "execution_count": 1,
   "metadata": {
    "collapsed": true
   },
   "outputs": [],
   "source": [
    "import pandas as pd\n",
    "df = pd.read_pickle('yonhap_ready.pkl')"
   ]
  },
  {
   "cell_type": "code",
   "execution_count": 2,
   "metadata": {},
   "outputs": [
    {
     "data": {
      "text/html": [
       "<div>\n",
       "<table border=\"1\" class=\"dataframe\">\n",
       "  <thead>\n",
       "    <tr style=\"text-align: right;\">\n",
       "      <th></th>\n",
       "      <th>article</th>\n",
       "      <th>title</th>\n",
       "      <th>article_len</th>\n",
       "      <th>sec1</th>\n",
       "      <th>sec_idx</th>\n",
       "    </tr>\n",
       "  </thead>\n",
       "  <tbody>\n",
       "    <tr>\n",
       "      <th>0</th>\n",
       "      <td>'회장이 청부폭력' 루머 협박범도 기소…사이버명예훼손 전담수사 첫 사례 ...</td>\n",
       "      <td>\"해경이 가만있으라 방송\" 허위사실 유포 40대 기소</td>\n",
       "      <td>979</td>\n",
       "      <td>사회</td>\n",
       "      <td>4</td>\n",
       "    </tr>\n",
       "    <tr>\n",
       "      <th>1</th>\n",
       "      <td>지난 해 9월 북한의 함경북도 항구도시 나진과 러시아 극동지역 도시 ...</td>\n",
       "      <td>南 점검단 방북…나진-하산 프로젝트 시범운송 시작(종합)</td>\n",
       "      <td>1550</td>\n",
       "      <td>정치</td>\n",
       "      <td>6</td>\n",
       "    </tr>\n",
       "    <tr>\n",
       "      <th>2</th>\n",
       "      <td>포항 도착한 화물선       러시아 시베리아산 유연탄 4만 500t을...</td>\n",
       "      <td>나진-하산 프로젝트 탄력…시범수송 석탄 포항 도착(종합)</td>\n",
       "      <td>1827</td>\n",
       "      <td>경제</td>\n",
       "      <td>0</td>\n",
       "    </tr>\n",
       "  </tbody>\n",
       "</table>\n",
       "</div>"
      ],
      "text/plain": [
       "                                             article  \\\n",
       "0        '회장이 청부폭력' 루머 협박범도 기소…사이버명예훼손 전담수사 첫 사례 ...   \n",
       "1          지난 해 9월 북한의 함경북도 항구도시 나진과 러시아 극동지역 도시 ...   \n",
       "2         포항 도착한 화물선       러시아 시베리아산 유연탄 4만 500t을...   \n",
       "\n",
       "                             title  article_len sec1  sec_idx  \n",
       "0    \"해경이 가만있으라 방송\" 허위사실 유포 40대 기소          979   사회        4  \n",
       "1  南 점검단 방북…나진-하산 프로젝트 시범운송 시작(종합)         1550   정치        6  \n",
       "2  나진-하산 프로젝트 탄력…시범수송 석탄 포항 도착(종합)         1827   경제        0  "
      ]
     },
     "execution_count": 2,
     "metadata": {},
     "output_type": "execute_result"
    }
   ],
   "source": [
    "df.head(3)"
   ]
  },
  {
   "cell_type": "code",
   "execution_count": 3,
   "metadata": {},
   "outputs": [
    {
     "name": "stdout",
     "output_type": "stream",
     "text": [
      "(452922,)\n",
      "(452922,)\n"
     ]
    }
   ],
   "source": [
    "X = df.article\n",
    "y = df.sec_idx\n",
    "print(X.shape)\n",
    "print(y.shape)"
   ]
  },
  {
   "cell_type": "code",
   "execution_count": 4,
   "metadata": {},
   "outputs": [
    {
     "name": "stdout",
     "output_type": "stream",
     "text": [
      "(339691,)\n",
      "(113231,)\n",
      "(339691,)\n",
      "(113231,)\n"
     ]
    }
   ],
   "source": [
    "from sklearn.model_selection import train_test_split\n",
    "X_train, X_test, y_train, y_test = train_test_split(X, y, random_state=1)\n",
    "print(X_train.shape)\n",
    "print(X_test.shape)\n",
    "print(y_train.shape)\n",
    "print(y_test.shape)"
   ]
  },
  {
   "cell_type": "code",
   "execution_count": 5,
   "metadata": {},
   "outputs": [
    {
     "name": "stdout",
     "output_type": "stream",
     "text": [
      "CPU times: user 20 ms, sys: 4 ms, total: 24 ms\n",
      "Wall time: 76.7 ms\n"
     ]
    }
   ],
   "source": [
    "%%time\n",
    "from konlpy.tag import Mecab; m = Mecab()\n",
    "#pos = lambda d: ['/'.join(p) for p in m.pos(d)]\n",
    "def noun_tagger(text):\n",
    "    #return [pos[0] for pos in m.pos(text) if (pos[1] in ['SL','SH','SN']) or pos[1].startswith('NN')]\n",
    "    return [pos[0] for pos in m.pos(text) if pos[1].startswith('NN')]"
   ]
  },
  {
   "cell_type": "markdown",
   "metadata": {},
   "source": [
    "### Summary:\n",
    "    * vect.fit(train) learns the vocabulary of the training data\n",
    "    * vect.transform(train) uses the fitted vocabulary to build a document term matrix from the training data\n",
    "    * vect.transform(test) uses the fitted vocabulary to build a document term matrix from the testing data(and ignores tokens it hasn't seen before)"
   ]
  },
  {
   "cell_type": "code",
   "execution_count": 6,
   "metadata": {
    "collapsed": true
   },
   "outputs": [],
   "source": [
    "stopwords_news=['지난해', '중','말', '뒤', '곳', '군', '위', '개', '간', '건', '이날', '도', '등', '명', '시', '앞', '원', '분', '회', '년', '것', '씨', '일', '월','오전','오후']"
   ]
  },
  {
   "cell_type": "code",
   "execution_count": 7,
   "metadata": {},
   "outputs": [
    {
     "name": "stdout",
     "output_type": "stream",
     "text": [
      "CPU times: user 21min 18s, sys: 13.7 s, total: 21min 32s\n",
      "Wall time: 21min 32s\n"
     ]
    }
   ],
   "source": [
    "%%time\n",
    "from sklearn.feature_extraction.text import TfidfVectorizer\n",
    "vect = TfidfVectorizer(tokenizer=noun_tagger,stop_words=stopwords_news, ngram_range=(1,3), min_df=2, max_df=.5)\n",
    "X_train_dtm = vect.fit_transform(X_train)"
   ]
  },
  {
   "cell_type": "code",
   "execution_count": 8,
   "metadata": {
    "collapsed": true
   },
   "outputs": [],
   "source": [
    "X_test_dtm = vect.transform(X_test)"
   ]
  },
  {
   "cell_type": "code",
   "execution_count": 9,
   "metadata": {},
   "outputs": [
    {
     "data": {
      "text/plain": [
       "(339691, 9455550)"
      ]
     },
     "execution_count": 9,
     "metadata": {},
     "output_type": "execute_result"
    }
   ],
   "source": [
    "X_train_dtm.shape"
   ]
  },
  {
   "cell_type": "code",
   "execution_count": 10,
   "metadata": {},
   "outputs": [
    {
     "data": {
      "text/plain": [
       "(113231, 9455550)"
      ]
     },
     "execution_count": 10,
     "metadata": {},
     "output_type": "execute_result"
    }
   ],
   "source": [
    "X_test_dtm.shape"
   ]
  },
  {
   "cell_type": "markdown",
   "metadata": {},
   "source": [
    "## save vector & dtm\n",
    "\n",
    "https://stackoverflow.com/questions/29788047/keep-tfidf-result-for-predicting-new-content-using-scikit-for-python\n",
    "https://stackoverflow.com/questions/32764991/how-do-i-store-a-tfidfvectorizer-for-future-use-in-scikit-learn"
   ]
  },
  {
   "cell_type": "code",
   "execution_count": 11,
   "metadata": {
    "collapsed": true
   },
   "outputs": [],
   "source": [
    "import pickle\n",
    "\n",
    "with open(\"yonhap_tfidf_vect.pkl\", 'wb') as handle:\n",
    "    pickle.dump(vect, handle)\n",
    "\n",
    "with open(\"yonhap_dtm.pkl\", 'wb') as handle:\n",
    "    pickle.dump(X_test_dtm, handle)"
   ]
  },
  {
   "cell_type": "code",
   "execution_count": 12,
   "metadata": {
    "collapsed": true
   },
   "outputs": [],
   "source": [
    "# import and instantiate a Multinomial Naive Bayes model\n",
    "from sklearn.naive_bayes import MultinomialNB\n",
    "nb = MultinomialNB(alpha=.01)"
   ]
  },
  {
   "cell_type": "code",
   "execution_count": 13,
   "metadata": {},
   "outputs": [
    {
     "name": "stdout",
     "output_type": "stream",
     "text": [
      "CPU times: user 5.3 s, sys: 568 ms, total: 5.87 s\n",
      "Wall time: 5.87 s\n"
     ]
    },
    {
     "data": {
      "text/plain": [
       "MultinomialNB(alpha=0.01, class_prior=None, fit_prior=True)"
      ]
     },
     "execution_count": 13,
     "metadata": {},
     "output_type": "execute_result"
    }
   ],
   "source": [
    "# train the model using X_train_dtm (timing it with an IPython \"magic command\")\n",
    "%time nb.fit(X_train_dtm, y_train)"
   ]
  },
  {
   "cell_type": "code",
   "execution_count": 14,
   "metadata": {
    "collapsed": true
   },
   "outputs": [],
   "source": [
    "# make class predictions for X_test_dtm\n",
    "y_pred_class = nb.predict(X_test_dtm)"
   ]
  },
  {
   "cell_type": "code",
   "execution_count": 15,
   "metadata": {},
   "outputs": [
    {
     "data": {
      "text/plain": [
       "0.87247308599235196"
      ]
     },
     "execution_count": 15,
     "metadata": {},
     "output_type": "execute_result"
    }
   ],
   "source": [
    "# calculate accuracy of class predictions\n",
    "from sklearn import metrics\n",
    "metrics.accuracy_score(y_test, y_pred_class)"
   ]
  },
  {
   "cell_type": "code",
   "execution_count": 16,
   "metadata": {},
   "outputs": [
    {
     "name": "stdout",
     "output_type": "stream",
     "text": [
      "             precision    recall  f1-score   support\n",
      "\n",
      "         경제       0.92      0.91      0.91     28062\n",
      "         과학       0.66      0.57      0.61       669\n",
      "         국제       0.85      0.90      0.87     21955\n",
      "         문화       0.75      0.91      0.82      6128\n",
      "         사회       0.88      0.84      0.86     29722\n",
      "         생활       0.55      0.76      0.64      2167\n",
      "         정치       0.91      0.86      0.88     24528\n",
      "\n",
      "avg / total       0.88      0.87      0.87    113231\n",
      "\n"
     ]
    }
   ],
   "source": [
    "from sklearn.metrics import classification_report\n",
    "print(classification_report(y_test, y_pred_class, target_names=['경제', '과학', '국제', '문화', '사회', '생활', '정치']))"
   ]
  },
  {
   "cell_type": "markdown",
   "metadata": {},
   "source": [
    "In practice Multinomial NB can be better than Linear SVM in some situations and svm better than NB on other datasets. Apparently t's possible to combine the two approaches to get a very good baseline: projects:nbsvm - Sida I. Wang\n",
    "\n",
    "You can also try non-linear SVMs but often the quadratic complexity of the SMO algorithm (for instance as implemented in libsvm) makes it not practical on datasets with more than 5000 documents. Instead on prefer to use liblinear than can only train linear SVM on large datasets.\n",
    "\n",
    "https://www.quora.com/What-are-the-differences-similarities-between-SVM-Naive-Bayes-for-binary-text-classification-wrt-how-they-are-processing-the-features\n",
    "\n",
    "http://scikit-learn.org/stable/modules/generated/sklearn.svm.SVC.html#sklearn.svm.SVC"
   ]
  },
  {
   "cell_type": "code",
   "execution_count": 17,
   "metadata": {
    "collapsed": true
   },
   "outputs": [],
   "source": [
    "from sklearn import svm\n",
    "#clf = svm.SVC(decision_function_shape='ovo')\n",
    "clfrSVM=svm.LinearSVC(C=1)"
   ]
  },
  {
   "cell_type": "code",
   "execution_count": 18,
   "metadata": {},
   "outputs": [
    {
     "name": "stdout",
     "output_type": "stream",
     "text": [
      "CPU times: user 2min 13s, sys: 760 ms, total: 2min 14s\n",
      "Wall time: 2min 14s\n"
     ]
    },
    {
     "data": {
      "text/plain": [
       "LinearSVC(C=1, class_weight=None, dual=True, fit_intercept=True,\n",
       "     intercept_scaling=1, loss='squared_hinge', max_iter=1000,\n",
       "     multi_class='ovr', penalty='l2', random_state=None, tol=0.0001,\n",
       "     verbose=0)"
      ]
     },
     "execution_count": 18,
     "metadata": {},
     "output_type": "execute_result"
    }
   ],
   "source": [
    "%time clfrSVM.fit(X_train_dtm, y_train)"
   ]
  },
  {
   "cell_type": "code",
   "execution_count": 19,
   "metadata": {
    "collapsed": true
   },
   "outputs": [],
   "source": [
    "y_pred_class_svm = clfrSVM.predict(X_test_dtm)"
   ]
  },
  {
   "cell_type": "code",
   "execution_count": 20,
   "metadata": {},
   "outputs": [
    {
     "data": {
      "text/plain": [
       "0.90592682216000919"
      ]
     },
     "execution_count": 20,
     "metadata": {},
     "output_type": "execute_result"
    }
   ],
   "source": [
    "from sklearn import metrics\n",
    "metrics.accuracy_score(y_test, y_pred_class_svm)"
   ]
  },
  {
   "cell_type": "code",
   "execution_count": 21,
   "metadata": {},
   "outputs": [
    {
     "name": "stdout",
     "output_type": "stream",
     "text": [
      "             precision    recall  f1-score   support\n",
      "\n",
      "         경제       0.94      0.94      0.94     28062\n",
      "         과학       0.76      0.61      0.68       669\n",
      "         국제       0.89      0.92      0.90     21955\n",
      "         문화       0.87      0.87      0.87      6128\n",
      "         사회       0.89      0.91      0.90     29722\n",
      "         생활       0.81      0.60      0.69      2167\n",
      "         정치       0.93      0.90      0.91     24528\n",
      "\n",
      "avg / total       0.91      0.91      0.91    113231\n",
      "\n"
     ]
    }
   ],
   "source": [
    "print(classification_report(y_test, y_pred_class_svm, target_names=['경제', '과학', '국제', '문화', '사회', '생활', '정치']))"
   ]
  },
  {
   "cell_type": "markdown",
   "metadata": {},
   "source": [
    "https://stackoverflow.com/questions/40115043/no-space-left-on-device-error-while-fitting-sklearn-model"
   ]
  },
  {
   "cell_type": "code",
   "execution_count": 24,
   "metadata": {},
   "outputs": [
    {
     "name": "stdout",
     "output_type": "stream",
     "text": [
      "3\n"
     ]
    }
   ],
   "source": [
    "import numpy as np\n",
    "counts = np.bincount(y_pred_class[(y_pred_class!=4) & (y_test==4)])\n",
    "print(np.argmax(counts))"
   ]
  },
  {
   "cell_type": "code",
   "execution_count": 25,
   "metadata": {},
   "outputs": [
    {
     "data": {
      "text/plain": [
       "282577               국내 유일의 독립애니메이션 영화제 '인디애니페스트 2016'이 ...\n",
       "228246           세월호 추모앨범 'April' 낸 이지혜씨.  네티즌 300여 명 제작...\n",
       "50793            '실크로드 경주 2015' 문화 향연       유라시아 문화특급을 주...\n",
       "135662           곤지암리조트 스키장(연합뉴스 자료사진)        경기도 광주 곤지암...\n",
       "42553                   전주국제영화제 사무처는 17일 기존 '전주 프로젝트: 삼인...\n",
       "373212          마이크 걷어 내고 낮 공연 정례화…국·양악 넘나들며 다양한 실험  내달 ...\n",
       "207900           김혁 선생의 초상화  만주 무장 독립운동 1세대 김혁 선생 손자 김진도...\n",
       "376924       강원 삼척시민이 유럽에서 2018 평창동계올림픽 홍보활동에 나서 화제다.   ...\n",
       "122270             국립장식미술관서 '코리아 나우' 전시 개막       루브르박물관 ...\n",
       "378509           우리나라 최고의 명인·명창 등용문 가운데 하나인 춘향국악대전이 오는 5...\n",
       "441264          광주 메이홀 다음 달 22일까지 시민 작품 접수   5·18 민주화운동을...\n",
       "47896            대전시립미술관(연합뉴스 자료사진)        대전시립미술관은 2일부터...\n",
       "29870              여의도 KBS본관 계단과 벽면 8천여장의 사연판으로 꾸며져     ...\n",
       "66945                  ▲도서출판더알음(대표 서진수)은 빅데이터 활용과 관련해 대학...\n",
       "41660            MBC 방송화면 캡처  뇌섹남·예지앞사·와리가리 등도 화제       ...\n",
       "434171           전북 고창군이 출산율을 높이고 양성평등의식을 확산시키기 위해 진행한 '...\n",
       "291960           '제3회 브런치북 프로젝트' 이벤트 안내        카카오는 콘텐츠 ...\n",
       "162058            경기도립국악단이 내달 독일 베를린필하모니 캄머홀과 스웨덴 스톡홀름 뮤...\n",
       "309710           '제1회 책 읽는 세종 어린이 축제'가 14∼15일 세종시 정부세종컨벤...\n",
       "242393           여행 전 회의를 위해 모인 '팀와일드'  \"청년에게 도전의 의미 알리려...\n",
       "171931               충북지역 여성들의 문화적 소통을 위한 2016 충북여성문화제가 ...\n",
       "170342                  '숲으로 떠나는 영화소풍' 무주산골영화제가 2일 개막식을 ...\n",
       "268212             캐리비안베이도 밤 10시까지 연장       에버랜드와 캐리비안베이...\n",
       "68139            경남 무형문화재 제33호 '함안 낙화놀이' 전경 전경       경남 ...\n",
       "176785               청주YWCA가 오는 23일부터 이틀간 청주시 롯데시네마 아르떼관...\n",
       "207992           '레드닷 커뮤니케이션 디자인상 2016'을 수상한 고려대 유승헌 교수 ...\n",
       "152131             충북대 박걸순·신라대 배경한 교수 등 사학자들 참여해 업적 재조명 ...\n",
       "110574           전남 섬 집중 조명       kbc광주방송(대표 양철훈)은 창사20주...\n",
       "255896                  \"손님 대접을 잘해서 한국 인심을 유커분들이 알고 즐겁게 ...\n",
       "267609             7월16일∼8월20일 6주간 흥행·예술 영화 28편 상영      ...\n",
       "                                ...                        \n",
       "371141           경기문화재단은 쇠락한 마을의 문화적 재생 과정을 담은 책 '행복한 마을...\n",
       "287491           지난해 열린 DMZ국제다큐영화제 개막식   고양·파주·김포·연천서 36...\n",
       "38212            김기현 울산시장(연합뉴스 자료사진)   \"경복궁처럼 울산 랜드마크로 조...\n",
       "435813         기자회견 하는 김선정 광주비엔날레 대표 김선정(52) 신임 광주비엔날레 대...\n",
       "48143                청주불교방송(BBS)이 오는 12일 오후 6시 청주대 석우문화체...\n",
       "368189          경기도청사 구관도 문화재 등록 예고…진산 성지성당 등은 문화재 등록  문...\n",
       "122071           사진=사랑의달팽이       배우 장근석의 팬클럽 '크리제이'가 청각장...\n",
       "377207           서울문화재단 잠실창작스튜디오는 장애아동·청소년의 예술 재능을 찾아 지원...\n",
       "263161           '신(神) 바람 축제' 제주 영등퍼레이드     8일 제주시 한림읍 한...\n",
       "409327          오는 10일 첫 창단 공연…1년에 두 차례 정기 공연 예정   \"나를 울...\n",
       "109311             열대야 기승…잘 살피면 '공짜 음악회' 많아, 포천선 '밤하늘 별보...\n",
       "167742           '허황후 신행길 축제' 풍성…레전드 사과 '청송 사과축제' 4일 개막 ...\n",
       "249944             하동 악양중 전교생이 세번째 낸 시집...작품 130여편 실려   ...\n",
       "149924            푸드트럭, 핸드메이드 작가, 공연팀 등이 다양한 먹거리와 볼거리를 제...\n",
       "143465           금련산 은하축제        부산 금련산청소년수련원은 8일 오후 5시부...\n",
       "85720                한국사진기자협회 인천지부는 오는 27일부터 3월 5일까지 인천종...\n",
       "207361           남원 삼동굿놀이       음력 칠월 백중(百中)인 17일 전북 남원시...\n",
       "232257           꼬마 하루방 '제돌이'      '제주어 지킴이' 캐릭터 꼬마 하루방 ...\n",
       "128624               \"그 시절 왔다리 갔다리 춤추던 모습이 그립습니다. 삼가 고인의...\n",
       "281878           촬영지로 인기 끄는 '킨텍스'  2014년 125회→작년 130회→올해...\n",
       "87461                경상북도독립운동기념관은 제96주년 3·1절을 맞아 특별기획 전시...\n",
       "5248                 노인문제를 주제로 한 '제10회 정읍 전국실버영화제'가 내달 3...\n",
       "160280           서산선생문집    한국국학진흥원은 서산 김흥락(西山 金興洛·1827∼1...\n",
       "195406            일본군 위안부 피해자 유네스코 세계기록유산 등재 신청에 맞춰  유엔에...\n",
       "442777           전북대 신문방송사와 혼불기념사업회·최명희문학관이 '2017 가람 이병기...\n",
       "69384                제주 방선문(訪仙門) 문화예술축제가 9일 개막했다.       ...\n",
       "216113                  국내외 비보이들의 한바탕 축제인 '제10회 전주 비보이(B...\n",
       "358464          2개 코스로 5·18묘지·옛 도청 등 답사…택시운전사 현장 해설   5·...\n",
       "433461           전주대가 일본 원아시아재단과 손잡고 '아시아 공동체와 디아스포라(Dia...\n",
       "346735          해운대비치 사나이 격투기대회, 복싱·K-1 경기…경남 남해에선 마늘-한우...\n",
       "Name: article, dtype: object"
      ]
     },
     "execution_count": 25,
     "metadata": {},
     "output_type": "execute_result"
    }
   ],
   "source": [
    "X_test[(y_pred_class==3) & (y_test==4)]"
   ]
  },
  {
   "cell_type": "code",
   "execution_count": 26,
   "metadata": {},
   "outputs": [
    {
     "data": {
      "text/html": [
       "<div>\n",
       "<table border=\"1\" class=\"dataframe\">\n",
       "  <thead>\n",
       "    <tr style=\"text-align: right;\">\n",
       "      <th></th>\n",
       "      <th>article</th>\n",
       "      <th>title</th>\n",
       "      <th>sec1</th>\n",
       "      <th>sec_idx</th>\n",
       "    </tr>\n",
       "  </thead>\n",
       "  <tbody>\n",
       "    <tr>\n",
       "      <th>421591</th>\n",
       "      <td>최신 유행 트렌드 총집결 #흥(클릭!)</td>\n",
       "      <td>코미 \"FBI, 러시아 대선개입…트럼프팀과 공모 수사중\"(속보)</td>\n",
       "      <td>국제</td>\n",
       "      <td>2</td>\n",
       "    </tr>\n",
       "  </tbody>\n",
       "</table>\n",
       "</div>"
      ],
      "text/plain": [
       "                               article                                title  \\\n",
       "421591       최신 유행 트렌드 총집결 #흥(클릭!)      코미 \"FBI, 러시아 대선개입…트럼프팀과 공모 수사중\"(속보)   \n",
       "\n",
       "       sec1  sec_idx  \n",
       "421591   국제        2  "
      ]
     },
     "execution_count": 26,
     "metadata": {},
     "output_type": "execute_result"
    }
   ],
   "source": [
    "df[df.index==421591]"
   ]
  },
  {
   "cell_type": "code",
   "execution_count": 26,
   "metadata": {
    "collapsed": true
   },
   "outputs": [],
   "source": [
    "with open(\"yonhap_svm_clf.pkl\", 'wb') as handle:\n",
    "    pickle.dump(clfrSVM, handle)"
   ]
  },
  {
   "cell_type": "code",
   "execution_count": 27,
   "metadata": {
    "collapsed": true
   },
   "outputs": [],
   "source": [
    "with open(\"yonhap_nb_clf.pkl\", 'wb') as handle:\n",
    "    pickle.dump(nb, handle)"
   ]
  },
  {
   "cell_type": "code",
   "execution_count": null,
   "metadata": {
    "collapsed": true
   },
   "outputs": [],
   "source": []
  }
 ],
 "metadata": {
  "kernelspec": {
   "display_name": "Python 3",
   "language": "python",
   "name": "python3"
  },
  "language_info": {
   "codemirror_mode": {
    "name": "ipython",
    "version": 3
   },
   "file_extension": ".py",
   "mimetype": "text/x-python",
   "name": "python",
   "nbconvert_exporter": "python",
   "pygments_lexer": "ipython3",
   "version": "3.6.2"
  }
 },
 "nbformat": 4,
 "nbformat_minor": 2
}
