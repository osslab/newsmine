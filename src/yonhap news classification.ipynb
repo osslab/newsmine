{
 "cells": [
  {
   "cell_type": "code",
   "execution_count": 1,
   "metadata": {
    "collapsed": true
   },
   "outputs": [],
   "source": [
    "import pandas as pd\n",
    "df = pd.read_pickle('yonhap_ready.pkl')"
   ]
  },
  {
   "cell_type": "code",
   "execution_count": 2,
   "metadata": {},
   "outputs": [
    {
     "data": {
      "text/html": [
       "<div>\n",
       "<table border=\"1\" class=\"dataframe\">\n",
       "  <thead>\n",
       "    <tr style=\"text-align: right;\">\n",
       "      <th></th>\n",
       "      <th>article</th>\n",
       "      <th>title</th>\n",
       "      <th>sec1</th>\n",
       "      <th>sec_idx</th>\n",
       "    </tr>\n",
       "  </thead>\n",
       "  <tbody>\n",
       "    <tr>\n",
       "      <th>0</th>\n",
       "      <td>'회장이 청부폭력' 루머 협박범도 기소…사이버명예훼손 전담수사 첫 사례 ...</td>\n",
       "      <td>\"해경이 가만있으라 방송\" 허위사실 유포 40대 기소</td>\n",
       "      <td>사회</td>\n",
       "      <td>4</td>\n",
       "    </tr>\n",
       "    <tr>\n",
       "      <th>1</th>\n",
       "      <td>지난 해 9월 북한의 함경북도 항구도시 나진과 러시아 극동지역 도시 ...</td>\n",
       "      <td>南 점검단 방북…나진-하산 프로젝트 시범운송 시작(종합)</td>\n",
       "      <td>정치</td>\n",
       "      <td>6</td>\n",
       "    </tr>\n",
       "    <tr>\n",
       "      <th>2</th>\n",
       "      <td>포항 도착한 화물선       러시아 시베리아산 유연탄 4만 500t을...</td>\n",
       "      <td>나진-하산 프로젝트 탄력…시범수송 석탄 포항 도착(종합)</td>\n",
       "      <td>경제</td>\n",
       "      <td>0</td>\n",
       "    </tr>\n",
       "  </tbody>\n",
       "</table>\n",
       "</div>"
      ],
      "text/plain": [
       "                                             article  \\\n",
       "0        '회장이 청부폭력' 루머 협박범도 기소…사이버명예훼손 전담수사 첫 사례 ...   \n",
       "1          지난 해 9월 북한의 함경북도 항구도시 나진과 러시아 극동지역 도시 ...   \n",
       "2         포항 도착한 화물선       러시아 시베리아산 유연탄 4만 500t을...   \n",
       "\n",
       "                             title sec1  sec_idx  \n",
       "0    \"해경이 가만있으라 방송\" 허위사실 유포 40대 기소   사회        4  \n",
       "1  南 점검단 방북…나진-하산 프로젝트 시범운송 시작(종합)   정치        6  \n",
       "2  나진-하산 프로젝트 탄력…시범수송 석탄 포항 도착(종합)   경제        0  "
      ]
     },
     "execution_count": 2,
     "metadata": {},
     "output_type": "execute_result"
    }
   ],
   "source": [
    "df.head(3)"
   ]
  },
  {
   "cell_type": "code",
   "execution_count": 3,
   "metadata": {},
   "outputs": [
    {
     "name": "stdout",
     "output_type": "stream",
     "text": [
      "(458081,)\n",
      "(458081,)\n"
     ]
    }
   ],
   "source": [
    "X = df.article\n",
    "y = df.sec_idx\n",
    "print(X.shape)\n",
    "print(y.shape)"
   ]
  },
  {
   "cell_type": "code",
   "execution_count": 4,
   "metadata": {},
   "outputs": [
    {
     "name": "stdout",
     "output_type": "stream",
     "text": [
      "(343560,)\n",
      "(114521,)\n",
      "(343560,)\n",
      "(114521,)\n"
     ]
    }
   ],
   "source": [
    "from sklearn.model_selection import train_test_split\n",
    "X_train, X_test, y_train, y_test = train_test_split(X, y, random_state=1)\n",
    "print(X_train.shape)\n",
    "print(X_test.shape)\n",
    "print(y_train.shape)\n",
    "print(y_test.shape)"
   ]
  },
  {
   "cell_type": "code",
   "execution_count": 5,
   "metadata": {},
   "outputs": [
    {
     "name": "stdout",
     "output_type": "stream",
     "text": [
      "CPU times: user 20 ms, sys: 4 ms, total: 24 ms\n",
      "Wall time: 60.9 ms\n"
     ]
    }
   ],
   "source": [
    "%%time\n",
    "from konlpy.tag import Mecab; m = Mecab()\n",
    "#pos = lambda d: ['/'.join(p) for p in m.pos(d)]\n",
    "def noun_tagger(text):\n",
    "    #return [pos[0] for pos in m.pos(text) if (pos[1] in ['SL','SH','SN']) or pos[1].startswith('NN')]\n",
    "    return [pos[0] for pos in m.pos(text) if pos[1].startswith('NN')]"
   ]
  },
  {
   "cell_type": "markdown",
   "metadata": {},
   "source": [
    "### Summary:\n",
    "    * vect.fit(train) learns the vocabulary of the training data\n",
    "    * vect.transform(train) uses the fitted vocabulary to build a document term matrix from the training data\n",
    "    * vect.transform(test) uses the fitted vocabulary to build a document term matrix from the testing data(and ignores tokens it hasn't seen before)"
   ]
  },
  {
   "cell_type": "code",
   "execution_count": 6,
   "metadata": {
    "collapsed": true
   },
   "outputs": [],
   "source": [
    "stopwords_news=['지난해', '중','말', '뒤', '곳', '군', '위', '개', '간', '건', '이날', '도', '등', '명', '시', '앞', '원', '분', '회', '년', '것', '씨', '일', '월','오전','오후']"
   ]
  },
  {
   "cell_type": "code",
   "execution_count": 7,
   "metadata": {},
   "outputs": [
    {
     "name": "stdout",
     "output_type": "stream",
     "text": [
      "CPU times: user 19min 26s, sys: 15.5 s, total: 19min 42s\n",
      "Wall time: 19min 42s\n"
     ]
    }
   ],
   "source": [
    "%%time\n",
    "from sklearn.feature_extraction.text import TfidfVectorizer\n",
    "vect = TfidfVectorizer(tokenizer=noun_tagger,stop_words=stopwords_news, ngram_range=(1,3), min_df=2, max_df=.5)\n",
    "X_train_dtm = vect.fit_transform(X_train)"
   ]
  },
  {
   "cell_type": "code",
   "execution_count": 8,
   "metadata": {
    "collapsed": true
   },
   "outputs": [],
   "source": [
    "X_test_dtm = vect.transform(X_test)"
   ]
  },
  {
   "cell_type": "code",
   "execution_count": 9,
   "metadata": {},
   "outputs": [
    {
     "data": {
      "text/plain": [
       "(343560, 9371220)"
      ]
     },
     "execution_count": 9,
     "metadata": {},
     "output_type": "execute_result"
    }
   ],
   "source": [
    "X_train_dtm.shape"
   ]
  },
  {
   "cell_type": "code",
   "execution_count": 10,
   "metadata": {},
   "outputs": [
    {
     "data": {
      "text/plain": [
       "(114521, 9371220)"
      ]
     },
     "execution_count": 10,
     "metadata": {},
     "output_type": "execute_result"
    }
   ],
   "source": [
    "X_test_dtm.shape"
   ]
  },
  {
   "cell_type": "markdown",
   "metadata": {},
   "source": [
    "## save vector & dtm\n",
    "\n",
    "https://stackoverflow.com/questions/29788047/keep-tfidf-result-for-predicting-new-content-using-scikit-for-python\n",
    "https://stackoverflow.com/questions/32764991/how-do-i-store-a-tfidfvectorizer-for-future-use-in-scikit-learn"
   ]
  },
  {
   "cell_type": "code",
   "execution_count": 11,
   "metadata": {
    "collapsed": true
   },
   "outputs": [],
   "source": [
    "import pickle\n",
    "\n",
    "with open(\"yonhap_tfidf_vect.pkl\", 'wb') as handle:\n",
    "    pickle.dump(vect, handle)\n",
    "\n",
    "with open(\"yonhap_dtm.pkl\", 'wb') as handle:\n",
    "    pickle.dump(X_test_dtm, handle)"
   ]
  },
  {
   "cell_type": "code",
   "execution_count": 12,
   "metadata": {
    "collapsed": true
   },
   "outputs": [],
   "source": [
    "# import and instantiate a Multinomial Naive Bayes model\n",
    "from sklearn.naive_bayes import MultinomialNB\n",
    "nb = MultinomialNB(alpha=.01)"
   ]
  },
  {
   "cell_type": "code",
   "execution_count": 13,
   "metadata": {},
   "outputs": [
    {
     "name": "stdout",
     "output_type": "stream",
     "text": [
      "CPU times: user 5.59 s, sys: 496 ms, total: 6.09 s\n",
      "Wall time: 6.09 s\n"
     ]
    },
    {
     "data": {
      "text/plain": [
       "MultinomialNB(alpha=0.01, class_prior=None, fit_prior=True)"
      ]
     },
     "execution_count": 13,
     "metadata": {},
     "output_type": "execute_result"
    }
   ],
   "source": [
    "# train the model using X_train_dtm (timing it with an IPython \"magic command\")\n",
    "%time nb.fit(X_train_dtm, y_train)"
   ]
  },
  {
   "cell_type": "code",
   "execution_count": 14,
   "metadata": {
    "collapsed": true
   },
   "outputs": [],
   "source": [
    "# make class predictions for X_test_dtm\n",
    "y_pred_class = nb.predict(X_test_dtm)"
   ]
  },
  {
   "cell_type": "code",
   "execution_count": 15,
   "metadata": {},
   "outputs": [
    {
     "data": {
      "text/plain": [
       "0.85785139843347513"
      ]
     },
     "execution_count": 15,
     "metadata": {},
     "output_type": "execute_result"
    }
   ],
   "source": [
    "# calculate accuracy of class predictions\n",
    "from sklearn import metrics\n",
    "metrics.accuracy_score(y_test, y_pred_class)"
   ]
  },
  {
   "cell_type": "code",
   "execution_count": 16,
   "metadata": {},
   "outputs": [
    {
     "name": "stdout",
     "output_type": "stream",
     "text": [
      "             precision    recall  f1-score   support\n",
      "\n",
      "         경제       0.91      0.89      0.90     29038\n",
      "         과학       0.61      0.54      0.57       645\n",
      "         국제       0.85      0.89      0.87     22269\n",
      "         문화       0.75      0.91      0.82      6086\n",
      "         사회       0.83      0.84      0.84     29780\n",
      "         생활       0.54      0.74      0.62      2183\n",
      "         정치       0.92      0.82      0.87     24520\n",
      "\n",
      "avg / total       0.86      0.86      0.86    114521\n",
      "\n"
     ]
    }
   ],
   "source": [
    "from sklearn.metrics import classification_report\n",
    "print(classification_report(y_test, y_pred_class, target_names=['경제', '과학', '국제', '문화', '사회', '생활', '정치']))"
   ]
  },
  {
   "cell_type": "markdown",
   "metadata": {},
   "source": [
    "In practice Multinomial NB can be better than Linear SVM in some situations and svm better than NB on other datasets. Apparently t's possible to combine the two approaches to get a very good baseline: projects:nbsvm - Sida I. Wang\n",
    "\n",
    "You can also try non-linear SVMs but often the quadratic complexity of the SMO algorithm (for instance as implemented in libsvm) makes it not practical on datasets with more than 5000 documents. Instead on prefer to use liblinear than can only train linear SVM on large datasets.\n",
    "\n",
    "https://www.quora.com/What-are-the-differences-similarities-between-SVM-Naive-Bayes-for-binary-text-classification-wrt-how-they-are-processing-the-features\n",
    "\n",
    "http://scikit-learn.org/stable/modules/generated/sklearn.svm.SVC.html#sklearn.svm.SVC"
   ]
  },
  {
   "cell_type": "code",
   "execution_count": 18,
   "metadata": {
    "collapsed": true
   },
   "outputs": [],
   "source": [
    "from sklearn import svm\n",
    "#clf = svm.SVC(decision_function_shape='ovo')\n",
    "clfrSVM=svm.LinearSVC(C=1)"
   ]
  },
  {
   "cell_type": "code",
   "execution_count": 19,
   "metadata": {},
   "outputs": [
    {
     "name": "stdout",
     "output_type": "stream",
     "text": [
      "CPU times: user 2min, sys: 740 ms, total: 2min\n",
      "Wall time: 2min\n"
     ]
    },
    {
     "data": {
      "text/plain": [
       "LinearSVC(C=1, class_weight=None, dual=True, fit_intercept=True,\n",
       "     intercept_scaling=1, loss='squared_hinge', max_iter=1000,\n",
       "     multi_class='ovr', penalty='l2', random_state=None, tol=0.0001,\n",
       "     verbose=0)"
      ]
     },
     "execution_count": 19,
     "metadata": {},
     "output_type": "execute_result"
    }
   ],
   "source": [
    "%time clfrSVM.fit(X_train_dtm, y_train)"
   ]
  },
  {
   "cell_type": "code",
   "execution_count": 20,
   "metadata": {
    "collapsed": true
   },
   "outputs": [],
   "source": [
    "y_pred_class_svm = clfrSVM.predict(X_test_dtm)"
   ]
  },
  {
   "cell_type": "code",
   "execution_count": 21,
   "metadata": {},
   "outputs": [
    {
     "data": {
      "text/plain": [
       "0.89598414264632686"
      ]
     },
     "execution_count": 21,
     "metadata": {},
     "output_type": "execute_result"
    }
   ],
   "source": [
    "from sklearn import metrics\n",
    "metrics.accuracy_score(y_test, y_pred_class_svm)"
   ]
  },
  {
   "cell_type": "code",
   "execution_count": 22,
   "metadata": {},
   "outputs": [
    {
     "name": "stdout",
     "output_type": "stream",
     "text": [
      "             precision    recall  f1-score   support\n",
      "\n",
      "         경제       0.90      0.94      0.92     29038\n",
      "         과학       0.73      0.58      0.65       645\n",
      "         국제       0.89      0.91      0.90     22269\n",
      "         문화       0.88      0.87      0.87      6086\n",
      "         사회       0.89      0.90      0.90     29780\n",
      "         생활       0.79      0.60      0.68      2183\n",
      "         정치       0.92      0.87      0.89     24520\n",
      "\n",
      "avg / total       0.90      0.90      0.90    114521\n",
      "\n"
     ]
    }
   ],
   "source": [
    "print(classification_report(y_test, y_pred_class_svm, target_names=['경제', '과학', '국제', '문화', '사회', '생활', '정치']))"
   ]
  },
  {
   "cell_type": "markdown",
   "metadata": {},
   "source": [
    "https://stackoverflow.com/questions/40115043/no-space-left-on-device-error-while-fitting-sklearn-model"
   ]
  },
  {
   "cell_type": "code",
   "execution_count": 23,
   "metadata": {},
   "outputs": [
    {
     "name": "stdout",
     "output_type": "stream",
     "text": [
      "0\n"
     ]
    }
   ],
   "source": [
    "import numpy as np\n",
    "counts = np.bincount(y_pred_class[(y_pred_class!=2) & (y_test==2)])\n",
    "print(np.argmax(counts))"
   ]
  },
  {
   "cell_type": "code",
   "execution_count": 24,
   "metadata": {},
   "outputs": [
    {
     "data": {
      "text/plain": [
       "340928           지난달 캐나다 일자리가 3만5천개 늘어 11개월 연속 증가 행진을 기록...\n",
       "186273             보스턴컨설팅그룹 \"내년 아태지역이 두 번째로 부유해져\" 전망    ...\n",
       "16170            상파울루 증권사 직원       브라질 중앙은행이 기준금리를 연 14....\n",
       "4584             베트남 하노이에 있는 한 휴대전화 매장. 삼성전자와 애플 등의 각종 모...\n",
       "239631           오쓰카가구의 창업자인 오쓰카 가쓰히사(勝久·왼쪽) 전 회장과 그의 딸인...\n",
       "115583           14일 베이징에서 리진자오 중국 국가여유국장과의 회담을 마친 뒤 한국 ...\n",
       "308586            애플이 20일(현지시간) 세계 최대 모바일 칩 메이커인 퀄컴에 10억...\n",
       "315779           철강업체 고베(神戶)제강의 품질 조작과 닛산(日産)자동차의 무자격 직원...\n",
       "445302           11일 연속 절상되던 위안화가 다시 약세로 돌아선 가운데 중국 당국이 ...\n",
       "38023            아마리 아키라 일본 경제재생담당상(AFP.연합뉴스.자료사진)  두 분기...\n",
       "39151            증권사 객장에서 생각에 빠진 중국 투자자       중국 증시 강세의 ...\n",
       "390413                            최신 유행 트렌드 총집결 #흥(클릭!)    \n",
       "161753           세계최대 중장비업체 '캐터필러' 주가 7.7% 폭등   '인프라 재건'...\n",
       "402750           독일 최대 은행인 도이체방크에 중국 자본이 손을 뻗기 시작했다.  독일...\n",
       "2635             베트남의 한 의류공장       베트남 의류산업이 급성장하며 세계적인 ...\n",
       "427180           산업소비재 중심으로 사업구조를 재편 중인 미국의 제너럴일렉트릭(GE)이...\n",
       "349881                               최신 유행 트렌드 총집결(클릭!)    \n",
       "390420                            최신 유행 트렌드 총집결 #흥(클릭!)    \n",
       "255521           파나소닉 믹서 지난 1월초 미국 라스베이거스에서 열린 국제전자제품박람회...\n",
       "231957           아소 다로 일본 부총리 겸 재무상   엔화 급등시 개입 시사…달러당 1...\n",
       "355096                            최신 유행 트렌드 총집결 #흥(클릭!)    \n",
       "28835           구제금융 협상 파국 위기 속 자금줄 유지하되 한도 현행 유지  독일 정당...\n",
       "223887             GDP 3.6% 위축·파운드화 12% 하락…브렉시트 단기영향 보고서...\n",
       "139261               중국이 산업에서 서비스로, 수출에서 소비로 전환하는 역사적인 경...\n",
       "205005             \"수출 16개월 연속 감소…실업률 22개월 만에 최고\"       ...\n",
       "326929         트럼프, 미 연준 의장에 파월 공식 지명 (PG) 일러스트  ◇ 저금리에 ...\n",
       "438521           중국 당국이 최근 자금 지원 중단을 지시한 다롄완다(大連萬達)그룹에 도...\n",
       "249248           가오후청 상무부장<>  소비의 경제성장 공헌도 66%로 급증      ...\n",
       "442565                               최신 유행 트렌드 총집결(클릭!)    \n",
       "183898                  최근 중국에서 온라인 가상 화폐인 비트코인 매집 열풍이 불...\n",
       "                                ...                        \n",
       "18665                   세계적인 명품업체인 루이뷔통이 중국의 경기둔화에 직격탄을 ...\n",
       "334156          컨설팅업체들 \"中 중산층·전문직 여성 주고객층…맞춤전략 필요\"  스페인 ...\n",
       "50933                               인민은행 위안화 환율개혁 관련 긴급기자회견\n",
       "244238                  일본은행의 마이너스 금리 결정 이후 5일 일본 국채시장에서...\n",
       "293769            구로다 하루히코 일본은행 총재가 지난 21일 도쿄의 일본은행 본점에서...\n",
       "245926           데이비드 캐머런 영국 총리       영국이 유럽연합(EU)에서 탈퇴하...\n",
       "262674           루블화 가치 폭락       러시아 중앙은행이 지난해 9월부터 다섯 차...\n",
       "449110         베이징서 열린 베이징현대 행사    고고도 미사일 방어체계(THAAD·사드...\n",
       "268555           걸프만 주변 카르크섬의 석유수출용 파이프라인  골드만삭스, 1998~1...\n",
       "426197          美보호무역주의 심화·금리 추가인상 겹치면 세계 불황 불가피  중국 수요감...\n",
       "415605                            최신 유행 트렌드 총집결 #흥(클릭!)    \n",
       "171753            독일 유명 백화점인 베를린 카데베 백화점에서 한국식품 전시 판촉전이 ...\n",
       "320391         기사 문의(기사 제목을 꼭 알려주세요) 및 제보는 여기로(클릭!)  최신 ...\n",
       "24132            태국 바트화       태국중앙은행(BOT)은 물가상승세, 미국의 금리...\n",
       "231202           롯데 도쿄 면세점   중국도 19개 공항에 설치 방침…한국은 업계 이해...\n",
       "138544             다보스포럼 경제전망 세션에서 올해 3.4%·내년 3.6% 성장 전망...\n",
       "444903           일본 정부가 국내 소비가 감소하는 쌀 수출을 늘리기로 하고 해외시장 개...\n",
       "21465                유럽증시가 유가 하락에 약세로 시작했다.       12일(런던...\n",
       "421591                            최신 유행 트렌드 총집결 #흥(클릭!)    \n",
       "318945          -- 한국 전력 시스템에 새로운 블록 체인 기술 도입  [편집자 주] 본...\n",
       "315047         기자가 기다려요. 기사 문의 및 제보는 여기로(클릭!)  최신 유행 트렌드...\n",
       "284031           도쿄의 일본 재무성 전경  2015회계연도 결산 전망치…전체 세입은 1...\n",
       "238231           일본 도쿄항  3월 수출 6.8% 줄어…무역수지 7천550억엔 흑자  ...\n",
       "139146               이란 제재 해제를 전후해 줄곧 하락해온 국제유가가 19일(현지시...\n",
       "404878          임금상승률 사상 최저 수준…87% \"내 집 장만 어려워\"   많은 호주인...\n",
       "207427           2016년 5월 일본 미에현 이세시의 한 전시장에서 일본의 첨단 기술 ...\n",
       "69687                사우디 아라비아의 대미(對美) 원유 수출이 2009년 금융위기 ...\n",
       "409629           중국에서 전자상거래로 인한 택배물량 증가로 환경에 대한 우려도 커지고 ...\n",
       "272841           중국 상하이 아파트 단지         최근 중국 부유층이 위안화 절하...\n",
       "194197           시진핑 반부패 사정에 수년간 소비급락후 설 앞두고 반등   시진핑(習近...\n",
       "Name: article, dtype: object"
      ]
     },
     "execution_count": 24,
     "metadata": {},
     "output_type": "execute_result"
    }
   ],
   "source": [
    "X_test[(y_pred_class==0) & (y_test==2)]"
   ]
  },
  {
   "cell_type": "code",
   "execution_count": 26,
   "metadata": {},
   "outputs": [
    {
     "data": {
      "text/html": [
       "<div>\n",
       "<table border=\"1\" class=\"dataframe\">\n",
       "  <thead>\n",
       "    <tr style=\"text-align: right;\">\n",
       "      <th></th>\n",
       "      <th>article</th>\n",
       "      <th>title</th>\n",
       "      <th>sec1</th>\n",
       "      <th>sec_idx</th>\n",
       "    </tr>\n",
       "  </thead>\n",
       "  <tbody>\n",
       "    <tr>\n",
       "      <th>421591</th>\n",
       "      <td>최신 유행 트렌드 총집결 #흥(클릭!)</td>\n",
       "      <td>코미 \"FBI, 러시아 대선개입…트럼프팀과 공모 수사중\"(속보)</td>\n",
       "      <td>국제</td>\n",
       "      <td>2</td>\n",
       "    </tr>\n",
       "  </tbody>\n",
       "</table>\n",
       "</div>"
      ],
      "text/plain": [
       "                               article                                title  \\\n",
       "421591       최신 유행 트렌드 총집결 #흥(클릭!)      코미 \"FBI, 러시아 대선개입…트럼프팀과 공모 수사중\"(속보)   \n",
       "\n",
       "       sec1  sec_idx  \n",
       "421591   국제        2  "
      ]
     },
     "execution_count": 26,
     "metadata": {},
     "output_type": "execute_result"
    }
   ],
   "source": [
    "df[df.index==421591]"
   ]
  },
  {
   "cell_type": "code",
   "execution_count": 25,
   "metadata": {
    "collapsed": true
   },
   "outputs": [],
   "source": [
    "with open(\"yonhap_svm_clf.pkl\", 'wb') as handle:\n",
    "    pickle.dump(clfrSVM, handle)"
   ]
  },
  {
   "cell_type": "code",
   "execution_count": 26,
   "metadata": {
    "collapsed": true
   },
   "outputs": [],
   "source": [
    "with open(\"yonhap_nb_clf.pkl\", 'wb') as handle:\n",
    "    pickle.dump(nb, handle)"
   ]
  },
  {
   "cell_type": "code",
   "execution_count": null,
   "metadata": {
    "collapsed": true
   },
   "outputs": [],
   "source": []
  }
 ],
 "metadata": {
  "kernelspec": {
   "display_name": "Python 3",
   "language": "python",
   "name": "python3"
  },
  "language_info": {
   "codemirror_mode": {
    "name": "ipython",
    "version": 3
   },
   "file_extension": ".py",
   "mimetype": "text/x-python",
   "name": "python",
   "nbconvert_exporter": "python",
   "pygments_lexer": "ipython3",
   "version": "3.6.2"
  }
 },
 "nbformat": 4,
 "nbformat_minor": 2
}
