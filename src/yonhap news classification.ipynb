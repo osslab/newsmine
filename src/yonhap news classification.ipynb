{
 "cells": [
  {
   "cell_type": "code",
   "execution_count": 1,
   "metadata": {
    "collapsed": true
   },
   "outputs": [],
   "source": [
    "import pandas as pd\n",
    "df = pd.read_pickle('yonhap_ready.pkl')"
   ]
  },
  {
   "cell_type": "code",
   "execution_count": 2,
   "metadata": {},
   "outputs": [
    {
     "data": {
      "text/html": [
       "<div>\n",
       "<table border=\"1\" class=\"dataframe\">\n",
       "  <thead>\n",
       "    <tr style=\"text-align: right;\">\n",
       "      <th></th>\n",
       "      <th>article</th>\n",
       "      <th>title</th>\n",
       "      <th>sec1</th>\n",
       "      <th>sec_idx</th>\n",
       "    </tr>\n",
       "  </thead>\n",
       "  <tbody>\n",
       "    <tr>\n",
       "      <th>0</th>\n",
       "      <td>'회장이 청부폭력' 루머 협박범도 기소…사이버명예훼손 전담수사 첫 사례 ...</td>\n",
       "      <td>\"해경이 가만있으라 방송\" 허위사실 유포 40대 기소</td>\n",
       "      <td>사회</td>\n",
       "      <td>4</td>\n",
       "    </tr>\n",
       "    <tr>\n",
       "      <th>1</th>\n",
       "      <td>지난 해 9월 북한의 함경북도 항구도시 나진과 러시아 극동지역 도시 ...</td>\n",
       "      <td>南 점검단 방북…나진-하산 프로젝트 시범운송 시작(종합)</td>\n",
       "      <td>정치</td>\n",
       "      <td>6</td>\n",
       "    </tr>\n",
       "    <tr>\n",
       "      <th>2</th>\n",
       "      <td>포항 도착한 화물선       러시아 시베리아산 유연탄 4만 500t을...</td>\n",
       "      <td>나진-하산 프로젝트 탄력…시범수송 석탄 포항 도착(종합)</td>\n",
       "      <td>경제</td>\n",
       "      <td>0</td>\n",
       "    </tr>\n",
       "  </tbody>\n",
       "</table>\n",
       "</div>"
      ],
      "text/plain": [
       "                                             article  \\\n",
       "0        '회장이 청부폭력' 루머 협박범도 기소…사이버명예훼손 전담수사 첫 사례 ...   \n",
       "1          지난 해 9월 북한의 함경북도 항구도시 나진과 러시아 극동지역 도시 ...   \n",
       "2         포항 도착한 화물선       러시아 시베리아산 유연탄 4만 500t을...   \n",
       "\n",
       "                             title sec1  sec_idx  \n",
       "0    \"해경이 가만있으라 방송\" 허위사실 유포 40대 기소   사회        4  \n",
       "1  南 점검단 방북…나진-하산 프로젝트 시범운송 시작(종합)   정치        6  \n",
       "2  나진-하산 프로젝트 탄력…시범수송 석탄 포항 도착(종합)   경제        0  "
      ]
     },
     "execution_count": 2,
     "metadata": {},
     "output_type": "execute_result"
    }
   ],
   "source": [
    "df.head(3)"
   ]
  },
  {
   "cell_type": "code",
   "execution_count": 3,
   "metadata": {},
   "outputs": [
    {
     "name": "stdout",
     "output_type": "stream",
     "text": [
      "(442481,)\n",
      "(442481,)\n"
     ]
    }
   ],
   "source": [
    "X = df.article\n",
    "y = df.sec_idx\n",
    "print(X.shape)\n",
    "print(y.shape)"
   ]
  },
  {
   "cell_type": "code",
   "execution_count": 4,
   "metadata": {},
   "outputs": [
    {
     "name": "stdout",
     "output_type": "stream",
     "text": [
      "(331860,)\n",
      "(110621,)\n",
      "(331860,)\n",
      "(110621,)\n"
     ]
    }
   ],
   "source": [
    "from sklearn.model_selection import train_test_split\n",
    "X_train, X_test, y_train, y_test = train_test_split(X, y, random_state=1)\n",
    "print(X_train.shape)\n",
    "print(X_test.shape)\n",
    "print(y_train.shape)\n",
    "print(y_test.shape)"
   ]
  },
  {
   "cell_type": "code",
   "execution_count": 5,
   "metadata": {},
   "outputs": [
    {
     "name": "stdout",
     "output_type": "stream",
     "text": [
      "CPU times: user 20 ms, sys: 0 ns, total: 20 ms\n",
      "Wall time: 43 ms\n"
     ]
    }
   ],
   "source": [
    "%%time\n",
    "from konlpy.tag import Mecab; m = Mecab()\n",
    "#pos = lambda d: ['/'.join(p) for p in m.pos(d)]\n",
    "def noun_tagger(text):\n",
    "    #return [pos[0] for pos in m.pos(text) if (pos[1] in ['SL','SH','SN']) or pos[1].startswith('NN')]\n",
    "    return [pos[0] for pos in m.pos(text) if pos[1].startswith('NN')]"
   ]
  },
  {
   "cell_type": "markdown",
   "metadata": {},
   "source": [
    "### Summary:\n",
    "    * vect.fit(train) learns the vocabulary of the training data\n",
    "    * vect.transform(train) uses the fitted vocabulary to build a document term matrix from the training data\n",
    "    * vect.transform(test) uses the fitted vocabulary to build a document term matrix from the testing data(and ignores tokens it hasn't seen before)"
   ]
  },
  {
   "cell_type": "code",
   "execution_count": 6,
   "metadata": {
    "collapsed": true
   },
   "outputs": [],
   "source": [
    "stopwords_news=['지난해', '중','말', '뒤', '곳', '군', '위', '개', '간', '건', '이날', '도', '등', '명', '시', '앞', '원', '분', '회', '년', '것', '씨', '일', '월','오전','오후']"
   ]
  },
  {
   "cell_type": "code",
   "execution_count": 8,
   "metadata": {},
   "outputs": [
    {
     "name": "stdout",
     "output_type": "stream",
     "text": [
      "CPU times: user 20min 9s, sys: 14.1 s, total: 20min 23s\n",
      "Wall time: 20min 24s\n"
     ]
    }
   ],
   "source": [
    "%%time\n",
    "from sklearn.feature_extraction.text import TfidfVectorizer\n",
    "vect = TfidfVectorizer(tokenizer=noun_tagger,stop_words=stopwords_news, ngram_range=(1,3), min_df=2, max_df=.5)\n",
    "X_train_dtm = vect.fit_transform(X_train)"
   ]
  },
  {
   "cell_type": "code",
   "execution_count": 9,
   "metadata": {
    "collapsed": true
   },
   "outputs": [],
   "source": [
    "X_test_dtm = vect.transform(X_test)"
   ]
  },
  {
   "cell_type": "code",
   "execution_count": 10,
   "metadata": {},
   "outputs": [
    {
     "data": {
      "text/plain": [
       "(331860, 9077088)"
      ]
     },
     "execution_count": 10,
     "metadata": {},
     "output_type": "execute_result"
    }
   ],
   "source": [
    "X_train_dtm.shape"
   ]
  },
  {
   "cell_type": "code",
   "execution_count": 11,
   "metadata": {},
   "outputs": [
    {
     "data": {
      "text/plain": [
       "(110621, 9077088)"
      ]
     },
     "execution_count": 11,
     "metadata": {},
     "output_type": "execute_result"
    }
   ],
   "source": [
    "X_test_dtm.shape"
   ]
  },
  {
   "cell_type": "markdown",
   "metadata": {},
   "source": [
    "## save vector & dtm\n",
    "\n",
    "https://stackoverflow.com/questions/29788047/keep-tfidf-result-for-predicting-new-content-using-scikit-for-python\n",
    "https://stackoverflow.com/questions/32764991/how-do-i-store-a-tfidfvectorizer-for-future-use-in-scikit-learn"
   ]
  },
  {
   "cell_type": "code",
   "execution_count": 12,
   "metadata": {
    "collapsed": true
   },
   "outputs": [],
   "source": [
    "import pickle\n",
    "\n",
    "with open(\"yonhap_tfidf_vect.pkl\", 'wb') as handle:\n",
    "    pickle.dump(vect, handle)\n",
    "\n",
    "with open(\"yonhap_dtm.pkl\", 'wb') as handle:\n",
    "    pickle.dump(X_test_dtm, handle)"
   ]
  },
  {
   "cell_type": "code",
   "execution_count": 13,
   "metadata": {
    "collapsed": true
   },
   "outputs": [],
   "source": [
    "# import and instantiate a Multinomial Naive Bayes model\n",
    "from sklearn.naive_bayes import MultinomialNB\n",
    "nb = MultinomialNB(alpha=.01)"
   ]
  },
  {
   "cell_type": "code",
   "execution_count": 14,
   "metadata": {},
   "outputs": [
    {
     "name": "stdout",
     "output_type": "stream",
     "text": [
      "CPU times: user 4.75 s, sys: 600 ms, total: 5.35 s\n",
      "Wall time: 5.35 s\n"
     ]
    },
    {
     "data": {
      "text/plain": [
       "MultinomialNB(alpha=0.01, class_prior=None, fit_prior=True)"
      ]
     },
     "execution_count": 14,
     "metadata": {},
     "output_type": "execute_result"
    }
   ],
   "source": [
    "# train the model using X_train_dtm (timing it with an IPython \"magic command\")\n",
    "%time nb.fit(X_train_dtm, y_train)"
   ]
  },
  {
   "cell_type": "code",
   "execution_count": 15,
   "metadata": {
    "collapsed": true
   },
   "outputs": [],
   "source": [
    "# make class predictions for X_test_dtm\n",
    "y_pred_class = nb.predict(X_test_dtm)"
   ]
  },
  {
   "cell_type": "code",
   "execution_count": 16,
   "metadata": {},
   "outputs": [
    {
     "data": {
      "text/plain": [
       "0.86220518708021077"
      ]
     },
     "execution_count": 16,
     "metadata": {},
     "output_type": "execute_result"
    }
   ],
   "source": [
    "# calculate accuracy of class predictions\n",
    "from sklearn import metrics\n",
    "metrics.accuracy_score(y_test, y_pred_class)"
   ]
  },
  {
   "cell_type": "code",
   "execution_count": 17,
   "metadata": {},
   "outputs": [
    {
     "name": "stdout",
     "output_type": "stream",
     "text": [
      "             precision    recall  f1-score   support\n",
      "\n",
      "         경제       0.91      0.89      0.90     28695\n",
      "         과학       0.60      0.57      0.58       625\n",
      "         국제       0.86      0.89      0.87     22358\n",
      "         문화       0.72      0.89      0.80      2160\n",
      "         사회       0.83      0.86      0.85     30081\n",
      "         생활       0.53      0.75      0.62      2187\n",
      "         정치       0.92      0.82      0.87     24515\n",
      "\n",
      "avg / total       0.87      0.86      0.86    110621\n",
      "\n"
     ]
    }
   ],
   "source": [
    "from sklearn.metrics import classification_report\n",
    "print(classification_report(y_test, y_pred_class, target_names=['경제', '과학', '국제', '문화', '사회', '생활', '정치']))"
   ]
  },
  {
   "cell_type": "code",
   "execution_count": 18,
   "metadata": {},
   "outputs": [
    {
     "name": "stdout",
     "output_type": "stream",
     "text": [
      "4\n"
     ]
    }
   ],
   "source": [
    "import numpy as np\n",
    "counts = np.bincount(y_pred_class[(y_pred_class!=0) & (y_test==0)])\n",
    "print(np.argmax(counts))"
   ]
  },
  {
   "cell_type": "code",
   "execution_count": 19,
   "metadata": {},
   "outputs": [
    {
     "data": {
      "text/plain": [
       "239183             보험硏 이정택 위원 분석…\"나이 많으면 저체중아 낳을 가능성 커져\"...\n",
       "2993             파키스탄 카라치에서 더위를 식히는 아이들   \"온난화로 세계경제 23%...\n",
       "318317          농촌진흥청 연구 결과…수입산보다 기능성물질 다량 함유   국내산 콩 배아...\n",
       "405366          강원대 장애라 교수팀 연구 결과   한우고기에 대장암 세포의 증식을 억제...\n",
       "196634               '보건 안보'에 심각한 위협이 될 수 있는 항생제 오남용과 이에...\n",
       "356070           감귤의 기능성분이 피부 탄력 증진에 효과가 있다는 연구결과가 나왔다. ...\n",
       "10583                   뚱뚱한 남자들이 마른 남성들보다 돈을 더 많이 벌고 여자는...\n",
       "330193          정민유 한국식품연구원 박사팀 실험결과     도토리가 비만 예방에 탁월한...\n",
       "363809           벌꿀의 한 종류인 '아카시아꿀'이 헬리코박터균을 억제하는 것으로 확인됐...\n",
       "247903             \"발효 고추장 투여 동물실험서 체중·지방 감소 입증\"       한...\n",
       "130419               신생아의 소두증(小頭症)을 유발하는 것으로 의심되는 지카 바이러...\n",
       "435332          농진청·대학 3곳 공동연구 결과   닭의 몸속에 침투한 조류인플루엔자(A...\n",
       "168879             듀오 '재혼통계 보고서'…10명중 9명 30∼40대, 평균 9.4개...\n",
       "12242            원주서 '치악산 배 축제' <>        맛과 품질을 자랑하는 치악...\n",
       "366890          식품연구원 김효진 박사 연구팀   만성 신장질환에 효능이 있는 프로바이오...\n",
       "418132           농촌진흥청은 고온에 잘 적응하는 오리 유전자를 발견했다고 20일 밝혔다...\n",
       "10460                   임피리얼 팰리스 서울의 이탈리안 레스토랑 '베로나'는 11...\n",
       "123560                  허영인 SPC그룹 회장이 직접 이름을 짓고 파리바게뜨가 야...\n",
       "Name: article, dtype: object"
      ]
     },
     "execution_count": 19,
     "metadata": {},
     "output_type": "execute_result"
    }
   ],
   "source": [
    "X_test[(y_pred_class==5) & (y_test==0)]"
   ]
  },
  {
   "cell_type": "code",
   "execution_count": 22,
   "metadata": {},
   "outputs": [
    {
     "data": {
      "text/html": [
       "<div>\n",
       "<table border=\"1\" class=\"dataframe\">\n",
       "  <thead>\n",
       "    <tr style=\"text-align: right;\">\n",
       "      <th></th>\n",
       "      <th>level_0</th>\n",
       "      <th>contents</th>\n",
       "      <th>datetime</th>\n",
       "      <th>title</th>\n",
       "      <th>url</th>\n",
       "      <th>label_num</th>\n",
       "      <th>sentences</th>\n",
       "      <th>sen_length</th>\n",
       "      <th>con_length</th>\n",
       "    </tr>\n",
       "  </thead>\n",
       "  <tbody>\n",
       "    <tr>\n",
       "      <th>116500</th>\n",
       "      <td>OB</td>\n",
       "      <td>삼성 라이온즈가 운명의 8회에 또다시 역전극을 만들어내며 4연승을 내달렸다.삼성은 ...</td>\n",
       "      <td>2015-08-19 21:57:03</td>\n",
       "      <td>삼성, 두산에 6대4 승리, 4경기 연속 역전승</td>\n",
       "      <td>http://sports.news.naver.com/kbaseball/news/re...</td>\n",
       "      <td>0</td>\n",
       "      <td>삼성 라이온즈가 운명의 8회에 또다시 역전극을 만들어내며 4연승을 내달렸다.삼성은 ...</td>\n",
       "      <td>861</td>\n",
       "      <td>1059</td>\n",
       "    </tr>\n",
       "  </tbody>\n",
       "</table>\n",
       "</div>"
      ],
      "text/plain": [
       "       level_0                                           contents  \\\n",
       "116500      OB  삼성 라이온즈가 운명의 8회에 또다시 역전극을 만들어내며 4연승을 내달렸다.삼성은 ...   \n",
       "\n",
       "                  datetime                       title  \\\n",
       "116500 2015-08-19 21:57:03  삼성, 두산에 6대4 승리, 4경기 연속 역전승   \n",
       "\n",
       "                                                      url  label_num  \\\n",
       "116500  http://sports.news.naver.com/kbaseball/news/re...          0   \n",
       "\n",
       "                                                sentences  sen_length  \\\n",
       "116500  삼성 라이온즈가 운명의 8회에 또다시 역전극을 만들어내며 4연승을 내달렸다.삼성은 ...         861   \n",
       "\n",
       "        con_length  \n",
       "116500        1059  "
      ]
     },
     "execution_count": 22,
     "metadata": {},
     "output_type": "execute_result"
    }
   ],
   "source": [
    "df[df.index==116500]"
   ]
  },
  {
   "cell_type": "markdown",
   "metadata": {},
   "source": [
    "In practice Multinomial NB can be better than Linear SVM in some situations and svm better than NB on other datasets. Apparently t's possible to combine the two approaches to get a very good baseline: projects:nbsvm - Sida I. Wang\n",
    "\n",
    "You can also try non-linear SVMs but often the quadratic complexity of the SMO algorithm (for instance as implemented in libsvm) makes it not practical on datasets with more than 5000 documents. Instead on prefer to use liblinear than can only train linear SVM on large datasets.\n",
    "\n",
    "https://www.quora.com/What-are-the-differences-similarities-between-SVM-Naive-Bayes-for-binary-text-classification-wrt-how-they-are-processing-the-features\n",
    "\n",
    "http://scikit-learn.org/stable/modules/generated/sklearn.svm.SVC.html#sklearn.svm.SVC"
   ]
  },
  {
   "cell_type": "code",
   "execution_count": 20,
   "metadata": {
    "collapsed": true
   },
   "outputs": [],
   "source": [
    "from sklearn import svm\n",
    "#clf = svm.SVC(decision_function_shape='ovo')\n",
    "clfrSVM=svm.LinearSVC(C=1)"
   ]
  },
  {
   "cell_type": "code",
   "execution_count": 21,
   "metadata": {},
   "outputs": [
    {
     "name": "stdout",
     "output_type": "stream",
     "text": [
      "CPU times: user 1min 55s, sys: 764 ms, total: 1min 56s\n",
      "Wall time: 1min 56s\n"
     ]
    },
    {
     "data": {
      "text/plain": [
       "LinearSVC(C=1, class_weight=None, dual=True, fit_intercept=True,\n",
       "     intercept_scaling=1, loss='squared_hinge', max_iter=1000,\n",
       "     multi_class='ovr', penalty='l2', random_state=None, tol=0.0001,\n",
       "     verbose=0)"
      ]
     },
     "execution_count": 21,
     "metadata": {},
     "output_type": "execute_result"
    }
   ],
   "source": [
    "%time clfrSVM.fit(X_train_dtm, y_train)"
   ]
  },
  {
   "cell_type": "code",
   "execution_count": 22,
   "metadata": {
    "collapsed": true
   },
   "outputs": [],
   "source": [
    "y_pred_class_svm = clfrSVM.predict(X_test_dtm)"
   ]
  },
  {
   "cell_type": "code",
   "execution_count": 23,
   "metadata": {},
   "outputs": [
    {
     "data": {
      "text/plain": [
       "0.90010034261125826"
      ]
     },
     "execution_count": 23,
     "metadata": {},
     "output_type": "execute_result"
    }
   ],
   "source": [
    "from sklearn import metrics\n",
    "metrics.accuracy_score(y_test, y_pred_class_svm)"
   ]
  },
  {
   "cell_type": "code",
   "execution_count": 24,
   "metadata": {},
   "outputs": [
    {
     "name": "stdout",
     "output_type": "stream",
     "text": [
      "             precision    recall  f1-score   support\n",
      "\n",
      "         경제       0.90      0.94      0.92     28695\n",
      "         과학       0.71      0.59      0.64       625\n",
      "         국제       0.89      0.91      0.90     22358\n",
      "         문화       0.86      0.83      0.84      2160\n",
      "         사회       0.91      0.91      0.91     30081\n",
      "         생활       0.79      0.60      0.68      2187\n",
      "         정치       0.92      0.87      0.90     24515\n",
      "\n",
      "avg / total       0.90      0.90      0.90    110621\n",
      "\n"
     ]
    }
   ],
   "source": [
    "print(classification_report(y_test, y_pred_class_svm, target_names=['경제', '과학', '국제', '문화', '사회', '생활', '정치']))"
   ]
  },
  {
   "cell_type": "markdown",
   "metadata": {},
   "source": [
    "https://stackoverflow.com/questions/40115043/no-space-left-on-device-error-while-fitting-sklearn-model"
   ]
  },
  {
   "cell_type": "code",
   "execution_count": 25,
   "metadata": {
    "collapsed": true
   },
   "outputs": [],
   "source": [
    "with open(\"yonhap_svm_clf.pkl\", 'wb') as handle:\n",
    "    pickle.dump(clfrSVM, handle)"
   ]
  },
  {
   "cell_type": "code",
   "execution_count": 26,
   "metadata": {
    "collapsed": true
   },
   "outputs": [],
   "source": [
    "with open(\"yonhap_nb_clf.pkl\", 'wb') as handle:\n",
    "    pickle.dump(nb, handle)"
   ]
  },
  {
   "cell_type": "code",
   "execution_count": null,
   "metadata": {
    "collapsed": true
   },
   "outputs": [],
   "source": []
  }
 ],
 "metadata": {
  "kernelspec": {
   "display_name": "Python 3",
   "language": "python",
   "name": "python3"
  },
  "language_info": {
   "codemirror_mode": {
    "name": "ipython",
    "version": 3
   },
   "file_extension": ".py",
   "mimetype": "text/x-python",
   "name": "python",
   "nbconvert_exporter": "python",
   "pygments_lexer": "ipython3",
   "version": "3.6.2"
  }
 },
 "nbformat": 4,
 "nbformat_minor": 2
}
