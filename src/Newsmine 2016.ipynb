{
 "cells": [
  {
   "cell_type": "code",
   "execution_count": 17,
   "metadata": {
    "collapsed": false
   },
   "outputs": [],
   "source": [
    "import rds_config\n",
    "from sqlalchemy import create_engine\n",
    "\n",
    "#rds settings\n",
    "db_host  = rds_config.db_host\n",
    "db_username = rds_config.db_username\n",
    "db_password = rds_config.db_password\n",
    "db_name = rds_config.db_name\n",
    "\n",
    "#한글 깨짐 현상 해결\n",
    "#http://yongho1037.tistory.com/570\n",
    "SQLALCHEMY_DATABASE_URI = 'mysql+pymysql://' + db_username + ':' + db_password + '@' + db_host + '/' + db_name + '?charset=utf8'\n",
    "\n",
    "engine = create_engine(SQLALCHEMY_DATABASE_URI)\n",
    "connection = engine.connect()"
   ]
  },
  {
   "cell_type": "code",
   "execution_count": 26,
   "metadata": {
    "collapsed": false
   },
   "outputs": [],
   "source": [
    "import pandas as pd\n",
    "sql = \"SELECT media, title, org_count, naver_count, section FROM newscrawl WHERE org_count>0 or naver_count>0 limit 1000\"\n",
    "df = pd.read_sql(sql, connection)\n",
    "#pd.read_csv(\"dcdata10.csv\")"
   ]
  },
  {
   "cell_type": "code",
   "execution_count": 27,
   "metadata": {
    "collapsed": false
   },
   "outputs": [
    {
     "data": {
      "text/plain": [
       "1000"
      ]
     },
     "execution_count": 27,
     "metadata": {},
     "output_type": "execute_result"
    }
   ],
   "source": [
    "len(df)"
   ]
  },
  {
   "cell_type": "code",
   "execution_count": 28,
   "metadata": {
    "collapsed": false
   },
   "outputs": [
    {
     "data": {
      "text/html": [
       "<div>\n",
       "<table border=\"1\" class=\"dataframe\">\n",
       "  <thead>\n",
       "    <tr style=\"text-align: right;\">\n",
       "      <th></th>\n",
       "      <th>media</th>\n",
       "      <th>title</th>\n",
       "      <th>org_count</th>\n",
       "      <th>naver_count</th>\n",
       "      <th>section</th>\n",
       "    </tr>\n",
       "  </thead>\n",
       "  <tbody>\n",
       "    <tr>\n",
       "      <th>990</th>\n",
       "      <td>yonhap</td>\n",
       "      <td>\"제주 제2공항 입지 선정 배경은?\"…7일 도민설명회</td>\n",
       "      <td>0</td>\n",
       "      <td>2</td>\n",
       "      <td>중앙행정일반</td>\n",
       "    </tr>\n",
       "    <tr>\n",
       "      <th>991</th>\n",
       "      <td>yonhap</td>\n",
       "      <td>방산비리 막을 '방위사업감독관' 공모…현직검사 물망</td>\n",
       "      <td>0</td>\n",
       "      <td>1</td>\n",
       "      <td>국방일반</td>\n",
       "    </tr>\n",
       "    <tr>\n",
       "      <th>992</th>\n",
       "      <td>yonhap</td>\n",
       "      <td>대전하면 떠오르는 이미지 '1993 엑스포'·'과학도시'</td>\n",
       "      <td>13</td>\n",
       "      <td>0</td>\n",
       "      <td>지방행정</td>\n",
       "    </tr>\n",
       "    <tr>\n",
       "      <th>993</th>\n",
       "      <td>yonhap</td>\n",
       "      <td>&lt;주목! 이 조례&gt; 자기주도 배움 중심…성남형교육 조례</td>\n",
       "      <td>5</td>\n",
       "      <td>0</td>\n",
       "      <td>지방행정</td>\n",
       "    </tr>\n",
       "    <tr>\n",
       "      <th>994</th>\n",
       "      <td>yonhap</td>\n",
       "      <td>'보육대란' 코앞…당장 1월 교육비 부담은 누가 지나</td>\n",
       "      <td>0</td>\n",
       "      <td>71</td>\n",
       "      <td>사회일반</td>\n",
       "    </tr>\n",
       "    <tr>\n",
       "      <th>995</th>\n",
       "      <td>yonhap</td>\n",
       "      <td>朴대통령 \"남은 임기 할 수 있는 모든 것 해낼 것\"</td>\n",
       "      <td>789</td>\n",
       "      <td>3285</td>\n",
       "      <td>정치일반</td>\n",
       "    </tr>\n",
       "    <tr>\n",
       "      <th>996</th>\n",
       "      <td>yonhap</td>\n",
       "      <td>朴대통령 \"외교안보 중요전환기…긴장끈 놓아선 안돼\"</td>\n",
       "      <td>1</td>\n",
       "      <td>0</td>\n",
       "      <td>정치일반</td>\n",
       "    </tr>\n",
       "    <tr>\n",
       "      <th>997</th>\n",
       "      <td>yonhap</td>\n",
       "      <td>朴대통령 \"경제걸림돌 적폐척결·부패예방책 발표\" 15분 국정당부</td>\n",
       "      <td>36</td>\n",
       "      <td>1</td>\n",
       "      <td>정치일반</td>\n",
       "    </tr>\n",
       "    <tr>\n",
       "      <th>998</th>\n",
       "      <td>yonhap</td>\n",
       "      <td>박혜자 더민주 광주시당 위원장 탈당 결심 굳힌듯</td>\n",
       "      <td>1</td>\n",
       "      <td>3</td>\n",
       "      <td>더불어민주당</td>\n",
       "    </tr>\n",
       "    <tr>\n",
       "      <th>999</th>\n",
       "      <td>yonhap</td>\n",
       "      <td>\"中 증시패닉 우려 여전하다\"&lt;글로벌 타임스&gt;</td>\n",
       "      <td>7</td>\n",
       "      <td>0</td>\n",
       "      <td>금융시장일반</td>\n",
       "    </tr>\n",
       "  </tbody>\n",
       "</table>\n",
       "</div>"
      ],
      "text/plain": [
       "      media                                title  org_count  naver_count  \\\n",
       "990  yonhap        \"제주 제2공항 입지 선정 배경은?\"…7일 도민설명회          0            2   \n",
       "991  yonhap         방산비리 막을 '방위사업감독관' 공모…현직검사 물망          0            1   \n",
       "992  yonhap      대전하면 떠오르는 이미지 '1993 엑스포'·'과학도시'         13            0   \n",
       "993  yonhap       <주목! 이 조례> 자기주도 배움 중심…성남형교육 조례          5            0   \n",
       "994  yonhap        '보육대란' 코앞…당장 1월 교육비 부담은 누가 지나          0           71   \n",
       "995  yonhap        朴대통령 \"남은 임기 할 수 있는 모든 것 해낼 것\"        789         3285   \n",
       "996  yonhap         朴대통령 \"외교안보 중요전환기…긴장끈 놓아선 안돼\"          1            0   \n",
       "997  yonhap  朴대통령 \"경제걸림돌 적폐척결·부패예방책 발표\" 15분 국정당부         36            1   \n",
       "998  yonhap           박혜자 더민주 광주시당 위원장 탈당 결심 굳힌듯          1            3   \n",
       "999  yonhap            \"中 증시패닉 우려 여전하다\"<글로벌 타임스>          7            0   \n",
       "\n",
       "    section  \n",
       "990  중앙행정일반  \n",
       "991    국방일반  \n",
       "992    지방행정  \n",
       "993    지방행정  \n",
       "994    사회일반  \n",
       "995    정치일반  \n",
       "996    정치일반  \n",
       "997    정치일반  \n",
       "998  더불어민주당  \n",
       "999  금융시장일반  "
      ]
     },
     "execution_count": 28,
     "metadata": {},
     "output_type": "execute_result"
    }
   ],
   "source": [
    "df.tail(10)"
   ]
  },
  {
   "cell_type": "code",
   "execution_count": null,
   "metadata": {
    "collapsed": true
   },
   "outputs": [],
   "source": []
  }
 ],
 "metadata": {
  "kernelspec": {
   "display_name": "Python 3",
   "language": "python",
   "name": "python3"
  },
  "language_info": {
   "codemirror_mode": {
    "name": "ipython",
    "version": 3
   },
   "file_extension": ".py",
   "mimetype": "text/x-python",
   "name": "python",
   "nbconvert_exporter": "python",
   "pygments_lexer": "ipython3",
   "version": "3.5.2"
  }
 },
 "nbformat": 4,
 "nbformat_minor": 1
}
