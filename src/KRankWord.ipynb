{
 "cells": [
  {
   "cell_type": "markdown",
   "metadata": {},
   "source": [
    "https://github.com/lovit/KR-WordRank/blob/master/tutorials/krwordrank_word_and_keyword_extraction.ipynb"
   ]
  },
  {
   "cell_type": "code",
   "execution_count": 36,
   "metadata": {
    "collapsed": false
   },
   "outputs": [],
   "source": [
    "def get_texts_scores(fname):\n",
    "    with open(fname) as f:\n",
    "        docs = [doc.lower().replace('\\n','') for doc in f]\n",
    "        #docs = [doc for doc in docs if len(doc) == 2]\n",
    "        \n",
    "        if not docs:\n",
    "            return [], []\n",
    "        \n",
    "        #texts, scores = zip(*docs)\n",
    "        return docs\n",
    "    \n",
    "fname = 'test.txt'\n",
    "texts = get_texts_scores(fname) "
   ]
  },
  {
   "cell_type": "code",
   "execution_count": 37,
   "metadata": {
    "collapsed": true
   },
   "outputs": [],
   "source": [
    "from krwordrank.word import KRWordRank\n",
    "from krwordrank.hangle import normalize"
   ]
  },
  {
   "cell_type": "code",
   "execution_count": 38,
   "metadata": {
    "collapsed": false
   },
   "outputs": [
    {
     "name": "stdout",
     "output_type": "stream",
     "text": [
      "scan vocabs ... \n",
      "num vocabs = 183\n",
      "\r",
      "iter = 1\r",
      "iter = 2\r",
      "iter = 3\r",
      "iter = 4\r",
      "iter = 5\r",
      "iter = 6\r",
      "iter = 7\r",
      "iter = 8\r",
      "iter = 9\r",
      "iter = 10\r",
      "done\n"
     ]
    }
   ],
   "source": [
    "min_count = 2   # 단어의 최소 출현 빈도수 (그래프 생성 시)\n",
    "max_length = 10 # 단어의 최대 길이\n",
    "wordrank_extractor = KRWordRank(min_count, max_length)\n",
    "\n",
    "beta = 0.85    # PageRank의 decaying factor beta\n",
    "max_iter = 10\n",
    "verbose = True\n",
    "keywords, rank, graph = wordrank_extractor.extract(texts, beta, max_iter, verbose)"
   ]
  },
  {
   "cell_type": "code",
   "execution_count": 39,
   "metadata": {
    "collapsed": false
   },
   "outputs": [
    {
     "name": "stdout",
     "output_type": "stream",
     "text": [
      "     후보자:\t3.3979\n",
      "     판결문:\t2.2994\n",
      "      지난:\t2.0731\n",
      "      의원:\t1.8575\n",
      "      열어:\t1.8421\n",
      "      통해:\t1.6655\n",
      "      사실:\t1.6099\n",
      "      공개:\t1.3495\n",
      "      위반:\t1.3122\n",
      "     사본을:\t1.2803\n",
      "      이에:\t1.2071\n",
      "      판사:\t1.1600\n",
      "      입수:\t1.0878\n",
      "      국회:\t1.0652\n",
      "      대해:\t1.0268\n",
      "      피해:\t1.0000\n",
      "      \"가:\t1.0000\n",
      "      주광:\t1.0000\n",
      "      16:\t0.9370\n",
      "      있다:\t0.7939\n",
      "      없다:\t0.7631\n",
      "     대법원:\t0.7564\n",
      "      제기:\t0.7106\n",
      "     '판결:\t0.6966\n",
      "      했다:\t0.6925\n",
      "      해명:\t0.6750\n",
      "      기자:\t0.6738\n",
      "      논란:\t0.6019\n",
      "    페이스북:\t0.5629\n",
      "      그러:\t0.5605\n"
     ]
    }
   ],
   "source": [
    "for word, r in sorted(keywords.items(), key=lambda x:x[1], reverse=True)[:30]:\n",
    "    print('%8s:\\t%.4f' % (word, r))"
   ]
  },
  {
   "cell_type": "code",
   "execution_count": 40,
   "metadata": {
    "collapsed": false
   },
   "outputs": [
    {
     "data": {
      "text/plain": [
       "{'\"가': 1.0,\n",
       " '\"판결문': 0.5045507006906118,\n",
       " \"'판결\": 0.6966033461514091,\n",
       " '16': 0.9370357891096973,\n",
       " '공개': 1.3495011624397133,\n",
       " '국회': 1.0651915695087788,\n",
       " '그러': 0.5605168906929114,\n",
       " '기자': 0.6737782375952294,\n",
       " '논란': 0.6018854657507213,\n",
       " '대법원': 0.7563598248019355,\n",
       " '대해': 1.0267504999327937,\n",
       " '사본을': 1.280265142926694,\n",
       " '사실': 1.6099433690841924,\n",
       " '없다': 0.7631371075902116,\n",
       " '열어': 1.8420955064037012,\n",
       " '위반': 1.3121811672805657,\n",
       " '의원': 1.8575316761916385,\n",
       " '의혹': 0.512401510290923,\n",
       " '이에': 1.2070578862125902,\n",
       " '인사청': 0.5164065730005909,\n",
       " '입수': 1.087841619585555,\n",
       " '있다': 0.7939442277705568,\n",
       " '제기': 0.7106389854367907,\n",
       " '제출': 0.5106145538917151,\n",
       " '주광': 1.0,\n",
       " '주장': 0.48880543668229837,\n",
       " '지난': 2.0730958516002063,\n",
       " '통해': 1.6654640797666769,\n",
       " '판결문': 2.299417062697597,\n",
       " '판사': 1.1599986245786011,\n",
       " '페이스북': 0.5629480384193357,\n",
       " '피해': 1.0,\n",
       " '해명': 0.6749881097497683,\n",
       " '했다': 0.6924571008036929,\n",
       " '후보자': 3.3979351244591887}"
      ]
     },
     "execution_count": 40,
     "metadata": {},
     "output_type": "execute_result"
    }
   ],
   "source": [
    "keywords"
   ]
  },
  {
   "cell_type": "code",
   "execution_count": null,
   "metadata": {
    "collapsed": true
   },
   "outputs": [],
   "source": []
  },
  {
   "cell_type": "code",
   "execution_count": null,
   "metadata": {
    "collapsed": true
   },
   "outputs": [],
   "source": []
  }
 ],
 "metadata": {
  "kernelspec": {
   "display_name": "Python 3",
   "language": "python",
   "name": "python3"
  },
  "language_info": {
   "codemirror_mode": {
    "name": "ipython",
    "version": 3
   },
   "file_extension": ".py",
   "mimetype": "text/x-python",
   "name": "python",
   "nbconvert_exporter": "python",
   "pygments_lexer": "ipython3",
   "version": "3.5.2"
  }
 },
 "nbformat": 4,
 "nbformat_minor": 2
}
