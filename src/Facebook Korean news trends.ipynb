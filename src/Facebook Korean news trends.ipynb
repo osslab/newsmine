{
 "cells": [
  {
   "cell_type": "code",
   "execution_count": 1,
   "metadata": {},
   "outputs": [
    {
     "data": {
      "text/html": [
       "\n",
       "    <div class=\"bk-root\">\n",
       "        <a href=\"https://bokeh.pydata.org\" target=\"_blank\" class=\"bk-logo bk-logo-small bk-logo-notebook\"></a>\n",
       "        <span id=\"efe41b8b-a621-475a-9ea3-8dbfee3d29a3\">Loading BokehJS ...</span>\n",
       "    </div>"
      ]
     },
     "metadata": {},
     "output_type": "display_data"
    },
    {
     "data": {
      "application/javascript": [
       "\n",
       "(function(root) {\n",
       "  function now() {\n",
       "    return new Date();\n",
       "  }\n",
       "\n",
       "  var force = true;\n",
       "\n",
       "  if (typeof (root._bokeh_onload_callbacks) === \"undefined\" || force === true) {\n",
       "    root._bokeh_onload_callbacks = [];\n",
       "    root._bokeh_is_loading = undefined;\n",
       "  }\n",
       "\n",
       "  var JS_MIME_TYPE = 'application/javascript';\n",
       "  var HTML_MIME_TYPE = 'text/html';\n",
       "  var EXEC_MIME_TYPE = 'application/vnd.bokehjs_exec.v0+json';\n",
       "  var CLASS_NAME = 'output_bokeh rendered_html';\n",
       "\n",
       "  /**\n",
       "   * Render data to the DOM node\n",
       "   */\n",
       "  function render(props, node) {\n",
       "    var script = document.createElement(\"script\");\n",
       "    node.appendChild(script);\n",
       "  }\n",
       "\n",
       "  /**\n",
       "   * Handle when an output is cleared or removed\n",
       "   */\n",
       "  function handleClearOutput(event, handle) {\n",
       "    var cell = handle.cell;\n",
       "\n",
       "    var id = cell.output_area._bokeh_element_id;\n",
       "    var server_id = cell.output_area._bokeh_server_id;\n",
       "    // Clean up Bokeh references\n",
       "    if (id !== undefined) {\n",
       "      Bokeh.index[id].model.document.clear();\n",
       "      delete Bokeh.index[id];\n",
       "    }\n",
       "\n",
       "    if (server_id !== undefined) {\n",
       "      // Clean up Bokeh references\n",
       "      var cmd = \"from bokeh.io.state import curstate; print(curstate().uuid_to_server['\" + server_id + \"'].get_sessions()[0].document.roots[0]._id)\";\n",
       "      cell.notebook.kernel.execute(cmd, {\n",
       "        iopub: {\n",
       "          output: function(msg) {\n",
       "            var element_id = msg.content.text.trim();\n",
       "            Bokeh.index[element_id].model.document.clear();\n",
       "            delete Bokeh.index[element_id];\n",
       "          }\n",
       "        }\n",
       "      });\n",
       "      // Destroy server and session\n",
       "      var cmd = \"import bokeh.io.notebook as ion; ion.destroy_server('\" + server_id + \"')\";\n",
       "      cell.notebook.kernel.execute(cmd);\n",
       "    }\n",
       "  }\n",
       "\n",
       "  /**\n",
       "   * Handle when a new output is added\n",
       "   */\n",
       "  function handleAddOutput(event, handle) {\n",
       "    var output_area = handle.output_area;\n",
       "    var output = handle.output;\n",
       "\n",
       "    // limit handleAddOutput to display_data with EXEC_MIME_TYPE content only\n",
       "    if ((output.output_type != \"display_data\") || (!output.data.hasOwnProperty(EXEC_MIME_TYPE))) {\n",
       "      return\n",
       "    }\n",
       "\n",
       "    var toinsert = output_area.element.find(\".\" + CLASS_NAME.split(' ')[0]);\n",
       "\n",
       "    if (output.metadata[EXEC_MIME_TYPE][\"id\"] !== undefined) {\n",
       "      toinsert[0].firstChild.textContent = output.data[JS_MIME_TYPE];\n",
       "      // store reference to embed id on output_area\n",
       "      output_area._bokeh_element_id = output.metadata[EXEC_MIME_TYPE][\"id\"];\n",
       "    }\n",
       "    if (output.metadata[EXEC_MIME_TYPE][\"server_id\"] !== undefined) {\n",
       "      var bk_div = document.createElement(\"div\");\n",
       "      bk_div.innerHTML = output.data[HTML_MIME_TYPE];\n",
       "      var script_attrs = bk_div.children[0].attributes;\n",
       "      for (var i = 0; i < script_attrs.length; i++) {\n",
       "        toinsert[0].firstChild.setAttribute(script_attrs[i].name, script_attrs[i].value);\n",
       "      }\n",
       "      // store reference to server id on output_area\n",
       "      output_area._bokeh_server_id = output.metadata[EXEC_MIME_TYPE][\"server_id\"];\n",
       "    }\n",
       "  }\n",
       "\n",
       "  function register_renderer(events, OutputArea) {\n",
       "\n",
       "    function append_mime(data, metadata, element) {\n",
       "      // create a DOM node to render to\n",
       "      var toinsert = this.create_output_subarea(\n",
       "        metadata,\n",
       "        CLASS_NAME,\n",
       "        EXEC_MIME_TYPE\n",
       "      );\n",
       "      this.keyboard_manager.register_events(toinsert);\n",
       "      // Render to node\n",
       "      var props = {data: data, metadata: metadata[EXEC_MIME_TYPE]};\n",
       "      render(props, toinsert[0]);\n",
       "      element.append(toinsert);\n",
       "      return toinsert\n",
       "    }\n",
       "\n",
       "    /* Handle when an output is cleared or removed */\n",
       "    events.on('clear_output.CodeCell', handleClearOutput);\n",
       "    events.on('delete.Cell', handleClearOutput);\n",
       "\n",
       "    /* Handle when a new output is added */\n",
       "    events.on('output_added.OutputArea', handleAddOutput);\n",
       "\n",
       "    /**\n",
       "     * Register the mime type and append_mime function with output_area\n",
       "     */\n",
       "    OutputArea.prototype.register_mime_type(EXEC_MIME_TYPE, append_mime, {\n",
       "      /* Is output safe? */\n",
       "      safe: true,\n",
       "      /* Index of renderer in `output_area.display_order` */\n",
       "      index: 0\n",
       "    });\n",
       "  }\n",
       "\n",
       "  // register the mime type if in Jupyter Notebook environment and previously unregistered\n",
       "  if (root.Jupyter !== undefined) {\n",
       "    var events = require('base/js/events');\n",
       "    var OutputArea = require('notebook/js/outputarea').OutputArea;\n",
       "\n",
       "    if (OutputArea.prototype.mime_types().indexOf(EXEC_MIME_TYPE) == -1) {\n",
       "      register_renderer(events, OutputArea);\n",
       "    }\n",
       "  }\n",
       "\n",
       "  \n",
       "  if (typeof (root._bokeh_timeout) === \"undefined\" || force === true) {\n",
       "    root._bokeh_timeout = Date.now() + 5000;\n",
       "    root._bokeh_failed_load = false;\n",
       "  }\n",
       "\n",
       "  var NB_LOAD_WARNING = {'data': {'text/html':\n",
       "     \"<div style='background-color: #fdd'>\\n\"+\n",
       "     \"<p>\\n\"+\n",
       "     \"BokehJS does not appear to have successfully loaded. If loading BokehJS from CDN, this \\n\"+\n",
       "     \"may be due to a slow or bad network connection. Possible fixes:\\n\"+\n",
       "     \"</p>\\n\"+\n",
       "     \"<ul>\\n\"+\n",
       "     \"<li>re-rerun `output_notebook()` to attempt to load from CDN again, or</li>\\n\"+\n",
       "     \"<li>use INLINE resources instead, as so:</li>\\n\"+\n",
       "     \"</ul>\\n\"+\n",
       "     \"<code>\\n\"+\n",
       "     \"from bokeh.resources import INLINE\\n\"+\n",
       "     \"output_notebook(resources=INLINE)\\n\"+\n",
       "     \"</code>\\n\"+\n",
       "     \"</div>\"}};\n",
       "\n",
       "  function display_loaded() {\n",
       "    var el = document.getElementById(\"efe41b8b-a621-475a-9ea3-8dbfee3d29a3\");\n",
       "    if (el != null) {\n",
       "      el.textContent = \"BokehJS is loading...\";\n",
       "    }\n",
       "    if (root.Bokeh !== undefined) {\n",
       "      if (el != null) {\n",
       "        el.textContent = \"BokehJS \" + root.Bokeh.version + \" successfully loaded.\";\n",
       "      }\n",
       "    } else if (Date.now() < root._bokeh_timeout) {\n",
       "      setTimeout(display_loaded, 100)\n",
       "    }\n",
       "  }\n",
       "\n",
       "\n",
       "  function run_callbacks() {\n",
       "    try {\n",
       "      root._bokeh_onload_callbacks.forEach(function(callback) { callback() });\n",
       "    }\n",
       "    finally {\n",
       "      delete root._bokeh_onload_callbacks\n",
       "    }\n",
       "    console.info(\"Bokeh: all callbacks have finished\");\n",
       "  }\n",
       "\n",
       "  function load_libs(js_urls, callback) {\n",
       "    root._bokeh_onload_callbacks.push(callback);\n",
       "    if (root._bokeh_is_loading > 0) {\n",
       "      console.log(\"Bokeh: BokehJS is being loaded, scheduling callback at\", now());\n",
       "      return null;\n",
       "    }\n",
       "    if (js_urls == null || js_urls.length === 0) {\n",
       "      run_callbacks();\n",
       "      return null;\n",
       "    }\n",
       "    console.log(\"Bokeh: BokehJS not loaded, scheduling load and callback at\", now());\n",
       "    root._bokeh_is_loading = js_urls.length;\n",
       "    for (var i = 0; i < js_urls.length; i++) {\n",
       "      var url = js_urls[i];\n",
       "      var s = document.createElement('script');\n",
       "      s.src = url;\n",
       "      s.async = false;\n",
       "      s.onreadystatechange = s.onload = function() {\n",
       "        root._bokeh_is_loading--;\n",
       "        if (root._bokeh_is_loading === 0) {\n",
       "          console.log(\"Bokeh: all BokehJS libraries loaded\");\n",
       "          run_callbacks()\n",
       "        }\n",
       "      };\n",
       "      s.onerror = function() {\n",
       "        console.warn(\"failed to load library \" + url);\n",
       "      };\n",
       "      console.log(\"Bokeh: injecting script tag for BokehJS library: \", url);\n",
       "      document.getElementsByTagName(\"head\")[0].appendChild(s);\n",
       "    }\n",
       "  };var element = document.getElementById(\"efe41b8b-a621-475a-9ea3-8dbfee3d29a3\");\n",
       "  if (element == null) {\n",
       "    console.log(\"Bokeh: ERROR: autoload.js configured with elementid 'efe41b8b-a621-475a-9ea3-8dbfee3d29a3' but no matching script tag was found. \")\n",
       "    return false;\n",
       "  }\n",
       "\n",
       "  var js_urls = [\"https://cdn.pydata.org/bokeh/release/bokeh-0.12.13.min.js\", \"https://cdn.pydata.org/bokeh/release/bokeh-widgets-0.12.13.min.js\", \"https://cdn.pydata.org/bokeh/release/bokeh-tables-0.12.13.min.js\", \"https://cdn.pydata.org/bokeh/release/bokeh-gl-0.12.13.min.js\"];\n",
       "\n",
       "  var inline_js = [\n",
       "    function(Bokeh) {\n",
       "      Bokeh.set_log_level(\"info\");\n",
       "    },\n",
       "    \n",
       "    function(Bokeh) {\n",
       "      \n",
       "    },\n",
       "    function(Bokeh) {\n",
       "      console.log(\"Bokeh: injecting CSS: https://cdn.pydata.org/bokeh/release/bokeh-0.12.13.min.css\");\n",
       "      Bokeh.embed.inject_css(\"https://cdn.pydata.org/bokeh/release/bokeh-0.12.13.min.css\");\n",
       "      console.log(\"Bokeh: injecting CSS: https://cdn.pydata.org/bokeh/release/bokeh-widgets-0.12.13.min.css\");\n",
       "      Bokeh.embed.inject_css(\"https://cdn.pydata.org/bokeh/release/bokeh-widgets-0.12.13.min.css\");\n",
       "      console.log(\"Bokeh: injecting CSS: https://cdn.pydata.org/bokeh/release/bokeh-tables-0.12.13.min.css\");\n",
       "      Bokeh.embed.inject_css(\"https://cdn.pydata.org/bokeh/release/bokeh-tables-0.12.13.min.css\");\n",
       "    }\n",
       "  ];\n",
       "\n",
       "  function run_inline_js() {\n",
       "    \n",
       "    if ((root.Bokeh !== undefined) || (force === true)) {\n",
       "      for (var i = 0; i < inline_js.length; i++) {\n",
       "        inline_js[i].call(root, root.Bokeh);\n",
       "      }if (force === true) {\n",
       "        display_loaded();\n",
       "      }} else if (Date.now() < root._bokeh_timeout) {\n",
       "      setTimeout(run_inline_js, 100);\n",
       "    } else if (!root._bokeh_failed_load) {\n",
       "      console.log(\"Bokeh: BokehJS failed to load within specified timeout.\");\n",
       "      root._bokeh_failed_load = true;\n",
       "    } else if (force !== true) {\n",
       "      var cell = $(document.getElementById(\"efe41b8b-a621-475a-9ea3-8dbfee3d29a3\")).parents('.cell').data().cell;\n",
       "      cell.output_area.append_execute_result(NB_LOAD_WARNING)\n",
       "    }\n",
       "\n",
       "  }\n",
       "\n",
       "  if (root._bokeh_is_loading === 0) {\n",
       "    console.log(\"Bokeh: BokehJS loaded, going straight to plotting\");\n",
       "    run_inline_js();\n",
       "  } else {\n",
       "    load_libs(js_urls, function() {\n",
       "      console.log(\"Bokeh: BokehJS plotting callback run at\", now());\n",
       "      run_inline_js();\n",
       "    });\n",
       "  }\n",
       "}(window));"
      ],
      "application/vnd.bokehjs_load.v0+json": "\n(function(root) {\n  function now() {\n    return new Date();\n  }\n\n  var force = true;\n\n  if (typeof (root._bokeh_onload_callbacks) === \"undefined\" || force === true) {\n    root._bokeh_onload_callbacks = [];\n    root._bokeh_is_loading = undefined;\n  }\n\n  \n\n  \n  if (typeof (root._bokeh_timeout) === \"undefined\" || force === true) {\n    root._bokeh_timeout = Date.now() + 5000;\n    root._bokeh_failed_load = false;\n  }\n\n  var NB_LOAD_WARNING = {'data': {'text/html':\n     \"<div style='background-color: #fdd'>\\n\"+\n     \"<p>\\n\"+\n     \"BokehJS does not appear to have successfully loaded. If loading BokehJS from CDN, this \\n\"+\n     \"may be due to a slow or bad network connection. Possible fixes:\\n\"+\n     \"</p>\\n\"+\n     \"<ul>\\n\"+\n     \"<li>re-rerun `output_notebook()` to attempt to load from CDN again, or</li>\\n\"+\n     \"<li>use INLINE resources instead, as so:</li>\\n\"+\n     \"</ul>\\n\"+\n     \"<code>\\n\"+\n     \"from bokeh.resources import INLINE\\n\"+\n     \"output_notebook(resources=INLINE)\\n\"+\n     \"</code>\\n\"+\n     \"</div>\"}};\n\n  function display_loaded() {\n    var el = document.getElementById(\"efe41b8b-a621-475a-9ea3-8dbfee3d29a3\");\n    if (el != null) {\n      el.textContent = \"BokehJS is loading...\";\n    }\n    if (root.Bokeh !== undefined) {\n      if (el != null) {\n        el.textContent = \"BokehJS \" + root.Bokeh.version + \" successfully loaded.\";\n      }\n    } else if (Date.now() < root._bokeh_timeout) {\n      setTimeout(display_loaded, 100)\n    }\n  }\n\n\n  function run_callbacks() {\n    try {\n      root._bokeh_onload_callbacks.forEach(function(callback) { callback() });\n    }\n    finally {\n      delete root._bokeh_onload_callbacks\n    }\n    console.info(\"Bokeh: all callbacks have finished\");\n  }\n\n  function load_libs(js_urls, callback) {\n    root._bokeh_onload_callbacks.push(callback);\n    if (root._bokeh_is_loading > 0) {\n      console.log(\"Bokeh: BokehJS is being loaded, scheduling callback at\", now());\n      return null;\n    }\n    if (js_urls == null || js_urls.length === 0) {\n      run_callbacks();\n      return null;\n    }\n    console.log(\"Bokeh: BokehJS not loaded, scheduling load and callback at\", now());\n    root._bokeh_is_loading = js_urls.length;\n    for (var i = 0; i < js_urls.length; i++) {\n      var url = js_urls[i];\n      var s = document.createElement('script');\n      s.src = url;\n      s.async = false;\n      s.onreadystatechange = s.onload = function() {\n        root._bokeh_is_loading--;\n        if (root._bokeh_is_loading === 0) {\n          console.log(\"Bokeh: all BokehJS libraries loaded\");\n          run_callbacks()\n        }\n      };\n      s.onerror = function() {\n        console.warn(\"failed to load library \" + url);\n      };\n      console.log(\"Bokeh: injecting script tag for BokehJS library: \", url);\n      document.getElementsByTagName(\"head\")[0].appendChild(s);\n    }\n  };var element = document.getElementById(\"efe41b8b-a621-475a-9ea3-8dbfee3d29a3\");\n  if (element == null) {\n    console.log(\"Bokeh: ERROR: autoload.js configured with elementid 'efe41b8b-a621-475a-9ea3-8dbfee3d29a3' but no matching script tag was found. \")\n    return false;\n  }\n\n  var js_urls = [\"https://cdn.pydata.org/bokeh/release/bokeh-0.12.13.min.js\", \"https://cdn.pydata.org/bokeh/release/bokeh-widgets-0.12.13.min.js\", \"https://cdn.pydata.org/bokeh/release/bokeh-tables-0.12.13.min.js\", \"https://cdn.pydata.org/bokeh/release/bokeh-gl-0.12.13.min.js\"];\n\n  var inline_js = [\n    function(Bokeh) {\n      Bokeh.set_log_level(\"info\");\n    },\n    \n    function(Bokeh) {\n      \n    },\n    function(Bokeh) {\n      console.log(\"Bokeh: injecting CSS: https://cdn.pydata.org/bokeh/release/bokeh-0.12.13.min.css\");\n      Bokeh.embed.inject_css(\"https://cdn.pydata.org/bokeh/release/bokeh-0.12.13.min.css\");\n      console.log(\"Bokeh: injecting CSS: https://cdn.pydata.org/bokeh/release/bokeh-widgets-0.12.13.min.css\");\n      Bokeh.embed.inject_css(\"https://cdn.pydata.org/bokeh/release/bokeh-widgets-0.12.13.min.css\");\n      console.log(\"Bokeh: injecting CSS: https://cdn.pydata.org/bokeh/release/bokeh-tables-0.12.13.min.css\");\n      Bokeh.embed.inject_css(\"https://cdn.pydata.org/bokeh/release/bokeh-tables-0.12.13.min.css\");\n    }\n  ];\n\n  function run_inline_js() {\n    \n    if ((root.Bokeh !== undefined) || (force === true)) {\n      for (var i = 0; i < inline_js.length; i++) {\n        inline_js[i].call(root, root.Bokeh);\n      }if (force === true) {\n        display_loaded();\n      }} else if (Date.now() < root._bokeh_timeout) {\n      setTimeout(run_inline_js, 100);\n    } else if (!root._bokeh_failed_load) {\n      console.log(\"Bokeh: BokehJS failed to load within specified timeout.\");\n      root._bokeh_failed_load = true;\n    } else if (force !== true) {\n      var cell = $(document.getElementById(\"efe41b8b-a621-475a-9ea3-8dbfee3d29a3\")).parents('.cell').data().cell;\n      cell.output_area.append_execute_result(NB_LOAD_WARNING)\n    }\n\n  }\n\n  if (root._bokeh_is_loading === 0) {\n    console.log(\"Bokeh: BokehJS loaded, going straight to plotting\");\n    run_inline_js();\n  } else {\n    load_libs(js_urls, function() {\n      console.log(\"Bokeh: BokehJS plotting callback run at\", now());\n      run_inline_js();\n    });\n  }\n}(window));"
     },
     "metadata": {},
     "output_type": "display_data"
    }
   ],
   "source": [
    "from bokeh.plotting import figure, output_file, show\n",
    "\n",
    "from bokeh.io import output_notebook\n",
    "\n",
    "output_notebook()"
   ]
  },
  {
   "cell_type": "markdown",
   "metadata": {},
   "source": [
    "## 수집된 데이터에 대한 간략한 설명\n",
    "\n",
    " 2016년 5월부터 2017년 12월 넷째주까지 주요 13개 언론사의 기사중 연애와 스포츠를 제외한 기사들을 수집. 해당 기사들의 네이버 URL과 언론사의 URL을 기준으로 페이스북의 Graph api로 조회하여 페이스북에서의 공유수, 코멘트수(페이스북자체 댓글, 페이스북 댓글 플러그인), 반응(좋아요, 최고예요, 웃겨요, 멋저요, 슬퍼요, 화나요의 합)수를 정리함. \n",
    " \n",
    "최초 18개의 언론사의 기사를 수집했으나, 데이터 정합성에 문제의 소지가 있거나 2017년 중 데이터를 수집한 언론사는 우선 제외함. 언론사 목록은 아래에 표시. \n",
    "\n",
    "> * 조선일보\n",
    "> * 동아일보\n",
    "> * 이데일리\n",
    "> * 한겨레신문\n",
    "> * 중앙일보\n",
    "> * JTBC\n",
    "> * KBS\n",
    "> * 경향신문\n",
    "> * MBC\n",
    "> * 매일경제\n",
    "> * ~~머니투데이~~(2017년 중반부터 수집)\n",
    "> * ~~뉴시스~~(2017년 중반부터 수집)\n",
    "> * ~~노컷뉴스~~(언론사 URL 변경으로 인한 데이터 오류 가능성)\n",
    "> * 오마이뉴스\n",
    "> * SBS\n",
    "> * ~~서울경제~~(2017년 중반부터 수집)\n",
    "> * 연합뉴스\n",
    "> * ~~YTN~~(언론사 URL 변경으로 인한 데이터 오류 가능성)"
   ]
  },
  {
   "cell_type": "markdown",
   "metadata": {},
   "source": [
    "## 수집된 데이터 정리"
   ]
  },
  {
   "cell_type": "code",
   "execution_count": 2,
   "metadata": {},
   "outputs": [],
   "source": [
    "import glob\n",
    "\n",
    "files = glob.glob('./newsdata/data/*.json')"
   ]
  },
  {
   "cell_type": "code",
   "execution_count": 3,
   "metadata": {},
   "outputs": [],
   "source": [
    "import json\n",
    "def read_json_file(path_to_file):\n",
    "    with open(path_to_file) as p:\n",
    "        rows=[json.loads(line) for line in p]\n",
    "    return rows"
   ]
  },
  {
   "cell_type": "code",
   "execution_count": 4,
   "metadata": {},
   "outputs": [],
   "source": [
    "import pandas as pd\n",
    "\n",
    "data={}\n",
    "for path in files:\n",
    "    file = path.split('/')[3]\n",
    "    media = file.split('.')[0]\n",
    "    if media not in data:\n",
    "        data[media] = read_json_file(path)\n",
    "    else :\n",
    "        data[media].extend(read_json_file(path))    \n",
    "    \n",
    "\n",
    "#df = pd.DataFrame(data)"
   ]
  },
  {
   "cell_type": "code",
   "execution_count": 5,
   "metadata": {},
   "outputs": [
    {
     "data": {
      "text/plain": [
       "1045920"
      ]
     },
     "execution_count": 5,
     "metadata": {},
     "output_type": "execute_result"
    }
   ],
   "source": [
    "dict_of_df = {k: pd.DataFrame(v) for k,v in data.items()}\n",
    "df = pd.concat(dict_of_df, axis=0)\n",
    "df.reset_index(level=0, inplace=True)\n",
    "len(df)"
   ]
  },
  {
   "cell_type": "code",
   "execution_count": 6,
   "metadata": {},
   "outputs": [],
   "source": [
    "df=df.rename({'level_0':'media'}, axis=1)"
   ]
  },
  {
   "cell_type": "code",
   "execution_count": 7,
   "metadata": {},
   "outputs": [],
   "source": [
    "df['year'] = df['date'].apply(lambda x: x[0] )\n",
    "df['month'] = df['date'].apply(lambda x: x[1] )\n",
    "df['datetime'] = df['date'].apply(lambda x: \"-\".join(x) )\n",
    "df['datetime'] = pd.to_datetime(df['datetime'])"
   ]
  },
  {
   "cell_type": "code",
   "execution_count": 8,
   "metadata": {},
   "outputs": [],
   "source": [
    "df['n_comment_count']=df['n_engagement'].apply(lambda x:x['comment_count'] if(isinstance(x, dict)) else 0)\n",
    "df['n_comment_plugin_count']=df['n_engagement'].apply(lambda x:x['comment_plugin_count'] if(isinstance(x, dict)) else 0)\n",
    "df['n_share_count']=df['n_engagement'].apply(lambda x:x['share_count'] if(isinstance(x, dict)) else 0)\n",
    "df['n_reaction_count']=df['n_engagement'].apply(lambda x:x['reaction_count'] if(isinstance(x, dict)) else 0)\n",
    "df['o_comment_count']=df['o_engagement'].apply(lambda x:x['comment_count'] if(isinstance(x, dict)) else 0)\n",
    "df['o_comment_plugin_count']=df['o_engagement'].apply(lambda x:x['comment_plugin_count'] if(isinstance(x, dict)) else 0)\n",
    "df['o_share_count']=df['o_engagement'].apply(lambda x:x['share_count'] if(isinstance(x, dict)) else 0)\n",
    "df['o_reaction_count']=df['o_engagement'].apply(lambda x:x['reaction_count'] if(isinstance(x, dict)) else 0)"
   ]
  },
  {
   "cell_type": "code",
   "execution_count": 9,
   "metadata": {},
   "outputs": [],
   "source": [
    "df['tot_comment_count']=df['n_comment_count']+df['o_comment_count']\n",
    "df['tot_plugin_count']=df['n_comment_plugin_count']+df['o_comment_plugin_count']\n",
    "df['tot_share_count']=df['n_share_count']+df['o_share_count']\n",
    "df['tot_reaction_count']=df['n_reaction_count']+df['o_reaction_count']\n",
    "df['tot_all_comment']=df['tot_comment_count']+df['tot_plugin_count']"
   ]
  },
  {
   "cell_type": "markdown",
   "metadata": {},
   "source": [
    "## 조사기간 한정 및 오류 가능성이 있는 언론사 제외\n",
    "\n",
    "데이터 설명에서 언급된 바와 같이 최초 수집된 18개 언론사중 머니투데이, 뉴시스, 서울경제는 2017년중에 데이터를 수집한 관계로 제외하고 노컷뉴스와 YTN은 해당 회사의 url 정책 변경등으로 데이터 정합성을 보장하기 어려워 제외함."
   ]
  },
  {
   "cell_type": "code",
   "execution_count": 10,
   "metadata": {},
   "outputs": [],
   "source": [
    "df=df[~df.media.isin(['mt','newsis', 'sedaily', 'nocut', 'ytn'])]\n",
    "df_year = df[(df['datetime']>'20160430') & (df['datetime']<'20171225')]"
   ]
  },
  {
   "cell_type": "markdown",
   "metadata": {},
   "source": [
    "## 월별 언론사별 뉴스 공유수\n",
    "\n",
    "공유수란 이용자가 해당 언론사 홈페이지나 페이스북에서 공유 기능을 활용하여 사용자 자신의 타임라인에 해당 기사를 공유할때 발생하는 숫자의 합산."
   ]
  },
  {
   "cell_type": "code",
   "execution_count": 11,
   "metadata": {},
   "outputs": [
    {
     "data": {
      "text/plain": [
       "media\n",
       "yonhap      1417660\n",
       "hani        1414191\n",
       "ohmynews    1257679\n",
       "chosun      1157615\n",
       "kh           988565\n",
       "joins        725679\n",
       "jtbc         540296\n",
       "sbs          535557\n",
       "mk           272720\n",
       "kbs          219985\n",
       "donga        204766\n",
       "edaily       147788\n",
       "mbc          133274\n",
       "Name: tot_share_count, dtype: int64"
      ]
     },
     "execution_count": 11,
     "metadata": {},
     "output_type": "execute_result"
    }
   ],
   "source": [
    "media_share_sum = df_year.groupby('media')['tot_share_count'].sum()\n",
    "sort_sum=media_share_sum.sort_values(ascending=False)\n",
    "sort_sum"
   ]
  },
  {
   "cell_type": "code",
   "execution_count": 12,
   "metadata": {},
   "outputs": [],
   "source": [
    "share_group_sum=df_year.groupby([pd.Grouper(key='datetime', freq='M'), 'media'])['tot_share_count'].sum()\n",
    "unstacked_share_sum=share_group_sum.unstack(level=-1)\n",
    "unstacked_share_sum.reset_index(level=0, inplace=True)\n",
    "#unstacked_share_mean"
   ]
  },
  {
   "cell_type": "code",
   "execution_count": 13,
   "metadata": {},
   "outputs": [
    {
     "data": {
      "text/html": [
       "\n",
       "<div class=\"bk-root\">\n",
       "    <div class=\"bk-plotdiv\" id=\"d608b6ba-4eb8-49c8-b856-d8b0b9281e7c\"></div>\n",
       "</div>"
      ]
     },
     "metadata": {},
     "output_type": "display_data"
    },
    {
     "data": {
      "application/javascript": [
       "(function(root) {\n",
       "  function embed_document(root) {\n",
       "    \n",
       "  var docs_json = {\"2268c4c3-a6ed-4228-b496-8af0ea869c91\":{\"roots\":{\"references\":[{\"attributes\":{\"base\":60,\"mantissas\":[1,2,5,10,15,20,30],\"max_interval\":1800000.0,\"min_interval\":1000.0,\"num_minor_ticks\":0},\"id\":\"2492e5b8-21cf-47ea-95db-85c152547937\",\"type\":\"AdaptiveTicker\"},{\"attributes\":{\"callback\":null,\"column_names\":[\"x\",\"y\"],\"data\":{\"x\":{\"__ndarray__\":\"AAAAwkFQdUIAAICu6Vl1QgAAwADkY3VCAAAAU95tdUIAAIA/hnd1QgAAwJGAgXVCAABAfiiLdUIAAIDQIpV1QgAAwCIdn3VCAADAQyCodUIAAACWGrJ1QgAAgILCu3VCAADA1LzFdUIAAEDBZM91QgAAgBNf2XVCAADAZVnjdUIAAEBSAe11QgAAgKT79nVCAAAAkaMAdkIAAEDjnQp2Qg==\",\"dtype\":\"float64\",\"shape\":[20]},\"y\":[28722,25317,29800,32407,34332,53464,77962,66750,52426,38502,38643,46579,38477,36783,29099,14014,25251,20820,24285,12046]}},\"id\":\"b905bfd6-ec82-4d1c-bf4a-63eb492e5cd6\",\"type\":\"ColumnDataSource\"},{\"attributes\":{\"base\":24,\"mantissas\":[1,2,4,6,8,12],\"max_interval\":43200000.0,\"min_interval\":3600000.0,\"num_minor_ticks\":0},\"id\":\"8b062395-64d6-41e5-b99d-f83ff7c6780c\",\"type\":\"AdaptiveTicker\"},{\"attributes\":{\"days\":[1,2,3,4,5,6,7,8,9,10,11,12,13,14,15,16,17,18,19,20,21,22,23,24,25,26,27,28,29,30,31]},\"id\":\"ed650741-eb37-48da-829a-e144266b8d99\",\"type\":\"DaysTicker\"},{\"attributes\":{\"days\":[1,4,7,10,13,16,19,22,25,28]},\"id\":\"e96a1c8e-1a83-4301-a587-c705de6cbf74\",\"type\":\"DaysTicker\"},{\"attributes\":{\"days\":[1,8,15,22]},\"id\":\"29d80937-e92d-4867-8e62-4455ef19cf7f\",\"type\":\"DaysTicker\"},{\"attributes\":{\"line_color\":\"#f90202\",\"line_width\":2,\"x\":{\"field\":\"x\"},\"y\":{\"field\":\"y\"}},\"id\":\"116695da-6450-4c49-9f98-7aae1ae76822\",\"type\":\"Line\"},{\"attributes\":{\"days\":[1,15]},\"id\":\"a83c211a-d376-4a04-a7a9-22f4d8ae52fc\",\"type\":\"DaysTicker\"},{\"attributes\":{\"months\":[0,1,2,3,4,5,6,7,8,9,10,11]},\"id\":\"b907b8f8-35ed-435b-9f7e-106308b5a86a\",\"type\":\"MonthsTicker\"},{\"attributes\":{\"months\":[0,2,4,6,8,10]},\"id\":\"fefeb1a5-5152-48cd-9fdf-764ba2bdaf90\",\"type\":\"MonthsTicker\"},{\"attributes\":{\"months\":[0,4,8]},\"id\":\"05924fb8-ce06-426e-afe6-6671ac18dc61\",\"type\":\"MonthsTicker\"},{\"attributes\":{\"months\":[0,6]},\"id\":\"d90e14e7-e5eb-4003-94b7-0004f6c835f8\",\"type\":\"MonthsTicker\"},{\"attributes\":{},\"id\":\"8bbeb58c-03f7-44ed-b81f-f7c1e706b8bd\",\"type\":\"YearsTicker\"},{\"attributes\":{\"items\":[{\"id\":\"a0ecd58d-4c97-4afd-a27a-82d71373175b\",\"type\":\"LegendItem\"},{\"id\":\"fdd98d2f-1595-421e-ab59-8aa326553395\",\"type\":\"LegendItem\"},{\"id\":\"3b7866b4-b5d7-4541-b546-25d8370fd041\",\"type\":\"LegendItem\"},{\"id\":\"35ac1ea9-d94a-498d-9d28-dbebbc0ec67d\",\"type\":\"LegendItem\"},{\"id\":\"d317c7a3-3c11-4694-96c0-89a5f46af44e\",\"type\":\"LegendItem\"},{\"id\":\"bc725507-5bb2-4808-b641-7c8c2108bea5\",\"type\":\"LegendItem\"},{\"id\":\"fe0cf211-2665-4fb6-841c-f16ad152657d\",\"type\":\"LegendItem\"},{\"id\":\"1c8b7b44-7fd2-433f-b284-b1fa1bf85d53\",\"type\":\"LegendItem\"}],\"plot\":{\"id\":\"39984cbd-2eff-4728-9078-a4e615e231c5\",\"subtype\":\"Figure\",\"type\":\"Plot\"}},\"id\":\"c9b3e176-8443-4057-ab25-6d0c43b06a35\",\"type\":\"Legend\"},{\"attributes\":{\"line_alpha\":0.1,\"line_color\":\"#1f77b4\",\"line_width\":2,\"x\":{\"field\":\"x\"},\"y\":{\"field\":\"y\"}},\"id\":\"1f86c369-1106-4816-a512-0922919cd306\",\"type\":\"Line\"},{\"attributes\":{\"line_color\":\"#E2A00B\",\"line_width\":2,\"x\":{\"field\":\"x\"},\"y\":{\"field\":\"y\"}},\"id\":\"14a91d23-ed88-4b9e-a1cd-e3e6fc7b91da\",\"type\":\"Line\"},{\"attributes\":{\"callback\":null,\"column_names\":[\"x\",\"y\"],\"data\":{\"x\":{\"__ndarray__\":\"AAAAwkFQdUIAAICu6Vl1QgAAwADkY3VCAAAAU95tdUIAAIA/hnd1QgAAwJGAgXVCAABAfiiLdUIAAIDQIpV1QgAAwCIdn3VCAADAQyCodUIAAACWGrJ1QgAAgILCu3VCAADA1LzFdUIAAEDBZM91QgAAgBNf2XVCAADAZVnjdUIAAEBSAe11QgAAgKT79nVCAAAAkaMAdkIAAEDjnQp2Qg==\",\"dtype\":\"float64\",\"shape\":[20]},\"y\":[45425,52454,63140,61445,72207,73544,85444,82068,95530,87502,92234,82872,89871,82039,73964,32941,77729,65588,66971,34692]}},\"id\":\"1f24bb99-27d3-4f3d-923b-6b3a0d3281d5\",\"type\":\"ColumnDataSource\"},{\"attributes\":{\"label\":{\"value\":\"\\uc911\\uc559\\uc77c\\ubcf4\"},\"renderers\":[{\"id\":\"f54af648-b3d0-4787-8554-9c599d16f87f\",\"type\":\"GlyphRenderer\"}]},\"id\":\"fdd98d2f-1595-421e-ab59-8aa326553395\",\"type\":\"LegendItem\"},{\"attributes\":{\"data_source\":{\"id\":\"b905bfd6-ec82-4d1c-bf4a-63eb492e5cd6\",\"type\":\"ColumnDataSource\"},\"glyph\":{\"id\":\"14a91d23-ed88-4b9e-a1cd-e3e6fc7b91da\",\"type\":\"Line\"},\"hover_glyph\":null,\"muted_glyph\":null,\"nonselection_glyph\":{\"id\":\"1f86c369-1106-4816-a512-0922919cd306\",\"type\":\"Line\"},\"selection_glyph\":null,\"view\":{\"id\":\"9a02e4e4-de7c-46f1-9727-f763cb6b4596\",\"type\":\"CDSView\"}},\"id\":\"f54af648-b3d0-4787-8554-9c599d16f87f\",\"type\":\"GlyphRenderer\"},{\"attributes\":{\"source\":{\"id\":\"b905bfd6-ec82-4d1c-bf4a-63eb492e5cd6\",\"type\":\"ColumnDataSource\"}},\"id\":\"9a02e4e4-de7c-46f1-9727-f763cb6b4596\",\"type\":\"CDSView\"},{\"attributes\":{\"callback\":null,\"column_names\":[\"x\",\"y\"],\"data\":{\"x\":{\"__ndarray__\":\"AAAAwkFQdUIAAICu6Vl1QgAAwADkY3VCAAAAU95tdUIAAIA/hnd1QgAAwJGAgXVCAABAfiiLdUIAAIDQIpV1QgAAwCIdn3VCAADAQyCodUIAAACWGrJ1QgAAgILCu3VCAADA1LzFdUIAAEDBZM91QgAAgBNf2XVCAADAZVnjdUIAAEBSAe11QgAAgKT79nVCAAAAkaMAdkIAAEDjnQp2Qg==\",\"dtype\":\"float64\",\"shape\":[20]},\"y\":[55870,57721,61056,78889,80125,103229,142669,98117,68353,56447,62553,67089,64957,48367,39817,27692,36901,40879,38107,28841]}},\"id\":\"5601c5e5-bb1b-4e4b-a443-1aa4044b4127\",\"type\":\"ColumnDataSource\"},{\"attributes\":{\"line_alpha\":0.1,\"line_color\":\"#1f77b4\",\"line_dash\":[6],\"line_width\":2,\"x\":{\"field\":\"x\"},\"y\":{\"field\":\"y\"}},\"id\":\"b1b40b04-cc6f-4ed8-9a4a-df0565e5f46f\",\"type\":\"Line\"},{\"attributes\":{\"line_color\":\"#1cefef\",\"line_dash\":[6],\"line_width\":2,\"x\":{\"field\":\"x\"},\"y\":{\"field\":\"y\"}},\"id\":\"e428a4ae-3dc3-4f39-b2cf-998013a01daf\",\"type\":\"Line\"},{\"attributes\":{\"line_alpha\":0.1,\"line_color\":\"#1f77b4\",\"line_dash\":[6],\"line_width\":2,\"x\":{\"field\":\"x\"},\"y\":{\"field\":\"y\"}},\"id\":\"3ad08497-b89d-47d5-8f37-45f51409105c\",\"type\":\"Line\"},{\"attributes\":{\"label\":{\"value\":\"\\uc5f0\\ud569\\ub274\\uc2a4\"},\"renderers\":[{\"id\":\"bbc48fd9-6caa-4b89-b633-1aa59972525e\",\"type\":\"GlyphRenderer\"}]},\"id\":\"3b7866b4-b5d7-4541-b546-25d8370fd041\",\"type\":\"LegendItem\"},{\"attributes\":{\"data_source\":{\"id\":\"1f24bb99-27d3-4f3d-923b-6b3a0d3281d5\",\"type\":\"ColumnDataSource\"},\"glyph\":{\"id\":\"e428a4ae-3dc3-4f39-b2cf-998013a01daf\",\"type\":\"Line\"},\"hover_glyph\":null,\"muted_glyph\":null,\"nonselection_glyph\":{\"id\":\"3ad08497-b89d-47d5-8f37-45f51409105c\",\"type\":\"Line\"},\"selection_glyph\":null,\"view\":{\"id\":\"7b4b51c2-4294-44d9-a158-3d93f1d4e5b3\",\"type\":\"CDSView\"}},\"id\":\"bbc48fd9-6caa-4b89-b633-1aa59972525e\",\"type\":\"GlyphRenderer\"},{\"attributes\":{\"source\":{\"id\":\"1f24bb99-27d3-4f3d-923b-6b3a0d3281d5\",\"type\":\"ColumnDataSource\"}},\"id\":\"7b4b51c2-4294-44d9-a158-3d93f1d4e5b3\",\"type\":\"CDSView\"},{\"attributes\":{\"callback\":null,\"column_names\":[\"x\",\"y\"],\"data\":{\"x\":{\"__ndarray__\":\"AAAAwkFQdUIAAICu6Vl1QgAAwADkY3VCAAAAU95tdUIAAIA/hnd1QgAAwJGAgXVCAABAfiiLdUIAAIDQIpV1QgAAwCIdn3VCAADAQyCodUIAAACWGrJ1QgAAgILCu3VCAADA1LzFdUIAAEDBZM91QgAAgBNf2XVCAADAZVnjdUIAAEBSAe11QgAAgKT79nVCAAAAkaMAdkIAAEDjnQp2Qg==\",\"dtype\":\"float64\",\"shape\":[20]},\"y\":[53765,48326,66251,77818,79981,116916,159181,135791,91046,64170,79982,72061,74211,57557,50058,28863,45384,37380,43370,32080]}},\"id\":\"da85a437-48c2-4eb7-b096-083df51baf94\",\"type\":\"ColumnDataSource\"},{\"attributes\":{\"line_alpha\":0.1,\"line_color\":\"#1f77b4\",\"line_width\":2,\"x\":{\"field\":\"x\"},\"y\":{\"field\":\"y\"}},\"id\":\"ea9e81bb-13ed-4d37-8f36-c906115a1385\",\"type\":\"Line\"},{\"attributes\":{\"line_color\":\"#ff3300\",\"line_dash\":[6],\"line_width\":2,\"x\":{\"field\":\"x\"},\"y\":{\"field\":\"y\"}},\"id\":\"d5fb775f-38ab-4a94-8b40-67c494c014ff\",\"type\":\"Line\"},{\"attributes\":{\"label\":{\"value\":\"\\uc624\\ub9c8\\uc774\\ub274\\uc2a4\"},\"renderers\":[{\"id\":\"5c67288a-584a-456c-a501-30cf72a55d6d\",\"type\":\"GlyphRenderer\"}]},\"id\":\"35ac1ea9-d94a-498d-9d28-dbebbc0ec67d\",\"type\":\"LegendItem\"},{\"attributes\":{\"callback\":null,\"column_names\":[\"x\",\"y\"],\"data\":{\"x\":{\"__ndarray__\":\"AAAAwkFQdUIAAICu6Vl1QgAAwADkY3VCAAAAU95tdUIAAIA/hnd1QgAAwJGAgXVCAABAfiiLdUIAAIDQIpV1QgAAwCIdn3VCAADAQyCodUIAAACWGrJ1QgAAgILCu3VCAADA1LzFdUIAAEDBZM91QgAAgBNf2XVCAADAZVnjdUIAAEBSAe11QgAAgKT79nVCAAAAkaMAdkIAAEDjnQp2Qg==\",\"dtype\":\"float64\",\"shape\":[20]},\"y\":[30152,33099,37179,40332,42422,75661,90878,81203,76592,62126,72092,55492,52393,46186,42785,23811,41087,41706,35514,7855]}},\"id\":\"685f31dd-60dc-4e0c-994c-95fda6a2f98c\",\"type\":\"ColumnDataSource\"},{\"attributes\":{\"data_source\":{\"id\":\"5601c5e5-bb1b-4e4b-a443-1aa4044b4127\",\"type\":\"ColumnDataSource\"},\"glyph\":{\"id\":\"d5fb775f-38ab-4a94-8b40-67c494c014ff\",\"type\":\"Line\"},\"hover_glyph\":null,\"muted_glyph\":null,\"nonselection_glyph\":{\"id\":\"b1b40b04-cc6f-4ed8-9a4a-df0565e5f46f\",\"type\":\"Line\"},\"selection_glyph\":null,\"view\":{\"id\":\"feceb51a-5990-4fb2-a79f-8f6ea1ae198a\",\"type\":\"CDSView\"}},\"id\":\"5c67288a-584a-456c-a501-30cf72a55d6d\",\"type\":\"GlyphRenderer\"},{\"attributes\":{\"source\":{\"id\":\"5601c5e5-bb1b-4e4b-a443-1aa4044b4127\",\"type\":\"ColumnDataSource\"}},\"id\":\"feceb51a-5990-4fb2-a79f-8f6ea1ae198a\",\"type\":\"CDSView\"},{\"attributes\":{\"line_alpha\":0.1,\"line_color\":\"#1f77b4\",\"line_width\":2,\"x\":{\"field\":\"x\"},\"y\":{\"field\":\"y\"}},\"id\":\"ec85dc9f-2921-4a34-b7ee-539e38390069\",\"type\":\"Line\"},{\"attributes\":{\"below\":[{\"id\":\"0d1b91cb-1ebc-40c8-a5dd-a5a35880c1ee\",\"type\":\"DatetimeAxis\"}],\"left\":[{\"id\":\"e46cc1d8-0c34-4784-8dfa-81e3e9fb31f4\",\"type\":\"LinearAxis\"}],\"plot_height\":500,\"plot_width\":750,\"renderers\":[{\"id\":\"0d1b91cb-1ebc-40c8-a5dd-a5a35880c1ee\",\"type\":\"DatetimeAxis\"},{\"id\":\"f989a5f9-09ad-4dfe-ac60-50fa376eb56e\",\"type\":\"Grid\"},{\"id\":\"e46cc1d8-0c34-4784-8dfa-81e3e9fb31f4\",\"type\":\"LinearAxis\"},{\"id\":\"ea696274-13ea-411a-9939-27e08ca5f942\",\"type\":\"Grid\"},{\"id\":\"dd819f94-48f1-42fe-8675-5fb13a46e82a\",\"type\":\"BoxAnnotation\"},{\"id\":\"c9b3e176-8443-4057-ab25-6d0c43b06a35\",\"type\":\"Legend\"},{\"id\":\"8860f9d9-28b4-4295-bd28-6add5007de12\",\"type\":\"GlyphRenderer\"},{\"id\":\"f54af648-b3d0-4787-8554-9c599d16f87f\",\"type\":\"GlyphRenderer\"},{\"id\":\"bbc48fd9-6caa-4b89-b633-1aa59972525e\",\"type\":\"GlyphRenderer\"},{\"id\":\"5c67288a-584a-456c-a501-30cf72a55d6d\",\"type\":\"GlyphRenderer\"},{\"id\":\"7bdc6716-f4ec-4a77-9f15-7e805b0bafb7\",\"type\":\"GlyphRenderer\"},{\"id\":\"ff4994fb-5de1-4b43-9e7e-4ba0b578cfd2\",\"type\":\"GlyphRenderer\"},{\"id\":\"2ea0e41f-2415-4536-ba44-6313cc99b3cf\",\"type\":\"GlyphRenderer\"},{\"id\":\"5d291075-a141-486f-8a2c-5c1007653caf\",\"type\":\"GlyphRenderer\"}],\"title\":{\"id\":\"a9bee57f-0f1a-4c96-872d-ff76a5169f21\",\"type\":\"Title\"},\"toolbar\":{\"id\":\"f8a55183-5d30-45d0-be92-485d28f1fc65\",\"type\":\"Toolbar\"},\"x_range\":{\"id\":\"643b261a-a382-4a61-af40-5a85f7185d98\",\"type\":\"DataRange1d\"},\"x_scale\":{\"id\":\"a3272039-fa6f-4e9b-9556-19eead6d24e5\",\"type\":\"LinearScale\"},\"y_range\":{\"id\":\"20c3317b-15ea-4d45-af7c-3ca577819cee\",\"type\":\"DataRange1d\"},\"y_scale\":{\"id\":\"19ff6ad8-debf-4881-900a-c3c1457184f5\",\"type\":\"LinearScale\"}},\"id\":\"39984cbd-2eff-4728-9078-a4e615e231c5\",\"subtype\":\"Figure\",\"type\":\"Plot\"},{\"attributes\":{\"line_color\":\"#01996e\",\"line_width\":2,\"x\":{\"field\":\"x\"},\"y\":{\"field\":\"y\"}},\"id\":\"d4cc14d5-5974-46ac-ae59-bc2fbffd8689\",\"type\":\"Line\"},{\"attributes\":{\"label\":{\"value\":\"\\ud55c\\uaca8\\ub808\"},\"renderers\":[{\"id\":\"7bdc6716-f4ec-4a77-9f15-7e805b0bafb7\",\"type\":\"GlyphRenderer\"}]},\"id\":\"d317c7a3-3c11-4694-96c0-89a5f46af44e\",\"type\":\"LegendItem\"},{\"attributes\":{\"line_alpha\":0.1,\"line_color\":\"#1f77b4\",\"line_width\":2,\"x\":{\"field\":\"x\"},\"y\":{\"field\":\"y\"}},\"id\":\"acd021ac-ca49-4b93-b113-a3d9f82644fb\",\"type\":\"Line\"},{\"attributes\":{\"plot\":null,\"text\":\"\\uc6d4\\ubcc4 \\uacf5\\uc720\\uc218 \\ud569\\uc0b0\"},\"id\":\"a9bee57f-0f1a-4c96-872d-ff76a5169f21\",\"type\":\"Title\"},{\"attributes\":{\"data_source\":{\"id\":\"da85a437-48c2-4eb7-b096-083df51baf94\",\"type\":\"ColumnDataSource\"},\"glyph\":{\"id\":\"d4cc14d5-5974-46ac-ae59-bc2fbffd8689\",\"type\":\"Line\"},\"hover_glyph\":null,\"muted_glyph\":null,\"nonselection_glyph\":{\"id\":\"ea9e81bb-13ed-4d37-8f36-c906115a1385\",\"type\":\"Line\"},\"selection_glyph\":null,\"view\":{\"id\":\"f9385eeb-7145-4159-b159-3cd7af87c3c3\",\"type\":\"CDSView\"}},\"id\":\"7bdc6716-f4ec-4a77-9f15-7e805b0bafb7\",\"type\":\"GlyphRenderer\"},{\"attributes\":{\"callback\":null},\"id\":\"643b261a-a382-4a61-af40-5a85f7185d98\",\"type\":\"DataRange1d\"},{\"attributes\":{\"source\":{\"id\":\"da85a437-48c2-4eb7-b096-083df51baf94\",\"type\":\"ColumnDataSource\"}},\"id\":\"f9385eeb-7145-4159-b159-3cd7af87c3c3\",\"type\":\"CDSView\"},{\"attributes\":{\"active_drag\":\"auto\",\"active_inspect\":\"auto\",\"active_scroll\":\"auto\",\"active_tap\":\"auto\",\"tools\":[{\"id\":\"4dd4c934-8779-4967-bfd9-db1a32991f64\",\"type\":\"PanTool\"},{\"id\":\"043cdd19-40a6-463a-a713-f6f05c3c6b50\",\"type\":\"WheelZoomTool\"},{\"id\":\"8b91888f-ff61-4d2e-8ec2-fe38ee136e85\",\"type\":\"BoxZoomTool\"},{\"id\":\"b05fccd7-e039-48f0-812c-91fa1224b701\",\"type\":\"SaveTool\"},{\"id\":\"ef1aca5b-4a0a-44b5-af23-6571c4aa715d\",\"type\":\"ResetTool\"},{\"id\":\"ea857865-d8bb-4483-ac09-759917d00a88\",\"type\":\"HelpTool\"}]},\"id\":\"f8a55183-5d30-45d0-be92-485d28f1fc65\",\"type\":\"Toolbar\"},{\"attributes\":{\"callback\":null,\"column_names\":[\"x\",\"y\"],\"data\":{\"x\":{\"__ndarray__\":\"AAAAwkFQdUIAAICu6Vl1QgAAwADkY3VCAAAAU95tdUIAAIA/hnd1QgAAwJGAgXVCAABAfiiLdUIAAIDQIpV1QgAAwCIdn3VCAADAQyCodUIAAACWGrJ1QgAAgILCu3VCAADA1LzFdUIAAEDBZM91QgAAgBNf2XVCAADAZVnjdUIAAEBSAe11QgAAgKT79nVCAAAAkaMAdkIAAEDjnQp2Qg==\",\"dtype\":\"float64\",\"shape\":[20]},\"y\":[18251,22903,22953,21507,16322,36193,63765,52033,36807,24162,27878,26530,37276,20804,21107,20755,17981,18101,25032,9936]}},\"id\":\"1506d43d-9b6d-44e9-912d-69f3075011dc\",\"type\":\"ColumnDataSource\"},{\"attributes\":{\"label\":{\"value\":\"\\uc870\\uc120\\uc77c\\ubcf4\"},\"renderers\":[{\"id\":\"8860f9d9-28b4-4295-bd28-6add5007de12\",\"type\":\"GlyphRenderer\"}]},\"id\":\"a0ecd58d-4c97-4afd-a27a-82d71373175b\",\"type\":\"LegendItem\"},{\"attributes\":{\"line_alpha\":0.1,\"line_color\":\"#1f77b4\",\"line_dash\":[2,4],\"line_width\":2,\"x\":{\"field\":\"x\"},\"y\":{\"field\":\"y\"}},\"id\":\"49e9644a-4915-42fe-a5af-a92970b6b96a\",\"type\":\"Line\"},{\"attributes\":{},\"id\":\"a3272039-fa6f-4e9b-9556-19eead6d24e5\",\"type\":\"LinearScale\"},{\"attributes\":{\"line_color\":\"#18407D\",\"line_width\":2,\"x\":{\"field\":\"x\"},\"y\":{\"field\":\"y\"}},\"id\":\"593260cb-246b-42d8-a3f5-faa4e444a49d\",\"type\":\"Line\"},{\"attributes\":{\"callback\":null},\"id\":\"20c3317b-15ea-4d45-af7c-3ca577819cee\",\"type\":\"DataRange1d\"},{\"attributes\":{\"label\":{\"value\":\"\\uacbd\\ud5a5\\uc2e0\\ubb38\"},\"renderers\":[{\"id\":\"ff4994fb-5de1-4b43-9e7e-4ba0b578cfd2\",\"type\":\"GlyphRenderer\"}]},\"id\":\"bc725507-5bb2-4808-b641-7c8c2108bea5\",\"type\":\"LegendItem\"},{\"attributes\":{},\"id\":\"19ff6ad8-debf-4881-900a-c3c1457184f5\",\"type\":\"LinearScale\"},{\"attributes\":{\"data_source\":{\"id\":\"685f31dd-60dc-4e0c-994c-95fda6a2f98c\",\"type\":\"ColumnDataSource\"},\"glyph\":{\"id\":\"593260cb-246b-42d8-a3f5-faa4e444a49d\",\"type\":\"Line\"},\"hover_glyph\":null,\"muted_glyph\":null,\"nonselection_glyph\":{\"id\":\"ec85dc9f-2921-4a34-b7ee-539e38390069\",\"type\":\"Line\"},\"selection_glyph\":null,\"view\":{\"id\":\"41aa0c85-3109-4074-95df-0fb6ee741ec4\",\"type\":\"CDSView\"}},\"id\":\"ff4994fb-5de1-4b43-9e7e-4ba0b578cfd2\",\"type\":\"GlyphRenderer\"},{\"attributes\":{\"axis_label\":\"\\uc6d4\\ubcc4\",\"formatter\":{\"id\":\"8ad4555f-4f08-4817-a4aa-193d7fddf0cc\",\"type\":\"DatetimeTickFormatter\"},\"plot\":{\"id\":\"39984cbd-2eff-4728-9078-a4e615e231c5\",\"subtype\":\"Figure\",\"type\":\"Plot\"},\"ticker\":{\"id\":\"b42673da-9c7d-427f-8d33-6cbd11cb972e\",\"type\":\"DatetimeTicker\"}},\"id\":\"0d1b91cb-1ebc-40c8-a5dd-a5a35880c1ee\",\"type\":\"DatetimeAxis\"},{\"attributes\":{\"source\":{\"id\":\"685f31dd-60dc-4e0c-994c-95fda6a2f98c\",\"type\":\"ColumnDataSource\"}},\"id\":\"41aa0c85-3109-4074-95df-0fb6ee741ec4\",\"type\":\"CDSView\"},{\"attributes\":{\"num_minor_ticks\":5,\"tickers\":[{\"id\":\"464158cd-fe5c-4591-b36d-8d51b4dd9479\",\"type\":\"AdaptiveTicker\"},{\"id\":\"2492e5b8-21cf-47ea-95db-85c152547937\",\"type\":\"AdaptiveTicker\"},{\"id\":\"8b062395-64d6-41e5-b99d-f83ff7c6780c\",\"type\":\"AdaptiveTicker\"},{\"id\":\"ed650741-eb37-48da-829a-e144266b8d99\",\"type\":\"DaysTicker\"},{\"id\":\"e96a1c8e-1a83-4301-a587-c705de6cbf74\",\"type\":\"DaysTicker\"},{\"id\":\"29d80937-e92d-4867-8e62-4455ef19cf7f\",\"type\":\"DaysTicker\"},{\"id\":\"a83c211a-d376-4a04-a7a9-22f4d8ae52fc\",\"type\":\"DaysTicker\"},{\"id\":\"b907b8f8-35ed-435b-9f7e-106308b5a86a\",\"type\":\"MonthsTicker\"},{\"id\":\"fefeb1a5-5152-48cd-9fdf-764ba2bdaf90\",\"type\":\"MonthsTicker\"},{\"id\":\"05924fb8-ce06-426e-afe6-6671ac18dc61\",\"type\":\"MonthsTicker\"},{\"id\":\"d90e14e7-e5eb-4003-94b7-0004f6c835f8\",\"type\":\"MonthsTicker\"},{\"id\":\"8bbeb58c-03f7-44ed-b81f-f7c1e706b8bd\",\"type\":\"YearsTicker\"}]},\"id\":\"b42673da-9c7d-427f-8d33-6cbd11cb972e\",\"type\":\"DatetimeTicker\"},{\"attributes\":{\"callback\":null,\"column_names\":[\"x\",\"y\"],\"data\":{\"x\":{\"__ndarray__\":\"AAAAwkFQdUIAAICu6Vl1QgAAwADkY3VCAAAAU95tdUIAAIA/hnd1QgAAwJGAgXVCAABAfiiLdUIAAIDQIpV1QgAAwCIdn3VCAADAQyCodUIAAACWGrJ1QgAAgILCu3VCAADA1LzFdUIAAEDBZM91QgAAgBNf2XVCAADAZVnjdUIAAEBSAe11QgAAgKT79nVCAAAAkaMAdkIAAEDjnQp2Qg==\",\"dtype\":\"float64\",\"shape\":[20]},\"y\":[29502,27196,31106,25858,33781,32251,39177,35906,36473,30213,28508,24413,23553,22901,26827,13989,26971,20558,18669,7705]}},\"id\":\"3d7c0a29-9ec4-46d2-b272-2fb1a6914f43\",\"type\":\"ColumnDataSource\"},{\"attributes\":{\"grid_line_alpha\":{\"value\":0.3},\"plot\":{\"id\":\"39984cbd-2eff-4728-9078-a4e615e231c5\",\"subtype\":\"Figure\",\"type\":\"Plot\"},\"ticker\":{\"id\":\"b42673da-9c7d-427f-8d33-6cbd11cb972e\",\"type\":\"DatetimeTicker\"}},\"id\":\"f989a5f9-09ad-4dfe-ac60-50fa376eb56e\",\"type\":\"Grid\"},{\"attributes\":{\"line_alpha\":0.1,\"line_color\":\"#1f77b4\",\"line_dash\":[2,4],\"line_width\":2,\"x\":{\"field\":\"x\"},\"y\":{\"field\":\"y\"}},\"id\":\"b565bbf8-651b-4b09-b02e-f557a6cf950e\",\"type\":\"Line\"},{\"attributes\":{\"axis_label\":\"\\uacf5\\uc720\\uc218 \\ud569\\uc0b0\",\"formatter\":{\"id\":\"6908d2c3-67e4-48db-b77a-1356836ea032\",\"type\":\"BasicTickFormatter\"},\"plot\":{\"id\":\"39984cbd-2eff-4728-9078-a4e615e231c5\",\"subtype\":\"Figure\",\"type\":\"Plot\"},\"ticker\":{\"id\":\"5f21afe6-3b15-4754-b023-cbeac9261ffe\",\"type\":\"BasicTicker\"}},\"id\":\"e46cc1d8-0c34-4784-8dfa-81e3e9fb31f4\",\"type\":\"LinearAxis\"},{\"attributes\":{\"line_color\":\"#F48179\",\"line_dash\":[2,4],\"line_width\":2,\"x\":{\"field\":\"x\"},\"y\":{\"field\":\"y\"}},\"id\":\"3805b5fd-e924-47fb-a6d8-31230f155534\",\"type\":\"Line\"},{\"attributes\":{},\"id\":\"5f21afe6-3b15-4754-b023-cbeac9261ffe\",\"type\":\"BasicTicker\"},{\"attributes\":{\"label\":{\"value\":\"JTBC\"},\"renderers\":[{\"id\":\"2ea0e41f-2415-4536-ba44-6313cc99b3cf\",\"type\":\"GlyphRenderer\"}]},\"id\":\"fe0cf211-2665-4fb6-841c-f16ad152657d\",\"type\":\"LegendItem\"},{\"attributes\":{\"dimension\":1,\"grid_line_alpha\":{\"value\":0.3},\"plot\":{\"id\":\"39984cbd-2eff-4728-9078-a4e615e231c5\",\"subtype\":\"Figure\",\"type\":\"Plot\"},\"ticker\":{\"id\":\"5f21afe6-3b15-4754-b023-cbeac9261ffe\",\"type\":\"BasicTicker\"}},\"id\":\"ea696274-13ea-411a-9939-27e08ca5f942\",\"type\":\"Grid\"},{\"attributes\":{\"bottom_units\":\"screen\",\"fill_alpha\":{\"value\":0.5},\"fill_color\":{\"value\":\"lightgrey\"},\"left_units\":\"screen\",\"level\":\"overlay\",\"line_alpha\":{\"value\":1.0},\"line_color\":{\"value\":\"black\"},\"line_dash\":[4,4],\"line_width\":{\"value\":2},\"plot\":null,\"render_mode\":\"css\",\"right_units\":\"screen\",\"top_units\":\"screen\"},\"id\":\"dd819f94-48f1-42fe-8675-5fb13a46e82a\",\"type\":\"BoxAnnotation\"},{\"attributes\":{\"data_source\":{\"id\":\"1506d43d-9b6d-44e9-912d-69f3075011dc\",\"type\":\"ColumnDataSource\"},\"glyph\":{\"id\":\"3805b5fd-e924-47fb-a6d8-31230f155534\",\"type\":\"Line\"},\"hover_glyph\":null,\"muted_glyph\":null,\"nonselection_glyph\":{\"id\":\"49e9644a-4915-42fe-a5af-a92970b6b96a\",\"type\":\"Line\"},\"selection_glyph\":null,\"view\":{\"id\":\"79dec28d-7982-4303-85f9-db236f1e615e\",\"type\":\"CDSView\"}},\"id\":\"2ea0e41f-2415-4536-ba44-6313cc99b3cf\",\"type\":\"GlyphRenderer\"},{\"attributes\":{\"callback\":null,\"column_names\":[\"x\",\"y\"],\"data\":{\"x\":{\"__ndarray__\":\"AAAAwkFQdUIAAICu6Vl1QgAAwADkY3VCAAAAU95tdUIAAIA/hnd1QgAAwJGAgXVCAABAfiiLdUIAAIDQIpV1QgAAwCIdn3VCAADAQyCodUIAAACWGrJ1QgAAgILCu3VCAADA1LzFdUIAAEDBZM91QgAAgBNf2XVCAADAZVnjdUIAAEBSAe11QgAAgKT79nVCAAAAkaMAdkIAAEDjnQp2Qg==\",\"dtype\":\"float64\",\"shape\":[20]},\"y\":[73610,73941,81375,68880,60682,70178,68614,67018,58519,35942,50429,62125,54977,64525,55833,23952,58812,49147,61982,17074]}},\"id\":\"6cfc50a2-4bff-47e7-897c-a50a64b48edc\",\"type\":\"ColumnDataSource\"},{\"attributes\":{\"source\":{\"id\":\"1506d43d-9b6d-44e9-912d-69f3075011dc\",\"type\":\"ColumnDataSource\"}},\"id\":\"79dec28d-7982-4303-85f9-db236f1e615e\",\"type\":\"CDSView\"},{\"attributes\":{},\"id\":\"6908d2c3-67e4-48db-b77a-1356836ea032\",\"type\":\"BasicTickFormatter\"},{\"attributes\":{\"line_color\":\"#1D3A6E\",\"line_dash\":[2,4],\"line_width\":2,\"x\":{\"field\":\"x\"},\"y\":{\"field\":\"y\"}},\"id\":\"3c13da91-1e0f-48d6-862c-68932446b779\",\"type\":\"Line\"},{\"attributes\":{},\"id\":\"4dd4c934-8779-4967-bfd9-db1a32991f64\",\"type\":\"PanTool\"},{\"attributes\":{\"data_source\":{\"id\":\"6cfc50a2-4bff-47e7-897c-a50a64b48edc\",\"type\":\"ColumnDataSource\"},\"glyph\":{\"id\":\"116695da-6450-4c49-9f98-7aae1ae76822\",\"type\":\"Line\"},\"hover_glyph\":null,\"muted_glyph\":null,\"nonselection_glyph\":{\"id\":\"acd021ac-ca49-4b93-b113-a3d9f82644fb\",\"type\":\"Line\"},\"selection_glyph\":null,\"view\":{\"id\":\"abd5d766-ca32-4ace-b3b8-67e383b6b387\",\"type\":\"CDSView\"}},\"id\":\"8860f9d9-28b4-4295-bd28-6add5007de12\",\"type\":\"GlyphRenderer\"},{\"attributes\":{\"label\":{\"value\":\"SBS\"},\"renderers\":[{\"id\":\"5d291075-a141-486f-8a2c-5c1007653caf\",\"type\":\"GlyphRenderer\"}]},\"id\":\"1c8b7b44-7fd2-433f-b284-b1fa1bf85d53\",\"type\":\"LegendItem\"},{\"attributes\":{},\"id\":\"043cdd19-40a6-463a-a713-f6f05c3c6b50\",\"type\":\"WheelZoomTool\"},{\"attributes\":{\"data_source\":{\"id\":\"3d7c0a29-9ec4-46d2-b272-2fb1a6914f43\",\"type\":\"ColumnDataSource\"},\"glyph\":{\"id\":\"3c13da91-1e0f-48d6-862c-68932446b779\",\"type\":\"Line\"},\"hover_glyph\":null,\"muted_glyph\":null,\"nonselection_glyph\":{\"id\":\"b565bbf8-651b-4b09-b02e-f557a6cf950e\",\"type\":\"Line\"},\"selection_glyph\":null,\"view\":{\"id\":\"106516ca-c2dd-498e-865d-eae084d4eff7\",\"type\":\"CDSView\"}},\"id\":\"5d291075-a141-486f-8a2c-5c1007653caf\",\"type\":\"GlyphRenderer\"},{\"attributes\":{\"overlay\":{\"id\":\"dd819f94-48f1-42fe-8675-5fb13a46e82a\",\"type\":\"BoxAnnotation\"}},\"id\":\"8b91888f-ff61-4d2e-8ec2-fe38ee136e85\",\"type\":\"BoxZoomTool\"},{\"attributes\":{\"source\":{\"id\":\"3d7c0a29-9ec4-46d2-b272-2fb1a6914f43\",\"type\":\"ColumnDataSource\"}},\"id\":\"106516ca-c2dd-498e-865d-eae084d4eff7\",\"type\":\"CDSView\"},{\"attributes\":{},\"id\":\"b05fccd7-e039-48f0-812c-91fa1224b701\",\"type\":\"SaveTool\"},{\"attributes\":{},\"id\":\"ef1aca5b-4a0a-44b5-af23-6571c4aa715d\",\"type\":\"ResetTool\"},{\"attributes\":{},\"id\":\"ea857865-d8bb-4483-ac09-759917d00a88\",\"type\":\"HelpTool\"},{\"attributes\":{},\"id\":\"8ad4555f-4f08-4817-a4aa-193d7fddf0cc\",\"type\":\"DatetimeTickFormatter\"},{\"attributes\":{\"source\":{\"id\":\"6cfc50a2-4bff-47e7-897c-a50a64b48edc\",\"type\":\"ColumnDataSource\"}},\"id\":\"abd5d766-ca32-4ace-b3b8-67e383b6b387\",\"type\":\"CDSView\"},{\"attributes\":{\"mantissas\":[1,2,5],\"max_interval\":500.0,\"num_minor_ticks\":0},\"id\":\"464158cd-fe5c-4591-b36d-8d51b4dd9479\",\"type\":\"AdaptiveTicker\"}],\"root_ids\":[\"39984cbd-2eff-4728-9078-a4e615e231c5\"]},\"title\":\"Bokeh Application\",\"version\":\"0.12.13\"}};\n",
       "  var render_items = [{\"docid\":\"2268c4c3-a6ed-4228-b496-8af0ea869c91\",\"elementid\":\"d608b6ba-4eb8-49c8-b856-d8b0b9281e7c\",\"modelid\":\"39984cbd-2eff-4728-9078-a4e615e231c5\"}];\n",
       "  root.Bokeh.embed.embed_items_notebook(docs_json, render_items);\n",
       "\n",
       "  }\n",
       "  if (root.Bokeh !== undefined) {\n",
       "    embed_document(root);\n",
       "  } else {\n",
       "    var attempts = 0;\n",
       "    var timer = setInterval(function(root) {\n",
       "      if (root.Bokeh !== undefined) {\n",
       "        embed_document(root);\n",
       "        clearInterval(timer);\n",
       "      }\n",
       "      attempts++;\n",
       "      if (attempts > 100) {\n",
       "        console.log(\"Bokeh: ERROR: Unable to run BokehJS code because BokehJS library is missing\")\n",
       "        clearInterval(timer);\n",
       "      }\n",
       "    }, 10, root)\n",
       "  }\n",
       "})(window);"
      ],
      "application/vnd.bokehjs_exec.v0+json": ""
     },
     "metadata": {
      "application/vnd.bokehjs_exec.v0+json": {
       "id": "39984cbd-2eff-4728-9078-a4e615e231c5"
      }
     },
     "output_type": "display_data"
    }
   ],
   "source": [
    "p1 = figure(plot_width=750, plot_height=500,x_axis_type='datetime', title=\"월별 공유수 합산\")\n",
    "p1.grid.grid_line_alpha=0.3\n",
    "p1.xaxis.axis_label = '월별'\n",
    "p1.yaxis.axis_label = '공유수 합산'\n",
    "p1.line(unstacked_share_sum['datetime'], unstacked_share_sum['chosun'], color='#f90202', legend='조선일보',line_width=2)\n",
    "p1.line(unstacked_share_sum['datetime'], unstacked_share_sum['joins'], color='#E2A00B', legend='중앙일보',line_width=2)\n",
    "p1.line(unstacked_share_sum['datetime'], unstacked_share_sum['yonhap'], color='#1cefef', legend='연합뉴스',line_width=2, line_dash='dashed')\n",
    "p1.line(unstacked_share_sum['datetime'], unstacked_share_sum['ohmynews'], color='#ff3300', legend='오마이뉴스',line_width=2, line_dash='dashed')\n",
    "p1.line(unstacked_share_sum['datetime'], unstacked_share_sum['hani'], color='#01996e', legend='한겨레',line_width=2)\n",
    "p1.line(unstacked_share_sum['datetime'], unstacked_share_sum['kh'], color='#18407D', legend='경향신문',line_width=2)\n",
    "p1.line(unstacked_share_sum['datetime'], unstacked_share_sum['jtbc'], color='#F48179', legend='JTBC',line_width=2, line_dash='dotted')\n",
    "p1.line(unstacked_share_sum['datetime'], unstacked_share_sum['sbs'], color='#1D3A6E', legend='SBS',line_width=2, line_dash='dotted')\n",
    "\n",
    "\n",
    "\n",
    "show(p1)"
   ]
  },
  {
   "cell_type": "code",
   "execution_count": 14,
   "metadata": {},
   "outputs": [
    {
     "data": {
      "text/plain": [
       "media\n",
       "ohmynews    34.007869\n",
       "hani        29.170005\n",
       "jtbc        21.916924\n",
       "kh          16.699579\n",
       "chosun      15.402214\n",
       "joins       10.546587\n",
       "sbs          8.559462\n",
       "mbc          6.518022\n",
       "yonhap       6.492158\n",
       "donga        5.744593\n",
       "mk           5.034893\n",
       "kbs          4.510940\n",
       "edaily       4.047212\n",
       "Name: tot_share_count, dtype: float64"
      ]
     },
     "execution_count": 14,
     "metadata": {},
     "output_type": "execute_result"
    }
   ],
   "source": [
    "media_share_mean = df_year.groupby('media')['tot_share_count'].mean()\n",
    "sort_mean=media_share_mean.sort_values(ascending=False)\n",
    "sort_mean"
   ]
  },
  {
   "cell_type": "code",
   "execution_count": 15,
   "metadata": {},
   "outputs": [],
   "source": [
    "share_group_mean=df_year.groupby([pd.Grouper(key='datetime', freq='M'), 'media'])['tot_share_count'].mean()\n",
    "unstacked_share_mean=share_group_mean.unstack(level=-1)\n",
    "unstacked_share_mean.reset_index(level=0, inplace=True)"
   ]
  },
  {
   "cell_type": "code",
   "execution_count": 16,
   "metadata": {},
   "outputs": [
    {
     "data": {
      "text/html": [
       "\n",
       "<div class=\"bk-root\">\n",
       "    <div class=\"bk-plotdiv\" id=\"05fb303f-0bb8-42c8-8283-e575be0c4221\"></div>\n",
       "</div>"
      ]
     },
     "metadata": {},
     "output_type": "display_data"
    },
    {
     "data": {
      "application/javascript": [
       "(function(root) {\n",
       "  function embed_document(root) {\n",
       "    \n",
       "  var docs_json = {\"861205ca-201a-4f60-8aa0-06e0d8b73186\":{\"roots\":{\"references\":[{\"attributes\":{\"label\":{\"value\":\"\\uc870\\uc120\\uc77c\\ubcf4\"},\"renderers\":[{\"id\":\"0c736be3-5f16-470c-af21-58066b9ab67d\",\"type\":\"GlyphRenderer\"}]},\"id\":\"d7498fd2-ebc4-47c2-841e-0bf9a350038e\",\"type\":\"LegendItem\"},{\"attributes\":{\"months\":[0,4,8]},\"id\":\"8ec4140f-f666-43f2-bb99-c9ce28e9eaa9\",\"type\":\"MonthsTicker\"},{\"attributes\":{\"months\":[0,6]},\"id\":\"44d84a3d-3d92-43b2-94cb-70292d21375a\",\"type\":\"MonthsTicker\"},{\"attributes\":{},\"id\":\"b50e8751-c7e7-4bf8-a869-207ea9626149\",\"type\":\"YearsTicker\"},{\"attributes\":{\"items\":[{\"id\":\"d7498fd2-ebc4-47c2-841e-0bf9a350038e\",\"type\":\"LegendItem\"},{\"id\":\"ed973f0d-fdc5-482c-ad21-6bd196a1f8da\",\"type\":\"LegendItem\"},{\"id\":\"44bb0b30-f41c-4b4c-b599-6d8b5cb7954b\",\"type\":\"LegendItem\"},{\"id\":\"3f7bce42-1f5a-4719-84f0-1c83303dd409\",\"type\":\"LegendItem\"},{\"id\":\"f7dc5521-bd98-49e1-909e-179231698434\",\"type\":\"LegendItem\"},{\"id\":\"1bb707fc-0dd3-48f4-a6b5-63aa653c476d\",\"type\":\"LegendItem\"},{\"id\":\"41ed2ebe-9bd8-47e4-9886-e1df3af23cb3\",\"type\":\"LegendItem\"},{\"id\":\"6f4cc5cc-fae1-48c6-9597-6cab75652d71\",\"type\":\"LegendItem\"}],\"plot\":{\"id\":\"85764ac5-957a-47ff-8e3d-ed7a4914600e\",\"subtype\":\"Figure\",\"type\":\"Plot\"}},\"id\":\"61404b76-9a14-4e2a-aca6-62d70ff53201\",\"type\":\"Legend\"},{\"attributes\":{\"callback\":null,\"column_names\":[\"x\",\"y\"],\"data\":{\"x\":{\"__ndarray__\":\"AAAAwkFQdUIAAICu6Vl1QgAAwADkY3VCAAAAU95tdUIAAIA/hnd1QgAAwJGAgXVCAABAfiiLdUIAAIDQIpV1QgAAwCIdn3VCAADAQyCodUIAAACWGrJ1QgAAgILCu3VCAADA1LzFdUIAAEDBZM91QgAAgBNf2XVCAADAZVnjdUIAAEBSAe11QgAAgKT79nVCAAAAkaMAdkIAAEDjnQp2Qg==\",\"dtype\":\"float64\",\"shape\":[20]},\"y\":{\"__ndarray__\":\"axrtookYJUDvCGAI2mciQLu55qPoSSZAnySt89wgJkBO0oM0AwsmQL5LxHl3JSxAGUTrv3K7M0DLxYBmyckwQLvfKLvfiCtANGcq1UGeJUALyzelX2QkQMopbwJWdCJAioSybYXVIUD5U35snMshQLtbkZeVCiBAexv9oZBcGED++l0nV+0dQM4uVBi/YhtA07CqOfNiG0B3aZd2aZcUQA==\",\"dtype\":\"float64\",\"shape\":[20]}}},\"id\":\"2d2f3625-f60d-4858-8bf0-391e4dd1d5ba\",\"type\":\"ColumnDataSource\"},{\"attributes\":{\"line_alpha\":0.1,\"line_color\":\"#1f77b4\",\"line_width\":2,\"x\":{\"field\":\"x\"},\"y\":{\"field\":\"y\"}},\"id\":\"94f0644d-0304-4b09-b9a8-b54e278d79a4\",\"type\":\"Line\"},{\"attributes\":{\"line_color\":\"#E2A00B\",\"line_width\":2,\"x\":{\"field\":\"x\"},\"y\":{\"field\":\"y\"}},\"id\":\"a1633c43-c90a-43fa-9786-dd9b785a86ca\",\"type\":\"Line\"},{\"attributes\":{\"callback\":null,\"column_names\":[\"x\",\"y\"],\"data\":{\"x\":{\"__ndarray__\":\"AAAAwkFQdUIAAICu6Vl1QgAAwADkY3VCAAAAU95tdUIAAIA/hnd1QgAAwJGAgXVCAABAfiiLdUIAAIDQIpV1QgAAwCIdn3VCAADAQyCodUIAAACWGrJ1QgAAgILCu3VCAADA1LzFdUIAAEDBZM91QgAAgBNf2XVCAADAZVnjdUIAAEBSAe11QgAAgKT79nVCAAAAkaMAdkIAAEDjnQp2Qg==\",\"dtype\":\"float64\",\"shape\":[20]},\"y\":{\"__ndarray__\":\"UFgfo2rRFkBRqTBKuWAXQCPkr9lRixhAvbNHbR2HGkBIhR4k66YaQNTw682nvRpAywNNy6CCHkCkcr4CitEdQNVnTr35yB9A8BNtizJIHUD3ajLhZw0dQPUJsVx9lRxAQzcRpAk4HkCpsnRZjccaQM6kK5WDhhdAfK+yJMOJEUATnsPjoL8XQAZOE+MDQRZAwxiPrsu+FEAbnEkypXQSQA==\",\"dtype\":\"float64\",\"shape\":[20]}}},\"id\":\"6dfe9f3b-49e1-44fa-aed7-a1f17fb1b14d\",\"type\":\"ColumnDataSource\"},{\"attributes\":{\"label\":{\"value\":\"\\uc911\\uc559\\uc77c\\ubcf4\"},\"renderers\":[{\"id\":\"14ac36ed-d9c3-4c55-b325-ac9197993ccc\",\"type\":\"GlyphRenderer\"}]},\"id\":\"ed973f0d-fdc5-482c-ad21-6bd196a1f8da\",\"type\":\"LegendItem\"},{\"attributes\":{\"data_source\":{\"id\":\"2d2f3625-f60d-4858-8bf0-391e4dd1d5ba\",\"type\":\"ColumnDataSource\"},\"glyph\":{\"id\":\"a1633c43-c90a-43fa-9786-dd9b785a86ca\",\"type\":\"Line\"},\"hover_glyph\":null,\"muted_glyph\":null,\"nonselection_glyph\":{\"id\":\"94f0644d-0304-4b09-b9a8-b54e278d79a4\",\"type\":\"Line\"},\"selection_glyph\":null,\"view\":{\"id\":\"86dd33e8-7795-4365-9d7c-e9f3db16f71b\",\"type\":\"CDSView\"}},\"id\":\"14ac36ed-d9c3-4c55-b325-ac9197993ccc\",\"type\":\"GlyphRenderer\"},{\"attributes\":{\"source\":{\"id\":\"2d2f3625-f60d-4858-8bf0-391e4dd1d5ba\",\"type\":\"ColumnDataSource\"}},\"id\":\"86dd33e8-7795-4365-9d7c-e9f3db16f71b\",\"type\":\"CDSView\"},{\"attributes\":{\"callback\":null,\"column_names\":[\"x\",\"y\"],\"data\":{\"x\":{\"__ndarray__\":\"AAAAwkFQdUIAAICu6Vl1QgAAwADkY3VCAAAAU95tdUIAAIA/hnd1QgAAwJGAgXVCAABAfiiLdUIAAIDQIpV1QgAAwCIdn3VCAADAQyCodUIAAACWGrJ1QgAAgILCu3VCAADA1LzFdUIAAEDBZM91QgAAgBNf2XVCAADAZVnjdUIAAEBSAe11QgAAgKT79nVCAAAAkaMAdkIAAEDjnQp2Qg==\",\"dtype\":\"float64\",\"shape\":[20]},\"y\":{\"__ndarray__\":\"2+p9qTF7QUBIYsN8JJZAQOa1N9slAkBAiqyrDRssRkBbrAzfiMpIQPG2K0IVL05AKQdEhnstT0BabP1bkrBIQL76PHv1+UJAn32poxHpQEAX00Y/E70+QP0QGKKl6j5AgAGX2mVSQUCqrlRjqFs6QDyuYWyRVjVA8Wp8+ALnMkAWj+sC24kxQNNcCaGeWzVA2L57nzAYMkBWynWeCQMzQA==\",\"dtype\":\"float64\",\"shape\":[20]}}},\"id\":\"b65cf245-c4cb-41f2-88ab-2dd8c8591056\",\"type\":\"ColumnDataSource\"},{\"attributes\":{\"line_alpha\":0.1,\"line_color\":\"#1f77b4\",\"line_dash\":[6],\"line_width\":2,\"x\":{\"field\":\"x\"},\"y\":{\"field\":\"y\"}},\"id\":\"f3f491a3-11db-4e30-b96e-5cb3e5132e5c\",\"type\":\"Line\"},{\"attributes\":{\"line_color\":\"#1cefef\",\"line_dash\":[6],\"line_width\":2,\"x\":{\"field\":\"x\"},\"y\":{\"field\":\"y\"}},\"id\":\"d5d5dd68-f50d-4fd6-b00f-6be7e78e0153\",\"type\":\"Line\"},{\"attributes\":{\"line_alpha\":0.1,\"line_color\":\"#1f77b4\",\"line_dash\":[6],\"line_width\":2,\"x\":{\"field\":\"x\"},\"y\":{\"field\":\"y\"}},\"id\":\"46e5fdb3-8b52-4e78-af3d-188254e0c95b\",\"type\":\"Line\"},{\"attributes\":{\"label\":{\"value\":\"\\uc5f0\\ud569\\ub274\\uc2a4\"},\"renderers\":[{\"id\":\"66c77b12-8804-4614-88dc-f2a3f3fea6d2\",\"type\":\"GlyphRenderer\"}]},\"id\":\"44bb0b30-f41c-4b4c-b599-6d8b5cb7954b\",\"type\":\"LegendItem\"},{\"attributes\":{\"data_source\":{\"id\":\"6dfe9f3b-49e1-44fa-aed7-a1f17fb1b14d\",\"type\":\"ColumnDataSource\"},\"glyph\":{\"id\":\"d5d5dd68-f50d-4fd6-b00f-6be7e78e0153\",\"type\":\"Line\"},\"hover_glyph\":null,\"muted_glyph\":null,\"nonselection_glyph\":{\"id\":\"46e5fdb3-8b52-4e78-af3d-188254e0c95b\",\"type\":\"Line\"},\"selection_glyph\":null,\"view\":{\"id\":\"13645d9b-3eaf-424e-9a86-9312395d76d5\",\"type\":\"CDSView\"}},\"id\":\"66c77b12-8804-4614-88dc-f2a3f3fea6d2\",\"type\":\"GlyphRenderer\"},{\"attributes\":{\"source\":{\"id\":\"6dfe9f3b-49e1-44fa-aed7-a1f17fb1b14d\",\"type\":\"ColumnDataSource\"}},\"id\":\"13645d9b-3eaf-424e-9a86-9312395d76d5\",\"type\":\"CDSView\"},{\"attributes\":{\"callback\":null,\"column_names\":[\"x\",\"y\"],\"data\":{\"x\":{\"__ndarray__\":\"AAAAwkFQdUIAAICu6Vl1QgAAwADkY3VCAAAAU95tdUIAAIA/hnd1QgAAwJGAgXVCAABAfiiLdUIAAIDQIpV1QgAAwCIdn3VCAADAQyCodUIAAACWGrJ1QgAAgILCu3VCAADA1LzFdUIAAEDBZM91QgAAgBNf2XVCAADAZVnjdUIAAEBSAe11QgAAgKT79nVCAAAAkaMAdkIAAEDjnQp2Qg==\",\"dtype\":\"float64\",\"shape\":[20]},\"y\":{\"__ndarray__\":\"Ydq+UJgWOEARERERERE2QK9flqvrlzxAwRAWBHwNP0AgVk6q8+ZAQKM48YA8pkZARen/almbS0C/VPL5AOVJQKFo3AYwEENAJUmSJEmSPUCQizIjnPc/QJ6/8JAY0DxA1ruD0LfAO0D67AfSPUY2QI4DDikwTDNA5/0iDr+PL0CjSheHD1oyQLxKMUF3lTBAnqGeAzipLkC/nKCxLycwQA==\",\"dtype\":\"float64\",\"shape\":[20]}}},\"id\":\"ce6ec207-f21e-46c0-8d73-0e1322b2891a\",\"type\":\"ColumnDataSource\"},{\"attributes\":{\"below\":[{\"id\":\"1ef94897-19da-40b5-83f0-2c6106940caf\",\"type\":\"DatetimeAxis\"}],\"left\":[{\"id\":\"01dfa527-486f-4c23-adf9-09a056fccce2\",\"type\":\"LinearAxis\"}],\"plot_height\":500,\"plot_width\":750,\"renderers\":[{\"id\":\"1ef94897-19da-40b5-83f0-2c6106940caf\",\"type\":\"DatetimeAxis\"},{\"id\":\"85358d9e-99f8-4dc2-8fd2-bcb79dee8573\",\"type\":\"Grid\"},{\"id\":\"01dfa527-486f-4c23-adf9-09a056fccce2\",\"type\":\"LinearAxis\"},{\"id\":\"684dc841-34bd-4193-a619-e25ce414507b\",\"type\":\"Grid\"},{\"id\":\"02360a2f-c669-43c7-9451-29f624f2aa5e\",\"type\":\"BoxAnnotation\"},{\"id\":\"61404b76-9a14-4e2a-aca6-62d70ff53201\",\"type\":\"Legend\"},{\"id\":\"0c736be3-5f16-470c-af21-58066b9ab67d\",\"type\":\"GlyphRenderer\"},{\"id\":\"14ac36ed-d9c3-4c55-b325-ac9197993ccc\",\"type\":\"GlyphRenderer\"},{\"id\":\"66c77b12-8804-4614-88dc-f2a3f3fea6d2\",\"type\":\"GlyphRenderer\"},{\"id\":\"60c27dd9-a164-4c16-8bad-5d158cdf4630\",\"type\":\"GlyphRenderer\"},{\"id\":\"584f030e-8f9b-4d4c-962b-5d4edd4d94b5\",\"type\":\"GlyphRenderer\"},{\"id\":\"e840b8e3-29a9-45ef-8ab2-3cab08cdfd6e\",\"type\":\"GlyphRenderer\"},{\"id\":\"69e1fc78-7ab5-4866-9ef4-5ce328d9e207\",\"type\":\"GlyphRenderer\"},{\"id\":\"d7eeab14-429a-4f22-a549-7f7192a50169\",\"type\":\"GlyphRenderer\"}],\"title\":{\"id\":\"c6ed1b38-400b-45a6-942b-b22c30f4d083\",\"type\":\"Title\"},\"toolbar\":{\"id\":\"f8ef019d-5f4a-4c9d-ae11-b2650d70cfab\",\"type\":\"Toolbar\"},\"x_range\":{\"id\":\"113b41ca-69b8-474c-8378-4c31cb4570a7\",\"type\":\"DataRange1d\"},\"x_scale\":{\"id\":\"291bbf1e-f702-46be-9ce4-e83c983057b1\",\"type\":\"LinearScale\"},\"y_range\":{\"id\":\"45f391ab-3aa8-4566-a507-b68c8b699698\",\"type\":\"DataRange1d\"},\"y_scale\":{\"id\":\"ea9221a1-4f8b-4956-b387-1dccfeb651ad\",\"type\":\"LinearScale\"}},\"id\":\"85764ac5-957a-47ff-8e3d-ed7a4914600e\",\"subtype\":\"Figure\",\"type\":\"Plot\"},{\"attributes\":{\"line_alpha\":0.1,\"line_color\":\"#1f77b4\",\"line_width\":2,\"x\":{\"field\":\"x\"},\"y\":{\"field\":\"y\"}},\"id\":\"a2a189d3-c189-436f-a766-2167c7e95b35\",\"type\":\"Line\"},{\"attributes\":{\"line_color\":\"#ff3300\",\"line_dash\":[6],\"line_width\":2,\"x\":{\"field\":\"x\"},\"y\":{\"field\":\"y\"}},\"id\":\"15e11a67-8979-4786-accd-40d781315164\",\"type\":\"Line\"},{\"attributes\":{\"label\":{\"value\":\"\\uc624\\ub9c8\\uc774\\ub274\\uc2a4\"},\"renderers\":[{\"id\":\"60c27dd9-a164-4c16-8bad-5d158cdf4630\",\"type\":\"GlyphRenderer\"}]},\"id\":\"3f7bce42-1f5a-4719-84f0-1c83303dd409\",\"type\":\"LegendItem\"},{\"attributes\":{\"line_alpha\":0.1,\"line_color\":\"#1f77b4\",\"line_width\":2,\"x\":{\"field\":\"x\"},\"y\":{\"field\":\"y\"}},\"id\":\"00cf7f56-0a69-4eaa-96f4-9e98aeb5bff1\",\"type\":\"Line\"},{\"attributes\":{\"callback\":null,\"column_names\":[\"x\",\"y\"],\"data\":{\"x\":{\"__ndarray__\":\"AAAAwkFQdUIAAICu6Vl1QgAAwADkY3VCAAAAU95tdUIAAIA/hnd1QgAAwJGAgXVCAABAfiiLdUIAAIDQIpV1QgAAwCIdn3VCAADAQyCodUIAAACWGrJ1QgAAgILCu3VCAADA1LzFdUIAAEDBZM91QgAAgBNf2XVCAADAZVnjdUIAAEBSAe11QgAAgKT79nVCAAAAkaMAdkIAAEDjnQp2Qg==\",\"dtype\":\"float64\",\"shape\":[20]},\"y\":{\"__ndarray__\":\"7mNkVyy3JUBAw6A6x90mQKxyTIgFWShA0yvP4wqsK0D4TjVsIHswQJAR0otD9DhAF9pK3v6xPEDi1O+5JbY6QFKsX91/+jpAYKaxmWzMNkBwTqLQXH42QEDYispQejFAoDskDutJL0AExQxPJm0rQG0R5+FwBSdAzCUTwDaNIkCgqDretpQoQH9629jfdyxARwW+uPrhJkDxXvXmdhwWQA==\",\"dtype\":\"float64\",\"shape\":[20]}}},\"id\":\"af9d3495-6cd0-44b8-a00b-dbbcdf554c17\",\"type\":\"ColumnDataSource\"},{\"attributes\":{\"data_source\":{\"id\":\"b65cf245-c4cb-41f2-88ab-2dd8c8591056\",\"type\":\"ColumnDataSource\"},\"glyph\":{\"id\":\"15e11a67-8979-4786-accd-40d781315164\",\"type\":\"Line\"},\"hover_glyph\":null,\"muted_glyph\":null,\"nonselection_glyph\":{\"id\":\"f3f491a3-11db-4e30-b96e-5cb3e5132e5c\",\"type\":\"Line\"},\"selection_glyph\":null,\"view\":{\"id\":\"b115075b-f820-46b7-8ba7-4880d11b25f3\",\"type\":\"CDSView\"}},\"id\":\"60c27dd9-a164-4c16-8bad-5d158cdf4630\",\"type\":\"GlyphRenderer\"},{\"attributes\":{\"callback\":null},\"id\":\"113b41ca-69b8-474c-8378-4c31cb4570a7\",\"type\":\"DataRange1d\"},{\"attributes\":{\"source\":{\"id\":\"b65cf245-c4cb-41f2-88ab-2dd8c8591056\",\"type\":\"ColumnDataSource\"}},\"id\":\"b115075b-f820-46b7-8ba7-4880d11b25f3\",\"type\":\"CDSView\"},{\"attributes\":{\"plot\":null,\"text\":\"\\uc6d4\\ubcc4 \\uae30\\uc0ac\\ub2f9 \\uacf5\\uc720\\uc218 \\ud3c9\\uade0\"},\"id\":\"c6ed1b38-400b-45a6-942b-b22c30f4d083\",\"type\":\"Title\"},{\"attributes\":{},\"id\":\"bc692289-6226-4773-a02a-60094f277156\",\"type\":\"BasicTickFormatter\"},{\"attributes\":{\"line_alpha\":0.1,\"line_color\":\"#1f77b4\",\"line_width\":2,\"x\":{\"field\":\"x\"},\"y\":{\"field\":\"y\"}},\"id\":\"13e4ae3c-3079-4f8b-ba6f-c8955c9b04a8\",\"type\":\"Line\"},{\"attributes\":{\"active_drag\":\"auto\",\"active_inspect\":\"auto\",\"active_scroll\":\"auto\",\"active_tap\":\"auto\",\"tools\":[{\"id\":\"2f9a7f57-9acb-4f7f-a2c6-d6b3ba4a078d\",\"type\":\"PanTool\"},{\"id\":\"a882e2f4-5ed5-46ab-aba7-262007020c58\",\"type\":\"WheelZoomTool\"},{\"id\":\"73ffadab-ddd6-46bc-93fd-1b919dd0a1d2\",\"type\":\"BoxZoomTool\"},{\"id\":\"95276338-9430-4ac3-9ee7-7ebe011d5d08\",\"type\":\"SaveTool\"},{\"id\":\"eb0bcbac-7ad0-43b6-9a43-5a54a206e584\",\"type\":\"ResetTool\"},{\"id\":\"9783ecc0-9d00-4f0d-a6ef-79ab0f2f3b43\",\"type\":\"HelpTool\"}]},\"id\":\"f8ef019d-5f4a-4c9d-ae11-b2650d70cfab\",\"type\":\"Toolbar\"},{\"attributes\":{\"line_color\":\"#01996e\",\"line_width\":2,\"x\":{\"field\":\"x\"},\"y\":{\"field\":\"y\"}},\"id\":\"2b6fa38c-df4a-4a63-b962-1b6e09e52215\",\"type\":\"Line\"},{\"attributes\":{\"label\":{\"value\":\"\\ud55c\\uaca8\\ub808\"},\"renderers\":[{\"id\":\"584f030e-8f9b-4d4c-962b-5d4edd4d94b5\",\"type\":\"GlyphRenderer\"}]},\"id\":\"f7dc5521-bd98-49e1-909e-179231698434\",\"type\":\"LegendItem\"},{\"attributes\":{},\"id\":\"291bbf1e-f702-46be-9ce4-e83c983057b1\",\"type\":\"LinearScale\"},{\"attributes\":{\"grid_line_alpha\":{\"value\":0.3},\"plot\":{\"id\":\"85764ac5-957a-47ff-8e3d-ed7a4914600e\",\"subtype\":\"Figure\",\"type\":\"Plot\"},\"ticker\":{\"id\":\"b3215f9d-8451-4087-8e07-8d6f4fc9a75e\",\"type\":\"DatetimeTicker\"}},\"id\":\"85358d9e-99f8-4dc2-8fd2-bcb79dee8573\",\"type\":\"Grid\"},{\"attributes\":{},\"id\":\"ea9221a1-4f8b-4956-b387-1dccfeb651ad\",\"type\":\"LinearScale\"},{\"attributes\":{\"data_source\":{\"id\":\"ce6ec207-f21e-46c0-8d73-0e1322b2891a\",\"type\":\"ColumnDataSource\"},\"glyph\":{\"id\":\"2b6fa38c-df4a-4a63-b962-1b6e09e52215\",\"type\":\"Line\"},\"hover_glyph\":null,\"muted_glyph\":null,\"nonselection_glyph\":{\"id\":\"a2a189d3-c189-436f-a766-2167c7e95b35\",\"type\":\"Line\"},\"selection_glyph\":null,\"view\":{\"id\":\"36921e7f-6f67-4f94-9154-be9abb37c935\",\"type\":\"CDSView\"}},\"id\":\"584f030e-8f9b-4d4c-962b-5d4edd4d94b5\",\"type\":\"GlyphRenderer\"},{\"attributes\":{\"callback\":null},\"id\":\"45f391ab-3aa8-4566-a507-b68c8b699698\",\"type\":\"DataRange1d\"},{\"attributes\":{\"source\":{\"id\":\"ce6ec207-f21e-46c0-8d73-0e1322b2891a\",\"type\":\"ColumnDataSource\"}},\"id\":\"36921e7f-6f67-4f94-9154-be9abb37c935\",\"type\":\"CDSView\"},{\"attributes\":{\"callback\":null,\"column_names\":[\"x\",\"y\"],\"data\":{\"x\":{\"__ndarray__\":\"AAAAwkFQdUIAAICu6Vl1QgAAwADkY3VCAAAAU95tdUIAAIA/hnd1QgAAwJGAgXVCAABAfiiLdUIAAIDQIpV1QgAAwCIdn3VCAADAQyCodUIAAACWGrJ1QgAAgILCu3VCAADA1LzFdUIAAEDBZM91QgAAgBNf2XVCAADAZVnjdUIAAEBSAe11QgAAgKT79nVCAAAAkaMAdkIAAEDjnQp2Qg==\",\"dtype\":\"float64\",\"shape\":[20]},\"y\":{\"__ndarray__\":\"vzaDkHyaL0CF2X18DkA0QNaXClp9yTNAQGS4V8HMMkCt6PCqfX4xQP4bTsWN6j9A8J17QAqBQkBK72aaZ/tAQDKQTci9qD1A/HmXVuVENkB99BDZdcs2QGb4GPeKgDZAZVXEpJuROkA/Vmit47ItQOWIjTs54i9A09b4u3kkMkBWAhW9pVMrQLP+PcpXpy5AMABPnHFkMkCisT401ocmQA==\",\"dtype\":\"float64\",\"shape\":[20]}}},\"id\":\"9c002a83-3f0b-48b0-95ce-9324db32dea6\",\"type\":\"ColumnDataSource\"},{\"attributes\":{\"callback\":null,\"column_names\":[\"x\",\"y\"],\"data\":{\"x\":{\"__ndarray__\":\"AAAAwkFQdUIAAICu6Vl1QgAAwADkY3VCAAAAU95tdUIAAIA/hnd1QgAAwJGAgXVCAABAfiiLdUIAAIDQIpV1QgAAwCIdn3VCAADAQyCodUIAAACWGrJ1QgAAgILCu3VCAADA1LzFdUIAAEDBZM91QgAAgBNf2XVCAADAZVnjdUIAAEBSAe11QgAAgKT79nVCAAAAkaMAdkIAAEDjnQp2Qg==\",\"dtype\":\"float64\",\"shape\":[20]},\"y\":{\"__ndarray__\":\"YvDU1gICMUDuu2ZCTTsxQHTwqEtBlzRAEfjq8baLMEBdYuy5xNgwQM90bd94rjFAcdaC4CtbMEAzwl76Vo8wQE8L9w1oWTFAwMyPT01PKEDWEHuMfpYsQJGnPlWxHzBAuUJI7U1YK0BBUwe/Ew4wQHb4+Izr3ytAuOUZesPyIUDFmNngcMEtQGG5pxGWeyxAME4tMrZ8LUBU0VIn6n0aQA==\",\"dtype\":\"float64\",\"shape\":[20]}}},\"id\":\"9b6f481e-17a5-4624-b0e3-af76409f930b\",\"type\":\"ColumnDataSource\"},{\"attributes\":{\"line_alpha\":0.1,\"line_color\":\"#1f77b4\",\"line_dash\":[2,4],\"line_width\":2,\"x\":{\"field\":\"x\"},\"y\":{\"field\":\"y\"}},\"id\":\"98fa6632-9620-4908-a8d4-2b066bde085e\",\"type\":\"Line\"},{\"attributes\":{\"line_color\":\"#f90202\",\"line_width\":2,\"x\":{\"field\":\"x\"},\"y\":{\"field\":\"y\"}},\"id\":\"812860fc-90dc-4e95-9a9a-68541c670456\",\"type\":\"Line\"},{\"attributes\":{\"line_color\":\"#18407D\",\"line_width\":2,\"x\":{\"field\":\"x\"},\"y\":{\"field\":\"y\"}},\"id\":\"d02fbad6-4d8c-44b4-bd32-eb3301bd5e32\",\"type\":\"Line\"},{\"attributes\":{\"dimension\":1,\"grid_line_alpha\":{\"value\":0.3},\"plot\":{\"id\":\"85764ac5-957a-47ff-8e3d-ed7a4914600e\",\"subtype\":\"Figure\",\"type\":\"Plot\"},\"ticker\":{\"id\":\"f89f8c90-ff81-47f5-9bd4-b1d3a9c60cc8\",\"type\":\"BasicTicker\"}},\"id\":\"684dc841-34bd-4193-a619-e25ce414507b\",\"type\":\"Grid\"},{\"attributes\":{\"label\":{\"value\":\"\\uacbd\\ud5a5\\uc2e0\\ubb38\"},\"renderers\":[{\"id\":\"e840b8e3-29a9-45ef-8ab2-3cab08cdfd6e\",\"type\":\"GlyphRenderer\"}]},\"id\":\"1bb707fc-0dd3-48f4-a6b5-63aa653c476d\",\"type\":\"LegendItem\"},{\"attributes\":{},\"id\":\"f89f8c90-ff81-47f5-9bd4-b1d3a9c60cc8\",\"type\":\"BasicTicker\"},{\"attributes\":{\"data_source\":{\"id\":\"af9d3495-6cd0-44b8-a00b-dbbcdf554c17\",\"type\":\"ColumnDataSource\"},\"glyph\":{\"id\":\"d02fbad6-4d8c-44b4-bd32-eb3301bd5e32\",\"type\":\"Line\"},\"hover_glyph\":null,\"muted_glyph\":null,\"nonselection_glyph\":{\"id\":\"13e4ae3c-3079-4f8b-ba6f-c8955c9b04a8\",\"type\":\"Line\"},\"selection_glyph\":null,\"view\":{\"id\":\"3b22d2a7-2a27-40b2-9aae-a9cebd486434\",\"type\":\"CDSView\"}},\"id\":\"e840b8e3-29a9-45ef-8ab2-3cab08cdfd6e\",\"type\":\"GlyphRenderer\"},{\"attributes\":{\"axis_label\":\"\\uae30\\uc0ac\\ub2f9 \\uacf5\\uc720\\uc218 \\ud3c9\\uade0\",\"formatter\":{\"id\":\"bc692289-6226-4773-a02a-60094f277156\",\"type\":\"BasicTickFormatter\"},\"plot\":{\"id\":\"85764ac5-957a-47ff-8e3d-ed7a4914600e\",\"subtype\":\"Figure\",\"type\":\"Plot\"},\"ticker\":{\"id\":\"f89f8c90-ff81-47f5-9bd4-b1d3a9c60cc8\",\"type\":\"BasicTicker\"}},\"id\":\"01dfa527-486f-4c23-adf9-09a056fccce2\",\"type\":\"LinearAxis\"},{\"attributes\":{\"num_minor_ticks\":5,\"tickers\":[{\"id\":\"707d95a9-42d6-43da-b5ca-89064f570f71\",\"type\":\"AdaptiveTicker\"},{\"id\":\"f74ddde0-193c-446a-8637-1616cb549bbf\",\"type\":\"AdaptiveTicker\"},{\"id\":\"a02613c0-50f1-4d28-800f-2259d4d6955c\",\"type\":\"AdaptiveTicker\"},{\"id\":\"80482b8c-837b-4308-9f86-e0f2ab997834\",\"type\":\"DaysTicker\"},{\"id\":\"9b62f378-e469-40ba-aa36-4b496aee6666\",\"type\":\"DaysTicker\"},{\"id\":\"7102b16d-d027-43b2-9228-f51b36e19a3b\",\"type\":\"DaysTicker\"},{\"id\":\"d685b307-042f-4117-8d54-723a2a3d0e83\",\"type\":\"DaysTicker\"},{\"id\":\"02e2d04f-97ba-46fa-b151-dea1a32970cf\",\"type\":\"MonthsTicker\"},{\"id\":\"70ba744b-ae78-41e2-a9bd-f42c705b9e20\",\"type\":\"MonthsTicker\"},{\"id\":\"8ec4140f-f666-43f2-bb99-c9ce28e9eaa9\",\"type\":\"MonthsTicker\"},{\"id\":\"44d84a3d-3d92-43b2-94cb-70292d21375a\",\"type\":\"MonthsTicker\"},{\"id\":\"b50e8751-c7e7-4bf8-a869-207ea9626149\",\"type\":\"YearsTicker\"}]},\"id\":\"b3215f9d-8451-4087-8e07-8d6f4fc9a75e\",\"type\":\"DatetimeTicker\"},{\"attributes\":{\"source\":{\"id\":\"af9d3495-6cd0-44b8-a00b-dbbcdf554c17\",\"type\":\"ColumnDataSource\"}},\"id\":\"3b22d2a7-2a27-40b2-9aae-a9cebd486434\",\"type\":\"CDSView\"},{\"attributes\":{\"axis_label\":\"\\uc6d4\\ubcc4\",\"formatter\":{\"id\":\"79a8b9b8-5bde-4dee-bfad-678e8e999b82\",\"type\":\"DatetimeTickFormatter\"},\"plot\":{\"id\":\"85764ac5-957a-47ff-8e3d-ed7a4914600e\",\"subtype\":\"Figure\",\"type\":\"Plot\"},\"ticker\":{\"id\":\"b3215f9d-8451-4087-8e07-8d6f4fc9a75e\",\"type\":\"DatetimeTicker\"}},\"id\":\"1ef94897-19da-40b5-83f0-2c6106940caf\",\"type\":\"DatetimeAxis\"},{\"attributes\":{\"callback\":null,\"column_names\":[\"x\",\"y\"],\"data\":{\"x\":{\"__ndarray__\":\"AAAAwkFQdUIAAICu6Vl1QgAAwADkY3VCAAAAU95tdUIAAIA/hnd1QgAAwJGAgXVCAABAfiiLdUIAAIDQIpV1QgAAwCIdn3VCAADAQyCodUIAAACWGrJ1QgAAgILCu3VCAADA1LzFdUIAAEDBZM91QgAAgBNf2XVCAADAZVnjdUIAAEBSAe11QgAAgKT79nVCAAAAkaMAdkIAAEDjnQp2Qg==\",\"dtype\":\"float64\",\"shape\":[20]},\"y\":{\"__ndarray__\":\"wcIDgvz0HkCPIwFxBeMaQACWDIQAEhlAEPuGlu2hGEBQ5nwTqkAlQK8RnMVrBCVAfWisD401JkCeGcV/c4MlQD7TfDKSECZAnNoxaMqcI0Cm9alF8+UiQGkiAXnAByJAUoVjCRmYGUD5z92DTDQiQK2iSBpInCJAVFpBpRVUHkDUcaW3vBQjQGd1GGUqXiBAAS+9I0xUHECVHkpckagVQA==\",\"dtype\":\"float64\",\"shape\":[20]}}},\"id\":\"07a76ea0-0488-4e42-a850-d4f132ea9c67\",\"type\":\"ColumnDataSource\"},{\"attributes\":{\"data_source\":{\"id\":\"9b6f481e-17a5-4624-b0e3-af76409f930b\",\"type\":\"ColumnDataSource\"},\"glyph\":{\"id\":\"812860fc-90dc-4e95-9a9a-68541c670456\",\"type\":\"Line\"},\"hover_glyph\":null,\"muted_glyph\":null,\"nonselection_glyph\":{\"id\":\"00cf7f56-0a69-4eaa-96f4-9e98aeb5bff1\",\"type\":\"Line\"},\"selection_glyph\":null,\"view\":{\"id\":\"2ce96339-d044-4efd-89d0-49e8fe851a04\",\"type\":\"CDSView\"}},\"id\":\"0c736be3-5f16-470c-af21-58066b9ab67d\",\"type\":\"GlyphRenderer\"},{\"attributes\":{\"line_alpha\":0.1,\"line_color\":\"#1f77b4\",\"line_dash\":[2,4],\"line_width\":2,\"x\":{\"field\":\"x\"},\"y\":{\"field\":\"y\"}},\"id\":\"01077442-c94c-4037-a714-558458943fff\",\"type\":\"Line\"},{\"attributes\":{\"line_color\":\"#F48179\",\"line_dash\":[2,4],\"line_width\":2,\"x\":{\"field\":\"x\"},\"y\":{\"field\":\"y\"}},\"id\":\"8c3f29e1-f5be-40a7-914b-0447a51896ac\",\"type\":\"Line\"},{\"attributes\":{},\"id\":\"2f9a7f57-9acb-4f7f-a2c6-d6b3ba4a078d\",\"type\":\"PanTool\"},{\"attributes\":{\"bottom_units\":\"screen\",\"fill_alpha\":{\"value\":0.5},\"fill_color\":{\"value\":\"lightgrey\"},\"left_units\":\"screen\",\"level\":\"overlay\",\"line_alpha\":{\"value\":1.0},\"line_color\":{\"value\":\"black\"},\"line_dash\":[4,4],\"line_width\":{\"value\":2},\"plot\":null,\"render_mode\":\"css\",\"right_units\":\"screen\",\"top_units\":\"screen\"},\"id\":\"02360a2f-c669-43c7-9451-29f624f2aa5e\",\"type\":\"BoxAnnotation\"},{\"attributes\":{\"label\":{\"value\":\"JTBC\"},\"renderers\":[{\"id\":\"69e1fc78-7ab5-4866-9ef4-5ce328d9e207\",\"type\":\"GlyphRenderer\"}]},\"id\":\"41ed2ebe-9bd8-47e4-9886-e1df3af23cb3\",\"type\":\"LegendItem\"},{\"attributes\":{},\"id\":\"a882e2f4-5ed5-46ab-aba7-262007020c58\",\"type\":\"WheelZoomTool\"},{\"attributes\":{\"data_source\":{\"id\":\"9c002a83-3f0b-48b0-95ce-9324db32dea6\",\"type\":\"ColumnDataSource\"},\"glyph\":{\"id\":\"8c3f29e1-f5be-40a7-914b-0447a51896ac\",\"type\":\"Line\"},\"hover_glyph\":null,\"muted_glyph\":null,\"nonselection_glyph\":{\"id\":\"98fa6632-9620-4908-a8d4-2b066bde085e\",\"type\":\"Line\"},\"selection_glyph\":null,\"view\":{\"id\":\"fc41674d-ecbf-4185-9d6a-fab8551176da\",\"type\":\"CDSView\"}},\"id\":\"69e1fc78-7ab5-4866-9ef4-5ce328d9e207\",\"type\":\"GlyphRenderer\"},{\"attributes\":{\"overlay\":{\"id\":\"02360a2f-c669-43c7-9451-29f624f2aa5e\",\"type\":\"BoxAnnotation\"}},\"id\":\"73ffadab-ddd6-46bc-93fd-1b919dd0a1d2\",\"type\":\"BoxZoomTool\"},{\"attributes\":{\"source\":{\"id\":\"9c002a83-3f0b-48b0-95ce-9324db32dea6\",\"type\":\"ColumnDataSource\"}},\"id\":\"fc41674d-ecbf-4185-9d6a-fab8551176da\",\"type\":\"CDSView\"},{\"attributes\":{},\"id\":\"eb0bcbac-7ad0-43b6-9a43-5a54a206e584\",\"type\":\"ResetTool\"},{\"attributes\":{},\"id\":\"95276338-9430-4ac3-9ee7-7ebe011d5d08\",\"type\":\"SaveTool\"},{\"attributes\":{},\"id\":\"9783ecc0-9d00-4f0d-a6ef-79ab0f2f3b43\",\"type\":\"HelpTool\"},{\"attributes\":{\"line_color\":\"#1D3A6E\",\"line_dash\":[2,4],\"line_width\":2,\"x\":{\"field\":\"x\"},\"y\":{\"field\":\"y\"}},\"id\":\"37cda5d2-347e-48dd-b862-3a0601d65464\",\"type\":\"Line\"},{\"attributes\":{\"mantissas\":[1,2,5],\"max_interval\":500.0,\"num_minor_ticks\":0},\"id\":\"707d95a9-42d6-43da-b5ca-89064f570f71\",\"type\":\"AdaptiveTicker\"},{\"attributes\":{\"label\":{\"value\":\"SBS\"},\"renderers\":[{\"id\":\"d7eeab14-429a-4f22-a549-7f7192a50169\",\"type\":\"GlyphRenderer\"}]},\"id\":\"6f4cc5cc-fae1-48c6-9597-6cab75652d71\",\"type\":\"LegendItem\"},{\"attributes\":{\"source\":{\"id\":\"9b6f481e-17a5-4624-b0e3-af76409f930b\",\"type\":\"ColumnDataSource\"}},\"id\":\"2ce96339-d044-4efd-89d0-49e8fe851a04\",\"type\":\"CDSView\"},{\"attributes\":{},\"id\":\"79a8b9b8-5bde-4dee-bfad-678e8e999b82\",\"type\":\"DatetimeTickFormatter\"},{\"attributes\":{\"data_source\":{\"id\":\"07a76ea0-0488-4e42-a850-d4f132ea9c67\",\"type\":\"ColumnDataSource\"},\"glyph\":{\"id\":\"37cda5d2-347e-48dd-b862-3a0601d65464\",\"type\":\"Line\"},\"hover_glyph\":null,\"muted_glyph\":null,\"nonselection_glyph\":{\"id\":\"01077442-c94c-4037-a714-558458943fff\",\"type\":\"Line\"},\"selection_glyph\":null,\"view\":{\"id\":\"7a8716c6-6dc6-45ea-8db5-fc77edce6f81\",\"type\":\"CDSView\"}},\"id\":\"d7eeab14-429a-4f22-a549-7f7192a50169\",\"type\":\"GlyphRenderer\"},{\"attributes\":{\"source\":{\"id\":\"07a76ea0-0488-4e42-a850-d4f132ea9c67\",\"type\":\"ColumnDataSource\"}},\"id\":\"7a8716c6-6dc6-45ea-8db5-fc77edce6f81\",\"type\":\"CDSView\"},{\"attributes\":{\"days\":[1,2,3,4,5,6,7,8,9,10,11,12,13,14,15,16,17,18,19,20,21,22,23,24,25,26,27,28,29,30,31]},\"id\":\"80482b8c-837b-4308-9f86-e0f2ab997834\",\"type\":\"DaysTicker\"},{\"attributes\":{\"base\":60,\"mantissas\":[1,2,5,10,15,20,30],\"max_interval\":1800000.0,\"min_interval\":1000.0,\"num_minor_ticks\":0},\"id\":\"f74ddde0-193c-446a-8637-1616cb549bbf\",\"type\":\"AdaptiveTicker\"},{\"attributes\":{\"months\":[0,2,4,6,8,10]},\"id\":\"70ba744b-ae78-41e2-a9bd-f42c705b9e20\",\"type\":\"MonthsTicker\"},{\"attributes\":{\"days\":[1,4,7,10,13,16,19,22,25,28]},\"id\":\"9b62f378-e469-40ba-aa36-4b496aee6666\",\"type\":\"DaysTicker\"},{\"attributes\":{\"base\":24,\"mantissas\":[1,2,4,6,8,12],\"max_interval\":43200000.0,\"min_interval\":3600000.0,\"num_minor_ticks\":0},\"id\":\"a02613c0-50f1-4d28-800f-2259d4d6955c\",\"type\":\"AdaptiveTicker\"},{\"attributes\":{\"days\":[1,8,15,22]},\"id\":\"7102b16d-d027-43b2-9228-f51b36e19a3b\",\"type\":\"DaysTicker\"},{\"attributes\":{\"months\":[0,1,2,3,4,5,6,7,8,9,10,11]},\"id\":\"02e2d04f-97ba-46fa-b151-dea1a32970cf\",\"type\":\"MonthsTicker\"},{\"attributes\":{\"days\":[1,15]},\"id\":\"d685b307-042f-4117-8d54-723a2a3d0e83\",\"type\":\"DaysTicker\"}],\"root_ids\":[\"85764ac5-957a-47ff-8e3d-ed7a4914600e\"]},\"title\":\"Bokeh Application\",\"version\":\"0.12.13\"}};\n",
       "  var render_items = [{\"docid\":\"861205ca-201a-4f60-8aa0-06e0d8b73186\",\"elementid\":\"05fb303f-0bb8-42c8-8283-e575be0c4221\",\"modelid\":\"85764ac5-957a-47ff-8e3d-ed7a4914600e\"}];\n",
       "  root.Bokeh.embed.embed_items_notebook(docs_json, render_items);\n",
       "\n",
       "  }\n",
       "  if (root.Bokeh !== undefined) {\n",
       "    embed_document(root);\n",
       "  } else {\n",
       "    var attempts = 0;\n",
       "    var timer = setInterval(function(root) {\n",
       "      if (root.Bokeh !== undefined) {\n",
       "        embed_document(root);\n",
       "        clearInterval(timer);\n",
       "      }\n",
       "      attempts++;\n",
       "      if (attempts > 100) {\n",
       "        console.log(\"Bokeh: ERROR: Unable to run BokehJS code because BokehJS library is missing\")\n",
       "        clearInterval(timer);\n",
       "      }\n",
       "    }, 10, root)\n",
       "  }\n",
       "})(window);"
      ],
      "application/vnd.bokehjs_exec.v0+json": ""
     },
     "metadata": {
      "application/vnd.bokehjs_exec.v0+json": {
       "id": "85764ac5-957a-47ff-8e3d-ed7a4914600e"
      }
     },
     "output_type": "display_data"
    }
   ],
   "source": [
    "p1 = figure(plot_width=750, plot_height=500,x_axis_type='datetime', title=\"월별 기사당 공유수 평균\")\n",
    "p1.grid.grid_line_alpha=0.3\n",
    "p1.xaxis.axis_label = '월별'\n",
    "p1.yaxis.axis_label = '기사당 공유수 평균'\n",
    "p1.line(unstacked_share_mean['datetime'], unstacked_share_mean['chosun'], color='#f90202', legend='조선일보',line_width=2)\n",
    "p1.line(unstacked_share_mean['datetime'], unstacked_share_mean['joins'], color='#E2A00B', legend='중앙일보',line_width=2)\n",
    "p1.line(unstacked_share_mean['datetime'], unstacked_share_mean['yonhap'], color='#1cefef', legend='연합뉴스',line_width=2, line_dash='dashed')\n",
    "p1.line(unstacked_share_mean['datetime'], unstacked_share_mean['ohmynews'], color='#ff3300', legend='오마이뉴스',line_width=2, line_dash='dashed')\n",
    "p1.line(unstacked_share_mean['datetime'], unstacked_share_mean['hani'], color='#01996e', legend='한겨레',line_width=2)\n",
    "p1.line(unstacked_share_mean['datetime'], unstacked_share_mean['kh'], color='#18407D', legend='경향신문',line_width=2)\n",
    "p1.line(unstacked_share_mean['datetime'], unstacked_share_mean['jtbc'], color='#F48179', legend='JTBC',line_width=2, line_dash='dotted')\n",
    "p1.line(unstacked_share_mean['datetime'], unstacked_share_mean['sbs'], color='#1D3A6E', legend='SBS',line_width=2, line_dash='dotted')\n",
    "\n",
    "show(p1)"
   ]
  },
  {
   "cell_type": "markdown",
   "metadata": {},
   "source": [
    "## 월별 언론사별 반응수 합산\n",
    "\n",
    "반응수란 페이스북내에서 링크된 콘텐츠의 하단에 있는 버튼(좋아요, 최고예요, 웃겨요, 멋저요, 슬퍼요, 화나요)을 활용해 이용자가 감정적 반응을 한 수의 합산값. 현재 개별값은 제공하지 않고 있음."
   ]
  },
  {
   "cell_type": "code",
   "execution_count": 17,
   "metadata": {},
   "outputs": [
    {
     "data": {
      "text/plain": [
       "media\n",
       "hani        18313795\n",
       "ohmynews    17315667\n",
       "kh          16516102\n",
       "joins       16192627\n",
       "sbs         12877872\n",
       "yonhap      11272402\n",
       "chosun      10552906\n",
       "jtbc        10039417\n",
       "mk           1598513\n",
       "kbs          1435025\n",
       "donga        1388034\n",
       "edaily       1156878\n",
       "mbc           650415\n",
       "Name: tot_reaction_count, dtype: int64"
      ]
     },
     "execution_count": 17,
     "metadata": {},
     "output_type": "execute_result"
    }
   ],
   "source": [
    "media_reaction_sum = df_year.groupby('media')['tot_reaction_count'].sum()\n",
    "sort_reaction_total=media_reaction_sum.sort_values(ascending=False)\n",
    "sort_reaction_total"
   ]
  },
  {
   "cell_type": "code",
   "execution_count": 18,
   "metadata": {},
   "outputs": [],
   "source": [
    "reaction_group_sum=df_year.groupby([pd.Grouper(key='datetime', freq='M'), 'media'])['tot_reaction_count'].sum()\n",
    "unstacked_reaction_sum=reaction_group_sum.unstack(level=-1)\n",
    "unstacked_reaction_sum.reset_index(level=0, inplace=True)"
   ]
  },
  {
   "cell_type": "code",
   "execution_count": 19,
   "metadata": {},
   "outputs": [
    {
     "data": {
      "text/html": [
       "\n",
       "<div class=\"bk-root\">\n",
       "    <div class=\"bk-plotdiv\" id=\"2417716e-9e1d-4124-91a4-4f0b77a59560\"></div>\n",
       "</div>"
      ]
     },
     "metadata": {},
     "output_type": "display_data"
    },
    {
     "data": {
      "application/javascript": [
       "(function(root) {\n",
       "  function embed_document(root) {\n",
       "    \n",
       "  var docs_json = {\"c92defc8-54e1-4f24-a197-e5aa5dd0eb65\":{\"roots\":{\"references\":[{\"attributes\":{\"callback\":null,\"column_names\":[\"x\",\"y\"],\"data\":{\"x\":{\"__ndarray__\":\"AAAAwkFQdUIAAICu6Vl1QgAAwADkY3VCAAAAU95tdUIAAIA/hnd1QgAAwJGAgXVCAABAfiiLdUIAAIDQIpV1QgAAwCIdn3VCAADAQyCodUIAAACWGrJ1QgAAgILCu3VCAADA1LzFdUIAAEDBZM91QgAAgBNf2XVCAADAZVnjdUIAAEBSAe11QgAAgKT79nVCAAAAkaMAdkIAAEDjnQp2Qg==\",\"dtype\":\"float64\",\"shape\":[20]},\"y\":[677884,630341,796289,880955,1012086,1305338,1990905,1496318,1006144,834563,871440,1011079,1273839,713452,563027,361542,530076,450632,532813,376944]}},\"id\":\"03bd9582-31e0-47a2-96a0-65d4ff861639\",\"type\":\"ColumnDataSource\"},{\"attributes\":{\"data_source\":{\"id\":\"6760dcbe-f28b-4846-b63e-f7cab8528fcd\",\"type\":\"ColumnDataSource\"},\"glyph\":{\"id\":\"c18cea8d-569b-4227-8ac7-721a2eeb95ef\",\"type\":\"Line\"},\"hover_glyph\":null,\"muted_glyph\":null,\"nonselection_glyph\":{\"id\":\"013c27e3-2b60-4d84-986a-3d222a4d7ed2\",\"type\":\"Line\"},\"selection_glyph\":null,\"view\":{\"id\":\"d63f6e97-101a-4bcb-8fbc-b2a640868c90\",\"type\":\"CDSView\"}},\"id\":\"61b354c8-3195-4dab-a4ae-b60f54d0b6f7\",\"type\":\"GlyphRenderer\"},{\"attributes\":{\"source\":{\"id\":\"6760dcbe-f28b-4846-b63e-f7cab8528fcd\",\"type\":\"ColumnDataSource\"}},\"id\":\"d63f6e97-101a-4bcb-8fbc-b2a640868c90\",\"type\":\"CDSView\"},{\"attributes\":{\"label\":{\"value\":\"\\uc5f0\\ud569\\ub274\\uc2a4\"},\"renderers\":[{\"id\":\"61b354c8-3195-4dab-a4ae-b60f54d0b6f7\",\"type\":\"GlyphRenderer\"}]},\"id\":\"ae9edfb8-6ec1-4e6f-b3ca-e9952a514385\",\"type\":\"LegendItem\"},{\"attributes\":{\"callback\":null,\"column_names\":[\"x\",\"y\"],\"data\":{\"x\":{\"__ndarray__\":\"AAAAwkFQdUIAAICu6Vl1QgAAwADkY3VCAAAAU95tdUIAAIA/hnd1QgAAwJGAgXVCAABAfiiLdUIAAIDQIpV1QgAAwCIdn3VCAADAQyCodUIAAACWGrJ1QgAAgILCu3VCAADA1LzFdUIAAEDBZM91QgAAgBNf2XVCAADAZVnjdUIAAEBSAe11QgAAgKT79nVCAAAAkaMAdkIAAEDjnQp2Qg==\",\"dtype\":\"float64\",\"shape\":[20]},\"y\":[578423,533823,706573,837494,993035,1459836,2089767,1900887,1157728,892780,1116246,991100,1259853,804155,668703,360857,532507,455134,570243,404651]}},\"id\":\"07243a04-ca88-4227-b980-edcb8f1577f0\",\"type\":\"ColumnDataSource\"},{\"attributes\":{\"line_alpha\":0.1,\"line_color\":\"#1f77b4\",\"line_width\":2,\"x\":{\"field\":\"x\"},\"y\":{\"field\":\"y\"}},\"id\":\"afadd6e6-21e7-472b-b06c-ad70eb66fd11\",\"type\":\"Line\"},{\"attributes\":{\"line_color\":\"#ff3300\",\"line_dash\":[6],\"line_width\":2,\"x\":{\"field\":\"x\"},\"y\":{\"field\":\"y\"}},\"id\":\"2d0e50c5-ff1c-4a26-aee5-6d74562a98b5\",\"type\":\"Line\"},{\"attributes\":{\"line_alpha\":0.1,\"line_color\":\"#1f77b4\",\"line_dash\":[6],\"line_width\":2,\"x\":{\"field\":\"x\"},\"y\":{\"field\":\"y\"}},\"id\":\"594ab715-5b64-4f59-8b7e-2a6eb442a59d\",\"type\":\"Line\"},{\"attributes\":{\"label\":{\"value\":\"\\uc624\\ub9c8\\uc774\\ub274\\uc2a4\"},\"renderers\":[{\"id\":\"44a5ba8b-d863-49ed-bc6b-7451d9d650f0\",\"type\":\"GlyphRenderer\"}]},\"id\":\"3962b32d-1435-4831-af89-1e13de81e993\",\"type\":\"LegendItem\"},{\"attributes\":{\"callback\":null,\"column_names\":[\"x\",\"y\"],\"data\":{\"x\":{\"__ndarray__\":\"AAAAwkFQdUIAAICu6Vl1QgAAwADkY3VCAAAAU95tdUIAAIA/hnd1QgAAwJGAgXVCAABAfiiLdUIAAIDQIpV1QgAAwCIdn3VCAADAQyCodUIAAACWGrJ1QgAAgILCu3VCAADA1LzFdUIAAEDBZM91QgAAgBNf2XVCAADAZVnjdUIAAEBSAe11QgAAgKT79nVCAAAAkaMAdkIAAEDjnQp2Qg==\",\"dtype\":\"float64\",\"shape\":[20]},\"y\":[484745,513367,647760,857006,858959,1374272,1977336,1672382,1256362,1015023,1081987,721418,915320,624889,551386,310532,556074,536187,487225,73872]}},\"id\":\"2c1297ce-7235-4e83-8136-f2d9a26fb769\",\"type\":\"ColumnDataSource\"},{\"attributes\":{\"data_source\":{\"id\":\"03bd9582-31e0-47a2-96a0-65d4ff861639\",\"type\":\"ColumnDataSource\"},\"glyph\":{\"id\":\"2d0e50c5-ff1c-4a26-aee5-6d74562a98b5\",\"type\":\"Line\"},\"hover_glyph\":null,\"muted_glyph\":null,\"nonselection_glyph\":{\"id\":\"594ab715-5b64-4f59-8b7e-2a6eb442a59d\",\"type\":\"Line\"},\"selection_glyph\":null,\"view\":{\"id\":\"eb719512-1cbe-4e77-954e-0225ad319e1a\",\"type\":\"CDSView\"}},\"id\":\"44a5ba8b-d863-49ed-bc6b-7451d9d650f0\",\"type\":\"GlyphRenderer\"},{\"attributes\":{\"source\":{\"id\":\"03bd9582-31e0-47a2-96a0-65d4ff861639\",\"type\":\"ColumnDataSource\"}},\"id\":\"eb719512-1cbe-4e77-954e-0225ad319e1a\",\"type\":\"CDSView\"},{\"attributes\":{},\"id\":\"af84506b-43ce-4afb-9d77-1ada5428626d\",\"type\":\"YearsTicker\"},{\"attributes\":{\"line_alpha\":0.1,\"line_color\":\"#1f77b4\",\"line_width\":2,\"x\":{\"field\":\"x\"},\"y\":{\"field\":\"y\"}},\"id\":\"313211c7-09b2-468e-b002-7dd719b57fa8\",\"type\":\"Line\"},{\"attributes\":{\"line_color\":\"#01996e\",\"line_width\":2,\"x\":{\"field\":\"x\"},\"y\":{\"field\":\"y\"}},\"id\":\"ff5d4baa-3c0e-458d-adb0-bb2ca5101022\",\"type\":\"Line\"},{\"attributes\":{\"label\":{\"value\":\"\\ud55c\\uaca8\\ub808\"},\"renderers\":[{\"id\":\"819ef490-f8ed-4bac-a9eb-e18273b1c6e0\",\"type\":\"GlyphRenderer\"}]},\"id\":\"805257ee-21f2-43d0-987b-41b965a603db\",\"type\":\"LegendItem\"},{\"attributes\":{\"data_source\":{\"id\":\"07243a04-ca88-4227-b980-edcb8f1577f0\",\"type\":\"ColumnDataSource\"},\"glyph\":{\"id\":\"ff5d4baa-3c0e-458d-adb0-bb2ca5101022\",\"type\":\"Line\"},\"hover_glyph\":null,\"muted_glyph\":null,\"nonselection_glyph\":{\"id\":\"afadd6e6-21e7-472b-b06c-ad70eb66fd11\",\"type\":\"Line\"},\"selection_glyph\":null,\"view\":{\"id\":\"5c2319bc-8f42-4bb2-9a5e-0b77c49727a5\",\"type\":\"CDSView\"}},\"id\":\"819ef490-f8ed-4bac-a9eb-e18273b1c6e0\",\"type\":\"GlyphRenderer\"},{\"attributes\":{\"source\":{\"id\":\"07243a04-ca88-4227-b980-edcb8f1577f0\",\"type\":\"ColumnDataSource\"}},\"id\":\"5c2319bc-8f42-4bb2-9a5e-0b77c49727a5\",\"type\":\"CDSView\"},{\"attributes\":{\"callback\":null,\"column_names\":[\"x\",\"y\"],\"data\":{\"x\":{\"__ndarray__\":\"AAAAwkFQdUIAAICu6Vl1QgAAwADkY3VCAAAAU95tdUIAAIA/hnd1QgAAwJGAgXVCAABAfiiLdUIAAIDQIpV1QgAAwCIdn3VCAADAQyCodUIAAACWGrJ1QgAAgILCu3VCAADA1LzFdUIAAEDBZM91QgAAgBNf2XVCAADAZVnjdUIAAEBSAe11QgAAgKT79nVCAAAAkaMAdkIAAEDjnQp2Qg==\",\"dtype\":\"float64\",\"shape\":[20]},\"y\":[249766,300539,291085,258565,195950,544461,1247315,1241930,722963,353303,467514,600619,1088677,564209,427597,227422,334760,347047,399345,176350]}},\"id\":\"c23ccb76-3edf-45c2-8663-00cfd9322b84\",\"type\":\"ColumnDataSource\"},{\"attributes\":{\"line_alpha\":0.1,\"line_color\":\"#1f77b4\",\"line_dash\":[2,4],\"line_width\":2,\"x\":{\"field\":\"x\"},\"y\":{\"field\":\"y\"}},\"id\":\"1b42edb0-da25-4389-a7f5-d5aa790bf0af\",\"type\":\"Line\"},{\"attributes\":{\"line_color\":\"#18407D\",\"line_width\":2,\"x\":{\"field\":\"x\"},\"y\":{\"field\":\"y\"}},\"id\":\"499273fc-6fef-4f68-8bbe-920ee8ca5c8f\",\"type\":\"Line\"},{\"attributes\":{\"label\":{\"value\":\"\\uacbd\\ud5a5\\uc2e0\\ubb38\"},\"renderers\":[{\"id\":\"74962c0e-92ad-4e8e-be91-b0faa24110b3\",\"type\":\"GlyphRenderer\"}]},\"id\":\"791eda50-1f69-4ef3-8c34-f9e09f14fa9a\",\"type\":\"LegendItem\"},{\"attributes\":{\"base\":24,\"mantissas\":[1,2,4,6,8,12],\"max_interval\":43200000.0,\"min_interval\":3600000.0,\"num_minor_ticks\":0},\"id\":\"05fc5bda-fbfb-45fd-b57e-ae38e478649f\",\"type\":\"AdaptiveTicker\"},{\"attributes\":{\"active_drag\":\"auto\",\"active_inspect\":\"auto\",\"active_scroll\":\"auto\",\"active_tap\":\"auto\",\"tools\":[{\"id\":\"d7932214-4e38-460d-a578-ddb8d71847d0\",\"type\":\"PanTool\"},{\"id\":\"72eb7d2a-d5eb-47cd-80e1-37c3de248038\",\"type\":\"WheelZoomTool\"},{\"id\":\"48d78467-c010-4d28-9b4b-195022d02097\",\"type\":\"BoxZoomTool\"},{\"id\":\"e5b57043-7605-43af-8acb-fcea3a5bd06b\",\"type\":\"SaveTool\"},{\"id\":\"0df717bf-0c1f-4103-95be-1d0a80e5ee62\",\"type\":\"ResetTool\"},{\"id\":\"239612aa-dfdd-4e2d-a569-ecf0e3cc2640\",\"type\":\"HelpTool\"}]},\"id\":\"70f15107-4d6b-4782-825b-dcf5b1af473f\",\"type\":\"Toolbar\"},{\"attributes\":{\"bottom_units\":\"screen\",\"fill_alpha\":{\"value\":0.5},\"fill_color\":{\"value\":\"lightgrey\"},\"left_units\":\"screen\",\"level\":\"overlay\",\"line_alpha\":{\"value\":1.0},\"line_color\":{\"value\":\"black\"},\"line_dash\":[4,4],\"line_width\":{\"value\":2},\"plot\":null,\"render_mode\":\"css\",\"right_units\":\"screen\",\"top_units\":\"screen\"},\"id\":\"ad3e1e80-8e2c-40cf-833e-8c2f4ccfe05c\",\"type\":\"BoxAnnotation\"},{\"attributes\":{\"data_source\":{\"id\":\"2c1297ce-7235-4e83-8136-f2d9a26fb769\",\"type\":\"ColumnDataSource\"},\"glyph\":{\"id\":\"499273fc-6fef-4f68-8bbe-920ee8ca5c8f\",\"type\":\"Line\"},\"hover_glyph\":null,\"muted_glyph\":null,\"nonselection_glyph\":{\"id\":\"313211c7-09b2-468e-b002-7dd719b57fa8\",\"type\":\"Line\"},\"selection_glyph\":null,\"view\":{\"id\":\"efbc1b6c-56e1-4820-8ac6-e48cfc52d17c\",\"type\":\"CDSView\"}},\"id\":\"74962c0e-92ad-4e8e-be91-b0faa24110b3\",\"type\":\"GlyphRenderer\"},{\"attributes\":{},\"id\":\"b1fe4615-4e21-4108-9688-97b5537734f5\",\"type\":\"DatetimeTickFormatter\"},{\"attributes\":{},\"id\":\"23be9f0a-962c-41db-904e-64273235c23a\",\"type\":\"LinearScale\"},{\"attributes\":{\"source\":{\"id\":\"2c1297ce-7235-4e83-8136-f2d9a26fb769\",\"type\":\"ColumnDataSource\"}},\"id\":\"efbc1b6c-56e1-4820-8ac6-e48cfc52d17c\",\"type\":\"CDSView\"},{\"attributes\":{\"source\":{\"id\":\"64f37ee0-6b25-4582-9e35-d8e77e49b21e\",\"type\":\"ColumnDataSource\"}},\"id\":\"6de9c8bb-dd62-4bd8-838c-6a7e09ba1507\",\"type\":\"CDSView\"},{\"attributes\":{\"callback\":null,\"column_names\":[\"x\",\"y\"],\"data\":{\"x\":{\"__ndarray__\":\"AAAAwkFQdUIAAICu6Vl1QgAAwADkY3VCAAAAU95tdUIAAIA/hnd1QgAAwJGAgXVCAABAfiiLdUIAAIDQIpV1QgAAwCIdn3VCAADAQyCodUIAAACWGrJ1QgAAgILCu3VCAADA1LzFdUIAAEDBZM91QgAAgBNf2XVCAADAZVnjdUIAAEBSAe11QgAAgKT79nVCAAAAkaMAdkIAAEDjnQp2Qg==\",\"dtype\":\"float64\",\"shape\":[20]},\"y\":[400957,306636,413376,448318,765459,927122,1066167,844394,869733,770304,976536,649493,692419,499785,684773,403481,937086,607494,527816,86523]}},\"id\":\"87565aab-2265-4f74-8f12-995395793df0\",\"type\":\"ColumnDataSource\"},{\"attributes\":{\"line_alpha\":0.1,\"line_color\":\"#1f77b4\",\"line_dash\":[2,4],\"line_width\":2,\"x\":{\"field\":\"x\"},\"y\":{\"field\":\"y\"}},\"id\":\"a7974b10-49c3-4a0e-b935-e848c65cf65d\",\"type\":\"Line\"},{\"attributes\":{\"base\":60,\"mantissas\":[1,2,5,10,15,20,30],\"max_interval\":1800000.0,\"min_interval\":1000.0,\"num_minor_ticks\":0},\"id\":\"388be51c-d044-4052-94d2-e99a6f732dfc\",\"type\":\"AdaptiveTicker\"},{\"attributes\":{\"line_color\":\"#F48179\",\"line_dash\":[2,4],\"line_width\":2,\"x\":{\"field\":\"x\"},\"y\":{\"field\":\"y\"}},\"id\":\"612f071c-1a9c-4dc8-8530-12c0455eec04\",\"type\":\"Line\"},{\"attributes\":{\"overlay\":{\"id\":\"ad3e1e80-8e2c-40cf-833e-8c2f4ccfe05c\",\"type\":\"BoxAnnotation\"}},\"id\":\"48d78467-c010-4d28-9b4b-195022d02097\",\"type\":\"BoxZoomTool\"},{\"attributes\":{\"label\":{\"value\":\"JTBC\"},\"renderers\":[{\"id\":\"b155706b-5065-4bf0-ad18-aaabe2c23163\",\"type\":\"GlyphRenderer\"}]},\"id\":\"0035307a-f7e8-457e-bf8e-8fb412e61e9a\",\"type\":\"LegendItem\"},{\"attributes\":{\"data_source\":{\"id\":\"c23ccb76-3edf-45c2-8663-00cfd9322b84\",\"type\":\"ColumnDataSource\"},\"glyph\":{\"id\":\"612f071c-1a9c-4dc8-8530-12c0455eec04\",\"type\":\"Line\"},\"hover_glyph\":null,\"muted_glyph\":null,\"nonselection_glyph\":{\"id\":\"1b42edb0-da25-4389-a7f5-d5aa790bf0af\",\"type\":\"Line\"},\"selection_glyph\":null,\"view\":{\"id\":\"4bfece96-3e80-4b93-b49e-3c0a8e10a4ff\",\"type\":\"CDSView\"}},\"id\":\"b155706b-5065-4bf0-ad18-aaabe2c23163\",\"type\":\"GlyphRenderer\"},{\"attributes\":{\"source\":{\"id\":\"c23ccb76-3edf-45c2-8663-00cfd9322b84\",\"type\":\"ColumnDataSource\"}},\"id\":\"4bfece96-3e80-4b93-b49e-3c0a8e10a4ff\",\"type\":\"CDSView\"},{\"attributes\":{\"line_alpha\":0.1,\"line_color\":\"#1f77b4\",\"line_width\":2,\"x\":{\"field\":\"x\"},\"y\":{\"field\":\"y\"}},\"id\":\"c020f345-7b65-45fd-b35c-59524820874b\",\"type\":\"Line\"},{\"attributes\":{\"grid_line_alpha\":{\"value\":0.3},\"plot\":{\"id\":\"fc21f03b-9896-48fa-b513-f277b7c172a8\",\"subtype\":\"Figure\",\"type\":\"Plot\"},\"ticker\":{\"id\":\"c0c7a1d4-1772-406b-8081-46002deec90a\",\"type\":\"DatetimeTicker\"}},\"id\":\"a0765f21-6a9b-4d2f-81ff-9eeb44ded6bc\",\"type\":\"Grid\"},{\"attributes\":{\"below\":[{\"id\":\"07807d02-af64-4cc2-b8d2-84127b4d2fb5\",\"type\":\"DatetimeAxis\"}],\"left\":[{\"id\":\"762f0614-6569-4395-8cbd-97282dc0ca06\",\"type\":\"LinearAxis\"}],\"plot_height\":500,\"plot_width\":750,\"renderers\":[{\"id\":\"07807d02-af64-4cc2-b8d2-84127b4d2fb5\",\"type\":\"DatetimeAxis\"},{\"id\":\"a0765f21-6a9b-4d2f-81ff-9eeb44ded6bc\",\"type\":\"Grid\"},{\"id\":\"762f0614-6569-4395-8cbd-97282dc0ca06\",\"type\":\"LinearAxis\"},{\"id\":\"a2f6b9e0-d539-44fc-8235-1681ad37c6cb\",\"type\":\"Grid\"},{\"id\":\"ad3e1e80-8e2c-40cf-833e-8c2f4ccfe05c\",\"type\":\"BoxAnnotation\"},{\"id\":\"21d98da9-2d93-429a-bd33-5ca2c15e8dd9\",\"type\":\"Legend\"},{\"id\":\"bf17f33f-a3d2-43e8-8c93-ac22a2487df5\",\"type\":\"GlyphRenderer\"},{\"id\":\"c3bdff8c-4a8b-4968-af36-25ed0b226938\",\"type\":\"GlyphRenderer\"},{\"id\":\"61b354c8-3195-4dab-a4ae-b60f54d0b6f7\",\"type\":\"GlyphRenderer\"},{\"id\":\"44a5ba8b-d863-49ed-bc6b-7451d9d650f0\",\"type\":\"GlyphRenderer\"},{\"id\":\"819ef490-f8ed-4bac-a9eb-e18273b1c6e0\",\"type\":\"GlyphRenderer\"},{\"id\":\"74962c0e-92ad-4e8e-be91-b0faa24110b3\",\"type\":\"GlyphRenderer\"},{\"id\":\"b155706b-5065-4bf0-ad18-aaabe2c23163\",\"type\":\"GlyphRenderer\"},{\"id\":\"d8444629-9078-49e3-9079-f45d052ce747\",\"type\":\"GlyphRenderer\"}],\"title\":{\"id\":\"d57e53d3-dfd6-471a-8cd2-fb5a68f2403a\",\"type\":\"Title\"},\"toolbar\":{\"id\":\"70f15107-4d6b-4782-825b-dcf5b1af473f\",\"type\":\"Toolbar\"},\"x_range\":{\"id\":\"f7e8b41b-c2d7-4fd4-86e8-43bc41d7a669\",\"type\":\"DataRange1d\"},\"x_scale\":{\"id\":\"d6f7969e-56a8-40f5-a14e-3f445ec64332\",\"type\":\"LinearScale\"},\"y_range\":{\"id\":\"94be2b6c-7aa1-4e5c-8fb3-97979e130460\",\"type\":\"DataRange1d\"},\"y_scale\":{\"id\":\"23be9f0a-962c-41db-904e-64273235c23a\",\"type\":\"LinearScale\"}},\"id\":\"fc21f03b-9896-48fa-b513-f277b7c172a8\",\"subtype\":\"Figure\",\"type\":\"Plot\"},{\"attributes\":{\"callback\":null},\"id\":\"94be2b6c-7aa1-4e5c-8fb3-97979e130460\",\"type\":\"DataRange1d\"},{\"attributes\":{\"line_color\":\"#1D3A6E\",\"line_dash\":[2,4],\"line_width\":2,\"x\":{\"field\":\"x\"},\"y\":{\"field\":\"y\"}},\"id\":\"c29bec2f-7e35-49c2-8188-f6c7092219f6\",\"type\":\"Line\"},{\"attributes\":{},\"id\":\"72eb7d2a-d5eb-47cd-80e1-37c3de248038\",\"type\":\"WheelZoomTool\"},{\"attributes\":{\"callback\":null},\"id\":\"f7e8b41b-c2d7-4fd4-86e8-43bc41d7a669\",\"type\":\"DataRange1d\"},{\"attributes\":{\"label\":{\"value\":\"SBS\"},\"renderers\":[{\"id\":\"d8444629-9078-49e3-9079-f45d052ce747\",\"type\":\"GlyphRenderer\"}]},\"id\":\"00894978-16e9-4ce6-b5ae-688f7322659e\",\"type\":\"LegendItem\"},{\"attributes\":{\"axis_label\":\"\\ubc18\\uc751\\uc218 \\ud569\\uc0b0\",\"formatter\":{\"id\":\"3a12cd9f-91ae-4952-bdba-5c0a21c43ccb\",\"type\":\"BasicTickFormatter\"},\"plot\":{\"id\":\"fc21f03b-9896-48fa-b513-f277b7c172a8\",\"subtype\":\"Figure\",\"type\":\"Plot\"},\"ticker\":{\"id\":\"b11d87f6-a316-481b-b697-ace1f4045ef9\",\"type\":\"BasicTicker\"}},\"id\":\"762f0614-6569-4395-8cbd-97282dc0ca06\",\"type\":\"LinearAxis\"},{\"attributes\":{\"data_source\":{\"id\":\"87565aab-2265-4f74-8f12-995395793df0\",\"type\":\"ColumnDataSource\"},\"glyph\":{\"id\":\"c29bec2f-7e35-49c2-8188-f6c7092219f6\",\"type\":\"Line\"},\"hover_glyph\":null,\"muted_glyph\":null,\"nonselection_glyph\":{\"id\":\"a7974b10-49c3-4a0e-b935-e848c65cf65d\",\"type\":\"Line\"},\"selection_glyph\":null,\"view\":{\"id\":\"a2829a40-88ea-4826-ad1d-65a0014588bc\",\"type\":\"CDSView\"}},\"id\":\"d8444629-9078-49e3-9079-f45d052ce747\",\"type\":\"GlyphRenderer\"},{\"attributes\":{\"source\":{\"id\":\"87565aab-2265-4f74-8f12-995395793df0\",\"type\":\"ColumnDataSource\"}},\"id\":\"a2829a40-88ea-4826-ad1d-65a0014588bc\",\"type\":\"CDSView\"},{\"attributes\":{\"days\":[1,2,3,4,5,6,7,8,9,10,11,12,13,14,15,16,17,18,19,20,21,22,23,24,25,26,27,28,29,30,31]},\"id\":\"cacf8463-21e7-4571-9119-42c7ac79e002\",\"type\":\"DaysTicker\"},{\"attributes\":{},\"id\":\"3a12cd9f-91ae-4952-bdba-5c0a21c43ccb\",\"type\":\"BasicTickFormatter\"},{\"attributes\":{\"plot\":null,\"text\":\"\\uc6d4\\ubcc4 \\ubc18\\uc751\\uc218 \\ud569\\uc0b0\"},\"id\":\"d57e53d3-dfd6-471a-8cd2-fb5a68f2403a\",\"type\":\"Title\"},{\"attributes\":{\"num_minor_ticks\":5,\"tickers\":[{\"id\":\"7bf27f77-24e7-43a2-80bb-7f83e130353d\",\"type\":\"AdaptiveTicker\"},{\"id\":\"388be51c-d044-4052-94d2-e99a6f732dfc\",\"type\":\"AdaptiveTicker\"},{\"id\":\"05fc5bda-fbfb-45fd-b57e-ae38e478649f\",\"type\":\"AdaptiveTicker\"},{\"id\":\"cacf8463-21e7-4571-9119-42c7ac79e002\",\"type\":\"DaysTicker\"},{\"id\":\"5dafc5c4-497c-42c5-959b-5d3c0f01b243\",\"type\":\"DaysTicker\"},{\"id\":\"21d8fda9-a325-42a7-85d7-e47aa7ee4926\",\"type\":\"DaysTicker\"},{\"id\":\"de5e7a84-a199-406e-a581-f4c0d7b769e6\",\"type\":\"DaysTicker\"},{\"id\":\"fa4fff21-b105-4399-b6ab-e4e802942cb6\",\"type\":\"MonthsTicker\"},{\"id\":\"983df993-3bcf-4f98-a4d4-4732c1c04252\",\"type\":\"MonthsTicker\"},{\"id\":\"85ce81e8-fbb3-43aa-9260-f2b35036ac58\",\"type\":\"MonthsTicker\"},{\"id\":\"af84225a-7f8d-40f6-aa03-8ac5b1afa13f\",\"type\":\"MonthsTicker\"},{\"id\":\"af84506b-43ce-4afb-9d77-1ada5428626d\",\"type\":\"YearsTicker\"}]},\"id\":\"c0c7a1d4-1772-406b-8081-46002deec90a\",\"type\":\"DatetimeTicker\"},{\"attributes\":{\"line_color\":\"#f90202\",\"line_width\":2,\"x\":{\"field\":\"x\"},\"y\":{\"field\":\"y\"}},\"id\":\"b15092d5-a140-4b0d-ae27-e9f3e8875eab\",\"type\":\"Line\"},{\"attributes\":{},\"id\":\"239612aa-dfdd-4e2d-a569-ecf0e3cc2640\",\"type\":\"HelpTool\"},{\"attributes\":{\"label\":{\"value\":\"\\uc870\\uc120\\uc77c\\ubcf4\"},\"renderers\":[{\"id\":\"bf17f33f-a3d2-43e8-8c93-ac22a2487df5\",\"type\":\"GlyphRenderer\"}]},\"id\":\"d136c378-cae1-4880-af42-8daa8bdea04d\",\"type\":\"LegendItem\"},{\"attributes\":{\"mantissas\":[1,2,5],\"max_interval\":500.0,\"num_minor_ticks\":0},\"id\":\"7bf27f77-24e7-43a2-80bb-7f83e130353d\",\"type\":\"AdaptiveTicker\"},{\"attributes\":{},\"id\":\"d7932214-4e38-460d-a578-ddb8d71847d0\",\"type\":\"PanTool\"},{\"attributes\":{\"dimension\":1,\"grid_line_alpha\":{\"value\":0.3},\"plot\":{\"id\":\"fc21f03b-9896-48fa-b513-f277b7c172a8\",\"subtype\":\"Figure\",\"type\":\"Plot\"},\"ticker\":{\"id\":\"b11d87f6-a316-481b-b697-ace1f4045ef9\",\"type\":\"BasicTicker\"}},\"id\":\"a2f6b9e0-d539-44fc-8235-1681ad37c6cb\",\"type\":\"Grid\"},{\"attributes\":{\"months\":[0,6]},\"id\":\"af84225a-7f8d-40f6-aa03-8ac5b1afa13f\",\"type\":\"MonthsTicker\"},{\"attributes\":{\"source\":{\"id\":\"cbba9512-b866-47c7-9a96-2f2fc2dd8095\",\"type\":\"ColumnDataSource\"}},\"id\":\"38f75648-84a3-4e79-afb8-2c1e4ae84242\",\"type\":\"CDSView\"},{\"attributes\":{},\"id\":\"0df717bf-0c1f-4103-95be-1d0a80e5ee62\",\"type\":\"ResetTool\"},{\"attributes\":{\"axis_label\":\"\\uc6d4\\ubcc4\",\"formatter\":{\"id\":\"b1fe4615-4e21-4108-9688-97b5537734f5\",\"type\":\"DatetimeTickFormatter\"},\"plot\":{\"id\":\"fc21f03b-9896-48fa-b513-f277b7c172a8\",\"subtype\":\"Figure\",\"type\":\"Plot\"},\"ticker\":{\"id\":\"c0c7a1d4-1772-406b-8081-46002deec90a\",\"type\":\"DatetimeTicker\"}},\"id\":\"07807d02-af64-4cc2-b8d2-84127b4d2fb5\",\"type\":\"DatetimeAxis\"},{\"attributes\":{\"data_source\":{\"id\":\"64f37ee0-6b25-4582-9e35-d8e77e49b21e\",\"type\":\"ColumnDataSource\"},\"glyph\":{\"id\":\"b15092d5-a140-4b0d-ae27-e9f3e8875eab\",\"type\":\"Line\"},\"hover_glyph\":null,\"muted_glyph\":null,\"nonselection_glyph\":{\"id\":\"c020f345-7b65-45fd-b35c-59524820874b\",\"type\":\"Line\"},\"selection_glyph\":null,\"view\":{\"id\":\"6de9c8bb-dd62-4bd8-838c-6a7e09ba1507\",\"type\":\"CDSView\"}},\"id\":\"bf17f33f-a3d2-43e8-8c93-ac22a2487df5\",\"type\":\"GlyphRenderer\"},{\"attributes\":{\"label\":{\"value\":\"\\uc911\\uc559\\uc77c\\ubcf4\"},\"renderers\":[{\"id\":\"c3bdff8c-4a8b-4968-af36-25ed0b226938\",\"type\":\"GlyphRenderer\"}]},\"id\":\"e1e014fe-bb00-4a8c-b8d7-ac8d3ec9894e\",\"type\":\"LegendItem\"},{\"attributes\":{\"days\":[1,8,15,22]},\"id\":\"21d8fda9-a325-42a7-85d7-e47aa7ee4926\",\"type\":\"DaysTicker\"},{\"attributes\":{\"days\":[1,15]},\"id\":\"de5e7a84-a199-406e-a581-f4c0d7b769e6\",\"type\":\"DaysTicker\"},{\"attributes\":{\"line_alpha\":0.1,\"line_color\":\"#1f77b4\",\"line_dash\":[6],\"line_width\":2,\"x\":{\"field\":\"x\"},\"y\":{\"field\":\"y\"}},\"id\":\"013c27e3-2b60-4d84-986a-3d222a4d7ed2\",\"type\":\"Line\"},{\"attributes\":{\"days\":[1,4,7,10,13,16,19,22,25,28]},\"id\":\"5dafc5c4-497c-42c5-959b-5d3c0f01b243\",\"type\":\"DaysTicker\"},{\"attributes\":{\"callback\":null,\"column_names\":[\"x\",\"y\"],\"data\":{\"x\":{\"__ndarray__\":\"AAAAwkFQdUIAAICu6Vl1QgAAwADkY3VCAAAAU95tdUIAAIA/hnd1QgAAwJGAgXVCAABAfiiLdUIAAIDQIpV1QgAAwCIdn3VCAADAQyCodUIAAACWGrJ1QgAAgILCu3VCAADA1LzFdUIAAEDBZM91QgAAgBNf2XVCAADAZVnjdUIAAEBSAe11QgAAgKT79nVCAAAAkaMAdkIAAEDjnQp2Qg==\",\"dtype\":\"float64\",\"shape\":[20]},\"y\":[198994,212730,291029,454717,616376,1574548,2666026,2142275,1211592,753770,859793,1270725,1124051,871344,645791,242407,348290,306680,288273,113216]}},\"id\":\"cbba9512-b866-47c7-9a96-2f2fc2dd8095\",\"type\":\"ColumnDataSource\"},{\"attributes\":{\"months\":[0,1,2,3,4,5,6,7,8,9,10,11]},\"id\":\"fa4fff21-b105-4399-b6ab-e4e802942cb6\",\"type\":\"MonthsTicker\"},{\"attributes\":{},\"id\":\"d6f7969e-56a8-40f5-a14e-3f445ec64332\",\"type\":\"LinearScale\"},{\"attributes\":{\"callback\":null,\"column_names\":[\"x\",\"y\"],\"data\":{\"x\":{\"__ndarray__\":\"AAAAwkFQdUIAAICu6Vl1QgAAwADkY3VCAAAAU95tdUIAAIA/hnd1QgAAwJGAgXVCAABAfiiLdUIAAIDQIpV1QgAAwCIdn3VCAADAQyCodUIAAACWGrJ1QgAAgILCu3VCAADA1LzFdUIAAEDBZM91QgAAgBNf2XVCAADAZVnjdUIAAEBSAe11QgAAgKT79nVCAAAAkaMAdkIAAEDjnQp2Qg==\",\"dtype\":\"float64\",\"shape\":[20]},\"y\":[269490,314344,501587,504532,573101,636852,761540,717717,817910,717841,723527,607500,843932,621680,522480,216318,628906,507667,530218,255260]}},\"id\":\"6760dcbe-f28b-4846-b63e-f7cab8528fcd\",\"type\":\"ColumnDataSource\"},{\"attributes\":{\"items\":[{\"id\":\"d136c378-cae1-4880-af42-8daa8bdea04d\",\"type\":\"LegendItem\"},{\"id\":\"e1e014fe-bb00-4a8c-b8d7-ac8d3ec9894e\",\"type\":\"LegendItem\"},{\"id\":\"ae9edfb8-6ec1-4e6f-b3ca-e9952a514385\",\"type\":\"LegendItem\"},{\"id\":\"3962b32d-1435-4831-af89-1e13de81e993\",\"type\":\"LegendItem\"},{\"id\":\"805257ee-21f2-43d0-987b-41b965a603db\",\"type\":\"LegendItem\"},{\"id\":\"791eda50-1f69-4ef3-8c34-f9e09f14fa9a\",\"type\":\"LegendItem\"},{\"id\":\"0035307a-f7e8-457e-bf8e-8fb412e61e9a\",\"type\":\"LegendItem\"},{\"id\":\"00894978-16e9-4ce6-b5ae-688f7322659e\",\"type\":\"LegendItem\"}],\"plot\":{\"id\":\"fc21f03b-9896-48fa-b513-f277b7c172a8\",\"subtype\":\"Figure\",\"type\":\"Plot\"}},\"id\":\"21d98da9-2d93-429a-bd33-5ca2c15e8dd9\",\"type\":\"Legend\"},{\"attributes\":{},\"id\":\"e5b57043-7605-43af-8acb-fcea3a5bd06b\",\"type\":\"SaveTool\"},{\"attributes\":{\"data_source\":{\"id\":\"cbba9512-b866-47c7-9a96-2f2fc2dd8095\",\"type\":\"ColumnDataSource\"},\"glyph\":{\"id\":\"652bb6a1-b6ad-40a3-bf2c-4a08af8120fe\",\"type\":\"Line\"},\"hover_glyph\":null,\"muted_glyph\":null,\"nonselection_glyph\":{\"id\":\"4568e8c4-a90d-4599-ba4f-008a92b34c0a\",\"type\":\"Line\"},\"selection_glyph\":null,\"view\":{\"id\":\"38f75648-84a3-4e79-afb8-2c1e4ae84242\",\"type\":\"CDSView\"}},\"id\":\"c3bdff8c-4a8b-4968-af36-25ed0b226938\",\"type\":\"GlyphRenderer\"},{\"attributes\":{},\"id\":\"b11d87f6-a316-481b-b697-ace1f4045ef9\",\"type\":\"BasicTicker\"},{\"attributes\":{\"line_color\":\"#1cefef\",\"line_dash\":[6],\"line_width\":2,\"x\":{\"field\":\"x\"},\"y\":{\"field\":\"y\"}},\"id\":\"c18cea8d-569b-4227-8ac7-721a2eeb95ef\",\"type\":\"Line\"},{\"attributes\":{\"line_color\":\"#E2A00B\",\"line_width\":2,\"x\":{\"field\":\"x\"},\"y\":{\"field\":\"y\"}},\"id\":\"652bb6a1-b6ad-40a3-bf2c-4a08af8120fe\",\"type\":\"Line\"},{\"attributes\":{\"months\":[0,4,8]},\"id\":\"85ce81e8-fbb3-43aa-9260-f2b35036ac58\",\"type\":\"MonthsTicker\"},{\"attributes\":{\"line_alpha\":0.1,\"line_color\":\"#1f77b4\",\"line_width\":2,\"x\":{\"field\":\"x\"},\"y\":{\"field\":\"y\"}},\"id\":\"4568e8c4-a90d-4599-ba4f-008a92b34c0a\",\"type\":\"Line\"},{\"attributes\":{\"months\":[0,2,4,6,8,10]},\"id\":\"983df993-3bcf-4f98-a4d4-4732c1c04252\",\"type\":\"MonthsTicker\"},{\"attributes\":{\"callback\":null,\"column_names\":[\"x\",\"y\"],\"data\":{\"x\":{\"__ndarray__\":\"AAAAwkFQdUIAAICu6Vl1QgAAwADkY3VCAAAAU95tdUIAAIA/hnd1QgAAwJGAgXVCAABAfiiLdUIAAIDQIpV1QgAAwCIdn3VCAADAQyCodUIAAACWGrJ1QgAAgILCu3VCAADA1LzFdUIAAEDBZM91QgAAgBNf2XVCAADAZVnjdUIAAEBSAe11QgAAgKT79nVCAAAAkaMAdkIAAEDjnQp2Qg==\",\"dtype\":\"float64\",\"shape\":[20]},\"y\":[413388,452115,632815,904235,668162,781983,903436,668581,582178,352636,395575,543489,461164,496793,488742,214683,481862,408592,574318,128159]}},\"id\":\"64f37ee0-6b25-4582-9e35-d8e77e49b21e\",\"type\":\"ColumnDataSource\"}],\"root_ids\":[\"fc21f03b-9896-48fa-b513-f277b7c172a8\"]},\"title\":\"Bokeh Application\",\"version\":\"0.12.13\"}};\n",
       "  var render_items = [{\"docid\":\"c92defc8-54e1-4f24-a197-e5aa5dd0eb65\",\"elementid\":\"2417716e-9e1d-4124-91a4-4f0b77a59560\",\"modelid\":\"fc21f03b-9896-48fa-b513-f277b7c172a8\"}];\n",
       "  root.Bokeh.embed.embed_items_notebook(docs_json, render_items);\n",
       "\n",
       "  }\n",
       "  if (root.Bokeh !== undefined) {\n",
       "    embed_document(root);\n",
       "  } else {\n",
       "    var attempts = 0;\n",
       "    var timer = setInterval(function(root) {\n",
       "      if (root.Bokeh !== undefined) {\n",
       "        embed_document(root);\n",
       "        clearInterval(timer);\n",
       "      }\n",
       "      attempts++;\n",
       "      if (attempts > 100) {\n",
       "        console.log(\"Bokeh: ERROR: Unable to run BokehJS code because BokehJS library is missing\")\n",
       "        clearInterval(timer);\n",
       "      }\n",
       "    }, 10, root)\n",
       "  }\n",
       "})(window);"
      ],
      "application/vnd.bokehjs_exec.v0+json": ""
     },
     "metadata": {
      "application/vnd.bokehjs_exec.v0+json": {
       "id": "fc21f03b-9896-48fa-b513-f277b7c172a8"
      }
     },
     "output_type": "display_data"
    }
   ],
   "source": [
    "p1 = figure(plot_width=750, plot_height=500,x_axis_type='datetime', title=\"월별 반응수 합산\")\n",
    "p1.grid.grid_line_alpha=0.3\n",
    "p1.xaxis.axis_label = '월별'\n",
    "p1.yaxis.axis_label = '반응수 합산'\n",
    "p1.line(unstacked_reaction_sum['datetime'], unstacked_reaction_sum['chosun'], color='#f90202', legend='조선일보',line_width=2)\n",
    "p1.line(unstacked_reaction_sum['datetime'], unstacked_reaction_sum['joins'], color='#E2A00B', legend='중앙일보',line_width=2)\n",
    "p1.line(unstacked_reaction_sum['datetime'], unstacked_reaction_sum['yonhap'], color='#1cefef', legend='연합뉴스',line_width=2, line_dash='dashed')\n",
    "p1.line(unstacked_reaction_sum['datetime'], unstacked_reaction_sum['ohmynews'], color='#ff3300', legend='오마이뉴스',line_width=2, line_dash='dashed')\n",
    "p1.line(unstacked_reaction_sum['datetime'], unstacked_reaction_sum['hani'], color='#01996e', legend='한겨레',line_width=2)\n",
    "p1.line(unstacked_reaction_sum['datetime'], unstacked_reaction_sum['kh'], color='#18407D', legend='경향신문',line_width=2)\n",
    "p1.line(unstacked_reaction_sum['datetime'], unstacked_reaction_sum['jtbc'], color='#F48179', legend='JTBC',line_width=2, line_dash='dotted')\n",
    "p1.line(unstacked_reaction_sum['datetime'], unstacked_reaction_sum['sbs'], color='#1D3A6E', legend='SBS',line_width=2, line_dash='dotted')\n",
    "\n",
    "show(p1)"
   ]
  },
  {
   "cell_type": "code",
   "execution_count": 20,
   "metadata": {},
   "outputs": [
    {
     "data": {
      "text/plain": [
       "media\n",
       "ohmynews    468.218782\n",
       "jtbc        407.245538\n",
       "hani        377.752006\n",
       "kh          279.002348\n",
       "joins       235.334007\n",
       "sbs         205.818728\n",
       "chosun      140.407749\n",
       "yonhap       51.621835\n",
       "donga        38.940497\n",
       "mbc          31.809801\n",
       "edaily       31.681400\n",
       "mk           29.511372\n",
       "kbs          29.426149\n",
       "Name: tot_reaction_count, dtype: float64"
      ]
     },
     "execution_count": 20,
     "metadata": {},
     "output_type": "execute_result"
    }
   ],
   "source": [
    "media_reaction_mean = df_year.groupby('media')['tot_reaction_count'].mean()\n",
    "sort_reaction_mean=media_reaction_mean.sort_values(ascending=False)\n",
    "sort_reaction_mean"
   ]
  },
  {
   "cell_type": "code",
   "execution_count": 21,
   "metadata": {},
   "outputs": [],
   "source": [
    "reaction_group_mean=df_year.groupby([pd.Grouper(key='datetime', freq='M'), 'media'])['tot_reaction_count'].mean()\n",
    "unstacked_reaction_mean=reaction_group_mean.unstack(level=-1)\n",
    "unstacked_reaction_mean.reset_index(level=0, inplace=True)"
   ]
  },
  {
   "cell_type": "code",
   "execution_count": 22,
   "metadata": {},
   "outputs": [
    {
     "data": {
      "text/html": [
       "\n",
       "<div class=\"bk-root\">\n",
       "    <div class=\"bk-plotdiv\" id=\"3f84ee7d-5448-4001-8ae7-eff6274e3208\"></div>\n",
       "</div>"
      ]
     },
     "metadata": {},
     "output_type": "display_data"
    },
    {
     "data": {
      "application/javascript": [
       "(function(root) {\n",
       "  function embed_document(root) {\n",
       "    \n",
       "  var docs_json = {\"77380e92-2ecf-4705-b4dc-11c72bdcb5fd\":{\"roots\":{\"references\":[{\"attributes\":{\"line_color\":\"#f90202\",\"line_width\":2,\"x\":{\"field\":\"x\"},\"y\":{\"field\":\"y\"}},\"id\":\"3df2ee3b-a8a4-41ad-a162-c089d341d135\",\"type\":\"Line\"},{\"attributes\":{\"grid_line_alpha\":{\"value\":0.3},\"plot\":{\"id\":\"4ff0c420-d31f-4722-825b-156f00259ff8\",\"subtype\":\"Figure\",\"type\":\"Plot\"},\"ticker\":{\"id\":\"bc560e70-eec0-4fd8-9857-34ac11e4cd18\",\"type\":\"DatetimeTicker\"}},\"id\":\"bacc954f-c223-4d58-abfb-f716bc652984\",\"type\":\"Grid\"},{\"attributes\":{\"axis_label\":\"\\uc6d4\\ubcc4\",\"formatter\":{\"id\":\"26aead83-554c-4a51-a9b5-8c433749f557\",\"type\":\"DatetimeTickFormatter\"},\"plot\":{\"id\":\"4ff0c420-d31f-4722-825b-156f00259ff8\",\"subtype\":\"Figure\",\"type\":\"Plot\"},\"ticker\":{\"id\":\"bc560e70-eec0-4fd8-9857-34ac11e4cd18\",\"type\":\"DatetimeTicker\"}},\"id\":\"5030e68d-a491-44d4-90e2-c158f4313979\",\"type\":\"DatetimeAxis\"},{\"attributes\":{\"line_color\":\"#1cefef\",\"line_dash\":[6],\"line_width\":2,\"x\":{\"field\":\"x\"},\"y\":{\"field\":\"y\"}},\"id\":\"f3688a97-16e9-472b-b2c9-608f0b54fe7e\",\"type\":\"Line\"},{\"attributes\":{\"num_minor_ticks\":5,\"tickers\":[{\"id\":\"ee65e4bd-9790-48ef-a260-dc0d32f32114\",\"type\":\"AdaptiveTicker\"},{\"id\":\"e16cc0d3-c42b-4e22-bd97-c615982f90b2\",\"type\":\"AdaptiveTicker\"},{\"id\":\"21285724-6ebf-4098-a44e-6edd7af59f70\",\"type\":\"AdaptiveTicker\"},{\"id\":\"9d164af7-62d5-40bd-9c93-ed8a83d5f53c\",\"type\":\"DaysTicker\"},{\"id\":\"ee2c15d3-74d8-4f72-a568-7e211607f01e\",\"type\":\"DaysTicker\"},{\"id\":\"10631b1d-3d32-4913-8a68-3a76eefeefe3\",\"type\":\"DaysTicker\"},{\"id\":\"03983b01-0c83-4d6c-8ba9-61e4e3992ec1\",\"type\":\"DaysTicker\"},{\"id\":\"f7e083d1-1f59-4e92-bb33-f2a4105027e1\",\"type\":\"MonthsTicker\"},{\"id\":\"bd459da7-6604-4045-88f4-86d064532e34\",\"type\":\"MonthsTicker\"},{\"id\":\"f45ca923-af8f-454f-828b-8a1af2c5250d\",\"type\":\"MonthsTicker\"},{\"id\":\"81b85594-dfe6-4024-984b-e044ac080337\",\"type\":\"MonthsTicker\"},{\"id\":\"71b440f9-3411-4015-8b2e-399362aa7a78\",\"type\":\"YearsTicker\"}]},\"id\":\"bc560e70-eec0-4fd8-9857-34ac11e4cd18\",\"type\":\"DatetimeTicker\"},{\"attributes\":{\"callback\":null,\"column_names\":[\"x\",\"y\"],\"data\":{\"x\":{\"__ndarray__\":\"AAAAwkFQdUIAAICu6Vl1QgAAwADkY3VCAAAAU95tdUIAAIA/hnd1QgAAwJGAgXVCAABAfiiLdUIAAIDQIpV1QgAAwCIdn3VCAADAQyCodUIAAACWGrJ1QgAAgILCu3VCAADA1LzFdUIAAEDBZM91QgAAgBNf2XVCAADAZVnjdUIAAEBSAe11QgAAgKT79nVCAAAAkaMAdkIAAEDjnQp2Qg==\",\"dtype\":\"float64\",\"shape\":[20]},\"y\":{\"__ndarray__\":\"lDDb+t/rQEAqwGGTH4NBQH4gay9fX0hAAG7jKVQ6S0BRL3keHnFKQK/DH8P38UxAk+zIVOH+UEB448rrZExQQAIKrzY0AlFAMgpkERQHTkBI6SSb0HxMQNmbHLAuMUpAvFWS8lG8UUCxzPMbzV1JQOytDdPcxURAvlRx0uDKPEAnFxhsygRIQAbXGtwIiEVAA9alA8iHREDfFEXNbflAQA==\",\"dtype\":\"float64\",\"shape\":[20]}}},\"id\":\"6c56d8e5-e132-47ed-a86e-1971c06f493f\",\"type\":\"ColumnDataSource\"},{\"attributes\":{},\"id\":\"db6d97e9-ffb4-41ad-8863-4f1407b8d3c4\",\"type\":\"LinearScale\"},{\"attributes\":{\"axis_label\":\"\\uae30\\uc0ac\\ub2f9 \\ubc18\\uc751\\uc218 \\ud3c9\\uade0\",\"formatter\":{\"id\":\"337273d7-0494-43f9-aaa0-f86ef3af9b21\",\"type\":\"BasicTickFormatter\"},\"plot\":{\"id\":\"4ff0c420-d31f-4722-825b-156f00259ff8\",\"subtype\":\"Figure\",\"type\":\"Plot\"},\"ticker\":{\"id\":\"3b267996-6562-4a73-b1c1-d910f399d1e9\",\"type\":\"BasicTicker\"}},\"id\":\"17e7c4e1-d1a3-479f-8cc9-710d45bd5ecc\",\"type\":\"LinearAxis\"},{\"attributes\":{\"callback\":null},\"id\":\"11c59fdc-e00b-428d-b5bf-2ac4221053da\",\"type\":\"DataRange1d\"},{\"attributes\":{},\"id\":\"3b267996-6562-4a73-b1c1-d910f399d1e9\",\"type\":\"BasicTicker\"},{\"attributes\":{\"dimension\":1,\"grid_line_alpha\":{\"value\":0.3},\"plot\":{\"id\":\"4ff0c420-d31f-4722-825b-156f00259ff8\",\"subtype\":\"Figure\",\"type\":\"Plot\"},\"ticker\":{\"id\":\"3b267996-6562-4a73-b1c1-d910f399d1e9\",\"type\":\"BasicTicker\"}},\"id\":\"534e6830-56c4-42b9-9775-2e70e1f3d85b\",\"type\":\"Grid\"},{\"attributes\":{},\"id\":\"e7d15475-4c96-4518-a830-6ed61d168d99\",\"type\":\"LinearScale\"},{\"attributes\":{\"line_alpha\":0.1,\"line_color\":\"#1f77b4\",\"line_width\":2,\"x\":{\"field\":\"x\"},\"y\":{\"field\":\"y\"}},\"id\":\"5901683b-c108-444d-86fe-82f1dfc16360\",\"type\":\"Line\"},{\"attributes\":{},\"id\":\"337273d7-0494-43f9-aaa0-f86ef3af9b21\",\"type\":\"BasicTickFormatter\"},{\"attributes\":{\"callback\":null,\"column_names\":[\"x\",\"y\"],\"data\":{\"x\":{\"__ndarray__\":\"AAAAwkFQdUIAAICu6Vl1QgAAwADkY3VCAAAAU95tdUIAAIA/hnd1QgAAwJGAgXVCAABAfiiLdUIAAIDQIpV1QgAAwCIdn3VCAADAQyCodUIAAACWGrJ1QgAAgILCu3VCAADA1LzFdUIAAEDBZM91QgAAgBNf2XVCAADAZVnjdUIAAEBSAe11QgAAgKT79nVCAAAAkaMAdkIAAEDjnQp2Qg==\",\"dtype\":\"float64\",\"shape\":[20]},\"y\":{\"__ndarray__\":\"esv6RvLgV0C9OANuRFdaQCDnpxICBGRAtRV1MKQma0DE9QeI6y9nQDCVd8K5oGhApFSnrobrakC/jIEAiKZkQMNEDtQuk2VAX1NxL0zQXUAk0ka29gdcQI+VyT7LoWFArQI+qhasXEBQiMw3HOdeQBUPDuYogF5AbkOlOeMbVEAeDoaKdXleQCXlHTd7mV1AIQ6yv5cTYUDc2qJsNdtIQA==\",\"dtype\":\"float64\",\"shape\":[20]}}},\"id\":\"8eebfbc2-246b-4fc2-aa3e-5657a8774d4f\",\"type\":\"ColumnDataSource\"},{\"attributes\":{\"bottom_units\":\"screen\",\"fill_alpha\":{\"value\":0.5},\"fill_color\":{\"value\":\"lightgrey\"},\"left_units\":\"screen\",\"level\":\"overlay\",\"line_alpha\":{\"value\":1.0},\"line_color\":{\"value\":\"black\"},\"line_dash\":[4,4],\"line_width\":{\"value\":2},\"plot\":null,\"render_mode\":\"css\",\"right_units\":\"screen\",\"top_units\":\"screen\"},\"id\":\"2d90b8f8-e9dd-4ec7-9406-125af684abbd\",\"type\":\"BoxAnnotation\"},{\"attributes\":{\"source\":{\"id\":\"d8df7420-fdf2-4e4f-a6db-2b69d5c796b8\",\"type\":\"ColumnDataSource\"}},\"id\":\"a1440c61-b518-4885-b4ca-7388bd390575\",\"type\":\"CDSView\"},{\"attributes\":{},\"id\":\"34d21eda-28d8-4d74-a5c4-6eadfcbe945f\",\"type\":\"PanTool\"},{\"attributes\":{\"data_source\":{\"id\":\"8eebfbc2-246b-4fc2-aa3e-5657a8774d4f\",\"type\":\"ColumnDataSource\"},\"glyph\":{\"id\":\"3df2ee3b-a8a4-41ad-a162-c089d341d135\",\"type\":\"Line\"},\"hover_glyph\":null,\"muted_glyph\":null,\"nonselection_glyph\":{\"id\":\"5901683b-c108-444d-86fe-82f1dfc16360\",\"type\":\"Line\"},\"selection_glyph\":null,\"view\":{\"id\":\"7f8da036-4a19-4250-9eab-3471489adf43\",\"type\":\"CDSView\"}},\"id\":\"8eaf383a-ecc5-41ef-a77b-0ba7d0ad301d\",\"type\":\"GlyphRenderer\"},{\"attributes\":{},\"id\":\"f27a4ccc-f99a-4ef9-a3d5-33c733a93329\",\"type\":\"WheelZoomTool\"},{\"attributes\":{\"overlay\":{\"id\":\"2d90b8f8-e9dd-4ec7-9406-125af684abbd\",\"type\":\"BoxAnnotation\"}},\"id\":\"e4dbd7a5-be0a-456c-b9d2-c35e59e6a56f\",\"type\":\"BoxZoomTool\"},{\"attributes\":{},\"id\":\"1601038e-e168-4742-b932-95951008d92e\",\"type\":\"SaveTool\"},{\"attributes\":{},\"id\":\"80f46507-3516-4e2d-a30a-02985236128f\",\"type\":\"ResetTool\"},{\"attributes\":{},\"id\":\"06ad94e6-89e6-4b44-9d0e-bd8408466927\",\"type\":\"HelpTool\"},{\"attributes\":{},\"id\":\"26aead83-554c-4a51-a9b5-8c433749f557\",\"type\":\"DatetimeTickFormatter\"},{\"attributes\":{\"source\":{\"id\":\"8eebfbc2-246b-4fc2-aa3e-5657a8774d4f\",\"type\":\"ColumnDataSource\"}},\"id\":\"7f8da036-4a19-4250-9eab-3471489adf43\",\"type\":\"CDSView\"},{\"attributes\":{\"mantissas\":[1,2,5],\"max_interval\":500.0,\"num_minor_ticks\":0},\"id\":\"ee65e4bd-9790-48ef-a260-dc0d32f32114\",\"type\":\"AdaptiveTicker\"},{\"attributes\":{\"label\":{\"value\":\"\\uc870\\uc120\\uc77c\\ubcf4\"},\"renderers\":[{\"id\":\"8eaf383a-ecc5-41ef-a77b-0ba7d0ad301d\",\"type\":\"GlyphRenderer\"}]},\"id\":\"1d9de8aa-db76-4d30-8c10-bd76477f913b\",\"type\":\"LegendItem\"},{\"attributes\":{\"base\":60,\"mantissas\":[1,2,5,10,15,20,30],\"max_interval\":1800000.0,\"min_interval\":1000.0,\"num_minor_ticks\":0},\"id\":\"e16cc0d3-c42b-4e22-bd97-c615982f90b2\",\"type\":\"AdaptiveTicker\"},{\"attributes\":{\"days\":[1,2,3,4,5,6,7,8,9,10,11,12,13,14,15,16,17,18,19,20,21,22,23,24,25,26,27,28,29,30,31]},\"id\":\"9d164af7-62d5-40bd-9c93-ed8a83d5f53c\",\"type\":\"DaysTicker\"},{\"attributes\":{\"days\":[1,4,7,10,13,16,19,22,25,28]},\"id\":\"ee2c15d3-74d8-4f72-a568-7e211607f01e\",\"type\":\"DaysTicker\"},{\"attributes\":{\"plot\":null,\"text\":\"\\uc6d4\\ubcc4 \\uae30\\uc0ac\\ub2f9 \\ubc18\\uc751\\uc218 \\ud3c9\\uade0\"},\"id\":\"dba32a4d-9fb7-4eda-937c-d4846db8f9f8\",\"type\":\"Title\"},{\"attributes\":{\"base\":24,\"mantissas\":[1,2,4,6,8,12],\"max_interval\":43200000.0,\"min_interval\":3600000.0,\"num_minor_ticks\":0},\"id\":\"21285724-6ebf-4098-a44e-6edd7af59f70\",\"type\":\"AdaptiveTicker\"},{\"attributes\":{\"days\":[1,8,15,22]},\"id\":\"10631b1d-3d32-4913-8a68-3a76eefeefe3\",\"type\":\"DaysTicker\"},{\"attributes\":{\"days\":[1,15]},\"id\":\"03983b01-0c83-4d6c-8ba9-61e4e3992ec1\",\"type\":\"DaysTicker\"},{\"attributes\":{\"months\":[0,1,2,3,4,5,6,7,8,9,10,11]},\"id\":\"f7e083d1-1f59-4e92-bb33-f2a4105027e1\",\"type\":\"MonthsTicker\"},{\"attributes\":{\"months\":[0,2,4,6,8,10]},\"id\":\"bd459da7-6604-4045-88f4-86d064532e34\",\"type\":\"MonthsTicker\"},{\"attributes\":{\"months\":[0,4,8]},\"id\":\"f45ca923-af8f-454f-828b-8a1af2c5250d\",\"type\":\"MonthsTicker\"},{\"attributes\":{\"months\":[0,6]},\"id\":\"81b85594-dfe6-4024-984b-e044ac080337\",\"type\":\"MonthsTicker\"},{\"attributes\":{},\"id\":\"71b440f9-3411-4015-8b2e-399362aa7a78\",\"type\":\"YearsTicker\"},{\"attributes\":{\"items\":[{\"id\":\"1d9de8aa-db76-4d30-8c10-bd76477f913b\",\"type\":\"LegendItem\"},{\"id\":\"876cc673-e14f-46cb-87ac-6c654185b58f\",\"type\":\"LegendItem\"},{\"id\":\"19adb326-6e27-4111-bf1a-d2ddf86e075a\",\"type\":\"LegendItem\"},{\"id\":\"0fdf36dd-9697-4532-b70e-e37a02e49ec9\",\"type\":\"LegendItem\"},{\"id\":\"84ccab78-cda9-4a02-814b-277eda014869\",\"type\":\"LegendItem\"},{\"id\":\"a9a09900-63e0-4a35-a84c-4fabfd8f8fb7\",\"type\":\"LegendItem\"},{\"id\":\"de584f7b-87e3-4e7a-b8f3-6572877ae164\",\"type\":\"LegendItem\"},{\"id\":\"b03df628-3d5b-49f0-979c-c1c6a2992053\",\"type\":\"LegendItem\"}],\"plot\":{\"id\":\"4ff0c420-d31f-4722-825b-156f00259ff8\",\"subtype\":\"Figure\",\"type\":\"Plot\"}},\"id\":\"3c589816-3165-4824-acfb-cb640f7b394f\",\"type\":\"Legend\"},{\"attributes\":{\"callback\":null,\"column_names\":[\"x\",\"y\"],\"data\":{\"x\":{\"__ndarray__\":\"AAAAwkFQdUIAAICu6Vl1QgAAwADkY3VCAAAAU95tdUIAAIA/hnd1QgAAwJGAgXVCAABAfiiLdUIAAIDQIpV1QgAAwCIdn3VCAADAQyCodUIAAACWGrJ1QgAAgILCu3VCAADA1LzFdUIAAEDBZM91QgAAgBNf2XVCAADAZVnjdUIAAEBSAe11QgAAgKT79nVCAAAAkaMAdkIAAEDjnQp2Qg==\",\"dtype\":\"float64\",\"shape\":[20]},\"y\":{\"__ndarray__\":\"1krMoQ1FUkDlWUb0AVVTQBADcG+KNVtAHMAKVeNnY0BgREDW87toQGIwHsBr53lAgDjoAC4WhUBJo/OXadaAQAK5JgK54nNAKqYMCKhzakDK6lpJd1tsQCcZzhxPd29AoQt01PlHcEBr4OQYzVhqQDT7Us4PQGZAs8P1i05WWkAwiztBnMxZQCCpB0VMNllA6JWZEG5RVEAQAzEQAzFIQA==\",\"dtype\":\"float64\",\"shape\":[20]}}},\"id\":\"d8df7420-fdf2-4e4f-a6db-2b69d5c796b8\",\"type\":\"ColumnDataSource\"},{\"attributes\":{\"data_source\":{\"id\":\"d8df7420-fdf2-4e4f-a6db-2b69d5c796b8\",\"type\":\"ColumnDataSource\"},\"glyph\":{\"id\":\"29fa98d3-b19c-4b0f-b381-b08d99391bdd\",\"type\":\"Line\"},\"hover_glyph\":null,\"muted_glyph\":null,\"nonselection_glyph\":{\"id\":\"a2ca81dd-a8a2-4b96-8319-16f0cce82e63\",\"type\":\"Line\"},\"selection_glyph\":null,\"view\":{\"id\":\"a1440c61-b518-4885-b4ca-7388bd390575\",\"type\":\"CDSView\"}},\"id\":\"fbf61772-8e2c-47c4-8567-2d7eb54fd950\",\"type\":\"GlyphRenderer\"},{\"attributes\":{\"callback\":null,\"column_names\":[\"x\",\"y\"],\"data\":{\"x\":{\"__ndarray__\":\"AAAAwkFQdUIAAICu6Vl1QgAAwADkY3VCAAAAU95tdUIAAIA/hnd1QgAAwJGAgXVCAABAfiiLdUIAAIDQIpV1QgAAwCIdn3VCAADAQyCodUIAAACWGrJ1QgAAgILCu3VCAADA1LzFdUIAAEDBZM91QgAAgBNf2XVCAADAZVnjdUIAAEBSAe11QgAAgKT79nVCAAAAkaMAdkIAAEDjnQp2Qg==\",\"dtype\":\"float64\",\"shape\":[20]},\"y\":{\"__ndarray__\":\"B7XV+1KDekDTg2A0PaR2QEfaQjr6GHpAGDSS2CXzfkA4osCkU5KDQC7Ygi3Y2odA5xGqzzQxi0C7B+xIboiHQFSiuqdEdYFAFX7CnJpAf0D05IzgncN6QD6CuNr1Hn1AidLe4As7hUBLNYa61Ux4QOayZH2r23JAf9+JwynZbkC+m6AN/n1vQPfJkcsTbm1AqbMBjeyfb0AIRsVLWw9vQA==\",\"dtype\":\"float64\",\"shape\":[20]}}},\"id\":\"fd4ce7a7-2cc6-4198-9234-d4f882e9e3ec\",\"type\":\"ColumnDataSource\"},{\"attributes\":{\"label\":{\"value\":\"\\uc5f0\\ud569\\ub274\\uc2a4\"},\"renderers\":[{\"id\":\"74950c71-723b-42e3-9a5e-5e9cdb197df1\",\"type\":\"GlyphRenderer\"}]},\"id\":\"19adb326-6e27-4111-bf1a-d2ddf86e075a\",\"type\":\"LegendItem\"},{\"attributes\":{\"data_source\":{\"id\":\"fd4ce7a7-2cc6-4198-9234-d4f882e9e3ec\",\"type\":\"ColumnDataSource\"},\"glyph\":{\"id\":\"e45c7963-f3df-4637-92e0-f38e81cc4290\",\"type\":\"Line\"},\"hover_glyph\":null,\"muted_glyph\":null,\"nonselection_glyph\":{\"id\":\"dbc73f0e-644e-45b7-9b2e-4a26b757c813\",\"type\":\"Line\"},\"selection_glyph\":null,\"view\":{\"id\":\"a25a1e82-9842-4966-a0b2-bd62146b8e8c\",\"type\":\"CDSView\"}},\"id\":\"4f17ef7b-70ce-41df-a251-43a9c9098646\",\"type\":\"GlyphRenderer\"},{\"attributes\":{\"line_alpha\":0.1,\"line_color\":\"#1f77b4\",\"line_dash\":[6],\"line_width\":2,\"x\":{\"field\":\"x\"},\"y\":{\"field\":\"y\"}},\"id\":\"dbc73f0e-644e-45b7-9b2e-4a26b757c813\",\"type\":\"Line\"},{\"attributes\":{\"data_source\":{\"id\":\"6c56d8e5-e132-47ed-a86e-1971c06f493f\",\"type\":\"ColumnDataSource\"},\"glyph\":{\"id\":\"f3688a97-16e9-472b-b2c9-608f0b54fe7e\",\"type\":\"Line\"},\"hover_glyph\":null,\"muted_glyph\":null,\"nonselection_glyph\":{\"id\":\"26da92e0-6d0b-433d-b45f-2256b69d1cdf\",\"type\":\"Line\"},\"selection_glyph\":null,\"view\":{\"id\":\"da24ec3a-614b-4a4b-80e9-e9bd77c2f680\",\"type\":\"CDSView\"}},\"id\":\"74950c71-723b-42e3-9a5e-5e9cdb197df1\",\"type\":\"GlyphRenderer\"},{\"attributes\":{\"active_drag\":\"auto\",\"active_inspect\":\"auto\",\"active_scroll\":\"auto\",\"active_tap\":\"auto\",\"tools\":[{\"id\":\"34d21eda-28d8-4d74-a5c4-6eadfcbe945f\",\"type\":\"PanTool\"},{\"id\":\"f27a4ccc-f99a-4ef9-a3d5-33c733a93329\",\"type\":\"WheelZoomTool\"},{\"id\":\"e4dbd7a5-be0a-456c-b9d2-c35e59e6a56f\",\"type\":\"BoxZoomTool\"},{\"id\":\"1601038e-e168-4742-b932-95951008d92e\",\"type\":\"SaveTool\"},{\"id\":\"80f46507-3516-4e2d-a30a-02985236128f\",\"type\":\"ResetTool\"},{\"id\":\"06ad94e6-89e6-4b44-9d0e-bd8408466927\",\"type\":\"HelpTool\"}]},\"id\":\"46a26d5b-ed96-4633-86be-bb1eda94f2c9\",\"type\":\"Toolbar\"},{\"attributes\":{\"source\":{\"id\":\"6c56d8e5-e132-47ed-a86e-1971c06f493f\",\"type\":\"ColumnDataSource\"}},\"id\":\"da24ec3a-614b-4a4b-80e9-e9bd77c2f680\",\"type\":\"CDSView\"},{\"attributes\":{\"line_alpha\":0.1,\"line_color\":\"#1f77b4\",\"line_dash\":[6],\"line_width\":2,\"x\":{\"field\":\"x\"},\"y\":{\"field\":\"y\"}},\"id\":\"26da92e0-6d0b-433d-b45f-2256b69d1cdf\",\"type\":\"Line\"},{\"attributes\":{\"callback\":null,\"column_names\":[\"x\",\"y\"],\"data\":{\"x\":{\"__ndarray__\":\"AAAAwkFQdUIAAICu6Vl1QgAAwADkY3VCAAAAU95tdUIAAIA/hnd1QgAAwJGAgXVCAABAfiiLdUIAAIDQIpV1QgAAwCIdn3VCAADAQyCodUIAAACWGrJ1QgAAgILCu3VCAADA1LzFdUIAAEDBZM91QgAAgBNf2XVCAADAZVnjdUIAAEBSAe11QgAAgKT79nVCAAAAkaMAdkIAAEDjnQp2Qg==\",\"dtype\":\"float64\",\"shape\":[20]},\"y\":{\"__ndarray__\":\"m8FbxGYycECCntZGJ3huQOj8iwE6D3NAMarT5CDjdED75zAiXjt6QCCD/pLerIFAJrEnK96mhkBT6rDKzqeGQLHU0LX4TH5A11prrbW2eUAmgqyHQ+J7QPzt7/iAxHhA9DbpLmNyfUCNmn+1SXNzQA3AAx2dHHBAqu2GjISpaECkt8LPgepqQA2hDZyHPWlAG8JbskEyaUA6IONvDnhpQA==\",\"dtype\":\"float64\",\"shape\":[20]}}},\"id\":\"3de72824-a898-4e9b-9800-9b67e6f7479d\",\"type\":\"ColumnDataSource\"},{\"attributes\":{\"line_alpha\":0.1,\"line_color\":\"#1f77b4\",\"line_width\":2,\"x\":{\"field\":\"x\"},\"y\":{\"field\":\"y\"}},\"id\":\"e86a6506-f78d-450d-9d10-80d9eb8d2fac\",\"type\":\"Line\"},{\"attributes\":{\"line_color\":\"#ff3300\",\"line_dash\":[6],\"line_width\":2,\"x\":{\"field\":\"x\"},\"y\":{\"field\":\"y\"}},\"id\":\"e45c7963-f3df-4637-92e0-f38e81cc4290\",\"type\":\"Line\"},{\"attributes\":{\"label\":{\"value\":\"\\uc624\\ub9c8\\uc774\\ub274\\uc2a4\"},\"renderers\":[{\"id\":\"4f17ef7b-70ce-41df-a251-43a9c9098646\",\"type\":\"GlyphRenderer\"}]},\"id\":\"0fdf36dd-9697-4532-b70e-e37a02e49ec9\",\"type\":\"LegendItem\"},{\"attributes\":{\"callback\":null,\"column_names\":[\"x\",\"y\"],\"data\":{\"x\":{\"__ndarray__\":\"AAAAwkFQdUIAAICu6Vl1QgAAwADkY3VCAAAAU95tdUIAAIA/hnd1QgAAwJGAgXVCAABAfiiLdUIAAIDQIpV1QgAAwCIdn3VCAADAQyCodUIAAACWGrJ1QgAAgILCu3VCAADA1LzFdUIAAEDBZM91QgAAgBNf2XVCAADAZVnjdUIAAEBSAe11QgAAgKT79nVCAAAAkaMAdkIAAEDjnQp2Qg==\",\"dtype\":\"float64\",\"shape\":[20]},\"y\":{\"__ndarray__\":\"yh4CkdPRZUBqX2fhhSpmQI0IW+dEg2pAxXUhYfpfckAG10FjS9t0QEgvDlEYVHxAUnQ/cdmCg0AII+1YATGBQNSwwcSWqHtAST51oMRHd0BOIw7Dfhl1QFoJlAz8ZmxA+a6TpPsUcUDprboJMDFnQEvZCf3uimJA/nAVTyE+XkBW17zC38pkQAvSvpz332ZA1g86KvCeY0BCn7zNMv5JQA==\",\"dtype\":\"float64\",\"shape\":[20]}}},\"id\":\"21aee06e-2658-40c2-9f8c-443afb9cb61c\",\"type\":\"ColumnDataSource\"},{\"attributes\":{\"source\":{\"id\":\"fd4ce7a7-2cc6-4198-9234-d4f882e9e3ec\",\"type\":\"ColumnDataSource\"}},\"id\":\"a25a1e82-9842-4966-a0b2-bd62146b8e8c\",\"type\":\"CDSView\"},{\"attributes\":{\"line_color\":\"#E2A00B\",\"line_width\":2,\"x\":{\"field\":\"x\"},\"y\":{\"field\":\"y\"}},\"id\":\"29fa98d3-b19c-4b0f-b381-b08d99391bdd\",\"type\":\"Line\"},{\"attributes\":{\"line_alpha\":0.1,\"line_color\":\"#1f77b4\",\"line_width\":2,\"x\":{\"field\":\"x\"},\"y\":{\"field\":\"y\"}},\"id\":\"317644c9-73b3-4641-b901-627e12f5cd57\",\"type\":\"Line\"},{\"attributes\":{\"line_color\":\"#01996e\",\"line_width\":2,\"x\":{\"field\":\"x\"},\"y\":{\"field\":\"y\"}},\"id\":\"aead9b35-6226-4698-9773-f3f432e3b8f4\",\"type\":\"Line\"},{\"attributes\":{\"label\":{\"value\":\"\\ud55c\\uaca8\\ub808\"},\"renderers\":[{\"id\":\"7f90c147-0065-4914-a1f1-97ccd2aeabf1\",\"type\":\"GlyphRenderer\"}]},\"id\":\"84ccab78-cda9-4a02-814b-277eda014869\",\"type\":\"LegendItem\"},{\"attributes\":{\"data_source\":{\"id\":\"3de72824-a898-4e9b-9800-9b67e6f7479d\",\"type\":\"ColumnDataSource\"},\"glyph\":{\"id\":\"aead9b35-6226-4698-9773-f3f432e3b8f4\",\"type\":\"Line\"},\"hover_glyph\":null,\"muted_glyph\":null,\"nonselection_glyph\":{\"id\":\"e86a6506-f78d-450d-9d10-80d9eb8d2fac\",\"type\":\"Line\"},\"selection_glyph\":null,\"view\":{\"id\":\"64c5ca16-44cc-4b91-ae98-8bec750e1a15\",\"type\":\"CDSView\"}},\"id\":\"7f90c147-0065-4914-a1f1-97ccd2aeabf1\",\"type\":\"GlyphRenderer\"},{\"attributes\":{\"source\":{\"id\":\"3de72824-a898-4e9b-9800-9b67e6f7479d\",\"type\":\"ColumnDataSource\"}},\"id\":\"64c5ca16-44cc-4b91-ae98-8bec750e1a15\",\"type\":\"CDSView\"},{\"attributes\":{\"callback\":null,\"column_names\":[\"x\",\"y\"],\"data\":{\"x\":{\"__ndarray__\":\"AAAAwkFQdUIAAICu6Vl1QgAAwADkY3VCAAAAU95tdUIAAIA/hnd1QgAAwJGAgXVCAABAfiiLdUIAAIDQIpV1QgAAwCIdn3VCAADAQyCodUIAAACWGrJ1QgAAgILCu3VCAADA1LzFdUIAAEDBZM91QgAAgBNf2XVCAADAZVnjdUIAAEBSAe11QgAAgKT79nVCAAAAkaMAdkIAAEDjnQp2Qg==\",\"dtype\":\"float64\",\"shape\":[20]},\"y\":{\"__ndarray__\":\"f+zHfuwHa0BICUUtqJtwQOaeRljuXW9AMtyrYJZAbEAO3Aabr0BqQKBSf0r9AX5A1dKPKF2fhkDo28kuRlWJQCMYA9mENIJAmEEyh/9ZdEDgsLWESuR3QHwfvdvk1n9ApLTGjbU/iEAFlmMXgCt5QFdNVNlVL3RA0UUXXXTZaEDXjPOPD8xvQM9ffs28XXJAWm+wdrlWckAIC9WZL/5oQA==\",\"dtype\":\"float64\",\"shape\":[20]}}},\"id\":\"26ebba17-ed25-4f64-b0cc-c612cd39ae7c\",\"type\":\"ColumnDataSource\"},{\"attributes\":{\"label\":{\"value\":\"SBS\"},\"renderers\":[{\"id\":\"bddaa73a-d18a-4463-99c9-7d5e86475d0d\",\"type\":\"GlyphRenderer\"}]},\"id\":\"b03df628-3d5b-49f0-979c-c1c6a2992053\",\"type\":\"LegendItem\"},{\"attributes\":{\"line_alpha\":0.1,\"line_color\":\"#1f77b4\",\"line_width\":2,\"x\":{\"field\":\"x\"},\"y\":{\"field\":\"y\"}},\"id\":\"a2ca81dd-a8a2-4b96-8319-16f0cce82e63\",\"type\":\"Line\"},{\"attributes\":{\"line_alpha\":0.1,\"line_color\":\"#1f77b4\",\"line_dash\":[2,4],\"line_width\":2,\"x\":{\"field\":\"x\"},\"y\":{\"field\":\"y\"}},\"id\":\"d07d5dbc-7445-4751-ba4b-9f2f48972151\",\"type\":\"Line\"},{\"attributes\":{\"line_color\":\"#18407D\",\"line_width\":2,\"x\":{\"field\":\"x\"},\"y\":{\"field\":\"y\"}},\"id\":\"4bc4dd3a-0f8b-4233-8591-70f343802744\",\"type\":\"Line\"},{\"attributes\":{\"label\":{\"value\":\"\\uacbd\\ud5a5\\uc2e0\\ubb38\"},\"renderers\":[{\"id\":\"63e9308b-8271-4f70-9904-99a3de05e3b5\",\"type\":\"GlyphRenderer\"}]},\"id\":\"a9a09900-63e0-4a35-a84c-4fabfd8f8fb7\",\"type\":\"LegendItem\"},{\"attributes\":{\"label\":{\"value\":\"\\uc911\\uc559\\uc77c\\ubcf4\"},\"renderers\":[{\"id\":\"fbf61772-8e2c-47c4-8567-2d7eb54fd950\",\"type\":\"GlyphRenderer\"}]},\"id\":\"876cc673-e14f-46cb-87ac-6c654185b58f\",\"type\":\"LegendItem\"},{\"attributes\":{\"callback\":null,\"column_names\":[\"x\",\"y\"],\"data\":{\"x\":{\"__ndarray__\":\"AAAAwkFQdUIAAICu6Vl1QgAAwADkY3VCAAAAU95tdUIAAIA/hnd1QgAAwJGAgXVCAABAfiiLdUIAAIDQIpV1QgAAwCIdn3VCAADAQyCodUIAAACWGrJ1QgAAgILCu3VCAADA1LzFdUIAAEDBZM91QgAAgBNf2XVCAADAZVnjdUIAAEBSAe11QgAAgKT79nVCAAAAkaMAdkIAAEDjnQp2Qg==\",\"dtype\":\"float64\",\"shape\":[20]},\"y\":{\"__ndarray__\":\"EwHctbNLWkAyGid9ZfJSQHhv5eCo0lRAuAhnqiOxWkD5PlazJxluQOwFbQl74XJAwcspeDnjckAhohOA2Z5vQPUnRu87cXBAbcNQlI9Ab0D8r7Zf2Dp0QAQRF0f0+m1AHOzdKWaDZ0AU1urjkNRoQE226eirsG1AYQu2YAtWa0BFo/+Lord0QEROEO7GOm5AsFQCXnoHaUAAb3lT0GZOQA==\",\"dtype\":\"float64\",\"shape\":[20]}}},\"id\":\"63779c57-6272-4b17-8da0-cde8b6c24a21\",\"type\":\"ColumnDataSource\"},{\"attributes\":{\"data_source\":{\"id\":\"21aee06e-2658-40c2-9f8c-443afb9cb61c\",\"type\":\"ColumnDataSource\"},\"glyph\":{\"id\":\"4bc4dd3a-0f8b-4233-8591-70f343802744\",\"type\":\"Line\"},\"hover_glyph\":null,\"muted_glyph\":null,\"nonselection_glyph\":{\"id\":\"317644c9-73b3-4641-b901-627e12f5cd57\",\"type\":\"Line\"},\"selection_glyph\":null,\"view\":{\"id\":\"0a7cd78e-b30b-4c29-8382-5af51c9049c8\",\"type\":\"CDSView\"}},\"id\":\"63e9308b-8271-4f70-9904-99a3de05e3b5\",\"type\":\"GlyphRenderer\"},{\"attributes\":{\"source\":{\"id\":\"21aee06e-2658-40c2-9f8c-443afb9cb61c\",\"type\":\"ColumnDataSource\"}},\"id\":\"0a7cd78e-b30b-4c29-8382-5af51c9049c8\",\"type\":\"CDSView\"},{\"attributes\":{\"data_source\":{\"id\":\"26ebba17-ed25-4f64-b0cc-c612cd39ae7c\",\"type\":\"ColumnDataSource\"},\"glyph\":{\"id\":\"10a302c4-78ad-4b18-9586-16391d0a0502\",\"type\":\"Line\"},\"hover_glyph\":null,\"muted_glyph\":null,\"nonselection_glyph\":{\"id\":\"d07d5dbc-7445-4751-ba4b-9f2f48972151\",\"type\":\"Line\"},\"selection_glyph\":null,\"view\":{\"id\":\"7a0435ca-a569-496e-8e2f-a1acd011e18a\",\"type\":\"CDSView\"}},\"id\":\"f3cebad3-ce1e-4d61-9f7d-78facac21beb\",\"type\":\"GlyphRenderer\"},{\"attributes\":{\"data_source\":{\"id\":\"63779c57-6272-4b17-8da0-cde8b6c24a21\",\"type\":\"ColumnDataSource\"},\"glyph\":{\"id\":\"2a10a432-f1a2-4cd8-8cb2-8a42f7dbd5a5\",\"type\":\"Line\"},\"hover_glyph\":null,\"muted_glyph\":null,\"nonselection_glyph\":{\"id\":\"017e84ca-401a-4f6f-8e46-4762c5d2dec6\",\"type\":\"Line\"},\"selection_glyph\":null,\"view\":{\"id\":\"e7e5a9dd-e3ca-4039-9669-49c3f45a588c\",\"type\":\"CDSView\"}},\"id\":\"bddaa73a-d18a-4463-99c9-7d5e86475d0d\",\"type\":\"GlyphRenderer\"},{\"attributes\":{\"line_alpha\":0.1,\"line_color\":\"#1f77b4\",\"line_dash\":[2,4],\"line_width\":2,\"x\":{\"field\":\"x\"},\"y\":{\"field\":\"y\"}},\"id\":\"017e84ca-401a-4f6f-8e46-4762c5d2dec6\",\"type\":\"Line\"},{\"attributes\":{\"callback\":null},\"id\":\"ca0f85e3-e32e-478e-82d8-c9bbc8d219a9\",\"type\":\"DataRange1d\"},{\"attributes\":{\"line_color\":\"#F48179\",\"line_dash\":[2,4],\"line_width\":2,\"x\":{\"field\":\"x\"},\"y\":{\"field\":\"y\"}},\"id\":\"10a302c4-78ad-4b18-9586-16391d0a0502\",\"type\":\"Line\"},{\"attributes\":{\"below\":[{\"id\":\"5030e68d-a491-44d4-90e2-c158f4313979\",\"type\":\"DatetimeAxis\"}],\"left\":[{\"id\":\"17e7c4e1-d1a3-479f-8cc9-710d45bd5ecc\",\"type\":\"LinearAxis\"}],\"plot_height\":500,\"plot_width\":750,\"renderers\":[{\"id\":\"5030e68d-a491-44d4-90e2-c158f4313979\",\"type\":\"DatetimeAxis\"},{\"id\":\"bacc954f-c223-4d58-abfb-f716bc652984\",\"type\":\"Grid\"},{\"id\":\"17e7c4e1-d1a3-479f-8cc9-710d45bd5ecc\",\"type\":\"LinearAxis\"},{\"id\":\"534e6830-56c4-42b9-9775-2e70e1f3d85b\",\"type\":\"Grid\"},{\"id\":\"2d90b8f8-e9dd-4ec7-9406-125af684abbd\",\"type\":\"BoxAnnotation\"},{\"id\":\"3c589816-3165-4824-acfb-cb640f7b394f\",\"type\":\"Legend\"},{\"id\":\"8eaf383a-ecc5-41ef-a77b-0ba7d0ad301d\",\"type\":\"GlyphRenderer\"},{\"id\":\"fbf61772-8e2c-47c4-8567-2d7eb54fd950\",\"type\":\"GlyphRenderer\"},{\"id\":\"74950c71-723b-42e3-9a5e-5e9cdb197df1\",\"type\":\"GlyphRenderer\"},{\"id\":\"4f17ef7b-70ce-41df-a251-43a9c9098646\",\"type\":\"GlyphRenderer\"},{\"id\":\"7f90c147-0065-4914-a1f1-97ccd2aeabf1\",\"type\":\"GlyphRenderer\"},{\"id\":\"63e9308b-8271-4f70-9904-99a3de05e3b5\",\"type\":\"GlyphRenderer\"},{\"id\":\"f3cebad3-ce1e-4d61-9f7d-78facac21beb\",\"type\":\"GlyphRenderer\"},{\"id\":\"bddaa73a-d18a-4463-99c9-7d5e86475d0d\",\"type\":\"GlyphRenderer\"}],\"title\":{\"id\":\"dba32a4d-9fb7-4eda-937c-d4846db8f9f8\",\"type\":\"Title\"},\"toolbar\":{\"id\":\"46a26d5b-ed96-4633-86be-bb1eda94f2c9\",\"type\":\"Toolbar\"},\"x_range\":{\"id\":\"ca0f85e3-e32e-478e-82d8-c9bbc8d219a9\",\"type\":\"DataRange1d\"},\"x_scale\":{\"id\":\"e7d15475-4c96-4518-a830-6ed61d168d99\",\"type\":\"LinearScale\"},\"y_range\":{\"id\":\"11c59fdc-e00b-428d-b5bf-2ac4221053da\",\"type\":\"DataRange1d\"},\"y_scale\":{\"id\":\"db6d97e9-ffb4-41ad-8863-4f1407b8d3c4\",\"type\":\"LinearScale\"}},\"id\":\"4ff0c420-d31f-4722-825b-156f00259ff8\",\"subtype\":\"Figure\",\"type\":\"Plot\"},{\"attributes\":{\"label\":{\"value\":\"JTBC\"},\"renderers\":[{\"id\":\"f3cebad3-ce1e-4d61-9f7d-78facac21beb\",\"type\":\"GlyphRenderer\"}]},\"id\":\"de584f7b-87e3-4e7a-b8f3-6572877ae164\",\"type\":\"LegendItem\"},{\"attributes\":{\"line_color\":\"#1D3A6E\",\"line_dash\":[2,4],\"line_width\":2,\"x\":{\"field\":\"x\"},\"y\":{\"field\":\"y\"}},\"id\":\"2a10a432-f1a2-4cd8-8cb2-8a42f7dbd5a5\",\"type\":\"Line\"},{\"attributes\":{\"source\":{\"id\":\"63779c57-6272-4b17-8da0-cde8b6c24a21\",\"type\":\"ColumnDataSource\"}},\"id\":\"e7e5a9dd-e3ca-4039-9669-49c3f45a588c\",\"type\":\"CDSView\"},{\"attributes\":{\"source\":{\"id\":\"26ebba17-ed25-4f64-b0cc-c612cd39ae7c\",\"type\":\"ColumnDataSource\"}},\"id\":\"7a0435ca-a569-496e-8e2f-a1acd011e18a\",\"type\":\"CDSView\"}],\"root_ids\":[\"4ff0c420-d31f-4722-825b-156f00259ff8\"]},\"title\":\"Bokeh Application\",\"version\":\"0.12.13\"}};\n",
       "  var render_items = [{\"docid\":\"77380e92-2ecf-4705-b4dc-11c72bdcb5fd\",\"elementid\":\"3f84ee7d-5448-4001-8ae7-eff6274e3208\",\"modelid\":\"4ff0c420-d31f-4722-825b-156f00259ff8\"}];\n",
       "  root.Bokeh.embed.embed_items_notebook(docs_json, render_items);\n",
       "\n",
       "  }\n",
       "  if (root.Bokeh !== undefined) {\n",
       "    embed_document(root);\n",
       "  } else {\n",
       "    var attempts = 0;\n",
       "    var timer = setInterval(function(root) {\n",
       "      if (root.Bokeh !== undefined) {\n",
       "        embed_document(root);\n",
       "        clearInterval(timer);\n",
       "      }\n",
       "      attempts++;\n",
       "      if (attempts > 100) {\n",
       "        console.log(\"Bokeh: ERROR: Unable to run BokehJS code because BokehJS library is missing\")\n",
       "        clearInterval(timer);\n",
       "      }\n",
       "    }, 10, root)\n",
       "  }\n",
       "})(window);"
      ],
      "application/vnd.bokehjs_exec.v0+json": ""
     },
     "metadata": {
      "application/vnd.bokehjs_exec.v0+json": {
       "id": "4ff0c420-d31f-4722-825b-156f00259ff8"
      }
     },
     "output_type": "display_data"
    }
   ],
   "source": [
    "p1 = figure(plot_width=750, plot_height=500,x_axis_type='datetime', title=\"월별 기사당 반응수 평균\")\n",
    "p1.grid.grid_line_alpha=0.3\n",
    "p1.xaxis.axis_label = '월별'\n",
    "p1.yaxis.axis_label = '기사당 반응수 평균'\n",
    "p1.line(unstacked_reaction_mean['datetime'], unstacked_reaction_mean['chosun'], color='#f90202', legend='조선일보',line_width=2)\n",
    "p1.line(unstacked_reaction_mean['datetime'], unstacked_reaction_mean['joins'], color='#E2A00B', legend='중앙일보',line_width=2)\n",
    "p1.line(unstacked_reaction_mean['datetime'], unstacked_reaction_mean['yonhap'], color='#1cefef', legend='연합뉴스',line_width=2, line_dash='dashed')\n",
    "p1.line(unstacked_reaction_mean['datetime'], unstacked_reaction_mean['ohmynews'], color='#ff3300', legend='오마이뉴스',line_width=2, line_dash='dashed')\n",
    "p1.line(unstacked_reaction_mean['datetime'], unstacked_reaction_mean['hani'], color='#01996e', legend='한겨레',line_width=2)\n",
    "p1.line(unstacked_reaction_mean['datetime'], unstacked_reaction_mean['kh'], color='#18407D', legend='경향신문',line_width=2)\n",
    "p1.line(unstacked_reaction_mean['datetime'], unstacked_reaction_mean['jtbc'], color='#F48179', legend='JTBC',line_width=2, line_dash='dotted')\n",
    "p1.line(unstacked_reaction_mean['datetime'], unstacked_reaction_mean['sbs'], color='#1D3A6E', legend='SBS',line_width=2, line_dash='dotted')\n",
    "\n",
    "show(p1)"
   ]
  },
  {
   "cell_type": "markdown",
   "metadata": {},
   "source": [
    "## 월별 언론사별 코멘트 수 합산\n"
   ]
  },
  {
   "cell_type": "code",
   "execution_count": 23,
   "metadata": {},
   "outputs": [
    {
     "data": {
      "text/plain": [
       "media\n",
       "sbs         2497177\n",
       "chosun      2136996\n",
       "joins       2089655\n",
       "yonhap      1876219\n",
       "hani        1510557\n",
       "kh          1393676\n",
       "ohmynews    1290359\n",
       "jtbc         737172\n",
       "kbs          237487\n",
       "mk           233889\n",
       "donga        202458\n",
       "edaily       194901\n",
       "mbc          116782\n",
       "Name: tot_all_comment, dtype: int64"
      ]
     },
     "execution_count": 23,
     "metadata": {},
     "output_type": "execute_result"
    }
   ],
   "source": [
    "all_comment_sum = df_year.groupby('media')['tot_all_comment'].sum()\n",
    "sort_comment_total=all_comment_sum.sort_values(ascending=False)\n",
    "sort_comment_total"
   ]
  },
  {
   "cell_type": "code",
   "execution_count": 24,
   "metadata": {},
   "outputs": [],
   "source": [
    "comment_group_sum=df_year.groupby([pd.Grouper(key='datetime', freq='M'), 'media'])['tot_all_comment'].sum()\n",
    "unstacked_comment_sum=comment_group_sum.unstack(level=-1)\n",
    "unstacked_comment_sum.reset_index(level=0, inplace=True)"
   ]
  },
  {
   "cell_type": "code",
   "execution_count": 25,
   "metadata": {},
   "outputs": [
    {
     "data": {
      "text/html": [
       "\n",
       "<div class=\"bk-root\">\n",
       "    <div class=\"bk-plotdiv\" id=\"d422d7ad-8a44-4de1-9a04-090efc611d7b\"></div>\n",
       "</div>"
      ]
     },
     "metadata": {},
     "output_type": "display_data"
    },
    {
     "data": {
      "application/javascript": [
       "(function(root) {\n",
       "  function embed_document(root) {\n",
       "    \n",
       "  var docs_json = {\"bf44b7c4-226b-492e-9995-6a8d338c619b\":{\"roots\":{\"references\":[{\"attributes\":{\"base\":60,\"mantissas\":[1,2,5,10,15,20,30],\"max_interval\":1800000.0,\"min_interval\":1000.0,\"num_minor_ticks\":0},\"id\":\"0fffb168-f9d2-48ae-9cb0-103102371bd1\",\"type\":\"AdaptiveTicker\"},{\"attributes\":{\"label\":{\"value\":\"\\uc870\\uc120\\uc77c\\ubcf4\"},\"renderers\":[{\"id\":\"55583cae-cfc9-405b-83fa-6bcb91fba5e2\",\"type\":\"GlyphRenderer\"}]},\"id\":\"bcbf5753-f2a1-4619-9261-b0fc4f919cb4\",\"type\":\"LegendItem\"},{\"attributes\":{\"base\":24,\"mantissas\":[1,2,4,6,8,12],\"max_interval\":43200000.0,\"min_interval\":3600000.0,\"num_minor_ticks\":0},\"id\":\"f28e2a1f-0cf3-418b-89fd-1c168ec728b6\",\"type\":\"AdaptiveTicker\"},{\"attributes\":{\"days\":[1,2,3,4,5,6,7,8,9,10,11,12,13,14,15,16,17,18,19,20,21,22,23,24,25,26,27,28,29,30,31]},\"id\":\"a800a1b8-7c44-41cd-b222-c10fe62db8a2\",\"type\":\"DaysTicker\"},{\"attributes\":{\"days\":[1,4,7,10,13,16,19,22,25,28]},\"id\":\"adaaf69d-a839-4566-8986-e9170f3a3bf5\",\"type\":\"DaysTicker\"},{\"attributes\":{\"days\":[1,8,15,22]},\"id\":\"d77b76b2-859b-475f-abe3-92bc88d80b5a\",\"type\":\"DaysTicker\"},{\"attributes\":{\"days\":[1,15]},\"id\":\"5376be90-8084-4015-8625-f9886de8664c\",\"type\":\"DaysTicker\"},{\"attributes\":{\"months\":[0,1,2,3,4,5,6,7,8,9,10,11]},\"id\":\"56c1e3dd-e076-41f8-8b2a-c1ae528d8619\",\"type\":\"MonthsTicker\"},{\"attributes\":{\"months\":[0,2,4,6,8,10]},\"id\":\"e5260b89-96c4-48f7-b709-af1d9e3105ae\",\"type\":\"MonthsTicker\"},{\"attributes\":{\"months\":[0,4,8]},\"id\":\"7f2f3bde-88b1-437e-bd3a-14c5dff52df8\",\"type\":\"MonthsTicker\"},{\"attributes\":{\"months\":[0,6]},\"id\":\"025fb6fe-f8ae-4d21-a9e9-a5d1e228df81\",\"type\":\"MonthsTicker\"},{\"attributes\":{},\"id\":\"be630e58-962a-4925-adbc-921f67a7c805\",\"type\":\"YearsTicker\"},{\"attributes\":{\"items\":[{\"id\":\"bcbf5753-f2a1-4619-9261-b0fc4f919cb4\",\"type\":\"LegendItem\"},{\"id\":\"7c434b06-b4cf-4809-83cf-bc5b0b5da7cb\",\"type\":\"LegendItem\"},{\"id\":\"666dc651-a475-4ada-b20f-a5664c1fd3f0\",\"type\":\"LegendItem\"},{\"id\":\"588f31de-0f3b-415f-8da8-dcb4808b9b98\",\"type\":\"LegendItem\"},{\"id\":\"cb688d5c-79ec-4433-bf0f-fca34c0fa3f3\",\"type\":\"LegendItem\"},{\"id\":\"544d1c82-af6f-4ed0-835a-392c776d2850\",\"type\":\"LegendItem\"},{\"id\":\"04838a0f-af72-4e1b-8ed4-219bf6b56518\",\"type\":\"LegendItem\"},{\"id\":\"6ec5465f-293f-4d3b-bdb9-f726c4f133b9\",\"type\":\"LegendItem\"}],\"plot\":{\"id\":\"e9d02a60-fb57-4d73-8501-6a1f0355d0ba\",\"subtype\":\"Figure\",\"type\":\"Plot\"}},\"id\":\"0b7fb0c9-1ab5-4b72-bb8b-6e5d9499edb6\",\"type\":\"Legend\"},{\"attributes\":{\"callback\":null,\"column_names\":[\"x\",\"y\"],\"data\":{\"x\":{\"__ndarray__\":\"AAAAwkFQdUIAAICu6Vl1QgAAwADkY3VCAAAAU95tdUIAAIA/hnd1QgAAwJGAgXVCAABAfiiLdUIAAIDQIpV1QgAAwCIdn3VCAADAQyCodUIAAACWGrJ1QgAAgILCu3VCAADA1LzFdUIAAEDBZM91QgAAgBNf2XVCAADAZVnjdUIAAEBSAe11QgAAgKT79nVCAAAAkaMAdkIAAEDjnQp2Qg==\",\"dtype\":\"float64\",\"shape\":[20]},\"y\":[27698,28605,40054,61747,93444,175098,206881,197718,187997,113171,123795,191335,135216,149461,114769,52394,63643,53211,47740,25678]}},\"id\":\"d288c4d6-ef0a-418d-ae4d-0d5e9b2d791f\",\"type\":\"ColumnDataSource\"},{\"attributes\":{\"line_alpha\":0.1,\"line_color\":\"#1f77b4\",\"line_width\":2,\"x\":{\"field\":\"x\"},\"y\":{\"field\":\"y\"}},\"id\":\"53062915-3506-48c1-9f2f-fa9c42fac3d3\",\"type\":\"Line\"},{\"attributes\":{\"line_color\":\"#E2A00B\",\"line_width\":2,\"x\":{\"field\":\"x\"},\"y\":{\"field\":\"y\"}},\"id\":\"275e8cdf-4b5c-4b37-a2de-0f716d26c5b0\",\"type\":\"Line\"},{\"attributes\":{\"callback\":null,\"column_names\":[\"x\",\"y\"],\"data\":{\"x\":{\"__ndarray__\":\"AAAAwkFQdUIAAICu6Vl1QgAAwADkY3VCAAAAU95tdUIAAIA/hnd1QgAAwJGAgXVCAABAfiiLdUIAAIDQIpV1QgAAwCIdn3VCAADAQyCodUIAAACWGrJ1QgAAgILCu3VCAADA1LzFdUIAAEDBZM91QgAAgBNf2XVCAADAZVnjdUIAAEBSAe11QgAAgKT79nVCAAAAkaMAdkIAAEDjnQp2Qg==\",\"dtype\":\"float64\",\"shape\":[20]},\"y\":[45780,61199,87181,85875,102404,96651,110753,129396,135922,120775,135128,98912,113177,103016,92752,38939,106552,80641,85971,45195]}},\"id\":\"cd11b561-0bc3-404f-b80f-0dcbad1660a3\",\"type\":\"ColumnDataSource\"},{\"attributes\":{\"label\":{\"value\":\"\\uc911\\uc559\\uc77c\\ubcf4\"},\"renderers\":[{\"id\":\"eb21435d-8719-43af-9080-1185e52aaa73\",\"type\":\"GlyphRenderer\"}]},\"id\":\"7c434b06-b4cf-4809-83cf-bc5b0b5da7cb\",\"type\":\"LegendItem\"},{\"attributes\":{\"data_source\":{\"id\":\"d288c4d6-ef0a-418d-ae4d-0d5e9b2d791f\",\"type\":\"ColumnDataSource\"},\"glyph\":{\"id\":\"275e8cdf-4b5c-4b37-a2de-0f716d26c5b0\",\"type\":\"Line\"},\"hover_glyph\":null,\"muted_glyph\":null,\"nonselection_glyph\":{\"id\":\"53062915-3506-48c1-9f2f-fa9c42fac3d3\",\"type\":\"Line\"},\"selection_glyph\":null,\"view\":{\"id\":\"f3702124-232e-44b9-a2d5-b362c9f2673c\",\"type\":\"CDSView\"}},\"id\":\"eb21435d-8719-43af-9080-1185e52aaa73\",\"type\":\"GlyphRenderer\"},{\"attributes\":{\"source\":{\"id\":\"d288c4d6-ef0a-418d-ae4d-0d5e9b2d791f\",\"type\":\"ColumnDataSource\"}},\"id\":\"f3702124-232e-44b9-a2d5-b362c9f2673c\",\"type\":\"CDSView\"},{\"attributes\":{\"callback\":null,\"column_names\":[\"x\",\"y\"],\"data\":{\"x\":{\"__ndarray__\":\"AAAAwkFQdUIAAICu6Vl1QgAAwADkY3VCAAAAU95tdUIAAIA/hnd1QgAAwJGAgXVCAABAfiiLdUIAAIDQIpV1QgAAwCIdn3VCAADAQyCodUIAAACWGrJ1QgAAgILCu3VCAADA1LzFdUIAAEDBZM91QgAAgBNf2XVCAADAZVnjdUIAAEBSAe11QgAAgKT79nVCAAAAkaMAdkIAAEDjnQp2Qg==\",\"dtype\":\"float64\",\"shape\":[20]},\"y\":[45641,52959,62111,59132,69480,81254,104821,91470,80289,70136,68199,83853,85598,54838,51904,38016,55874,44765,52368,37651]}},\"id\":\"d2d12ea1-5875-40a3-ab34-dda8bcd2835a\",\"type\":\"ColumnDataSource\"},{\"attributes\":{\"line_alpha\":0.1,\"line_color\":\"#1f77b4\",\"line_dash\":[6],\"line_width\":2,\"x\":{\"field\":\"x\"},\"y\":{\"field\":\"y\"}},\"id\":\"9d10a2c0-a817-4ecb-8528-4cea856d11e0\",\"type\":\"Line\"},{\"attributes\":{\"mantissas\":[1,2,5],\"max_interval\":500.0,\"num_minor_ticks\":0},\"id\":\"78b04823-c62f-4150-99b4-9b5003a779e7\",\"type\":\"AdaptiveTicker\"},{\"attributes\":{\"line_color\":\"#1cefef\",\"line_dash\":[6],\"line_width\":2,\"x\":{\"field\":\"x\"},\"y\":{\"field\":\"y\"}},\"id\":\"4e38fd4a-2b81-4e8f-a691-0ef0ae12486e\",\"type\":\"Line\"},{\"attributes\":{\"line_alpha\":0.1,\"line_color\":\"#1f77b4\",\"line_dash\":[6],\"line_width\":2,\"x\":{\"field\":\"x\"},\"y\":{\"field\":\"y\"}},\"id\":\"04d2fe67-003f-40a5-a190-6f66f805d729\",\"type\":\"Line\"},{\"attributes\":{\"label\":{\"value\":\"\\uc5f0\\ud569\\ub274\\uc2a4\"},\"renderers\":[{\"id\":\"80923193-ad74-40dc-abf8-331204ae6d5c\",\"type\":\"GlyphRenderer\"}]},\"id\":\"666dc651-a475-4ada-b20f-a5664c1fd3f0\",\"type\":\"LegendItem\"},{\"attributes\":{\"data_source\":{\"id\":\"cd11b561-0bc3-404f-b80f-0dcbad1660a3\",\"type\":\"ColumnDataSource\"},\"glyph\":{\"id\":\"4e38fd4a-2b81-4e8f-a691-0ef0ae12486e\",\"type\":\"Line\"},\"hover_glyph\":null,\"muted_glyph\":null,\"nonselection_glyph\":{\"id\":\"04d2fe67-003f-40a5-a190-6f66f805d729\",\"type\":\"Line\"},\"selection_glyph\":null,\"view\":{\"id\":\"c7812fd2-0d1e-4c17-b7d8-df79d803a075\",\"type\":\"CDSView\"}},\"id\":\"80923193-ad74-40dc-abf8-331204ae6d5c\",\"type\":\"GlyphRenderer\"},{\"attributes\":{\"source\":{\"id\":\"cd11b561-0bc3-404f-b80f-0dcbad1660a3\",\"type\":\"ColumnDataSource\"}},\"id\":\"c7812fd2-0d1e-4c17-b7d8-df79d803a075\",\"type\":\"CDSView\"},{\"attributes\":{\"plot\":null,\"text\":\"\\uc6d4\\ubcc4 \\ub313\\uae00\\uc218 \\ud569\\uc0b0\"},\"id\":\"dd7d6a0a-223e-4a02-ae99-b76e4fe5debb\",\"type\":\"Title\"},{\"attributes\":{\"callback\":null,\"column_names\":[\"x\",\"y\"],\"data\":{\"x\":{\"__ndarray__\":\"AAAAwkFQdUIAAICu6Vl1QgAAwADkY3VCAAAAU95tdUIAAIA/hnd1QgAAwJGAgXVCAABAfiiLdUIAAIDQIpV1QgAAwCIdn3VCAADAQyCodUIAAACWGrJ1QgAAgILCu3VCAADA1LzFdUIAAEDBZM91QgAAgBNf2XVCAADAZVnjdUIAAEBSAe11QgAAgKT79nVCAAAAkaMAdkIAAEDjnQp2Qg==\",\"dtype\":\"float64\",\"shape\":[20]},\"y\":[51446,43744,69604,73625,77880,112898,133949,131139,99639,85579,91319,85151,97680,63261,69822,37125,53205,36988,55016,41487]}},\"id\":\"613d7664-5065-44c8-b299-c1dd68151414\",\"type\":\"ColumnDataSource\"},{\"attributes\":{\"line_alpha\":0.1,\"line_color\":\"#1f77b4\",\"line_width\":2,\"x\":{\"field\":\"x\"},\"y\":{\"field\":\"y\"}},\"id\":\"ee5b2567-8353-44f3-9236-05103e7f318f\",\"type\":\"Line\"},{\"attributes\":{\"line_color\":\"#ff3300\",\"line_dash\":[6],\"line_width\":2,\"x\":{\"field\":\"x\"},\"y\":{\"field\":\"y\"}},\"id\":\"ab8f8613-9ba2-4b56-b6b6-60afdbbd0887\",\"type\":\"Line\"},{\"attributes\":{\"label\":{\"value\":\"\\uc624\\ub9c8\\uc774\\ub274\\uc2a4\"},\"renderers\":[{\"id\":\"6dedc20a-2b41-4fc6-abca-467a61b1362e\",\"type\":\"GlyphRenderer\"}]},\"id\":\"588f31de-0f3b-415f-8da8-dcb4808b9b98\",\"type\":\"LegendItem\"},{\"attributes\":{},\"id\":\"c6972aca-5f22-43ce-9c7d-b7cb79489ba9\",\"type\":\"DatetimeTickFormatter\"},{\"attributes\":{\"callback\":null,\"column_names\":[\"x\",\"y\"],\"data\":{\"x\":{\"__ndarray__\":\"AAAAwkFQdUIAAICu6Vl1QgAAwADkY3VCAAAAU95tdUIAAIA/hnd1QgAAwJGAgXVCAABAfiiLdUIAAIDQIpV1QgAAwCIdn3VCAADAQyCodUIAAACWGrJ1QgAAgILCu3VCAADA1LzFdUIAAEDBZM91QgAAgBNf2XVCAADAZVnjdUIAAEBSAe11QgAAgKT79nVCAAAAkaMAdkIAAEDjnQp2Qg==\",\"dtype\":\"float64\",\"shape\":[20]},\"y\":[44537,48265,69385,69099,82278,107719,119762,96641,97300,80238,91497,71499,72815,60039,64164,36886,63202,53616,54644,10090]}},\"id\":\"c866e462-a7f9-4a29-b0fa-7b0a2672e52a\",\"type\":\"ColumnDataSource\"},{\"attributes\":{\"data_source\":{\"id\":\"d2d12ea1-5875-40a3-ab34-dda8bcd2835a\",\"type\":\"ColumnDataSource\"},\"glyph\":{\"id\":\"ab8f8613-9ba2-4b56-b6b6-60afdbbd0887\",\"type\":\"Line\"},\"hover_glyph\":null,\"muted_glyph\":null,\"nonselection_glyph\":{\"id\":\"9d10a2c0-a817-4ecb-8528-4cea856d11e0\",\"type\":\"Line\"},\"selection_glyph\":null,\"view\":{\"id\":\"86a030d4-2ae0-4112-bf46-d3332af82b41\",\"type\":\"CDSView\"}},\"id\":\"6dedc20a-2b41-4fc6-abca-467a61b1362e\",\"type\":\"GlyphRenderer\"},{\"attributes\":{\"source\":{\"id\":\"d2d12ea1-5875-40a3-ab34-dda8bcd2835a\",\"type\":\"ColumnDataSource\"}},\"id\":\"86a030d4-2ae0-4112-bf46-d3332af82b41\",\"type\":\"CDSView\"},{\"attributes\":{\"active_drag\":\"auto\",\"active_inspect\":\"auto\",\"active_scroll\":\"auto\",\"active_tap\":\"auto\",\"tools\":[{\"id\":\"339dc471-2a82-4d4d-9cc7-266f266969db\",\"type\":\"PanTool\"},{\"id\":\"5b1018e1-b69e-4c3c-8e8a-e72f147118f1\",\"type\":\"WheelZoomTool\"},{\"id\":\"18e02fc5-1106-4702-80e0-88679bcb143a\",\"type\":\"BoxZoomTool\"},{\"id\":\"1399a3e4-a91a-458a-afe9-8cf3f07f25c4\",\"type\":\"SaveTool\"},{\"id\":\"7fd14642-00bd-4968-a1b6-ce11fce0d38a\",\"type\":\"ResetTool\"},{\"id\":\"9dfc75a0-30b5-43c4-abe1-d28e84025846\",\"type\":\"HelpTool\"}]},\"id\":\"e11b6fd6-f685-44c6-b581-7aff04ee3326\",\"type\":\"Toolbar\"},{\"attributes\":{\"line_alpha\":0.1,\"line_color\":\"#1f77b4\",\"line_width\":2,\"x\":{\"field\":\"x\"},\"y\":{\"field\":\"y\"}},\"id\":\"8d5fd513-77c5-4cd7-a5b3-eef6f646f5c1\",\"type\":\"Line\"},{\"attributes\":{\"line_color\":\"#01996e\",\"line_width\":2,\"x\":{\"field\":\"x\"},\"y\":{\"field\":\"y\"}},\"id\":\"5ab9c9e4-7895-4652-a4f4-2e166c3f3267\",\"type\":\"Line\"},{\"attributes\":{\"below\":[{\"id\":\"da6cf672-83dd-4508-a876-91f195a6ab1b\",\"type\":\"DatetimeAxis\"}],\"left\":[{\"id\":\"3adf842e-90ce-4a08-be0c-9312b65f46b8\",\"type\":\"LinearAxis\"}],\"plot_height\":500,\"plot_width\":750,\"renderers\":[{\"id\":\"da6cf672-83dd-4508-a876-91f195a6ab1b\",\"type\":\"DatetimeAxis\"},{\"id\":\"641afdf6-c640-42df-bfba-18c97bfa6df4\",\"type\":\"Grid\"},{\"id\":\"3adf842e-90ce-4a08-be0c-9312b65f46b8\",\"type\":\"LinearAxis\"},{\"id\":\"79ccf726-4b20-4945-b265-35572f5fa372\",\"type\":\"Grid\"},{\"id\":\"2b4cf57f-1f25-4a9b-9188-491362f17c1a\",\"type\":\"BoxAnnotation\"},{\"id\":\"0b7fb0c9-1ab5-4b72-bb8b-6e5d9499edb6\",\"type\":\"Legend\"},{\"id\":\"55583cae-cfc9-405b-83fa-6bcb91fba5e2\",\"type\":\"GlyphRenderer\"},{\"id\":\"eb21435d-8719-43af-9080-1185e52aaa73\",\"type\":\"GlyphRenderer\"},{\"id\":\"80923193-ad74-40dc-abf8-331204ae6d5c\",\"type\":\"GlyphRenderer\"},{\"id\":\"6dedc20a-2b41-4fc6-abca-467a61b1362e\",\"type\":\"GlyphRenderer\"},{\"id\":\"65c80ec9-5408-4186-ba82-5b1a806eb55f\",\"type\":\"GlyphRenderer\"},{\"id\":\"3c167f69-c6c2-486f-8d5e-8d82ee6b28c2\",\"type\":\"GlyphRenderer\"},{\"id\":\"367e9868-6143-412d-bb14-6192c20a081e\",\"type\":\"GlyphRenderer\"},{\"id\":\"352f619f-d805-4e8d-8d0e-8db9d49b34d4\",\"type\":\"GlyphRenderer\"}],\"title\":{\"id\":\"dd7d6a0a-223e-4a02-ae99-b76e4fe5debb\",\"type\":\"Title\"},\"toolbar\":{\"id\":\"e11b6fd6-f685-44c6-b581-7aff04ee3326\",\"type\":\"Toolbar\"},\"x_range\":{\"id\":\"9f6f7eee-44cc-40da-946d-465f0e3bcd0c\",\"type\":\"DataRange1d\"},\"x_scale\":{\"id\":\"2c095f87-2f9c-41f8-9f11-63c38e47c436\",\"type\":\"LinearScale\"},\"y_range\":{\"id\":\"a14f719e-a07a-4213-bfe1-a1777599aec1\",\"type\":\"DataRange1d\"},\"y_scale\":{\"id\":\"c19891c4-58b5-471b-92bc-1e3788dac19d\",\"type\":\"LinearScale\"}},\"id\":\"e9d02a60-fb57-4d73-8501-6a1f0355d0ba\",\"subtype\":\"Figure\",\"type\":\"Plot\"},{\"attributes\":{\"label\":{\"value\":\"\\ud55c\\uaca8\\ub808\"},\"renderers\":[{\"id\":\"65c80ec9-5408-4186-ba82-5b1a806eb55f\",\"type\":\"GlyphRenderer\"}]},\"id\":\"cb688d5c-79ec-4433-bf0f-fca34c0fa3f3\",\"type\":\"LegendItem\"},{\"attributes\":{\"data_source\":{\"id\":\"613d7664-5065-44c8-b299-c1dd68151414\",\"type\":\"ColumnDataSource\"},\"glyph\":{\"id\":\"5ab9c9e4-7895-4652-a4f4-2e166c3f3267\",\"type\":\"Line\"},\"hover_glyph\":null,\"muted_glyph\":null,\"nonselection_glyph\":{\"id\":\"ee5b2567-8353-44f3-9236-05103e7f318f\",\"type\":\"Line\"},\"selection_glyph\":null,\"view\":{\"id\":\"e6f3f472-60ef-4fbf-9ced-4acf6a15e97b\",\"type\":\"CDSView\"}},\"id\":\"65c80ec9-5408-4186-ba82-5b1a806eb55f\",\"type\":\"GlyphRenderer\"},{\"attributes\":{\"source\":{\"id\":\"613d7664-5065-44c8-b299-c1dd68151414\",\"type\":\"ColumnDataSource\"}},\"id\":\"e6f3f472-60ef-4fbf-9ced-4acf6a15e97b\",\"type\":\"CDSView\"},{\"attributes\":{},\"id\":\"1399a3e4-a91a-458a-afe9-8cf3f07f25c4\",\"type\":\"SaveTool\"},{\"attributes\":{\"callback\":null,\"column_names\":[\"x\",\"y\"],\"data\":{\"x\":{\"__ndarray__\":\"AAAAwkFQdUIAAICu6Vl1QgAAwADkY3VCAAAAU95tdUIAAIA/hnd1QgAAwJGAgXVCAABAfiiLdUIAAIDQIpV1QgAAwCIdn3VCAADAQyCodUIAAACWGrJ1QgAAgILCu3VCAADA1LzFdUIAAEDBZM91QgAAgBNf2XVCAADAZVnjdUIAAEBSAe11QgAAgKT79nVCAAAAkaMAdkIAAEDjnQp2Qg==\",\"dtype\":\"float64\",\"shape\":[20]},\"y\":[52191,24769,28747,40494,15536,30998,53976,58854,42021,29018,28195,50759,62947,43706,36404,22852,30832,30991,37094,16788]}},\"id\":\"cf103c24-45a5-4f64-be82-1dbeb0c42d5e\",\"type\":\"ColumnDataSource\"},{\"attributes\":{\"line_alpha\":0.1,\"line_color\":\"#1f77b4\",\"line_dash\":[2,4],\"line_width\":2,\"x\":{\"field\":\"x\"},\"y\":{\"field\":\"y\"}},\"id\":\"fa66abe8-3223-4991-90b4-a2eb2a67a3d7\",\"type\":\"Line\"},{\"attributes\":{},\"id\":\"5b1018e1-b69e-4c3c-8e8a-e72f147118f1\",\"type\":\"WheelZoomTool\"},{\"attributes\":{},\"id\":\"a6523359-81a0-449f-b952-a5f20c4b4ed9\",\"type\":\"BasicTicker\"},{\"attributes\":{\"line_color\":\"#18407D\",\"line_width\":2,\"x\":{\"field\":\"x\"},\"y\":{\"field\":\"y\"}},\"id\":\"c71112f6-4827-46e4-b912-2ebb5614e6dd\",\"type\":\"Line\"},{\"attributes\":{\"bottom_units\":\"screen\",\"fill_alpha\":{\"value\":0.5},\"fill_color\":{\"value\":\"lightgrey\"},\"left_units\":\"screen\",\"level\":\"overlay\",\"line_alpha\":{\"value\":1.0},\"line_color\":{\"value\":\"black\"},\"line_dash\":[4,4],\"line_width\":{\"value\":2},\"plot\":null,\"render_mode\":\"css\",\"right_units\":\"screen\",\"top_units\":\"screen\"},\"id\":\"2b4cf57f-1f25-4a9b-9188-491362f17c1a\",\"type\":\"BoxAnnotation\"},{\"attributes\":{\"label\":{\"value\":\"\\uacbd\\ud5a5\\uc2e0\\ubb38\"},\"renderers\":[{\"id\":\"3c167f69-c6c2-486f-8d5e-8d82ee6b28c2\",\"type\":\"GlyphRenderer\"}]},\"id\":\"544d1c82-af6f-4ed0-835a-392c776d2850\",\"type\":\"LegendItem\"},{\"attributes\":{},\"id\":\"9dfc75a0-30b5-43c4-abe1-d28e84025846\",\"type\":\"HelpTool\"},{\"attributes\":{\"data_source\":{\"id\":\"c866e462-a7f9-4a29-b0fa-7b0a2672e52a\",\"type\":\"ColumnDataSource\"},\"glyph\":{\"id\":\"c71112f6-4827-46e4-b912-2ebb5614e6dd\",\"type\":\"Line\"},\"hover_glyph\":null,\"muted_glyph\":null,\"nonselection_glyph\":{\"id\":\"8d5fd513-77c5-4cd7-a5b3-eef6f646f5c1\",\"type\":\"Line\"},\"selection_glyph\":null,\"view\":{\"id\":\"1f3cdb22-7ea2-4b85-9d6d-ec265d532d99\",\"type\":\"CDSView\"}},\"id\":\"3c167f69-c6c2-486f-8d5e-8d82ee6b28c2\",\"type\":\"GlyphRenderer\"},{\"attributes\":{\"source\":{\"id\":\"c866e462-a7f9-4a29-b0fa-7b0a2672e52a\",\"type\":\"ColumnDataSource\"}},\"id\":\"1f3cdb22-7ea2-4b85-9d6d-ec265d532d99\",\"type\":\"CDSView\"},{\"attributes\":{\"source\":{\"id\":\"055ead0c-3373-4381-a06a-92ce78655e22\",\"type\":\"ColumnDataSource\"}},\"id\":\"cd0ac4bf-afce-461e-ba60-502c4a609ace\",\"type\":\"CDSView\"},{\"attributes\":{\"callback\":null,\"column_names\":[\"x\",\"y\"],\"data\":{\"x\":{\"__ndarray__\":\"AAAAwkFQdUIAAICu6Vl1QgAAwADkY3VCAAAAU95tdUIAAIA/hnd1QgAAwJGAgXVCAABAfiiLdUIAAIDQIpV1QgAAwCIdn3VCAADAQyCodUIAAACWGrJ1QgAAgILCu3VCAADA1LzFdUIAAEDBZM91QgAAgBNf2XVCAADAZVnjdUIAAEBSAe11QgAAgKT79nVCAAAAkaMAdkIAAEDjnQp2Qg==\",\"dtype\":\"float64\",\"shape\":[20]},\"y\":[81100,55630,84403,95020,124159,158339,98082,106599,153859,150640,160854,178412,126364,156551,155611,85176,207852,194043,111338,13145]}},\"id\":\"db6d4f6e-6096-4a3b-ab19-1a1e2f6e2564\",\"type\":\"ColumnDataSource\"},{\"attributes\":{\"callback\":null},\"id\":\"9f6f7eee-44cc-40da-946d-465f0e3bcd0c\",\"type\":\"DataRange1d\"},{\"attributes\":{\"line_alpha\":0.1,\"line_color\":\"#1f77b4\",\"line_dash\":[2,4],\"line_width\":2,\"x\":{\"field\":\"x\"},\"y\":{\"field\":\"y\"}},\"id\":\"7b55b41c-389c-4bd6-ad8c-c55910640069\",\"type\":\"Line\"},{\"attributes\":{\"line_color\":\"#F48179\",\"line_dash\":[2,4],\"line_width\":2,\"x\":{\"field\":\"x\"},\"y\":{\"field\":\"y\"}},\"id\":\"23e286cd-24c6-4cbe-ade8-e87b75b63a80\",\"type\":\"Line\"},{\"attributes\":{},\"id\":\"7fd14642-00bd-4968-a1b6-ce11fce0d38a\",\"type\":\"ResetTool\"},{\"attributes\":{\"label\":{\"value\":\"JTBC\"},\"renderers\":[{\"id\":\"367e9868-6143-412d-bb14-6192c20a081e\",\"type\":\"GlyphRenderer\"}]},\"id\":\"04838a0f-af72-4e1b-8ed4-219bf6b56518\",\"type\":\"LegendItem\"},{\"attributes\":{\"line_alpha\":0.1,\"line_color\":\"#1f77b4\",\"line_width\":2,\"x\":{\"field\":\"x\"},\"y\":{\"field\":\"y\"}},\"id\":\"2b850b44-bc30-4fc0-a99c-8bb2928ece69\",\"type\":\"Line\"},{\"attributes\":{\"overlay\":{\"id\":\"2b4cf57f-1f25-4a9b-9188-491362f17c1a\",\"type\":\"BoxAnnotation\"}},\"id\":\"18e02fc5-1106-4702-80e0-88679bcb143a\",\"type\":\"BoxZoomTool\"},{\"attributes\":{\"dimension\":1,\"grid_line_alpha\":{\"value\":0.3},\"plot\":{\"id\":\"e9d02a60-fb57-4d73-8501-6a1f0355d0ba\",\"subtype\":\"Figure\",\"type\":\"Plot\"},\"ticker\":{\"id\":\"a6523359-81a0-449f-b952-a5f20c4b4ed9\",\"type\":\"BasicTicker\"}},\"id\":\"79ccf726-4b20-4945-b265-35572f5fa372\",\"type\":\"Grid\"},{\"attributes\":{\"data_source\":{\"id\":\"cf103c24-45a5-4f64-be82-1dbeb0c42d5e\",\"type\":\"ColumnDataSource\"},\"glyph\":{\"id\":\"23e286cd-24c6-4cbe-ade8-e87b75b63a80\",\"type\":\"Line\"},\"hover_glyph\":null,\"muted_glyph\":null,\"nonselection_glyph\":{\"id\":\"fa66abe8-3223-4991-90b4-a2eb2a67a3d7\",\"type\":\"Line\"},\"selection_glyph\":null,\"view\":{\"id\":\"cfed04eb-8436-4f04-bf4d-a9cf7e1532c8\",\"type\":\"CDSView\"}},\"id\":\"367e9868-6143-412d-bb14-6192c20a081e\",\"type\":\"GlyphRenderer\"},{\"attributes\":{\"callback\":null,\"column_names\":[\"x\",\"y\"],\"data\":{\"x\":{\"__ndarray__\":\"AAAAwkFQdUIAAICu6Vl1QgAAwADkY3VCAAAAU95tdUIAAIA/hnd1QgAAwJGAgXVCAABAfiiLdUIAAIDQIpV1QgAAwCIdn3VCAADAQyCodUIAAACWGrJ1QgAAgILCu3VCAADA1LzFdUIAAEDBZM91QgAAgBNf2XVCAADAZVnjdUIAAEBSAe11QgAAgKT79nVCAAAAkaMAdkIAAEDjnQp2Qg==\",\"dtype\":\"float64\",\"shape\":[20]},\"y\":[108553,99214,127355,141000,111029,107507,114768,113033,137720,71550,80567,118388,136360,123150,134069,54674,113883,97989,120289,25898]}},\"id\":\"055ead0c-3373-4381-a06a-92ce78655e22\",\"type\":\"ColumnDataSource\"},{\"attributes\":{\"source\":{\"id\":\"cf103c24-45a5-4f64-be82-1dbeb0c42d5e\",\"type\":\"ColumnDataSource\"}},\"id\":\"cfed04eb-8436-4f04-bf4d-a9cf7e1532c8\",\"type\":\"CDSView\"},{\"attributes\":{\"line_color\":\"#f90202\",\"line_width\":2,\"x\":{\"field\":\"x\"},\"y\":{\"field\":\"y\"}},\"id\":\"32f6f152-5dfc-4681-ab78-3d6358dc63fc\",\"type\":\"Line\"},{\"attributes\":{\"data_source\":{\"id\":\"055ead0c-3373-4381-a06a-92ce78655e22\",\"type\":\"ColumnDataSource\"},\"glyph\":{\"id\":\"32f6f152-5dfc-4681-ab78-3d6358dc63fc\",\"type\":\"Line\"},\"hover_glyph\":null,\"muted_glyph\":null,\"nonselection_glyph\":{\"id\":\"2b850b44-bc30-4fc0-a99c-8bb2928ece69\",\"type\":\"Line\"},\"selection_glyph\":null,\"view\":{\"id\":\"cd0ac4bf-afce-461e-ba60-502c4a609ace\",\"type\":\"CDSView\"}},\"id\":\"55583cae-cfc9-405b-83fa-6bcb91fba5e2\",\"type\":\"GlyphRenderer\"},{\"attributes\":{\"line_color\":\"#1D3A6E\",\"line_dash\":[2,4],\"line_width\":2,\"x\":{\"field\":\"x\"},\"y\":{\"field\":\"y\"}},\"id\":\"5907874b-c6f4-41a9-93a3-6a0623d52989\",\"type\":\"Line\"},{\"attributes\":{},\"id\":\"8f610f2e-5c61-498a-b82c-8f09c3747166\",\"type\":\"BasicTickFormatter\"},{\"attributes\":{\"label\":{\"value\":\"SBS\"},\"renderers\":[{\"id\":\"352f619f-d805-4e8d-8d0e-8db9d49b34d4\",\"type\":\"GlyphRenderer\"}]},\"id\":\"6ec5465f-293f-4d3b-bdb9-f726c4f133b9\",\"type\":\"LegendItem\"},{\"attributes\":{},\"id\":\"339dc471-2a82-4d4d-9cc7-266f266969db\",\"type\":\"PanTool\"},{\"attributes\":{\"data_source\":{\"id\":\"db6d4f6e-6096-4a3b-ab19-1a1e2f6e2564\",\"type\":\"ColumnDataSource\"},\"glyph\":{\"id\":\"5907874b-c6f4-41a9-93a3-6a0623d52989\",\"type\":\"Line\"},\"hover_glyph\":null,\"muted_glyph\":null,\"nonselection_glyph\":{\"id\":\"7b55b41c-389c-4bd6-ad8c-c55910640069\",\"type\":\"Line\"},\"selection_glyph\":null,\"view\":{\"id\":\"52f7014b-2535-45d5-a67d-1f86ec852a4a\",\"type\":\"CDSView\"}},\"id\":\"352f619f-d805-4e8d-8d0e-8db9d49b34d4\",\"type\":\"GlyphRenderer\"},{\"attributes\":{\"callback\":null},\"id\":\"a14f719e-a07a-4213-bfe1-a1777599aec1\",\"type\":\"DataRange1d\"},{\"attributes\":{},\"id\":\"2c095f87-2f9c-41f8-9f11-63c38e47c436\",\"type\":\"LinearScale\"},{\"attributes\":{\"source\":{\"id\":\"db6d4f6e-6096-4a3b-ab19-1a1e2f6e2564\",\"type\":\"ColumnDataSource\"}},\"id\":\"52f7014b-2535-45d5-a67d-1f86ec852a4a\",\"type\":\"CDSView\"},{\"attributes\":{},\"id\":\"c19891c4-58b5-471b-92bc-1e3788dac19d\",\"type\":\"LinearScale\"},{\"attributes\":{\"num_minor_ticks\":5,\"tickers\":[{\"id\":\"78b04823-c62f-4150-99b4-9b5003a779e7\",\"type\":\"AdaptiveTicker\"},{\"id\":\"0fffb168-f9d2-48ae-9cb0-103102371bd1\",\"type\":\"AdaptiveTicker\"},{\"id\":\"f28e2a1f-0cf3-418b-89fd-1c168ec728b6\",\"type\":\"AdaptiveTicker\"},{\"id\":\"a800a1b8-7c44-41cd-b222-c10fe62db8a2\",\"type\":\"DaysTicker\"},{\"id\":\"adaaf69d-a839-4566-8986-e9170f3a3bf5\",\"type\":\"DaysTicker\"},{\"id\":\"d77b76b2-859b-475f-abe3-92bc88d80b5a\",\"type\":\"DaysTicker\"},{\"id\":\"5376be90-8084-4015-8625-f9886de8664c\",\"type\":\"DaysTicker\"},{\"id\":\"56c1e3dd-e076-41f8-8b2a-c1ae528d8619\",\"type\":\"MonthsTicker\"},{\"id\":\"e5260b89-96c4-48f7-b709-af1d9e3105ae\",\"type\":\"MonthsTicker\"},{\"id\":\"7f2f3bde-88b1-437e-bd3a-14c5dff52df8\",\"type\":\"MonthsTicker\"},{\"id\":\"025fb6fe-f8ae-4d21-a9e9-a5d1e228df81\",\"type\":\"MonthsTicker\"},{\"id\":\"be630e58-962a-4925-adbc-921f67a7c805\",\"type\":\"YearsTicker\"}]},\"id\":\"b36fb00c-8e3e-460d-9e96-a659af48145f\",\"type\":\"DatetimeTicker\"},{\"attributes\":{\"axis_label\":\"\\uc6d4\\ubcc4\",\"formatter\":{\"id\":\"c6972aca-5f22-43ce-9c7d-b7cb79489ba9\",\"type\":\"DatetimeTickFormatter\"},\"plot\":{\"id\":\"e9d02a60-fb57-4d73-8501-6a1f0355d0ba\",\"subtype\":\"Figure\",\"type\":\"Plot\"},\"ticker\":{\"id\":\"b36fb00c-8e3e-460d-9e96-a659af48145f\",\"type\":\"DatetimeTicker\"}},\"id\":\"da6cf672-83dd-4508-a876-91f195a6ab1b\",\"type\":\"DatetimeAxis\"},{\"attributes\":{\"grid_line_alpha\":{\"value\":0.3},\"plot\":{\"id\":\"e9d02a60-fb57-4d73-8501-6a1f0355d0ba\",\"subtype\":\"Figure\",\"type\":\"Plot\"},\"ticker\":{\"id\":\"b36fb00c-8e3e-460d-9e96-a659af48145f\",\"type\":\"DatetimeTicker\"}},\"id\":\"641afdf6-c640-42df-bfba-18c97bfa6df4\",\"type\":\"Grid\"},{\"attributes\":{\"axis_label\":\"\\ub313\\uae00\\uc218 \\ud3c9\\uade0\",\"formatter\":{\"id\":\"8f610f2e-5c61-498a-b82c-8f09c3747166\",\"type\":\"BasicTickFormatter\"},\"plot\":{\"id\":\"e9d02a60-fb57-4d73-8501-6a1f0355d0ba\",\"subtype\":\"Figure\",\"type\":\"Plot\"},\"ticker\":{\"id\":\"a6523359-81a0-449f-b952-a5f20c4b4ed9\",\"type\":\"BasicTicker\"}},\"id\":\"3adf842e-90ce-4a08-be0c-9312b65f46b8\",\"type\":\"LinearAxis\"}],\"root_ids\":[\"e9d02a60-fb57-4d73-8501-6a1f0355d0ba\"]},\"title\":\"Bokeh Application\",\"version\":\"0.12.13\"}};\n",
       "  var render_items = [{\"docid\":\"bf44b7c4-226b-492e-9995-6a8d338c619b\",\"elementid\":\"d422d7ad-8a44-4de1-9a04-090efc611d7b\",\"modelid\":\"e9d02a60-fb57-4d73-8501-6a1f0355d0ba\"}];\n",
       "  root.Bokeh.embed.embed_items_notebook(docs_json, render_items);\n",
       "\n",
       "  }\n",
       "  if (root.Bokeh !== undefined) {\n",
       "    embed_document(root);\n",
       "  } else {\n",
       "    var attempts = 0;\n",
       "    var timer = setInterval(function(root) {\n",
       "      if (root.Bokeh !== undefined) {\n",
       "        embed_document(root);\n",
       "        clearInterval(timer);\n",
       "      }\n",
       "      attempts++;\n",
       "      if (attempts > 100) {\n",
       "        console.log(\"Bokeh: ERROR: Unable to run BokehJS code because BokehJS library is missing\")\n",
       "        clearInterval(timer);\n",
       "      }\n",
       "    }, 10, root)\n",
       "  }\n",
       "})(window);"
      ],
      "application/vnd.bokehjs_exec.v0+json": ""
     },
     "metadata": {
      "application/vnd.bokehjs_exec.v0+json": {
       "id": "e9d02a60-fb57-4d73-8501-6a1f0355d0ba"
      }
     },
     "output_type": "display_data"
    }
   ],
   "source": [
    "p1 = figure(plot_width=750, plot_height=500,x_axis_type='datetime', title=\"월별 댓글수 합산\")\n",
    "p1.grid.grid_line_alpha=0.3\n",
    "p1.xaxis.axis_label = '월별'\n",
    "p1.yaxis.axis_label = '댓글수 평균'\n",
    "p1.line(unstacked_comment_sum['datetime'], unstacked_comment_sum['chosun'], color='#f90202', legend='조선일보',line_width=2)\n",
    "p1.line(unstacked_comment_sum['datetime'], unstacked_comment_sum['joins'], color='#E2A00B', legend='중앙일보',line_width=2)\n",
    "p1.line(unstacked_comment_sum['datetime'], unstacked_comment_sum['yonhap'], color='#1cefef', legend='연합뉴스',line_width=2, line_dash='dashed')\n",
    "p1.line(unstacked_comment_sum['datetime'], unstacked_comment_sum['ohmynews'], color='#ff3300', legend='오마이뉴스',line_width=2, line_dash='dashed')\n",
    "p1.line(unstacked_comment_sum['datetime'], unstacked_comment_sum['hani'], color='#01996e', legend='한겨레',line_width=2)\n",
    "p1.line(unstacked_comment_sum['datetime'], unstacked_comment_sum['kh'], color='#18407D', legend='경향신문',line_width=2)\n",
    "p1.line(unstacked_comment_sum['datetime'], unstacked_comment_sum['jtbc'], color='#F48179', legend='JTBC',line_width=2, line_dash='dotted')\n",
    "p1.line(unstacked_comment_sum['datetime'], unstacked_comment_sum['sbs'], color='#1D3A6E', legend='SBS',line_width=2, line_dash='dotted')\n",
    "\n",
    "show(p1)"
   ]
  },
  {
   "cell_type": "code",
   "execution_count": 26,
   "metadata": {},
   "outputs": [
    {
     "data": {
      "text/plain": [
       "media\n",
       "sbs         39.910771\n",
       "ohmynews    34.891542\n",
       "hani        31.157711\n",
       "joins       30.369802\n",
       "jtbc        29.903132\n",
       "chosun      28.433002\n",
       "kh          23.543017\n",
       "yonhap       8.592123\n",
       "mbc          5.711449\n",
       "donga        5.679843\n",
       "edaily       5.337414\n",
       "kbs          4.869830\n",
       "mk           4.318004\n",
       "Name: tot_all_comment, dtype: float64"
      ]
     },
     "execution_count": 26,
     "metadata": {},
     "output_type": "execute_result"
    }
   ],
   "source": [
    "all_comment_mean = df_year.groupby('media')['tot_all_comment'].mean()\n",
    "sort_comment_mean=all_comment_mean.sort_values(ascending=False)\n",
    "sort_comment_mean"
   ]
  },
  {
   "cell_type": "code",
   "execution_count": 27,
   "metadata": {},
   "outputs": [],
   "source": [
    "comment_group_mean=df_year.groupby([pd.Grouper(key='datetime', freq='M'), 'media'])['tot_all_comment'].mean()\n",
    "unstacked_comment_mean=comment_group_mean.unstack(level=-1)\n",
    "unstacked_comment_mean.reset_index(level=0, inplace=True)"
   ]
  },
  {
   "cell_type": "code",
   "execution_count": 28,
   "metadata": {},
   "outputs": [
    {
     "data": {
      "text/html": [
       "\n",
       "<div class=\"bk-root\">\n",
       "    <div class=\"bk-plotdiv\" id=\"256980db-2167-4f6f-9a78-ef27ce704017\"></div>\n",
       "</div>"
      ]
     },
     "metadata": {},
     "output_type": "display_data"
    },
    {
     "data": {
      "application/javascript": [
       "(function(root) {\n",
       "  function embed_document(root) {\n",
       "    \n",
       "  var docs_json = {\"e5fdb503-947c-449a-89db-3fa1a8e33d94\":{\"roots\":{\"references\":[{\"attributes\":{\"callback\":null},\"id\":\"46bbc810-f2fc-44d0-9229-cd0a30fbd2a3\",\"type\":\"DataRange1d\"},{\"attributes\":{\"label\":{\"value\":\"\\uc5f0\\ud569\\ub274\\uc2a4\"},\"renderers\":[{\"id\":\"a786b731-5de4-4611-bdf4-fd5955f2a30b\",\"type\":\"GlyphRenderer\"}]},\"id\":\"465382a7-58bb-499f-af9e-ce23a39f0f29\",\"type\":\"LegendItem\"},{\"attributes\":{\"callback\":null,\"column_names\":[\"x\",\"y\"],\"data\":{\"x\":{\"__ndarray__\":\"AAAAwkFQdUIAAICu6Vl1QgAAwADkY3VCAAAAU95tdUIAAIA/hnd1QgAAwJGAgXVCAABAfiiLdUIAAIDQIpV1QgAAwCIdn3VCAADAQyCodUIAAACWGrJ1QgAAgILCu3VCAADA1LzFdUIAAEDBZM91QgAAgBNf2XVCAADAZVnjdUIAAEBSAe11QgAAgKT79nVCAAAAkaMAdkIAAEDjnQp2Qg==\",\"dtype\":\"float64\",\"shape\":[20]},\"y\":{\"__ndarray__\":\"rt6XGrOPPEC0+lJBq28+QNtqjO71SEBAwWfVN5SeQEDp1DzIXX9FQCNU8bYrwkdAXwWzpBzoRkAU9q5mYQRHQIoi5RRFSkZANVTfEOoCRUADx2a1qsFAQBKvIvEqUkNAWc1geX3TRkA93tWJbOI9QF4PKFbO0DtAX3suphHzOUAnaIN/W446QNt7hZFgYzdA3A0zhrjdOECN2zfpwtE4QA==\",\"dtype\":\"float64\",\"shape\":[20]}}},\"id\":\"f540c987-6d26-424f-b73f-a578750e3e4a\",\"type\":\"ColumnDataSource\"},{\"attributes\":{\"line_alpha\":0.1,\"line_color\":\"#1f77b4\",\"line_dash\":[6],\"line_width\":2,\"x\":{\"field\":\"x\"},\"y\":{\"field\":\"y\"}},\"id\":\"fd15de14-c062-4990-8699-42f6a311c700\",\"type\":\"Line\"},{\"attributes\":{\"callback\":null,\"column_names\":[\"x\",\"y\"],\"data\":{\"x\":{\"__ndarray__\":\"AAAAwkFQdUIAAICu6Vl1QgAAwADkY3VCAAAAU95tdUIAAIA/hnd1QgAAwJGAgXVCAABAfiiLdUIAAIDQIpV1QgAAwCIdn3VCAADAQyCodUIAAACWGrJ1QgAAgILCu3VCAADA1LzFdUIAAEDBZM91QgAAgBNf2XVCAADAZVnjdUIAAEBSAe11QgAAgKT79nVCAAAAkaMAdkIAAEDjnQp2Qg==\",\"dtype\":\"float64\",\"shape\":[20]},\"y\":{\"__ndarray__\":\"dzIf0p0MN0CXP5AxdPkzQIspqMZiCj5AhT62NCZhPUC3DsTKSXVAQLExn4/43kVAUKpWEBg7R0AqdVhl5wFJQA9s9K7I3ERAHRNbVvq3Q0C5vvScyz9CQAzo4e38BUFAdxD6FshDQkA90aj5V3s4QCHnneCu6jpAKksbOUhMNEBFKIPFrIM1QHk0f7DxaDBAcosnt3hyM0AVj3U4xeM0QA==\",\"dtype\":\"float64\",\"shape\":[20]}}},\"id\":\"9407e334-ddd7-4402-a0d6-7aafd55e27f6\",\"type\":\"ColumnDataSource\"},{\"attributes\":{\"callback\":null,\"column_names\":[\"x\",\"y\"],\"data\":{\"x\":{\"__ndarray__\":\"AAAAwkFQdUIAAICu6Vl1QgAAwADkY3VCAAAAU95tdUIAAIA/hnd1QgAAwJGAgXVCAABAfiiLdUIAAIDQIpV1QgAAwCIdn3VCAADAQyCodUIAAACWGrJ1QgAAgILCu3VCAADA1LzFdUIAAEDBZM91QgAAgBNf2XVCAADAZVnjdUIAAEBSAe11QgAAgKT79nVCAAAAkaMAdkIAAEDjnQp2Qg==\",\"dtype\":\"float64\",\"shape\":[20]},\"y\":{\"__ndarray__\":\"V3Ri9K0JMEDsOT87/qswQKjhspMpuDZAsFsktmK0N0BaUg6IDPc/QE6XYAOBw0FAKEnphmXoQkAj7ViBMMo/QM97VZTlIkFA7EPpifRxPUB2QEU5V4w8QL21/m/1hDZAI61LGgi+NUAPmy3RiNMxQBR5OqMmQzFAoD/uPRW9LEAtyJbB4OcyQCNdw7KJTDJAQkcFvriaMUBPN0FuDGccQA==\",\"dtype\":\"float64\",\"shape\":[20]}}},\"id\":\"065e9ed3-29a2-491e-8156-cc7228a285d9\",\"type\":\"ColumnDataSource\"},{\"attributes\":{\"line_color\":\"#ff3300\",\"line_dash\":[6],\"line_width\":2,\"x\":{\"field\":\"x\"},\"y\":{\"field\":\"y\"}},\"id\":\"f892d1d5-ea63-4888-9aff-8a64d5c98edd\",\"type\":\"Line\"},{\"attributes\":{\"label\":{\"value\":\"\\uc624\\ub9c8\\uc774\\ub274\\uc2a4\"},\"renderers\":[{\"id\":\"a6b1b972-e655-458a-91ed-8050e136f747\",\"type\":\"GlyphRenderer\"}]},\"id\":\"d662c05e-bd4d-4406-b5e3-91c81de2f04d\",\"type\":\"LegendItem\"},{\"attributes\":{\"data_source\":{\"id\":\"f540c987-6d26-424f-b73f-a578750e3e4a\",\"type\":\"ColumnDataSource\"},\"glyph\":{\"id\":\"f892d1d5-ea63-4888-9aff-8a64d5c98edd\",\"type\":\"Line\"},\"hover_glyph\":null,\"muted_glyph\":null,\"nonselection_glyph\":{\"id\":\"fd15de14-c062-4990-8699-42f6a311c700\",\"type\":\"Line\"},\"selection_glyph\":null,\"view\":{\"id\":\"2c706fd0-f3f6-485d-ad71-c5a8faed7037\",\"type\":\"CDSView\"}},\"id\":\"a6b1b972-e655-458a-91ed-8050e136f747\",\"type\":\"GlyphRenderer\"},{\"attributes\":{\"source\":{\"id\":\"f540c987-6d26-424f-b73f-a578750e3e4a\",\"type\":\"ColumnDataSource\"}},\"id\":\"2c706fd0-f3f6-485d-ad71-c5a8faed7037\",\"type\":\"CDSView\"},{\"attributes\":{\"line_alpha\":0.1,\"line_color\":\"#1f77b4\",\"line_width\":2,\"x\":{\"field\":\"x\"},\"y\":{\"field\":\"y\"}},\"id\":\"01605359-f482-4183-8d93-c64d27966d63\",\"type\":\"Line\"},{\"attributes\":{\"line_color\":\"#01996e\",\"line_width\":2,\"x\":{\"field\":\"x\"},\"y\":{\"field\":\"y\"}},\"id\":\"69c621d4-4b90-4ce1-97b3-20ee72ad1440\",\"type\":\"Line\"},{\"attributes\":{\"line_alpha\":0.1,\"line_color\":\"#1f77b4\",\"line_width\":2,\"x\":{\"field\":\"x\"},\"y\":{\"field\":\"y\"}},\"id\":\"882bae8e-47cd-4c68-875e-481231c883c8\",\"type\":\"Line\"},{\"attributes\":{\"label\":{\"value\":\"\\ud55c\\uaca8\\ub808\"},\"renderers\":[{\"id\":\"fc0daaa5-de5d-468a-b9b3-cc6525defbe0\",\"type\":\"GlyphRenderer\"}]},\"id\":\"558bd5cc-d931-4282-aa82-2ec9ebc6cad7\",\"type\":\"LegendItem\"},{\"attributes\":{\"data_source\":{\"id\":\"9407e334-ddd7-4402-a0d6-7aafd55e27f6\",\"type\":\"ColumnDataSource\"},\"glyph\":{\"id\":\"69c621d4-4b90-4ce1-97b3-20ee72ad1440\",\"type\":\"Line\"},\"hover_glyph\":null,\"muted_glyph\":null,\"nonselection_glyph\":{\"id\":\"882bae8e-47cd-4c68-875e-481231c883c8\",\"type\":\"Line\"},\"selection_glyph\":null,\"view\":{\"id\":\"a2651a75-1059-4d84-98cb-4baf7eeb5a5d\",\"type\":\"CDSView\"}},\"id\":\"fc0daaa5-de5d-468a-b9b3-cc6525defbe0\",\"type\":\"GlyphRenderer\"},{\"attributes\":{\"below\":[{\"id\":\"7cdf6351-2301-4e1c-9752-8c22d743b5fc\",\"type\":\"DatetimeAxis\"}],\"left\":[{\"id\":\"21ef7bc9-6b76-4fe5-bfdb-9a2321359216\",\"type\":\"LinearAxis\"}],\"plot_height\":500,\"plot_width\":750,\"renderers\":[{\"id\":\"7cdf6351-2301-4e1c-9752-8c22d743b5fc\",\"type\":\"DatetimeAxis\"},{\"id\":\"857cc3bb-9aa7-42e1-b526-b36b75ad869a\",\"type\":\"Grid\"},{\"id\":\"21ef7bc9-6b76-4fe5-bfdb-9a2321359216\",\"type\":\"LinearAxis\"},{\"id\":\"e0820b68-466e-4779-a00e-dc813024d690\",\"type\":\"Grid\"},{\"id\":\"95749bbd-d80b-4ded-9c9c-94ce10838257\",\"type\":\"BoxAnnotation\"},{\"id\":\"ffab4064-b277-41ea-8b09-08b2d90e6177\",\"type\":\"Legend\"},{\"id\":\"48fbb034-1f00-463b-8043-91481bcd6e52\",\"type\":\"GlyphRenderer\"},{\"id\":\"b3344d37-8c82-4985-9275-cf89ebbcc89f\",\"type\":\"GlyphRenderer\"},{\"id\":\"a786b731-5de4-4611-bdf4-fd5955f2a30b\",\"type\":\"GlyphRenderer\"},{\"id\":\"a6b1b972-e655-458a-91ed-8050e136f747\",\"type\":\"GlyphRenderer\"},{\"id\":\"fc0daaa5-de5d-468a-b9b3-cc6525defbe0\",\"type\":\"GlyphRenderer\"},{\"id\":\"d421d936-6af5-403c-af2e-ed7a77cc9aa2\",\"type\":\"GlyphRenderer\"},{\"id\":\"77a458e4-7497-48ea-8a5b-ffddafc66841\",\"type\":\"GlyphRenderer\"},{\"id\":\"4f94461f-da4f-4148-9a2f-eb5e985a9d65\",\"type\":\"GlyphRenderer\"}],\"title\":{\"id\":\"7515e136-f63c-4a26-bddd-c71acd2b070e\",\"type\":\"Title\"},\"toolbar\":{\"id\":\"c44e3bcc-f0e8-415c-8398-6a4727023dd1\",\"type\":\"Toolbar\"},\"x_range\":{\"id\":\"46bbc810-f2fc-44d0-9229-cd0a30fbd2a3\",\"type\":\"DataRange1d\"},\"x_scale\":{\"id\":\"4f22fca4-b5e3-4327-9f18-aa614f8254b2\",\"type\":\"LinearScale\"},\"y_range\":{\"id\":\"e0b95ea6-8bb7-453d-b461-428d03a3208c\",\"type\":\"DataRange1d\"},\"y_scale\":{\"id\":\"80dfe056-c57a-4ced-8b7f-ee605a2c91a9\",\"type\":\"LinearScale\"}},\"id\":\"6bf89d2c-c5aa-4171-9934-43a79b9b9fad\",\"subtype\":\"Figure\",\"type\":\"Plot\"},{\"attributes\":{\"source\":{\"id\":\"9407e334-ddd7-4402-a0d6-7aafd55e27f6\",\"type\":\"ColumnDataSource\"}},\"id\":\"a2651a75-1059-4d84-98cb-4baf7eeb5a5d\",\"type\":\"CDSView\"},{\"attributes\":{\"callback\":null,\"column_names\":[\"x\",\"y\"],\"data\":{\"x\":{\"__ndarray__\":\"AAAAwkFQdUIAAICu6Vl1QgAAwADkY3VCAAAAU95tdUIAAIA/hnd1QgAAwJGAgXVCAABAfiiLdUIAAIDQIpV1QgAAwCIdn3VCAADAQyCodUIAAACWGrJ1QgAAgILCu3VCAADA1LzFdUIAAEDBZM91QgAAgBNf2XVCAADAZVnjdUIAAEBSAe11QgAAgKT79nVCAAAAkaMAdkIAAEDjnQp2Qg==\",\"dtype\":\"float64\",\"shape\":[20]},\"y\":{\"__ndarray__\":\"85KjCvCXRkCc8MsxbOY1QKaCVl8qyDhARIZ7FcyyQUDBQIRG06YwQAeQx+rIVTtAewxEQqZTP0DXwSI0TjVDQKZq8wQo7kBALJR8sKS+OkC5JoGx0A03QMShNSu7hkVAIXF8ItluRkD+NE70PzI/QFz7UQLXfjtAP9PW+Lv5M0Dbtm3btm03QHqHGzXHPTpAV5IWCEVBO0BC/podtQgzQA==\",\"dtype\":\"float64\",\"shape\":[20]}}},\"id\":\"bed6b784-dd56-49b3-b8b5-419b28a2a555\",\"type\":\"ColumnDataSource\"},{\"attributes\":{\"line_alpha\":0.1,\"line_color\":\"#1f77b4\",\"line_width\":2,\"x\":{\"field\":\"x\"},\"y\":{\"field\":\"y\"}},\"id\":\"0b3b704f-af86-4555-ac63-155277bbd692\",\"type\":\"Line\"},{\"attributes\":{\"line_alpha\":0.1,\"line_color\":\"#1f77b4\",\"line_dash\":[2,4],\"line_width\":2,\"x\":{\"field\":\"x\"},\"y\":{\"field\":\"y\"}},\"id\":\"d6a4efaf-8069-4449-99ac-1e8b7e9f00b2\",\"type\":\"Line\"},{\"attributes\":{\"plot\":null,\"text\":\"\\uc6d4\\ubcc4 \\uae30\\uc0ac\\ub2f9 \\ub313\\uae00\\uc218 \\ud3c9\\uade0\"},\"id\":\"7515e136-f63c-4a26-bddd-c71acd2b070e\",\"type\":\"Title\"},{\"attributes\":{\"line_color\":\"#18407D\",\"line_width\":2,\"x\":{\"field\":\"x\"},\"y\":{\"field\":\"y\"}},\"id\":\"8b172b29-4f35-41c8-a600-d31cfb9c5aed\",\"type\":\"Line\"},{\"attributes\":{},\"id\":\"4f22fca4-b5e3-4327-9f18-aa614f8254b2\",\"type\":\"LinearScale\"},{\"attributes\":{},\"id\":\"a61d9a5c-ae54-4cb6-ae1f-81911d35e6fe\",\"type\":\"BasicTickFormatter\"},{\"attributes\":{\"label\":{\"value\":\"\\uacbd\\ud5a5\\uc2e0\\ubb38\"},\"renderers\":[{\"id\":\"d421d936-6af5-403c-af2e-ed7a77cc9aa2\",\"type\":\"GlyphRenderer\"}]},\"id\":\"ca2b6238-8279-4065-a596-cf6010fa5bd3\",\"type\":\"LegendItem\"},{\"attributes\":{\"active_drag\":\"auto\",\"active_inspect\":\"auto\",\"active_scroll\":\"auto\",\"active_tap\":\"auto\",\"tools\":[{\"id\":\"39e852a3-7f2e-42fe-8e07-e89193381765\",\"type\":\"PanTool\"},{\"id\":\"59e02b3e-58bc-422e-9211-d3c559a721c6\",\"type\":\"WheelZoomTool\"},{\"id\":\"0e448da4-e1c7-44f7-8c66-618555fbada1\",\"type\":\"BoxZoomTool\"},{\"id\":\"eed53595-5eb8-461c-a60c-83e85040c73e\",\"type\":\"SaveTool\"},{\"id\":\"b5020812-eb10-4b36-8a58-12a3d1e76eb9\",\"type\":\"ResetTool\"},{\"id\":\"7d1813a1-3ef7-4854-bcdc-f8d02117723c\",\"type\":\"HelpTool\"}]},\"id\":\"c44e3bcc-f0e8-415c-8398-6a4727023dd1\",\"type\":\"Toolbar\"},{\"attributes\":{\"data_source\":{\"id\":\"065e9ed3-29a2-491e-8156-cc7228a285d9\",\"type\":\"ColumnDataSource\"},\"glyph\":{\"id\":\"8b172b29-4f35-41c8-a600-d31cfb9c5aed\",\"type\":\"Line\"},\"hover_glyph\":null,\"muted_glyph\":null,\"nonselection_glyph\":{\"id\":\"01605359-f482-4183-8d93-c64d27966d63\",\"type\":\"Line\"},\"selection_glyph\":null,\"view\":{\"id\":\"ba5213dc-9579-4244-a2ca-0656548923f0\",\"type\":\"CDSView\"}},\"id\":\"d421d936-6af5-403c-af2e-ed7a77cc9aa2\",\"type\":\"GlyphRenderer\"},{\"attributes\":{},\"id\":\"80dfe056-c57a-4ced-8b7f-ee605a2c91a9\",\"type\":\"LinearScale\"},{\"attributes\":{\"grid_line_alpha\":{\"value\":0.3},\"plot\":{\"id\":\"6bf89d2c-c5aa-4171-9934-43a79b9b9fad\",\"subtype\":\"Figure\",\"type\":\"Plot\"},\"ticker\":{\"id\":\"5f1e8933-b365-4648-aee1-2c3ba484daa2\",\"type\":\"DatetimeTicker\"}},\"id\":\"857cc3bb-9aa7-42e1-b526-b36b75ad869a\",\"type\":\"Grid\"},{\"attributes\":{\"source\":{\"id\":\"065e9ed3-29a2-491e-8156-cc7228a285d9\",\"type\":\"ColumnDataSource\"}},\"id\":\"ba5213dc-9579-4244-a2ca-0656548923f0\",\"type\":\"CDSView\"},{\"attributes\":{\"axis_label\":\"\\uc6d4\\ubcc4\",\"formatter\":{\"id\":\"a5b1ee64-181c-4b09-8172-4a0f08d944b5\",\"type\":\"DatetimeTickFormatter\"},\"plot\":{\"id\":\"6bf89d2c-c5aa-4171-9934-43a79b9b9fad\",\"subtype\":\"Figure\",\"type\":\"Plot\"},\"ticker\":{\"id\":\"5f1e8933-b365-4648-aee1-2c3ba484daa2\",\"type\":\"DatetimeTicker\"}},\"id\":\"7cdf6351-2301-4e1c-9752-8c22d743b5fc\",\"type\":\"DatetimeAxis\"},{\"attributes\":{\"callback\":null,\"column_names\":[\"x\",\"y\"],\"data\":{\"x\":{\"__ndarray__\":\"AAAAwkFQdUIAAICu6Vl1QgAAwADkY3VCAAAAU95tdUIAAIA/hnd1QgAAwJGAgXVCAABAfiiLdUIAAIDQIpV1QgAAwCIdn3VCAADAQyCodUIAAACWGrJ1QgAAgILCu3VCAADA1LzFdUIAAEDBZM91QgAAgBNf2XVCAADAZVnjdUIAAEBSAe11QgAAgKT79nVCAAAAkaMAdkIAAEDjnQp2Qg==\",\"dtype\":\"float64\",\"shape\":[20]},\"y\":{\"__ndarray__\":\"aG4NPmFGNUBsGOkCr38rQHjMrI6mATFAt88nFROhNkAWxLfCKodDQKEvaU/oy0lAY31orA/NO0BjGC2SW+8/QOeTkYQIRUdA2G766lRySEAaQs2lbqhKQEO2RiGIeFBA6fB4VRMqQUCarqdUcBxPQBrKtATZ/EpAFatTsToVR0ATkPsyh2FSQK0Oo0zFT1NAtqRIx2UeRUB9ONoNnXkiQA==\",\"dtype\":\"float64\",\"shape\":[20]}}},\"id\":\"3af17aa8-0c64-4b19-8604-eb92fb178035\",\"type\":\"ColumnDataSource\"},{\"attributes\":{\"num_minor_ticks\":5,\"tickers\":[{\"id\":\"d7312fe4-3c24-4c34-a216-c3249f8fdd8f\",\"type\":\"AdaptiveTicker\"},{\"id\":\"38ce1dd4-e863-4fe3-bbbb-8b79388e1fbc\",\"type\":\"AdaptiveTicker\"},{\"id\":\"7a5ebc30-b51c-47b4-b17b-8b7309754967\",\"type\":\"AdaptiveTicker\"},{\"id\":\"3f5c8bee-480d-433f-ad26-205f2ed7aaad\",\"type\":\"DaysTicker\"},{\"id\":\"3025610a-b876-4bf2-9033-a3d440ec34db\",\"type\":\"DaysTicker\"},{\"id\":\"c42b17ba-e7cb-4645-912f-6cef8fd3a97c\",\"type\":\"DaysTicker\"},{\"id\":\"436a7672-74a0-4771-9544-431f92f1ddb3\",\"type\":\"DaysTicker\"},{\"id\":\"e28b67de-3e44-46ab-b6d2-b9b9d738710d\",\"type\":\"MonthsTicker\"},{\"id\":\"0e3b3aca-2d31-4bfc-a56c-8685385abd3a\",\"type\":\"MonthsTicker\"},{\"id\":\"0dccaac7-c9f9-4f14-b159-828233642a76\",\"type\":\"MonthsTicker\"},{\"id\":\"7d83b6f1-0317-4a8e-b825-df08a39a6cee\",\"type\":\"MonthsTicker\"},{\"id\":\"eeabfd26-ac5a-4cec-ae87-1c74905912c0\",\"type\":\"YearsTicker\"}]},\"id\":\"5f1e8933-b365-4648-aee1-2c3ba484daa2\",\"type\":\"DatetimeTicker\"},{\"attributes\":{\"line_alpha\":0.1,\"line_color\":\"#1f77b4\",\"line_dash\":[2,4],\"line_width\":2,\"x\":{\"field\":\"x\"},\"y\":{\"field\":\"y\"}},\"id\":\"0bacb291-c0f8-4454-be1c-d3a446fb346a\",\"type\":\"Line\"},{\"attributes\":{\"axis_label\":\"\\uae30\\uc0ac\\ub2f9 \\ub313\\uae00\\uc218 \\ud3c9\\uade0\",\"formatter\":{\"id\":\"a61d9a5c-ae54-4cb6-ae1f-81911d35e6fe\",\"type\":\"BasicTickFormatter\"},\"plot\":{\"id\":\"6bf89d2c-c5aa-4171-9934-43a79b9b9fad\",\"subtype\":\"Figure\",\"type\":\"Plot\"},\"ticker\":{\"id\":\"239a21a9-0cf7-45c6-adc4-75d23b463dea\",\"type\":\"BasicTicker\"}},\"id\":\"21ef7bc9-6b76-4fe5-bfdb-9a2321359216\",\"type\":\"LinearAxis\"},{\"attributes\":{\"line_color\":\"#F48179\",\"line_dash\":[2,4],\"line_width\":2,\"x\":{\"field\":\"x\"},\"y\":{\"field\":\"y\"}},\"id\":\"be1f6d70-9ea8-4302-b3d0-81327bb69cc9\",\"type\":\"Line\"},{\"attributes\":{},\"id\":\"239a21a9-0cf7-45c6-adc4-75d23b463dea\",\"type\":\"BasicTicker\"},{\"attributes\":{\"label\":{\"value\":\"JTBC\"},\"renderers\":[{\"id\":\"77a458e4-7497-48ea-8a5b-ffddafc66841\",\"type\":\"GlyphRenderer\"}]},\"id\":\"a1e2147f-7dc1-4cc1-96d6-d003dc611032\",\"type\":\"LegendItem\"},{\"attributes\":{\"dimension\":1,\"grid_line_alpha\":{\"value\":0.3},\"plot\":{\"id\":\"6bf89d2c-c5aa-4171-9934-43a79b9b9fad\",\"subtype\":\"Figure\",\"type\":\"Plot\"},\"ticker\":{\"id\":\"239a21a9-0cf7-45c6-adc4-75d23b463dea\",\"type\":\"BasicTicker\"}},\"id\":\"e0820b68-466e-4779-a00e-dc813024d690\",\"type\":\"Grid\"},{\"attributes\":{\"data_source\":{\"id\":\"bed6b784-dd56-49b3-b8b5-419b28a2a555\",\"type\":\"ColumnDataSource\"},\"glyph\":{\"id\":\"be1f6d70-9ea8-4302-b3d0-81327bb69cc9\",\"type\":\"Line\"},\"hover_glyph\":null,\"muted_glyph\":null,\"nonselection_glyph\":{\"id\":\"d6a4efaf-8069-4449-99ac-1e8b7e9f00b2\",\"type\":\"Line\"},\"selection_glyph\":null,\"view\":{\"id\":\"3a58a492-561d-495a-8626-f945aa8a5b01\",\"type\":\"CDSView\"}},\"id\":\"77a458e4-7497-48ea-8a5b-ffddafc66841\",\"type\":\"GlyphRenderer\"},{\"attributes\":{\"line_color\":\"#f90202\",\"line_width\":2,\"x\":{\"field\":\"x\"},\"y\":{\"field\":\"y\"}},\"id\":\"b0cf1e82-b33d-4c5d-a214-83de71dc4901\",\"type\":\"Line\"},{\"attributes\":{\"callback\":null,\"column_names\":[\"x\",\"y\"],\"data\":{\"x\":{\"__ndarray__\":\"AAAAwkFQdUIAAICu6Vl1QgAAwADkY3VCAAAAU95tdUIAAIA/hnd1QgAAwJGAgXVCAABAfiiLdUIAAIDQIpV1QgAAwCIdn3VCAADAQyCodUIAAACWGrJ1QgAAgILCu3VCAADA1LzFdUIAAEDBZM91QgAAgBNf2XVCAADAZVnjdUIAAEBSAe11QgAAgKT79nVCAAAAkaMAdkIAAEDjnQp2Qg==\",\"dtype\":\"float64\",\"shape\":[20]},\"y\":{\"__ndarray__\":\"Kyn9PeEUOUCM2+AtFR83QE6zhbnbHEBArj3HyFXvQEB+gSn8AtM+QJSN7R0wFjtAZcuJerhbO0ACIBotGe47QJ4FTmxBakRADEQm3mIyOEA+Rj+rIdY2QF2Uo2rnuT5Aa8hkLbv0QEAcOyDiVqQ+QEDYjEbIu0BAB2LKih18NECJc4iVK888QGZ6Svz1ZDxAAkLjweycPEAHbqZqbxckQA==\",\"dtype\":\"float64\",\"shape\":[20]}}},\"id\":\"bcf89596-1b24-4495-88e1-b6c4657c00da\",\"type\":\"ColumnDataSource\"},{\"attributes\":{\"source\":{\"id\":\"bed6b784-dd56-49b3-b8b5-419b28a2a555\",\"type\":\"ColumnDataSource\"}},\"id\":\"3a58a492-561d-495a-8626-f945aa8a5b01\",\"type\":\"CDSView\"},{\"attributes\":{\"bottom_units\":\"screen\",\"fill_alpha\":{\"value\":0.5},\"fill_color\":{\"value\":\"lightgrey\"},\"left_units\":\"screen\",\"level\":\"overlay\",\"line_alpha\":{\"value\":1.0},\"line_color\":{\"value\":\"black\"},\"line_dash\":[4,4],\"line_width\":{\"value\":2},\"plot\":null,\"render_mode\":\"css\",\"right_units\":\"screen\",\"top_units\":\"screen\"},\"id\":\"95749bbd-d80b-4ded-9c9c-94ce10838257\",\"type\":\"BoxAnnotation\"},{\"attributes\":{},\"id\":\"39e852a3-7f2e-42fe-8e07-e89193381765\",\"type\":\"PanTool\"},{\"attributes\":{\"line_color\":\"#1D3A6E\",\"line_dash\":[2,4],\"line_width\":2,\"x\":{\"field\":\"x\"},\"y\":{\"field\":\"y\"}},\"id\":\"81cc1f0d-3d41-412b-a4af-05cc06e023c6\",\"type\":\"Line\"},{\"attributes\":{\"data_source\":{\"id\":\"bcf89596-1b24-4495-88e1-b6c4657c00da\",\"type\":\"ColumnDataSource\"},\"glyph\":{\"id\":\"b0cf1e82-b33d-4c5d-a214-83de71dc4901\",\"type\":\"Line\"},\"hover_glyph\":null,\"muted_glyph\":null,\"nonselection_glyph\":{\"id\":\"0b3b704f-af86-4555-ac63-155277bbd692\",\"type\":\"Line\"},\"selection_glyph\":null,\"view\":{\"id\":\"8d54def5-5ebb-49cc-9995-4960e75d708f\",\"type\":\"CDSView\"}},\"id\":\"48fbb034-1f00-463b-8043-91481bcd6e52\",\"type\":\"GlyphRenderer\"},{\"attributes\":{\"label\":{\"value\":\"SBS\"},\"renderers\":[{\"id\":\"4f94461f-da4f-4148-9a2f-eb5e985a9d65\",\"type\":\"GlyphRenderer\"}]},\"id\":\"70e05063-f50d-4dcf-8b02-1e0511c70b42\",\"type\":\"LegendItem\"},{\"attributes\":{},\"id\":\"59e02b3e-58bc-422e-9211-d3c559a721c6\",\"type\":\"WheelZoomTool\"},{\"attributes\":{\"data_source\":{\"id\":\"3af17aa8-0c64-4b19-8604-eb92fb178035\",\"type\":\"ColumnDataSource\"},\"glyph\":{\"id\":\"81cc1f0d-3d41-412b-a4af-05cc06e023c6\",\"type\":\"Line\"},\"hover_glyph\":null,\"muted_glyph\":null,\"nonselection_glyph\":{\"id\":\"0bacb291-c0f8-4454-be1c-d3a446fb346a\",\"type\":\"Line\"},\"selection_glyph\":null,\"view\":{\"id\":\"c5083cc8-864f-4917-85ca-152fccdf3efa\",\"type\":\"CDSView\"}},\"id\":\"4f94461f-da4f-4148-9a2f-eb5e985a9d65\",\"type\":\"GlyphRenderer\"},{\"attributes\":{\"overlay\":{\"id\":\"95749bbd-d80b-4ded-9c9c-94ce10838257\",\"type\":\"BoxAnnotation\"}},\"id\":\"0e448da4-e1c7-44f7-8c66-618555fbada1\",\"type\":\"BoxZoomTool\"},{\"attributes\":{\"source\":{\"id\":\"3af17aa8-0c64-4b19-8604-eb92fb178035\",\"type\":\"ColumnDataSource\"}},\"id\":\"c5083cc8-864f-4917-85ca-152fccdf3efa\",\"type\":\"CDSView\"},{\"attributes\":{},\"id\":\"eed53595-5eb8-461c-a60c-83e85040c73e\",\"type\":\"SaveTool\"},{\"attributes\":{},\"id\":\"b5020812-eb10-4b36-8a58-12a3d1e76eb9\",\"type\":\"ResetTool\"},{\"attributes\":{},\"id\":\"7d1813a1-3ef7-4854-bcdc-f8d02117723c\",\"type\":\"HelpTool\"},{\"attributes\":{},\"id\":\"a5b1ee64-181c-4b09-8172-4a0f08d944b5\",\"type\":\"DatetimeTickFormatter\"},{\"attributes\":{\"source\":{\"id\":\"bcf89596-1b24-4495-88e1-b6c4657c00da\",\"type\":\"ColumnDataSource\"}},\"id\":\"8d54def5-5ebb-49cc-9995-4960e75d708f\",\"type\":\"CDSView\"},{\"attributes\":{\"mantissas\":[1,2,5],\"max_interval\":500.0,\"num_minor_ticks\":0},\"id\":\"d7312fe4-3c24-4c34-a216-c3249f8fdd8f\",\"type\":\"AdaptiveTicker\"},{\"attributes\":{\"label\":{\"value\":\"\\uc870\\uc120\\uc77c\\ubcf4\"},\"renderers\":[{\"id\":\"48fbb034-1f00-463b-8043-91481bcd6e52\",\"type\":\"GlyphRenderer\"}]},\"id\":\"775f8223-59ee-49f7-938d-4bfd8320f7e2\",\"type\":\"LegendItem\"},{\"attributes\":{\"base\":60,\"mantissas\":[1,2,5,10,15,20,30],\"max_interval\":1800000.0,\"min_interval\":1000.0,\"num_minor_ticks\":0},\"id\":\"38ce1dd4-e863-4fe3-bbbb-8b79388e1fbc\",\"type\":\"AdaptiveTicker\"},{\"attributes\":{\"days\":[1,2,3,4,5,6,7,8,9,10,11,12,13,14,15,16,17,18,19,20,21,22,23,24,25,26,27,28,29,30,31]},\"id\":\"3f5c8bee-480d-433f-ad26-205f2ed7aaad\",\"type\":\"DaysTicker\"},{\"attributes\":{\"days\":[1,4,7,10,13,16,19,22,25,28]},\"id\":\"3025610a-b876-4bf2-9033-a3d440ec34db\",\"type\":\"DaysTicker\"},{\"attributes\":{\"base\":24,\"mantissas\":[1,2,4,6,8,12],\"max_interval\":43200000.0,\"min_interval\":3600000.0,\"num_minor_ticks\":0},\"id\":\"7a5ebc30-b51c-47b4-b17b-8b7309754967\",\"type\":\"AdaptiveTicker\"},{\"attributes\":{\"days\":[1,8,15,22]},\"id\":\"c42b17ba-e7cb-4645-912f-6cef8fd3a97c\",\"type\":\"DaysTicker\"},{\"attributes\":{\"days\":[1,15]},\"id\":\"436a7672-74a0-4771-9544-431f92f1ddb3\",\"type\":\"DaysTicker\"},{\"attributes\":{\"months\":[0,1,2,3,4,5,6,7,8,9,10,11]},\"id\":\"e28b67de-3e44-46ab-b6d2-b9b9d738710d\",\"type\":\"MonthsTicker\"},{\"attributes\":{\"months\":[0,2,4,6,8,10]},\"id\":\"0e3b3aca-2d31-4bfc-a56c-8685385abd3a\",\"type\":\"MonthsTicker\"},{\"attributes\":{\"months\":[0,4,8]},\"id\":\"0dccaac7-c9f9-4f14-b159-828233642a76\",\"type\":\"MonthsTicker\"},{\"attributes\":{\"months\":[0,6]},\"id\":\"7d83b6f1-0317-4a8e-b825-df08a39a6cee\",\"type\":\"MonthsTicker\"},{\"attributes\":{},\"id\":\"eeabfd26-ac5a-4cec-ae87-1c74905912c0\",\"type\":\"YearsTicker\"},{\"attributes\":{\"items\":[{\"id\":\"775f8223-59ee-49f7-938d-4bfd8320f7e2\",\"type\":\"LegendItem\"},{\"id\":\"e32a9644-9b70-49c0-9385-fc57df4ae286\",\"type\":\"LegendItem\"},{\"id\":\"465382a7-58bb-499f-af9e-ce23a39f0f29\",\"type\":\"LegendItem\"},{\"id\":\"d662c05e-bd4d-4406-b5e3-91c81de2f04d\",\"type\":\"LegendItem\"},{\"id\":\"558bd5cc-d931-4282-aa82-2ec9ebc6cad7\",\"type\":\"LegendItem\"},{\"id\":\"ca2b6238-8279-4065-a596-cf6010fa5bd3\",\"type\":\"LegendItem\"},{\"id\":\"a1e2147f-7dc1-4cc1-96d6-d003dc611032\",\"type\":\"LegendItem\"},{\"id\":\"70e05063-f50d-4dcf-8b02-1e0511c70b42\",\"type\":\"LegendItem\"}],\"plot\":{\"id\":\"6bf89d2c-c5aa-4171-9934-43a79b9b9fad\",\"subtype\":\"Figure\",\"type\":\"Plot\"}},\"id\":\"ffab4064-b277-41ea-8b09-08b2d90e6177\",\"type\":\"Legend\"},{\"attributes\":{\"callback\":null,\"column_names\":[\"x\",\"y\"],\"data\":{\"x\":{\"__ndarray__\":\"AAAAwkFQdUIAAICu6Vl1QgAAwADkY3VCAAAAU95tdUIAAIA/hnd1QgAAwJGAgXVCAABAfiiLdUIAAIDQIpV1QgAAwCIdn3VCAADAQyCodUIAAACWGrJ1QgAAgILCu3VCAADA1LzFdUIAAEDBZM91QgAAgBNf2XVCAADAZVnjdUIAAEBSAe11QgAAgKT79nVCAAAAkaMAdkIAAEDjnQp2Qg==\",\"dtype\":\"float64\",\"shape\":[20]},\"y\":{\"__ndarray__\":\"iZx1P/9XJECWSAyEy8skQMrXYQlH9S1A7QozOM0UNUCOzFXEgf89QGw6qyWXC0dA18uqjEsuSkA41KTAKt1IQBY6gxU6r0hAiLND5ZHFP0CumuF28FRAQE/rJMOZ80JAKBLKthVWP0ALZ0AouRNCQCf/aCRdoj9AOP5PRSXFNkBv/AB9cNsyQHqadetzfzFAfKuoTSTrKkAnb/Imb/IlQA==\",\"dtype\":\"float64\",\"shape\":[20]}}},\"id\":\"30a4e917-0c9d-4636-a217-9b660370dcce\",\"type\":\"ColumnDataSource\"},{\"attributes\":{\"line_alpha\":0.1,\"line_color\":\"#1f77b4\",\"line_width\":2,\"x\":{\"field\":\"x\"},\"y\":{\"field\":\"y\"}},\"id\":\"7cb2a580-8bf9-480f-b304-bcd6c32d56b5\",\"type\":\"Line\"},{\"attributes\":{\"data_source\":{\"id\":\"ef6786df-0e16-4861-b240-90ad07d11a17\",\"type\":\"ColumnDataSource\"},\"glyph\":{\"id\":\"a88b3ef6-4d03-4ec1-abab-b02f03b10a6a\",\"type\":\"Line\"},\"hover_glyph\":null,\"muted_glyph\":null,\"nonselection_glyph\":{\"id\":\"3e26ef92-7e96-46ed-b885-06a270955ab5\",\"type\":\"Line\"},\"selection_glyph\":null,\"view\":{\"id\":\"80e79439-b6a0-4459-a76c-cdcf374a6082\",\"type\":\"CDSView\"}},\"id\":\"a786b731-5de4-4611-bdf4-fd5955f2a30b\",\"type\":\"GlyphRenderer\"},{\"attributes\":{\"line_color\":\"#E2A00B\",\"line_width\":2,\"x\":{\"field\":\"x\"},\"y\":{\"field\":\"y\"}},\"id\":\"e1274103-ce39-4de0-ad11-cd6941d3b03d\",\"type\":\"Line\"},{\"attributes\":{\"callback\":null,\"column_names\":[\"x\",\"y\"],\"data\":{\"x\":{\"__ndarray__\":\"AAAAwkFQdUIAAICu6Vl1QgAAwADkY3VCAAAAU95tdUIAAIA/hnd1QgAAwJGAgXVCAABAfiiLdUIAAIDQIpV1QgAAwCIdn3VCAADAQyCodUIAAACWGrJ1QgAAgILCu3VCAADA1LzFdUIAAEDBZM91QgAAgBNf2XVCAADAZVnjdUIAAEBSAe11QgAAgKT79nVCAAAAkaMAdkIAAEDjnQp2Qg==\",\"dtype\":\"float64\",\"shape\":[20]},\"y\":{\"__ndarray__\":\"SCgBVBH/FkARlLdke0YbQE1muHbe8SBAfKrGCpqJIkCf6mQQIuYiQBnBxntBkiFAu6WWIBfGI0DcCVg234EnQCbkSdu5nCZAkrvqMFQ1JECTNHDmG0glQNbS9YDmDiFAcZD3/hkHI0BR3AksPtAgQHH7DmFTgB1AdP+PrkW7FEC1YoIVBUcgQIEO9D2HXBtA6B75in6hGkB6ukUACAsYQA==\",\"dtype\":\"float64\",\"shape\":[20]}}},\"id\":\"ef6786df-0e16-4861-b240-90ad07d11a17\",\"type\":\"ColumnDataSource\"},{\"attributes\":{\"callback\":null},\"id\":\"e0b95ea6-8bb7-453d-b461-428d03a3208c\",\"type\":\"DataRange1d\"},{\"attributes\":{\"label\":{\"value\":\"\\uc911\\uc559\\uc77c\\ubcf4\"},\"renderers\":[{\"id\":\"b3344d37-8c82-4985-9275-cf89ebbcc89f\",\"type\":\"GlyphRenderer\"}]},\"id\":\"e32a9644-9b70-49c0-9385-fc57df4ae286\",\"type\":\"LegendItem\"},{\"attributes\":{\"data_source\":{\"id\":\"30a4e917-0c9d-4636-a217-9b660370dcce\",\"type\":\"ColumnDataSource\"},\"glyph\":{\"id\":\"e1274103-ce39-4de0-ad11-cd6941d3b03d\",\"type\":\"Line\"},\"hover_glyph\":null,\"muted_glyph\":null,\"nonselection_glyph\":{\"id\":\"7cb2a580-8bf9-480f-b304-bcd6c32d56b5\",\"type\":\"Line\"},\"selection_glyph\":null,\"view\":{\"id\":\"76cbaac5-9eca-4fcc-b097-c60c56aae4d0\",\"type\":\"CDSView\"}},\"id\":\"b3344d37-8c82-4985-9275-cf89ebbcc89f\",\"type\":\"GlyphRenderer\"},{\"attributes\":{\"source\":{\"id\":\"30a4e917-0c9d-4636-a217-9b660370dcce\",\"type\":\"ColumnDataSource\"}},\"id\":\"76cbaac5-9eca-4fcc-b097-c60c56aae4d0\",\"type\":\"CDSView\"},{\"attributes\":{\"source\":{\"id\":\"ef6786df-0e16-4861-b240-90ad07d11a17\",\"type\":\"ColumnDataSource\"}},\"id\":\"80e79439-b6a0-4459-a76c-cdcf374a6082\",\"type\":\"CDSView\"},{\"attributes\":{\"line_color\":\"#1cefef\",\"line_dash\":[6],\"line_width\":2,\"x\":{\"field\":\"x\"},\"y\":{\"field\":\"y\"}},\"id\":\"a88b3ef6-4d03-4ec1-abab-b02f03b10a6a\",\"type\":\"Line\"},{\"attributes\":{\"line_alpha\":0.1,\"line_color\":\"#1f77b4\",\"line_dash\":[6],\"line_width\":2,\"x\":{\"field\":\"x\"},\"y\":{\"field\":\"y\"}},\"id\":\"3e26ef92-7e96-46ed-b885-06a270955ab5\",\"type\":\"Line\"}],\"root_ids\":[\"6bf89d2c-c5aa-4171-9934-43a79b9b9fad\"]},\"title\":\"Bokeh Application\",\"version\":\"0.12.13\"}};\n",
       "  var render_items = [{\"docid\":\"e5fdb503-947c-449a-89db-3fa1a8e33d94\",\"elementid\":\"256980db-2167-4f6f-9a78-ef27ce704017\",\"modelid\":\"6bf89d2c-c5aa-4171-9934-43a79b9b9fad\"}];\n",
       "  root.Bokeh.embed.embed_items_notebook(docs_json, render_items);\n",
       "\n",
       "  }\n",
       "  if (root.Bokeh !== undefined) {\n",
       "    embed_document(root);\n",
       "  } else {\n",
       "    var attempts = 0;\n",
       "    var timer = setInterval(function(root) {\n",
       "      if (root.Bokeh !== undefined) {\n",
       "        embed_document(root);\n",
       "        clearInterval(timer);\n",
       "      }\n",
       "      attempts++;\n",
       "      if (attempts > 100) {\n",
       "        console.log(\"Bokeh: ERROR: Unable to run BokehJS code because BokehJS library is missing\")\n",
       "        clearInterval(timer);\n",
       "      }\n",
       "    }, 10, root)\n",
       "  }\n",
       "})(window);"
      ],
      "application/vnd.bokehjs_exec.v0+json": ""
     },
     "metadata": {
      "application/vnd.bokehjs_exec.v0+json": {
       "id": "6bf89d2c-c5aa-4171-9934-43a79b9b9fad"
      }
     },
     "output_type": "display_data"
    }
   ],
   "source": [
    "p1 = figure(plot_width=750, plot_height=500,x_axis_type='datetime', title=\"월별 기사당 댓글수 평균\")\n",
    "p1.grid.grid_line_alpha=0.3\n",
    "p1.xaxis.axis_label = '월별'\n",
    "p1.yaxis.axis_label = '기사당 댓글수 평균'\n",
    "p1.line(unstacked_comment_mean['datetime'], unstacked_comment_mean['chosun'], color='#f90202', legend='조선일보',line_width=2)\n",
    "p1.line(unstacked_comment_mean['datetime'], unstacked_comment_mean['joins'], color='#E2A00B', legend='중앙일보',line_width=2)\n",
    "p1.line(unstacked_comment_mean['datetime'], unstacked_comment_mean['yonhap'], color='#1cefef', legend='연합뉴스',line_width=2, line_dash='dashed')\n",
    "p1.line(unstacked_comment_mean['datetime'], unstacked_comment_mean['ohmynews'], color='#ff3300', legend='오마이뉴스',line_width=2, line_dash='dashed')\n",
    "p1.line(unstacked_comment_mean['datetime'], unstacked_comment_mean['hani'], color='#01996e', legend='한겨레',line_width=2)\n",
    "p1.line(unstacked_comment_mean['datetime'], unstacked_comment_mean['kh'], color='#18407D', legend='경향신문',line_width=2)\n",
    "p1.line(unstacked_comment_mean['datetime'], unstacked_comment_mean['jtbc'], color='#F48179', legend='JTBC',line_width=2, line_dash='dotted')\n",
    "p1.line(unstacked_comment_mean['datetime'], unstacked_comment_mean['sbs'], color='#1D3A6E', legend='SBS',line_width=2, line_dash='dotted')\n",
    "\n",
    "show(p1)"
   ]
  },
  {
   "cell_type": "code",
   "execution_count": null,
   "metadata": {},
   "outputs": [],
   "source": []
  }
 ],
 "metadata": {
  "kernelspec": {
   "display_name": "Python 3",
   "language": "python",
   "name": "python3"
  },
  "language_info": {
   "codemirror_mode": {
    "name": "ipython",
    "version": 3
   },
   "file_extension": ".py",
   "mimetype": "text/x-python",
   "name": "python",
   "nbconvert_exporter": "python",
   "pygments_lexer": "ipython3",
   "version": "3.6.2"
  }
 },
 "nbformat": 4,
 "nbformat_minor": 2
}
