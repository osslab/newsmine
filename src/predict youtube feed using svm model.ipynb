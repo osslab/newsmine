{
 "cells": [
  {
   "cell_type": "code",
   "execution_count": 17,
   "metadata": {},
   "outputs": [],
   "source": [
    "import pickle\n",
    "#load the content\n",
    "from konlpy.tag import Mecab; m = Mecab()\n",
    "#pos = lambda d: ['/'.join(p) for p in m.pos(d)]\n",
    "def noun_tagger(text):\n",
    "    #return [pos[0] for pos in m.pos(text) if (pos[1] in ['SL','SH','SN']) or pos[1].startswith('NN')]\n",
    "    return [pos[0] for pos in m.pos(text) if pos[1].startswith('NN')]\n",
    "\n",
    "\n",
    "vector = pickle.load(open(\"kbo_tfidf_vect.pkl\", \"rb\" ) )\n",
    "dtm = pickle.load(open(\"kbo_dtm.pkl\", \"rb\" ) )"
   ]
  },
  {
   "cell_type": "code",
   "execution_count": 19,
   "metadata": {},
   "outputs": [],
   "source": [
    "svm = pickle.load(open(\"kbo_svm_clf.pkl\", \"rb\" ) )"
   ]
  },
  {
   "cell_type": "code",
   "execution_count": 6,
   "metadata": {},
   "outputs": [],
   "source": [
    "import feedparser\n",
    "\n",
    "\n",
    "result = feedparser.parse('https://www.youtube.com/feeds/videos.xml?channel_id=UCtm_QoN2SIxwCE-59shX7Qg')"
   ]
  },
  {
   "cell_type": "code",
   "execution_count": 12,
   "metadata": {},
   "outputs": [],
   "source": [
    "test = []\n",
    "for item in result['entries']:\n",
    "    #print(item['title'])\n",
    "    test.append(item['summary'])\n",
    "    #print(item['summary'])"
   ]
  },
  {
   "cell_type": "code",
   "execution_count": 18,
   "metadata": {},
   "outputs": [],
   "source": [
    "test\n",
    "test_dtm = vector.transform(test)"
   ]
  },
  {
   "cell_type": "code",
   "execution_count": 26,
   "metadata": {},
   "outputs": [],
   "source": [
    "svm_predict=svm.predict(test_dtm)"
   ]
  },
  {
   "cell_type": "code",
   "execution_count": 24,
   "metadata": {},
   "outputs": [],
   "source": [
    "import pandas as pd\n",
    "df = pd.DataFrame(test)"
   ]
  },
  {
   "cell_type": "code",
   "execution_count": 27,
   "metadata": {},
   "outputs": [],
   "source": [
    "df['predict']=svm_predict"
   ]
  },
  {
   "cell_type": "code",
   "execution_count": 29,
   "metadata": {
    "collapsed": true
   },
   "outputs": [],
   "source": [
    "team=['두산', '한화', 'LG', '넥센', '기아', '삼성', 'NC', '롯데', 'SK', 'KT']"
   ]
  },
  {
   "cell_type": "code",
   "execution_count": 31,
   "metadata": {},
   "outputs": [],
   "source": [
    "df['predict_name']=df['predict'].apply(lambda x:team[x])"
   ]
  },
  {
   "cell_type": "code",
   "execution_count": 32,
   "metadata": {},
   "outputs": [
    {
     "data": {
      "text/html": [
       "<div>\n",
       "<table border=\"1\" class=\"dataframe\">\n",
       "  <thead>\n",
       "    <tr style=\"text-align: right;\">\n",
       "      <th></th>\n",
       "      <th>0</th>\n",
       "      <th>predict</th>\n",
       "      <th>predict_name</th>\n",
       "    </tr>\n",
       "  </thead>\n",
       "  <tbody>\n",
       "    <tr>\n",
       "      <th>0</th>\n",
       "      <td>두산 : NC 경기 하이라이트</td>\n",
       "      <td>0</td>\n",
       "      <td>두산</td>\n",
       "    </tr>\n",
       "    <tr>\n",
       "      <th>1</th>\n",
       "      <td>두산 : NC 경기 MVP 오재일</td>\n",
       "      <td>0</td>\n",
       "      <td>두산</td>\n",
       "    </tr>\n",
       "    <tr>\n",
       "      <th>2</th>\n",
       "      <td>7타점 맹활약, 팀을 승리로 이끈 오재일 선수 경기 후 인터뷰</td>\n",
       "      <td>0</td>\n",
       "      <td>두산</td>\n",
       "    </tr>\n",
       "    <tr>\n",
       "      <th>3</th>\n",
       "      <td>'언빌리버블' 경기를 뒤집는 오재일의 3점포!</td>\n",
       "      <td>0</td>\n",
       "      <td>두산</td>\n",
       "    </tr>\n",
       "    <tr>\n",
       "      <th>4</th>\n",
       "      <td>대타 작전 성공! 에반스, 한 걸음 더 쫓아가는 3점 홈런</td>\n",
       "      <td>0</td>\n",
       "      <td>두산</td>\n",
       "    </tr>\n",
       "    <tr>\n",
       "      <th>5</th>\n",
       "      <td>손승락의 뒤를 든든히 지켜주는 문규현의 호수비</td>\n",
       "      <td>7</td>\n",
       "      <td>롯데</td>\n",
       "    </tr>\n",
       "    <tr>\n",
       "      <th>6</th>\n",
       "      <td>kt : 넥센 경기 하이라이트</td>\n",
       "      <td>3</td>\n",
       "      <td>넥센</td>\n",
       "    </tr>\n",
       "    <tr>\n",
       "      <th>7</th>\n",
       "      <td>롯데 : LG 경기 MVP 레일리</td>\n",
       "      <td>7</td>\n",
       "      <td>롯데</td>\n",
       "    </tr>\n",
       "    <tr>\n",
       "      <th>8</th>\n",
       "      <td>롯데 : LG 경기 하이라이트</td>\n",
       "      <td>7</td>\n",
       "      <td>롯데</td>\n",
       "    </tr>\n",
       "    <tr>\n",
       "      <th>9</th>\n",
       "      <td>kt : 넥센 경기 MVP 장성우</td>\n",
       "      <td>9</td>\n",
       "      <td>KT</td>\n",
       "    </tr>\n",
       "    <tr>\n",
       "      <th>10</th>\n",
       "      <td>[KBO리그] 한화 : 삼성 경기 MVP ' 올 시즌 한화 첫 10승 ' 오간도 (...</td>\n",
       "      <td>1</td>\n",
       "      <td>한화</td>\n",
       "    </tr>\n",
       "    <tr>\n",
       "      <th>11</th>\n",
       "      <td>한화 : 삼성 경기 하이라이트</td>\n",
       "      <td>1</td>\n",
       "      <td>한화</td>\n",
       "    </tr>\n",
       "    <tr>\n",
       "      <th>12</th>\n",
       "      <td>KIA : SK 경기 하이라이트</td>\n",
       "      <td>2</td>\n",
       "      <td>LG</td>\n",
       "    </tr>\n",
       "    <tr>\n",
       "      <th>13</th>\n",
       "      <td>KIA : SK 경기 MVP 이범호</td>\n",
       "      <td>4</td>\n",
       "      <td>기아</td>\n",
       "    </tr>\n",
       "    <tr>\n",
       "      <th>14</th>\n",
       "      <td>알 수 없는 경기, 동점을 만드는 kt!</td>\n",
       "      <td>4</td>\n",
       "      <td>기아</td>\n",
       "    </tr>\n",
       "  </tbody>\n",
       "</table>\n",
       "</div>"
      ],
      "text/plain": [
       "                                                    0  predict predict_name\n",
       "0                                    두산 : NC 경기 하이라이트        0           두산\n",
       "1                                  두산 : NC 경기 MVP 오재일        0           두산\n",
       "2                  7타점 맹활약, 팀을 승리로 이끈 오재일 선수 경기 후 인터뷰        0           두산\n",
       "3                           '언빌리버블' 경기를 뒤집는 오재일의 3점포!        0           두산\n",
       "4                    대타 작전 성공! 에반스, 한 걸음 더 쫓아가는 3점 홈런        0           두산\n",
       "5                           손승락의 뒤를 든든히 지켜주는 문규현의 호수비        7           롯데\n",
       "6                                    kt : 넥센 경기 하이라이트        3           넥센\n",
       "7                                  롯데 : LG 경기 MVP 레일리        7           롯데\n",
       "8                                    롯데 : LG 경기 하이라이트        7           롯데\n",
       "9                                  kt : 넥센 경기 MVP 장성우        9           KT\n",
       "10  [KBO리그] 한화 : 삼성 경기 MVP ' 올 시즌 한화 첫 10승 ' 오간도 (...        1           한화\n",
       "11                                   한화 : 삼성 경기 하이라이트        1           한화\n",
       "12                                  KIA : SK 경기 하이라이트        2           LG\n",
       "13                                KIA : SK 경기 MVP 이범호        4           기아\n",
       "14                             알 수 없는 경기, 동점을 만드는 kt!        4           기아"
      ]
     },
     "execution_count": 32,
     "metadata": {},
     "output_type": "execute_result"
    }
   ],
   "source": [
    "df"
   ]
  },
  {
   "cell_type": "code",
   "execution_count": 34,
   "metadata": {},
   "outputs": [
    {
     "data": {
      "text/plain": [
       "<15x3095372 sparse matrix of type '<class 'numpy.float64'>'\n",
       "\twith 89 stored elements in Compressed Sparse Row format>"
      ]
     },
     "execution_count": 34,
     "metadata": {},
     "output_type": "execute_result"
    }
   ],
   "source": [
    "test_dtm"
   ]
  },
  {
   "cell_type": "code",
   "execution_count": null,
   "metadata": {
    "collapsed": true
   },
   "outputs": [],
   "source": []
  }
 ],
 "metadata": {
  "kernelspec": {
   "display_name": "Python 3",
   "language": "python",
   "name": "python3"
  },
  "language_info": {
   "codemirror_mode": {
    "name": "ipython",
    "version": 3
   },
   "file_extension": ".py",
   "mimetype": "text/x-python",
   "name": "python",
   "nbconvert_exporter": "python",
   "pygments_lexer": "ipython3",
   "version": "3.6.2"
  }
 },
 "nbformat": 4,
 "nbformat_minor": 2
}
