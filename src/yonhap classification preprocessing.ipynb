{
 "cells": [
  {
   "cell_type": "code",
   "execution_count": 1,
   "metadata": {
    "collapsed": true
   },
   "outputs": [],
   "source": [
    "import pandas as pd"
   ]
  },
  {
   "cell_type": "code",
   "execution_count": 2,
   "metadata": {
    "collapsed": true
   },
   "outputs": [],
   "source": [
    "df = pd.read_pickle('./yonhapall.pkl')"
   ]
  },
  {
   "cell_type": "code",
   "execution_count": 3,
   "metadata": {},
   "outputs": [
    {
     "data": {
      "text/plain": [
       "972293"
      ]
     },
     "execution_count": 3,
     "metadata": {},
     "output_type": "execute_result"
    }
   ],
   "source": [
    "len(df)"
   ]
  },
  {
   "cell_type": "code",
   "execution_count": 4,
   "metadata": {},
   "outputs": [
    {
     "data": {
      "text/html": [
       "<div>\n",
       "<table border=\"1\" class=\"dataframe\">\n",
       "  <thead>\n",
       "    <tr style=\"text-align: right;\">\n",
       "      <th></th>\n",
       "      <th>article</th>\n",
       "      <th>date</th>\n",
       "      <th>section</th>\n",
       "      <th>title</th>\n",
       "      <th>article_len</th>\n",
       "    </tr>\n",
       "  </thead>\n",
       "  <tbody>\n",
       "    <tr>\n",
       "      <th>0</th>\n",
       "      <td>7일 서울 목동야구장에서 열린 프로야구 한국시리즈 3차전 넥센 히...</td>\n",
       "      <td>20141107220335</td>\n",
       "      <td>스포츠</td>\n",
       "      <td>역점 2점홈런 날리는 박한이</td>\n",
       "      <td>102</td>\n",
       "    </tr>\n",
       "    <tr>\n",
       "      <th>1</th>\n",
       "      <td>7일 서울 목동야구장에서 열린 프로야구 한국시리즈 3차전 넥센 히...</td>\n",
       "      <td>20141107220450</td>\n",
       "      <td>스포츠</td>\n",
       "      <td>역점 2점홈런 날리는 박한이</td>\n",
       "      <td>102</td>\n",
       "    </tr>\n",
       "    <tr>\n",
       "      <th>2</th>\n",
       "      <td>7일 서울 목동야구장에서 열린 프로야구 한국시리즈 3차전 넥센 히...</td>\n",
       "      <td>20141107220417</td>\n",
       "      <td>스포츠</td>\n",
       "      <td>역점 2점홈런 날리는 박한이</td>\n",
       "      <td>102</td>\n",
       "    </tr>\n",
       "    <tr>\n",
       "      <th>3</th>\n",
       "      <td>7일 서울 목동야구장에서 열린 프로야구 한국시리즈 3차전 넥센 히...</td>\n",
       "      <td>20141107220436</td>\n",
       "      <td>스포츠</td>\n",
       "      <td>역전의 사나이 박한이</td>\n",
       "      <td>107</td>\n",
       "    </tr>\n",
       "    <tr>\n",
       "      <th>4</th>\n",
       "      <td>7일 서울 목동야구장에서 열린 프로야구 한국시리즈 3차전 넥센 히...</td>\n",
       "      <td>20141107220342</td>\n",
       "      <td>스포츠</td>\n",
       "      <td>환호하는 박한이</td>\n",
       "      <td>103</td>\n",
       "    </tr>\n",
       "  </tbody>\n",
       "</table>\n",
       "</div>"
      ],
      "text/plain": [
       "                                             article            date section  \\\n",
       "0            7일 서울 목동야구장에서 열린 프로야구 한국시리즈 3차전 넥센 히...  20141107220335     스포츠   \n",
       "1            7일 서울 목동야구장에서 열린 프로야구 한국시리즈 3차전 넥센 히...  20141107220450     스포츠   \n",
       "2            7일 서울 목동야구장에서 열린 프로야구 한국시리즈 3차전 넥센 히...  20141107220417     스포츠   \n",
       "3            7일 서울 목동야구장에서 열린 프로야구 한국시리즈 3차전 넥센 히...  20141107220436     스포츠   \n",
       "4            7일 서울 목동야구장에서 열린 프로야구 한국시리즈 3차전 넥센 히...  20141107220342     스포츠   \n",
       "\n",
       "             title  article_len  \n",
       "0  역점 2점홈런 날리는 박한이          102  \n",
       "1  역점 2점홈런 날리는 박한이          102  \n",
       "2  역점 2점홈런 날리는 박한이          102  \n",
       "3      역전의 사나이 박한이          107  \n",
       "4         환호하는 박한이          103  "
      ]
     },
     "execution_count": 4,
     "metadata": {},
     "output_type": "execute_result"
    }
   ],
   "source": [
    "df.head(5)"
   ]
  },
  {
   "cell_type": "markdown",
   "metadata": {},
   "source": [
    "## 섹션 분리"
   ]
  },
  {
   "cell_type": "code",
   "execution_count": 5,
   "metadata": {
    "collapsed": true
   },
   "outputs": [],
   "source": [
    "df['sec']=df['section'].apply(lambda x: x.replace('일반', ''))"
   ]
  },
  {
   "cell_type": "code",
   "execution_count": 6,
   "metadata": {},
   "outputs": [
    {
     "data": {
      "text/plain": [
       "sec\n",
       "지방행정        115767\n",
       "사회          104446\n",
       "국제           87786\n",
       "정치           83125\n",
       "경제           82878\n",
       "야구           24383\n",
       "기업           19192\n",
       "산업           17852\n",
       "문화           15581\n",
       "중앙행정         14975\n",
       "축구           14301\n",
       "스포츠          13920\n",
       "연예           13540\n",
       "외교           13004\n",
       "재테크          12001\n",
       "국방           11565\n",
       "대기업          10699\n",
       "북한            9529\n",
       "경찰            9257\n",
       "교육            9056\n",
       "IT            9052\n",
       "골프            8023\n",
       "국회            7492\n",
       "소비자           6874\n",
       "농구            5697\n",
       "편집            5541\n",
       "금융·증권         5455\n",
       "대학교육          5207\n",
       "사건            4778\n",
       "증권시장          4741\n",
       "             ...  \n",
       "임대업              4\n",
       "신용카드사            3\n",
       "장애인올림픽           3\n",
       "수상경기             3\n",
       "익스트림게임           3\n",
       "금시세              2\n",
       "기업분석             2\n",
       "우슈               2\n",
       "교포               2\n",
       "무속신앙             2\n",
       "국내대회             2\n",
       "헤드라인             1\n",
       "개발원조             1\n",
       "OANA             1\n",
       "아동청소년복지          1\n",
       "유럽연합             1\n",
       "비치발리볼            1\n",
       "세팍타크로            1\n",
       "장애아시안게임          1\n",
       "기타국내종합경기         1\n",
       "전국소년체전           1\n",
       "북한사회             1\n",
       "종합금융사            1\n",
       "증권사              1\n",
       "만화               1\n",
       "루지               1\n",
       "특허발명             1\n",
       "증시일정             1\n",
       "대체의학             1\n",
       "문화관광             1\n",
       "dtype: int64"
      ]
     },
     "execution_count": 6,
     "metadata": {},
     "output_type": "execute_result"
    }
   ],
   "source": [
    "counts=df.groupby('sec').size()\n",
    "sorted_counts=counts.sort_values(ascending=False)\n",
    "sorted_counts"
   ]
  },
  {
   "cell_type": "code",
   "execution_count": 7,
   "metadata": {
    "collapsed": true
   },
   "outputs": [],
   "source": [
    "sorted_counts.to_csv('./yonhapsec.csv')"
   ]
  },
  {
   "cell_type": "code",
   "execution_count": 8,
   "metadata": {},
   "outputs": [
    {
     "data": {
      "text/plain": [
       "972293"
      ]
     },
     "execution_count": 8,
     "metadata": {},
     "output_type": "execute_result"
    }
   ],
   "source": [
    "len(df)"
   ]
  },
  {
   "cell_type": "code",
   "execution_count": 9,
   "metadata": {
    "collapsed": true
   },
   "outputs": [],
   "source": [
    "def high_sec(section):\n",
    "    if section in ('사회', '사건', '사고', '검찰', '법원', '해상사고', '육상사고', '사기', '폭행', '자살') :\n",
    "        return '사회'\n",
    "    elif section in ('정치', '북한', '남북교류', '남북회담','청와대') :\n",
    "        return '정치'\n",
    "    elif section in ('경제', '증권시장', '금융·증권', '부동산', '해외증시', '자본시장', '경제정책', '금융시장', '외환시장', '수출', 'CEO', '외국계기업', '인수합병', '물가', '유가', '기업실적발표', '부도파산', '기업공시', '채권', '펀드', '금리') :\n",
    "        return '경제'\n",
    "    elif section in ('문화', '영화', '전시공연', '문화시설', '축제', '문화정책', '연극', '애니매이션', '무형문화재', '클래식', '무용') :\n",
    "        return '문화'\n",
    "    elif section in ('기상', '의학', '날씨', '생활정보', '보건', '생활건강', '식물', '요리·맛집', '건강·웰빙') :\n",
    "        return '생활'\n",
    "    elif section in ('과학기술', '항공우주산업', '첨단범죄', '자연과학', '생명공학') :\n",
    "        return '과학'\n",
    "    elif section in ('국제', '국제기구') :\n",
    "        return '국제'\n",
    "    else :\n",
    "        return ''\n",
    "    \n",
    "        "
   ]
  },
  {
   "cell_type": "code",
   "execution_count": 10,
   "metadata": {
    "collapsed": true
   },
   "outputs": [],
   "source": [
    "df['sec1']=df['sec'].apply(high_sec)\n",
    "\n"
   ]
  },
  {
   "cell_type": "code",
   "execution_count": 11,
   "metadata": {},
   "outputs": [
    {
     "data": {
      "text/plain": [
       "sec1\n",
       "      519371\n",
       "사회    118875\n",
       "경제    112307\n",
       "정치     98303\n",
       "국제     87837\n",
       "문화     24357\n",
       "생활      8615\n",
       "과학      2628\n",
       "dtype: int64"
      ]
     },
     "execution_count": 11,
     "metadata": {},
     "output_type": "execute_result"
    }
   ],
   "source": [
    "sec1_counts=df.groupby('sec1').size()\n",
    "sec1_sorted_counts=sec1_counts.sort_values(ascending=False)\n",
    "sec1_sorted_counts"
   ]
  },
  {
   "cell_type": "code",
   "execution_count": 12,
   "metadata": {
    "collapsed": true
   },
   "outputs": [],
   "source": [
    "df_cate = df[df['sec1']!='']"
   ]
  },
  {
   "cell_type": "code",
   "execution_count": 13,
   "metadata": {},
   "outputs": [
    {
     "data": {
      "text/plain": [
       "452922"
      ]
     },
     "execution_count": 13,
     "metadata": {},
     "output_type": "execute_result"
    }
   ],
   "source": [
    "df_cate=df_cate.reset_index(drop=True)\n",
    "len(df_cate)"
   ]
  },
  {
   "cell_type": "code",
   "execution_count": 14,
   "metadata": {},
   "outputs": [
    {
     "data": {
      "text/plain": [
       "{'경제': 0, '과학': 1, '국제': 2, '문화': 3, '사회': 4, '생활': 5, '정치': 6}"
      ]
     },
     "execution_count": 14,
     "metadata": {},
     "output_type": "execute_result"
    }
   ],
   "source": [
    "counts=df_cate.groupby('sec1').size()\n",
    "section_idx=enumerate(counts.keys())\n",
    "section_to_int = {word: ii for ii, word in section_idx}\n",
    "section_to_int"
   ]
  },
  {
   "cell_type": "code",
   "execution_count": 15,
   "metadata": {
    "collapsed": true
   },
   "outputs": [],
   "source": [
    "def set_section_idx(section):\n",
    "    return section_to_int[section]"
   ]
  },
  {
   "cell_type": "code",
   "execution_count": 16,
   "metadata": {
    "collapsed": true
   },
   "outputs": [],
   "source": [
    "df_cate['sec_idx']=df_cate['sec1'].apply(set_section_idx)\n",
    "docs=df_cate['article']"
   ]
  },
  {
   "cell_type": "code",
   "execution_count": 17,
   "metadata": {
    "collapsed": true
   },
   "outputs": [],
   "source": [
    "df_cate.drop(['date', 'section','sec'], axis = 1, inplace = True)"
   ]
  },
  {
   "cell_type": "code",
   "execution_count": 18,
   "metadata": {
    "collapsed": true
   },
   "outputs": [],
   "source": [
    "df_cate.to_pickle('yonhap_ready.pkl')"
   ]
  },
  {
   "cell_type": "code",
   "execution_count": 211,
   "metadata": {},
   "outputs": [
    {
     "name": "stdout",
     "output_type": "stream",
     "text": [
      "CPU times: user 4 ms, sys: 0 ns, total: 4 ms\n",
      "Wall time: 1.42 ms\n"
     ]
    }
   ],
   "source": [
    "%%time\n",
    "from konlpy.tag import Mecab; m = Mecab()\n",
    "#pos = lambda d: ['/'.join(p) for p in m.pos(d)]\n",
    "def noun_tagger(text):\n",
    "    #return [pos[0] for pos in t.pos(text) if pos[1] in ['SL','SH','SN','NN','NNG', 'NNP']]\n",
    "    #return [pos[0] for pos in m.pos(text) if (pos[1] in ['SL','SH','SN']) or pos[1].startswith('NN')]\n",
    "    return [pos[0] for pos in m.pos(text) if pos[1].startswith('NN')]\n"
   ]
  },
  {
   "cell_type": "code",
   "execution_count": 212,
   "metadata": {
    "collapsed": true
   },
   "outputs": [],
   "source": [
    "stopwords_news=['지난해', '중','말', '뒤', '곳', '군', '위', '개', '간', '건', '이날', '도', '등', '명', '시', '앞', '원', '분', '회', '년', '것', '씨', '일', '월','오전','오후']"
   ]
  },
  {
   "cell_type": "code",
   "execution_count": 213,
   "metadata": {},
   "outputs": [
    {
     "name": "stdout",
     "output_type": "stream",
     "text": [
      "CPU times: user 26min 27s, sys: 25.8 s, total: 26min 52s\n",
      "Wall time: 26min 53s\n"
     ]
    }
   ],
   "source": [
    "%%time\n",
    "import numpy as np;\n",
    "from sklearn.feature_extraction.text import TfidfVectorizer\n",
    "vect = TfidfVectorizer(tokenizer=noun_tagger,stop_words=stopwords_news, ngram_range=(1,3), min_df=2, max_df=.25)\n",
    "vect_weights = vect.fit_transform(docs)\n",
    "#sorted(vect.vocabulary_, key=vect.vocabulary_.get, reverse=True)\n",
    "weights = np.asarray(vect_weights.mean(axis=0)).ravel().tolist()\n",
    "weights_df = pd.DataFrame({'term': vect.get_feature_names(), 'weight': weights})"
   ]
  },
  {
   "cell_type": "code",
   "execution_count": 214,
   "metadata": {},
   "outputs": [
    {
     "data": {
      "text/html": [
       "<div>\n",
       "<table border=\"1\" class=\"dataframe\">\n",
       "  <thead>\n",
       "    <tr style=\"text-align: right;\">\n",
       "      <th></th>\n",
       "      <th>term</th>\n",
       "      <th>weight</th>\n",
       "    </tr>\n",
       "  </thead>\n",
       "  <tbody>\n",
       "    <tr>\n",
       "      <th>2722259</th>\n",
       "      <td>대통령</td>\n",
       "      <td>0.008269</td>\n",
       "    </tr>\n",
       "    <tr>\n",
       "      <th>9440335</th>\n",
       "      <td>중국</td>\n",
       "      <td>0.008066</td>\n",
       "    </tr>\n",
       "    <tr>\n",
       "      <th>3664119</th>\n",
       "      <td>미국</td>\n",
       "      <td>0.006787</td>\n",
       "    </tr>\n",
       "    <tr>\n",
       "      <th>7674869</th>\n",
       "      <td>의원</td>\n",
       "      <td>0.005966</td>\n",
       "    </tr>\n",
       "    <tr>\n",
       "      <th>4573158</th>\n",
       "      <td>북한</td>\n",
       "      <td>0.005923</td>\n",
       "    </tr>\n",
       "    <tr>\n",
       "      <th>2764477</th>\n",
       "      <td>대표</td>\n",
       "      <td>0.005839</td>\n",
       "    </tr>\n",
       "    <tr>\n",
       "      <th>8887803</th>\n",
       "      <td>정부</td>\n",
       "      <td>0.005522</td>\n",
       "    </tr>\n",
       "    <tr>\n",
       "      <th>782675</th>\n",
       "      <td>경찰</td>\n",
       "      <td>0.005497</td>\n",
       "    </tr>\n",
       "    <tr>\n",
       "      <th>6120161</th>\n",
       "      <td>시장</td>\n",
       "      <td>0.005140</td>\n",
       "    </tr>\n",
       "    <tr>\n",
       "      <th>11470229</th>\n",
       "      <td>한국</td>\n",
       "      <td>0.004989</td>\n",
       "    </tr>\n",
       "    <tr>\n",
       "      <th>1718783</th>\n",
       "      <td>금융</td>\n",
       "      <td>0.004833</td>\n",
       "    </tr>\n",
       "    <tr>\n",
       "      <th>9687057</th>\n",
       "      <td>지역</td>\n",
       "      <td>0.004831</td>\n",
       "    </tr>\n",
       "    <tr>\n",
       "      <th>5284503</th>\n",
       "      <td>서울</td>\n",
       "      <td>0.004688</td>\n",
       "    </tr>\n",
       "    <tr>\n",
       "      <th>9138858</th>\n",
       "      <td>조사</td>\n",
       "      <td>0.004678</td>\n",
       "    </tr>\n",
       "    <tr>\n",
       "      <th>757165</th>\n",
       "      <td>경제</td>\n",
       "      <td>0.004662</td>\n",
       "    </tr>\n",
       "    <tr>\n",
       "      <th>10953730</th>\n",
       "      <td>트럼프</td>\n",
       "      <td>0.004477</td>\n",
       "    </tr>\n",
       "    <tr>\n",
       "      <th>12185873</th>\n",
       "      <td>후보</td>\n",
       "      <td>0.004450</td>\n",
       "    </tr>\n",
       "    <tr>\n",
       "      <th>346231</th>\n",
       "      <td>개</td>\n",
       "      <td>0.004426</td>\n",
       "    </tr>\n",
       "    <tr>\n",
       "      <th>1474121</th>\n",
       "      <td>국민</td>\n",
       "      <td>0.004367</td>\n",
       "    </tr>\n",
       "    <tr>\n",
       "      <th>6009245</th>\n",
       "      <td>시간</td>\n",
       "      <td>0.004291</td>\n",
       "    </tr>\n",
       "    <tr>\n",
       "      <th>1889505</th>\n",
       "      <td>기업</td>\n",
       "      <td>0.004261</td>\n",
       "    </tr>\n",
       "    <tr>\n",
       "      <th>2433361</th>\n",
       "      <td>달러</td>\n",
       "      <td>0.004102</td>\n",
       "    </tr>\n",
       "    <tr>\n",
       "      <th>11810498</th>\n",
       "      <td>혐의</td>\n",
       "      <td>0.004078</td>\n",
       "    </tr>\n",
       "    <tr>\n",
       "      <th>8120658</th>\n",
       "      <td>일본</td>\n",
       "      <td>0.004071</td>\n",
       "    </tr>\n",
       "    <tr>\n",
       "      <th>9267630</th>\n",
       "      <td>주</td>\n",
       "      <td>0.003985</td>\n",
       "    </tr>\n",
       "    <tr>\n",
       "      <th>1189961</th>\n",
       "      <td>관련</td>\n",
       "      <td>0.003953</td>\n",
       "    </tr>\n",
       "    <tr>\n",
       "      <th>8419517</th>\n",
       "      <td>장관</td>\n",
       "      <td>0.003911</td>\n",
       "    </tr>\n",
       "    <tr>\n",
       "      <th>1986345</th>\n",
       "      <td>김</td>\n",
       "      <td>0.003889</td>\n",
       "    </tr>\n",
       "    <tr>\n",
       "      <th>1540447</th>\n",
       "      <td>국회</td>\n",
       "      <td>0.003842</td>\n",
       "    </tr>\n",
       "    <tr>\n",
       "      <th>2551602</th>\n",
       "      <td>대</td>\n",
       "      <td>0.003813</td>\n",
       "    </tr>\n",
       "    <tr>\n",
       "      <th>2471792</th>\n",
       "      <td>당</td>\n",
       "      <td>0.003793</td>\n",
       "    </tr>\n",
       "    <tr>\n",
       "      <th>10914368</th>\n",
       "      <td>투자</td>\n",
       "      <td>0.003773</td>\n",
       "    </tr>\n",
       "    <tr>\n",
       "      <th>9719589</th>\n",
       "      <td>지원</td>\n",
       "      <td>0.003754</td>\n",
       "    </tr>\n",
       "    <tr>\n",
       "      <th>10279735</th>\n",
       "      <td>총리</td>\n",
       "      <td>0.003657</td>\n",
       "    </tr>\n",
       "    <tr>\n",
       "      <th>7084634</th>\n",
       "      <td>올해</td>\n",
       "      <td>0.003585</td>\n",
       "    </tr>\n",
       "    <tr>\n",
       "      <th>7791677</th>\n",
       "      <td>이번</td>\n",
       "      <td>0.003562</td>\n",
       "    </tr>\n",
       "    <tr>\n",
       "      <th>3593240</th>\n",
       "      <td>문제</td>\n",
       "      <td>0.003522</td>\n",
       "    </tr>\n",
       "    <tr>\n",
       "      <th>8583286</th>\n",
       "      <td>전</td>\n",
       "      <td>0.003467</td>\n",
       "    </tr>\n",
       "    <tr>\n",
       "      <th>4910215</th>\n",
       "      <td>사업</td>\n",
       "      <td>0.003450</td>\n",
       "    </tr>\n",
       "    <tr>\n",
       "      <th>7593306</th>\n",
       "      <td>은행</td>\n",
       "      <td>0.003448</td>\n",
       "    </tr>\n",
       "    <tr>\n",
       "      <th>8966255</th>\n",
       "      <td>정책</td>\n",
       "      <td>0.003442</td>\n",
       "    </tr>\n",
       "    <tr>\n",
       "      <th>7365328</th>\n",
       "      <td>위</td>\n",
       "      <td>0.003402</td>\n",
       "    </tr>\n",
       "    <tr>\n",
       "      <th>1425779</th>\n",
       "      <td>국가</td>\n",
       "      <td>0.003401</td>\n",
       "    </tr>\n",
       "    <tr>\n",
       "      <th>12118661</th>\n",
       "      <td>회의</td>\n",
       "      <td>0.003389</td>\n",
       "    </tr>\n",
       "    <tr>\n",
       "      <th>11792426</th>\n",
       "      <td>현지</td>\n",
       "      <td>0.003340</td>\n",
       "    </tr>\n",
       "    <tr>\n",
       "      <th>1943098</th>\n",
       "      <td>기준</td>\n",
       "      <td>0.003275</td>\n",
       "    </tr>\n",
       "    <tr>\n",
       "      <th>10717888</th>\n",
       "      <td>클릭</td>\n",
       "      <td>0.003259</td>\n",
       "    </tr>\n",
       "    <tr>\n",
       "      <th>77941</th>\n",
       "      <td>가능</td>\n",
       "      <td>0.003218</td>\n",
       "    </tr>\n",
       "    <tr>\n",
       "      <th>8986486</th>\n",
       "      <td>정치</td>\n",
       "      <td>0.003198</td>\n",
       "    </tr>\n",
       "    <tr>\n",
       "      <th>190790</th>\n",
       "      <td>간</td>\n",
       "      <td>0.003194</td>\n",
       "    </tr>\n",
       "  </tbody>\n",
       "</table>\n",
       "</div>"
      ],
      "text/plain": [
       "         term    weight\n",
       "2722259   대통령  0.008269\n",
       "9440335    중국  0.008066\n",
       "3664119    미국  0.006787\n",
       "7674869    의원  0.005966\n",
       "4573158    북한  0.005923\n",
       "2764477    대표  0.005839\n",
       "8887803    정부  0.005522\n",
       "782675     경찰  0.005497\n",
       "6120161    시장  0.005140\n",
       "11470229   한국  0.004989\n",
       "1718783    금융  0.004833\n",
       "9687057    지역  0.004831\n",
       "5284503    서울  0.004688\n",
       "9138858    조사  0.004678\n",
       "757165     경제  0.004662\n",
       "10953730  트럼프  0.004477\n",
       "12185873   후보  0.004450\n",
       "346231      개  0.004426\n",
       "1474121    국민  0.004367\n",
       "6009245    시간  0.004291\n",
       "1889505    기업  0.004261\n",
       "2433361    달러  0.004102\n",
       "11810498   혐의  0.004078\n",
       "8120658    일본  0.004071\n",
       "9267630     주  0.003985\n",
       "1189961    관련  0.003953\n",
       "8419517    장관  0.003911\n",
       "1986345     김  0.003889\n",
       "1540447    국회  0.003842\n",
       "2551602     대  0.003813\n",
       "2471792     당  0.003793\n",
       "10914368   투자  0.003773\n",
       "9719589    지원  0.003754\n",
       "10279735   총리  0.003657\n",
       "7084634    올해  0.003585\n",
       "7791677    이번  0.003562\n",
       "3593240    문제  0.003522\n",
       "8583286     전  0.003467\n",
       "4910215    사업  0.003450\n",
       "7593306    은행  0.003448\n",
       "8966255    정책  0.003442\n",
       "7365328     위  0.003402\n",
       "1425779    국가  0.003401\n",
       "12118661   회의  0.003389\n",
       "11792426   현지  0.003340\n",
       "1943098    기준  0.003275\n",
       "10717888   클릭  0.003259\n",
       "77941      가능  0.003218\n",
       "8986486    정치  0.003198\n",
       "190790      간  0.003194"
      ]
     },
     "execution_count": 214,
     "metadata": {},
     "output_type": "execute_result"
    }
   ],
   "source": [
    "weights_df.sort_values(by='weight', ascending=False).head(50)"
   ]
  },
  {
   "cell_type": "code",
   "execution_count": null,
   "metadata": {
    "collapsed": true
   },
   "outputs": [],
   "source": []
  }
 ],
 "metadata": {
  "kernelspec": {
   "display_name": "Python 3",
   "language": "python",
   "name": "python3"
  },
  "language_info": {
   "codemirror_mode": {
    "name": "ipython",
    "version": 3
   },
   "file_extension": ".py",
   "mimetype": "text/x-python",
   "name": "python",
   "nbconvert_exporter": "python",
   "pygments_lexer": "ipython3",
   "version": "3.6.2"
  }
 },
 "nbformat": 4,
 "nbformat_minor": 1
}
