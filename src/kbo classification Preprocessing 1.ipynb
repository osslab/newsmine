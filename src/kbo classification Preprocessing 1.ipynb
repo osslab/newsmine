{
 "cells": [
  {
   "cell_type": "code",
   "execution_count": 1,
   "metadata": {
    "collapsed": true
   },
   "outputs": [],
   "source": [
    "import glob\n",
    "\n",
    "files = glob.glob('./kbo/*/*/*/*.json')"
   ]
  },
  {
   "cell_type": "code",
   "execution_count": 2,
   "metadata": {
    "collapsed": true
   },
   "outputs": [],
   "source": [
    "import json\n",
    "def read_json_file(path_to_file):\n",
    "    with open(path_to_file) as p:\n",
    "        rows=[json.loads(line) for line in p]\n",
    "    return rows"
   ]
  },
  {
   "cell_type": "code",
   "execution_count": 3,
   "metadata": {
    "collapsed": true
   },
   "outputs": [],
   "source": [
    "import pandas as pd\n",
    "\n",
    "data={}\n",
    "for path in files:\n",
    "    team = path.split('/')[4]\n",
    "    if team not in data:\n",
    "        data[team] = read_json_file(path)\n",
    "    else :\n",
    "        data[team].extend(read_json_file(path))\n",
    "\n",
    "#df = pd.DataFrame(data)"
   ]
  },
  {
   "cell_type": "code",
   "execution_count": 4,
   "metadata": {},
   "outputs": [
    {
     "name": "stdout",
     "output_type": "stream",
     "text": [
      "SK is 18997\n",
      "LG is 21742\n",
      "SS is 19993\n",
      "OB is 31660\n",
      "WO is 21672\n",
      "HT is 20743\n",
      "KT is 13075\n",
      "NC is 19235\n",
      "HH is 24775\n",
      "LT is 19082\n"
     ]
    }
   ],
   "source": [
    "for team in data.keys() :\n",
    "    print(\"%s is %d\" %(team, len(data[team])))"
   ]
  },
  {
   "cell_type": "code",
   "execution_count": 5,
   "metadata": {
    "collapsed": true
   },
   "outputs": [],
   "source": [
    "dict_of_df = {k: pd.DataFrame(v) for k,v in data.items()}\n",
    "df = pd.concat(dict_of_df, axis=0)"
   ]
  },
  {
   "cell_type": "code",
   "execution_count": 6,
   "metadata": {
    "collapsed": true
   },
   "outputs": [],
   "source": [
    "df.reset_index(level=0, inplace=True)"
   ]
  },
  {
   "cell_type": "code",
   "execution_count": 7,
   "metadata": {},
   "outputs": [
    {
     "data": {
      "text/plain": [
       "210974"
      ]
     },
     "execution_count": 7,
     "metadata": {},
     "output_type": "execute_result"
    }
   ],
   "source": [
    "len(df)"
   ]
  },
  {
   "cell_type": "code",
   "execution_count": 8,
   "metadata": {
    "collapsed": true
   },
   "outputs": [],
   "source": [
    "df.to_pickle('kbo_raw.pkl')"
   ]
  },
  {
   "cell_type": "code",
   "execution_count": 3,
   "metadata": {},
   "outputs": [],
   "source": [
    "import pandas as pd\n",
    "df = pd.read_pickle('kbo_raw.pkl')"
   ]
  },
  {
   "cell_type": "code",
   "execution_count": 4,
   "metadata": {},
   "outputs": [
    {
     "data": {
      "text/plain": [
       "210974"
      ]
     },
     "execution_count": 4,
     "metadata": {},
     "output_type": "execute_result"
    }
   ],
   "source": [
    "len(df)"
   ]
  },
  {
   "cell_type": "code",
   "execution_count": 5,
   "metadata": {
    "collapsed": true
   },
   "outputs": [],
   "source": [
    "df = df[df['datetime']>'20150801235959']\n",
    "df['datetime'] = pd.to_datetime(df['datetime'])"
   ]
  },
  {
   "cell_type": "code",
   "execution_count": 6,
   "metadata": {
    "collapsed": true
   },
   "outputs": [],
   "source": [
    "grouped=df.groupby(pd.Grouper(key='datetime', freq='M'))\n",
    "group_sample=grouped.level_0.value_counts()"
   ]
  },
  {
   "cell_type": "code",
   "execution_count": 7,
   "metadata": {},
   "outputs": [
    {
     "data": {
      "text/html": [
       "<div>\n",
       "<table border=\"1\" class=\"dataframe\">\n",
       "  <thead>\n",
       "    <tr style=\"text-align: right;\">\n",
       "      <th>level_0</th>\n",
       "      <th>datetime</th>\n",
       "      <th>HH</th>\n",
       "      <th>HT</th>\n",
       "      <th>KT</th>\n",
       "      <th>LG</th>\n",
       "      <th>LT</th>\n",
       "      <th>NC</th>\n",
       "      <th>OB</th>\n",
       "      <th>SK</th>\n",
       "      <th>SS</th>\n",
       "      <th>WO</th>\n",
       "    </tr>\n",
       "  </thead>\n",
       "  <tbody>\n",
       "    <tr>\n",
       "      <th>0</th>\n",
       "      <td>2015-08-31</td>\n",
       "      <td>1919</td>\n",
       "      <td>875</td>\n",
       "      <td>677</td>\n",
       "      <td>812</td>\n",
       "      <td>775</td>\n",
       "      <td>1056</td>\n",
       "      <td>1359</td>\n",
       "      <td>964</td>\n",
       "      <td>1040</td>\n",
       "      <td>1472</td>\n",
       "    </tr>\n",
       "    <tr>\n",
       "      <th>1</th>\n",
       "      <td>2015-09-30</td>\n",
       "      <td>1439</td>\n",
       "      <td>954</td>\n",
       "      <td>502</td>\n",
       "      <td>807</td>\n",
       "      <td>991</td>\n",
       "      <td>860</td>\n",
       "      <td>1099</td>\n",
       "      <td>1090</td>\n",
       "      <td>1025</td>\n",
       "      <td>1255</td>\n",
       "    </tr>\n",
       "    <tr>\n",
       "      <th>2</th>\n",
       "      <td>2015-10-31</td>\n",
       "      <td>309</td>\n",
       "      <td>291</td>\n",
       "      <td>180</td>\n",
       "      <td>158</td>\n",
       "      <td>581</td>\n",
       "      <td>1651</td>\n",
       "      <td>4340</td>\n",
       "      <td>506</td>\n",
       "      <td>1685</td>\n",
       "      <td>1854</td>\n",
       "    </tr>\n",
       "    <tr>\n",
       "      <th>3</th>\n",
       "      <td>2015-11-30</td>\n",
       "      <td>347</td>\n",
       "      <td>158</td>\n",
       "      <td>244</td>\n",
       "      <td>280</td>\n",
       "      <td>788</td>\n",
       "      <td>482</td>\n",
       "      <td>1137</td>\n",
       "      <td>261</td>\n",
       "      <td>499</td>\n",
       "      <td>791</td>\n",
       "    </tr>\n",
       "    <tr>\n",
       "      <th>4</th>\n",
       "      <td>2015-12-31</td>\n",
       "      <td>426</td>\n",
       "      <td>254</td>\n",
       "      <td>220</td>\n",
       "      <td>197</td>\n",
       "      <td>424</td>\n",
       "      <td>250</td>\n",
       "      <td>416</td>\n",
       "      <td>378</td>\n",
       "      <td>499</td>\n",
       "      <td>454</td>\n",
       "    </tr>\n",
       "    <tr>\n",
       "      <th>5</th>\n",
       "      <td>2016-01-31</td>\n",
       "      <td>467</td>\n",
       "      <td>299</td>\n",
       "      <td>208</td>\n",
       "      <td>317</td>\n",
       "      <td>261</td>\n",
       "      <td>283</td>\n",
       "      <td>493</td>\n",
       "      <td>299</td>\n",
       "      <td>427</td>\n",
       "      <td>307</td>\n",
       "    </tr>\n",
       "    <tr>\n",
       "      <th>6</th>\n",
       "      <td>2016-02-29</td>\n",
       "      <td>536</td>\n",
       "      <td>427</td>\n",
       "      <td>318</td>\n",
       "      <td>323</td>\n",
       "      <td>315</td>\n",
       "      <td>174</td>\n",
       "      <td>387</td>\n",
       "      <td>387</td>\n",
       "      <td>314</td>\n",
       "      <td>288</td>\n",
       "    </tr>\n",
       "    <tr>\n",
       "      <th>7</th>\n",
       "      <td>2016-03-31</td>\n",
       "      <td>752</td>\n",
       "      <td>554</td>\n",
       "      <td>586</td>\n",
       "      <td>571</td>\n",
       "      <td>581</td>\n",
       "      <td>390</td>\n",
       "      <td>623</td>\n",
       "      <td>643</td>\n",
       "      <td>890</td>\n",
       "      <td>676</td>\n",
       "    </tr>\n",
       "    <tr>\n",
       "      <th>8</th>\n",
       "      <td>2016-04-30</td>\n",
       "      <td>1712</td>\n",
       "      <td>818</td>\n",
       "      <td>824</td>\n",
       "      <td>1067</td>\n",
       "      <td>1149</td>\n",
       "      <td>709</td>\n",
       "      <td>1577</td>\n",
       "      <td>1076</td>\n",
       "      <td>924</td>\n",
       "      <td>1116</td>\n",
       "    </tr>\n",
       "    <tr>\n",
       "      <th>9</th>\n",
       "      <td>2016-05-31</td>\n",
       "      <td>1838</td>\n",
       "      <td>966</td>\n",
       "      <td>574</td>\n",
       "      <td>1052</td>\n",
       "      <td>970</td>\n",
       "      <td>688</td>\n",
       "      <td>1895</td>\n",
       "      <td>750</td>\n",
       "      <td>855</td>\n",
       "      <td>996</td>\n",
       "    </tr>\n",
       "    <tr>\n",
       "      <th>10</th>\n",
       "      <td>2016-06-30</td>\n",
       "      <td>1647</td>\n",
       "      <td>900</td>\n",
       "      <td>583</td>\n",
       "      <td>836</td>\n",
       "      <td>920</td>\n",
       "      <td>1087</td>\n",
       "      <td>1386</td>\n",
       "      <td>982</td>\n",
       "      <td>781</td>\n",
       "      <td>1048</td>\n",
       "    </tr>\n",
       "    <tr>\n",
       "      <th>11</th>\n",
       "      <td>2016-07-31</td>\n",
       "      <td>1350</td>\n",
       "      <td>1127</td>\n",
       "      <td>612</td>\n",
       "      <td>692</td>\n",
       "      <td>858</td>\n",
       "      <td>797</td>\n",
       "      <td>1198</td>\n",
       "      <td>689</td>\n",
       "      <td>659</td>\n",
       "      <td>1087</td>\n",
       "    </tr>\n",
       "    <tr>\n",
       "      <th>12</th>\n",
       "      <td>2016-08-31</td>\n",
       "      <td>1010</td>\n",
       "      <td>816</td>\n",
       "      <td>365</td>\n",
       "      <td>931</td>\n",
       "      <td>599</td>\n",
       "      <td>648</td>\n",
       "      <td>1050</td>\n",
       "      <td>606</td>\n",
       "      <td>668</td>\n",
       "      <td>544</td>\n",
       "    </tr>\n",
       "    <tr>\n",
       "      <th>13</th>\n",
       "      <td>2016-09-30</td>\n",
       "      <td>1164</td>\n",
       "      <td>808</td>\n",
       "      <td>445</td>\n",
       "      <td>985</td>\n",
       "      <td>520</td>\n",
       "      <td>767</td>\n",
       "      <td>1424</td>\n",
       "      <td>640</td>\n",
       "      <td>1003</td>\n",
       "      <td>572</td>\n",
       "    </tr>\n",
       "    <tr>\n",
       "      <th>14</th>\n",
       "      <td>2016-10-31</td>\n",
       "      <td>437</td>\n",
       "      <td>1020</td>\n",
       "      <td>288</td>\n",
       "      <td>2772</td>\n",
       "      <td>273</td>\n",
       "      <td>2134</td>\n",
       "      <td>1165</td>\n",
       "      <td>320</td>\n",
       "      <td>346</td>\n",
       "      <td>1278</td>\n",
       "    </tr>\n",
       "    <tr>\n",
       "      <th>15</th>\n",
       "      <td>2016-11-30</td>\n",
       "      <td>288</td>\n",
       "      <td>315</td>\n",
       "      <td>138</td>\n",
       "      <td>374</td>\n",
       "      <td>260</td>\n",
       "      <td>792</td>\n",
       "      <td>1520</td>\n",
       "      <td>376</td>\n",
       "      <td>467</td>\n",
       "      <td>213</td>\n",
       "    </tr>\n",
       "    <tr>\n",
       "      <th>16</th>\n",
       "      <td>2016-12-31</td>\n",
       "      <td>272</td>\n",
       "      <td>502</td>\n",
       "      <td>121</td>\n",
       "      <td>384</td>\n",
       "      <td>238</td>\n",
       "      <td>154</td>\n",
       "      <td>420</td>\n",
       "      <td>323</td>\n",
       "      <td>495</td>\n",
       "      <td>270</td>\n",
       "    </tr>\n",
       "    <tr>\n",
       "      <th>17</th>\n",
       "      <td>2017-01-31</td>\n",
       "      <td>201</td>\n",
       "      <td>205</td>\n",
       "      <td>310</td>\n",
       "      <td>235</td>\n",
       "      <td>441</td>\n",
       "      <td>242</td>\n",
       "      <td>431</td>\n",
       "      <td>183</td>\n",
       "      <td>249</td>\n",
       "      <td>247</td>\n",
       "    </tr>\n",
       "    <tr>\n",
       "      <th>18</th>\n",
       "      <td>2017-02-28</td>\n",
       "      <td>486</td>\n",
       "      <td>461</td>\n",
       "      <td>343</td>\n",
       "      <td>320</td>\n",
       "      <td>228</td>\n",
       "      <td>251</td>\n",
       "      <td>701</td>\n",
       "      <td>277</td>\n",
       "      <td>285</td>\n",
       "      <td>160</td>\n",
       "    </tr>\n",
       "    <tr>\n",
       "      <th>19</th>\n",
       "      <td>2017-03-31</td>\n",
       "      <td>790</td>\n",
       "      <td>727</td>\n",
       "      <td>535</td>\n",
       "      <td>698</td>\n",
       "      <td>672</td>\n",
       "      <td>294</td>\n",
       "      <td>784</td>\n",
       "      <td>488</td>\n",
       "      <td>495</td>\n",
       "      <td>572</td>\n",
       "    </tr>\n",
       "    <tr>\n",
       "      <th>20</th>\n",
       "      <td>2017-04-30</td>\n",
       "      <td>1307</td>\n",
       "      <td>1325</td>\n",
       "      <td>1037</td>\n",
       "      <td>1382</td>\n",
       "      <td>1312</td>\n",
       "      <td>741</td>\n",
       "      <td>1305</td>\n",
       "      <td>1274</td>\n",
       "      <td>1017</td>\n",
       "      <td>1064</td>\n",
       "    </tr>\n",
       "    <tr>\n",
       "      <th>21</th>\n",
       "      <td>2017-05-31</td>\n",
       "      <td>1511</td>\n",
       "      <td>1266</td>\n",
       "      <td>758</td>\n",
       "      <td>1450</td>\n",
       "      <td>1031</td>\n",
       "      <td>878</td>\n",
       "      <td>1222</td>\n",
       "      <td>1336</td>\n",
       "      <td>999</td>\n",
       "      <td>967</td>\n",
       "    </tr>\n",
       "    <tr>\n",
       "      <th>22</th>\n",
       "      <td>2017-06-30</td>\n",
       "      <td>1367</td>\n",
       "      <td>1222</td>\n",
       "      <td>677</td>\n",
       "      <td>1265</td>\n",
       "      <td>1141</td>\n",
       "      <td>1094</td>\n",
       "      <td>1322</td>\n",
       "      <td>1604</td>\n",
       "      <td>1135</td>\n",
       "      <td>933</td>\n",
       "    </tr>\n",
       "    <tr>\n",
       "      <th>23</th>\n",
       "      <td>2017-07-31</td>\n",
       "      <td>898</td>\n",
       "      <td>1929</td>\n",
       "      <td>583</td>\n",
       "      <td>1369</td>\n",
       "      <td>958</td>\n",
       "      <td>674</td>\n",
       "      <td>1367</td>\n",
       "      <td>1182</td>\n",
       "      <td>1069</td>\n",
       "      <td>1116</td>\n",
       "    </tr>\n",
       "    <tr>\n",
       "      <th>24</th>\n",
       "      <td>2017-08-31</td>\n",
       "      <td>1011</td>\n",
       "      <td>1233</td>\n",
       "      <td>656</td>\n",
       "      <td>1174</td>\n",
       "      <td>1505</td>\n",
       "      <td>848</td>\n",
       "      <td>1748</td>\n",
       "      <td>1072</td>\n",
       "      <td>876</td>\n",
       "      <td>1101</td>\n",
       "    </tr>\n",
       "  </tbody>\n",
       "</table>\n",
       "</div>"
      ],
      "text/plain": [
       "level_0   datetime    HH    HT    KT    LG    LT    NC    OB    SK    SS    WO\n",
       "0       2015-08-31  1919   875   677   812   775  1056  1359   964  1040  1472\n",
       "1       2015-09-30  1439   954   502   807   991   860  1099  1090  1025  1255\n",
       "2       2015-10-31   309   291   180   158   581  1651  4340   506  1685  1854\n",
       "3       2015-11-30   347   158   244   280   788   482  1137   261   499   791\n",
       "4       2015-12-31   426   254   220   197   424   250   416   378   499   454\n",
       "5       2016-01-31   467   299   208   317   261   283   493   299   427   307\n",
       "6       2016-02-29   536   427   318   323   315   174   387   387   314   288\n",
       "7       2016-03-31   752   554   586   571   581   390   623   643   890   676\n",
       "8       2016-04-30  1712   818   824  1067  1149   709  1577  1076   924  1116\n",
       "9       2016-05-31  1838   966   574  1052   970   688  1895   750   855   996\n",
       "10      2016-06-30  1647   900   583   836   920  1087  1386   982   781  1048\n",
       "11      2016-07-31  1350  1127   612   692   858   797  1198   689   659  1087\n",
       "12      2016-08-31  1010   816   365   931   599   648  1050   606   668   544\n",
       "13      2016-09-30  1164   808   445   985   520   767  1424   640  1003   572\n",
       "14      2016-10-31   437  1020   288  2772   273  2134  1165   320   346  1278\n",
       "15      2016-11-30   288   315   138   374   260   792  1520   376   467   213\n",
       "16      2016-12-31   272   502   121   384   238   154   420   323   495   270\n",
       "17      2017-01-31   201   205   310   235   441   242   431   183   249   247\n",
       "18      2017-02-28   486   461   343   320   228   251   701   277   285   160\n",
       "19      2017-03-31   790   727   535   698   672   294   784   488   495   572\n",
       "20      2017-04-30  1307  1325  1037  1382  1312   741  1305  1274  1017  1064\n",
       "21      2017-05-31  1511  1266   758  1450  1031   878  1222  1336   999   967\n",
       "22      2017-06-30  1367  1222   677  1265  1141  1094  1322  1604  1135   933\n",
       "23      2017-07-31   898  1929   583  1369   958   674  1367  1182  1069  1116\n",
       "24      2017-08-31  1011  1233   656  1174  1505   848  1748  1072   876  1101"
      ]
     },
     "execution_count": 7,
     "metadata": {},
     "output_type": "execute_result"
    }
   ],
   "source": [
    "unstacked=group_sample.unstack(level=-1)\n",
    "unstacked.reset_index(level=0, inplace=True)\n",
    "unstacked"
   ]
  },
  {
   "cell_type": "code",
   "execution_count": 8,
   "metadata": {},
   "outputs": [
    {
     "data": {
      "text/html": [
       "\n",
       "    <div class=\"bk-root\">\n",
       "        <a href=\"http://bokeh.pydata.org\" target=\"_blank\" class=\"bk-logo bk-logo-small bk-logo-notebook\"></a>\n",
       "        <span id=\"7df3bfd9-1754-430d-abb5-d07b79f7b34e\">Loading BokehJS ...</span>\n",
       "    </div>"
      ]
     },
     "metadata": {},
     "output_type": "display_data"
    },
    {
     "data": {
      "application/javascript": [
       "\n",
       "(function(global) {\n",
       "  function now() {\n",
       "    return new Date();\n",
       "  }\n",
       "\n",
       "  var force = true;\n",
       "\n",
       "  if (typeof (window._bokeh_onload_callbacks) === \"undefined\" || force === true) {\n",
       "    window._bokeh_onload_callbacks = [];\n",
       "    window._bokeh_is_loading = undefined;\n",
       "  }\n",
       "\n",
       "\n",
       "  \n",
       "  if (typeof (window._bokeh_timeout) === \"undefined\" || force === true) {\n",
       "    window._bokeh_timeout = Date.now() + 5000;\n",
       "    window._bokeh_failed_load = false;\n",
       "  }\n",
       "\n",
       "  var NB_LOAD_WARNING = {'data': {'text/html':\n",
       "     \"<div style='background-color: #fdd'>\\n\"+\n",
       "     \"<p>\\n\"+\n",
       "     \"BokehJS does not appear to have successfully loaded. If loading BokehJS from CDN, this \\n\"+\n",
       "     \"may be due to a slow or bad network connection. Possible fixes:\\n\"+\n",
       "     \"</p>\\n\"+\n",
       "     \"<ul>\\n\"+\n",
       "     \"<li>re-rerun `output_notebook()` to attempt to load from CDN again, or</li>\\n\"+\n",
       "     \"<li>use INLINE resources instead, as so:</li>\\n\"+\n",
       "     \"</ul>\\n\"+\n",
       "     \"<code>\\n\"+\n",
       "     \"from bokeh.resources import INLINE\\n\"+\n",
       "     \"output_notebook(resources=INLINE)\\n\"+\n",
       "     \"</code>\\n\"+\n",
       "     \"</div>\"}};\n",
       "\n",
       "  function display_loaded() {\n",
       "    if (window.Bokeh !== undefined) {\n",
       "      var el = document.getElementById(\"7df3bfd9-1754-430d-abb5-d07b79f7b34e\");\n",
       "      el.textContent = \"BokehJS \" + Bokeh.version + \" successfully loaded.\";\n",
       "    } else if (Date.now() < window._bokeh_timeout) {\n",
       "      setTimeout(display_loaded, 100)\n",
       "    }\n",
       "  }\n",
       "\n",
       "  function run_callbacks() {\n",
       "    try {\n",
       "      window._bokeh_onload_callbacks.forEach(function(callback) { callback() });\n",
       "    }\n",
       "    finally {\n",
       "      delete window._bokeh_onload_callbacks\n",
       "    }\n",
       "    console.info(\"Bokeh: all callbacks have finished\");\n",
       "  }\n",
       "\n",
       "  function load_libs(js_urls, callback) {\n",
       "    window._bokeh_onload_callbacks.push(callback);\n",
       "    if (window._bokeh_is_loading > 0) {\n",
       "      console.log(\"Bokeh: BokehJS is being loaded, scheduling callback at\", now());\n",
       "      return null;\n",
       "    }\n",
       "    if (js_urls == null || js_urls.length === 0) {\n",
       "      run_callbacks();\n",
       "      return null;\n",
       "    }\n",
       "    console.log(\"Bokeh: BokehJS not loaded, scheduling load and callback at\", now());\n",
       "    window._bokeh_is_loading = js_urls.length;\n",
       "    for (var i = 0; i < js_urls.length; i++) {\n",
       "      var url = js_urls[i];\n",
       "      var s = document.createElement('script');\n",
       "      s.src = url;\n",
       "      s.async = false;\n",
       "      s.onreadystatechange = s.onload = function() {\n",
       "        window._bokeh_is_loading--;\n",
       "        if (window._bokeh_is_loading === 0) {\n",
       "          console.log(\"Bokeh: all BokehJS libraries loaded\");\n",
       "          run_callbacks()\n",
       "        }\n",
       "      };\n",
       "      s.onerror = function() {\n",
       "        console.warn(\"failed to load library \" + url);\n",
       "      };\n",
       "      console.log(\"Bokeh: injecting script tag for BokehJS library: \", url);\n",
       "      document.getElementsByTagName(\"head\")[0].appendChild(s);\n",
       "    }\n",
       "  };var element = document.getElementById(\"7df3bfd9-1754-430d-abb5-d07b79f7b34e\");\n",
       "  if (element == null) {\n",
       "    console.log(\"Bokeh: ERROR: autoload.js configured with elementid '7df3bfd9-1754-430d-abb5-d07b79f7b34e' but no matching script tag was found. \")\n",
       "    return false;\n",
       "  }\n",
       "\n",
       "  var js_urls = [\"https://cdn.pydata.org/bokeh/release/bokeh-0.12.6.min.js\", \"https://cdn.pydata.org/bokeh/release/bokeh-widgets-0.12.6.min.js\"];\n",
       "\n",
       "  var inline_js = [\n",
       "    function(Bokeh) {\n",
       "      Bokeh.set_log_level(\"info\");\n",
       "    },\n",
       "    \n",
       "    function(Bokeh) {\n",
       "      \n",
       "    },\n",
       "    \n",
       "    function(Bokeh) {\n",
       "      \n",
       "      document.getElementById(\"7df3bfd9-1754-430d-abb5-d07b79f7b34e\").textContent = \"BokehJS is loading...\";\n",
       "    },\n",
       "    function(Bokeh) {\n",
       "      console.log(\"Bokeh: injecting CSS: https://cdn.pydata.org/bokeh/release/bokeh-0.12.6.min.css\");\n",
       "      Bokeh.embed.inject_css(\"https://cdn.pydata.org/bokeh/release/bokeh-0.12.6.min.css\");\n",
       "      console.log(\"Bokeh: injecting CSS: https://cdn.pydata.org/bokeh/release/bokeh-widgets-0.12.6.min.css\");\n",
       "      Bokeh.embed.inject_css(\"https://cdn.pydata.org/bokeh/release/bokeh-widgets-0.12.6.min.css\");\n",
       "    }\n",
       "  ];\n",
       "\n",
       "  function run_inline_js() {\n",
       "    \n",
       "    if ((window.Bokeh !== undefined) || (force === true)) {\n",
       "      for (var i = 0; i < inline_js.length; i++) {\n",
       "        inline_js[i](window.Bokeh);\n",
       "      }if (force === true) {\n",
       "        display_loaded();\n",
       "      }} else if (Date.now() < window._bokeh_timeout) {\n",
       "      setTimeout(run_inline_js, 100);\n",
       "    } else if (!window._bokeh_failed_load) {\n",
       "      console.log(\"Bokeh: BokehJS failed to load within specified timeout.\");\n",
       "      window._bokeh_failed_load = true;\n",
       "    } else if (force !== true) {\n",
       "      var cell = $(document.getElementById(\"7df3bfd9-1754-430d-abb5-d07b79f7b34e\")).parents('.cell').data().cell;\n",
       "      cell.output_area.append_execute_result(NB_LOAD_WARNING)\n",
       "    }\n",
       "\n",
       "  }\n",
       "\n",
       "  if (window._bokeh_is_loading === 0) {\n",
       "    console.log(\"Bokeh: BokehJS loaded, going straight to plotting\");\n",
       "    run_inline_js();\n",
       "  } else {\n",
       "    load_libs(js_urls, function() {\n",
       "      console.log(\"Bokeh: BokehJS plotting callback run at\", now());\n",
       "      run_inline_js();\n",
       "    });\n",
       "  }\n",
       "}(this));"
      ]
     },
     "metadata": {},
     "output_type": "display_data"
    }
   ],
   "source": [
    "from bokeh.plotting import figure, output_file, show\n",
    "from bokeh.io import output_notebook\n",
    "\n",
    "output_notebook()"
   ]
  },
  {
   "cell_type": "code",
   "execution_count": 9,
   "metadata": {},
   "outputs": [
    {
     "data": {
      "text/html": [
       "\n",
       "\n",
       "    <div class=\"bk-root\">\n",
       "        <div class=\"bk-plotdiv\" id=\"d12a8d7d-7242-4ca9-adf7-543f8ee9dca2\"></div>\n",
       "    </div>\n",
       "<script type=\"text/javascript\">\n",
       "  \n",
       "  (function(global) {\n",
       "    function now() {\n",
       "      return new Date();\n",
       "    }\n",
       "  \n",
       "    var force = false;\n",
       "  \n",
       "    if (typeof (window._bokeh_onload_callbacks) === \"undefined\" || force === true) {\n",
       "      window._bokeh_onload_callbacks = [];\n",
       "      window._bokeh_is_loading = undefined;\n",
       "    }\n",
       "  \n",
       "  \n",
       "    \n",
       "    if (typeof (window._bokeh_timeout) === \"undefined\" || force === true) {\n",
       "      window._bokeh_timeout = Date.now() + 0;\n",
       "      window._bokeh_failed_load = false;\n",
       "    }\n",
       "  \n",
       "    var NB_LOAD_WARNING = {'data': {'text/html':\n",
       "       \"<div style='background-color: #fdd'>\\n\"+\n",
       "       \"<p>\\n\"+\n",
       "       \"BokehJS does not appear to have successfully loaded. If loading BokehJS from CDN, this \\n\"+\n",
       "       \"may be due to a slow or bad network connection. Possible fixes:\\n\"+\n",
       "       \"</p>\\n\"+\n",
       "       \"<ul>\\n\"+\n",
       "       \"<li>re-rerun `output_notebook()` to attempt to load from CDN again, or</li>\\n\"+\n",
       "       \"<li>use INLINE resources instead, as so:</li>\\n\"+\n",
       "       \"</ul>\\n\"+\n",
       "       \"<code>\\n\"+\n",
       "       \"from bokeh.resources import INLINE\\n\"+\n",
       "       \"output_notebook(resources=INLINE)\\n\"+\n",
       "       \"</code>\\n\"+\n",
       "       \"</div>\"}};\n",
       "  \n",
       "    function display_loaded() {\n",
       "      if (window.Bokeh !== undefined) {\n",
       "        var el = document.getElementById(\"d12a8d7d-7242-4ca9-adf7-543f8ee9dca2\");\n",
       "        el.textContent = \"BokehJS \" + Bokeh.version + \" successfully loaded.\";\n",
       "      } else if (Date.now() < window._bokeh_timeout) {\n",
       "        setTimeout(display_loaded, 100)\n",
       "      }\n",
       "    }\n",
       "  \n",
       "    function run_callbacks() {\n",
       "      try {\n",
       "        window._bokeh_onload_callbacks.forEach(function(callback) { callback() });\n",
       "      }\n",
       "      finally {\n",
       "        delete window._bokeh_onload_callbacks\n",
       "      }\n",
       "      console.info(\"Bokeh: all callbacks have finished\");\n",
       "    }\n",
       "  \n",
       "    function load_libs(js_urls, callback) {\n",
       "      window._bokeh_onload_callbacks.push(callback);\n",
       "      if (window._bokeh_is_loading > 0) {\n",
       "        console.log(\"Bokeh: BokehJS is being loaded, scheduling callback at\", now());\n",
       "        return null;\n",
       "      }\n",
       "      if (js_urls == null || js_urls.length === 0) {\n",
       "        run_callbacks();\n",
       "        return null;\n",
       "      }\n",
       "      console.log(\"Bokeh: BokehJS not loaded, scheduling load and callback at\", now());\n",
       "      window._bokeh_is_loading = js_urls.length;\n",
       "      for (var i = 0; i < js_urls.length; i++) {\n",
       "        var url = js_urls[i];\n",
       "        var s = document.createElement('script');\n",
       "        s.src = url;\n",
       "        s.async = false;\n",
       "        s.onreadystatechange = s.onload = function() {\n",
       "          window._bokeh_is_loading--;\n",
       "          if (window._bokeh_is_loading === 0) {\n",
       "            console.log(\"Bokeh: all BokehJS libraries loaded\");\n",
       "            run_callbacks()\n",
       "          }\n",
       "        };\n",
       "        s.onerror = function() {\n",
       "          console.warn(\"failed to load library \" + url);\n",
       "        };\n",
       "        console.log(\"Bokeh: injecting script tag for BokehJS library: \", url);\n",
       "        document.getElementsByTagName(\"head\")[0].appendChild(s);\n",
       "      }\n",
       "    };var element = document.getElementById(\"d12a8d7d-7242-4ca9-adf7-543f8ee9dca2\");\n",
       "    if (element == null) {\n",
       "      console.log(\"Bokeh: ERROR: autoload.js configured with elementid 'd12a8d7d-7242-4ca9-adf7-543f8ee9dca2' but no matching script tag was found. \")\n",
       "      return false;\n",
       "    }\n",
       "  \n",
       "    var js_urls = [];\n",
       "  \n",
       "    var inline_js = [\n",
       "      function(Bokeh) {\n",
       "        (function() {\n",
       "          var fn = function() {\n",
       "            var docs_json = {\"fc31dd26-bc5c-45af-8d75-d8a7a5e2a0af\":{\"roots\":{\"references\":[{\"attributes\":{\"base\":60,\"mantissas\":[1,2,5,10,15,20,30],\"max_interval\":1800000.0,\"min_interval\":1000.0,\"num_minor_ticks\":0},\"id\":\"be1b3613-3143-4ac6-83cf-94daf72acfe6\",\"type\":\"AdaptiveTicker\"},{\"attributes\":{\"max_interval\":500.0,\"num_minor_ticks\":0},\"id\":\"c6050c61-f1c2-4af0-8e3a-7b75bd7de4a8\",\"type\":\"AdaptiveTicker\"},{\"attributes\":{\"base\":24,\"mantissas\":[1,2,4,6,8,12],\"max_interval\":43200000.0,\"min_interval\":3600000.0,\"num_minor_ticks\":0},\"id\":\"f26aa992-0a39-4f5b-8807-728ca29f64aa\",\"type\":\"AdaptiveTicker\"},{\"attributes\":{\"days\":[1,2,3,4,5,6,7,8,9,10,11,12,13,14,15,16,17,18,19,20,21,22,23,24,25,26,27,28,29,30,31]},\"id\":\"7900cc1c-318e-414c-80bf-802a6103820d\",\"type\":\"DaysTicker\"},{\"attributes\":{\"below\":[{\"id\":\"7acb3d46-7a1e-4270-822f-5b905598a257\",\"type\":\"DatetimeAxis\"}],\"left\":[{\"id\":\"d34887b2-3bf4-4d90-a8df-37b1c3fa1747\",\"type\":\"LinearAxis\"}],\"plot_height\":500,\"plot_width\":750,\"renderers\":[{\"id\":\"7acb3d46-7a1e-4270-822f-5b905598a257\",\"type\":\"DatetimeAxis\"},{\"id\":\"ff0927c0-cd65-42a4-a0cb-5bf77137a948\",\"type\":\"Grid\"},{\"id\":\"d34887b2-3bf4-4d90-a8df-37b1c3fa1747\",\"type\":\"LinearAxis\"},{\"id\":\"431a20b3-21bb-4784-96e1-f7f06acc46ac\",\"type\":\"Grid\"},{\"id\":\"494b1b05-f356-491b-91ac-ca2598b21939\",\"type\":\"BoxAnnotation\"},{\"id\":\"ecc287ec-124b-4e56-9f3f-f8dae9134014\",\"type\":\"Legend\"},{\"id\":\"66c2d016-934a-4fb8-bea4-d29fc996b793\",\"type\":\"GlyphRenderer\"},{\"id\":\"807d8e47-4997-4ffd-97d4-6f6263feea14\",\"type\":\"GlyphRenderer\"},{\"id\":\"fe1917fb-fe78-4a23-b96c-cb150c7c05f2\",\"type\":\"GlyphRenderer\"},{\"id\":\"81f6663f-3029-4a9b-98f6-7812f67a58d6\",\"type\":\"GlyphRenderer\"}],\"title\":{\"id\":\"a7ea607e-45b5-42d0-97f9-0f4f18f8b170\",\"type\":\"Title\"},\"tool_events\":{\"id\":\"9803ecc1-9d67-4808-9a6c-01f0fcb8e51e\",\"type\":\"ToolEvents\"},\"toolbar\":{\"id\":\"5f67d7fb-bb12-47f4-8cb1-ecbdf9ef5a73\",\"type\":\"Toolbar\"},\"x_range\":{\"id\":\"7ee2763a-554c-47b1-9aa8-06b561a5b30b\",\"type\":\"DataRange1d\"},\"x_scale\":{\"id\":\"6fe5791a-16d8-48ab-91c3-3322ce5f667f\",\"type\":\"LinearScale\"},\"y_range\":{\"id\":\"da0fc499-f6bb-4266-94b9-91dc467430d0\",\"type\":\"DataRange1d\"},\"y_scale\":{\"id\":\"a5e29cf9-81a6-485d-9a13-760d9fd9c83e\",\"type\":\"LinearScale\"}},\"id\":\"9a080a1e-530f-4cac-ad6f-97c69edd6235\",\"subtype\":\"Figure\",\"type\":\"Plot\"},{\"attributes\":{\"label\":{\"value\":\"\\ud55c\\ud654\"},\"renderers\":[{\"id\":\"66c2d016-934a-4fb8-bea4-d29fc996b793\",\"type\":\"GlyphRenderer\"}]},\"id\":\"f1768e38-19bf-4d6d-b103-a86854db5151\",\"type\":\"LegendItem\"},{\"attributes\":{\"items\":[{\"id\":\"f1768e38-19bf-4d6d-b103-a86854db5151\",\"type\":\"LegendItem\"},{\"id\":\"5e93eaf6-670c-4722-8d09-3ba9d184bb8e\",\"type\":\"LegendItem\"},{\"id\":\"8696b731-77ec-4ff5-8e9f-1c4c1f475740\",\"type\":\"LegendItem\"},{\"id\":\"0eefbd65-4ac3-4d34-aaa7-f45003b5d54c\",\"type\":\"LegendItem\"}],\"plot\":{\"id\":\"9a080a1e-530f-4cac-ad6f-97c69edd6235\",\"subtype\":\"Figure\",\"type\":\"Plot\"}},\"id\":\"ecc287ec-124b-4e56-9f3f-f8dae9134014\",\"type\":\"Legend\"},{\"attributes\":{\"days\":[1,4,7,10,13,16,19,22,25,28]},\"id\":\"d989264c-ff41-4728-a2f4-84a0a63eecd3\",\"type\":\"DaysTicker\"},{\"attributes\":{\"days\":[1,8,15,22]},\"id\":\"c121bfa9-8f45-4dee-8730-5591ac070eb8\",\"type\":\"DaysTicker\"},{\"attributes\":{},\"id\":\"9803ecc1-9d67-4808-9a6c-01f0fcb8e51e\",\"type\":\"ToolEvents\"},{\"attributes\":{\"days\":[1,15]},\"id\":\"ca085dee-2fb1-4d45-a540-55b34a16eac2\",\"type\":\"DaysTicker\"},{\"attributes\":{\"callback\":null},\"id\":\"7ee2763a-554c-47b1-9aa8-06b561a5b30b\",\"type\":\"DataRange1d\"},{\"attributes\":{\"line_color\":{\"value\":\"#cc1f29\"},\"line_width\":{\"value\":2},\"x\":{\"field\":\"x\"},\"y\":{\"field\":\"y\"}},\"id\":\"d3acbb1a-9a98-46c1-9832-e3b3b416d2ef\",\"type\":\"Line\"},{\"attributes\":{\"active_drag\":\"auto\",\"active_inspect\":\"auto\",\"active_scroll\":\"auto\",\"active_tap\":\"auto\",\"tools\":[{\"id\":\"4b1d2cbd-2841-4e9b-8d21-0c16600d161f\",\"type\":\"PanTool\"},{\"id\":\"26324c76-3bdb-402e-ac29-90575a3b58ff\",\"type\":\"WheelZoomTool\"},{\"id\":\"f945d4d1-37bf-4667-a1e6-848c94c8686c\",\"type\":\"BoxZoomTool\"},{\"id\":\"25085a6c-61cf-4990-adc7-47b44a97dba9\",\"type\":\"SaveTool\"},{\"id\":\"4bb4a632-129a-447d-8e9e-014a57f3895e\",\"type\":\"ResetTool\"},{\"id\":\"903636c8-0d8a-46d0-a7ea-a484b775534b\",\"type\":\"HelpTool\"}]},\"id\":\"5f67d7fb-bb12-47f4-8cb1-ecbdf9ef5a73\",\"type\":\"Toolbar\"},{\"attributes\":{\"line_color\":{\"value\":\"#fba330\"},\"line_width\":{\"value\":2},\"x\":{\"field\":\"x\"},\"y\":{\"field\":\"y\"}},\"id\":\"69be5914-102b-4480-ad13-5ac920489fc9\",\"type\":\"Line\"},{\"attributes\":{\"line_alpha\":{\"value\":0.1},\"line_color\":{\"value\":\"#1f77b4\"},\"line_width\":{\"value\":2},\"x\":{\"field\":\"x\"},\"y\":{\"field\":\"y\"}},\"id\":\"f24edc38-177e-472d-9103-4c9aaf27a471\",\"type\":\"Line\"},{\"attributes\":{\"line_alpha\":{\"value\":0.1},\"line_color\":{\"value\":\"#1f77b4\"},\"line_width\":{\"value\":2},\"x\":{\"field\":\"x\"},\"y\":{\"field\":\"y\"}},\"id\":\"290f69a2-d718-45dd-bf24-e12412d7bf91\",\"type\":\"Line\"},{\"attributes\":{\"data_source\":{\"id\":\"2b9bc3df-f2c8-425c-a45b-0a7944aecc8d\",\"type\":\"ColumnDataSource\"},\"glyph\":{\"id\":\"d3acbb1a-9a98-46c1-9832-e3b3b416d2ef\",\"type\":\"Line\"},\"hover_glyph\":null,\"muted_glyph\":null,\"nonselection_glyph\":{\"id\":\"290f69a2-d718-45dd-bf24-e12412d7bf91\",\"type\":\"Line\"},\"selection_glyph\":null},\"id\":\"81f6663f-3029-4a9b-98f6-7812f67a58d6\",\"type\":\"GlyphRenderer\"},{\"attributes\":{\"months\":[0,1,2,3,4,5,6,7,8,9,10,11]},\"id\":\"4bff6dd1-9a75-4820-9a4e-548f7afa8c9e\",\"type\":\"MonthsTicker\"},{\"attributes\":{\"callback\":null},\"id\":\"da0fc499-f6bb-4266-94b9-91dc467430d0\",\"type\":\"DataRange1d\"},{\"attributes\":{\"months\":[0,2,4,6,8,10]},\"id\":\"11e2d837-8a01-47a5-93f7-011b1ef12fde\",\"type\":\"MonthsTicker\"},{\"attributes\":{\"months\":[0,4,8]},\"id\":\"a3e76cb0-8c04-412c-9ff0-d3e1af80b457\",\"type\":\"MonthsTicker\"},{\"attributes\":{},\"id\":\"6fe5791a-16d8-48ab-91c3-3322ce5f667f\",\"type\":\"LinearScale\"},{\"attributes\":{\"plot\":null,\"text\":\"\"},\"id\":\"a7ea607e-45b5-42d0-97f9-0f4f18f8b170\",\"type\":\"Title\"},{\"attributes\":{\"callback\":null,\"column_names\":[\"x\",\"y\"],\"data\":{\"x\":{\"__ndarray__\":\"AACA2hD4dEIAAADHuAF1QgAAQBmzC3VCAADABVsVdUIAAABYVR91QgAAQKpPKXVCAAAAMaUydUIAAECDnzx1QgAAwG9HRnVCAAAAwkFQdUIAAICu6Vl1QgAAwADkY3VCAAAAU95tdUIAAIA/hnd1QgAAwJGAgXVCAABAfiiLdUIAAIDQIpV1QgAAwCIdn3VCAADAQyCodUIAAACWGrJ1QgAAgILCu3VCAADA1LzFdUIAAEDBZM91QgAAgBNf2XVCAADAZVnjdUI=\",\"dtype\":\"float64\",\"shape\":[25]},\"y\":[1359,1099,4340,1137,416,493,387,623,1577,1895,1386,1198,1050,1424,1165,1520,420,431,701,784,1305,1222,1322,1367,1748]}},\"id\":\"917e673e-4e77-40e0-87cd-6847431bbb93\",\"type\":\"ColumnDataSource\"},{\"attributes\":{},\"id\":\"a5e29cf9-81a6-485d-9a13-760d9fd9c83e\",\"type\":\"LinearScale\"},{\"attributes\":{\"line_color\":{\"value\":\"#2e297c\"},\"line_width\":{\"value\":2},\"x\":{\"field\":\"x\"},\"y\":{\"field\":\"y\"}},\"id\":\"b179b00e-8786-4bfa-a994-022e35b0913c\",\"type\":\"Line\"},{\"attributes\":{\"months\":[0,6]},\"id\":\"4af71ee4-c314-4c79-a857-06e7d051215b\",\"type\":\"MonthsTicker\"},{\"attributes\":{},\"id\":\"5c2bcac7-122e-4668-908a-77f3a45c4448\",\"type\":\"YearsTicker\"},{\"attributes\":{\"line_alpha\":{\"value\":0.1},\"line_color\":{\"value\":\"#1f77b4\"},\"line_width\":{\"value\":2},\"x\":{\"field\":\"x\"},\"y\":{\"field\":\"y\"}},\"id\":\"4537bc2b-b18f-4e85-a4e3-7028dac476bf\",\"type\":\"Line\"},{\"attributes\":{\"data_source\":{\"id\":\"917e673e-4e77-40e0-87cd-6847431bbb93\",\"type\":\"ColumnDataSource\"},\"glyph\":{\"id\":\"b179b00e-8786-4bfa-a994-022e35b0913c\",\"type\":\"Line\"},\"hover_glyph\":null,\"muted_glyph\":null,\"nonselection_glyph\":{\"id\":\"4537bc2b-b18f-4e85-a4e3-7028dac476bf\",\"type\":\"Line\"},\"selection_glyph\":null},\"id\":\"fe1917fb-fe78-4a23-b96c-cb150c7c05f2\",\"type\":\"GlyphRenderer\"},{\"attributes\":{\"axis_label\":\"Date\",\"formatter\":{\"id\":\"277a8e2d-1a14-4043-8ae0-c349519418f6\",\"type\":\"DatetimeTickFormatter\"},\"plot\":{\"id\":\"9a080a1e-530f-4cac-ad6f-97c69edd6235\",\"subtype\":\"Figure\",\"type\":\"Plot\"},\"ticker\":{\"id\":\"ed4640ad-de36-46bc-9886-05777772cebb\",\"type\":\"DatetimeTicker\"}},\"id\":\"7acb3d46-7a1e-4270-822f-5b905598a257\",\"type\":\"DatetimeAxis\"},{\"attributes\":{\"label\":{\"value\":\"\\ub86f\\ub370\"},\"renderers\":[{\"id\":\"807d8e47-4997-4ffd-97d4-6f6263feea14\",\"type\":\"GlyphRenderer\"}]},\"id\":\"5e93eaf6-670c-4722-8d09-3ba9d184bb8e\",\"type\":\"LegendItem\"},{\"attributes\":{\"num_minor_ticks\":5},\"id\":\"ed4640ad-de36-46bc-9886-05777772cebb\",\"type\":\"DatetimeTicker\"},{\"attributes\":{},\"id\":\"277a8e2d-1a14-4043-8ae0-c349519418f6\",\"type\":\"DatetimeTickFormatter\"},{\"attributes\":{\"grid_line_alpha\":{\"value\":0.3},\"plot\":{\"id\":\"9a080a1e-530f-4cac-ad6f-97c69edd6235\",\"subtype\":\"Figure\",\"type\":\"Plot\"},\"ticker\":{\"id\":\"ed4640ad-de36-46bc-9886-05777772cebb\",\"type\":\"DatetimeTicker\"}},\"id\":\"ff0927c0-cd65-42a4-a0cb-5bf77137a948\",\"type\":\"Grid\"},{\"attributes\":{\"axis_label\":\"Count\",\"formatter\":{\"id\":\"8f65aa87-8a94-4178-9a9d-ff0071027665\",\"type\":\"BasicTickFormatter\"},\"plot\":{\"id\":\"9a080a1e-530f-4cac-ad6f-97c69edd6235\",\"subtype\":\"Figure\",\"type\":\"Plot\"},\"ticker\":{\"id\":\"0fbac111-44bd-43d7-8086-1b5b810476fe\",\"type\":\"BasicTicker\"}},\"id\":\"d34887b2-3bf4-4d90-a8df-37b1c3fa1747\",\"type\":\"LinearAxis\"},{\"attributes\":{\"callback\":null,\"column_names\":[\"x\",\"y\"],\"data\":{\"x\":{\"__ndarray__\":\"AACA2hD4dEIAAADHuAF1QgAAQBmzC3VCAADABVsVdUIAAABYVR91QgAAQKpPKXVCAAAAMaUydUIAAECDnzx1QgAAwG9HRnVCAAAAwkFQdUIAAICu6Vl1QgAAwADkY3VCAAAAU95tdUIAAIA/hnd1QgAAwJGAgXVCAABAfiiLdUIAAIDQIpV1QgAAwCIdn3VCAADAQyCodUIAAACWGrJ1QgAAgILCu3VCAADA1LzFdUIAAEDBZM91QgAAgBNf2XVCAADAZVnjdUI=\",\"dtype\":\"float64\",\"shape\":[25]},\"y\":[775,991,581,788,424,261,315,581,1149,970,920,858,599,520,273,260,238,441,228,672,1312,1031,1141,958,1505]}},\"id\":\"3b677f99-d43a-4906-b267-e5bbcf85f1eb\",\"type\":\"ColumnDataSource\"},{\"attributes\":{},\"id\":\"0fbac111-44bd-43d7-8086-1b5b810476fe\",\"type\":\"BasicTicker\"},{\"attributes\":{\"dimension\":1,\"grid_line_alpha\":{\"value\":0.3},\"plot\":{\"id\":\"9a080a1e-530f-4cac-ad6f-97c69edd6235\",\"subtype\":\"Figure\",\"type\":\"Plot\"},\"ticker\":{\"id\":\"0fbac111-44bd-43d7-8086-1b5b810476fe\",\"type\":\"BasicTicker\"}},\"id\":\"431a20b3-21bb-4784-96e1-f7f06acc46ac\",\"type\":\"Grid\"},{\"attributes\":{\"callback\":null,\"column_names\":[\"x\",\"y\"],\"data\":{\"x\":{\"__ndarray__\":\"AACA2hD4dEIAAADHuAF1QgAAQBmzC3VCAADABVsVdUIAAABYVR91QgAAQKpPKXVCAAAAMaUydUIAAECDnzx1QgAAwG9HRnVCAAAAwkFQdUIAAICu6Vl1QgAAwADkY3VCAAAAU95tdUIAAIA/hnd1QgAAwJGAgXVCAABAfiiLdUIAAIDQIpV1QgAAwCIdn3VCAADAQyCodUIAAACWGrJ1QgAAgILCu3VCAADA1LzFdUIAAEDBZM91QgAAgBNf2XVCAADAZVnjdUI=\",\"dtype\":\"float64\",\"shape\":[25]},\"y\":[1919,1439,309,347,426,467,536,752,1712,1838,1647,1350,1010,1164,437,288,272,201,486,790,1307,1511,1367,898,1011]}},\"id\":\"6268b88a-5c2e-4bac-a79d-61ee50a6521e\",\"type\":\"ColumnDataSource\"},{\"attributes\":{\"plot\":{\"id\":\"9a080a1e-530f-4cac-ad6f-97c69edd6235\",\"subtype\":\"Figure\",\"type\":\"Plot\"}},\"id\":\"4b1d2cbd-2841-4e9b-8d21-0c16600d161f\",\"type\":\"PanTool\"},{\"attributes\":{\"bottom_units\":\"screen\",\"fill_alpha\":{\"value\":0.5},\"fill_color\":{\"value\":\"lightgrey\"},\"left_units\":\"screen\",\"level\":\"overlay\",\"line_alpha\":{\"value\":1.0},\"line_color\":{\"value\":\"black\"},\"line_dash\":[4,4],\"line_width\":{\"value\":2},\"plot\":null,\"render_mode\":\"css\",\"right_units\":\"screen\",\"top_units\":\"screen\"},\"id\":\"494b1b05-f356-491b-91ac-ca2598b21939\",\"type\":\"BoxAnnotation\"},{\"attributes\":{\"data_source\":{\"id\":\"6268b88a-5c2e-4bac-a79d-61ee50a6521e\",\"type\":\"ColumnDataSource\"},\"glyph\":{\"id\":\"69be5914-102b-4480-ad13-5ac920489fc9\",\"type\":\"Line\"},\"hover_glyph\":null,\"muted_glyph\":null,\"nonselection_glyph\":{\"id\":\"f24edc38-177e-472d-9103-4c9aaf27a471\",\"type\":\"Line\"},\"selection_glyph\":null},\"id\":\"66c2d016-934a-4fb8-bea4-d29fc996b793\",\"type\":\"GlyphRenderer\"},{\"attributes\":{\"plot\":{\"id\":\"9a080a1e-530f-4cac-ad6f-97c69edd6235\",\"subtype\":\"Figure\",\"type\":\"Plot\"}},\"id\":\"26324c76-3bdb-402e-ac29-90575a3b58ff\",\"type\":\"WheelZoomTool\"},{\"attributes\":{\"overlay\":{\"id\":\"494b1b05-f356-491b-91ac-ca2598b21939\",\"type\":\"BoxAnnotation\"},\"plot\":{\"id\":\"9a080a1e-530f-4cac-ad6f-97c69edd6235\",\"subtype\":\"Figure\",\"type\":\"Plot\"}},\"id\":\"f945d4d1-37bf-4667-a1e6-848c94c8686c\",\"type\":\"BoxZoomTool\"},{\"attributes\":{},\"id\":\"8f65aa87-8a94-4178-9a9d-ff0071027665\",\"type\":\"BasicTickFormatter\"},{\"attributes\":{\"plot\":{\"id\":\"9a080a1e-530f-4cac-ad6f-97c69edd6235\",\"subtype\":\"Figure\",\"type\":\"Plot\"}},\"id\":\"25085a6c-61cf-4990-adc7-47b44a97dba9\",\"type\":\"SaveTool\"},{\"attributes\":{\"label\":{\"value\":\"\\ub450\\uc0b0\"},\"renderers\":[{\"id\":\"fe1917fb-fe78-4a23-b96c-cb150c7c05f2\",\"type\":\"GlyphRenderer\"}]},\"id\":\"8696b731-77ec-4ff5-8e9f-1c4c1f475740\",\"type\":\"LegendItem\"},{\"attributes\":{\"label\":{\"value\":\"\\uae30\\uc544\"},\"renderers\":[{\"id\":\"81f6663f-3029-4a9b-98f6-7812f67a58d6\",\"type\":\"GlyphRenderer\"}]},\"id\":\"0eefbd65-4ac3-4d34-aaa7-f45003b5d54c\",\"type\":\"LegendItem\"},{\"attributes\":{\"plot\":{\"id\":\"9a080a1e-530f-4cac-ad6f-97c69edd6235\",\"subtype\":\"Figure\",\"type\":\"Plot\"}},\"id\":\"4bb4a632-129a-447d-8e9e-014a57f3895e\",\"type\":\"ResetTool\"},{\"attributes\":{\"line_color\":{\"value\":\"#e86d25\"},\"line_width\":{\"value\":2},\"x\":{\"field\":\"x\"},\"y\":{\"field\":\"y\"}},\"id\":\"b79ffef6-1b85-4a16-97e8-e0a4c2f231c5\",\"type\":\"Line\"},{\"attributes\":{\"plot\":{\"id\":\"9a080a1e-530f-4cac-ad6f-97c69edd6235\",\"subtype\":\"Figure\",\"type\":\"Plot\"}},\"id\":\"903636c8-0d8a-46d0-a7ea-a484b775534b\",\"type\":\"HelpTool\"},{\"attributes\":{\"line_alpha\":{\"value\":0.1},\"line_color\":{\"value\":\"#1f77b4\"},\"line_width\":{\"value\":2},\"x\":{\"field\":\"x\"},\"y\":{\"field\":\"y\"}},\"id\":\"d751c951-1b12-4064-8f48-5e7f475598ea\",\"type\":\"Line\"},{\"attributes\":{\"data_source\":{\"id\":\"3b677f99-d43a-4906-b267-e5bbcf85f1eb\",\"type\":\"ColumnDataSource\"},\"glyph\":{\"id\":\"b79ffef6-1b85-4a16-97e8-e0a4c2f231c5\",\"type\":\"Line\"},\"hover_glyph\":null,\"muted_glyph\":null,\"nonselection_glyph\":{\"id\":\"d751c951-1b12-4064-8f48-5e7f475598ea\",\"type\":\"Line\"},\"selection_glyph\":null},\"id\":\"807d8e47-4997-4ffd-97d4-6f6263feea14\",\"type\":\"GlyphRenderer\"},{\"attributes\":{\"callback\":null,\"column_names\":[\"x\",\"y\"],\"data\":{\"x\":{\"__ndarray__\":\"AACA2hD4dEIAAADHuAF1QgAAQBmzC3VCAADABVsVdUIAAABYVR91QgAAQKpPKXVCAAAAMaUydUIAAECDnzx1QgAAwG9HRnVCAAAAwkFQdUIAAICu6Vl1QgAAwADkY3VCAAAAU95tdUIAAIA/hnd1QgAAwJGAgXVCAABAfiiLdUIAAIDQIpV1QgAAwCIdn3VCAADAQyCodUIAAACWGrJ1QgAAgILCu3VCAADA1LzFdUIAAEDBZM91QgAAgBNf2XVCAADAZVnjdUI=\",\"dtype\":\"float64\",\"shape\":[25]},\"y\":[875,954,291,158,254,299,427,554,818,966,900,1127,816,808,1020,315,502,205,461,727,1325,1266,1222,1929,1233]}},\"id\":\"2b9bc3df-f2c8-425c-a45b-0a7944aecc8d\",\"type\":\"ColumnDataSource\"}],\"root_ids\":[\"9a080a1e-530f-4cac-ad6f-97c69edd6235\"]},\"title\":\"Bokeh Application\",\"version\":\"0.12.6\"}};\n",
       "            var render_items = [{\"docid\":\"fc31dd26-bc5c-45af-8d75-d8a7a5e2a0af\",\"elementid\":\"d12a8d7d-7242-4ca9-adf7-543f8ee9dca2\",\"modelid\":\"9a080a1e-530f-4cac-ad6f-97c69edd6235\"}];\n",
       "            \n",
       "            Bokeh.embed.embed_items(docs_json, render_items);\n",
       "          };\n",
       "          if (document.readyState != \"loading\") fn();\n",
       "          else document.addEventListener(\"DOMContentLoaded\", fn);\n",
       "        })();\n",
       "      },\n",
       "      function(Bokeh) {\n",
       "      }\n",
       "    ];\n",
       "  \n",
       "    function run_inline_js() {\n",
       "      \n",
       "      if ((window.Bokeh !== undefined) || (force === true)) {\n",
       "        for (var i = 0; i < inline_js.length; i++) {\n",
       "          inline_js[i](window.Bokeh);\n",
       "        }if (force === true) {\n",
       "          display_loaded();\n",
       "        }} else if (Date.now() < window._bokeh_timeout) {\n",
       "        setTimeout(run_inline_js, 100);\n",
       "      } else if (!window._bokeh_failed_load) {\n",
       "        console.log(\"Bokeh: BokehJS failed to load within specified timeout.\");\n",
       "        window._bokeh_failed_load = true;\n",
       "      } else if (force !== true) {\n",
       "        var cell = $(document.getElementById(\"d12a8d7d-7242-4ca9-adf7-543f8ee9dca2\")).parents('.cell').data().cell;\n",
       "        cell.output_area.append_execute_result(NB_LOAD_WARNING)\n",
       "      }\n",
       "  \n",
       "    }\n",
       "  \n",
       "    if (window._bokeh_is_loading === 0) {\n",
       "      console.log(\"Bokeh: BokehJS loaded, going straight to plotting\");\n",
       "      run_inline_js();\n",
       "    } else {\n",
       "      load_libs(js_urls, function() {\n",
       "        console.log(\"Bokeh: BokehJS plotting callback run at\", now());\n",
       "        run_inline_js();\n",
       "      });\n",
       "    }\n",
       "  }(this));\n",
       "</script>"
      ]
     },
     "metadata": {},
     "output_type": "display_data"
    }
   ],
   "source": [
    "p1 = figure(plot_width=750, plot_height=500,x_axis_type='datetime')\n",
    "p1.grid.grid_line_alpha=0.3\n",
    "p1.xaxis.axis_label = 'Date'\n",
    "p1.yaxis.axis_label = 'Count'\n",
    "p1.line(unstacked['datetime'], unstacked['HH'], color='#fba330', legend='한화',line_width=2)\n",
    "p1.line(unstacked['datetime'], unstacked['LT'], color='#e86d25', legend='롯데',line_width=2)\n",
    "p1.line(unstacked['datetime'], unstacked['OB'], color='#2e297c', legend='두산',line_width=2)\n",
    "p1.line(unstacked['datetime'], unstacked['HT'], color='#cc1f29', legend='기아',line_width=2)\n",
    "'''\n",
    "p1.line(unstacked['datetime'], unstacked['NC'], color='#1e91ca', legend='NC',line_width=2)\n",
    "p1.line(unstacked['datetime'], unstacked['LG'], color='#ea2361', legend='LG',line_width=2)\n",
    "p1.line(unstacked['datetime'], unstacked['KT'], color='grey', legend='KT',line_width=2)\n",
    "p1.line(unstacked['datetime'], unstacked['SS'], color='#137dbe', legend='삼성',line_width=2)\n",
    "p1.line(unstacked['datetime'], unstacked['SK'], color='red', legend='SK',line_width=2)\n",
    "p1.line(unstacked['datetime'], unstacked['WO'], color='#e91d27', legend='넥센',line_width=2)\n",
    "'''\n",
    "show(p1)"
   ]
  },
  {
   "cell_type": "code",
   "execution_count": 10,
   "metadata": {
    "collapsed": true
   },
   "outputs": [],
   "source": [
    "df.drop(['url','org_url','desc'], axis = 1, inplace = True)"
   ]
  },
  {
   "cell_type": "code",
   "execution_count": 11,
   "metadata": {
    "collapsed": true
   },
   "outputs": [],
   "source": [
    "df['title']=df['title'].str.replace(r\"[^0-9a-zA-Z가-힣,.!?@=<>()\\[\\]{} ]+\", \" \")"
   ]
  },
  {
   "cell_type": "code",
   "execution_count": 12,
   "metadata": {},
   "outputs": [
    {
     "data": {
      "text/plain": [
       "198064"
      ]
     },
     "execution_count": 12,
     "metadata": {},
     "output_type": "execute_result"
    }
   ],
   "source": [
    "len(df)"
   ]
  },
  {
   "cell_type": "code",
   "execution_count": 13,
   "metadata": {
    "collapsed": true
   },
   "outputs": [],
   "source": [
    "docs=df['title']+ '. ' + df['contents']"
   ]
  },
  {
   "cell_type": "code",
   "execution_count": 14,
   "metadata": {
    "collapsed": true
   },
   "outputs": [],
   "source": [
    "# 문장 내용과 관계없는 특수문자 제거\n",
    "test=docs.str.replace(r\"[^0-9a-zA-Z가-힣=,.:!?@<>()/\\-\\[\\]{} ]+\", \" \")\n",
    "# 이메일 제거 및 url 제거 #\\([a-z.:/ ]+\\)|\n",
    "test=test.str.replace(r\"([0-9a-zA-Z.]+@[0-9a-zA-Z.]+)|[0-9a-zA-Z.]+.kr|[0-9a-zA-Z.]+.com\",\"\")\n",
    "test=test.str.replace(r\"http:[/]+\",\"\")\n",
    "#remove byline\n",
    "test=test.str.replace(r\"\\[[0-9a-zA-Z가-힣/=()!|,. ]+\\]|\\([0-9a-zA-Z가-힣()!|,. ]+=[0-9a-zA-Z가-힣()!|,. ]+\\)\", \" \")\n",
    "#비어있는 () 및 언론사 종특 제거\n",
    "test=test.str.replace(r\"\\(\\)[. ]|마이데일리.|조이뉴스24.\", \" \")\n",
    "#알파벳으로 끝나는 문장 제거\n",
    "#test=test.str.replace(r\"[a-zA-Z ]+[,.]\", \"\")\n",
    "#test=test.str.replace(r\"([0-9a-zA-Z.]+@[0-9a-zA-Z.]+)|[0-9a-zA-Z.]+[.kr]|[0-9a-zA-Z.]+[.com]\",\"\")\n",
    "#sentences=test.str.replace(r\"\\[[0-9a-zA-Z가-힣()|,. ]+\\]|([0-9a-zA-Z.]+@[0-9a-zA-Z.]+)\n",
    "#|[0-9a-zA-Z.]+[.kr]|[0-9a-zA-Z.]+[.com]|[0-9a-zA-Z.]+@|\\([a-z.:/ ]+\\)|마이데일리.|조이뉴스24.|[a-zA-Z,. ]+\\.|기사제공 [0-9a-zA-Z가-힣 .]+\", \" \")"
   ]
  },
  {
   "cell_type": "markdown",
   "metadata": {},
   "source": [
    "## 문장추출"
   ]
  },
  {
   "cell_type": "code",
   "execution_count": 15,
   "metadata": {
    "collapsed": true
   },
   "outputs": [],
   "source": [
    "sentences=test.str.findall(r\"[0-9a-zA-Z가-힣%,()\\- ]+\\. \")"
   ]
  },
  {
   "cell_type": "code",
   "execution_count": 16,
   "metadata": {},
   "outputs": [
    {
     "data": {
      "text/plain": [
       "198064"
      ]
     },
     "execution_count": 16,
     "metadata": {},
     "output_type": "execute_result"
    }
   ],
   "source": [
    "len(sentences)"
   ]
  },
  {
   "cell_type": "code",
   "execution_count": 17,
   "metadata": {},
   "outputs": [
    {
     "name": "stdout",
     "output_type": "stream",
     "text": [
      "CPU times: user 7min 18s, sys: 7.31 s, total: 7min 25s\n",
      "Wall time: 7min 26s\n"
     ]
    }
   ],
   "source": [
    "%%time\n",
    "from konlpy.tag import Mecab; m = Mecab()\n",
    "pos = lambda d: ['/'.join(p) for p in m.pos(d)]\n",
    "\n",
    "#[item for sublist in l for item in sublist]  \n",
    "sentence_pos=[pos(sentence) for doc in sentences for sentence in doc] "
   ]
  },
  {
   "cell_type": "code",
   "execution_count": 18,
   "metadata": {},
   "outputs": [
    {
     "name": "stdout",
     "output_type": "stream",
     "text": [
      "CPU times: user 2min 21s, sys: 1.7 s, total: 2min 23s\n",
      "Wall time: 2min 23s\n"
     ]
    }
   ],
   "source": [
    "%%time\n",
    "from gensim import corpora\n",
    "dictionary_ko = corpora.Dictionary(sentence_pos)\n",
    "dictionary_ko.save('kbo.dict')"
   ]
  },
  {
   "cell_type": "code",
   "execution_count": 19,
   "metadata": {},
   "outputs": [
    {
     "name": "stdout",
     "output_type": "stream",
     "text": [
      "CPU times: user 2h 7min 50s, sys: 3.32 s, total: 2h 7min 53s\n",
      "Wall time: 32min 17s\n"
     ]
    }
   ],
   "source": [
    "%%time\n",
    "from gensim.models import word2vec\n",
    "wv_model_ko = word2vec.Word2Vec(sentence_pos, workers=4, size=500, min_count=10)\n",
    "wv_model_ko.init_sims(replace=True)\n",
    "wv_model_ko.save('kbo_word2vec.model')"
   ]
  },
  {
   "cell_type": "code",
   "execution_count": 85,
   "metadata": {},
   "outputs": [
    {
     "data": {
      "text/plain": [
       "[('특급/NNG', 0.5562406778335571),\n",
       " ('에이스/NNG', 0.49179181456565857),\n",
       " ('최강/NNG', 0.44417691230773926),\n",
       " ('강타자/NNG', 0.4441549479961395),\n",
       " ('수준급/NNG', 0.4392955005168915),\n",
       " ('정상급/NNG', 0.4291062355041504),\n",
       " ('톱클래스/NNG', 0.4206096827983856),\n",
       " ('최저/NNG', 0.416382372379303),\n",
       " ('정통파/NNG', 0.41480788588523865),\n",
       " ('선수/NNG', 0.4052785634994507)]"
      ]
     },
     "execution_count": 85,
     "metadata": {},
     "output_type": "execute_result"
    }
   ],
   "source": [
    "wv_model_ko.most_similar(positive=pos('최고 투수'))"
   ]
  },
  {
   "cell_type": "code",
   "execution_count": 65,
   "metadata": {},
   "outputs": [
    {
     "data": {
      "text/plain": [
       "[('이호준/NNP', 0.8113997578620911),\n",
       " ('박세혁/NNP', 0.7877517938613892),\n",
       " ('최주환/NNP', 0.7860463261604309),\n",
       " ('김재환/NNP', 0.785500705242157),\n",
       " ('고영민/NNP', 0.7813785672187805),\n",
       " ('오재원/NNP', 0.7793625593185425),\n",
       " ('이승엽/NNP', 0.7776396870613098),\n",
       " ('오재일/NNP', 0.7773009538650513),\n",
       " ('최준석/NNP', 0.7765713930130005),\n",
       " ('민병헌/NNP', 0.7725090980529785)]"
      ]
     },
     "execution_count": 65,
     "metadata": {},
     "output_type": "execute_result"
    }
   ],
   "source": [
    "wv_model_ko.most_similar_cosmul(pos('홍성흔'))"
   ]
  },
  {
   "cell_type": "code",
   "execution_count": 120,
   "metadata": {},
   "outputs": [
    {
     "data": {
      "text/plain": [
       "17651"
      ]
     },
     "execution_count": 120,
     "metadata": {},
     "output_type": "execute_result"
    }
   ],
   "source": [
    "model_vocab = [ word for word in wv_model_ko.wv.vocab.keys() if word.split('/')[1].startswith('NN')]\n",
    "len(model_vocab)"
   ]
  },
  {
   "cell_type": "code",
   "execution_count": 132,
   "metadata": {},
   "outputs": [],
   "source": [
    "from sklearn.manifold import TSNE\n",
    "import numpy as np\n",
    "\n",
    "vectors = [wv_model_ko[word] for word in model_vocab[:1000]]\n",
    "\n",
    "perplexity = 15\n",
    "learning_rate = 400\n",
    "\n",
    "tsne = TSNE(n_components=2, perplexity=perplexity, learning_rate=learning_rate, random_state=666)\n",
    "np.set_printoptions(suppress=True)\n",
    "\n",
    "vectors2d = tsne.fit_transform(vectors)"
   ]
  },
  {
   "cell_type": "code",
   "execution_count": 133,
   "metadata": {},
   "outputs": [],
   "source": [
    "from bokeh.models import ColumnDataSource, Range1d, LabelSet, Label\n",
    "\n",
    "\n",
    "source = ColumnDataSource(data=dict(height=vectors2d[:,0],\n",
    "                                    weight=vectors2d[:,1],\n",
    "                                    names=model_vocab[:1000]))"
   ]
  },
  {
   "cell_type": "code",
   "execution_count": 135,
   "metadata": {},
   "outputs": [
    {
     "data": {
      "text/html": [
       "\n",
       "\n",
       "    <div class=\"bk-root\">\n",
       "        <div class=\"bk-plotdiv\" id=\"8261a288-62cf-4af1-8d5a-f289d4eb2256\"></div>\n",
       "    </div>\n",
       "<script type=\"text/javascript\">\n",
       "  \n",
       "  (function(global) {\n",
       "    function now() {\n",
       "      return new Date();\n",
       "    }\n",
       "  \n",
       "    var force = false;\n",
       "  \n",
       "    if (typeof (window._bokeh_onload_callbacks) === \"undefined\" || force === true) {\n",
       "      window._bokeh_onload_callbacks = [];\n",
       "      window._bokeh_is_loading = undefined;\n",
       "    }\n",
       "  \n",
       "  \n",
       "    \n",
       "    if (typeof (window._bokeh_timeout) === \"undefined\" || force === true) {\n",
       "      window._bokeh_timeout = Date.now() + 0;\n",
       "      window._bokeh_failed_load = false;\n",
       "    }\n",
       "  \n",
       "    var NB_LOAD_WARNING = {'data': {'text/html':\n",
       "       \"<div style='background-color: #fdd'>\\n\"+\n",
       "       \"<p>\\n\"+\n",
       "       \"BokehJS does not appear to have successfully loaded. If loading BokehJS from CDN, this \\n\"+\n",
       "       \"may be due to a slow or bad network connection. Possible fixes:\\n\"+\n",
       "       \"</p>\\n\"+\n",
       "       \"<ul>\\n\"+\n",
       "       \"<li>re-rerun `output_notebook()` to attempt to load from CDN again, or</li>\\n\"+\n",
       "       \"<li>use INLINE resources instead, as so:</li>\\n\"+\n",
       "       \"</ul>\\n\"+\n",
       "       \"<code>\\n\"+\n",
       "       \"from bokeh.resources import INLINE\\n\"+\n",
       "       \"output_notebook(resources=INLINE)\\n\"+\n",
       "       \"</code>\\n\"+\n",
       "       \"</div>\"}};\n",
       "  \n",
       "    function display_loaded() {\n",
       "      if (window.Bokeh !== undefined) {\n",
       "        var el = document.getElementById(\"8261a288-62cf-4af1-8d5a-f289d4eb2256\");\n",
       "        el.textContent = \"BokehJS \" + Bokeh.version + \" successfully loaded.\";\n",
       "      } else if (Date.now() < window._bokeh_timeout) {\n",
       "        setTimeout(display_loaded, 100)\n",
       "      }\n",
       "    }\n",
       "  \n",
       "    function run_callbacks() {\n",
       "      try {\n",
       "        window._bokeh_onload_callbacks.forEach(function(callback) { callback() });\n",
       "      }\n",
       "      finally {\n",
       "        delete window._bokeh_onload_callbacks\n",
       "      }\n",
       "      console.info(\"Bokeh: all callbacks have finished\");\n",
       "    }\n",
       "  \n",
       "    function load_libs(js_urls, callback) {\n",
       "      window._bokeh_onload_callbacks.push(callback);\n",
       "      if (window._bokeh_is_loading > 0) {\n",
       "        console.log(\"Bokeh: BokehJS is being loaded, scheduling callback at\", now());\n",
       "        return null;\n",
       "      }\n",
       "      if (js_urls == null || js_urls.length === 0) {\n",
       "        run_callbacks();\n",
       "        return null;\n",
       "      }\n",
       "      console.log(\"Bokeh: BokehJS not loaded, scheduling load and callback at\", now());\n",
       "      window._bokeh_is_loading = js_urls.length;\n",
       "      for (var i = 0; i < js_urls.length; i++) {\n",
       "        var url = js_urls[i];\n",
       "        var s = document.createElement('script');\n",
       "        s.src = url;\n",
       "        s.async = false;\n",
       "        s.onreadystatechange = s.onload = function() {\n",
       "          window._bokeh_is_loading--;\n",
       "          if (window._bokeh_is_loading === 0) {\n",
       "            console.log(\"Bokeh: all BokehJS libraries loaded\");\n",
       "            run_callbacks()\n",
       "          }\n",
       "        };\n",
       "        s.onerror = function() {\n",
       "          console.warn(\"failed to load library \" + url);\n",
       "        };\n",
       "        console.log(\"Bokeh: injecting script tag for BokehJS library: \", url);\n",
       "        document.getElementsByTagName(\"head\")[0].appendChild(s);\n",
       "      }\n",
       "    };var element = document.getElementById(\"8261a288-62cf-4af1-8d5a-f289d4eb2256\");\n",
       "    if (element == null) {\n",
       "      console.log(\"Bokeh: ERROR: autoload.js configured with elementid '8261a288-62cf-4af1-8d5a-f289d4eb2256' but no matching script tag was found. \")\n",
       "      return false;\n",
       "    }\n",
       "  \n",
       "    var js_urls = [];\n",
       "  \n",
       "    var inline_js = [\n",
       "      function(Bokeh) {\n",
       "        (function() {\n",
       "          var fn = function() {\n",
       "            var docs_json = {\"6c23d3e7-24fa-46b2-b70f-e4c196ade119\":{\"roots\":{\"references\":[{\"attributes\":{\"background_fill_color\":{\"value\":\"white\"},\"border_line_color\":{\"value\":\"black\"},\"plot\":{\"id\":\"e3750d07-eaf6-4b6a-b53c-0ecb8feeadbe\",\"subtype\":\"Figure\",\"type\":\"Plot\"},\"render_mode\":\"css\",\"x\":70,\"x_units\":\"screen\",\"y\":70,\"y_units\":\"screen\"},\"id\":\"03169130-332e-4bf5-b0d6-525e5a2297e7\",\"type\":\"Label\"},{\"attributes\":{\"overlay\":{\"id\":\"b3ecc1d0-529e-43f6-a810-7ab9e0243017\",\"type\":\"BoxAnnotation\"},\"plot\":{\"id\":\"e3750d07-eaf6-4b6a-b53c-0ecb8feeadbe\",\"subtype\":\"Figure\",\"type\":\"Plot\"}},\"id\":\"4c624d81-0055-41cd-8aa2-b9b6a765347c\",\"type\":\"BoxZoomTool\"},{\"attributes\":{\"formatter\":{\"id\":\"a7c49906-ed29-4de1-bba8-72eb5eaa79f5\",\"type\":\"BasicTickFormatter\"},\"plot\":{\"id\":\"e3750d07-eaf6-4b6a-b53c-0ecb8feeadbe\",\"subtype\":\"Figure\",\"type\":\"Plot\"},\"ticker\":{\"id\":\"a0936881-dbc1-410f-a3f5-0226cb67000d\",\"type\":\"BasicTicker\"}},\"id\":\"74d1bb7c-1d80-43b5-831d-bf0193414f12\",\"type\":\"LinearAxis\"},{\"attributes\":{\"plot\":{\"id\":\"e3750d07-eaf6-4b6a-b53c-0ecb8feeadbe\",\"subtype\":\"Figure\",\"type\":\"Plot\"}},\"id\":\"28a5e963-0811-4342-aea7-fcd4e5085fdd\",\"type\":\"SaveTool\"},{\"attributes\":{\"fill_color\":{\"value\":\"#1f77b4\"},\"line_color\":{\"value\":\"#1f77b4\"},\"size\":{\"units\":\"screen\",\"value\":2},\"x\":{\"field\":\"weight\"},\"y\":{\"field\":\"height\"}},\"id\":\"0888ef92-f1a8-4616-bedc-80aeb2d92574\",\"type\":\"Circle\"},{\"attributes\":{\"fill_alpha\":{\"value\":0.1},\"fill_color\":{\"value\":\"#1f77b4\"},\"line_alpha\":{\"value\":0.1},\"line_color\":{\"value\":\"#1f77b4\"},\"size\":{\"units\":\"screen\",\"value\":2},\"x\":{\"field\":\"weight\"},\"y\":{\"field\":\"height\"}},\"id\":\"c32ae51d-9d84-4e57-83e4-f6245656ed1f\",\"type\":\"Circle\"},{\"attributes\":{},\"id\":\"a7c49906-ed29-4de1-bba8-72eb5eaa79f5\",\"type\":\"BasicTickFormatter\"},{\"attributes\":{},\"id\":\"ae28dabb-2212-44c6-8c4b-17865feaf204\",\"type\":\"LinearScale\"},{\"attributes\":{\"plot\":{\"id\":\"e3750d07-eaf6-4b6a-b53c-0ecb8feeadbe\",\"subtype\":\"Figure\",\"type\":\"Plot\"}},\"id\":\"c41ad08f-5aa1-43a8-be52-0a36f5bb4694\",\"type\":\"HelpTool\"},{\"attributes\":{\"callback\":null},\"id\":\"76a63d3f-ab81-4fcd-a979-480261a9afa0\",\"type\":\"DataRange1d\"},{\"attributes\":{\"formatter\":{\"id\":\"e180a837-322b-4e7c-8b77-952f5fea9c29\",\"type\":\"BasicTickFormatter\"},\"plot\":{\"id\":\"e3750d07-eaf6-4b6a-b53c-0ecb8feeadbe\",\"subtype\":\"Figure\",\"type\":\"Plot\"},\"ticker\":{\"id\":\"a58c78df-8164-48b7-a727-840444a384c0\",\"type\":\"BasicTicker\"}},\"id\":\"54bda71a-5e4b-4631-a12b-fe7b59e5e537\",\"type\":\"LinearAxis\"},{\"attributes\":{},\"id\":\"cfe90170-6714-4f54-afc4-708932394334\",\"type\":\"ToolEvents\"},{\"attributes\":{\"plot\":{\"id\":\"e3750d07-eaf6-4b6a-b53c-0ecb8feeadbe\",\"subtype\":\"Figure\",\"type\":\"Plot\"},\"ticker\":{\"id\":\"a58c78df-8164-48b7-a727-840444a384c0\",\"type\":\"BasicTicker\"}},\"id\":\"e33d020e-2179-451c-b449-d4e30fc8d904\",\"type\":\"Grid\"},{\"attributes\":{\"bottom_units\":\"screen\",\"fill_alpha\":{\"value\":0.5},\"fill_color\":{\"value\":\"lightgrey\"},\"left_units\":\"screen\",\"level\":\"overlay\",\"line_alpha\":{\"value\":1.0},\"line_color\":{\"value\":\"black\"},\"line_dash\":[4,4],\"line_width\":{\"value\":2},\"plot\":null,\"render_mode\":\"css\",\"right_units\":\"screen\",\"top_units\":\"screen\"},\"id\":\"b3ecc1d0-529e-43f6-a810-7ab9e0243017\",\"type\":\"BoxAnnotation\"},{\"attributes\":{\"active_drag\":\"auto\",\"active_inspect\":\"auto\",\"active_scroll\":\"auto\",\"active_tap\":\"auto\",\"tools\":[{\"id\":\"762159bc-5414-4689-b415-17be4bd7a2bc\",\"type\":\"PanTool\"},{\"id\":\"83eb574b-de4e-4896-af24-ba50b377ff70\",\"type\":\"WheelZoomTool\"},{\"id\":\"4c624d81-0055-41cd-8aa2-b9b6a765347c\",\"type\":\"BoxZoomTool\"},{\"id\":\"28a5e963-0811-4342-aea7-fcd4e5085fdd\",\"type\":\"SaveTool\"},{\"id\":\"fc4aa165-bfde-41d8-9591-04bf2ec9f841\",\"type\":\"ResetTool\"},{\"id\":\"c41ad08f-5aa1-43a8-be52-0a36f5bb4694\",\"type\":\"HelpTool\"}]},\"id\":\"1c1866c6-5626-47f5-8c62-74cf3b8ae74f\",\"type\":\"Toolbar\"},{\"attributes\":{\"plot\":{\"id\":\"e3750d07-eaf6-4b6a-b53c-0ecb8feeadbe\",\"subtype\":\"Figure\",\"type\":\"Plot\"}},\"id\":\"83eb574b-de4e-4896-af24-ba50b377ff70\",\"type\":\"WheelZoomTool\"},{\"attributes\":{\"plot\":null,\"text\":\"KBO Word2Vec\"},\"id\":\"3db2a8fc-799d-4a83-890f-b81719900dbd\",\"type\":\"Title\"},{\"attributes\":{},\"id\":\"a63cf650-319f-49e7-af17-a380e5328415\",\"type\":\"LinearScale\"},{\"attributes\":{\"callback\":null},\"id\":\"86dbedb4-ff69-429c-b03f-0477e16e033e\",\"type\":\"DataRange1d\"},{\"attributes\":{\"level\":\"glyph\",\"plot\":{\"id\":\"e3750d07-eaf6-4b6a-b53c-0ecb8feeadbe\",\"subtype\":\"Figure\",\"type\":\"Plot\"},\"source\":{\"id\":\"33696089-b103-4ccb-b241-7f891827b7ca\",\"type\":\"ColumnDataSource\"},\"text\":{\"field\":\"names\"},\"text_alpha\":{\"value\":0.8},\"text_font_size\":{\"value\":\"7pt\"},\"x\":{\"field\":\"weight\"},\"x_offset\":{\"value\":5},\"y\":{\"field\":\"height\"},\"y_offset\":{\"value\":5}},\"id\":\"c7aaeeee-ee5f-4ef3-baac-86142c44a87a\",\"type\":\"LabelSet\"},{\"attributes\":{\"plot\":{\"id\":\"e3750d07-eaf6-4b6a-b53c-0ecb8feeadbe\",\"subtype\":\"Figure\",\"type\":\"Plot\"}},\"id\":\"fc4aa165-bfde-41d8-9591-04bf2ec9f841\",\"type\":\"ResetTool\"},{\"attributes\":{\"plot\":{\"id\":\"e3750d07-eaf6-4b6a-b53c-0ecb8feeadbe\",\"subtype\":\"Figure\",\"type\":\"Plot\"}},\"id\":\"762159bc-5414-4689-b415-17be4bd7a2bc\",\"type\":\"PanTool\"},{\"attributes\":{\"callback\":null,\"column_names\":[\"height\",\"weight\",\"names\"],\"data\":{\"height\":{\"__ndarray__\":\"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\",\"dtype\":\"float64\",\"shape\":[1000]},\"names\":[\"\\ubc15\\uc218/NNG\",\"\\ud55c\\ud654/NNG\",\"\\uc774\\uae00\\uc2a4/NNP\",\"\\ub144/NNBC\",\"\\ub3d9\\uc548/NNG\",\"\\uae30\\ub85d/NNG\",\"\\uc21c\\uc704/NNG\",\"\\uc704/NNBC\",\"\\uad6c\\ub2e8/NNG\",\"\\uccb4\\uc81c/NNG\",\"\\uc2dc\\ud589/NNG\",\"\\ub4a4/NNG\",\"\\ucd5c\\ucd08/NNG\",\"\\ud300/NNG\",\"\\uae40\\uc131\\uadfc/NNP\",\"\\ubd80\\uc784/NNG\",\"\\ub3c5\\ub9bd/NNG\",\"\\uace0\\uc591/NNG\",\"\\uc6d0\\ub354\\uc2a4/NNP\",\"\\ud574\\uccb4/NNG\",\"\\uc218\\uc21c/NNG\",\"\\uac10\\ub3c5/NNG\",\"\\uacc4\\uc57d/NNG\",\"\\uc885\\ub8cc/NNG\",\"\\uc608\\ub144/NNG\",\"\\uc57c\\uad6c/NNG\",\"\\uc2b9\\ud328/NNG\",\"\\ud76c\\ube44/NNG\",\"\\uc758\\uc2dd/NNG\",\"\\ub2e8\\uacc4/NNG\",\"\\ubd80\\ucc98/NNG\",\"\\ubcc4\\uba85/NNG\",\"\\ud32c/NNG\",\"\\uc120\\uc218/NNG\",\"\\ud50c\\ub808\\uc774/NNG\",\"\\uc21c\\uac04/NNG\",\"\\uc5f4\\uad11/NNG\",\"\\uc6d4/NNBC\",\"\\ucd08/NNB\",\"\\ub9ac\\uadf8/NNG\",\"\\ud654\\uc81c/NNG\",\"\\uc720\\uc9c0/NNG\",\"\\uac00\\uc744/NNG\",\"\\ud76c\\ub9dd/NNG\",\"\\ud2b9\\uc815/NNG\",\"\\ubb34\\ub9ac/NNG\",\"\\uc911\\uc6a9/NNG\",\"\\uacb0\\uad6d/NNG\",\"\\ub450\\uaed8/NNG\",\"\\uce58\\uba85/NNG\",\"\\uc57d\\uc810/NNG\",\"\\uc791\\uc6a9/NNG\",\"\\ub4f1\\ud310/NNG\",\"\\ud639\\uc0ac/NNG\",\"\\ub17c\\ub780/NNG\",\"\\uad8c\\ud601/NNP\",\"\\ud6c4\\ubc18\\uae30/NNG\",\"\\ub09c\\uc870/NNG\",\"\\uc704\\ub825/NNG\",\"\\ub9c8\\ubb34\\ub9ac/NNG\",\"\\ubaa8\\uc2b5/NNG\",\"\\uc601\\uc785/NNG\",\"\\uc5d0\\uc2a4\\ubc00/NNP\",\"\\ub85c\\uc800\\uc2a4/NNP\",\"\\ud638\\ud22c/NNG\",\"\\uae30\\uc874/NNG\",\"\\ub4b7\\ubc1b\\uce68/NNG\",\"\\uc131\\uc801/NNG\",\"\\uc2b9/NNBC\",\"\\ud328/NNG\",\"\\uac1c/NNBC\",\"\\uc911/NNB\",\"\\uc2e4\\ub0b1/NNG\",\"\\uc640\\uc77c\\ub4dc/NNP\",\"\\uce74\\ub4dc/NNG\",\"\\uc2dc\\ub9ac\\uc988/NNG\",\"\\ucd9c\\uc804/NNG\",\"\\uc218/NNB\",\"\\uacbd\\uc7c1/NNG\",\"\\uc640\\uc774\\ubc88\\uc2a4/NNP\",\"\\ud0c0\\uc774\\uac70\\uc988/NNG\",\"\\ub86f\\ub370/NNP\",\"\\uc790\\uc774\\uc5b8\\uce20/NNP\",\"\\ub4f1/NNB\",\"\\ub3d9\\ubc18/NNG\",\"\\ubd80\\uc9c4/NNG\",\"\\uc0ac\\uc774/NNG\",\"\\uc2b9\\ucc28/NNG\",\"\\ucd94\\uaca9/NNG\",\"\\uc2dc\\uc98c/NNG\",\"\\ub9c8\\uc9c0\\ub9c9/NNG\",\"\\uacbd\\uae30/NNG\",\"\\uc2e0\\uc0dd/NNG\",\"\\uc704\\uc988/NNP\",\"\\uac00\\ub2a5/NNG\",\"\\uc18c\\uba78/NNG\",\"\\uc774\\ub2dd/NNG\",\"\\ubd80\\ubd84/NNG\",\"\\uc870\\uae30/NNG\",\"\\uac15\\ud310/NNG\",\"\\uc0ac\\ub840/NNG\",\"\\ubb38\\uc81c/NNG\",\"\\ubd88\\ud39c/NNG\",\"\\uacfc\\ubd80\\ud558/NNG\",\"\\uba54\\uc774\\uc800/NNG\",\"\\uad6c\\uc6d0/NNG\",\"\\ud22c\\uc218/NNG\",\"\\uacbd\\uc6b0/NNG\",\"\\uba54\\uc774\\uc800/NNP\",\"\\ucc98\\ucc38/NNG\",\"\\uc678\\uad6d\\uc778/NNG\",\"\\uc81c\\uc678/NNG\",\"\\ud3ec\\uc9c0\\uc158/NNG\",\"\\uc77c\\uad00/NNG\",\"\\uc1a1\\ucc3d\\uc2dd/NNP\",\"\\uc120\\ubc1c/NNG\",\"\\ubc88/NNBC\",\"\\ucc98\\uc74c/NNG\",\"\\ud574/NNG\",\"\\uc18c\\uc18d/NNG\",\"\\ub2e8\\uc77c/NNG\",\"\\ud3ec\\uc2a4\\ud2b8/NNG\",\"\\ud2b8\\uc708\\uc2a4/NNP\",\"\\uc815\\uc2dd/NNG\",\"\\uc815\\uaddc/NNG\",\"\\ud55c\\uad6d/NNP\",\"\\ub2f9\\uc2dc/NNG\",\"\\uae40\\uc751\\uc6a9/NNP\",\"\\uc9c0\\ud718/NNG\",\"\\uc0bc\\uc131/NNP\",\"\\ucc28/NNBC\",\"\\uc804/NNG\",\"\\ud53c\\ub9d0\\ub9ac/NNG\",\"\\uba85\\uc2b9\\ubd80/NNG\",\"\\uc5f0\\ucd9c/NNG\",\"\\uc804\\uc131\\uae30/NNG\",\"\\uc9c4\\ucd9c/NNG\",\"\\uc2e4\\ud328/NNG\",\"\\uc9c0\\ub3c4\\ub825/NNG\",\"\\ubb3c\\ub860/NNG\",\"\\ud589\\ubcf4/NNG\",\"\\uc120\\uc218\\ub2e8/NNG\",\"\\ucf54\\uce6d/NNP\",\"\\uc2a4\\ud0dc\\ud504/NNG\",\"\\ucf00\\uc774\\ud2f0/NNP\",\"\\ub2e4\\uc2b9/NNG\",\"\\ud0c0\\uc774/NNG\",\"\\uc88c\\uc808/NNG\",\"\\ud648\\ub7f0\\ud3ec/NNG\",\"\\uc77c/NNBC\",\"\\uc218\\uc6d0/NNP\",\"\\uad6c\\uc7a5/NNG\",\"\\ud0c0\\uc774\\uc5b4/NNG\",\"\\ubc45\\ud06c/NNG\",\"\\ud648\\uacbd\\uae30/NNG\",\"\\uae40\\uc0c1\\ud604/NNP\",\"\\uc7a5\\uc131\\uc6b0/NNP\",\"\\uc2b9\\ub9ac/NNG\",\"\\uc5f0\\ud328/NNG\",\"\\uc30d\\ubc29\\uc6b8/NNP\",\"\\ub808\\uc774\\ub354\\uc2a4/NNP\",\"\\ub2e4\\uc774\\ub178\\uc2a4/NNP\",\"\\uacf5\\ub3d9/NNG\",\"\\ubcf4\\uc720/NNG\",\"\\uc2e0\\uae30\\ub85d/NNG\",\"\\ub3c4\\uc804/NNG\",\"\\ucd5c\\uc18c\\ud55c/NNG\",\"\\uac8c\\uc784/NNG\",\"\\ucc28/NNG\",\"\\uc774\\uc0c1/NNG\",\"\\ud06c\\ub9ac\\uc2a4/NNP\",\"\\uc625\\uc2a4\\ud504\\ub9c1/NNP\",\"\\uae40\\uc6a9\\uc8fc/NNP\",\"\\ub300\\uacb0/NNG\",\"\\uc9d1\\uc911\\ub825/NNG\",\"\\ud68c/NNBC\",\"\\ub8e8/NNG\",\"\\uc815\\uadfc\\uc6b0/NNP\",\"\\uc801\\uc2dc\\ud0c0/NNG\",\"\\uc810\\uc218/NNG\",\"\\uc774\\uc6a9\\uaddc/NNP\",\"\\uc911\\uc804/NNG\",\"\\uc548\\ud0c0/NNG\",\"\\ub54c/NNG\",\"\\ud648/NNG\",\"\\uc2e0\\uc131\\ud604/NNP\",\"\\uc1a1\\uad6c/NNG\",\"\\uc544\\uc6c3/NNG\",\"\\uacf5\\uc218/NNG\",\"\\uad50\\ub300/NNG\",\"\\ud6c4/NNG\",\"\\ub3d9\\uc810/NNG\",\"\\ub9d0/NNG\",\"\\ud0c0\\uc790/NNG\",\"\\ubcfc\\ub137/NNG\",\"\\ubc88\\ud2b8/NNG\",\"\\ubc15\\uae30\\ud601/NNP\",\"\\uc911\\uc6d4/NNG\",\"\\uc194/NNG\",\"\\uc544\\uce58/NNG\",\"\\uc5ed\\uc804/NNG\",\"\\uae30\\uc138/NNG\",\"\\ubc15\\uacbd\\uc218/NNP\",\"\\uc88c\\uc6d4/NNG\",\"\\uc810/NNBC\",\"\\ud648\\ub7f0/NNG\",\"\\uc2b9\\uae30/NNG\",\"\\uc0bc\\uc9c4/NNG\",\"\\uc2e4\\uc810/NNG\",\"\\ubc30\\uc601\\uc218/NNP\",\"\\uc1a1\\uc740\\ubc94/NNP\",\"\\ud22c\\uc785/NNG\",\"\\ud0c0\\uc218/NNG\",\"\\ud0c0\\uc120/NNG\",\"\\uc751\\uc9d1\\ub825/NNG\",\"\\uac8c/NNB+JKS\",\"\\ud328\\uc778/NNG\",\"\\uc911\\uc2ec/NNG\",\"\\uc800\\uc870/NNG\",\"\\uace0\\ubc30/NNG\",\"\\uc5f0\\uc18d/NNG\",\"\\ud504\\ub85c/NNG\",\"\\uaca8\\uc6b8/NNG\",\"\\uc0ac\\ub839\\ud0d1/NNG\",\"\\ucd5c\\uace0/NNG\",\"\\uc774\\uc288/NNG\",\"\\uba54\\uc774\\ucee4/NNG\",\"\\ub4f1\\uadf9/NNG\",\"\\uc2dc\\uc791/NNG\",\"\\uacbd\\uae30\\ub825/NNG\",\"\\ub9c8\\uc74c/NNG\",\"\\ucd08\\ubc18/NNG\",\"\\ud3ec\\uae30/NNG\",\"\\uacb0\\uacfc/NNG\",\"\\ud55c\\ub54c/NNG\",\"\\uc5ed\\uc804\\uc2b9/NNG\",\"\\uacfc\\uc815/NNG\",\"\\uac83/NNB\",\"\\ubc15\\uc815\\uc9c4/NNP\",\"\\ud544\\uc2b9/NNG\",\"\\uc870/NNG\",\"\\ud65c\\uc57d/NNG\",\"\\uc0c1\\ud669/NNG\",\"\\ub9c8\\uc6b4\\ub4dc/NNG\",\"\\uc5ed\\ud22c/NNG\",\"\\uae30\\ud68c/NNG\",\"\\uc911\\ubc18/NNG\",\"\\uc774\\ud6c4/NNG\",\"\\uc784\\ud329\\ud2b8/NNG\",\"\\ucda9\\uaca9/NNG\",\"\\ub370\\ubdd4/NNG\",\"\\uc0c1\\ub300/NNG\",\"\\ubb34\\uc2e4\\uc810/NNG\",\"\\ubd09\\uc2b9/NNG\",\"\\ucd5c\\uc9c4\\ud589/NNP\",\"\\uc57d\\ubb3c/NNG\",\"\\uc2dc\\ub828/NNG\",\"\\uc77c/NNG\",\"\\uae30\\ud589/NNG\",\"\\ub208/NNG\",\"\\ubc16/NNG\",\"\\ub098\\uc774\\uc800/NNP\",\"\\ubaa8\\uac74/NNG\",\"\\ud1f4\\ucd9c/NNG\",\"\\uc790\\ub9ac/NNG\",\"\\ub3c4\\ud551/NNG\",\"\\ud14c\\uc2a4\\ud2b8/NNG\",\"\\uae08\\uc9c0/NNG\",\"\\ucd9c\\uc7a5/NNG\",\"\\uc815\\uc9c0/NNG\",\"\\uc9d5\\uacc4/NNG\",\"\\uc62c\\ud574/NNG\",\"\\uc804\\uccb4/NNG\",\"\\ud574\\ub2f9/NNG\",\"\\ud798/NNG\",\"\\ud314\\uafc8\\uce58/NNG\",\"\\uc5b4\\uae68/NNG\",\"\\ud1b5\\uc99d/NNG\",\"\\uba85/NNBC\",\"\\uc804\\ubc18\\uae30/NNG\",\"\\ud0c8\\ub77d/NNG\",\"\\uc758\\ubbf8/NNG\",\"\\uad70/NNG\",\"\\ud734\\uc2dd/NNG\",\"\\ubab8/NNG\",\"\\uc0c1\\ud0dc/NNG\",\"\\uccb4\\ud06c/NNG\",\"\\ucea0\\ud504/NNG\",\"\\uacc4\\ud68d/NNG\",\"\\uc2e0\\uc778/NNG\",\"\\uae09/NNG\",\"\\uad50\\uc721/NNG\",\"\\uace0\\ucc38/NNG\",\"\\ucc38\\uc5ec/NNG\",\"\\ub0b4\\ub2ec/NNG\",\"\\ubbf8\\uc57c\\uc790\\ud0a4/NNP\",\"\\ucc28\\uc778/NNG+VCP+ETM\",\"\\uc774\\uc131\\uc5f4/NNP\",\"\\ud5c8\\ub3c4\\ud658/NNP\",\"\\ud3ec\\ud568/NNG\",\"\\uc131\\uacf5/NNG\",\"\\uacbd\\uacc4\\uc120/NNG\",\"\\uc704/NNG\",\"\\uacf3/NNG\",\"\\uc0ac\\ub78c/NNG\",\"\\uc774\\uc57c\\uae30/NNG\",\"\\uacbd\\uacc4/NNG\",\"\\ucc44/NNB\",\"\\ud30c\\ud06c/NNG\",\"\\ubc29\\ubb38/NNG\",\"\\ud328\\ubc30/NNG\",\"\\uc774\\ub0a0/NNG\",\"\\ud655\\uc815/NNG\",\"\\uc2f8\\uc6c0/NNG\",\"\\uac00\\uc2b4/NNG\",\"\\uc2dc\\uc120/NNG\",\"\\ud3c9\\uac00/NNG\",\"\\uc2b9\\ub960/NNG\",\"\\ucd5c\\uadfc/NNG\",\"\\ucd5c\\ud558\\uc704/NNG\",\"\\ubb34\\uae30\\ub825/NNG\",\"\\uc2b9\\ubd80/NNG\",\"\\uc5f0\\uc5f0/NNG\",\"\\ubcf4\\uc0b4/NNG\",\"\\uacc4\\uc0b0/NNG\",\"\\ud658\\ud638/NNG\",\"\\uc9c0\\ub09c\\ud574/NNG\",\"\\ub3d9\\uc815/NNG\",\"\\uacac\\uc81c/NNG\",\"\\ud765\\ud589/NNG\",\"\\ub9cc\\uc810/NNG\",\"\\ub300\\uc804/NNG\",\"\\uc0dd\\uba85/NNG\",\"\\uad00\\uc911/NNG\",\"\\uc5ed\\ub300/NNG\",\"\\ucd5c\\ub2e4/NNG\",\"\\uc870\\uc778\\uc131/NNP\",\"\\uc774\\ud0dc\\uc591/NNP\",\"\\uac1c\\ub9c9/NNG\",\"\\uc9c1\\uc804/NNG\",\"\\ubd80\\uc0c1/NNG\",\"\\uc774\\ud0c8/NNG\",\"\\uae40\\uacbd\\uc5b8/NNP\",\"\\uae40\\ud0dc\\uade0/NNP\",\"\\uc724\\uaddc\\uc9c4/NNP\",\"\\uc774\\uc885\\ud658/NNP\",\"\\ub9cc/NNB\",\"\\ucd94\\ub77d/NNG\",\"\\uc9d1\\uc911/NNG\",\"\\uc6b4\\uc601/NNG\",\"\\ub3c4\\ub9c8/NNG\",\"\\ube44\\ub840/NNG\",\"\\ube44\\ud310/NNG\",\"\\uc218\\uc704/NNG\",\"\\ubaa9\\ud45c/NNG\",\"\\uace0\\uc721\\ucc45/NNG\",\"\\uce58\\uc5f4/NNG\",\"\\ud6c4\\ud68c/NNG\",\"\\uc798\\ubabb/NNG\",\"\\ucd1d\\ud3c9/NNG\",\"\\ub9cc\\uc871/NNG\",\"\\uae40/NNP\",\"\\uac1c\\ud601/NNG\",\"\\ud544\\uc694/NNG\",\"\\uc131\\uc7a5/NNG\",\"\\uac15\\ud300/NNG\",\"\\uae38\\ubaa9/NNG\",\"\\ubf08/NNG\",\"\\uc720\\ub798/NNG\",\"\\uac15/NNG\",\"\\uac8c\\uc784\\ucc28/NNG\",\"\\uace0\\ubb38/NNG\",\"\\ub05d/NNG\",\"\\ub9c8\\uce68\\ud45c/NNG\",\"\\ud131\\ubc11/NNG\",\"\\uc774\\uc720/NNG\",\"\\ub9cc\\uc57d/NNG\",\"\\uc778\\uc9c0\\uc0c1\\uc815/NNG\",\"\\uc544\\uc26c\\uc6c0/NNG\",\"\\uc0ac\\uc9c1/NNP\",\"\\ub0b4\\uae30/NNP\",\"\\ud6c4\\ubc18/NNG\",\"\\uc1a1\\uad11\\ubbfc/NNP\",\"\\uc8fc\\ud604/NNG\",\"\\uac15\\uacbd\\ud559/NNP\",\"\\ud76c\\uc0dd/NNG\",\"\\ud50c\\ub77c\\uc774/NNG\",\"\\uc1a1\\uc8fc\\ud638/NNP\",\"\\ub4dd\\uc810/NNG\",\"\\ube45/NNG\",\"\\uc6d0\\uc810/NNG\",\"\\ub9d0/NNB\",\"\\uc5f0\\uc7a5/NNG\",\"\\ud53c/NNG\",\"\\ud3ec\\ub85c/NNG\",\"\\ub9cc\\ud07c/NNB\",\"\\ud63c\\uc2e0/NNG\",\"\\uad6c/NNG\",\"\\uc6b4\\uba85/NNG\",\"\\uc560\\uc11d/NNG\",\"\\uacf5/NNG\",\"\\ucd08\\uad6c/NNG\",\"\\uc5f0\\uacb0/NNG\",\"\\uc2dc\\uac04/NNBC\",\"\\ud608\\ud22c/NNG\",\"\\ubb34\\uc0c9/NNG\",\"\\uad11\\uc8fc/NNP\",\"\\ud074\\ub7ec\\uce58/NNG\",\"\\uc5d0\\ub7ec/NNG\",\"\\ud750\\ub984/NNG\",\"\\uc88c\\uc6b0/NNG\",\"\\uc608/NNG\",\"\\uc120\\ub450/NNG\",\"\\uae40\\ubbfc\\uc6b0/NNP\",\"\\ubc15\\uc131\\ud638/NNP\",\"\\uad50\\uccb4/NNG\",\"\\uc624\\uc900\\ud601/NNP\",\"\\uc8fc\\uc790/NNP\",\"\\ub3c4\\ub8e8/NNG\",\"\\uad8c\\ud601\\uc740/NNP\",\"\\ubc31\\uc6a9\\ud658/NNP\",\"\\ub300\\ud0c0/NNG\",\"\\ub098\\uc9c0\\uc644/NNP\",\"\\uc704\\uae30/NNG\",\"\\uc2b9\\ubd80\\ucc98/NNG\",\"\\uce74\\uc6b4\\ud2b8/NNG\",\"\\ubaa8\\ub450/NNG\",\"\\uad8c\\ud601\\ub9cc/NNP\",\"\\uacb0\\uc815/NNG\",\"\\uc7a5\\uba74/NNG\",\"\\ub0b4\\uc57c\\uc218/NNG\",\"\\uad8c\\uc6a9\\uad00/NNP\",\"\\uc2e0\\uc885\\uae38/NNP\",\"\\ub545\\ubcfc/NNG\",\"\\ud0c0\\uad6c/NNG\",\"\\uc21c\\uc2dd\\uac04/NNG\",\"\\ucabd/NNB\",\"\\ubd84\\uc704\\uae30/NNG\",\"\\uc21c/NNB+JX\",\"\\ube0c\\ub81b/NNP\",\"\\ud544/NNG\",\"\\ucd94\\uac00/NNG\",\"\\ubaa9\\ub3d9/NNP\",\"\\ub125\\uc13c/NNP\",\"\\ub7f0/NNG\",\"\\ub9c9\\ubc14\\uc9c0/NNG\",\"\\uc794\\uc5ec/NNG\",\"\\uc790\\ub9bf\\uc218/NNG\",\"\\ud5c8\\ubb34/NNG\",\"\\uc120\\ubc1c\\ud22c\\uc218/NNP\",\"\\ubbf8\\uce58/NNP\",\"\\ud0c8\\ubcf4\\ud2b8/NNP\",\"\\uc790\\ucc45/NNG\",\"\\uc815\\ub300\\ud6c8/NNP\",\"\\ud5e4\\ucf04/NNP\",\"\\ud3ed\\uc2a4/NNP\",\"\\ub8e8\\ud0c0/NNG\",\"\\ucd5c\\uace0\\uc870/NNG\",\"\\uc190/NNG\",\"\\uc2b9\\ub77d/NNG\",\"\\ucc2c\\uc2a4/NNG\",\"\\uc8fc\\uc790/NNG\",\"\\ud0c0\\uc11d/NNG\",\"\\ubc30\\ud2b8/NNG\",\"\\ub8e8\\uc8fc/NNG\",\"\\uc1c4\\ub3c4/NNG\",\"\\uc624\\ubc84\\ub7f0/NNG\",\"\\ub2e4\\uc6b4/NNG\",\"\\uacf5\\uaca9/NNG\",\"\\uae30\\ub300/NNG\",\"\\ub9c8\\uac10/NNG\",\"\\ucd1d\\ub825\\uc804/NNG\",\"\\uc218\\ud655/NNG\",\"\\uc548\\uc815/NNG\",\"\\uc678\\uc778/NNG\",\"\\uc778\\ubc29/NNG\",\"\\uc778\\uc5f0/NNG\",\"\\ubc14/NNB\",\"\\uc250\\uc778/NNP\",\"\\uc720\\uba3c/NNP\",\"\\uc5bc\\ub9c8/NNG\",\"\\ub300\\uccb4/NNG\",\"\\uc6a9\\ubcd1/NNG\",\"\\ud569\\ub958/NNG\",\"\\uc81c\\uc774\\ud06c/NNP\",\"\\ud5c8\\ubc85\\uc9c0/NNG\",\"\\uadfc\\uc721/NNG\",\"\\ud30c\\uc5f4/NNG\",\"\\uc804\\ub825/NNG\",\"\\uc774\\ubc88/NNG\",\"\\uc62c\\uc2a4\\ud0c0/NNG\",\"\\ube0c\\ub808\\uc774\\ud06c/NNG\",\"\\uc0c1\\uc2b9\\uc138/NNG\",\"\\uc785\\uc7a5/NNG\",\"\\ubc84/NNP\",\"\\uacf5\\uc2dc/NNG\",\"\\ud2b9\\uae09/NNG\",\"\\uc5d0\\uc774\\uc2a4/NNG\",\"\\uc815\\ucc29/NNG\",\"\\uc870\\ud569/NNG\",\"\\uc9c0/NNB\",\"\\ub2ec/NNBC\",\"\\uc644\\ubd09/NNG\",\"\\uc2b9/NNG\",\"\\ud004\\ub9ac\\ud2f0/NNP\",\"\\uc2a4\\ud0c0\\ud2b8/NNG\",\"\\ud0c0\\uc810/NNG\",\"\\uacc4\\uc18d/NNG\",\"\\ub0b4\\ub144/NNG\",\"\\ubbf8\\uc9c0\\uc218/NNG\",\"\\uc120\\ud0dd\\uc9c0/NNG\",\"\\uc810/NNG\",\"\\uc148/NNB\",\"\\ud22c\\uc218\\uc9c4/NNG\",\"\\ucd5c\\uc545/NNG\",\"\\ube44\\uad50/NNG\",\"\\ubd88\\uc548/NNG\",\"\\uc0ac\\uc2e4/NNG\",\"\\ubcf4\\uc874/NNG\",\"\\ubc95\\uce59/NNG\",\"\\uacc4/NNG\",\"\\ud22c\\uc9c4/NNG\",\"\\ubc18\\uba74/NNG\",\"\\ubb34\\uac8c/NNG\",\"\\uae30\\uc0c9/NNG\",\"\\ubc1c\\uc9c4/NNG\",\"\\uadf8\\uac04/NNG\",\"\\ub355\\ubd84/NNG\",\"\\uc778\\ub300/NNG\",\"\\uc811\\ud569/NNG\",\"\\uc218\\uc220/NNG\",\"\\uc7ac\\ud65c/NNG\",\"\\uc1a1\\ucc3d\\ud604/NNP\",\"\\uc784\\uc900\\uc12d/NNP\",\"\\uc8fc\\uc778\\uacf5/NNG\",\"\\ud53c\\uce6d/NNG\",\"\\ud6c8\\ub828/NNG\",\"\\ubc15\\ucc28/NNG\",\"\\uc720\\ub9dd\\uc8fc/NNG\",\"\\uc2e0\\uc74c/NNG\",\"\\uc804\\uae09/NNG\",\"\\ubc30/NNG\",\"\\ud14c/NNG\",\"\\uc131\\uacfc/NNG\",\"\\uacf5\\ubc31/NNG\",\"\\uc904/NNG\",\"\\ubc18\\ub300/NNG\",\"\\uae09\\ubd80/NNG\",\"\\uc790\\uc6d0/NNG\",\"\\uc131\\uc7a5\\uc138/NNG\",\"\\uc678\\uc57c/NNG\",\"\\uc7a5/NNP\",\"\\uc6b4\\ud638/NNP\",\"\\ube48\\uc790\\ub9ac/NNG\",\"\\ubc31\\uc5c5/NNG\",\"\\uba64\\ubc84/NNG\",\"\\uc2e4\\ub825/NNG\",\"\\ub3d9\\ud589/NNG\",\"\\uae08/NNG\",\"\\uc815\\ub3c4/NNG\",\"\\uc804\\ubd80/NNG\",\"\\ubd80\\uc5ec/NNG\",\"\\uc131\\uc804/NNG\",\"\\uc0b0\\uc804/NNG\",\"\\ucd5c\\uc0c1/NNG\",\"\\uc2dc\\ub098\\ub9ac\\uc624/NNG\",\"\\uc81c\\ub300/NNG\",\"\\uad6d\\ubc29/NNG\",\"\\uc758\\ubb34/NNG\",\"\\uc0c1\\ubb34/NNG\",\"\\uc804\\uc5ed/NNG\",\"\\ud558\\uc8fc\\uc11d/NNP\",\"\\uacbd\\ucc30\\uccad/NNG\",\"\\uae40\\uacbd\\ud0dc/NNP\",\"\\ub300\\ud45c/NNG\",\"\\uc774\\uc81c/NNG\",\"\\uae30\\uc6a9/NNG\",\"\\ubcfc/NNG\",\"\\uad00\\uc2ec/NNG\",\"\\uc544\\uc774/NNG\",\"\\uc2a4\\uc719/NNG\",\"\\ud0c0\\uc728/NNG\",\"\\ud55c\\ud654\\uc774\\uae00\\uc2a4/NNP\",\"\\ucd5c\\uc885/NNG\",\"\\ubb3c\\ub7c9/NNG\",\"\\uacf5\\uc138/NNG\",\"\\ucd5c\\uc120/NNG\",\"\\ud55c\\ud3b8/NNG\",\"\\uc774\\ub4ec\\ud574/NNG\",\"\\uc790\\uc874\\uc2ec/NNG\",\"\\ub3c4\\uc57d/NNG\",\"\\uc57d\\uc18d/NNG\",\"\\ucea1\\ud2f4/NNP\",\"\\ud45c\\uc815/NNG\",\"\\ub8e8\\uc218/NNG\",\"\\ud47c/NNBC\",\"\\ub9ac/NNBC\",\"\\ubd80\\uc871/NNG\",\"\\uac04/NNG\",\"\\ucd5c\\uace0\\ucc38/NNG\",\"\\uc778\\uc131/NNP\",\"\\ud615\\uacfc/NNG\",\"\\ubc15/NNP\",\"\\uc815\\uc9c4/NNG\",\"\\ud615/NNG\",\"\\uac10\\uc0ac/NNG\",\"\\uc791\\ub144/NNG\",\"\\uace0\\uc0dd/NNG\",\"\\ubcf8\\uc778/NNG\",\"\\ucc45\\uc784/NNG\",\"\\ud1b5\\uac10/NNG\",\"\\ud150\\ub370/NNB+VCP+EC\",\"\\uc8fc\\uc7a5/NNG\",\"\\ucc45\\uc784\\uac10/NNG\",\"\\uc751\\uc6d0/NNG\",\"\\ubcf4\\ub2f5/NNG\",\"\\uc120\\uc5b8/NNG\",\"\\ub300\\uae30/NNG\",\"\\uc804\\uc11c/NNG\",\"\\uc5f4\\ucc28/NNG\",\"\\uc608\\uace0/NNG\",\"\\uc2dc\\uc0ac/NNG\",\"\\uc2e4\\uc81c/NNG\",\"\\uac01\\uc624/NNG\",\"\\uc900\\ube44/NNG\",\"\\ud30c\\uc774\\ud305/NNP\",\"\\uc625\\uc601/NNG\",\"\\uae30\\uc790/NNG\",\"\\ub3cc\\ud30c/NNG\",\"\\ud5c8\\uc6a9/NNG\",\"\\uc7a5\\uc804/NNG\",\"\\ucd1d\\uc54c/NNG\",\"\\uc5f4\\uc131/NNG\",\"\\uc8fc\\ud669\\uc0c9/NNG\",\"\\ud48d\\uc120/NNG\",\"\\ud558\\ub298/NNG\",\"\\ud0a4\\uc6cc\\ub4dc/NNP\",\"\\ub9c9/NNG\",\"\\ub9de\\ub300\\uacb0/NNG\",\"\\uadf8\\ub77c\\uc6b4\\ub4dc/NNG\",\"\\uc790\\uc720/NNG\",\"\\uc81c\\ub3c4/NNG\",\"\\ud22c\\uc790/NNG\",\"\\uba85\\uc7a5/NNG\",\"\\ud2c8/NNG\",\"\\uc2a4\\ud1a0\\ube0c/NNG\",\"\\ud22c\\ud63c/NNG\",\"\\uacfc/NNG\",\"\\uc5f0\\ud22c/NNG\",\"\\uc18c\\ud654/NNG\",\"\\uc624\\ub978\\ucabd/NNG\",\"\\uc88c\\uce21/NNG\",\"\\uadfc\\uc721\\ud1b5/NNG\",\"\\uc9c0\\ub09c\\ub2ec/NNG\",\"\\uc77c\\ubcf8/NNP\",\"\\ubbf8\\ub098\\ubbf8/NNP\",\"\\uacf5\\uc81c/NNG\",\"\\ubcd1\\uc6d0/NNG\",\"\\uc815\\ubc00/NNG\",\"\\uac80\\uc0ac/NNG\",\"\\uadc0\\uad6d/NNG\",\"\\ud30c\\ub3d9/NNG\",\"\\uc740/NNG\",\"\\ub0a0/NNG\",\"\\uac80\\ucd9c/NNG\",\"\\ubd80\\uacfc/NNG\",\"\\uc2e4\\uc2dc/NNG\",\"\\uc18c\\ubcc0/NNG\",\"\\uc0d8\\ud50c/NNG\",\"\\uc138\\uacc4/NNG\",\"\\ubc18\\ub3c4\\ud551/NNP\",\"\\uae30\\uad6c/NNG\",\"\\uaddc\\uc815/NNG\",\"\\uae30\\uac04/NNG\",\"\\uc0ac\\uc6a9/NNG\",\"\\uc2a4\\ud0c0/NNG\",\"\\ub178\\uc870/NNG\",\"\\uc704\\uc6d0\\ud68c/NNG\",\"\\uac1c\\ucd5c/NNG\",\"\\uc18c\\uba85/NNG\",\"\\uc2ec\\uc758/NNG\",\"\\ud56d/NNG\",\"\\uc758\\uac70/NNG\",\"\\uc81c\\uc7ac/NNG\",\"\\uc6d0/NNBC\",\"\\uc804\\uc790/NNG\",\"\\uae30\\uae30/NNG\",\"\\ub0b4/NNB\",\"\\uc678/NNG\",\"\\uc694\\uc18c/NNG\",\"\\uc0ac\\ud0dc/NNG\",\"\\uc911\\uacc4/NNG\",\"\\ubc29\\uc1a1\\uc0ac/NNG\",\"\\ud654\\uba74/NNG\",\"\\ubbf8\\uad6d/NNP\",\"\\uc0ac/NNG\",\"\\uc2a4\\ub9c8\\ud2b8/NNP\",\"\\uc6cc\\uce58/NNP\",\"\\ud1b5\\uc5ed/NNG\",\"\\ub354\\uadf8\\uc544\\uc6c3/NNG\",\"\\ubc18\\uc785/NNG\",\"\\uc2dc\\uacc4/NNG\",\"\\uc18c\\uc9c0/NNG\",\"\\ubc1c\\uacac/NNG\",\"\\ud604\\uc7a5/NNG\",\"\\ub2f4\\ub2f9/NNG\",\"\\ud1f4\\uc7a5/NNG\",\"\\uc870\\uce58/NNG\",\"\\uc0ac\\uac74/NNG\",\"\\ubc1c\\uc0dd/NNG\",\"\\uccad\\uc8fc/NNP\",\"\\ubcbd\\uba74/NNG\",\"\\uc124\\uce58/NNG\",\"\\ubaa8\\ub2c8\\ud130/NNG\",\"\\uace4\\uc695/NNG\",\"\\uc870\\uc774\\uc2a4\\ud2f1/NNP\",\"\\uac01\\ub3c4/NNG\",\"\\uc870\\uc808/NNG\",\"\\ud569\\uc758/NNG\",\"\\uc624\\ud574/NNG\",\"\\uc5f4\\ud48d/NNG\",\"\\uc785\\uc131/NNG\",\"\\ud575\\ud3ed\\ud0c4/NNG\",\"\\ubc1c\\ud718/NNG\",\"\\uc2ac\\ub77c\\uc774\\ub354/NNG\",\"\\uc555\\ub3c4/NNG\",\"\\uc1fc/NNG\",\"\\ub2f9/NNG\",\"\\uc2a4\\ud14c\\ubbf8/NNP\",\"\\uacfc\\uc2dc/NNG\",\"\\ud3c9\\uade0/NNG\",\"\\ud22c\\uad6c/NNG\",\"\\ubfd0/NNB\",\"\\ubb34\\ub300/NNG\",\"\\uc81c\\uc555/NNG\",\"\\uad6c\\uc138\\uc8fc/NNG\",\"\\ubcf5\\uadc0/NNG\",\"\\ud65c\\uc6a9/NNG\",\"\\uc870\\uc815\\uc6d0/NNP\",\"\\uae30\\uc601/NNG\",\"\\uc784\\uc758/NNG\",\"\\ud0c8\\ud1f4/NNG\",\"\\ucf54\\uce6d\\uc2a4\\ud0dc\\ud504/NNG\",\"\\ubcf5\\uc548/NNG\",\"\\ud6c4\\ud3ed\\ud48d/NNG\",\"\\ucc44/NNG\",\"\\uc6e8\\uc774/NNP\",\"\\ucd94\\uc2b9\\uc6b0/NNP\",\"\\uc815\\ubbfc\\ud601/NNP\",\"\\ub9c8\\uc77c\\uc601/NNP\",\"\\uc784\\uacbd\\uc644/NNP\",\"\\ud669\\uc7ac\\uaddc/NNP\",\"\\ubcf4\\ud1b5/NNG\",\"\\uc720\\ub3d9/NNG\",\"\\uc778/NNG\",\"\\ub4f1\\ub85d/NNG\",\"\\uc815\\uc6d0/NNG\",\"\\ubaa8\\uc591\\uc0c8/NNG\",\"\\uafc8/NNG\",\"\\ud0c0\\uc774\\uae30\\ub85d/NNG\",\"\\uc791\\uc131/NNG\",\"\\ub300\\uc7a5\\uc815/NNG\",\"\\ubaa9\\uc18c\\ub9ac/NNG\",\"\\uc624\\ud6c4/NNG\",\"\\uc2dc/NNBC\",\"\\uc6d0\\uc815/NNG\",\"\\uc218/NNG\",\"\\ub8f8/NNG\",\"\\uc9d0/NNG\",\"\\ucde8\\uc7ac\\uc9c4/NNG\",\"\\uc778\\ud130\\ubdf0/NNG\",\"\\uc785/NNG\",\"\\uc120\\ud0dd/NNG\",\"\\uc0dd\\uac01/NNG\",\"\\uac04/NNB\",\"\\ud398\\uc774\\uc2a4/NNG\",\"\\uc911\\uac04/NNG\",\"\\ubbf8\\uc548/NNG\",\"\\uc608\\uc804/NNG\",\"\\uc131\\uc6d0/NNG\",\"\\ub77c\\uba74/NNG\",\"\\uc57c\\uc2e0/NNP\",\"\\ubd88\\uaf43/NNG\",\"\\ud558\\uc704/NNG\",\"\\ud2b8\\ub798\\uc9c1/NNP\",\"\\ub118\\ubc84/NNG\",\"\\ucd5c\\uc18c/NNG\",\"\\ud655\\ubcf4/NNG\",\"\\ucc38\\uac00/NNG\",\"\\uc57c\\uc2ec/NNG\",\"\\ub54c\\ubb38/NNB\",\"\\ubd80\\uc751/NNG\",\"\\ub0b4\\ub9ac\\ub9c9/NNG\",\"\\ud2f0\\ucf13/NNG\",\"\\uc794\\uce58/NNG\",\"\\ubb38/NNG\",\"\\ub73b/NNG\",\"\\uc8fc\\ub3c4/NNG\",\"\\ud55c\\uacc4/NNG\",\"\\ub2e4\\ud06c\\ud638\\uc2a4/NNG\",\"\\uc5ed\\ud560/NNG\",\"\\ub3d9\\uc6d0/NNG\",\"\\uba74/NNG\",\"\\ub300\\uc131\\uacf5/NNG\",\"\\ucc28\\ub840/NNG\",\"\\ub9e4\\uc9c4/NNG\",\"\\ub098\\uc704/NNG\",\"\\ubd95\\uad34/NNG\",\"\\ucd5c\\ub300/NNG\",\"\\uc6d0\\ud22c/NNG\",\"\\ud380\\uce58/NNG\",\"\\uc8fc\\ucd95/NNG\",\"\\ub85c\\ud14c\\uc774\\uc158/NNG\",\"\\uc5b4\\ub824\\uc6c0/NNG\",\"\\ubc29\\ucd9c/NNG\",\"\\uc644\\ud22c/NNG\",\"\\uac10/NNG\",\"\\uc81c\\uae30/NNG\",\"\\ub098\\ube44/NNG\",\"\\ud6a8\\uacfc/NNG\",\"\\uac00\\uc911/NNG\",\"\\ub4c0\\uc624/NNP\",\"\\ubcf4\\uac15/NNG\",\"\\ub300\\uc870/NNG\",\"\\ubcf4\\uc9c1/NNG\",\"\\ud30c\\uad34/NNG\",\"\\uc2b9\\ubd80\\uc218/NNG\",\"\\uc720\\ub2c8\\ud3fc/NNG\",\"\\uc9c4/NNG\",\"\\ub9c8\\ub2f9\\uc1e0/NNG\",\"\\ud69f\\uc218/NNG\",\"\\uc548\\uc601\\uba85/NNP\",\"\\uc0c1\\uc704/NNG\",\"\\uac70\\uc9d3\\ub9d0/NNG\",\"\\uc790\\ucc45\\uc810/NNG\",\"\\ud50c\\ub808\\uc774\\uc624\\ud504/NNG\",\"\\uccb4\\ub825/NNG\",\"\\uacfc\\ubd80/NNG\",\"\\ub300/NNBC\",\"\\uc0c1\\uad00/NNG\",\"\\ub0b4\\ubd80/NNP\",\"\\uc678\\ubd80/NNG\",\"\\uc591\\ud0a4\\uc2a4/NNP\",\"\\uacf5\\uc2dd/NNG\",\"\\uacc4\\uc57d\\uae08/NNG\",\"\\uae30\\ub300\\uac10/NNG\",\"\\ub300\\ubaa9/NNG\",\"\\uac1c\\uc810\\ud734\\uc5c5/NNG\",\"\\uae40\\ub3d9\\uc6b0/NNP\",\"\\uad6d\\ubbfc/NNG\",\"\\uc77c\\ubcf4/NNG\",\"\\ubb34\\ub2e8/NNG\",\"\\uc804\\uc7ac/NNG\",\"\\ubc30\\ud3ec/NNG\",\"\\ucde8\\uc7ac\\uc6d0/NNG\",\"\\ub3c5\\uc790/NNG\",\"\\uc811\\uadfc/NNG\",\"\\uad8c\\ub9ac/NNG\",\"\\ubc18\\ub860/NNG\",\"\\uc815\\uc815/NNG\",\"\\ucd94\\ud6c4/NNG\",\"\\ubcf4\\ub3c4/NNG\",\"\\uccad\\uad6c/NNG\",\"\\ud30c\\ud06c/NNP\",\"\\ub354\\uadf8/NNP\",\"\\ubc29/NNG\",\"\\uc804\\uc801/NNG\",\"\\uc2a4\\ud504\\ub9c1/NNG\",\"\\uc5f0\\uc77c/NNG\",\"\\uc5f0\\uc2b9/NNG\",\"\\uac15\\ud589/NNG\",\"\\uac74/NNB+JX\",\"\\ubca0\\ud14c\\ub791/NNG\",\"\\ud3ec\\uc218/NNG\",\"\\uc624\\ub298/NNG\",\"\\uc9c1\\ud6c4/NNG\",\"\\uc758/NNG\",\"\\uc695/NNG\",\"\\ud480/NNG\",\"\\uacbd\\uae30\\uc7a5/NNG\",\"\\uc5d0\\ub108\\uc9c0/NNG\",\"\\ub3c5\\ub824/NNG\",\"\\uace0\\uac1c/NNG\",\"\\uc5bc\\uad74/NNG\",\"\\uc790\\uaca9/NNG\",\"\\ub2e4\\uc9d0/NNG\",\"\\ucc28\\uc9c0/NNG\",\"\\ub0a8/NNG\",\"\\uc120\\ucde8/NNG\",\"\\uc6b0\\uc804/NNG\",\"\\uc88c\\uc804/NNG\",\"\\ud0dc\\uadf8/NNG\",\"\\uc9c4\\ud589/NNG\",\"\\uc811\\uc804/NNG\",\"\\uade0\\ud615/NNG\",\"\\uc545\\uc218/NNG\",\"\\uc410\\uae30/NNG\",\"\\ubc29\\ub9dd\\uc774/NNG\",\"\\uc554\\uc2dc/NNG\",\"\\ubb34\\uc0ac/NNG\",\"\\ud6c4\\uc18d/NNG\",\"\\ud0c0/NNG\",\"\\uccb4\\uc778\\uc9c0\\uc5c5/NNG\",\"\\uac00\\uc6b4\\ub370/NNG\",\"\\ud3ec/NNG\",\"\\ub3d9\\uc2dc/NNG\",\"\\ubc29/NNBC\",\"\\uc808\\ubc18/NNG\",\"\\uc0ac\\uc0c1/NNG\",\"\\uad74\\uc695/NNG\",\"\\uae30\\uc900/NNG\",\"\\uc544\\ub798/NNG\",\"\\uc9c0\\uc625/NNG\",\"\\ub2f4\\uae08\\uc9c8/NNG\",\"\\uac70\\ubb3c/NNG\",\"\\ud6c4\\ubc29/NNG\",\"\\uc9c0\\uc6d0/NNG\",\"\\ud615\\uc131/NNG\",\"\\ub3cc\\ud48d/NNG\",\"\\ub9f9\\ud65c\\uc57d/NNG\",\"\\uc18d\\ucd9c/NNG\",\"\\uadfc\\uc131/NNG\",\"\\uc911\\uc21c/NNG\",\"\\uad34\\ubb3c/NNG\",\"\\uc2e4\\ucc45/NNG\",\"\\uac00\\uc18d/NNG\",\"\\uc6b4\\uc6a9/NNG\",\"\\ubd80\\uba54\\ub791/NNG\",\"\\ud560/NNBC\",\"\\uc5ed\\uc804\\ud328/NNG\",\"\\ub2e4\\uc0ac\\ub2e4\\ub09c/NNG\",\"\\uad04\\ubaa9/NNG\",\"\\ub9c9\\ud310/NNG\",\"\\uad00\\uacc4/NNG\",\"\\uae34\\uc7a5/NNG\",\"\\ub048/NNG\",\"\\uc624\\ub79c\\ub9cc/NNG\",\"\\ub300\\ubc15/NNG\",\"\\uc804\\uc2e0/NNG\",\"\\ucc3d\\ub2e8/NNG\",\"\\ub9c8\\ucf00\\ud305/NNG\",\"\\uba85\\uc2e4\\uc0c1\\ubd80/NNG\",\"\\uc778\\uae30/NNG\",\"\\uc18c\\ub4dd/NNG\",\"\\ub4b7\\uc2ec/NNG\",\"\\ub208\\ube5b/NNG\",\"\\uc0ac\\uc9c4/NNG\",\"\\uc758\\uc9c0/NNG\",\"\\ud544\\ub450/NNG\",\"\\uc5ed/NNG\",\"\\uc804\\ud0c0/NNG\",\"\\uc57c\\uc218/NNG\",\"\\ub098\\uba38\\uc9c0/NNG\",\"\\uadf9\\ubcf5/NNG\",\"\\uacf5\\uaca9\\ub825/NNG\",\"\\uc0ac\\ub791/NNG\",\"\\ub9c8\\ud06c/NNG\",\"\\ub2a5\\ub825/NNG\",\"\\ub2e8\\ube44/NNG\",\"\\uc695\\uc2ec/NNG\",\"\\uc640\\uc77c\\ub4dc\\uce74\\ub4dc/NNG\",\"\\uae30\\ub3c4/NNG\",\"\\ucea1\\ud2f4/NNG\",\"\\ubd80\\ub2f4/NNG\",\"\\ub4ef/NNB\",\"\\uc778\\ucc9c/NNP\",\"\\uac8c/NNB+JKC\",\"\\ucd9c\\ub8e8\\uc728/NNG\",\"\\ud558\\ub77d/NNG\",\"\\ubd80\\ub3d9/NNG\",\"\\uc598\\uae30/NNG\",\"\\ud558\\ub8e8\\ud558\\ub8e8/NNG\",\"\\uae34\\uc7a5\\uac10/NNG\",\"\\uc18d/NNG\",\"\\uc7a0/NNG\",\"\\ub18d\\uc0ac/NNG\",\"\\uc801/NNB\",\"\\uc2e4\\ud22c/NNG\",\"\\uc6b0\\uc644/NNG\",\"\\uc720\\uc77c/NNG\",\"\\ud53c\\uc548/NNG\",\"\\uc131\\uc801\\ud45c/NNG\",\"\\ube14\\ub799/NNG\",\"\\ubc14\\ud1b5/NNG\",\"\\ucd9c\\ubc1c/NNG\",\"\\uc6b0\\uc775\\uc218/NNG\",\"\\ub72c\\uacf5/NNG\",\"\\ud30c\\uc6b8/NNG\",\"\\uc720\\uaca9\\uc218/NNG\",\"\\uae40\\uc0ac\\uc5f0/NNP\",\"\\uc624\\uc815\\ubcf5/NNP\",\"\\uc911\\uacac\\uc218/NNG\",\"\\ucc98\\ub9ac/NNG\",\"\\uc564\\ub514/NNP\",\"\\ub9c8\\ub974\\ud14c/NNP\",\"\\ubc14\\uae65\\ucabd/NNG\",\"\\ub2f4\\uc7a5/NNG\",\"\\ud504\\ub9ac/NNG\",\"\\uc5d0\\uc774\\uc804\\ud2b8/NNP\",\"\\ud638\\ub839/NNG\"],\"weight\":{\"__ndarray__\":\"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\",\"dtype\":\"float64\",\"shape\":[1000]}}},\"id\":\"33696089-b103-4ccb-b241-7f891827b7ca\",\"type\":\"ColumnDataSource\"},{\"attributes\":{},\"id\":\"a0936881-dbc1-410f-a3f5-0226cb67000d\",\"type\":\"BasicTicker\"},{\"attributes\":{},\"id\":\"e180a837-322b-4e7c-8b77-952f5fea9c29\",\"type\":\"BasicTickFormatter\"},{\"attributes\":{\"data_source\":{\"id\":\"33696089-b103-4ccb-b241-7f891827b7ca\",\"type\":\"ColumnDataSource\"},\"glyph\":{\"id\":\"0888ef92-f1a8-4616-bedc-80aeb2d92574\",\"type\":\"Circle\"},\"hover_glyph\":null,\"muted_glyph\":null,\"nonselection_glyph\":{\"id\":\"c32ae51d-9d84-4e57-83e4-f6245656ed1f\",\"type\":\"Circle\"},\"selection_glyph\":null},\"id\":\"f011e659-f016-4f7a-94ad-1044e8dc8cb7\",\"type\":\"GlyphRenderer\"},{\"attributes\":{\"below\":[{\"id\":\"54bda71a-5e4b-4631-a12b-fe7b59e5e537\",\"type\":\"LinearAxis\"}],\"left\":[{\"id\":\"74d1bb7c-1d80-43b5-831d-bf0193414f12\",\"type\":\"LinearAxis\"}],\"plot_height\":900,\"plot_width\":900,\"renderers\":[{\"id\":\"54bda71a-5e4b-4631-a12b-fe7b59e5e537\",\"type\":\"LinearAxis\"},{\"id\":\"e33d020e-2179-451c-b449-d4e30fc8d904\",\"type\":\"Grid\"},{\"id\":\"74d1bb7c-1d80-43b5-831d-bf0193414f12\",\"type\":\"LinearAxis\"},{\"id\":\"5022dbe6-9bec-4e7b-ad00-2d98959fc4be\",\"type\":\"Grid\"},{\"id\":\"b3ecc1d0-529e-43f6-a810-7ab9e0243017\",\"type\":\"BoxAnnotation\"},{\"id\":\"f011e659-f016-4f7a-94ad-1044e8dc8cb7\",\"type\":\"GlyphRenderer\"},{\"id\":\"c7aaeeee-ee5f-4ef3-baac-86142c44a87a\",\"type\":\"LabelSet\"},{\"id\":\"03169130-332e-4bf5-b0d6-525e5a2297e7\",\"type\":\"Label\"}],\"title\":{\"id\":\"3db2a8fc-799d-4a83-890f-b81719900dbd\",\"type\":\"Title\"},\"tool_events\":{\"id\":\"cfe90170-6714-4f54-afc4-708932394334\",\"type\":\"ToolEvents\"},\"toolbar\":{\"id\":\"1c1866c6-5626-47f5-8c62-74cf3b8ae74f\",\"type\":\"Toolbar\"},\"x_range\":{\"id\":\"86dbedb4-ff69-429c-b03f-0477e16e033e\",\"type\":\"DataRange1d\"},\"x_scale\":{\"id\":\"ae28dabb-2212-44c6-8c4b-17865feaf204\",\"type\":\"LinearScale\"},\"y_range\":{\"id\":\"76a63d3f-ab81-4fcd-a979-480261a9afa0\",\"type\":\"DataRange1d\"},\"y_scale\":{\"id\":\"a63cf650-319f-49e7-af17-a380e5328415\",\"type\":\"LinearScale\"}},\"id\":\"e3750d07-eaf6-4b6a-b53c-0ecb8feeadbe\",\"subtype\":\"Figure\",\"type\":\"Plot\"},{\"attributes\":{},\"id\":\"a58c78df-8164-48b7-a727-840444a384c0\",\"type\":\"BasicTicker\"},{\"attributes\":{\"dimension\":1,\"plot\":{\"id\":\"e3750d07-eaf6-4b6a-b53c-0ecb8feeadbe\",\"subtype\":\"Figure\",\"type\":\"Plot\"},\"ticker\":{\"id\":\"a0936881-dbc1-410f-a3f5-0226cb67000d\",\"type\":\"BasicTicker\"}},\"id\":\"5022dbe6-9bec-4e7b-ad00-2d98959fc4be\",\"type\":\"Grid\"}],\"root_ids\":[\"e3750d07-eaf6-4b6a-b53c-0ecb8feeadbe\"]},\"title\":\"Bokeh Application\",\"version\":\"0.12.6\"}};\n",
       "            var render_items = [{\"docid\":\"6c23d3e7-24fa-46b2-b70f-e4c196ade119\",\"elementid\":\"8261a288-62cf-4af1-8d5a-f289d4eb2256\",\"modelid\":\"e3750d07-eaf6-4b6a-b53c-0ecb8feeadbe\"}];\n",
       "            \n",
       "            Bokeh.embed.embed_items(docs_json, render_items);\n",
       "          };\n",
       "          if (document.readyState != \"loading\") fn();\n",
       "          else document.addEventListener(\"DOMContentLoaded\", fn);\n",
       "        })();\n",
       "      },\n",
       "      function(Bokeh) {\n",
       "      }\n",
       "    ];\n",
       "  \n",
       "    function run_inline_js() {\n",
       "      \n",
       "      if ((window.Bokeh !== undefined) || (force === true)) {\n",
       "        for (var i = 0; i < inline_js.length; i++) {\n",
       "          inline_js[i](window.Bokeh);\n",
       "        }if (force === true) {\n",
       "          display_loaded();\n",
       "        }} else if (Date.now() < window._bokeh_timeout) {\n",
       "        setTimeout(run_inline_js, 100);\n",
       "      } else if (!window._bokeh_failed_load) {\n",
       "        console.log(\"Bokeh: BokehJS failed to load within specified timeout.\");\n",
       "        window._bokeh_failed_load = true;\n",
       "      } else if (force !== true) {\n",
       "        var cell = $(document.getElementById(\"8261a288-62cf-4af1-8d5a-f289d4eb2256\")).parents('.cell').data().cell;\n",
       "        cell.output_area.append_execute_result(NB_LOAD_WARNING)\n",
       "      }\n",
       "  \n",
       "    }\n",
       "  \n",
       "    if (window._bokeh_is_loading === 0) {\n",
       "      console.log(\"Bokeh: BokehJS loaded, going straight to plotting\");\n",
       "      run_inline_js();\n",
       "    } else {\n",
       "      load_libs(js_urls, function() {\n",
       "        console.log(\"Bokeh: BokehJS plotting callback run at\", now());\n",
       "        run_inline_js();\n",
       "      });\n",
       "    }\n",
       "  }(this));\n",
       "</script>"
      ]
     },
     "metadata": {},
     "output_type": "display_data"
    }
   ],
   "source": [
    "p2 = figure(plot_width=900, plot_height=900,title='KBO Word2Vec')\n",
    "p2.scatter(x='weight', y='height', size=2, source=source)\n",
    "\n",
    "labels = LabelSet(x='weight', y='height', text='names', level='glyph',\n",
    "              x_offset=5, y_offset=5, source=source, render_mode='canvas', text_font_size='7pt',text_alpha=0.8)\n",
    "\n",
    "citation = Label(x=70, y=70, x_units='screen', y_units='screen', render_mode='css',\n",
    "                 border_line_color='black', border_line_alpha=1.0,\n",
    "                 background_fill_color='white', background_fill_alpha=1.0)\n",
    "\n",
    "p2.add_layout(labels)\n",
    "p2.add_layout(citation)\n",
    "\n",
    "show(p2)"
   ]
  },
  {
   "cell_type": "code",
   "execution_count": 90,
   "metadata": {
    "collapsed": true
   },
   "outputs": [],
   "source": [
    "df['title']=df['title'].str.replace(r\"[^0-9a-zA-Z가-힣,.!?@=<>()\\[\\]{} ]+\", \" \")\n",
    "df['contents']=df['contents'].str.replace(r\"[^0-9a-zA-Z가-힣,.!?@=<>()\\[\\]{} ]+|[0-9a-zA-Z.]+.kr|[0-9a-zA-Z.]+.com|[0-9a-zA-Z.]+@[a-zA-Z.]+|[0-9a-zA-Z.]+@|\\([a-z.:/]+\\)|마이데일리.|조이뉴스24.|[a-zA-Z,. ]+\\.|기사제공 [0-9a-zA-Z가-힣 .]\", \" \")"
   ]
  },
  {
   "cell_type": "code",
   "execution_count": 96,
   "metadata": {
    "collapsed": true
   },
   "outputs": [],
   "source": [
    "df['contents']=df['contents'].str.findall(r\"[0-9a-zA-Z가-힣,.!?<>() ]+\\. \").apply(lambda x: ' '.join(x))"
   ]
  },
  {
   "cell_type": "code",
   "execution_count": null,
   "metadata": {
    "collapsed": true
   },
   "outputs": [],
   "source": []
  }
 ],
 "metadata": {
  "kernelspec": {
   "display_name": "Python 3",
   "language": "python",
   "name": "python3"
  },
  "language_info": {
   "codemirror_mode": {
    "name": "ipython",
    "version": 3
   },
   "file_extension": ".py",
   "mimetype": "text/x-python",
   "name": "python",
   "nbconvert_exporter": "python",
   "pygments_lexer": "ipython3",
   "version": "3.6.2"
  }
 },
 "nbformat": 4,
 "nbformat_minor": 1
}
