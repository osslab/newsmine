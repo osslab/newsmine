{
 "cells": [
  {
   "cell_type": "code",
   "execution_count": 3,
   "metadata": {
    "collapsed": true
   },
   "outputs": [],
   "source": [
    "import pandas as pd\n",
    "df = pd.read_pickle('kbl_preprocessed.pkl')"
   ]
  },
  {
   "cell_type": "code",
   "execution_count": 4,
   "metadata": {},
   "outputs": [],
   "source": [
    "df=df[df['sen_length']>30]\n",
    "df=df.reset_index(drop=True)"
   ]
  },
  {
   "cell_type": "code",
   "execution_count": 6,
   "metadata": {},
   "outputs": [
    {
     "name": "stdout",
     "output_type": "stream",
     "text": [
      "(196984,)\n",
      "(196984,)\n"
     ]
    }
   ],
   "source": [
    "X = df.sentences\n",
    "y = df.label_num\n",
    "print(X.shape)\n",
    "print(y.shape)"
   ]
  },
  {
   "cell_type": "code",
   "execution_count": 7,
   "metadata": {},
   "outputs": [
    {
     "name": "stdout",
     "output_type": "stream",
     "text": [
      "(147738,)\n",
      "(49246,)\n",
      "(147738,)\n",
      "(49246,)\n"
     ]
    },
    {
     "name": "stderr",
     "output_type": "stream",
     "text": [
      "/opt/conda/lib/python3.6/site-packages/sklearn/cross_validation.py:44: DeprecationWarning: This module was deprecated in version 0.18 in favor of the model_selection module into which all the refactored classes and functions are moved. Also note that the interface of the new CV iterators are different from that of this module. This module will be removed in 0.20.\n",
      "  \"This module will be removed in 0.20.\", DeprecationWarning)\n"
     ]
    }
   ],
   "source": [
    "from sklearn.cross_validation import train_test_split\n",
    "X_train, X_test, y_train, y_test = train_test_split(X, y, random_state=1)\n",
    "print(X_train.shape)\n",
    "print(X_test.shape)\n",
    "print(y_train.shape)\n",
    "print(y_test.shape)"
   ]
  },
  {
   "cell_type": "code",
   "execution_count": 8,
   "metadata": {},
   "outputs": [
    {
     "name": "stdout",
     "output_type": "stream",
     "text": [
      "CPU times: user 20 ms, sys: 8 ms, total: 28 ms\n",
      "Wall time: 89.2 ms\n"
     ]
    }
   ],
   "source": [
    "%%time\n",
    "from konlpy.tag import Mecab; m = Mecab()\n",
    "#pos = lambda d: ['/'.join(p) for p in m.pos(d)]\n",
    "def noun_tagger(text):\n",
    "    #return [pos[0] for pos in m.pos(text) if (pos[1] in ['SL','SH','SN']) or pos[1].startswith('NN')]\n",
    "    return [pos[0] for pos in m.pos(text) if pos[1].startswith('NN')]"
   ]
  },
  {
   "cell_type": "code",
   "execution_count": 9,
   "metadata": {
    "collapsed": true
   },
   "outputs": [],
   "source": [
    "stopwords_kbo=['조','동안','때','구단','만','월','일','메이저','타율','실점','등판','명','치','원','피','프로','이날','상대','타선','연승','연패','상황','연속','이후','후','루','뒤','등','년','팀','승','것','월','위','패','전','번','군','개','점','차','중','기사','제공','팬','루수','회','말','초','야구','리그']"
   ]
  },
  {
   "cell_type": "code",
   "execution_count": 16,
   "metadata": {},
   "outputs": [
    {
     "name": "stdout",
     "output_type": "stream",
     "text": [
      "CPU times: user 13min 47s, sys: 9.21 s, total: 13min 56s\n",
      "Wall time: 13min 55s\n"
     ]
    }
   ],
   "source": [
    "%%time\n",
    "from sklearn.feature_extraction.text import TfidfVectorizer\n",
    "vect = TfidfVectorizer(tokenizer=noun_tagger,stop_words=stopwords_kbo, ngram_range=(1,3), min_df=2, max_df=.5)\n",
    "X_train_dtm = vect.fit_transform(X_train)"
   ]
  },
  {
   "cell_type": "code",
   "execution_count": 17,
   "metadata": {
    "collapsed": true
   },
   "outputs": [],
   "source": [
    "X_test_dtm = vect.transform(X_test)"
   ]
  },
  {
   "cell_type": "code",
   "execution_count": 18,
   "metadata": {
    "collapsed": true
   },
   "outputs": [],
   "source": [
    "# import and instantiate a Multinomial Naive Bayes model\n",
    "from sklearn.naive_bayes import MultinomialNB\n",
    "nb = MultinomialNB(alpha=.01)"
   ]
  },
  {
   "cell_type": "code",
   "execution_count": 19,
   "metadata": {},
   "outputs": [
    {
     "name": "stdout",
     "output_type": "stream",
     "text": [
      "CPU times: user 3.17 s, sys: 416 ms, total: 3.59 s\n",
      "Wall time: 3.59 s\n"
     ]
    },
    {
     "data": {
      "text/plain": [
       "MultinomialNB(alpha=0.01, class_prior=None, fit_prior=True)"
      ]
     },
     "execution_count": 19,
     "metadata": {},
     "output_type": "execute_result"
    }
   ],
   "source": [
    "# train the model using X_train_dtm (timing it with an IPython \"magic command\")\n",
    "%time nb.fit(X_train_dtm, y_train)"
   ]
  },
  {
   "cell_type": "code",
   "execution_count": 20,
   "metadata": {
    "collapsed": true
   },
   "outputs": [],
   "source": [
    "# make class predictions for X_test_dtm\n",
    "y_pred_class = nb.predict(X_test_dtm)"
   ]
  },
  {
   "cell_type": "code",
   "execution_count": 21,
   "metadata": {},
   "outputs": [
    {
     "data": {
      "text/plain": [
       "0.94255370994598542"
      ]
     },
     "execution_count": 21,
     "metadata": {},
     "output_type": "execute_result"
    }
   ],
   "source": [
    "# calculate accuracy of class predictions\n",
    "from sklearn import metrics\n",
    "metrics.accuracy_score(y_test, y_pred_class)"
   ]
  },
  {
   "cell_type": "code",
   "execution_count": 22,
   "metadata": {},
   "outputs": [
    {
     "name": "stdout",
     "output_type": "stream",
     "text": [
      "class 0 error rate : 0.042077\n",
      "class 1 error rate : 0.035146\n",
      "class 2 error rate : 0.063054\n",
      "class 3 error rate : 0.053568\n",
      "class 4 error rate : 0.059514\n",
      "class 5 error rate : 0.063346\n",
      "class 6 error rate : 0.077884\n",
      "class 7 error rate : 0.050738\n",
      "class 8 error rate : 0.078263\n",
      "class 9 error rate : 0.074074\n"
     ]
    }
   ],
   "source": [
    "for num in range(0,10):\n",
    "    print(\"class %d error rate : %f\" %(num, len(X_test[(y_pred_class!=num) & (y_test==num)])/len(X_test[y_test==num])))"
   ]
  },
  {
   "cell_type": "code",
   "execution_count": 23,
   "metadata": {},
   "outputs": [
    {
     "name": "stdout",
     "output_type": "stream",
     "text": [
      "5\n"
     ]
    }
   ],
   "source": [
    "import numpy as np\n",
    "counts = np.bincount(y_pred_class[(y_pred_class!=0) & (y_test==0)])\n",
    "print(np.argmax(counts))"
   ]
  },
  {
   "cell_type": "code",
   "execution_count": 24,
   "metadata": {},
   "outputs": [
    {
     "data": {
      "text/plain": [
       "114235    이재용 삼성 부회장, 홍라희 삼성미술관장, 이서현삼성물산 사장 등 삼성 일가가 29...\n",
       "117936      삼성은 강했고 두산은 버티지 못하며 끝내 역전패 당했다.삼성 라이온즈는 18일 ...\n",
       "120172      삼성이 전 두산 내야수 최영진(28)을 영입했다.속초상고와 한일장신대를 거쳐 2...\n",
       "120443      정든 팀을 떠나야 하는 FA 보상선수. 그러나 꼭 서운한 일만은 아니다. 새로운...\n",
       "114718    프로야구 두산의 한국시리즈 우승을 이끈 김현수 등 역대 최대인 22명의  자유계약선...\n",
       "120492    삼성 라이온즈가 자유계약선수(FA) 시장에서 내야수 이원석(30)을 영입했다. 삼성...\n",
       "116484     19일 오후 서울 송파구 잠실야구장에서 열린 2015 프로야구 두산 베어스와 삼성...\n",
       "120624    이원석의 합류로 포지션 경쟁이 치열해질 삼성 내야.   연합뉴스내야수 이원석이 두산...\n",
       "120652    삼성 김한수 감독은 이원석의 영입을 적극적으로 원했다. 내야 무한 경쟁의 신호탄이 ...\n",
       "134512    1일 오후 대구 삼성라이온즈파크에서 열리는  2017 프로야구  삼성 라이온즈와 두...\n",
       "112455     차우찬.  삼성은 4차전 선발로 알프레도 피가로를 내세웠다. 두산의 4차전 선발은...\n",
       "116314    김태형 두산 감독과 양의지. 스포츠조선 DB.두산 안방마님 양의지(28)는 2007...\n",
       "123455    2016 프로야구 한국시리즈 1차전 NC와 두산의 경기가 29일 서울 잠실야구장에서...\n",
       "113033    25일 대구경북디자인센터에서 2015 타이어뱅크 KBO리그 한국시리즈 미디어데이가 ...\n",
       "120495    내야수 이원석이 삼성에 새로운 둥지를 튼다.    내야수 이원석(30)이 삼성 라이...\n",
       "110269    26일 오후 대구시민야구장에서 열린 2015 KBO 한국시리즈 1차전 삼성 라이온즈...\n",
       "128178    두산 베어스 장원준은 지난해까지 통산 97승을 올려 올시즌 초반 100승 클럽에 가...\n",
       "127157    1일 대구 삼성라이온즈파크에서 처음으로 열리는 2016 타이어뱅크 KBO리그 공식 ...\n",
       "112985    프로야구 삼성 라이온즈와 두산 베어스의 두 사령탑과 선수들이 25일 대구 동구 대구...\n",
       "113811      삼성 선수단이 두산의 우승 시상식을 끝까지 지켜보며 축하해주고 있다.김우종 기자...\n",
       "130348    두산 이원석이 23일 삼성전에서 선발 차우찬을 상대로 홈런을 날리며 승부를 원점으로...\n",
       "127160     정수빈이 역사적 첫 출루를 했다.두산 베어스와 삼성 라이온즈는 4월 1일 대구 삼...\n",
       "113193    삼성 라이온즈와 두산 베어스가 맞붙는 한국시리즈 미디어데이가 25일 열린다. 한국야...\n",
       "121682      삼성의 FA 영입은 성공적일까. 이원석을 둔 손익계산서를 보면 애매한 느낌을 지...\n",
       "127364      삼성이 16안타를 기록한 타선의 집중력을 통해 전날 개막전 패배의 아쉬움을 털어...\n",
       "135635    2일 대구 라이온즈파크에서 열린  2017 프로야구 KBO리그  삼성 라이온즈와 두...\n",
       "127362      삼성 라이온즈 선발 앨런 웹스터.삼성 라이온즈 제공 삼성 라이온즈의 외국인 투수...\n",
       "127177       니퍼트를 깨보겠다.   지금이라도 바꿔드릴까요. 지난달 29일 미디어데이. 류...\n",
       "115757     홈런왕 박병호(29 미네소타)가 4년 연속 카스포인트 어워즈 대상을 받았다. 박병...\n",
       "135821     나갈 수 있으면 사이드로 던져볼랬는데  유희관 두산 좌완 투수의 아쉬운 속마음이 ...\n",
       "114481    삼성 심창민 두산 함덕주(오른쪽). 스포츠동아DB양팀 심창민 함덕주 불안한 투구  ...\n",
       "113705    삼성 심창민과 두산 노경은삼성과 두산이 한국시리즈 1차전을 통해  불펜 대란 을 예...\n",
       "112633     우리 예상대로 됐으면 좋겠다  한국시리즈 우승을 놓고 다투는 삼성 라이온즈와 두산...\n",
       "128858      두산 베어스의 양의지와 오재원이 24일 대구 삼성라이온즈 파크에서 열린 삼성과의...\n",
       "127529      두산 베어스의 외국인 타자 닉 에반스가 부진 끝에 결국 1군 엔트리서 말소됐다....\n",
       "139196    2017 KBO 퓨처스 올스타전이 14일 오후 대구 삼성라이온즈파크에서 열렸다.1회...\n",
       "112682     배영섭.  1승2패로 몰린 삼성은 변화를 택했다. 반면 1패 뒤 2연승을 거둔 두...\n",
       "115715     2015 KBO리그 골든글러브 시상식  프로야구 두산베어스 포수 양의지가 2년 연...\n",
       "127161      지난해 준우승에 그쳤지만 올해는 삼성이 반드시 우승합니다.  2일 프로야구 개막...\n",
       "114795    프리미어12에서 맹활약중인 김현수는 해외 진출을 하지 않는다면 역대 최고액 FA계약...\n",
       "113378    삼성 라이온즈 심창민이 KS 2경기 연속 불안한 모습을 안겼다. 두 팀 모두 불펜 ...\n",
       "127178    2016시즌 공식 개막전은 지난해 한국시리즈 맞대결팀이 만난다. 정규시즌 1위인 삼...\n",
       "127138     2016 타이어뱅크 프로야구 개막한 1일 대구 수성구 삼성라이온즈파크에서 열린 삼...\n",
       "113027     25일 오후 대구광역시 동구 대구경북디자인센터에서 열린  2015 KBO리그 한국...\n",
       "120489      이원석이 삼성 라이온즈에서 새로운 도전을 시작한다.삼성은 21일  이원석과 FA...\n",
       "117588      김상수(25, 삼성 라이온즈)이 자신의 한 시즌 최다 홈런 기록을 바꿨다.김상수...\n",
       "120651      김태형 감독   한희재 기자  두산 베어스와 삼성 라이온즈가 함께 계산기를 두드...\n",
       "140363      두산 베어스가 KBO리그 역대 두 번째 팀 4만 안타의 대기록을 달성했다. 두산...\n",
       "123417       2016시즌 프로야구 최고의 순간 주인공으로 이승엽(삼성), 정재훈(두산), ...\n",
       "115488     세계야구소프트볼연맹(WBSC) 프리미어 12 사령탑을 맡아 한국을 초대 챔피언으로...\n",
       "112521    프로야구 한국시리즈가 중반을 넘어서면서 삼성 라이온즈와 두산 베어스의 약점이 뚜렷하...\n",
       "124311      장원준(두산)이 사자 사냥꾼의 위용을 다시 한 번 보여줬다. 올 시즌 삼성전 두...\n",
       "Name: sentences, dtype: object"
      ]
     },
     "execution_count": 24,
     "metadata": {},
     "output_type": "execute_result"
    }
   ],
   "source": [
    "X_test[(y_pred_class==5) & (y_test==0)]"
   ]
  },
  {
   "cell_type": "code",
   "execution_count": 25,
   "metadata": {},
   "outputs": [
    {
     "data": {
      "text/plain": [
       "'이재용 삼성 부회장, 홍라희 삼성미술관장, 이서현삼성물산 사장 등 삼성 일가가 29일 서울 잠실야구장에서 열린 한국시리즈 3차전 두산과 삼성 경기를 관람하고 있다. 2015.10.29 연합뉴스 삼성 라이온즈가 2경기 연속 1득점에 그친 타선의 침묵과 결정적 수비 실책 탓에 두산 베어스에 무릎을 꿇었다. 7전4승제의 한국시리즈에서 1승 2패로 열세에 몰린 삼성은 30일 열리는 4차전을 이겨야 하는 부담을 안게 됐다. 통산 8번째 한국시리즈 우승을 노리는 삼성이 먼저 2패를 당하고도 챔피언 반지를 차지한 것은 두산과 맞붙었던 2013년이 유일하다. 삼성은 29일 서울 잠실야구장에서 열린 두산 베어스와의 한국시리즈 3차전에서 8안타를 쳤으나 응집력 부족으로 1대5로 패했다. 1회 내야안타를 치고 나간 구자욱이 나바로의 적시타로 홈을 밟은 게 유일한 득점이었다. 삼성은 앞서 27일 대구시민야구장에서 열린 2차전에서도 1대6으로 졌다.가을비에 젖은 삼성 타자들의 방망이는 두산 선발투수 장원준의 변화구 앞에 물 먹은 솜방망이처럼 무거웠다. 3 5회에는 9타자 연속 범타에 그쳤고, 6회 2사 2 3루, 8회 무사 1루, 9회 2사 만루에서는 적시타가 터지지 않았다. 멀티 히트를 때려낸 것은 한국시리즈 첫 선발 출장의 기회를 잡은 구자욱과 이지영뿐이었다. 삼성 선발투수 타일러 클로이드는 5이닝 5피안타 6사사구로 3실점, 자신의 첫 한국시리즈 등판에서 패전의 멍에를 썼다. 매 이닝 주자를 내보내고도 3회까지는 무실점으로 버텼으나 4회 볼넷 2개로 자초한 1사 2 3루에서 박건우에게 2타점 적시타를 맞았다. 또 5회에는 2루타와 몸에 맞는 공, 희생번트에 이은 양의지의 희생플라이로 추가점을 내줬다. 삼성은 6회 1사 만루의 위기에서 구원투수 심창민이 허경민을 2루수 앞 땅볼로 유도했으나 2루수 나바로가 1루에 악송구를 하는 바람에 한꺼번에 2점을 헌납, 분위기를 완전히 넘겨주고 말았다.'"
      ]
     },
     "execution_count": 25,
     "metadata": {},
     "output_type": "execute_result"
    }
   ],
   "source": [
    "X_test[114235]"
   ]
  },
  {
   "cell_type": "code",
   "execution_count": 26,
   "metadata": {},
   "outputs": [
    {
     "data": {
      "text/html": [
       "<div>\n",
       "<table border=\"1\" class=\"dataframe\">\n",
       "  <thead>\n",
       "    <tr style=\"text-align: right;\">\n",
       "      <th></th>\n",
       "      <th>level_0</th>\n",
       "      <th>contents</th>\n",
       "      <th>datetime</th>\n",
       "      <th>title</th>\n",
       "      <th>url</th>\n",
       "      <th>label_num</th>\n",
       "      <th>sentences</th>\n",
       "      <th>sen_length</th>\n",
       "      <th>con_length</th>\n",
       "    </tr>\n",
       "  </thead>\n",
       "  <tbody>\n",
       "    <tr>\n",
       "      <th>114235</th>\n",
       "      <td>OB</td>\n",
       "      <td>이재용 삼성 부회장, 홍라희 삼성미술관장, 이서현삼성물산 사장 등 삼성 일가가 29...</td>\n",
       "      <td>2015-10-29 23:50:04</td>\n",
       "      <td>타선 침묵 수비 실책 잇따라 삼성, KS 3차전 두산에 1대5로 져</td>\n",
       "      <td>http://sports.news.naver.com/kbaseball/news/re...</td>\n",
       "      <td>0</td>\n",
       "      <td>이재용 삼성 부회장, 홍라희 삼성미술관장, 이서현삼성물산 사장 등 삼성 일가가 29...</td>\n",
       "      <td>949</td>\n",
       "      <td>1010</td>\n",
       "    </tr>\n",
       "  </tbody>\n",
       "</table>\n",
       "</div>"
      ],
      "text/plain": [
       "       level_0                                           contents  \\\n",
       "114235      OB  이재용 삼성 부회장, 홍라희 삼성미술관장, 이서현삼성물산 사장 등 삼성 일가가 29...   \n",
       "\n",
       "                  datetime                                  title  \\\n",
       "114235 2015-10-29 23:50:04  타선 침묵 수비 실책 잇따라 삼성, KS 3차전 두산에 1대5로 져   \n",
       "\n",
       "                                                      url  label_num  \\\n",
       "114235  http://sports.news.naver.com/kbaseball/news/re...          0   \n",
       "\n",
       "                                                sentences  sen_length  \\\n",
       "114235  이재용 삼성 부회장, 홍라희 삼성미술관장, 이서현삼성물산 사장 등 삼성 일가가 29...         949   \n",
       "\n",
       "        con_length  \n",
       "114235        1010  "
      ]
     },
     "execution_count": 26,
     "metadata": {},
     "output_type": "execute_result"
    }
   ],
   "source": [
    "df[df.index==114235]"
   ]
  },
  {
   "cell_type": "code",
   "execution_count": 27,
   "metadata": {},
   "outputs": [
    {
     "data": {
      "text/html": [
       "<div>\n",
       "<table border=\"1\" class=\"dataframe\">\n",
       "  <thead>\n",
       "    <tr style=\"text-align: right;\">\n",
       "      <th></th>\n",
       "      <th>level_0</th>\n",
       "      <th>contents</th>\n",
       "      <th>datetime</th>\n",
       "      <th>title</th>\n",
       "      <th>url</th>\n",
       "      <th>label_num</th>\n",
       "      <th>sentences</th>\n",
       "      <th>sen_length</th>\n",
       "      <th>con_length</th>\n",
       "    </tr>\n",
       "  </thead>\n",
       "  <tbody>\n",
       "    <tr>\n",
       "      <th>123417</th>\n",
       "      <td>OB</td>\n",
       "      <td>[일간스포츠 유병민]  2016시즌 프로야구 최고의 순간 주인공으로 이승엽(삼성),...</td>\n",
       "      <td>2016-12-12 20:50:59</td>\n",
       "      <td>카스모멘트  정재훈  고통보다 아웃 잡겠다는 생각 뿐이었다</td>\n",
       "      <td>http://sports.news.naver.com/kbaseball/news/re...</td>\n",
       "      <td>0</td>\n",
       "      <td>2016시즌 프로야구 최고의 순간 주인공으로 이승엽(삼성), 정재훈(두산), ...</td>\n",
       "      <td>1072</td>\n",
       "      <td>1149</td>\n",
       "    </tr>\n",
       "  </tbody>\n",
       "</table>\n",
       "</div>"
      ],
      "text/plain": [
       "       level_0                                           contents  \\\n",
       "123417      OB  [일간스포츠 유병민]  2016시즌 프로야구 최고의 순간 주인공으로 이승엽(삼성),...   \n",
       "\n",
       "                  datetime                               title  \\\n",
       "123417 2016-12-12 20:50:59   카스모멘트  정재훈  고통보다 아웃 잡겠다는 생각 뿐이었다    \n",
       "\n",
       "                                                      url  label_num  \\\n",
       "123417  http://sports.news.naver.com/kbaseball/news/re...          0   \n",
       "\n",
       "                                                sentences  sen_length  \\\n",
       "123417     2016시즌 프로야구 최고의 순간 주인공으로 이승엽(삼성), 정재훈(두산), ...        1072   \n",
       "\n",
       "        con_length  \n",
       "123417        1149  "
      ]
     },
     "execution_count": 27,
     "metadata": {},
     "output_type": "execute_result"
    }
   ],
   "source": [
    "df[df.index==123417]"
   ]
  },
  {
   "cell_type": "code",
   "execution_count": 28,
   "metadata": {},
   "outputs": [
    {
     "data": {
      "text/plain": [
       "'   2016시즌 프로야구 최고의 순간 주인공으로 이승엽(삼성), 정재훈(두산), 황덕균(넥센)이 꼽혔다.  카스포인트 어워즈가 12일 서울 삼성동 코엑스 오디토리움에서 열렸다. 카스포인트 어워즈는 누적 점수에 따라 순위를 결정하는 카스포인트 부문과 팀 승리에 결정적 영향을 미친 역동적인 장면과 감동적인 모습을 선정하는 카스모멘트 부문으로 구분해서 시상한다. 영예의 대상은 투 타 카스포인트 상위 4명 가운데 카스포인트(40 )와 선정위원회 점수(10 ), 네티즌 현장 투표(50 )를 합산해 선정한다. 카스모멘트는 10개 부문 중 선정위원 점수(20 )와 네티즌 현장 투표(80 )를 합산해서 베스트 3를 선정했다.  카스모멘트 베스트 3 는 한 일 통산 600홈런의 주인공 이승엽과 팔꿈치 부상을 당하면서도 송구를 시도한 정재훈, 프로 데뷔 15년 만에 첫 승을 따낸 황덕균이 선정됐다. 정재훈은 지난 8월4일 잠실 LG전에서 4 5로 뒤진 8회 2사 1 2루 위기에서 박용택의 타구에 팔꿈치를 강타 당했다. 부상 속에서도 1루 송구를 위해 왼손으로 공을 잡았지만, 끝내 던지지 못하고 그라운드에 주저 앉았다. 팔꿈치 골절 부상을 당한 정재훈은 팀이 2연패에 성공한 한국시리즈에 나서지 못해 아쉬움을 남겼다. 시즌을 마친 뒤 어깨 수술을 해 내년 시즌 초반 등판이 불투명하다. 정재훈은  지금까지 부상과 수술없이 야구를 했는데, 최근 어깨 수술까지 두 차례 수술을 했다 며  재활까지 시간이 걸릴 것 같다. 재활을 잘 마무리해서 좋은 공을 던지겠다 고 소감을 밝혔다.  팔꿈치 부상 당시 상황을 회상한 정재훈은  몸에 가해진 고통보다 어떻게든 아웃카운트를 잡아야 한다는 생각 뿐이었다. 왼손으로 잘 던져서 던지려고 했는데, 타이밍이 맞지 않았다. 고통은 그 다음에 오더라. 어느 투수라도 나와 같은 행동을 했을 것 이라며 웃었다. 이어  내년 초반 재활로 시작할 것 같다. 내년에는 3연패를 하는데 있어서 마지막에 동료와 같이 있을 수 있도록, 마운드에서 공 던질 수 있도록 준비하겠다 고 덧붙였다.김진경 기자 일간스포츠       일간스포츠(http ) and JTBC Content Hub Co., Ltd.'"
      ]
     },
     "execution_count": 28,
     "metadata": {},
     "output_type": "execute_result"
    }
   ],
   "source": [
    "X_test[123417]"
   ]
  },
  {
   "cell_type": "markdown",
   "metadata": {},
   "source": [
    "In practice Multinomial NB can be better than Linear SVM in some situations and svm better than NB on other datasets. Apparently t's possible to combine the two approaches to get a very good baseline: projects:nbsvm - Sida I. Wang\n",
    "\n",
    "You can also try non-linear SVMs but often the quadratic complexity of the SMO algorithm (for instance as implemented in libsvm) makes it not practical on datasets with more than 5000 documents. Instead on prefer to use liblinear than can only train linear SVM on large datasets.\n",
    "\n",
    "https://www.quora.com/What-are-the-differences-similarities-between-SVM-Naive-Bayes-for-binary-text-classification-wrt-how-they-are-processing-the-features"
   ]
  },
  {
   "cell_type": "code",
   "execution_count": 37,
   "metadata": {
    "collapsed": true
   },
   "outputs": [],
   "source": [
    "from sklearn import svm\n",
    "clf = svm.SVC(decision_function_shape='ovo')"
   ]
  },
  {
   "cell_type": "code",
   "execution_count": null,
   "metadata": {
    "collapsed": true
   },
   "outputs": [],
   "source": [
    "%time clf.fit(X_train_dtm, y_train)"
   ]
  },
  {
   "cell_type": "code",
   "execution_count": null,
   "metadata": {
    "collapsed": true
   },
   "outputs": [],
   "source": [
    "y_pred_class_svm = clf.predict(X_test_dtm)"
   ]
  },
  {
   "cell_type": "code",
   "execution_count": null,
   "metadata": {
    "collapsed": true
   },
   "outputs": [],
   "source": [
    "metrics.accuracy_score(y_test, y_pred_class_svm)"
   ]
  },
  {
   "cell_type": "code",
   "execution_count": 35,
   "metadata": {},
   "outputs": [],
   "source": [
    "from sklearn.ensemble import RandomForestClassifier\n",
    "rf = RandomForestClassifier(n_estimators=100, oob_score = True,n_jobs = 1,random_state =1)"
   ]
  },
  {
   "cell_type": "code",
   "execution_count": 36,
   "metadata": {},
   "outputs": [
    {
     "ename": "KeyboardInterrupt",
     "evalue": "",
     "output_type": "error",
     "traceback": [
      "\u001b[0;31m---------------------------------------------------------------------------\u001b[0m",
      "\u001b[0;31mKeyboardInterrupt\u001b[0m                         Traceback (most recent call last)",
      "\u001b[0;32m<timed eval>\u001b[0m in \u001b[0;36m<module>\u001b[0;34m()\u001b[0m\n",
      "\u001b[0;32m/opt/conda/lib/python3.6/site-packages/sklearn/ensemble/forest.py\u001b[0m in \u001b[0;36mfit\u001b[0;34m(self, X, y, sample_weight)\u001b[0m\n\u001b[1;32m    324\u001b[0m                     \u001b[0mt\u001b[0m\u001b[0;34m,\u001b[0m \u001b[0mself\u001b[0m\u001b[0;34m,\u001b[0m \u001b[0mX\u001b[0m\u001b[0;34m,\u001b[0m \u001b[0my\u001b[0m\u001b[0;34m,\u001b[0m \u001b[0msample_weight\u001b[0m\u001b[0;34m,\u001b[0m \u001b[0mi\u001b[0m\u001b[0;34m,\u001b[0m \u001b[0mlen\u001b[0m\u001b[0;34m(\u001b[0m\u001b[0mtrees\u001b[0m\u001b[0;34m)\u001b[0m\u001b[0;34m,\u001b[0m\u001b[0;34m\u001b[0m\u001b[0m\n\u001b[1;32m    325\u001b[0m                     verbose=self.verbose, class_weight=self.class_weight)\n\u001b[0;32m--> 326\u001b[0;31m                 for i, t in enumerate(trees))\n\u001b[0m\u001b[1;32m    327\u001b[0m \u001b[0;34m\u001b[0m\u001b[0m\n\u001b[1;32m    328\u001b[0m             \u001b[0;31m# Collect newly grown trees\u001b[0m\u001b[0;34m\u001b[0m\u001b[0;34m\u001b[0m\u001b[0m\n",
      "\u001b[0;32m/opt/conda/lib/python3.6/site-packages/sklearn/externals/joblib/parallel.py\u001b[0m in \u001b[0;36m__call__\u001b[0;34m(self, iterable)\u001b[0m\n\u001b[1;32m    756\u001b[0m             \u001b[0;31m# was dispatched. In particular this covers the edge\u001b[0m\u001b[0;34m\u001b[0m\u001b[0;34m\u001b[0m\u001b[0m\n\u001b[1;32m    757\u001b[0m             \u001b[0;31m# case of Parallel used with an exhausted iterator.\u001b[0m\u001b[0;34m\u001b[0m\u001b[0;34m\u001b[0m\u001b[0m\n\u001b[0;32m--> 758\u001b[0;31m             \u001b[0;32mwhile\u001b[0m \u001b[0mself\u001b[0m\u001b[0;34m.\u001b[0m\u001b[0mdispatch_one_batch\u001b[0m\u001b[0;34m(\u001b[0m\u001b[0miterator\u001b[0m\u001b[0;34m)\u001b[0m\u001b[0;34m:\u001b[0m\u001b[0;34m\u001b[0m\u001b[0m\n\u001b[0m\u001b[1;32m    759\u001b[0m                 \u001b[0mself\u001b[0m\u001b[0;34m.\u001b[0m\u001b[0m_iterating\u001b[0m \u001b[0;34m=\u001b[0m \u001b[0;32mTrue\u001b[0m\u001b[0;34m\u001b[0m\u001b[0m\n\u001b[1;32m    760\u001b[0m             \u001b[0;32melse\u001b[0m\u001b[0;34m:\u001b[0m\u001b[0;34m\u001b[0m\u001b[0m\n",
      "\u001b[0;32m/opt/conda/lib/python3.6/site-packages/sklearn/externals/joblib/parallel.py\u001b[0m in \u001b[0;36mdispatch_one_batch\u001b[0;34m(self, iterator)\u001b[0m\n\u001b[1;32m    606\u001b[0m                 \u001b[0;32mreturn\u001b[0m \u001b[0;32mFalse\u001b[0m\u001b[0;34m\u001b[0m\u001b[0m\n\u001b[1;32m    607\u001b[0m             \u001b[0;32melse\u001b[0m\u001b[0;34m:\u001b[0m\u001b[0;34m\u001b[0m\u001b[0m\n\u001b[0;32m--> 608\u001b[0;31m                 \u001b[0mself\u001b[0m\u001b[0;34m.\u001b[0m\u001b[0m_dispatch\u001b[0m\u001b[0;34m(\u001b[0m\u001b[0mtasks\u001b[0m\u001b[0;34m)\u001b[0m\u001b[0;34m\u001b[0m\u001b[0m\n\u001b[0m\u001b[1;32m    609\u001b[0m                 \u001b[0;32mreturn\u001b[0m \u001b[0;32mTrue\u001b[0m\u001b[0;34m\u001b[0m\u001b[0m\n\u001b[1;32m    610\u001b[0m \u001b[0;34m\u001b[0m\u001b[0m\n",
      "\u001b[0;32m/opt/conda/lib/python3.6/site-packages/sklearn/externals/joblib/parallel.py\u001b[0m in \u001b[0;36m_dispatch\u001b[0;34m(self, batch)\u001b[0m\n\u001b[1;32m    569\u001b[0m         \u001b[0mdispatch_timestamp\u001b[0m \u001b[0;34m=\u001b[0m \u001b[0mtime\u001b[0m\u001b[0;34m.\u001b[0m\u001b[0mtime\u001b[0m\u001b[0;34m(\u001b[0m\u001b[0;34m)\u001b[0m\u001b[0;34m\u001b[0m\u001b[0m\n\u001b[1;32m    570\u001b[0m         \u001b[0mcb\u001b[0m \u001b[0;34m=\u001b[0m \u001b[0mBatchCompletionCallBack\u001b[0m\u001b[0;34m(\u001b[0m\u001b[0mdispatch_timestamp\u001b[0m\u001b[0;34m,\u001b[0m \u001b[0mlen\u001b[0m\u001b[0;34m(\u001b[0m\u001b[0mbatch\u001b[0m\u001b[0;34m)\u001b[0m\u001b[0;34m,\u001b[0m \u001b[0mself\u001b[0m\u001b[0;34m)\u001b[0m\u001b[0;34m\u001b[0m\u001b[0m\n\u001b[0;32m--> 571\u001b[0;31m         \u001b[0mjob\u001b[0m \u001b[0;34m=\u001b[0m \u001b[0mself\u001b[0m\u001b[0;34m.\u001b[0m\u001b[0m_backend\u001b[0m\u001b[0;34m.\u001b[0m\u001b[0mapply_async\u001b[0m\u001b[0;34m(\u001b[0m\u001b[0mbatch\u001b[0m\u001b[0;34m,\u001b[0m \u001b[0mcallback\u001b[0m\u001b[0;34m=\u001b[0m\u001b[0mcb\u001b[0m\u001b[0;34m)\u001b[0m\u001b[0;34m\u001b[0m\u001b[0m\n\u001b[0m\u001b[1;32m    572\u001b[0m         \u001b[0mself\u001b[0m\u001b[0;34m.\u001b[0m\u001b[0m_jobs\u001b[0m\u001b[0;34m.\u001b[0m\u001b[0mappend\u001b[0m\u001b[0;34m(\u001b[0m\u001b[0mjob\u001b[0m\u001b[0;34m)\u001b[0m\u001b[0;34m\u001b[0m\u001b[0m\n\u001b[1;32m    573\u001b[0m \u001b[0;34m\u001b[0m\u001b[0m\n",
      "\u001b[0;32m/opt/conda/lib/python3.6/site-packages/sklearn/externals/joblib/_parallel_backends.py\u001b[0m in \u001b[0;36mapply_async\u001b[0;34m(self, func, callback)\u001b[0m\n\u001b[1;32m    107\u001b[0m     \u001b[0;32mdef\u001b[0m \u001b[0mapply_async\u001b[0m\u001b[0;34m(\u001b[0m\u001b[0mself\u001b[0m\u001b[0;34m,\u001b[0m \u001b[0mfunc\u001b[0m\u001b[0;34m,\u001b[0m \u001b[0mcallback\u001b[0m\u001b[0;34m=\u001b[0m\u001b[0;32mNone\u001b[0m\u001b[0;34m)\u001b[0m\u001b[0;34m:\u001b[0m\u001b[0;34m\u001b[0m\u001b[0m\n\u001b[1;32m    108\u001b[0m         \u001b[0;34m\"\"\"Schedule a func to be run\"\"\"\u001b[0m\u001b[0;34m\u001b[0m\u001b[0m\n\u001b[0;32m--> 109\u001b[0;31m         \u001b[0mresult\u001b[0m \u001b[0;34m=\u001b[0m \u001b[0mImmediateResult\u001b[0m\u001b[0;34m(\u001b[0m\u001b[0mfunc\u001b[0m\u001b[0;34m)\u001b[0m\u001b[0;34m\u001b[0m\u001b[0m\n\u001b[0m\u001b[1;32m    110\u001b[0m         \u001b[0;32mif\u001b[0m \u001b[0mcallback\u001b[0m\u001b[0;34m:\u001b[0m\u001b[0;34m\u001b[0m\u001b[0m\n\u001b[1;32m    111\u001b[0m             \u001b[0mcallback\u001b[0m\u001b[0;34m(\u001b[0m\u001b[0mresult\u001b[0m\u001b[0;34m)\u001b[0m\u001b[0;34m\u001b[0m\u001b[0m\n",
      "\u001b[0;32m/opt/conda/lib/python3.6/site-packages/sklearn/externals/joblib/_parallel_backends.py\u001b[0m in \u001b[0;36m__init__\u001b[0;34m(self, batch)\u001b[0m\n\u001b[1;32m    324\u001b[0m         \u001b[0;31m# Don't delay the application, to avoid keeping the input\u001b[0m\u001b[0;34m\u001b[0m\u001b[0;34m\u001b[0m\u001b[0m\n\u001b[1;32m    325\u001b[0m         \u001b[0;31m# arguments in memory\u001b[0m\u001b[0;34m\u001b[0m\u001b[0;34m\u001b[0m\u001b[0m\n\u001b[0;32m--> 326\u001b[0;31m         \u001b[0mself\u001b[0m\u001b[0;34m.\u001b[0m\u001b[0mresults\u001b[0m \u001b[0;34m=\u001b[0m \u001b[0mbatch\u001b[0m\u001b[0;34m(\u001b[0m\u001b[0;34m)\u001b[0m\u001b[0;34m\u001b[0m\u001b[0m\n\u001b[0m\u001b[1;32m    327\u001b[0m \u001b[0;34m\u001b[0m\u001b[0m\n\u001b[1;32m    328\u001b[0m     \u001b[0;32mdef\u001b[0m \u001b[0mget\u001b[0m\u001b[0;34m(\u001b[0m\u001b[0mself\u001b[0m\u001b[0;34m)\u001b[0m\u001b[0;34m:\u001b[0m\u001b[0;34m\u001b[0m\u001b[0m\n",
      "\u001b[0;32m/opt/conda/lib/python3.6/site-packages/sklearn/externals/joblib/parallel.py\u001b[0m in \u001b[0;36m__call__\u001b[0;34m(self)\u001b[0m\n\u001b[1;32m    129\u001b[0m \u001b[0;34m\u001b[0m\u001b[0m\n\u001b[1;32m    130\u001b[0m     \u001b[0;32mdef\u001b[0m \u001b[0m__call__\u001b[0m\u001b[0;34m(\u001b[0m\u001b[0mself\u001b[0m\u001b[0;34m)\u001b[0m\u001b[0;34m:\u001b[0m\u001b[0;34m\u001b[0m\u001b[0m\n\u001b[0;32m--> 131\u001b[0;31m         \u001b[0;32mreturn\u001b[0m \u001b[0;34m[\u001b[0m\u001b[0mfunc\u001b[0m\u001b[0;34m(\u001b[0m\u001b[0;34m*\u001b[0m\u001b[0margs\u001b[0m\u001b[0;34m,\u001b[0m \u001b[0;34m**\u001b[0m\u001b[0mkwargs\u001b[0m\u001b[0;34m)\u001b[0m \u001b[0;32mfor\u001b[0m \u001b[0mfunc\u001b[0m\u001b[0;34m,\u001b[0m \u001b[0margs\u001b[0m\u001b[0;34m,\u001b[0m \u001b[0mkwargs\u001b[0m \u001b[0;32min\u001b[0m \u001b[0mself\u001b[0m\u001b[0;34m.\u001b[0m\u001b[0mitems\u001b[0m\u001b[0;34m]\u001b[0m\u001b[0;34m\u001b[0m\u001b[0m\n\u001b[0m\u001b[1;32m    132\u001b[0m \u001b[0;34m\u001b[0m\u001b[0m\n\u001b[1;32m    133\u001b[0m     \u001b[0;32mdef\u001b[0m \u001b[0m__len__\u001b[0m\u001b[0;34m(\u001b[0m\u001b[0mself\u001b[0m\u001b[0;34m)\u001b[0m\u001b[0;34m:\u001b[0m\u001b[0;34m\u001b[0m\u001b[0m\n",
      "\u001b[0;32m/opt/conda/lib/python3.6/site-packages/sklearn/externals/joblib/parallel.py\u001b[0m in \u001b[0;36m<listcomp>\u001b[0;34m(.0)\u001b[0m\n\u001b[1;32m    129\u001b[0m \u001b[0;34m\u001b[0m\u001b[0m\n\u001b[1;32m    130\u001b[0m     \u001b[0;32mdef\u001b[0m \u001b[0m__call__\u001b[0m\u001b[0;34m(\u001b[0m\u001b[0mself\u001b[0m\u001b[0;34m)\u001b[0m\u001b[0;34m:\u001b[0m\u001b[0;34m\u001b[0m\u001b[0m\n\u001b[0;32m--> 131\u001b[0;31m         \u001b[0;32mreturn\u001b[0m \u001b[0;34m[\u001b[0m\u001b[0mfunc\u001b[0m\u001b[0;34m(\u001b[0m\u001b[0;34m*\u001b[0m\u001b[0margs\u001b[0m\u001b[0;34m,\u001b[0m \u001b[0;34m**\u001b[0m\u001b[0mkwargs\u001b[0m\u001b[0;34m)\u001b[0m \u001b[0;32mfor\u001b[0m \u001b[0mfunc\u001b[0m\u001b[0;34m,\u001b[0m \u001b[0margs\u001b[0m\u001b[0;34m,\u001b[0m \u001b[0mkwargs\u001b[0m \u001b[0;32min\u001b[0m \u001b[0mself\u001b[0m\u001b[0;34m.\u001b[0m\u001b[0mitems\u001b[0m\u001b[0;34m]\u001b[0m\u001b[0;34m\u001b[0m\u001b[0m\n\u001b[0m\u001b[1;32m    132\u001b[0m \u001b[0;34m\u001b[0m\u001b[0m\n\u001b[1;32m    133\u001b[0m     \u001b[0;32mdef\u001b[0m \u001b[0m__len__\u001b[0m\u001b[0;34m(\u001b[0m\u001b[0mself\u001b[0m\u001b[0;34m)\u001b[0m\u001b[0;34m:\u001b[0m\u001b[0;34m\u001b[0m\u001b[0m\n",
      "\u001b[0;32m/opt/conda/lib/python3.6/site-packages/sklearn/ensemble/forest.py\u001b[0m in \u001b[0;36m_parallel_build_trees\u001b[0;34m(tree, forest, X, y, sample_weight, tree_idx, n_trees, verbose, class_weight)\u001b[0m\n\u001b[1;32m    118\u001b[0m             \u001b[0mcurr_sample_weight\u001b[0m \u001b[0;34m*=\u001b[0m \u001b[0mcompute_sample_weight\u001b[0m\u001b[0;34m(\u001b[0m\u001b[0;34m'balanced'\u001b[0m\u001b[0;34m,\u001b[0m \u001b[0my\u001b[0m\u001b[0;34m,\u001b[0m \u001b[0mindices\u001b[0m\u001b[0;34m)\u001b[0m\u001b[0;34m\u001b[0m\u001b[0m\n\u001b[1;32m    119\u001b[0m \u001b[0;34m\u001b[0m\u001b[0m\n\u001b[0;32m--> 120\u001b[0;31m         \u001b[0mtree\u001b[0m\u001b[0;34m.\u001b[0m\u001b[0mfit\u001b[0m\u001b[0;34m(\u001b[0m\u001b[0mX\u001b[0m\u001b[0;34m,\u001b[0m \u001b[0my\u001b[0m\u001b[0;34m,\u001b[0m \u001b[0msample_weight\u001b[0m\u001b[0;34m=\u001b[0m\u001b[0mcurr_sample_weight\u001b[0m\u001b[0;34m,\u001b[0m \u001b[0mcheck_input\u001b[0m\u001b[0;34m=\u001b[0m\u001b[0;32mFalse\u001b[0m\u001b[0;34m)\u001b[0m\u001b[0;34m\u001b[0m\u001b[0m\n\u001b[0m\u001b[1;32m    121\u001b[0m     \u001b[0;32melse\u001b[0m\u001b[0;34m:\u001b[0m\u001b[0;34m\u001b[0m\u001b[0m\n\u001b[1;32m    122\u001b[0m         \u001b[0mtree\u001b[0m\u001b[0;34m.\u001b[0m\u001b[0mfit\u001b[0m\u001b[0;34m(\u001b[0m\u001b[0mX\u001b[0m\u001b[0;34m,\u001b[0m \u001b[0my\u001b[0m\u001b[0;34m,\u001b[0m \u001b[0msample_weight\u001b[0m\u001b[0;34m=\u001b[0m\u001b[0msample_weight\u001b[0m\u001b[0;34m,\u001b[0m \u001b[0mcheck_input\u001b[0m\u001b[0;34m=\u001b[0m\u001b[0;32mFalse\u001b[0m\u001b[0;34m)\u001b[0m\u001b[0;34m\u001b[0m\u001b[0m\n",
      "\u001b[0;32m/opt/conda/lib/python3.6/site-packages/sklearn/tree/tree.py\u001b[0m in \u001b[0;36mfit\u001b[0;34m(self, X, y, sample_weight, check_input, X_idx_sorted)\u001b[0m\n\u001b[1;32m    737\u001b[0m             \u001b[0msample_weight\u001b[0m\u001b[0;34m=\u001b[0m\u001b[0msample_weight\u001b[0m\u001b[0;34m,\u001b[0m\u001b[0;34m\u001b[0m\u001b[0m\n\u001b[1;32m    738\u001b[0m             \u001b[0mcheck_input\u001b[0m\u001b[0;34m=\u001b[0m\u001b[0mcheck_input\u001b[0m\u001b[0;34m,\u001b[0m\u001b[0;34m\u001b[0m\u001b[0m\n\u001b[0;32m--> 739\u001b[0;31m             X_idx_sorted=X_idx_sorted)\n\u001b[0m\u001b[1;32m    740\u001b[0m         \u001b[0;32mreturn\u001b[0m \u001b[0mself\u001b[0m\u001b[0;34m\u001b[0m\u001b[0m\n\u001b[1;32m    741\u001b[0m \u001b[0;34m\u001b[0m\u001b[0m\n",
      "\u001b[0;32m/opt/conda/lib/python3.6/site-packages/sklearn/tree/tree.py\u001b[0m in \u001b[0;36mfit\u001b[0;34m(self, X, y, sample_weight, check_input, X_idx_sorted)\u001b[0m\n\u001b[1;32m    348\u001b[0m                                            self.min_impurity_split)\n\u001b[1;32m    349\u001b[0m \u001b[0;34m\u001b[0m\u001b[0m\n\u001b[0;32m--> 350\u001b[0;31m         \u001b[0mbuilder\u001b[0m\u001b[0;34m.\u001b[0m\u001b[0mbuild\u001b[0m\u001b[0;34m(\u001b[0m\u001b[0mself\u001b[0m\u001b[0;34m.\u001b[0m\u001b[0mtree_\u001b[0m\u001b[0;34m,\u001b[0m \u001b[0mX\u001b[0m\u001b[0;34m,\u001b[0m \u001b[0my\u001b[0m\u001b[0;34m,\u001b[0m \u001b[0msample_weight\u001b[0m\u001b[0;34m,\u001b[0m \u001b[0mX_idx_sorted\u001b[0m\u001b[0;34m)\u001b[0m\u001b[0;34m\u001b[0m\u001b[0m\n\u001b[0m\u001b[1;32m    351\u001b[0m \u001b[0;34m\u001b[0m\u001b[0m\n\u001b[1;32m    352\u001b[0m         \u001b[0;32mif\u001b[0m \u001b[0mself\u001b[0m\u001b[0;34m.\u001b[0m\u001b[0mn_outputs_\u001b[0m \u001b[0;34m==\u001b[0m \u001b[0;36m1\u001b[0m\u001b[0;34m:\u001b[0m\u001b[0;34m\u001b[0m\u001b[0m\n",
      "\u001b[0;31mKeyboardInterrupt\u001b[0m: "
     ]
    }
   ],
   "source": [
    "%time rf.fit(X_train_dtm, y_train)"
   ]
  },
  {
   "cell_type": "code",
   "execution_count": null,
   "metadata": {
    "collapsed": true
   },
   "outputs": [],
   "source": [
    "y_pred_class_rf = rf.predict(X_test_dtm)"
   ]
  },
  {
   "cell_type": "code",
   "execution_count": null,
   "metadata": {
    "collapsed": true
   },
   "outputs": [],
   "source": [
    "metrics.accuracy_score(y_test, y_pred_class_rf)"
   ]
  }
 ],
 "metadata": {
  "kernelspec": {
   "display_name": "Python 3",
   "language": "python",
   "name": "python3"
  },
  "language_info": {
   "codemirror_mode": {
    "name": "ipython",
    "version": 3
   },
   "file_extension": ".py",
   "mimetype": "text/x-python",
   "name": "python",
   "nbconvert_exporter": "python",
   "pygments_lexer": "ipython3",
   "version": "3.6.2"
  }
 },
 "nbformat": 4,
 "nbformat_minor": 2
}
