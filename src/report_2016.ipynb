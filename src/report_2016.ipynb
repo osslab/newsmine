{
 "cells": [
  {
   "cell_type": "code",
   "execution_count": 163,
   "metadata": {
    "collapsed": false,
    "slideshow": {
     "slide_type": "slide"
    }
   },
   "outputs": [],
   "source": [
    "import rds_config\n",
    "from sqlalchemy import create_engine\n",
    "\n",
    "#rds settings\n",
    "db_host  = rds_config.db_host\n",
    "db_username = rds_config.db_username\n",
    "db_password = rds_config.db_password\n",
    "db_name = rds_config.db_name\n",
    "\n",
    "\n",
    "SQLALCHEMY_DATABASE_URI = 'mysql+pymysql://' + db_username + ':' + db_password + '@' + db_host + '/' + db_name + '?charset=utf8'\n",
    "\n",
    "engine = create_engine(SQLALCHEMY_DATABASE_URI)\n",
    "connection = engine.connect()"
   ]
  },
  {
   "cell_type": "code",
   "execution_count": 164,
   "metadata": {
    "collapsed": false,
    "slideshow": {
     "slide_type": "fragment"
    }
   },
   "outputs": [],
   "source": [
    "import pandas as pd\n",
    "sql = \"SELECT oid, aid, substring(date, 6,2) as month, substring(date, 9,2) as date, media, title, org_url, org_count+naver_count as total_count, section, ml_section FROM newscrawl WHERE section!='스포츠ㆍ연예' and ( org_count>0 or naver_count>0) \"\n",
    "df = pd.read_sql(sql, connection)\n",
    "#pd.read_csv(\"dcdata10.csv\")"
   ]
  },
  {
   "cell_type": "code",
   "execution_count": 165,
   "metadata": {
    "collapsed": false,
    "slideshow": {
     "slide_type": "fragment"
    }
   },
   "outputs": [
    {
     "data": {
      "text/plain": [
       "454360"
      ]
     },
     "execution_count": 165,
     "metadata": {},
     "output_type": "execute_result"
    }
   ],
   "source": [
    "len(df)"
   ]
  },
  {
   "cell_type": "code",
   "execution_count": 166,
   "metadata": {
    "collapsed": false,
    "slideshow": {
     "slide_type": "slide"
    }
   },
   "outputs": [],
   "source": [
    "df['title']=df['title'].str.replace(r'\\[[A-Za-z가-힣0-9 ]+\\]|\\([A-Za-z가-힣0-9 ]+\\)|\\<[A-Za-z가-힣0-9 ]+\\>','')\n",
    "df['title']=df['title'].str.strip()\n",
    "df['file_name']=pd.to_numeric(df[\"aid\"], downcast='integer')"
   ]
  },
  {
   "cell_type": "code",
   "execution_count": 167,
   "metadata": {
    "collapsed": false,
    "slideshow": {
     "slide_type": "fragment"
    }
   },
   "outputs": [],
   "source": [
    "df['thumbnail']=\"http://imgnews.naver.net/image/origin/\"+df[\"oid\"]+\"/2016/\"+df[\"month\"]+\"/\"+df[\"date\"]+\"/\"+df[\"file_name\"].apply(str)+\".jpg\""
   ]
  },
  {
   "cell_type": "code",
   "execution_count": 168,
   "metadata": {
    "collapsed": false,
    "slideshow": {
     "slide_type": "fragment"
    }
   },
   "outputs": [],
   "source": [
    "top100=df[['total_count', 'title', 'org_url', 'thumbnail']].sort_values('total_count', ascending=False).head(100)\n",
    "top100.to_csv('data/top100.tsv', sep=\"\\t\", index=False)"
   ]
  },
  {
   "cell_type": "code",
   "execution_count": 169,
   "metadata": {
    "collapsed": false,
    "slideshow": {
     "slide_type": "slide"
    }
   },
   "outputs": [
    {
     "name": "stdout",
     "output_type": "stream",
     "text": [
      "CPU times: user 34.6 s, sys: 76 ms, total: 34.7 s\n",
      "Wall time: 34.7 s\n"
     ]
    }
   ],
   "source": [
    "%%time\n",
    "from konlpy.tag import Mecab\n",
    "mecab = Mecab()\n",
    "\n",
    "def mecab_words(sentence):\n",
    "    word_list = mecab.nouns(sentence)\n",
    "    #return \" \".join(word_list)\n",
    "    return \" \".join(filter(lambda x: len(x.strip())>1, word_list))\n",
    "    #return filter(lambda x: len(x)>1, \" \".join(word_list))\n",
    "\n",
    "df['title_me_noun'] = df['title'].apply(mecab_words)"
   ]
  },
  {
   "cell_type": "code",
   "execution_count": 221,
   "metadata": {
    "collapsed": false
   },
   "outputs": [],
   "source": [
    "word_count=df[['ml_section', 'month', 'total_count', 'media', 'title_me_noun']]\n",
    "#word_count=word_count[word_count['month']=='11']"
   ]
  },
  {
   "cell_type": "code",
   "execution_count": 222,
   "metadata": {
    "collapsed": false
   },
   "outputs": [],
   "source": [
    "df_by_count = word_count.groupby(['total_count'])\n",
    "count_list = df_by_count['title_me_noun'].apply(list)"
   ]
  },
  {
   "cell_type": "code",
   "execution_count": 223,
   "metadata": {
    "collapsed": false
   },
   "outputs": [],
   "source": [
    "result_by_count = pd.Series()\n",
    "word_dict = dict()\n",
    "for weight, word_list in count_list.iteritems():\n",
    "#    result_by_count.set_value(weight, Counter(\" \".join(word_list).split(\" \")))\n",
    "    #print(\" \".join(word_list))\n",
    "    for corpus in word_list :\n",
    "        for word in corpus.split(\" \"):\n",
    "            word_dict[word] = word_dict.get(word, 0)+weight"
   ]
  },
  {
   "cell_type": "code",
   "execution_count": 224,
   "metadata": {
    "collapsed": false
   },
   "outputs": [
    {
     "name": "stdout",
     "output_type": "stream",
     "text": [
      "대통령:9250363\n",
      "최순실:4891858\n",
      "박근혜:3695649\n",
      "세월호:2300667\n",
      "한국:2202757\n",
      "경찰:1953772\n",
      "논란:1946919\n",
      "청와대:1880217\n",
      "탄핵:1815637\n",
      "검찰:1772960\n",
      "정부:1601732\n",
      "여성:1539458\n",
      "의원:1507701\n",
      "시간:1474976\n",
      "국민:1458910\n",
      "의혹:1442353\n",
      "사람:1408395\n",
      "수사:1394549\n",
      "촛불:1385455\n",
      "시민:1352681\n",
      "이유:1273842\n",
      "새누리:1264243\n",
      "공개:1236638\n",
      "우병우:1183370\n",
      "서울:1125650\n",
      "국회:1050701\n",
      "사드:1026643\n",
      "일본:1009027\n",
      "교수:1000710\n",
      "위안부:998166\n",
      "퇴진:993481\n",
      "집회:985423\n",
      "사망:984393\n",
      "학생:975998\n",
      "우리:972460\n",
      "정유라:872002\n",
      "국정:871374\n",
      "문재인:869890\n",
      "세계:862920\n",
      "조사:858360\n",
      "발언:853719\n",
      "이정현:828756\n",
      "사진:828267\n",
      "이재명:818269\n",
      "정치:814946\n",
      "시장:801090\n",
      "더민주:766015\n",
      "대표:765244\n",
      "소녀:762706\n",
      "시위:760296\n",
      "백남기:743979\n",
      "촛불집회:743685\n",
      "새누리당:732142\n",
      "중국:727891\n",
      "아이:715956\n",
      "박원순:713709\n",
      "교과서:706318\n",
      "청년:702863\n",
      "반대:701514\n",
      "기업:700347\n",
      "박정희:700158\n",
      "발견:687533\n",
      "가능:685810\n",
      "나라:669081\n",
      "부산:658620\n",
      "아들:653509\n",
      "한겨레:641136\n",
      "삼성:639863\n",
      "사건:628317\n",
      "요구:626582\n",
      "사과:626430\n",
      "미국:618710\n",
      "거부:614188\n",
      "사고:613717\n",
      "특검:606158\n",
      "병원:602361\n",
      "문제:602100\n",
      "엄마:593221\n",
      "노무현:588172\n",
      "성폭행:585155\n",
      "남성:582779\n",
      "학교:582744\n",
      "눈물:581871\n",
      "북한:573932\n",
      "트럼프:569329\n",
      "반기문:567845\n",
      "단체:562014\n",
      "역사:560352\n",
      "국가:552048\n",
      "지시:551477\n",
      "지진:550010\n",
      "대선:549880\n",
      "분노:546107\n",
      "운동:539209\n",
      "인사:533614\n",
      "기자:532129\n",
      "후보:530060\n",
      "총선:528096\n",
      "폭행:528003\n",
      "사퇴:526826\n"
     ]
    }
   ],
   "source": [
    "from collections import OrderedDict\n",
    "import itertools\n",
    "d_sorted_by_value = OrderedDict(sorted(word_dict.items(), key=lambda x: x[1], reverse=True))\n",
    "top100 = itertools.islice(d_sorted_by_value.items(), 0, 100)\n",
    "for k,v in top100:\n",
    "    print(\"%s:%d\"%(k,v))"
   ]
  },
  {
   "cell_type": "markdown",
   "metadata": {},
   "source": [
    "## 섹션별 또는 월별 단어 빈도 * 공유수"
   ]
  },
  {
   "cell_type": "code",
   "execution_count": 225,
   "metadata": {
    "collapsed": false
   },
   "outputs": [
    {
     "data": {
      "text/plain": [
       "(17675,)"
      ]
     },
     "execution_count": 225,
     "metadata": {},
     "output_type": "execute_result"
    }
   ],
   "source": [
    "df_by_month_count = word_count.groupby(['ml_section','total_count'])\n",
    "month_count_list = df_by_month_count['title_me_noun'].apply(list)\n",
    "month_count_list.shape"
   ]
  },
  {
   "cell_type": "code",
   "execution_count": 226,
   "metadata": {
    "collapsed": false
   },
   "outputs": [],
   "source": [
    "result_by_month = pd.Series()\n",
    "i_count = 0\n",
    "word_dict = dict()\n",
    "prior_month = '01'\n",
    "for (month, weight), word_list in month_count_list.iteritems():\n",
    "    if(prior_month!=month):\n",
    "        word_dict = dict()        \n",
    "    for corpus in word_list :\n",
    "        for word in corpus.split(\" \"):\n",
    "            word_dict[word] = word_dict.get(word, 0)+weight  \n",
    "            \n",
    "    result_by_month.set_value(month, word_dict)\n",
    "    prior_month=month\n",
    "            \n"
   ]
  },
  {
   "cell_type": "code",
   "execution_count": 227,
   "metadata": {
    "collapsed": false
   },
   "outputs": [
    {
     "name": "stdout",
     "output_type": "stream",
     "text": [
      "0 ['대통령', '한겨레', '한국', '박근혜', '최순실', '서울', '이유', '여성', '교과서', '정부', '국정', '사드', '사람', '세월호', '우리', '논란', '세계', '시민', '', '나라', '시장', '시간', '교사', '중국', '그림판', '국민', '역사', '학생', '위안부', '학교']\n",
      "1 ['대통령', '최순실', '박근혜', '탄핵', '새누리', '의원', '청와대', '국회', '문재인', '세월호', '더민주', '이정현', '우병우', '국민', '검찰', '정부', '새누리당', '논란', '정치', '시간', '의혹', '사드', '이재명', '대표', '김무성', '발언', '필리버스터', '안철수', '지지율', '촛불']\n",
      "2 ['한국', '기업', '삼성', '정부', '경제', '최순실', '삼성전자', '회장', '에어컨', '전기료', '세계', '시장', '직원', '은행', '판매', '국민연금', '시간', '논란', '위기', '국민', '요금', '배터리', '갤노트', '의혹', '확인', '카드', '최대', '중국', '이유', '투자']\n",
      "3 ['대통령', '최순실', '경찰', '박근혜', '세월호', '검찰', '수사', '논란', '시민', '촛불', '청와대', '여성', '의혹', '집회', '학생', '서울', '교수', '사람', '시간', '한국', '사망', '정유라', '정부', '백남기', '촛불집회', '국민', '공개', '퇴진', '우병우', '이유']\n",
      "4 ['한국', '논란', '사진', '영화', '블랙리스트', '이유', '세계', '사람', '박근혜', '예술', '등장', '대통령', '문화', '의정부', '우리', '무대', '귀향', '공개', '홍상수', '교수', '여자', '청와대', '조윤선', '올림픽', '작가', '위안부', '최순실', '이야기', '화제', '아이']\n",
      "5 ['한국', '여성', '트럼프', '일본', '대통령', '세계', '중국', '미국', '오바마', '위안부', '남성', '소녀', '박근혜', '아이', '사망', '분노', '논란', '반기문', '엄마', '사람', '사진', '발견', '테러', '아기', '소년', '살해', '등장', '경찰', '시위', '언론']\n",
      "6 ['한국', '사람', '정리', '정돈', '아이폰', '위험', '아이', '갤노트', '정부', '개발', '세계', '인공지능', '네이버', '애플', '돌파', '구글', '가능', '바나나', '이유', '당신', '시즌', '동물', '회수', '스마트폰', '로봇', '액츄얼리', '삼성', '인간', '아기', '기업']\n"
     ]
    }
   ],
   "source": [
    "for month, words in result_by_month.iteritems():\n",
    "    d = OrderedDict(sorted(words.items(), key=lambda x: x[1], reverse=True))\n",
    "    x = itertools.islice(d.items(), 0, 30)\n",
    "    print(month,[k for k,v in x]  )"
   ]
  },
  {
   "cell_type": "markdown",
   "metadata": {},
   "source": [
    "## 월별 단어 빈도"
   ]
  },
  {
   "cell_type": "code",
   "execution_count": 218,
   "metadata": {
    "collapsed": true,
    "slideshow": {
     "slide_type": "slide"
    }
   },
   "outputs": [],
   "source": [
    "df_by_month = df.groupby(['month'])\n",
    "df_by_media_month = df.groupby(['month', 'media'])"
   ]
  },
  {
   "cell_type": "code",
   "execution_count": 219,
   "metadata": {
    "collapsed": false,
    "slideshow": {
     "slide_type": "subslide"
    }
   },
   "outputs": [],
   "source": [
    "from collections import Counter\n",
    "\n",
    "by_me_month = df_by_month['title_me_noun'].apply(list)\n",
    "result_by_me_month = pd.Series()\n",
    "\n",
    "for month, words in by_me_month.iteritems():\n",
    "    result_by_me_month.set_value(month, Counter(\" \".join(words).split(\" \")))"
   ]
  },
  {
   "cell_type": "code",
   "execution_count": 220,
   "metadata": {
    "collapsed": false,
    "slideshow": {
     "slide_type": "slide"
    }
   },
   "outputs": [
    {
     "name": "stdout",
     "output_type": "stream",
     "text": [
      "01 [('한국', 1033), ('대통령', 892), ('중국', 786), ('서울', 665), ('위안부', 640), ('경제', 632), ('더민주', 612), ('정부', 606), ('시장', 576), ('북한', 560), ('세계', 548), ('논란', 527), ('안철수', 507), ('미국', 496), ('의원', 437), ('한파', 421), ('가능', 420), ('일본', 415), ('정치', 406), ('청년', 393), ('기업', 385), ('합의', 379), ('공항', 378), ('핵실험', 373), ('영입', 370), ('올해', 366), ('경찰', 363), ('사망', 363), ('대북', 358), ('제주', 351)]\n",
      "02 [('한국', 872), ('개성공단', 746), ('대통령', 723), ('중국', 666), ('사드', 655), ('정부', 642), ('미사일', 642), ('북한', 638), ('서울', 543), ('기업', 517), ('더민주', 508), ('시장', 502), ('세계', 472), ('가능', 466), ('제재', 458), ('경제', 441), ('발사', 440), ('필리버스터', 432), ('의원', 428), ('공천', 412), ('대북', 412), ('배치', 410), ('논란', 405), ('총선', 404), ('미국', 368), ('국민의당', 356), ('시간', 341), ('경찰', 336), ('국회', 331), ('공개', 326)]\n",
      "03 [('공천', 1335), ('더민주', 971), ('한국', 914), ('총선', 849), ('김종인', 816), ('후보', 755), ('대통령', 752), ('서울', 673), ('대표', 670), ('유승민', 589), ('국민의당', 553), ('김무성', 552), ('이세돌', 549), ('여성', 529), ('기업', 511), ('알파', 511), ('중국', 504), ('논란', 491), ('새누리', 476), ('비례', 447), ('정부', 446), ('야권', 442), ('세계', 438), ('정치', 418), ('시장', 416), ('안철수', 413), ('경제', 413), ('테러', 405), ('일본', 402), ('북한', 383)]\n",
      "04 [('총선', 1069), ('대통령', 1000), ('한국', 894), ('투표', 720), ('정부', 656), ('후보', 653), ('더민주', 650), ('서울', 592), ('기업', 547), ('국민의당', 529), ('선거', 527), ('논란', 506), ('새누리', 504), ('경제', 500), ('세월호', 496), ('대표', 461), ('중국', 435), ('구조', 414), ('세계', 414), ('지원', 412), ('지진', 409), ('김종인', 403), ('일본', 389), ('여성', 389), ('시장', 387), ('국회', 386), ('가능', 384), ('정치', 383), ('조선', 361), ('문재인', 357)]\n",
      "05 [('한국', 1030), ('대통령', 987), ('트럼프', 693), ('여성', 689), ('정부', 621), ('서울', 608), ('옥시', 556), ('기업', 542), ('국회', 539), ('논란', 509), ('중국', 488), ('세계', 482), ('시장', 432), ('반기문', 411), ('구조', 408), ('조선', 407), ('살인', 397), ('경제', 393), ('가능', 385), ('대회', 372), ('북한', 368), ('경찰', 363), ('살균제', 363), ('조사', 360), ('가습기', 355), ('대표', 351), ('조정', 345), ('검찰', 343), ('김정은', 336), ('구속', 333)]\n",
      "06 [('한국', 1038), ('시장', 724), ('공항', 723), ('정부', 704), ('브렉시트', 675), ('중국', 657), ('서울', 649), ('검찰', 626), ('세계', 612), ('논란', 573), ('경찰', 565), ('대통령', 560), ('기업', 550), ('여성', 548), ('수사', 543), ('조선', 532), ('의원', 522), ('국회', 512), ('사망', 481), ('의혹', 479), ('조사', 465), ('사고', 456), ('경제', 431), ('성폭행', 430), ('국민의당', 426), ('롯데', 413), ('영국', 396), ('시간', 395), ('우리', 379), ('추진', 370)]\n",
      "07 [('사드', 1900), ('한국', 1002), ('대통령', 955), ('경찰', 846), ('배치', 830), ('정부', 738), ('논란', 666), ('서울', 662), ('사망', 623), ('중국', 619), ('성주', 601), ('테러', 581), ('검찰', 533), ('의혹', 532), ('의원', 525), ('세계', 517), ('여성', 500), ('조사', 495), ('기업', 492), ('우병우', 487), ('시장', 481), ('시간', 455), ('수사', 455), ('결정', 451), ('가능', 444), ('포켓몬', 437), ('부산', 416), ('총리', 413), ('구속', 413), ('공개', 403)]\n",
      "08 [('사드', 1246), ('대통령', 1063), ('폭염', 992), ('한국', 928), ('서울', 729), ('정부', 725), ('중국', 715), ('논란', 581), ('더민주', 580), ('수사', 560), ('우병우', 545), ('경찰', 543), ('대표', 530), ('검찰', 494), ('기업', 491), ('의원', 487), ('여성', 475), ('사망', 467), ('가능', 455), ('세계', 444), ('최고', 442), ('청년', 423), ('일본', 410), ('조선', 395), ('의혹', 379), ('조사', 371), ('배치', 370), ('트럼프', 354), ('공개', 351), ('시장', 348)]\n",
      "09 [('지진', 1281), ('대통령', 848), ('한국', 736), ('정부', 578), ('규모', 544), ('추석', 525), ('서울', 502), ('경주', 466), ('중국', 465), ('세계', 451), ('사망', 444), ('사드', 440), ('가능', 427), ('북한', 415), ('기업', 401), ('경찰', 399), ('여성', 393), ('지원', 393), ('의혹', 375), ('논란', 372), ('한진', 371), ('안전', 366), ('김영란', 364), ('국회', 351), ('핵실험', 349), ('검찰', 340), ('해운', 333), ('시장', 331), ('대표', 327), ('피해', 321)]\n",
      "10 [('최순실', 2438), ('대통령', 1814), ('의혹', 798), ('한국', 785), ('논란', 656), ('검찰', 624), ('경찰', 587), ('중국', 541), ('정부', 539), ('서울', 526), ('수사', 516), ('박근혜', 491), ('사망', 474), ('트럼프', 456), ('백남기', 415), ('기업', 410), ('세계', 406), ('시장', 389), ('여성', 377), ('청와대', 364), ('조사', 364), ('국민', 362), ('태풍', 358), ('경제', 352), ('교수', 351), ('미르', 351), ('중단', 348), ('가능', 339), ('시간', 336), ('미국', 330)]\n",
      "11 [('대통령', 5490), ('최순실', 2839), ('트럼프', 1886), ('박근혜', 1836), ('탄핵', 1348), ('검찰', 1254), ('퇴진', 1179), ('촛불', 1018), ('청와대', 952), ('수사', 945), ('조사', 871), ('의혹', 844), ('한국', 811), ('국정', 694), ('총리', 676), ('집회', 640), ('국민', 633), ('촛불집회', 628), ('대선', 580), ('시민', 575), ('시간', 544), ('논란', 528), ('정보', 524), ('서울', 487), ('게이트', 465), ('정부', 462), ('경찰', 456), ('가능', 456), ('교과서', 451), ('특검', 450)]\n",
      "12 [('대통령', 2806), ('탄핵', 2629), ('최순실', 1954), ('특검', 1098), ('박근혜', 979), ('촛불', 897), ('한국', 761), ('세월호', 746), ('수사', 742), ('청문회', 688), ('내년', 688), ('트럼프', 663), ('의원', 655), ('의혹', 607), ('국회', 585), ('시간', 577), ('청와대', 569), ('퇴진', 567), ('국민', 548), ('헌재', 544), ('정부', 500), ('논란', 499), ('반기문', 480), ('공개', 480), ('대선', 475), ('새누리', 469), ('삼성', 463), ('우병우', 454), ('국정', 452), ('가능', 452)]\n"
     ]
    }
   ],
   "source": [
    "for month, words in result_by_me_month.iteritems():\n",
    "    print(month, words.most_common(30))"
   ]
  },
  {
   "cell_type": "code",
   "execution_count": 22,
   "metadata": {
    "collapsed": false
   },
   "outputs": [
    {
     "data": {
      "text/html": [
       "<div>\n",
       "<table border=\"1\" class=\"dataframe\">\n",
       "  <thead>\n",
       "    <tr>\n",
       "      <th></th>\n",
       "      <th></th>\n",
       "      <th colspan=\"2\" halign=\"left\">total_count</th>\n",
       "    </tr>\n",
       "    <tr>\n",
       "      <th></th>\n",
       "      <th></th>\n",
       "      <th>count</th>\n",
       "      <th>sum</th>\n",
       "    </tr>\n",
       "    <tr>\n",
       "      <th>ml_section</th>\n",
       "      <th>media</th>\n",
       "      <th></th>\n",
       "      <th></th>\n",
       "    </tr>\n",
       "  </thead>\n",
       "  <tbody>\n",
       "    <tr>\n",
       "      <th rowspan=\"15\" valign=\"top\">0</th>\n",
       "      <th>chosun</th>\n",
       "      <td>20061</td>\n",
       "      <td>1775041</td>\n",
       "    </tr>\n",
       "    <tr>\n",
       "      <th>donga</th>\n",
       "      <td>19648</td>\n",
       "      <td>885702</td>\n",
       "    </tr>\n",
       "    <tr>\n",
       "      <th>edaily</th>\n",
       "      <td>3216</td>\n",
       "      <td>121187</td>\n",
       "    </tr>\n",
       "    <tr>\n",
       "      <th>hani</th>\n",
       "      <td>4887</td>\n",
       "      <td>2030009</td>\n",
       "    </tr>\n",
       "    <tr>\n",
       "      <th>joins</th>\n",
       "      <td>6200</td>\n",
       "      <td>836716</td>\n",
       "    </tr>\n",
       "    <tr>\n",
       "      <th>jtbc</th>\n",
       "      <td>503</td>\n",
       "      <td>61297</td>\n",
       "    </tr>\n",
       "    <tr>\n",
       "      <th>kbs</th>\n",
       "      <td>1498</td>\n",
       "      <td>93530</td>\n",
       "    </tr>\n",
       "    <tr>\n",
       "      <th>kh</th>\n",
       "      <td>8799</td>\n",
       "      <td>1319687</td>\n",
       "    </tr>\n",
       "    <tr>\n",
       "      <th>mbc</th>\n",
       "      <td>3138</td>\n",
       "      <td>84109</td>\n",
       "    </tr>\n",
       "    <tr>\n",
       "      <th>mk</th>\n",
       "      <td>6234</td>\n",
       "      <td>288059</td>\n",
       "    </tr>\n",
       "    <tr>\n",
       "      <th>nocut</th>\n",
       "      <td>4896</td>\n",
       "      <td>272554</td>\n",
       "    </tr>\n",
       "    <tr>\n",
       "      <th>ohmynews</th>\n",
       "      <td>5600</td>\n",
       "      <td>1573652</td>\n",
       "    </tr>\n",
       "    <tr>\n",
       "      <th>sbs</th>\n",
       "      <td>3425</td>\n",
       "      <td>538344</td>\n",
       "    </tr>\n",
       "    <tr>\n",
       "      <th>yonhap</th>\n",
       "      <td>44774</td>\n",
       "      <td>3107181</td>\n",
       "    </tr>\n",
       "    <tr>\n",
       "      <th>ytn</th>\n",
       "      <td>3702</td>\n",
       "      <td>942635</td>\n",
       "    </tr>\n",
       "    <tr>\n",
       "      <th rowspan=\"15\" valign=\"top\">1</th>\n",
       "      <th>chosun</th>\n",
       "      <td>8204</td>\n",
       "      <td>1537788</td>\n",
       "    </tr>\n",
       "    <tr>\n",
       "      <th>donga</th>\n",
       "      <td>620</td>\n",
       "      <td>83773</td>\n",
       "    </tr>\n",
       "    <tr>\n",
       "      <th>edaily</th>\n",
       "      <td>3334</td>\n",
       "      <td>218287</td>\n",
       "    </tr>\n",
       "    <tr>\n",
       "      <th>hani</th>\n",
       "      <td>5160</td>\n",
       "      <td>4495729</td>\n",
       "    </tr>\n",
       "    <tr>\n",
       "      <th>joins</th>\n",
       "      <td>6773</td>\n",
       "      <td>3140421</td>\n",
       "    </tr>\n",
       "    <tr>\n",
       "      <th>jtbc</th>\n",
       "      <td>4406</td>\n",
       "      <td>2148632</td>\n",
       "    </tr>\n",
       "    <tr>\n",
       "      <th>kbs</th>\n",
       "      <td>4741</td>\n",
       "      <td>241284</td>\n",
       "    </tr>\n",
       "    <tr>\n",
       "      <th>kh</th>\n",
       "      <td>6304</td>\n",
       "      <td>3276232</td>\n",
       "    </tr>\n",
       "    <tr>\n",
       "      <th>mbc</th>\n",
       "      <td>1839</td>\n",
       "      <td>74180</td>\n",
       "    </tr>\n",
       "    <tr>\n",
       "      <th>mk</th>\n",
       "      <td>2946</td>\n",
       "      <td>193754</td>\n",
       "    </tr>\n",
       "    <tr>\n",
       "      <th>nocut</th>\n",
       "      <td>4174</td>\n",
       "      <td>633833</td>\n",
       "    </tr>\n",
       "    <tr>\n",
       "      <th>ohmynews</th>\n",
       "      <td>5629</td>\n",
       "      <td>5802872</td>\n",
       "    </tr>\n",
       "    <tr>\n",
       "      <th>sbs</th>\n",
       "      <td>8057</td>\n",
       "      <td>1278525</td>\n",
       "    </tr>\n",
       "    <tr>\n",
       "      <th>yonhap</th>\n",
       "      <td>15671</td>\n",
       "      <td>1800274</td>\n",
       "    </tr>\n",
       "    <tr>\n",
       "      <th>ytn</th>\n",
       "      <td>3323</td>\n",
       "      <td>406840</td>\n",
       "    </tr>\n",
       "    <tr>\n",
       "      <th>...</th>\n",
       "      <th>...</th>\n",
       "      <td>...</td>\n",
       "      <td>...</td>\n",
       "    </tr>\n",
       "    <tr>\n",
       "      <th rowspan=\"8\" valign=\"top\">4</th>\n",
       "      <th>kbs</th>\n",
       "      <td>1665</td>\n",
       "      <td>81617</td>\n",
       "    </tr>\n",
       "    <tr>\n",
       "      <th>kh</th>\n",
       "      <td>1494</td>\n",
       "      <td>281243</td>\n",
       "    </tr>\n",
       "    <tr>\n",
       "      <th>mk</th>\n",
       "      <td>1693</td>\n",
       "      <td>72439</td>\n",
       "    </tr>\n",
       "    <tr>\n",
       "      <th>nocut</th>\n",
       "      <td>1978</td>\n",
       "      <td>245889</td>\n",
       "    </tr>\n",
       "    <tr>\n",
       "      <th>ohmynews</th>\n",
       "      <td>563</td>\n",
       "      <td>116121</td>\n",
       "    </tr>\n",
       "    <tr>\n",
       "      <th>sbs</th>\n",
       "      <td>602</td>\n",
       "      <td>112647</td>\n",
       "    </tr>\n",
       "    <tr>\n",
       "      <th>yonhap</th>\n",
       "      <td>1761</td>\n",
       "      <td>131566</td>\n",
       "    </tr>\n",
       "    <tr>\n",
       "      <th>ytn</th>\n",
       "      <td>2489</td>\n",
       "      <td>689706</td>\n",
       "    </tr>\n",
       "    <tr>\n",
       "      <th rowspan=\"13\" valign=\"top\">5</th>\n",
       "      <th>chosun</th>\n",
       "      <td>5189</td>\n",
       "      <td>1678389</td>\n",
       "    </tr>\n",
       "    <tr>\n",
       "      <th>donga</th>\n",
       "      <td>93</td>\n",
       "      <td>4150</td>\n",
       "    </tr>\n",
       "    <tr>\n",
       "      <th>edaily</th>\n",
       "      <td>931</td>\n",
       "      <td>15893</td>\n",
       "    </tr>\n",
       "    <tr>\n",
       "      <th>hani</th>\n",
       "      <td>2248</td>\n",
       "      <td>600828</td>\n",
       "    </tr>\n",
       "    <tr>\n",
       "      <th>joins</th>\n",
       "      <td>3676</td>\n",
       "      <td>843361</td>\n",
       "    </tr>\n",
       "    <tr>\n",
       "      <th>jtbc</th>\n",
       "      <td>1342</td>\n",
       "      <td>208850</td>\n",
       "    </tr>\n",
       "    <tr>\n",
       "      <th>kbs</th>\n",
       "      <td>3190</td>\n",
       "      <td>103161</td>\n",
       "    </tr>\n",
       "    <tr>\n",
       "      <th>kh</th>\n",
       "      <td>2709</td>\n",
       "      <td>762311</td>\n",
       "    </tr>\n",
       "    <tr>\n",
       "      <th>mk</th>\n",
       "      <td>2657</td>\n",
       "      <td>98782</td>\n",
       "    </tr>\n",
       "    <tr>\n",
       "      <th>ohmynews</th>\n",
       "      <td>1512</td>\n",
       "      <td>780875</td>\n",
       "    </tr>\n",
       "    <tr>\n",
       "      <th>sbs</th>\n",
       "      <td>9382</td>\n",
       "      <td>1713128</td>\n",
       "    </tr>\n",
       "    <tr>\n",
       "      <th>yonhap</th>\n",
       "      <td>12190</td>\n",
       "      <td>595519</td>\n",
       "    </tr>\n",
       "    <tr>\n",
       "      <th>ytn</th>\n",
       "      <td>3650</td>\n",
       "      <td>1684294</td>\n",
       "    </tr>\n",
       "    <tr>\n",
       "      <th rowspan=\"9\" valign=\"top\">6</th>\n",
       "      <th>edaily</th>\n",
       "      <td>2035</td>\n",
       "      <td>82683</td>\n",
       "    </tr>\n",
       "    <tr>\n",
       "      <th>hani</th>\n",
       "      <td>316</td>\n",
       "      <td>84669</td>\n",
       "    </tr>\n",
       "    <tr>\n",
       "      <th>joins</th>\n",
       "      <td>255</td>\n",
       "      <td>42577</td>\n",
       "    </tr>\n",
       "    <tr>\n",
       "      <th>kbs</th>\n",
       "      <td>475</td>\n",
       "      <td>25725</td>\n",
       "    </tr>\n",
       "    <tr>\n",
       "      <th>kh</th>\n",
       "      <td>222</td>\n",
       "      <td>10488</td>\n",
       "    </tr>\n",
       "    <tr>\n",
       "      <th>mk</th>\n",
       "      <td>1664</td>\n",
       "      <td>82107</td>\n",
       "    </tr>\n",
       "    <tr>\n",
       "      <th>nocut</th>\n",
       "      <td>406</td>\n",
       "      <td>57162</td>\n",
       "    </tr>\n",
       "    <tr>\n",
       "      <th>yonhap</th>\n",
       "      <td>2012</td>\n",
       "      <td>100289</td>\n",
       "    </tr>\n",
       "    <tr>\n",
       "      <th>ytn</th>\n",
       "      <td>242</td>\n",
       "      <td>97989</td>\n",
       "    </tr>\n",
       "  </tbody>\n",
       "</table>\n",
       "<p>95 rows × 2 columns</p>\n",
       "</div>"
      ],
      "text/plain": [
       "                    total_count         \n",
       "                          count      sum\n",
       "ml_section media                        \n",
       "0          chosun         20061  1775041\n",
       "           donga          19648   885702\n",
       "           edaily          3216   121187\n",
       "           hani            4887  2030009\n",
       "           joins           6200   836716\n",
       "           jtbc             503    61297\n",
       "           kbs             1498    93530\n",
       "           kh              8799  1319687\n",
       "           mbc             3138    84109\n",
       "           mk              6234   288059\n",
       "           nocut           4896   272554\n",
       "           ohmynews        5600  1573652\n",
       "           sbs             3425   538344\n",
       "           yonhap         44774  3107181\n",
       "           ytn             3702   942635\n",
       "1          chosun          8204  1537788\n",
       "           donga            620    83773\n",
       "           edaily          3334   218287\n",
       "           hani            5160  4495729\n",
       "           joins           6773  3140421\n",
       "           jtbc            4406  2148632\n",
       "           kbs             4741   241284\n",
       "           kh              6304  3276232\n",
       "           mbc             1839    74180\n",
       "           mk              2946   193754\n",
       "           nocut           4174   633833\n",
       "           ohmynews        5629  5802872\n",
       "           sbs             8057  1278525\n",
       "           yonhap         15671  1800274\n",
       "           ytn             3323   406840\n",
       "...                         ...      ...\n",
       "4          kbs             1665    81617\n",
       "           kh              1494   281243\n",
       "           mk              1693    72439\n",
       "           nocut           1978   245889\n",
       "           ohmynews         563   116121\n",
       "           sbs              602   112647\n",
       "           yonhap          1761   131566\n",
       "           ytn             2489   689706\n",
       "5          chosun          5189  1678389\n",
       "           donga             93     4150\n",
       "           edaily           931    15893\n",
       "           hani            2248   600828\n",
       "           joins           3676   843361\n",
       "           jtbc            1342   208850\n",
       "           kbs             3190   103161\n",
       "           kh              2709   762311\n",
       "           mk              2657    98782\n",
       "           ohmynews        1512   780875\n",
       "           sbs             9382  1713128\n",
       "           yonhap         12190   595519\n",
       "           ytn             3650  1684294\n",
       "6          edaily          2035    82683\n",
       "           hani             316    84669\n",
       "           joins            255    42577\n",
       "           kbs              475    25725\n",
       "           kh               222    10488\n",
       "           mk              1664    82107\n",
       "           nocut            406    57162\n",
       "           yonhap          2012   100289\n",
       "           ytn              242    97989\n",
       "\n",
       "[95 rows x 2 columns]"
      ]
     },
     "execution_count": 22,
     "metadata": {},
     "output_type": "execute_result"
    }
   ],
   "source": [
    "df_section = df[['section', 'ml_section', 'media', 'total_count']]\n",
    "df_section[['media','ml_section','total_count']].groupby(['ml_section', 'media']).agg(['count','sum'])"
   ]
  },
  {
   "cell_type": "code",
   "execution_count": null,
   "metadata": {
    "collapsed": true
   },
   "outputs": [],
   "source": []
  }
 ],
 "metadata": {
  "kernelspec": {
   "display_name": "Python 3",
   "language": "python",
   "name": "python3"
  },
  "language_info": {
   "codemirror_mode": {
    "name": "ipython",
    "version": 3
   },
   "file_extension": ".py",
   "mimetype": "text/x-python",
   "name": "python",
   "nbconvert_exporter": "python",
   "pygments_lexer": "ipython3",
   "version": "3.5.2"
  }
 },
 "nbformat": 4,
 "nbformat_minor": 1
}
