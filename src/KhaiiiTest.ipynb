{
 "cells": [
  {
   "cell_type": "code",
   "execution_count": 17,
   "metadata": {},
   "outputs": [
    {
     "name": "stdout",
     "output_type": "stream",
     "text": [
      "손예진이\t손/NNG + 예진/NNP + 이/JKS\n",
      "사실로\t사실/NNG + 로/JKB\n",
      "들어나는\t들어나/VV + 는/ETM\n",
      "순간\t순간/NNG\n",
      "흠좀무.\t흠좀/NNG + 무/EF + ./SF\n",
      "이게\t이것/NP + 이/JKS\n",
      "영화냐\t영화/NNG + 이/VCP + 냐/EC\n",
      "ㅎㄷㄷ\tㅎ/NNG + ㄷㄷ/NNG\n",
      "내\t내/NNB\n",
      "눈이\t눈/NNG + 이/JKS\n",
      "아까움\t아깝/VA + ㅁ/ETN\n",
      "ㅠㅠ\tㅠㅠ/NNG\n",
      "니가\t니/NP + 가/JKS\n",
      "사람이냐\t사람/NNG + 이/VCP + 냐/EC\n",
      "ㅋㅋ\tㅋ/NNG + ㅋ/MAG\n"
     ]
    }
   ],
   "source": [
    "from khaiii import KhaiiiApi\n",
    "api = KhaiiiApi()\n",
    "for word in api.analyze('손예진이 사실로 들어나는 순간 흠좀무. 이게 영화냐 ㅎㄷㄷ 내 눈이 아까움 ㅠㅠ 니가 사람이냐 ㅋㅋ '):\n",
    "    print(word)"
   ]
  },
  {
   "cell_type": "code",
   "execution_count": 18,
   "metadata": {},
   "outputs": [
    {
     "name": "stdout",
     "output_type": "stream",
     "text": [
      "('손예진', 'NNP')\n",
      "('이', 'JKS')\n",
      "('사실', 'NNG')\n",
      "('로', 'JKB')\n",
      "('들', 'VV')\n",
      "('어', 'EC')\n",
      "('나', 'NP')\n",
      "('는', 'JX')\n",
      "('순간', 'NNG')\n",
      "('흠좀무', 'NNG')\n",
      "('.', 'SY')\n",
      "('ㅇㅇ', 'UNKNOWN')\n",
      "('이게', 'NP+JKS')\n",
      "('영화', 'NNG')\n",
      "('냐', 'VCP+EF')\n",
      "('ㅎ', 'XSA')\n",
      "('ㄷ', 'NNG')\n",
      "('ㄷ', 'NNG')\n",
      "('내', 'NNB')\n",
      "('눈', 'NNG')\n",
      "('이', 'JKS')\n",
      "('아까움', 'VA+ETN')\n",
      "('ㅠㅠ', 'UNKNOWN')\n",
      "('니', 'NP')\n",
      "('가', 'JKS')\n",
      "('사람', 'NNG')\n",
      "('이', 'VCP')\n",
      "('냐', 'EF')\n",
      "('ㅋㅋ', 'UNKNOWN')\n"
     ]
    }
   ],
   "source": [
    "from konlpy.tag import Mecab\n",
    "mecab = Mecab()\n",
    "for word in mecab.pos('손예진이 사실로 들어나는 순간 흠좀무. ㅇㅇ 이게 영화냐 ㅎㄷㄷ 내 눈이 아까움 ㅠㅠ 니가 사람이냐 ㅋㅋ'):\n",
    "    print(word)"
   ]
  },
  {
   "cell_type": "code",
   "execution_count": null,
   "metadata": {},
   "outputs": [],
   "source": []
  }
 ],
 "metadata": {
  "kernelspec": {
   "display_name": "Python 3",
   "language": "python",
   "name": "python3"
  },
  "language_info": {
   "codemirror_mode": {
    "name": "ipython",
    "version": 3
   },
   "file_extension": ".py",
   "mimetype": "text/x-python",
   "name": "python",
   "nbconvert_exporter": "python",
   "pygments_lexer": "ipython3",
   "version": "3.6.8"
  }
 },
 "nbformat": 4,
 "nbformat_minor": 2
}
