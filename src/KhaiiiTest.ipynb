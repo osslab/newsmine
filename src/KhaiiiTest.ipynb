{
 "cells": [
  {
   "cell_type": "code",
   "execution_count": 1,
   "metadata": {},
   "outputs": [
    {
     "name": "stdout",
     "output_type": "stream",
     "text": [
      "이날린드블럼은120개의투구수를기록했다\t이날린/NNG + 드/NNB + 블럼은/NNG + 120/SN + 개/NNB + 의투구수를기록/NNG + 하/XSV + 였/EP + 다/EC\n"
     ]
    }
   ],
   "source": [
    "from khaiii import KhaiiiApi\n",
    "api = KhaiiiApi()\n",
    "for word in api.analyze('이날린드블럼은120개의투구수를기록했다'):\n",
    "    print(word)"
   ]
  },
  {
   "cell_type": "code",
   "execution_count": 2,
   "metadata": {},
   "outputs": [
    {
     "name": "stdout",
     "output_type": "stream",
     "text": [
      "('이날', 'NNG')\n",
      "('린드', 'NNP')\n",
      "('블럼', 'NNP')\n",
      "('은', 'JX')\n",
      "('120', 'SN')\n",
      "('개', 'NNBC')\n",
      "('의', 'JKG')\n",
      "('투구', 'NNG')\n",
      "('수', 'NNG')\n",
      "('를', 'JKO')\n",
      "('기록', 'NNG')\n",
      "('했', 'XSV+EP')\n",
      "('다', 'EC')\n"
     ]
    }
   ],
   "source": [
    "from konlpy.tag import Mecab\n",
    "mecab = Mecab()\n",
    "for word in mecab.pos('이날린드블럼은120개의투구수를기록했다'):\n",
    "    print(word)"
   ]
  },
  {
   "cell_type": "code",
   "execution_count": null,
   "metadata": {},
   "outputs": [],
   "source": []
  }
 ],
 "metadata": {
  "kernelspec": {
   "display_name": "Python 3",
   "language": "python",
   "name": "python3"
  },
  "language_info": {
   "codemirror_mode": {
    "name": "ipython",
    "version": 3
   },
   "file_extension": ".py",
   "mimetype": "text/x-python",
   "name": "python",
   "nbconvert_exporter": "python",
   "pygments_lexer": "ipython3",
   "version": "3.6.8"
  }
 },
 "nbformat": 4,
 "nbformat_minor": 2
}
