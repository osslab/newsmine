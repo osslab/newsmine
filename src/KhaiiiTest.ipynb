{
 "cells": [
  {
   "cell_type": "code",
   "execution_count": 1,
   "metadata": {},
   "outputs": [
    {
     "name": "stdout",
     "output_type": "stream",
     "text": [
      "아버지가\t아버지/NNG + 가/JKS\n",
      "방에\t방/NNG + 에/JKB\n",
      "들어\t들/VV + 어/EC\n",
      "가신다.\t가/VX + 시/EP + ㄴ다/EF + ./SF\n"
     ]
    }
   ],
   "source": [
    "from khaiii import KhaiiiApi\n",
    "api = KhaiiiApi()\n",
    "for word in api.analyze('아버지가 방에 들어 가신다.'):\n",
    "    print(word)"
   ]
  },
  {
   "cell_type": "code",
   "execution_count": 2,
   "metadata": {},
   "outputs": [
    {
     "name": "stdout",
     "output_type": "stream",
     "text": [
      "('아버지', 'NNG')\n",
      "('가', 'JKS')\n",
      "('방', 'NNG')\n",
      "('에', 'JKB')\n",
      "('들어가', 'VV')\n",
      "('신다', 'EP+EF')\n",
      "('.', 'SF')\n"
     ]
    }
   ],
   "source": [
    "from konlpy.tag import Mecab\n",
    "mecab = Mecab()\n",
    "for word in mecab.pos('아버지가방에들어가신다.'):\n",
    "    print(word)"
   ]
  },
  {
   "cell_type": "code",
   "execution_count": null,
   "metadata": {},
   "outputs": [],
   "source": []
  }
 ],
 "metadata": {
  "kernelspec": {
   "display_name": "Python 3",
   "language": "python",
   "name": "python3"
  },
  "language_info": {
   "codemirror_mode": {
    "name": "ipython",
    "version": 3
   },
   "file_extension": ".py",
   "mimetype": "text/x-python",
   "name": "python",
   "nbconvert_exporter": "python",
   "pygments_lexer": "ipython3",
   "version": "3.6.8"
  }
 },
 "nbformat": 4,
 "nbformat_minor": 2
}
