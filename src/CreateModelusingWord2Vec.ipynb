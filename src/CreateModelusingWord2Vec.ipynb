{
 "cells": [
  {
   "cell_type": "code",
   "execution_count": 1,
   "metadata": {
    "collapsed": false
   },
   "outputs": [],
   "source": [
    "import rds_config\n",
    "from sqlalchemy import create_engine\n",
    "\n",
    "#rds settings\n",
    "db_host  = rds_config.db_host\n",
    "db_username = rds_config.db_username\n",
    "db_password = rds_config.db_password\n",
    "db_name = rds_config.db_name\n",
    "\n",
    "#한글 깨짐 현상 해결\n",
    "#http://yongho1037.tistory.com/570\n",
    "SQLALCHEMY_DATABASE_URI = 'mysql+pymysql://' + db_username + ':' + db_password + '@' + db_host + '/' + db_name + '?charset=utf8'\n",
    "\n",
    "engine = create_engine(SQLALCHEMY_DATABASE_URI)\n",
    "connection = engine.connect()"
   ]
  },
  {
   "cell_type": "code",
   "execution_count": 2,
   "metadata": {
    "collapsed": false
   },
   "outputs": [],
   "source": [
    "import pandas as pd\n",
    "sql = \"SELECT media, author, title, content, ml_section FROM newscrawl WHERE media='jtbc' and trim(content) != '' and ml_section > 0\"\n",
    "df = pd.read_sql(sql, connection)\n",
    "#pd.read_csv(\"dcdata10.csv\")"
   ]
  },
  {
   "cell_type": "code",
   "execution_count": 3,
   "metadata": {
    "collapsed": false
   },
   "outputs": [
    {
     "data": {
      "text/plain": [
       "20869"
      ]
     },
     "execution_count": 3,
     "metadata": {},
     "output_type": "execute_result"
    }
   ],
   "source": [
    "len(df)"
   ]
  },
  {
   "cell_type": "code",
   "execution_count": 4,
   "metadata": {
    "collapsed": false
   },
   "outputs": [],
   "source": [
    "df['content']=df['content'].str.replace(r'\\t|\\n|\\/\\/[a-zA-Z가-힣 \\n]+|{}|_flash_removeCallback\\(\\)|[a-zA-Z0-9]+@yonhapnews.co.kr','')"
   ]
  },
  {
   "cell_type": "code",
   "execution_count": 5,
   "metadata": {
    "collapsed": false
   },
   "outputs": [
    {
     "data": {
      "text/plain": [
       "20869"
      ]
     },
     "execution_count": 5,
     "metadata": {},
     "output_type": "execute_result"
    }
   ],
   "source": [
    "docs_ko=df['content'].str.split('.')\n",
    "len(docs_ko)"
   ]
  },
  {
   "cell_type": "code",
   "execution_count": 6,
   "metadata": {
    "collapsed": false
   },
   "outputs": [],
   "source": [
    "%%time\n",
    "from konlpy.tag import Mecab; m = Mecab()\n",
    "pos = lambda d: ['/'.join(p) for p in m.pos(d)]\n",
    "\n",
    "#[item for sublist in l for item in sublist]  \n",
    "sentences=[pos(sentence) for doc in docs_ko for sentence in doc]    \n",
    "#sentences = \n",
    "#    texts_ko.append([pos(sentence) for sentence in doc ])\n",
    "#len(texts_ko)\n",
    "#from konlpy.tag import Twitter; t = Twitter()\n",
    "#pos = lambda d: ['/'.join(p) for p in t.pos(d)]\n",
    "#texts_ko = [pos(doc) for doc in docs_ko]"
   ]
  },
  {
   "cell_type": "code",
   "execution_count": 7,
   "metadata": {
    "collapsed": false
   },
   "outputs": [
    {
     "name": "stderr",
     "output_type": "stream",
     "text": [
      "/opt/conda/lib/python3.5/site-packages/gensim/utils.py:1015: UserWarning: Pattern library is not installed, lemmatization won't be available.\n",
      "  warnings.warn(\"Pattern library is not installed, lemmatization won't be available.\")\n"
     ]
    },
    {
     "name": "stdout",
     "output_type": "stream",
     "text": [
      "CPU times: user 36.9 s, sys: 176 ms, total: 37.1 s\n",
      "Wall time: 37.2 s\n"
     ]
    }
   ],
   "source": [
    "%%time\n",
    "from gensim import corpora\n",
    "dictionary_ko = corpora.Dictionary(sentences)\n",
    "dictionary_ko.save('dict/jtbc_sen_ko.dict') "
   ]
  },
  {
   "cell_type": "code",
   "execution_count": 270,
   "metadata": {
    "collapsed": false
   },
   "outputs": [
    {
     "data": {
      "text/plain": [
       "'프리미엄/NNG'"
      ]
     },
     "execution_count": 270,
     "metadata": {},
     "output_type": "execute_result"
    }
   ],
   "source": [
    "dictionary_ko[2909]"
   ]
  },
  {
   "cell_type": "code",
   "execution_count": 8,
   "metadata": {
    "collapsed": false
   },
   "outputs": [
    {
     "name": "stdout",
     "output_type": "stream",
     "text": [
      "CPU times: user 9min 1s, sys: 656 ms, total: 9min 1s\n",
      "Wall time: 9min 1s\n"
     ]
    }
   ],
   "source": [
    "%%time\n",
    "from gensim.models import word2vec\n",
    "wv_model_ko = word2vec.Word2Vec(sentences, workers=1, size=300, min_count=10)\n",
    "wv_model_ko.init_sims(replace=True)\n",
    "wv_model_ko.save('dict/jtbc_sen_word2vec.model')"
   ]
  },
  {
   "cell_type": "code",
   "execution_count": 277,
   "metadata": {
    "collapsed": false
   },
   "outputs": [
    {
     "data": {
      "text/plain": [
       "[('기득/NNG', 0.6870841979980469),\n",
       " ('퍼블리시티/NNG', 0.6361569166183472),\n",
       " ('범야/NNG', 0.612083911895752),\n",
       " ('전작/NNG', 0.6095831394195557),\n",
       " ('저작/NNG', 0.6072759628295898),\n",
       " ('충청/NNP', 0.5973634719848633),\n",
       " ('중화/NNG', 0.5893766283988953),\n",
       " ('심재/NNG', 0.5718307495117188),\n",
       " ('진보/NNG', 0.5626833438873291),\n",
       " ('영주/NNG', 0.5533193349838257)]"
      ]
     },
     "execution_count": 277,
     "metadata": {},
     "output_type": "execute_result"
    }
   ],
   "source": [
    "wv_model_ko.most_similar(pos('정치'))"
   ]
  },
  {
   "cell_type": "code",
   "execution_count": null,
   "metadata": {
    "collapsed": true
   },
   "outputs": [],
   "source": []
  }
 ],
 "metadata": {
  "kernelspec": {
   "display_name": "Python 3",
   "language": "python",
   "name": "python3"
  },
  "language_info": {
   "codemirror_mode": {
    "name": "ipython",
    "version": 3
   },
   "file_extension": ".py",
   "mimetype": "text/x-python",
   "name": "python",
   "nbconvert_exporter": "python",
   "pygments_lexer": "ipython3",
   "version": "3.5.2"
  }
 },
 "nbformat": 4,
 "nbformat_minor": 1
}
