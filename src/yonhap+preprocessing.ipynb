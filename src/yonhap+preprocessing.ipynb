{
 "cells": [
  {
   "cell_type": "code",
   "execution_count": 1,
   "metadata": {
    "collapsed": true
   },
   "outputs": [],
   "source": [
    "import glob\n",
    "\n",
    "files = glob.glob('./newsdata/*/*/yonhapall.json')"
   ]
  },
  {
   "cell_type": "code",
   "execution_count": 2,
   "metadata": {
    "collapsed": true
   },
   "outputs": [],
   "source": [
    "import json\n",
    "def read_json_file(path_to_file):\n",
    "    with open(path_to_file) as p:\n",
    "        rows=[json.loads(line) for line in p]\n",
    "    return rows"
   ]
  },
  {
   "cell_type": "code",
   "execution_count": 3,
   "metadata": {
    "collapsed": true
   },
   "outputs": [],
   "source": [
    "import pandas as pd\n",
    "\n",
    "data=[]\n",
    "for path in files:\n",
    "    data.extend(read_json_file(path))\n",
    "\n",
    "df = pd.DataFrame(data)"
   ]
  },
  {
   "cell_type": "code",
   "execution_count": 4,
   "metadata": {},
   "outputs": [
    {
     "data": {
      "text/plain": [
       "1100430"
      ]
     },
     "execution_count": 4,
     "metadata": {},
     "output_type": "execute_result"
    }
   ],
   "source": [
    "len(df)"
   ]
  },
  {
   "cell_type": "code",
   "execution_count": 5,
   "metadata": {},
   "outputs": [],
   "source": [
    "df=df.dropna(subset=['section'])\n",
    "df=df[df['section']!='']\n",
    "df=df.reset_index(drop=True)"
   ]
  },
  {
   "cell_type": "code",
   "execution_count": 6,
   "metadata": {},
   "outputs": [
    {
     "data": {
      "text/plain": [
       "983887"
      ]
     },
     "execution_count": 6,
     "metadata": {},
     "output_type": "execute_result"
    }
   ],
   "source": [
    "len(df)"
   ]
  },
  {
   "cell_type": "code",
   "execution_count": 7,
   "metadata": {},
   "outputs": [
    {
     "data": {
      "text/html": [
       "<div>\n",
       "<table border=\"1\" class=\"dataframe\">\n",
       "  <thead>\n",
       "    <tr style=\"text-align: right;\">\n",
       "      <th></th>\n",
       "      <th>article</th>\n",
       "      <th>author</th>\n",
       "      <th>date</th>\n",
       "      <th>naver_url</th>\n",
       "      <th>org_url</th>\n",
       "      <th>section</th>\n",
       "      <th>title</th>\n",
       "    </tr>\n",
       "  </thead>\n",
       "  <tbody>\n",
       "    <tr>\n",
       "      <th>0</th>\n",
       "      <td>\\n\\n\\n\\n\\n    (서울=연합뉴스) 임헌정 기자 = 7일 서울 목동야구장에서...</td>\n",
       "      <td>NaN</td>\n",
       "      <td>20141107220335</td>\n",
       "      <td>http://sports.news.naver.com/kbaseball/news/re...</td>\n",
       "      <td>NaN</td>\n",
       "      <td>스포츠</td>\n",
       "      <td>역점 2점홈런 날리는 박한이</td>\n",
       "    </tr>\n",
       "    <tr>\n",
       "      <th>1</th>\n",
       "      <td>\\n\\n\\n\\n\\n    (서울=연합뉴스) 임헌정 기자 = 7일 서울 목동야구장에서...</td>\n",
       "      <td>NaN</td>\n",
       "      <td>20141107220450</td>\n",
       "      <td>http://sports.news.naver.com/kbaseball/news/re...</td>\n",
       "      <td>NaN</td>\n",
       "      <td>스포츠</td>\n",
       "      <td>역점 2점홈런 날리는 박한이</td>\n",
       "    </tr>\n",
       "    <tr>\n",
       "      <th>2</th>\n",
       "      <td>\\n\\n\\n\\n\\n    (서울=연합뉴스) 임헌정 기자 = 7일 서울 목동야구장에서...</td>\n",
       "      <td>NaN</td>\n",
       "      <td>20141107220417</td>\n",
       "      <td>http://sports.news.naver.com/kbaseball/news/re...</td>\n",
       "      <td>NaN</td>\n",
       "      <td>스포츠</td>\n",
       "      <td>역점 2점홈런 날리는 박한이</td>\n",
       "    </tr>\n",
       "    <tr>\n",
       "      <th>3</th>\n",
       "      <td>\\n\\n\\n\\n\\n    (서울=연합뉴스) 김도훈 기자 = 7일 서울 목동야구장에서...</td>\n",
       "      <td>NaN</td>\n",
       "      <td>20141107220436</td>\n",
       "      <td>http://sports.news.naver.com/kbaseball/news/re...</td>\n",
       "      <td>NaN</td>\n",
       "      <td>스포츠</td>\n",
       "      <td>역전의 사나이 박한이</td>\n",
       "    </tr>\n",
       "    <tr>\n",
       "      <th>4</th>\n",
       "      <td>\\n\\n\\n\\n\\n    (서울=연합뉴스) 이정훈 기자 = 7일 서울 목동야구장에서...</td>\n",
       "      <td>NaN</td>\n",
       "      <td>20141107220342</td>\n",
       "      <td>http://sports.news.naver.com/kbaseball/news/re...</td>\n",
       "      <td>NaN</td>\n",
       "      <td>스포츠</td>\n",
       "      <td>환호하는 박한이</td>\n",
       "    </tr>\n",
       "  </tbody>\n",
       "</table>\n",
       "</div>"
      ],
      "text/plain": [
       "                                             article author            date  \\\n",
       "0  \\n\\n\\n\\n\\n    (서울=연합뉴스) 임헌정 기자 = 7일 서울 목동야구장에서...    NaN  20141107220335   \n",
       "1  \\n\\n\\n\\n\\n    (서울=연합뉴스) 임헌정 기자 = 7일 서울 목동야구장에서...    NaN  20141107220450   \n",
       "2  \\n\\n\\n\\n\\n    (서울=연합뉴스) 임헌정 기자 = 7일 서울 목동야구장에서...    NaN  20141107220417   \n",
       "3  \\n\\n\\n\\n\\n    (서울=연합뉴스) 김도훈 기자 = 7일 서울 목동야구장에서...    NaN  20141107220436   \n",
       "4  \\n\\n\\n\\n\\n    (서울=연합뉴스) 이정훈 기자 = 7일 서울 목동야구장에서...    NaN  20141107220342   \n",
       "\n",
       "                                           naver_url org_url section  \\\n",
       "0  http://sports.news.naver.com/kbaseball/news/re...     NaN     스포츠   \n",
       "1  http://sports.news.naver.com/kbaseball/news/re...     NaN     스포츠   \n",
       "2  http://sports.news.naver.com/kbaseball/news/re...     NaN     스포츠   \n",
       "3  http://sports.news.naver.com/kbaseball/news/re...     NaN     스포츠   \n",
       "4  http://sports.news.naver.com/kbaseball/news/re...     NaN     스포츠   \n",
       "\n",
       "             title  \n",
       "0  역점 2점홈런 날리는 박한이  \n",
       "1  역점 2점홈런 날리는 박한이  \n",
       "2  역점 2점홈런 날리는 박한이  \n",
       "3      역전의 사나이 박한이  \n",
       "4         환호하는 박한이  "
      ]
     },
     "execution_count": 7,
     "metadata": {},
     "output_type": "execute_result"
    }
   ],
   "source": [
    "df.head(5)"
   ]
  },
  {
   "cell_type": "code",
   "execution_count": 8,
   "metadata": {},
   "outputs": [],
   "source": [
    "df.drop(['author','naver_url','org_url'], axis = 1, inplace = True)"
   ]
  },
  {
   "cell_type": "code",
   "execution_count": 9,
   "metadata": {},
   "outputs": [
    {
     "data": {
      "text/plain": [
       "'          [편집자 주] 본고는 자료 제공사에서 제공한 것으로, 연합뉴스는 내용에 대해 어떠한 편집도 하지 않았음을 밝혀 드립니다.      (싱가포르 2015년 9월 7일 PRNewswire=연합뉴스) 호화로운 스타일과 풍부한 디자인은 1920년대 전 세계적으로 붐을 이루었던 아르데코 운동의 핵심이다. John Walker의 손자인 Alexander Walker가 대영제국 기사작위(Knight Commander of the Order)를 받은 것이 바로 1920년대다. 그 시대와 동일시되는 풍부한 색과 대담한 형태는 고급 블렌드 스카치 위스키 JOHN WALKER & SONS XR™ 21년산의 환상적인 새 디자인에 영감을 제공한 상징적인 스타일과 세련미라는 비전을 상기시킨다.       (사진: http://photos.prnewswire.com/prnh/20150903/263616 )      (사진: http://photos.prnewswire.com/prnh/20150903/263617 )      (사진: http://photos.prnewswire.com/prnh/20150903/263628 )      JOHN WALKER & SONS XR 21년산이 정교하고 반짝이는 황금색 상자에 담겨 판매된다. 이 상자는 Alexander Walker의 기사작위를 연상시키는 십자가가 조각됐다.      개별 번호가 들어간 우아한 1리터짜리 JOHN WALKER & SONS XR 21년산 디캔터는 아르데코 시대의 웅장한 디자인을 상기시킨다. 이제 전 세계 여행 소매 아웃렛에서 안목 있는 소비자들이 이 제품을 구입할 수 있게 됐다.       Alexander Walker는 위스키 제조 기술과 기업 전문지식으로 유명했다. 1920년 JOHNNIE WALKER(R) 위스키는 스코틀랜드에서 전 세계로 전파됐다. JOHN WALKER & SONS XR 21년산은 부드럽고 깊은맛이 두드러지는 우수한 블렌드로서, 그의 기사 작위 수여를 기념하고자 만들어졌다. 아주 진귀한 JOHNNIE WALKER 비축분 중 숙성 기간이 최소 21년인 위스키들로 만들어졌는데, 그중에는 더 이상 존재하지 않는 증류주 양조장에서 만든 위스키도 있다.       JOHNNIE WALKER 마스터 블렌더 Jim Beveridge는 “JOHN WALKER & SONS XR 21년산은 오래된 참나무통에서 숙성된 아주 진귀한 위스키들로 만든다”라며 “다양한 층을 이루고 풍부한 이 블렌드는 미묘한 바닐라와 골든 허니 향을 내며, 피니시가 아주 부드럽다. 텀블러에 얼음을 넣지 않고 마신 다음 냉수를 들이켜면 그 맛을 제대로 음미할 수 있다”고 말했다.      Diageo Global Travel and Middle East 상무이사 Peter Fairbrother는 “여행자들을 위해 독점적으로 1리터짜리 JOHN WALKER & SONS XR 21년산을 판매하게 돼 기쁘게 생각한다”라며 “이 제품은 다른 곳에서는 구입할 수 있는 것으로서, 아주 고급스러운 위스키 애호가들을 위한 궁극적인 선물이자 완벽한 여행 기념품”이라고 말했다.       1리터짜리 JOHN WALKER & SONS XR 21년산은 여행 소매(RRSP $178)에서만 판매되고, 75cl 버전은 여행 소매 및 국내($138USD)에서 판매된다. 현재 1리터짜리 버전은 창이 공항과 홍콩 공항에서 판매하고 있다. 두 버전 모두 전 세계적으로 판매 중이다.       Diageo 소개      Diageo는 증류주, 맥주 및 와인 부문에 걸쳐 여러 브랜드로 구성된 뛰어난 컬렉션을 보유한 세계 최고의 주류업체다. Diageo는 Johnnie Walker, Crown Royal, J&B, Buchanan\\'s 및 Windsor whiskies, Smirnoff, Ciroc and Ketel One vodkas, Captain Morgan, Baileys, Don Julio, Tanqueray 및 Guinness와 같은 브랜드를 보유하고 있다.      세계적인 기업 Diageo는 전 세계 180개가 넘는 국가에서 제품을 판매하고 있다. Diageo는 런던증권거래소(DGE)와 뉴욕증권거래소(DEO)에 상장돼 있다. Diageo 기업, 직원, 브랜드 및 실적에 관한 추가 정보는 웹사이트 http://www.diageo.com을 참조한다. 최고 관행을 공유하기 위한 정보, 프로젝트 및 방법에 관한 정보는 Diageo의 책임감 있는 음주 국제 사이트 http://www.DRINKiQ.com을 참조한다.      Celebrating life, every day, everywhere.      JOHN WALKER & SONS XR 표현, Striding Figure 장치 및 관련 로고는 상표다. (c) John Walker & Sons 2015.       출처: Diageo GTME      Art Deco-inspired JOHN WALKER & SONS XR™ 21 Year Old Rekindles the Grandeur of the Roaring Twenties      SINGAPORE, September 7, 2015/PRNewswire-FirstCall/ -- Sumptuous style and lavish design were at the core of the Art Deco movement that flourished around the world in the 1920s. It was during that period that Sir Alexander Walker - grandson of John Walker - was appointed as a Knight Commander of the Order of the British Empire. The rich colours and bold forms synonymous with that time conjure up a vision of an iconic style and sophistication that has inspired the stunning new design of the luxury blended Scotch Whisky JOHN WALKER & SONS XR™ 21 Year Old.      (Photo: http://photos.prnewswire.com/prnh/20150903/263616 )      (Photo: http://photos.prnewswire.com/prnh/20150903/263617 )      (Photo: http://photos.prnewswire.com/prnh/20150903/263628 )      JOHN WALKER & SONS XR 21 Year Old is now presented in a new, exquisite, polished gold box emblazoned with a sculpted cross that echoes Sir Alexander Walker\\'s Knighthood.      The elegant, individually-numbered 1 litre JOHN WALKER & SONS XR 21 Year Old decanters, evocative of the grand designs of the Art Deco era, are available to discerning consumers in Travel Retail outlets around the globe.      Sir Alexander Walker was renowned for his whisky-making craft and entrepreneurial expertise which, by 1920, had seen JOHNNIE WALKER(R) whiskies travel from the four corners of Scotland to the four corners of the world. JOHN WALKER & SONS XR 21 Year Old is a superior blend of exceptional smoothness and depth that was created to commemorate his Knighthood. It contains whiskies that are aged for a minimum of 21 years and drawn from extremely rare JOHNNIE WALKER reserves - including some from distilleries no longer in existence.      Jim Beveridge, JOHNNIE WALKER Master Blender, said: \"JOHN WALKER & SONS XR 21 Year Old is crafted using extra rare whiskies from aged oak casks. This rich and multi-layered blend is imbued with subtle vanilla and golden honey notes and has an incredibly smooth finish. It is best enjoyed neat in a tumbler, accompanied by chilled water.\"      Peter Fairbrother, Marketing Director of Diageo Global Travel and Middle East, said: \"We are delighted to offer this 1 litre bottling of JOHN WALKER & SONS XR 21 Year Old exclusively to travelers. It is the ultimate gift for super deluxe whisky drinkers in a format they cannot buy anywhere else - a perfect souvenir from their travels.\"      The 1 litre bottle of JOHN WALKER & SONS XR 21 Year Old is available exclusively in travel retail (RRSP $178) and the 75 cl version is available in travel retail and domestically ($138USD). The 1 litre version is now available in Changi and Hong Kong airports, and both versions are also available now around the world.      ABOUT DIAGEO       Diageo is a global leader in beverage alcohol with an outstanding collection of brands across spirits, beer and wine categories. These brands include Johnnie Walker, Crown Royal, J&B, Buchanan\\'s and Windsor whiskies, Smirnoff, Ciroc and Ketel One vodkas, Captain Morgan, Baileys, Don Julio, Tanqueray and Guinness.      Diageo is a global company, and our products are sold in more than 180 countries around the world. The company is listed on both the London Stock Exchange (DGE) and the New York Stock Exchange (DEO).  For more information about Diageo, our people, our brands, and performance, visit us at http://www.diageo.com. Visit Diageo\\'s global responsible drinking resource, http://www.DRINKiQ.com, for information, initiatives, and ways to share best practice.      Celebrating life, every day, everywhere.      The JOHN WALKER & SONS XR words, the Striding Figure device and associated logos are trade marks. (c) John Walker & Sons 2015.       Source: Diageo GTME  \\n▶ [현장영상] \\'아일란이 바꾼 세상\\'…독일서 난민 환영물결  \\n▶ [오늘의 핫 화보] 미녀 선수들의 뜨거운 비치발리볼 경기  <저작권자(c) 연합뉴스, 무단 전재-재배포 금지>    '"
      ]
     },
     "execution_count": 9,
     "metadata": {},
     "output_type": "execute_result"
    }
   ],
   "source": [
    "article=df['article'][309121].replace('\\t', '').replace('\\n', ' ').replace('▶','\\n▶')#.split('\\n')\n",
    "article"
   ]
  },
  {
   "cell_type": "code",
   "execution_count": 10,
   "metadata": {},
   "outputs": [
    {
     "data": {
      "text/plain": [
       "'          [편집자 주] 본고는 자료 제공사에서 제공한 것으로, 연합뉴스는 내용에 대해 어떠한 편집도 하지 않았음을 밝혀 드립니다.      (싱가포르 2015년 9월 7일 PRNewswire=연합뉴스) 호화로운 스타일과 풍부한 디자인은 1920년대 전 세계적으로 붐을 이루었던 아르데코 운동의 핵심이다. John Walker의 손자인 Alexander Walker가 대영제국 기사작위(Knight Commander of the Order)를 받은 것이 바로 1920년대다. 그 시대와 동일시되는 풍부한 색과 대담한 형태는 고급 블렌드 스카치 위스키 JOHN WALKER & SONS XR™ 21년산의 환상적인 새 디자인에 영감을 제공한 상징적인 스타일과 세련미라는 비전을 상기시킨다.       (사진: http://photos.prnewswire.com/prnh/20150903/263616 )      (사진: http://photos.prnewswire.com/prnh/20150903/263617 )      (사진: http://photos.prnewswire.com/prnh/20150903/263628 )      JOHN WALKER & SONS XR 21년산이 정교하고 반짝이는 황금색 상자에 담겨 판매된다. 이 상자는 Alexander Walker의 기사작위를 연상시키는 십자가가 조각됐다.      개별 번호가 들어간 우아한 1리터짜리 JOHN WALKER & SONS XR 21년산 디캔터는 아르데코 시대의 웅장한 디자인을 상기시킨다. 이제 전 세계 여행 소매 아웃렛에서 안목 있는 소비자들이 이 제품을 구입할 수 있게 됐다.       Alexander Walker는 위스키 제조 기술과 기업 전문지식으로 유명했다. 1920년 JOHNNIE WALKER(R) 위스키는 스코틀랜드에서 전 세계로 전파됐다. JOHN WALKER & SONS XR 21년산은 부드럽고 깊은맛이 두드러지는 우수한 블렌드로서, 그의 기사 작위 수여를 기념하고자 만들어졌다. 아주 진귀한 JOHNNIE WALKER 비축분 중 숙성 기간이 최소 21년인 위스키들로 만들어졌는데, 그중에는 더 이상 존재하지 않는 증류주 양조장에서 만든 위스키도 있다.       JOHNNIE WALKER 마스터 블렌더 Jim Beveridge는 “JOHN WALKER & SONS XR 21년산은 오래된 참나무통에서 숙성된 아주 진귀한 위스키들로 만든다”라며 “다양한 층을 이루고 풍부한 이 블렌드는 미묘한 바닐라와 골든 허니 향을 내며, 피니시가 아주 부드럽다. 텀블러에 얼음을 넣지 않고 마신 다음 냉수를 들이켜면 그 맛을 제대로 음미할 수 있다”고 말했다.      Diageo Global Travel and Middle East 상무이사 Peter Fairbrother는 “여행자들을 위해 독점적으로 1리터짜리 JOHN WALKER & SONS XR 21년산을 판매하게 돼 기쁘게 생각한다”라며 “이 제품은 다른 곳에서는 구입할 수 있는 것으로서, 아주 고급스러운 위스키 애호가들을 위한 궁극적인 선물이자 완벽한 여행 기념품”이라고 말했다.       1리터짜리 JOHN WALKER & SONS XR 21년산은 여행 소매(RRSP $178)에서만 판매되고, 75cl 버전은 여행 소매 및 국내($138USD)에서 판매된다. 현재 1리터짜리 버전은 창이 공항과 홍콩 공항에서 판매하고 있다. 두 버전 모두 전 세계적으로 판매 중이다.       Diageo 소개      Diageo는 증류주, 맥주 및 와인 부문에 걸쳐 여러 브랜드로 구성된 뛰어난 컬렉션을 보유한 세계 최고의 주류업체다. Diageo는 Johnnie Walker, Crown Royal, J&B, Buchanan\\'s 및 Windsor whiskies, Smirnoff, Ciroc and Ketel One vodkas, Captain Morgan, Baileys, Don Julio, Tanqueray 및 Guinness와 같은 브랜드를 보유하고 있다.      세계적인 기업 Diageo는 전 세계 180개가 넘는 국가에서 제품을 판매하고 있다. Diageo는 런던증권거래소(DGE)와 뉴욕증권거래소(DEO)에 상장돼 있다. Diageo 기업, 직원, 브랜드 및 실적에 관한 추가 정보는 웹사이트 http://www.diageo.com을 참조한다. 최고 관행을 공유하기 위한 정보, 프로젝트 및 방법에 관한 정보는 Diageo의 책임감 있는 음주 국제 사이트 http://www.DRINKiQ.com을 참조한다.      Celebrating life, every day, everywhere.      JOHN WALKER & SONS XR 표현, Striding Figure 장치 및 관련 로고는 상표다. (c) John Walker & Sons 2015.       출처: Diageo GTME      Art Deco-inspired JOHN WALKER & SONS XR™ 21 Year Old Rekindles the Grandeur of the Roaring Twenties      SINGAPORE, September 7, 2015/PRNewswire-FirstCall/ -- Sumptuous style and lavish design were at the core of the Art Deco movement that flourished around the world in the 1920s. It was during that period that Sir Alexander Walker - grandson of John Walker - was appointed as a Knight Commander of the Order of the British Empire. The rich colours and bold forms synonymous with that time conjure up a vision of an iconic style and sophistication that has inspired the stunning new design of the luxury blended Scotch Whisky JOHN WALKER & SONS XR™ 21 Year Old.      (Photo: http://photos.prnewswire.com/prnh/20150903/263616 )      (Photo: http://photos.prnewswire.com/prnh/20150903/263617 )      (Photo: http://photos.prnewswire.com/prnh/20150903/263628 )      JOHN WALKER & SONS XR 21 Year Old is now presented in a new, exquisite, polished gold box emblazoned with a sculpted cross that echoes Sir Alexander Walker\\'s Knighthood.      The elegant, individually-numbered 1 litre JOHN WALKER & SONS XR 21 Year Old decanters, evocative of the grand designs of the Art Deco era, are available to discerning consumers in Travel Retail outlets around the globe.      Sir Alexander Walker was renowned for his whisky-making craft and entrepreneurial expertise which, by 1920, had seen JOHNNIE WALKER(R) whiskies travel from the four corners of Scotland to the four corners of the world. JOHN WALKER & SONS XR 21 Year Old is a superior blend of exceptional smoothness and depth that was created to commemorate his Knighthood. It contains whiskies that are aged for a minimum of 21 years and drawn from extremely rare JOHNNIE WALKER reserves - including some from distilleries no longer in existence.      Jim Beveridge, JOHNNIE WALKER Master Blender, said: \"JOHN WALKER & SONS XR 21 Year Old is crafted using extra rare whiskies from aged oak casks. This rich and multi-layered blend is imbued with subtle vanilla and golden honey notes and has an incredibly smooth finish. It is best enjoyed neat in a tumbler, accompanied by chilled water.\"      Peter Fairbrother, Marketing Director of Diageo Global Travel and Middle East, said: \"We are delighted to offer this 1 litre bottling of JOHN WALKER & SONS XR 21 Year Old exclusively to travelers. It is the ultimate gift for super deluxe whisky drinkers in a format they cannot buy anywhere else - a perfect souvenir from their travels.\"      The 1 litre bottle of JOHN WALKER & SONS XR 21 Year Old is available exclusively in travel retail (RRSP $178) and the 75 cl version is available in travel retail and domestically ($138USD). The 1 litre version is now available in Changi and Hong Kong airports, and both versions are also available now around the world.      ABOUT DIAGEO       Diageo is a global leader in beverage alcohol with an outstanding collection of brands across spirits, beer and wine categories. These brands include Johnnie Walker, Crown Royal, J&B, Buchanan\\'s and Windsor whiskies, Smirnoff, Ciroc and Ketel One vodkas, Captain Morgan, Baileys, Don Julio, Tanqueray and Guinness.      Diageo is a global company, and our products are sold in more than 180 countries around the world. The company is listed on both the London Stock Exchange (DGE) and the New York Stock Exchange (DEO).  For more information about Diageo, our people, our brands, and performance, visit us at http://www.diageo.com. Visit Diageo\\'s global responsible drinking resource, http://www.DRINKiQ.com, for information, initiatives, and ways to share best practice.      Celebrating life, every day, everywhere.      The JOHN WALKER & SONS XR words, the Striding Figure device and associated logos are trade marks. (c) John Walker & Sons 2015.       Source: Diageo GTME  '"
      ]
     },
     "execution_count": 10,
     "metadata": {},
     "output_type": "execute_result"
    }
   ],
   "source": [
    "import re\n",
    "article = re.sub(r'(20[0-9 ]+\\.[0-9 ]+\\.[0-9 ]+)(.*)', '', article)\n",
    "article = re.sub(r'[a-z]+@yna.co.kr(.*)', '', article)\n",
    "\n",
    "return_article = ''\n",
    "\n",
    "for sentence in article.split('\\n'):\n",
    "    \n",
    "    if not sentence.startswith('▶') : return_article += sentence\n",
    "\n",
    "return_article"
   ]
  },
  {
   "cell_type": "code",
   "execution_count": 11,
   "metadata": {
    "collapsed": true
   },
   "outputs": [],
   "source": [
    "import re\n",
    "def remove_extras(article):\n",
    "    return_article = ''\n",
    "    article = re.sub(r'\\/\\/[a-zA-Z가-힣 \\n]+|{}|_flash_removeCallback\\(\\)', '', article)\n",
    "    article = article.replace('\\t', '').replace('\\n', ' ').replace('▶','\\n▶')\n",
    "    #remove by line\n",
    "    article = re.sub(r'\\([a-zA-Z가-힣· ]+\\=연합뉴스\\) [a-zA-Z가-힣· ]+ =|\\([a-zA-Z가-힣· ]+\\=연합뉴스(.*)\\)|\\<< [a-zA-Z가-힣· ]+\\=[a-zA-Z가-힣· ]+ >>|\\([a-zA-Z가-힣0-9·, ]+\\=[a-zA-Z가-힣· ]+\\)|\\[[a-zA-Z가-힣·= ]+[자료사진 ]\\]|\\(연합뉴스(.*)\\)|\\[연합뉴스(.*)\\]|\\[[a-zA-Z가-힣 ]+제공\\]|\\[사진(.*)\\]|\\[[a-zA-Z가-힣 ]+제공=연합뉴스\\]', '', article)\n",
    "    article = re.sub(r'(20[0-9 ]+\\.[0-9 ]+\\.[0-9 ]+)(.*)', '', article)\n",
    "    article = re.sub(r'([a-z]+@yna.co.kr)(.*)', '', article)    \n",
    "    #remove copyrithgs\n",
    "    article = article.replace('<저작권자(c) 연합뉴스, 무단 전재-재배포 금지>', '')\n",
    "    article = article.replace('기사제공 연합뉴스', '')\n",
    "    #remove email\n",
    "    #article = re.sub(r'[a-zA-Z0-9_-]+@[a-z]+.[a-z]+.[a-z]+', '', article)\n",
    "    #remove tail\n",
    "    \n",
    "    for sentence in article.split('\\n'):\n",
    "        if not sentence.startswith('▶') : return_article += sentence\n",
    "\n",
    "    return_article = return_article.replace('\\n', ' ')\n",
    "    \n",
    "\n",
    "    return return_article"
   ]
  },
  {
   "cell_type": "code",
   "execution_count": 12,
   "metadata": {},
   "outputs": [
    {
     "name": "stdout",
     "output_type": "stream",
     "text": [
      "          [편집자 주] 본고는 자료 제공사에서 제공한 것으로, 연합뉴스는 내용에 대해 어떠한 편집도 하지 않았음을 밝혀 드립니다.       호화로운 스타일과 풍부한 디자인은 1920년대 전 세계적으로 붐을 이루었던 아르데코 운동의 핵심이다. John Walker의 손자인 Alexander Walker가 대영제국 기사작위(Knight Commander of the Order)를 받은 것이 바로 1920년대다. 그 시대와 동일시되는 풍부한 색과 대담한 형태는 고급 블렌드 스카치 위스키 JOHN WALKER & SONS XR™ 21년산의 환상적인 새 디자인에 영감을 제공한 상징적인 스타일과 세련미라는 비전을 상기시킨다.       (사진: http:.prnewswire.com/prnh/20150903/263616 )      (사진: http:.prnewswire.com/prnh/20150903/263617 )      (사진: http:.prnewswire.com/prnh/20150903/263628 )      JOHN WALKER & SONS XR 21년산이 정교하고 반짝이는 황금색 상자에 담겨 판매된다. 이 상자는 Alexander Walker의 기사작위를 연상시키는 십자가가 조각됐다.      개별 번호가 들어간 우아한 1리터짜리 JOHN WALKER & SONS XR 21년산 디캔터는 아르데코 시대의 웅장한 디자인을 상기시킨다. 이제 전 세계 여행 소매 아웃렛에서 안목 있는 소비자들이 이 제품을 구입할 수 있게 됐다.       Alexander Walker는 위스키 제조 기술과 기업 전문지식으로 유명했다. 1920년 JOHNNIE WALKER(R) 위스키는 스코틀랜드에서 전 세계로 전파됐다. JOHN WALKER & SONS XR 21년산은 부드럽고 깊은맛이 두드러지는 우수한 블렌드로서, 그의 기사 작위 수여를 기념하고자 만들어졌다. 아주 진귀한 JOHNNIE WALKER 비축분 중 숙성 기간이 최소 21년인 위스키들로 만들어졌는데, 그중에는 더 이상 존재하지 않는 증류주 양조장에서 만든 위스키도 있다.       JOHNNIE WALKER 마스터 블렌더 Jim Beveridge는 “JOHN WALKER & SONS XR 21년산은 오래된 참나무통에서 숙성된 아주 진귀한 위스키들로 만든다”라며 “다양한 층을 이루고 풍부한 이 블렌드는 미묘한 바닐라와 골든 허니 향을 내며, 피니시가 아주 부드럽다. 텀블러에 얼음을 넣지 않고 마신 다음 냉수를 들이켜면 그 맛을 제대로 음미할 수 있다”고 말했다.      Diageo Global Travel and Middle East 상무이사 Peter Fairbrother는 “여행자들을 위해 독점적으로 1리터짜리 JOHN WALKER & SONS XR 21년산을 판매하게 돼 기쁘게 생각한다”라며 “이 제품은 다른 곳에서는 구입할 수 있는 것으로서, 아주 고급스러운 위스키 애호가들을 위한 궁극적인 선물이자 완벽한 여행 기념품”이라고 말했다.       1리터짜리 JOHN WALKER & SONS XR 21년산은 여행 소매(RRSP $178)에서만 판매되고, 75cl 버전은 여행 소매 및 국내($138USD)에서 판매된다. 현재 1리터짜리 버전은 창이 공항과 홍콩 공항에서 판매하고 있다. 두 버전 모두 전 세계적으로 판매 중이다.       Diageo 소개      Diageo는 증류주, 맥주 및 와인 부문에 걸쳐 여러 브랜드로 구성된 뛰어난 컬렉션을 보유한 세계 최고의 주류업체다. Diageo는 Johnnie Walker, Crown Royal, J&B, Buchanan's 및 Windsor whiskies, Smirnoff, Ciroc and Ketel One vodkas, Captain Morgan, Baileys, Don Julio, Tanqueray 및 Guinness와 같은 브랜드를 보유하고 있다.      세계적인 기업 Diageo는 전 세계 180개가 넘는 국가에서 제품을 판매하고 있다. Diageo는 런던증권거래소(DGE)와 뉴욕증권거래소(DEO)에 상장돼 있다. Diageo 기업, 직원, 브랜드 및 실적에 관한 추가 정보는 웹사이트 http:.diageo.com을 참조한다. 최고 관행을 공유하기 위한 정보, 프로젝트 및 방법에 관한 정보는 Diageo의 책임감 있는 음주 국제 사이트 http:.DRINKiQ.com을 참조한다.      Celebrating life, every day, everywhere.      JOHN WALKER & SONS XR 표현, Striding Figure 장치 및 관련 로고는 상표다. (c) John Walker & Sons 2015.       출처: Diageo GTME      Art Deco-inspired JOHN WALKER & SONS XR™ 21 Year Old Rekindles the Grandeur of the Roaring Twenties      SINGAPORE, September 7, 2015/PRNewswire-FirstCall/ -- Sumptuous style and lavish design were at the core of the Art Deco movement that flourished around the world in the 1920s. It was during that period that Sir Alexander Walker - grandson of John Walker - was appointed as a Knight Commander of the Order of the British Empire. The rich colours and bold forms synonymous with that time conjure up a vision of an iconic style and sophistication that has inspired the stunning new design of the luxury blended Scotch Whisky JOHN WALKER & SONS XR™ 21 Year Old.      (Photo: http:.prnewswire.com/prnh/20150903/263616 )      (Photo: http:.prnewswire.com/prnh/20150903/263617 )      (Photo: http:.prnewswire.com/prnh/20150903/263628 )      JOHN WALKER & SONS XR 21 Year Old is now presented in a new, exquisite, polished gold box emblazoned with a sculpted cross that echoes Sir Alexander Walker's Knighthood.      The elegant, individually-numbered 1 litre JOHN WALKER & SONS XR 21 Year Old decanters, evocative of the grand designs of the Art Deco era, are available to discerning consumers in Travel Retail outlets around the globe.      Sir Alexander Walker was renowned for his whisky-making craft and entrepreneurial expertise which, by 1920, had seen JOHNNIE WALKER(R) whiskies travel from the four corners of Scotland to the four corners of the world. JOHN WALKER & SONS XR 21 Year Old is a superior blend of exceptional smoothness and depth that was created to commemorate his Knighthood. It contains whiskies that are aged for a minimum of 21 years and drawn from extremely rare JOHNNIE WALKER reserves - including some from distilleries no longer in existence.      Jim Beveridge, JOHNNIE WALKER Master Blender, said: \"JOHN WALKER & SONS XR 21 Year Old is crafted using extra rare whiskies from aged oak casks. This rich and multi-layered blend is imbued with subtle vanilla and golden honey notes and has an incredibly smooth finish. It is best enjoyed neat in a tumbler, accompanied by chilled water.\"      Peter Fairbrother, Marketing Director of Diageo Global Travel and Middle East, said: \"We are delighted to offer this 1 litre bottling of JOHN WALKER & SONS XR 21 Year Old exclusively to travelers. It is the ultimate gift for super deluxe whisky drinkers in a format they cannot buy anywhere else - a perfect souvenir from their travels.\"      The 1 litre bottle of JOHN WALKER & SONS XR 21 Year Old is available exclusively in travel retail (RRSP $178) and the 75 cl version is available in travel retail and domestically ($138USD). The 1 litre version is now available in Changi and Hong Kong airports, and both versions are also available now around the world.      ABOUT DIAGEO       Diageo is a global leader in beverage alcohol with an outstanding collection of brands across spirits, beer and wine categories. These brands include Johnnie Walker, Crown Royal, J&B, Buchanan's and Windsor whiskies, Smirnoff, Ciroc and Ketel One vodkas, Captain Morgan, Baileys, Don Julio, Tanqueray and Guinness.      Diageo is a global company, and our products are sold in more than 180 countries around the world. The company is listed on both the London Stock Exchange (DGE) and the New York Stock Exchange (DEO).  For more information about Diageo, our people, our brands, and performance, visit us at http:.diageo.com. Visit Diageo's global responsible drinking resource, http:.DRINKiQ.com, for information, initiatives, and ways to share best practice.      Celebrating life, every day, everywhere.      The JOHN WALKER & SONS XR words, the Striding Figure device and associated logos are trade marks. (c) John Walker & Sons 2015.       Source: Diageo GTME  \n"
     ]
    }
   ],
   "source": [
    "print(remove_extras(df['article'][309121]))"
   ]
  },
  {
   "cell_type": "code",
   "execution_count": 13,
   "metadata": {},
   "outputs": [
    {
     "data": {
      "text/plain": [
       "0                   7일 서울 목동야구장에서 열린 프로야구 한국시리즈 3차전 넥센 히...\n",
       "1                   7일 서울 목동야구장에서 열린 프로야구 한국시리즈 3차전 넥센 히...\n",
       "2                   7일 서울 목동야구장에서 열린 프로야구 한국시리즈 3차전 넥센 히...\n",
       "3                   7일 서울 목동야구장에서 열린 프로야구 한국시리즈 3차전 넥센 히...\n",
       "4                   7일 서울 목동야구장에서 열린 프로야구 한국시리즈 3차전 넥센 히...\n",
       "5                   7일 서울 목동야구장에서 열린 프로야구 한국시리즈 3차전 넥센 히...\n",
       "6                   7일 오후 서울 목동야구장에서 열린 프로야구 한국시리즈 3차전 넥...\n",
       "7                   7일 서울 목동야구장에서 열린 프로야구 한국시리즈 3차전 넥센 히...\n",
       "8                   7일 오후 서울 목동야구장에서 열린 프로야구 한국시리즈 3차전 넥...\n",
       "9                   7일 오후 서울 목동야구장에서 열린 프로야구 한국시리즈 3차전 넥...\n",
       "10                  7일 서울 목동야구장에서 열린 프로야구 한국시리즈 3차전 넥센 히...\n",
       "11                  7일 서울 목동야구장에서 열린 프로야구 한국시리즈 3차전 넥센 히...\n",
       "12                  7일 서울 목동야구장에서 열린 프로야구 한국시리즈 3차전 넥센 히...\n",
       "13                  7일 서울 목동야구장에서 열린 프로야구 한국시리즈 3차전 넥센 히...\n",
       "14                  7일 서울 목동야구장에서 열린 프로야구 한국시리즈 3차전 넥센 히...\n",
       "15                  7일 오후 서울 목동야구장에서 열린 프로야구 한국시리즈 3차전 넥...\n",
       "16                  7일 오후 서울 목동야구장에서 열린 프로야구 한국시리즈 3차전 넥...\n",
       "17                  7일 서울 목동야구장에서 열린 프로야구 한국시리즈 3차전 넥센 히...\n",
       "18                  7일 서울 목동야구장에서 열린 프로야구 한국시리즈 3차전 넥센 히...\n",
       "19                  7일 서울 목동야구장에서 열린 프로야구 한국시리즈 3차전 넥센 히...\n",
       "20                  7일 서울 목동야구장에서 열린 프로야구 한국시리즈 3차전 넥센 히...\n",
       "21                  7일 서울 목동야구장에서 열린 프로야구 한국시리즈 3차전 넥센 히...\n",
       "22                  7일 서울 목동야구장에서 열린 프로야구 한국시리즈 3차전 넥센 히...\n",
       "23                  7일 서울 목동야구장에서 열린 프로야구 한국시리즈 3차전 넥센 히...\n",
       "24                  7일 오후 2014 프로야구 한국시리즈 3차전이 열리는 서울 목동...\n",
       "25                  7일 서울 목동야구장에서 열린 프로야구 한국시리즈 3차전 넥센 히...\n",
       "26                  7일 서울 목동야구장에서 열린 프로야구 한국시리즈 3차전 넥센 히...\n",
       "27                  7일 서울 목동야구장에서 열린 프로야구 한국시리즈 3차전 넥센 히...\n",
       "28            2014 브라질 월드컵 조별리그 H조 3차전 한국과의 벨기에전에서 공을 다투...\n",
       "29            볼 바라보는 허윤경      는 이븐파 72타로 공동 35위에 올랐다.      \n",
       "                                ...                        \n",
       "983857          보드먼 \"차량·자전거 조율된 공간 아니라면 돈 낭비일 뿐\"   1992년...\n",
       "983858          홍콩에도 법 적용 추진…홍콩인들 \"일국양제 위배\" 반발  중국의 국기 게...\n",
       "983859         기아차 통상임금 소송, 1심서 노조 일부 승소(CG)      신용평가사들...\n",
       "983860     힘차게 투구하는 LG 선발 허프 1일 오후 서울 잠실야구장에서 열린 2017 프로...\n",
       "983861        가수 윤종신      가수 윤종신이 데뷔 이래 처음으로 음악방송 1위를 차지...\n",
       "983862           충남 아산시가 풍기동 A아파트의 각종 하자 발생과 안전사고 우려에 대해...\n",
       "983863          [편집자 주] 본고는 자료 제공사에서 제공한 것으로, 연합뉴스는 내용에 ...\n",
       "983864         이옥남 자유한국당 혁신위원회 대변인   朴출당 찬반 논란…일부 혁신위원 \"...\n",
       "983865           업무시스템에 '공직기강 핫라인' 마련…비위·부당지시 등 제보   청와대...\n",
       "983866          IS 철수 행렬, 미군에 동진 차단된 후 시리아 내륙 쪽으로 선회    ...\n",
       "983867          \"남경필 지사 내년 선거 위해 졸속으로 사업 계획\"   경기도의회 경제과...\n",
       "983868                                                     \n",
       "983869     진종오와 과녁       '사격 황제' 진종오(38·KT)가 제12회 대통령 경호...\n",
       "983870          야권 후보 \"역사적인 날\" 환영…대통령-야권 지지자 간 충돌 재발 우려 ...\n",
       "983871          日고노 \"UN 새 대북제재 협조\"…中왕이 \"대화 중시\"   일본 고노 다...\n",
       "983872         문재인 대통령    문재인 대통령은 1일 \"지금 국민은 정의로운 대한민국을...\n",
       "983873         검찰, MBC 사장 체포영장 발부 (PG)[제작 최자윤, 조혜인] 일러스트...\n",
       "983874      허윤경, 1타 차 단독 2위, 김인경 공동 5위  쭈타누깐은 이날 12타 잃고 ...\n",
       "983875          전국 출판사 85개, 독서단체 40개 등 239개 기관·단체 참여   국...\n",
       "983876         MBC 김장겸 사장, 험난한 행사장 가는길 MBC 김장겸 사장이 1일 오후...\n",
       "983877                        ◇ 보직       ▲ 애드마케팅팀장 이인열     \n",
       "983878                                   ▲ 독자서비스국장 한규완     \n",
       "983879           전국금융산업노동조합 경남은행지부는 1일 성명을 내고 BNK금융지주 회장...\n",
       "983880          \"이엽우피소 성분 제조·판매한 회사에 민사상 책임 없다\"  백수오    ...\n",
       "983881          야권 후보 \"역사적인 날\" 환영…케냐타 \"판결에 동의 못하지만 존중\"  ...\n",
       "983882          전용 활주로·통제실·정비고 구축…\"무인항공기 클러스터 추진 탄력\"   경...\n",
       "983883         미·러 외교전쟁 격화 (PG)[제작 조혜인] 일러스트  샌프란시스코 러 총...\n",
       "983884      넥센전서 5⅔이닝 2실점 호투 펼쳐  힘차게 투구하는 LG 선발 허프 1일 오후...\n",
       "983885      SK, 삼성과 올 시즌 맞대결에서 11승 5패 우위  이승엽, 최다 2루타 신기...\n",
       "983886      ▲ 문학전적(1일)      삼 성 220 001 002 - 7      S  ...\n",
       "Name: article, dtype: object"
      ]
     },
     "execution_count": 13,
     "metadata": {},
     "output_type": "execute_result"
    }
   ],
   "source": [
    "df['article'].apply(lambda x: remove_extras(x))"
   ]
  },
  {
   "cell_type": "code",
   "execution_count": 14,
   "metadata": {
    "collapsed": true
   },
   "outputs": [],
   "source": [
    "df['article']=df['article'].apply(lambda x: remove_extras(x))"
   ]
  },
  {
   "cell_type": "code",
   "execution_count": 15,
   "metadata": {
    "collapsed": true
   },
   "outputs": [],
   "source": [
    "counts=df.groupby('section').size()\n",
    "sorted_counts=counts.sort_values(ascending=False)"
   ]
  },
  {
   "cell_type": "code",
   "execution_count": 16,
   "metadata": {},
   "outputs": [
    {
     "data": {
      "text/plain": [
       "section\n",
       "지방행정        115792\n",
       "사회일반        105018\n",
       "국제일반         89138\n",
       "정치일반         86636\n",
       "경제일반         83869\n",
       "야구           24413\n",
       "기업일반         19239\n",
       "산업일반         17992\n",
       "문화일반         15600\n",
       "중앙행정일반       15004\n",
       "축구           14324\n",
       "연예           13546\n",
       "외교일반         13273\n",
       "국방일반         12057\n",
       "재테크          12030\n",
       "대기업          10773\n",
       "북한일반          9749\n",
       "경찰            9309\n",
       "교육일반          9084\n",
       "IT일반          9071\n",
       "골프            8043\n",
       "국회일반          7526\n",
       "스포츠일반         7176\n",
       "소비자           6878\n",
       "증권시장          6756\n",
       "스포츠           6755\n",
       "농구            5702\n",
       "편집일반          5541\n",
       "금융·증권일반       5488\n",
       "대학교육          5215\n",
       "             ...  \n",
       "임대업              4\n",
       "장애인올림픽           3\n",
       "익스트림게임           3\n",
       "신용카드사            3\n",
       "수상경기일반           3\n",
       "기업분석             2\n",
       "무속신앙             2\n",
       "우슈               2\n",
       "교포               2\n",
       "금시세              2\n",
       "국내대회             2\n",
       "OANA             1\n",
       "헤드라인             1\n",
       "개발원조             1\n",
       "증권사              1\n",
       "세팍타크로            1\n",
       "유럽연합             1\n",
       "특허발명             1\n",
       "비치발리볼            1\n",
       "대체의학             1\n",
       "북한사회             1\n",
       "장애아시안게임          1\n",
       "문화관광             1\n",
       "전국소년체전           1\n",
       "기타국내종합경기         1\n",
       "만화일반             1\n",
       "루지               1\n",
       "종합금융사            1\n",
       "증시일정             1\n",
       "아동청소년복지          1\n",
       "dtype: int64"
      ]
     },
     "execution_count": 16,
     "metadata": {},
     "output_type": "execute_result"
    }
   ],
   "source": [
    "sorted_counts"
   ]
  },
  {
   "cell_type": "code",
   "execution_count": 17,
   "metadata": {
    "collapsed": true
   },
   "outputs": [],
   "source": [
    "df.to_pickle('yonhapall.pkl')"
   ]
  },
  {
   "cell_type": "markdown",
   "metadata": {},
   "source": [
    "### Compare Memory Usage\n",
    "\n",
    "```\n",
    "df['article']=pd.Series([val for val in df['article'].str.replace(r'\\r|\\t|\\n|\\/\\/[a-zA-Z가-힣 \\n]+|{}|_flash_removeCallback\\(\\)|[a-zA-Z0-9]+@yonhapnews.co.kr|\\[연합뉴스[a-zA-Z가-힣 ]+\\]|\\([a-zA-Z가-힣· ]+\\=연합뉴스\\)|\\[[a-zA-Z가-힣 ]+\\=연합뉴스\\]|[a-zA-Z가-힣 ]+ 기자 \\=|[a-zA-Z가-힣 ]+ 특파원 \\=','')])\n",
    "```\n",
    "\n",
    "```\n",
    "df['article']=df['article'].str.replace(r'\\[연합뉴스[a-zA-Z가-힣 ]+\\]|\\([a-zA-Z가-힣· ]+\\=연합뉴스\\)|\\[[a-zA-Z가-힣 ]+\\=연합뉴스\\]|[a-zA-Z가-힣 ]+ 기자 \\=|[a-zA-Z가-힣 ]+ 특파원 \\=','')\n",
    "```"
   ]
  },
  {
   "cell_type": "code",
   "execution_count": 18,
   "metadata": {},
   "outputs": [
    {
     "data": {
      "text/plain": [
       "Index              80\n",
       "article    3283185764\n",
       "date         73081132\n",
       "section     100339038\n",
       "title       204226447\n",
       "dtype: int64"
      ]
     },
     "execution_count": 18,
     "metadata": {},
     "output_type": "execute_result"
    }
   ],
   "source": [
    "df.memory_usage(deep=True)"
   ]
  },
  {
   "cell_type": "code",
   "execution_count": 19,
   "metadata": {
    "collapsed": true
   },
   "outputs": [],
   "source": [
    "sorted_counts.to_csv('yonhapall.csv')"
   ]
  },
  {
   "cell_type": "code",
   "execution_count": null,
   "metadata": {
    "collapsed": true
   },
   "outputs": [],
   "source": []
  }
 ],
 "metadata": {
  "kernelspec": {
   "display_name": "Python 3",
   "language": "python",
   "name": "python3"
  },
  "language_info": {
   "codemirror_mode": {
    "name": "ipython",
    "version": 3
   },
   "file_extension": ".py",
   "mimetype": "text/x-python",
   "name": "python",
   "nbconvert_exporter": "python",
   "pygments_lexer": "ipython3",
   "version": "3.6.2"
  }
 },
 "nbformat": 4,
 "nbformat_minor": 1
}
