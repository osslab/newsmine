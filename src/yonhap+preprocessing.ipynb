{
 "cells": [
  {
   "cell_type": "code",
   "execution_count": 1,
   "metadata": {
    "collapsed": true
   },
   "outputs": [],
   "source": [
    "import glob\n",
    "\n",
    "files = glob.glob('./newsdata/*/*/yonhapall.json')"
   ]
  },
  {
   "cell_type": "code",
   "execution_count": 2,
   "metadata": {
    "collapsed": true
   },
   "outputs": [],
   "source": [
    "import json\n",
    "def read_json_file(path_to_file):\n",
    "    with open(path_to_file) as p:\n",
    "        rows=[json.loads(line) for line in p]\n",
    "    return rows"
   ]
  },
  {
   "cell_type": "code",
   "execution_count": 3,
   "metadata": {
    "collapsed": true
   },
   "outputs": [],
   "source": [
    "import pandas as pd\n",
    "\n",
    "data=[]\n",
    "for path in files:\n",
    "    data.extend(read_json_file(path))\n",
    "\n",
    "df = pd.DataFrame(data)"
   ]
  },
  {
   "cell_type": "code",
   "execution_count": 4,
   "metadata": {},
   "outputs": [
    {
     "data": {
      "text/plain": [
       "1100430"
      ]
     },
     "execution_count": 4,
     "metadata": {},
     "output_type": "execute_result"
    }
   ],
   "source": [
    "len(df)"
   ]
  },
  {
   "cell_type": "code",
   "execution_count": 5,
   "metadata": {
    "collapsed": true
   },
   "outputs": [],
   "source": [
    "df=df.dropna(subset=['section'])\n",
    "df=df[df['section']!='']\n",
    "df=df.reset_index(drop=True)"
   ]
  },
  {
   "cell_type": "code",
   "execution_count": 6,
   "metadata": {},
   "outputs": [
    {
     "data": {
      "text/plain": [
       "983887"
      ]
     },
     "execution_count": 6,
     "metadata": {},
     "output_type": "execute_result"
    }
   ],
   "source": [
    "len(df)"
   ]
  },
  {
   "cell_type": "code",
   "execution_count": 7,
   "metadata": {},
   "outputs": [
    {
     "data": {
      "text/html": [
       "<div>\n",
       "<table border=\"1\" class=\"dataframe\">\n",
       "  <thead>\n",
       "    <tr style=\"text-align: right;\">\n",
       "      <th></th>\n",
       "      <th>article</th>\n",
       "      <th>author</th>\n",
       "      <th>date</th>\n",
       "      <th>naver_url</th>\n",
       "      <th>org_url</th>\n",
       "      <th>section</th>\n",
       "      <th>title</th>\n",
       "    </tr>\n",
       "  </thead>\n",
       "  <tbody>\n",
       "    <tr>\n",
       "      <th>0</th>\n",
       "      <td>\\n\\n\\n\\n\\n    (서울=연합뉴스) 임헌정 기자 = 7일 서울 목동야구장에서...</td>\n",
       "      <td>NaN</td>\n",
       "      <td>20141107220335</td>\n",
       "      <td>http://sports.news.naver.com/kbaseball/news/re...</td>\n",
       "      <td>NaN</td>\n",
       "      <td>스포츠</td>\n",
       "      <td>역점 2점홈런 날리는 박한이</td>\n",
       "    </tr>\n",
       "    <tr>\n",
       "      <th>1</th>\n",
       "      <td>\\n\\n\\n\\n\\n    (서울=연합뉴스) 임헌정 기자 = 7일 서울 목동야구장에서...</td>\n",
       "      <td>NaN</td>\n",
       "      <td>20141107220450</td>\n",
       "      <td>http://sports.news.naver.com/kbaseball/news/re...</td>\n",
       "      <td>NaN</td>\n",
       "      <td>스포츠</td>\n",
       "      <td>역점 2점홈런 날리는 박한이</td>\n",
       "    </tr>\n",
       "    <tr>\n",
       "      <th>2</th>\n",
       "      <td>\\n\\n\\n\\n\\n    (서울=연합뉴스) 임헌정 기자 = 7일 서울 목동야구장에서...</td>\n",
       "      <td>NaN</td>\n",
       "      <td>20141107220417</td>\n",
       "      <td>http://sports.news.naver.com/kbaseball/news/re...</td>\n",
       "      <td>NaN</td>\n",
       "      <td>스포츠</td>\n",
       "      <td>역점 2점홈런 날리는 박한이</td>\n",
       "    </tr>\n",
       "    <tr>\n",
       "      <th>3</th>\n",
       "      <td>\\n\\n\\n\\n\\n    (서울=연합뉴스) 김도훈 기자 = 7일 서울 목동야구장에서...</td>\n",
       "      <td>NaN</td>\n",
       "      <td>20141107220436</td>\n",
       "      <td>http://sports.news.naver.com/kbaseball/news/re...</td>\n",
       "      <td>NaN</td>\n",
       "      <td>스포츠</td>\n",
       "      <td>역전의 사나이 박한이</td>\n",
       "    </tr>\n",
       "    <tr>\n",
       "      <th>4</th>\n",
       "      <td>\\n\\n\\n\\n\\n    (서울=연합뉴스) 이정훈 기자 = 7일 서울 목동야구장에서...</td>\n",
       "      <td>NaN</td>\n",
       "      <td>20141107220342</td>\n",
       "      <td>http://sports.news.naver.com/kbaseball/news/re...</td>\n",
       "      <td>NaN</td>\n",
       "      <td>스포츠</td>\n",
       "      <td>환호하는 박한이</td>\n",
       "    </tr>\n",
       "  </tbody>\n",
       "</table>\n",
       "</div>"
      ],
      "text/plain": [
       "                                             article author            date  \\\n",
       "0  \\n\\n\\n\\n\\n    (서울=연합뉴스) 임헌정 기자 = 7일 서울 목동야구장에서...    NaN  20141107220335   \n",
       "1  \\n\\n\\n\\n\\n    (서울=연합뉴스) 임헌정 기자 = 7일 서울 목동야구장에서...    NaN  20141107220450   \n",
       "2  \\n\\n\\n\\n\\n    (서울=연합뉴스) 임헌정 기자 = 7일 서울 목동야구장에서...    NaN  20141107220417   \n",
       "3  \\n\\n\\n\\n\\n    (서울=연합뉴스) 김도훈 기자 = 7일 서울 목동야구장에서...    NaN  20141107220436   \n",
       "4  \\n\\n\\n\\n\\n    (서울=연합뉴스) 이정훈 기자 = 7일 서울 목동야구장에서...    NaN  20141107220342   \n",
       "\n",
       "                                           naver_url org_url section  \\\n",
       "0  http://sports.news.naver.com/kbaseball/news/re...     NaN     스포츠   \n",
       "1  http://sports.news.naver.com/kbaseball/news/re...     NaN     스포츠   \n",
       "2  http://sports.news.naver.com/kbaseball/news/re...     NaN     스포츠   \n",
       "3  http://sports.news.naver.com/kbaseball/news/re...     NaN     스포츠   \n",
       "4  http://sports.news.naver.com/kbaseball/news/re...     NaN     스포츠   \n",
       "\n",
       "             title  \n",
       "0  역점 2점홈런 날리는 박한이  \n",
       "1  역점 2점홈런 날리는 박한이  \n",
       "2  역점 2점홈런 날리는 박한이  \n",
       "3      역전의 사나이 박한이  \n",
       "4         환호하는 박한이  "
      ]
     },
     "execution_count": 7,
     "metadata": {},
     "output_type": "execute_result"
    }
   ],
   "source": [
    "df.head(5)"
   ]
  },
  {
   "cell_type": "code",
   "execution_count": 8,
   "metadata": {
    "collapsed": true
   },
   "outputs": [],
   "source": [
    "df.drop(['author','naver_url','org_url'], axis = 1, inplace = True)"
   ]
  },
  {
   "cell_type": "code",
   "execution_count": 73,
   "metadata": {},
   "outputs": [
    {
     "data": {
      "text/plain": [
       "'      (서울=연합뉴스) 김명수 신임 대법원장이 25일 문재인 대통령으로부터 임명장을 받고 출근하면서 이른바 \\'사법부 블랙리스트\\' 문제를 언급했다. 김 대법원장은 블랙리스트 추가조사에 대한 질문에 \"지금 당장 급하게 결정해야 할 문제다. 오늘부터 시작되는 임기 때 먼저 이야기해야 할 부분이라고 본다\"면서 \"잘 검토해서 국민이 걱정하지 않는 방향으로 하겠다\"고 말했다. 사법부 블랙리스트 의혹은 지난 3월 법원 내 국제인권법연구회의 학술 행사를 법원행정처 소속 고위 판사가 부당하게 축소하려 했다는 논란이 퍼지는 와중에 불거졌다. 대법원 산하 법원행정처의 기획조정실이, 대법원장이나 사법부에 비판적 시각을 가진 판사에 관한 정보를 따로 정리한 자료가 있다는 게 의혹의 골자였다. 의혹이 일자 대법원은 진상조사위 조사를 거쳐 \\'사실무근\\'으로 결론을 내렸다. 하지만 상당수 판사가 재조사의 필요성을 제기했고, 결국 전국법관대표회의가 블랙리스트 의혹을 추가 조사해야 한다는 공식입장을 대법원에 전달했다.  김 대법원장이 임기 첫날 이 문제를 거론한 이유는, 전임 양승태 대법원장 시절의 \\'사실무근\\' 결론에도 불구하고 법원 안팎에서 의혹이 수그러들지 않고 있기 때문인 듯하다. 8년 만에 전국의 법관 대표자 100여 명이 모여 추가조사의 필요성을 제기했고, 시민단체들도 신임 대법원장에게 철저한 진상규명을 요구하고 있다. 김 대법원장은 지난 3월 사법행정권 남용사태가 터진 직후 열린 전국 법원장 간담회에서 법원행정처가 잘못 대응하고 있다는 취지로 쓴소리하기도 했다. 김 대법원장 입장에서는 철저한 조사로 진상을 규명해야 사법부에 대한 불신을 덜어낼 수 있다고 판단했을 것 같다. 국민적 화두인 사법개혁에 매진할 환경을 조성하는 차원에서도 이 문제는 시급히 정리하는 것이 바람직하다. 다만 조사 방법에 대해서는 신중할 필요가 있다. 대법원이 직접 나서기보다 독립적인 기구를 통해 하는 것이 낫다고 본다. 그 대상도 블랙리스트 파일이 저장돼 있음 직한 법원행정처 컴퓨터 등으로 국한해 신속히 조사를 마무리하는 것이 좋다. 블랙리스트 의혹의 배경에는 법원행정처가 엘리트 판사 위주의 운영과 인사권 독점 등으로 지나치게 관료화됐다는 비판론도 작용하고 있다. 법원행정처의 권한을 분산하는 개혁이 함께 이뤄져야 하는 이유가 여기에 있다.  김 대법원장은 이날 \"대법원장의 대법관 제청권은 삼권분립에 따라 대법원장에게 주어진 것\"이라며 \"제가 자의적으로 행사하지는 않겠지만 대통령과 충돌이 있을 때는 반드시 제 뜻을 관철할 것\"이라는 말도 했다. 자신의 진보적 성향에 대한 보수 진영의 우려를 불식시키고, 나아가 사법부 독립을 위해 헌신하겠다는 본인의 의지를 강력히 표명하려 한 것 같다. 하지만 말만 갖고 되는 것은 아니다. 당장 김 대법원장은 내년에만 11월까지 교체되는 6명의 대법관 후보에 대해 제청권을 행사해야 한다. 김 대법원장이 임명되면 대법원이 \\'진보 코드\\' 일색으로 채워지는 게 아니냐는 우려가 제기된 것도 이런 상황과 관련이 있다. 이런 기류를 의식해서인지 김 대법원장은 국회 인사청문회에서도 대법관 제청권을 독립적으로 행사하고, 대법관 후보 추천위의 논의에도 일절 개입하지 않겠다고 약속했다. 김 대법원장이 이 약속을 꼭 지켜 세간의 우려가 기우였음을 입증하기 바란다. 그게 사법부 독립의 기틀을 다지고, 사법개혁에 전력하는 길이기도 하다.  기자가 기다려요. 기사 문의 및 제보는 여기로(클릭!)  최신 유행 트렌드 총집결(클릭!)    '"
      ]
     },
     "execution_count": 73,
     "metadata": {},
     "output_type": "execute_result"
    }
   ],
   "source": [
    "article=df['article'][966271].replace('\\t', '').replace('\\n', ' ').replace('▶','\\n▶')#.split('\\n')\n",
    "article"
   ]
  },
  {
   "cell_type": "code",
   "execution_count": 74,
   "metadata": {},
   "outputs": [
    {
     "data": {
      "text/plain": [
       "'      (서울=연합뉴스) 김명수 신임 대법원장이 25일 문재인 대통령으로부터 임명장을 받고 출근하면서 이른바 \\'사법부 블랙리스트\\' 문제를 언급했다. 김 대법원장은 블랙리스트 추가조사에 대한 질문에 \"지금 당장 급하게 결정해야 할 문제다. 오늘부터 시작되는 임기 때 먼저 이야기해야 할 부분이라고 본다\"면서 \"잘 검토해서 국민이 걱정하지 않는 방향으로 하겠다\"고 말했다. 사법부 블랙리스트 의혹은 지난 3월 법원 내 국제인권법연구회의 학술 행사를 법원행정처 소속 고위 판사가 부당하게 축소하려 했다는 논란이 퍼지는 와중에 불거졌다. 대법원 산하 법원행정처의 기획조정실이, 대법원장이나 사법부에 비판적 시각을 가진 판사에 관한 정보를 따로 정리한 자료가 있다는 게 의혹의 골자였다. 의혹이 일자 대법원은 진상조사위 조사를 거쳐 \\'사실무근\\'으로 결론을 내렸다. 하지만 상당수 판사가 재조사의 필요성을 제기했고, 결국 전국법관대표회의가 블랙리스트 의혹을 추가 조사해야 한다는 공식입장을 대법원에 전달했다.  김 대법원장이 임기 첫날 이 문제를 거론한 이유는, 전임 양승태 대법원장 시절의 \\'사실무근\\' 결론에도 불구하고 법원 안팎에서 의혹이 수그러들지 않고 있기 때문인 듯하다. 8년 만에 전국의 법관 대표자 100여 명이 모여 추가조사의 필요성을 제기했고, 시민단체들도 신임 대법원장에게 철저한 진상규명을 요구하고 있다. 김 대법원장은 지난 3월 사법행정권 남용사태가 터진 직후 열린 전국 법원장 간담회에서 법원행정처가 잘못 대응하고 있다는 취지로 쓴소리하기도 했다. 김 대법원장 입장에서는 철저한 조사로 진상을 규명해야 사법부에 대한 불신을 덜어낼 수 있다고 판단했을 것 같다. 국민적 화두인 사법개혁에 매진할 환경을 조성하는 차원에서도 이 문제는 시급히 정리하는 것이 바람직하다. 다만 조사 방법에 대해서는 신중할 필요가 있다. 대법원이 직접 나서기보다 독립적인 기구를 통해 하는 것이 낫다고 본다. 그 대상도 블랙리스트 파일이 저장돼 있음 직한 법원행정처 컴퓨터 등으로 국한해 신속히 조사를 마무리하는 것이 좋다. 블랙리스트 의혹의 배경에는 법원행정처가 엘리트 판사 위주의 운영과 인사권 독점 등으로 지나치게 관료화됐다는 비판론도 작용하고 있다. 법원행정처의 권한을 분산하는 개혁이 함께 이뤄져야 하는 이유가 여기에 있다.  김 대법원장은 이날 \"대법원장의 대법관 제청권은 삼권분립에 따라 대법원장에게 주어진 것\"이라며 \"제가 자의적으로 행사하지는 않겠지만 대통령과 충돌이 있을 때는 반드시 제 뜻을 관철할 것\"이라는 말도 했다. 자신의 진보적 성향에 대한 보수 진영의 우려를 불식시키고, 나아가 사법부 독립을 위해 헌신하겠다는 본인의 의지를 강력히 표명하려 한 것 같다. 하지만 말만 갖고 되는 것은 아니다. 당장 김 대법원장은 내년에만 11월까지 교체되는 6명의 대법관 후보에 대해 제청권을 행사해야 한다. 김 대법원장이 임명되면 대법원이 \\'진보 코드\\' 일색으로 채워지는 게 아니냐는 우려가 제기된 것도 이런 상황과 관련이 있다. 이런 기류를 의식해서인지 김 대법원장은 국회 인사청문회에서도 대법관 제청권을 독립적으로 행사하고, 대법관 후보 추천위의 논의에도 일절 개입하지 않겠다고 약속했다. 김 대법원장이 이 약속을 꼭 지켜 세간의 우려가 기우였음을 입증하기 바란다. 그게 사법부 독립의 기틀을 다지고, 사법개혁에 전력하는 길이기도 하다.  기자가 기다려요. 기사 문의 및 제보는 여기로(클릭!)  최신 유행 트렌드 총집결(클릭!)    '"
      ]
     },
     "execution_count": 74,
     "metadata": {},
     "output_type": "execute_result"
    }
   ],
   "source": [
    "import re\n",
    "article = re.sub(r'(20[0-9 ]+\\.[0-9 ]+\\.[0-9 ]+)(.*)', '', article)\n",
    "article = re.sub(r'[a-z0-9. ]+@[a-z.](.*)', '', article)\n",
    "\n",
    "return_article = ''\n",
    "\n",
    "for sentence in article.split('\\n'):\n",
    "    \n",
    "    if not sentence.startswith('▶') : return_article += sentence\n",
    "\n",
    "return_article"
   ]
  },
  {
   "cell_type": "code",
   "execution_count": 80,
   "metadata": {
    "collapsed": true
   },
   "outputs": [],
   "source": [
    "import re\n",
    "def remove_extras(article):\n",
    "    return_article = ''\n",
    "    article = re.sub(r'\\/\\/[a-zA-Z가-힣 \\n]+|{}|_flash_removeCallback\\(\\)', '', article)\n",
    "    article = article.replace('\\t', '').replace('\\n', ' ').replace('▶','\\n▶')\n",
    "    #remove by line\n",
    "    article = re.sub(r'\\([a-zA-Z가-힣· ]+\\=연합뉴스\\) [a-zA-Z가-힣· ]+=|\\([a-zA-Z가-힣· ]+\\=연합뉴스\\)|\\[[a-zA-Z가-힣· ]+\\=연합뉴스\\]|\\<\\<(.*)\\>\\>|\\([a-zA-Z가-힣0-9·, ]+\\=[a-zA-Z가-힣· ]+\\)|\\[[a-zA-Z가-힣·= ]+[자료사진 ]\\]|\\[(.*)캡처\\]|\\[제작(.*)\\]|\\[[a-zA-Z가-힣 ]+제공\\]', '', article)                     \n",
    "                     #<< [a-zA-Z가-힣· ]+\\=[a-zA-Z가-힣· ]+ >>|\\\n",
    "                     #\\(연합뉴스(.*)\\)|\\\n",
    "                     #\\[연합뉴스(.*)\\]|\\\n",
    "                     #\\[[a-zA-Z가-힣 ]+제공\\]|\\\n",
    "                     #\\[사진(.*)\\]|\\\n",
    "                     #\\[[a-zA-Z가-힣 ]+제공=연합뉴스\\]', '', article)\n",
    "    article = re.sub(r'(20[0-9 ]+\\.[0-9 ]+\\.[0-9 ]+)(.*)', '', article)\n",
    "    article = re.sub(r'([a-z0-9. ]+@[a-z.])(.*)', '', article)    \n",
    "    #remove copyrithgs\n",
    "    article = article.replace('<저작권자(c) 연합뉴스, 무단 전재-재배포 금지>', '')\n",
    "    article = article.replace('기사제공 연합뉴스', '')\n",
    "    #remove email\n",
    "    #article = re.sub(r'[a-zA-Z0-9_-]+@[a-z]+.[a-z]+.[a-z]+', '', article)\n",
    "    #remove tail\n",
    "    \n",
    "    for sentence in article.split('\\n'):\n",
    "        if not sentence.startswith('▶') : return_article += sentence\n",
    "\n",
    "    return_article = return_article.replace('\\n', ' ')\n",
    "    \n",
    "\n",
    "    return return_article"
   ]
  },
  {
   "cell_type": "code",
   "execution_count": 81,
   "metadata": {},
   "outputs": [
    {
     "name": "stdout",
     "output_type": "stream",
     "text": [
      "    가수 윤종신      가수 윤종신이 데뷔 이래 처음으로 음악방송 1위를 차지했다.       윤종신은 1일 오후 방송된 KBS 2TV '뮤직뱅크'에서 음원차트 1위를 석권한 '좋니'로 워너원의 '에너제틱'을 꺾고 1위 트로피를 거머쥐었다.       1990년 데뷔해 올해로 27주년을 맞은 윤종신이 가요 순위 프로그램에서 첫 1위를 거머쥔 것은 이변이다. 게다가 상대가 '괴물 신인'으로 불리는 워너원이란 점에서 화제다.      가요계에서는 '월간 윤종신'이란 타이틀로 수년에 걸쳐 매월 한 곡씩 신곡을 발표한 윤종신의 느리지만 성실한 행보가 의미 있는 결과를 냈다고 봤다.      지난 6월 22일 미스틱 음원 채널 '리슨'의 10번째 곡으로 공개된 '좋니'는 약 2개월 만에 음원차트 1위에 올라 '롱런' 중이다. 중견 가수가 여름 시즌에 발라드로 승부한 데다, 특별한 홍보 없이 음원의 힘만으로 순위가 상승해 정상까지 올랐다는 점에서 눈길을 끌었다\n"
     ]
    }
   ],
   "source": [
    "print(remove_extras(df['article'][983861]))"
   ]
  },
  {
   "cell_type": "code",
   "execution_count": 82,
   "metadata": {},
   "outputs": [
    {
     "data": {
      "text/plain": [
       "0                   7일 서울 목동야구장에서 열린 프로야구 한국시리즈 3차전 넥센 히...\n",
       "1                   7일 서울 목동야구장에서 열린 프로야구 한국시리즈 3차전 넥센 히...\n",
       "2                   7일 서울 목동야구장에서 열린 프로야구 한국시리즈 3차전 넥센 히...\n",
       "3                   7일 서울 목동야구장에서 열린 프로야구 한국시리즈 3차전 넥센 히...\n",
       "4                   7일 서울 목동야구장에서 열린 프로야구 한국시리즈 3차전 넥센 히...\n",
       "5                   7일 서울 목동야구장에서 열린 프로야구 한국시리즈 3차전 넥센 히...\n",
       "6                   7일 오후 서울 목동야구장에서 열린 프로야구 한국시리즈 3차전 넥...\n",
       "7                   7일 서울 목동야구장에서 열린 프로야구 한국시리즈 3차전 넥센 히...\n",
       "8                   7일 오후 서울 목동야구장에서 열린 프로야구 한국시리즈 3차전 넥...\n",
       "9                   7일 오후 서울 목동야구장에서 열린 프로야구 한국시리즈 3차전 넥...\n",
       "10                  7일 서울 목동야구장에서 열린 프로야구 한국시리즈 3차전 넥센 히...\n",
       "11                  7일 서울 목동야구장에서 열린 프로야구 한국시리즈 3차전 넥센 히...\n",
       "12                  7일 서울 목동야구장에서 열린 프로야구 한국시리즈 3차전 넥센 히...\n",
       "13                  7일 서울 목동야구장에서 열린 프로야구 한국시리즈 3차전 넥센 히...\n",
       "14                  7일 서울 목동야구장에서 열린 프로야구 한국시리즈 3차전 넥센 히...\n",
       "15                  7일 오후 서울 목동야구장에서 열린 프로야구 한국시리즈 3차전 넥...\n",
       "16                  7일 오후 서울 목동야구장에서 열린 프로야구 한국시리즈 3차전 넥...\n",
       "17                  7일 서울 목동야구장에서 열린 프로야구 한국시리즈 3차전 넥센 히...\n",
       "18                  7일 서울 목동야구장에서 열린 프로야구 한국시리즈 3차전 넥센 히...\n",
       "19                  7일 서울 목동야구장에서 열린 프로야구 한국시리즈 3차전 넥센 히...\n",
       "20                  7일 서울 목동야구장에서 열린 프로야구 한국시리즈 3차전 넥센 히...\n",
       "21                  7일 서울 목동야구장에서 열린 프로야구 한국시리즈 3차전 넥센 히...\n",
       "22                  7일 서울 목동야구장에서 열린 프로야구 한국시리즈 3차전 넥센 히...\n",
       "23                  7일 서울 목동야구장에서 열린 프로야구 한국시리즈 3차전 넥센 히...\n",
       "24                  7일 오후 2014 프로야구 한국시리즈 3차전이 열리는 서울 목동...\n",
       "25                  7일 서울 목동야구장에서 열린 프로야구 한국시리즈 3차전 넥센 히...\n",
       "26                  7일 서울 목동야구장에서 열린 프로야구 한국시리즈 3차전 넥센 히...\n",
       "27                  7일 서울 목동야구장에서 열린 프로야구 한국시리즈 3차전 넥센 히...\n",
       "28            2014 브라질 월드컵 조별리그 H조 3차전 한국과의 벨기에전에서 공을 다투...\n",
       "29           볼 바라보는 허윤경       7일 경남 김해 롯데스카이힐 김해CC에서 열린 ...\n",
       "                                ...                        \n",
       "983857          보드먼 \"차량·자전거 조율된 공간 아니라면 돈 낭비일 뿐\"   1992년...\n",
       "983858          홍콩에도 법 적용 추진…홍콩인들 \"일국양제 위배\" 반발  중국의 국기 게...\n",
       "983859         기아차 통상임금 소송, 1심서 노조 일부 승소(CG)   국내 신용평가사들...\n",
       "983860     힘차게 투구하는 LG 선발 허프 1일 오후 서울 잠실야구장에서 열린 2017 프로...\n",
       "983861        가수 윤종신      가수 윤종신이 데뷔 이래 처음으로 음악방송 1위를 차지...\n",
       "983862           충남 아산시가 풍기동 A아파트의 각종 하자 발생과 안전사고 우려에 대해...\n",
       "983863          [편집자 주] 본고는 자료 제공사에서 제공한 것으로, 연합뉴스는 내용에 ...\n",
       "983864         이옥남 자유한국당 혁신위원회 대변인   朴출당 찬반 논란…일부 혁신위원 \"...\n",
       "983865           업무시스템에 '공직기강 핫라인' 마련…비위·부당지시 등 제보   청와대...\n",
       "983866          IS 철수 행렬, 미군에 동진 차단된 후 시리아 내륙 쪽으로 선회    ...\n",
       "983867          \"남경필 지사 내년 선거 위해 졸속으로 사업 계획\"   경기도의회 경제과...\n",
       "983868           우리나라의 65세 이상 고령 인구가 사상 처음 15세 미만 유소년 인구...\n",
       "983869     진종오와 과녁       '사격 황제' 진종오(38·KT)가 제12회 대통령 경호...\n",
       "983870          야권 후보 \"역사적인 날\" 환영…대통령-야권 지지자 간 충돌 재발 우려 ...\n",
       "983871          日고노 \"UN 새 대북제재 협조\"…中왕이 \"대화 중시\"   일본 고노 다...\n",
       "983872         문재인 대통령    문재인 대통령은 1일 \"지금 국민은 정의로운 대한민국을...\n",
       "983873         검찰, MBC 사장 체포영장 발부 (PG) 일러스트  민주·국민의당 \"정당...\n",
       "983874      허윤경, 1타 차 단독 2위, 김인경 공동 5위  쭈타누깐은 이날 12타 잃고 ...\n",
       "983875          전국 출판사 85개, 독서단체 40개 등 239개 기관·단체 참여   국...\n",
       "983876         MBC 김장겸 사장, 험난한 행사장 가는길 MBC 김장겸 사장이 1일 오후...\n",
       "983877          ◇ 보직       ▲ 애드마케팅팀장 이인열   최신 유행 트렌드 총집결...\n",
       "983878               ▲ 독자서비스국장 한규완   최신 유행 트렌드 총집결(클릭!)    \n",
       "983879           전국금융산업노동조합 경남은행지부는 1일 성명을 내고 BNK금융지주 회장...\n",
       "983880          \"이엽우피소 성분 제조·판매한 회사에 민사상 책임 없다\"  백수오    ...\n",
       "983881          야권 후보 \"역사적인 날\" 환영…케냐타 \"판결에 동의 못하지만 존중\"  ...\n",
       "983882          전용 활주로·통제실·정비고 구축…\"무인항공기 클러스터 추진 탄력\"   경...\n",
       "983883         미·러 외교전쟁 격화 (PG)   미국 정부가 러시아의 미국 외교관 추방 ...\n",
       "983884      넥센전서 5⅔이닝 2실점 호투 펼쳐  힘차게 투구하는 LG 선발 허프 1일 오후...\n",
       "983885      SK, 삼성과 올 시즌 맞대결에서 11승 5패 우위  이승엽, 최다 2루타 신기...\n",
       "983886      ▲ 문학전적(1일)      삼 성 220 001 002 - 7      S  ...\n",
       "Name: article, dtype: object"
      ]
     },
     "execution_count": 82,
     "metadata": {},
     "output_type": "execute_result"
    }
   ],
   "source": [
    "df['article'].apply(lambda x: remove_extras(x))"
   ]
  },
  {
   "cell_type": "code",
   "execution_count": 83,
   "metadata": {
    "collapsed": true
   },
   "outputs": [],
   "source": [
    "df['article']=df['article'].apply(lambda x: remove_extras(x))"
   ]
  },
  {
   "cell_type": "code",
   "execution_count": 84,
   "metadata": {
    "collapsed": true
   },
   "outputs": [],
   "source": [
    "counts=df.groupby('section').size()\n",
    "sorted_counts=counts.sort_values(ascending=False)"
   ]
  },
  {
   "cell_type": "code",
   "execution_count": 85,
   "metadata": {},
   "outputs": [
    {
     "data": {
      "text/plain": [
       "section\n",
       "지방행정        115792\n",
       "사회일반        105018\n",
       "국제일반         89138\n",
       "정치일반         86636\n",
       "경제일반         83869\n",
       "야구           24413\n",
       "기업일반         19239\n",
       "산업일반         17992\n",
       "문화일반         15600\n",
       "중앙행정일반       15004\n",
       "축구           14324\n",
       "연예           13546\n",
       "외교일반         13273\n",
       "국방일반         12057\n",
       "재테크          12030\n",
       "대기업          10773\n",
       "북한일반          9749\n",
       "경찰            9309\n",
       "교육일반          9084\n",
       "IT일반          9071\n",
       "골프            8043\n",
       "국회일반          7526\n",
       "스포츠일반         7176\n",
       "소비자           6878\n",
       "증권시장          6756\n",
       "스포츠           6755\n",
       "농구            5702\n",
       "편집일반          5541\n",
       "금융·증권일반       5488\n",
       "대학교육          5215\n",
       "             ...  \n",
       "임대업              4\n",
       "장애인올림픽           3\n",
       "익스트림게임           3\n",
       "신용카드사            3\n",
       "수상경기일반           3\n",
       "기업분석             2\n",
       "무속신앙             2\n",
       "우슈               2\n",
       "교포               2\n",
       "금시세              2\n",
       "국내대회             2\n",
       "OANA             1\n",
       "헤드라인             1\n",
       "개발원조             1\n",
       "증권사              1\n",
       "세팍타크로            1\n",
       "유럽연합             1\n",
       "특허발명             1\n",
       "비치발리볼            1\n",
       "대체의학             1\n",
       "북한사회             1\n",
       "장애아시안게임          1\n",
       "문화관광             1\n",
       "전국소년체전           1\n",
       "기타국내종합경기         1\n",
       "만화일반             1\n",
       "루지               1\n",
       "종합금융사            1\n",
       "증시일정             1\n",
       "아동청소년복지          1\n",
       "dtype: int64"
      ]
     },
     "execution_count": 85,
     "metadata": {},
     "output_type": "execute_result"
    }
   ],
   "source": [
    "sorted_counts"
   ]
  },
  {
   "cell_type": "code",
   "execution_count": 86,
   "metadata": {
    "collapsed": true
   },
   "outputs": [],
   "source": [
    "df.to_pickle('yonhapall.pkl')"
   ]
  },
  {
   "cell_type": "markdown",
   "metadata": {},
   "source": [
    "### Compare Memory Usage\n",
    "\n",
    "```\n",
    "df['article']=pd.Series([val for val in df['article'].str.replace(r'\\r|\\t|\\n|\\/\\/[a-zA-Z가-힣 \\n]+|{}|_flash_removeCallback\\(\\)|[a-zA-Z0-9]+@yonhapnews.co.kr|\\[연합뉴스[a-zA-Z가-힣 ]+\\]|\\([a-zA-Z가-힣· ]+\\=연합뉴스\\)|\\[[a-zA-Z가-힣 ]+\\=연합뉴스\\]|[a-zA-Z가-힣 ]+ 기자 \\=|[a-zA-Z가-힣 ]+ 특파원 \\=','')])\n",
    "```\n",
    "\n",
    "```\n",
    "df['article']=df['article'].str.replace(r'\\[연합뉴스[a-zA-Z가-힣 ]+\\]|\\([a-zA-Z가-힣· ]+\\=연합뉴스\\)|\\[[a-zA-Z가-힣 ]+\\=연합뉴스\\]|[a-zA-Z가-힣 ]+ 기자 \\=|[a-zA-Z가-힣 ]+ 특파원 \\=','')\n",
    "```"
   ]
  },
  {
   "cell_type": "code",
   "execution_count": 18,
   "metadata": {},
   "outputs": [
    {
     "data": {
      "text/plain": [
       "Index              80\n",
       "article    3283185764\n",
       "date         73081132\n",
       "section     100339038\n",
       "title       204226447\n",
       "dtype: int64"
      ]
     },
     "execution_count": 18,
     "metadata": {},
     "output_type": "execute_result"
    }
   ],
   "source": [
    "df.memory_usage(deep=True)"
   ]
  },
  {
   "cell_type": "code",
   "execution_count": 19,
   "metadata": {
    "collapsed": true
   },
   "outputs": [],
   "source": [
    "sorted_counts.to_csv('yonhapall.csv')"
   ]
  },
  {
   "cell_type": "code",
   "execution_count": null,
   "metadata": {
    "collapsed": true
   },
   "outputs": [],
   "source": []
  }
 ],
 "metadata": {
  "kernelspec": {
   "display_name": "Python 3",
   "language": "python",
   "name": "python3"
  },
  "language_info": {
   "codemirror_mode": {
    "name": "ipython",
    "version": 3
   },
   "file_extension": ".py",
   "mimetype": "text/x-python",
   "name": "python",
   "nbconvert_exporter": "python",
   "pygments_lexer": "ipython3",
   "version": "3.6.2"
  }
 },
 "nbformat": 4,
 "nbformat_minor": 1
}
