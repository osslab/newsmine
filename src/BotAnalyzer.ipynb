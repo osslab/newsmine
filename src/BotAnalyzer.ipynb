{
 "cells": [
  {
   "cell_type": "code",
   "execution_count": 15,
   "metadata": {
    "collapsed": false,
    "deletable": true,
    "editable": true
   },
   "outputs": [],
   "source": [
    "from konlpy.tag import Mecab\n",
    "from konlpy.tag import Twitter\n",
    "\n",
    "\n",
    "class BotAnalyzer:\n",
    "\n",
    "    empCount = 0\n",
    "    timeEntity = ['어제', '오늘', '이번주', '지난주', '이번달', '올해', '금년', '지난해', '금주']\n",
    "    mediaEntity = ['매일경제', '머니투데이', '동아일보', '조선일보', '연합뉴스', '한겨레', '에스비에스', 'ytn'\n",
    "                   , '케이비에스', '노컷뉴스', '문화방송', 'mbc', 'kbs', 'sbs', 'jtbc', '중앙일보', '경향신문', '오마이뉴스']    \n",
    "    sectionEntity = ['정치', '경제', '사회', '문화', '생활', '과학'] \n",
    "    stopWords = ['뉴스', '섹션', '소식', '검색']\n",
    "\n",
    "    \n",
    "    \n",
    "    def __init__(self, user, sentence):\n",
    "        self.user = user\n",
    "        self.sentence = sentence\n",
    "        self.tagger = Twitter()\n",
    "      \n",
    "    def displayResult(self):\n",
    "        returnDict = {'user':self.user, 'media':[], 'time':[], 'section':[], 'keyword':[], 'intent':[0,0,0,0]}\n",
    "        words = self.tagger.pos(self.sentence.lower())\n",
    "        print(words)\n",
    "        for word in words:\n",
    "            if(word[0] in self.mediaEntity) : \n",
    "                returnDict['intent'][0] = 1\n",
    "                returnDict['media'].append(word[0])\n",
    "            if(word[0] in self.timeEntity) : \n",
    "                returnDict['intent'][1] = 1\n",
    "                returnDict['time'].append(word[0])\n",
    "            if(word[0] in self.sectionEntity) : \n",
    "                returnDict['intent'][2] = 1                \n",
    "                returnDict['section'].append(word[0])\n",
    "            #if(word[1] in ['NNP', 'NNG'] \n",
    "            if(word[1] in ['Noun'] \n",
    "               and word[0] not in self.sectionEntity\n",
    "               and word[0] not in self.timeEntity\n",
    "               and word[0] not in self.mediaEntity\n",
    "               and word[0] not in self.stopWords) :\n",
    "                returnDict['intent'][3] = 1                                \n",
    "                returnDict['keyword'].append(word[0])\n",
    "                \n",
    "        print(returnDict)\n",
    "        # INTENT\n",
    "        # NONE 0000\n",
    "        # SEARCH_BY_MEDIA 1000 -> 16\n",
    "        # SEARCH_BY_TIME  0100 -> 8\n",
    "        # SEARCH_BY_SECTION 0010 -> 4\n",
    "        # SEARCH_BY_KEYWORD 0001 -> 2\n",
    "        \n"
   ]
  },
  {
   "cell_type": "code",
   "execution_count": 19,
   "metadata": {
    "collapsed": false
   },
   "outputs": [
    {
     "name": "stdout",
     "output_type": "stream",
     "text": [
      "[('오늘', 'Noun'), ('kbs', 'Alpha'), ('에서', 'Noun'), ('청와대', 'Noun'), ('압수수색', 'Noun'), ('소식', 'Noun'), ('을', 'Josa'), ('검색', 'Noun'), ('해', 'Josa'), ('줰', 'Noun')]\n",
      "{'time': ['오늘'], 'keyword': ['에서', '청와대', '압수수색', '줰'], 'intent': [1, 1, 0, 1], 'section': [], 'media': ['kbs'], 'user': 'test'}\n"
     ]
    }
   ],
   "source": [
    "test = BotAnalyzer(\"test\", \"오늘 kbs에서 청와대 압수수색 소식을 검색해줰\")\n",
    "test.displayResult()"
   ]
  },
  {
   "cell_type": "code",
   "execution_count": null,
   "metadata": {
    "collapsed": true
   },
   "outputs": [],
   "source": []
  }
 ],
 "metadata": {
  "kernelspec": {
   "display_name": "Python 3",
   "language": "python",
   "name": "python3"
  },
  "language_info": {
   "codemirror_mode": {
    "name": "ipython",
    "version": 3
   },
   "file_extension": ".py",
   "mimetype": "text/x-python",
   "name": "python",
   "nbconvert_exporter": "python",
   "pygments_lexer": "ipython3",
   "version": "3.5.2"
  }
 },
 "nbformat": 4,
 "nbformat_minor": 2
}
