{
 "cells": [
  {
   "cell_type": "code",
   "execution_count": 1,
   "metadata": {
    "collapsed": true
   },
   "outputs": [],
   "source": [
    "import pandas as pd\n",
    "df = pd.read_pickle('kbl_preprocessed.pkl')"
   ]
  },
  {
   "cell_type": "code",
   "execution_count": 5,
   "metadata": {},
   "outputs": [
    {
     "data": {
      "text/html": [
       "\n",
       "    <div class=\"bk-root\">\n",
       "        <a href=\"http://bokeh.pydata.org\" target=\"_blank\" class=\"bk-logo bk-logo-small bk-logo-notebook\"></a>\n",
       "        <span id=\"a7504170-c1c4-48c2-bcdb-698930f60dd8\">Loading BokehJS ...</span>\n",
       "    </div>"
      ]
     },
     "metadata": {},
     "output_type": "display_data"
    },
    {
     "data": {
      "application/javascript": [
       "\n",
       "(function(global) {\n",
       "  function now() {\n",
       "    return new Date();\n",
       "  }\n",
       "\n",
       "  var force = true;\n",
       "\n",
       "  if (typeof (window._bokeh_onload_callbacks) === \"undefined\" || force === true) {\n",
       "    window._bokeh_onload_callbacks = [];\n",
       "    window._bokeh_is_loading = undefined;\n",
       "  }\n",
       "\n",
       "\n",
       "  \n",
       "  if (typeof (window._bokeh_timeout) === \"undefined\" || force === true) {\n",
       "    window._bokeh_timeout = Date.now() + 5000;\n",
       "    window._bokeh_failed_load = false;\n",
       "  }\n",
       "\n",
       "  var NB_LOAD_WARNING = {'data': {'text/html':\n",
       "     \"<div style='background-color: #fdd'>\\n\"+\n",
       "     \"<p>\\n\"+\n",
       "     \"BokehJS does not appear to have successfully loaded. If loading BokehJS from CDN, this \\n\"+\n",
       "     \"may be due to a slow or bad network connection. Possible fixes:\\n\"+\n",
       "     \"</p>\\n\"+\n",
       "     \"<ul>\\n\"+\n",
       "     \"<li>re-rerun `output_notebook()` to attempt to load from CDN again, or</li>\\n\"+\n",
       "     \"<li>use INLINE resources instead, as so:</li>\\n\"+\n",
       "     \"</ul>\\n\"+\n",
       "     \"<code>\\n\"+\n",
       "     \"from bokeh.resources import INLINE\\n\"+\n",
       "     \"output_notebook(resources=INLINE)\\n\"+\n",
       "     \"</code>\\n\"+\n",
       "     \"</div>\"}};\n",
       "\n",
       "  function display_loaded() {\n",
       "    if (window.Bokeh !== undefined) {\n",
       "      var el = document.getElementById(\"a7504170-c1c4-48c2-bcdb-698930f60dd8\");\n",
       "      el.textContent = \"BokehJS \" + Bokeh.version + \" successfully loaded.\";\n",
       "    } else if (Date.now() < window._bokeh_timeout) {\n",
       "      setTimeout(display_loaded, 100)\n",
       "    }\n",
       "  }\n",
       "\n",
       "  function run_callbacks() {\n",
       "    try {\n",
       "      window._bokeh_onload_callbacks.forEach(function(callback) { callback() });\n",
       "    }\n",
       "    finally {\n",
       "      delete window._bokeh_onload_callbacks\n",
       "    }\n",
       "    console.info(\"Bokeh: all callbacks have finished\");\n",
       "  }\n",
       "\n",
       "  function load_libs(js_urls, callback) {\n",
       "    window._bokeh_onload_callbacks.push(callback);\n",
       "    if (window._bokeh_is_loading > 0) {\n",
       "      console.log(\"Bokeh: BokehJS is being loaded, scheduling callback at\", now());\n",
       "      return null;\n",
       "    }\n",
       "    if (js_urls == null || js_urls.length === 0) {\n",
       "      run_callbacks();\n",
       "      return null;\n",
       "    }\n",
       "    console.log(\"Bokeh: BokehJS not loaded, scheduling load and callback at\", now());\n",
       "    window._bokeh_is_loading = js_urls.length;\n",
       "    for (var i = 0; i < js_urls.length; i++) {\n",
       "      var url = js_urls[i];\n",
       "      var s = document.createElement('script');\n",
       "      s.src = url;\n",
       "      s.async = false;\n",
       "      s.onreadystatechange = s.onload = function() {\n",
       "        window._bokeh_is_loading--;\n",
       "        if (window._bokeh_is_loading === 0) {\n",
       "          console.log(\"Bokeh: all BokehJS libraries loaded\");\n",
       "          run_callbacks()\n",
       "        }\n",
       "      };\n",
       "      s.onerror = function() {\n",
       "        console.warn(\"failed to load library \" + url);\n",
       "      };\n",
       "      console.log(\"Bokeh: injecting script tag for BokehJS library: \", url);\n",
       "      document.getElementsByTagName(\"head\")[0].appendChild(s);\n",
       "    }\n",
       "  };var element = document.getElementById(\"a7504170-c1c4-48c2-bcdb-698930f60dd8\");\n",
       "  if (element == null) {\n",
       "    console.log(\"Bokeh: ERROR: autoload.js configured with elementid 'a7504170-c1c4-48c2-bcdb-698930f60dd8' but no matching script tag was found. \")\n",
       "    return false;\n",
       "  }\n",
       "\n",
       "  var js_urls = [\"https://cdn.pydata.org/bokeh/release/bokeh-0.12.6.min.js\", \"https://cdn.pydata.org/bokeh/release/bokeh-widgets-0.12.6.min.js\"];\n",
       "\n",
       "  var inline_js = [\n",
       "    function(Bokeh) {\n",
       "      Bokeh.set_log_level(\"info\");\n",
       "    },\n",
       "    \n",
       "    function(Bokeh) {\n",
       "      \n",
       "    },\n",
       "    \n",
       "    function(Bokeh) {\n",
       "      \n",
       "      document.getElementById(\"a7504170-c1c4-48c2-bcdb-698930f60dd8\").textContent = \"BokehJS is loading...\";\n",
       "    },\n",
       "    function(Bokeh) {\n",
       "      console.log(\"Bokeh: injecting CSS: https://cdn.pydata.org/bokeh/release/bokeh-0.12.6.min.css\");\n",
       "      Bokeh.embed.inject_css(\"https://cdn.pydata.org/bokeh/release/bokeh-0.12.6.min.css\");\n",
       "      console.log(\"Bokeh: injecting CSS: https://cdn.pydata.org/bokeh/release/bokeh-widgets-0.12.6.min.css\");\n",
       "      Bokeh.embed.inject_css(\"https://cdn.pydata.org/bokeh/release/bokeh-widgets-0.12.6.min.css\");\n",
       "    }\n",
       "  ];\n",
       "\n",
       "  function run_inline_js() {\n",
       "    \n",
       "    if ((window.Bokeh !== undefined) || (force === true)) {\n",
       "      for (var i = 0; i < inline_js.length; i++) {\n",
       "        inline_js[i](window.Bokeh);\n",
       "      }if (force === true) {\n",
       "        display_loaded();\n",
       "      }} else if (Date.now() < window._bokeh_timeout) {\n",
       "      setTimeout(run_inline_js, 100);\n",
       "    } else if (!window._bokeh_failed_load) {\n",
       "      console.log(\"Bokeh: BokehJS failed to load within specified timeout.\");\n",
       "      window._bokeh_failed_load = true;\n",
       "    } else if (force !== true) {\n",
       "      var cell = $(document.getElementById(\"a7504170-c1c4-48c2-bcdb-698930f60dd8\")).parents('.cell').data().cell;\n",
       "      cell.output_area.append_execute_result(NB_LOAD_WARNING)\n",
       "    }\n",
       "\n",
       "  }\n",
       "\n",
       "  if (window._bokeh_is_loading === 0) {\n",
       "    console.log(\"Bokeh: BokehJS loaded, going straight to plotting\");\n",
       "    run_inline_js();\n",
       "  } else {\n",
       "    load_libs(js_urls, function() {\n",
       "      console.log(\"Bokeh: BokehJS plotting callback run at\", now());\n",
       "      run_inline_js();\n",
       "    });\n",
       "  }\n",
       "}(this));"
      ]
     },
     "metadata": {},
     "output_type": "display_data"
    }
   ],
   "source": [
    "from bkcharts import Histogram\n",
    "from bkcharts import defaults, show, output_file\n",
    "from bokeh.io import output_notebook\n",
    "\n",
    "output_notebook()"
   ]
  },
  {
   "cell_type": "code",
   "execution_count": 9,
   "metadata": {},
   "outputs": [
    {
     "data": {
      "text/html": [
       "\n",
       "\n",
       "    <div class=\"bk-root\">\n",
       "        <div class=\"bk-plotdiv\" id=\"2dc2d793-4a5f-4b67-9739-88916f8cd711\"></div>\n",
       "    </div>\n",
       "<script type=\"text/javascript\">\n",
       "  \n",
       "  (function(global) {\n",
       "    function now() {\n",
       "      return new Date();\n",
       "    }\n",
       "  \n",
       "    var force = false;\n",
       "  \n",
       "    if (typeof (window._bokeh_onload_callbacks) === \"undefined\" || force === true) {\n",
       "      window._bokeh_onload_callbacks = [];\n",
       "      window._bokeh_is_loading = undefined;\n",
       "    }\n",
       "  \n",
       "  \n",
       "    \n",
       "    if (typeof (window._bokeh_timeout) === \"undefined\" || force === true) {\n",
       "      window._bokeh_timeout = Date.now() + 0;\n",
       "      window._bokeh_failed_load = false;\n",
       "    }\n",
       "  \n",
       "    var NB_LOAD_WARNING = {'data': {'text/html':\n",
       "       \"<div style='background-color: #fdd'>\\n\"+\n",
       "       \"<p>\\n\"+\n",
       "       \"BokehJS does not appear to have successfully loaded. If loading BokehJS from CDN, this \\n\"+\n",
       "       \"may be due to a slow or bad network connection. Possible fixes:\\n\"+\n",
       "       \"</p>\\n\"+\n",
       "       \"<ul>\\n\"+\n",
       "       \"<li>re-rerun `output_notebook()` to attempt to load from CDN again, or</li>\\n\"+\n",
       "       \"<li>use INLINE resources instead, as so:</li>\\n\"+\n",
       "       \"</ul>\\n\"+\n",
       "       \"<code>\\n\"+\n",
       "       \"from bokeh.resources import INLINE\\n\"+\n",
       "       \"output_notebook(resources=INLINE)\\n\"+\n",
       "       \"</code>\\n\"+\n",
       "       \"</div>\"}};\n",
       "  \n",
       "    function display_loaded() {\n",
       "      if (window.Bokeh !== undefined) {\n",
       "        var el = document.getElementById(\"2dc2d793-4a5f-4b67-9739-88916f8cd711\");\n",
       "        el.textContent = \"BokehJS \" + Bokeh.version + \" successfully loaded.\";\n",
       "      } else if (Date.now() < window._bokeh_timeout) {\n",
       "        setTimeout(display_loaded, 100)\n",
       "      }\n",
       "    }\n",
       "  \n",
       "    function run_callbacks() {\n",
       "      try {\n",
       "        window._bokeh_onload_callbacks.forEach(function(callback) { callback() });\n",
       "      }\n",
       "      finally {\n",
       "        delete window._bokeh_onload_callbacks\n",
       "      }\n",
       "      console.info(\"Bokeh: all callbacks have finished\");\n",
       "    }\n",
       "  \n",
       "    function load_libs(js_urls, callback) {\n",
       "      window._bokeh_onload_callbacks.push(callback);\n",
       "      if (window._bokeh_is_loading > 0) {\n",
       "        console.log(\"Bokeh: BokehJS is being loaded, scheduling callback at\", now());\n",
       "        return null;\n",
       "      }\n",
       "      if (js_urls == null || js_urls.length === 0) {\n",
       "        run_callbacks();\n",
       "        return null;\n",
       "      }\n",
       "      console.log(\"Bokeh: BokehJS not loaded, scheduling load and callback at\", now());\n",
       "      window._bokeh_is_loading = js_urls.length;\n",
       "      for (var i = 0; i < js_urls.length; i++) {\n",
       "        var url = js_urls[i];\n",
       "        var s = document.createElement('script');\n",
       "        s.src = url;\n",
       "        s.async = false;\n",
       "        s.onreadystatechange = s.onload = function() {\n",
       "          window._bokeh_is_loading--;\n",
       "          if (window._bokeh_is_loading === 0) {\n",
       "            console.log(\"Bokeh: all BokehJS libraries loaded\");\n",
       "            run_callbacks()\n",
       "          }\n",
       "        };\n",
       "        s.onerror = function() {\n",
       "          console.warn(\"failed to load library \" + url);\n",
       "        };\n",
       "        console.log(\"Bokeh: injecting script tag for BokehJS library: \", url);\n",
       "        document.getElementsByTagName(\"head\")[0].appendChild(s);\n",
       "      }\n",
       "    };var element = document.getElementById(\"2dc2d793-4a5f-4b67-9739-88916f8cd711\");\n",
       "    if (element == null) {\n",
       "      console.log(\"Bokeh: ERROR: autoload.js configured with elementid '2dc2d793-4a5f-4b67-9739-88916f8cd711' but no matching script tag was found. \")\n",
       "      return false;\n",
       "    }\n",
       "  \n",
       "    var js_urls = [];\n",
       "  \n",
       "    var inline_js = [\n",
       "      function(Bokeh) {\n",
       "        (function() {\n",
       "          var fn = function() {\n",
       "            var docs_json = {\"f321feb1-8bfb-4b7a-96ee-aa8c02490452\":{\"roots\":{\"references\":[{\"attributes\":{\"fill_alpha\":{\"field\":\"fill_alpha\"},\"fill_color\":{\"field\":\"color\"},\"height\":{\"field\":\"height\",\"units\":\"data\"},\"line_color\":{\"field\":\"line_color\"},\"width\":{\"field\":\"width\",\"units\":\"data\"},\"x\":{\"field\":\"x\"},\"y\":{\"field\":\"y\"}},\"id\":\"60d3cfad-aa3e-4838-984b-1366a392775b\",\"type\":\"Rect\"},{\"attributes\":{\"callback\":null,\"column_names\":[\"x\",\"y\",\"width\",\"height\",\"color\",\"fill_alpha\",\"line_color\",\"line_alpha\",\"label\"],\"data\":{\"chart_index\":[\"(2819.060000, 2849.050000]\"],\"color\":[\"#f22c40\"],\"fill_alpha\":[0.8],\"height\":[83.0],\"label\":[\"(2819.060000, 2849.050000]\"],\"line_alpha\":[1.0],\"line_color\":[\"black\"],\"width\":[29.98999999999978],\"x\":[\"2834.0550000000003\"],\"y\":[41.5]}},\"id\":\"a6be19f1-b64f-4943-9a34-c39015dd379b\",\"type\":\"ColumnDataSource\"},{\"attributes\":{\"data_source\":{\"id\":\"bc64ba64-2fd1-40a2-ad02-0571e2862dae\",\"type\":\"ColumnDataSource\"},\"glyph\":{\"id\":\"0e463371-d546-4dba-b885-e58679cd5644\",\"type\":\"Rect\"},\"hover_glyph\":null,\"muted_glyph\":null},\"id\":\"12a408f3-6296-427c-9023-d0117f240861\",\"type\":\"GlyphRenderer\"},{\"attributes\":{\"data_source\":{\"id\":\"a6168d85-b45b-4f00-83ac-d814e9e6b0bc\",\"type\":\"ColumnDataSource\"},\"glyph\":{\"id\":\"0b0973dc-c09c-401a-bf62-43b989a4c3e8\",\"type\":\"Rect\"},\"hover_glyph\":null,\"muted_glyph\":null},\"id\":\"ea717030-77fe-4728-8fc8-c44512dd7c0c\",\"type\":\"GlyphRenderer\"},{\"attributes\":{\"data_source\":{\"id\":\"b13ed1c2-6a89-40cf-9523-b17662a66a7d\",\"type\":\"ColumnDataSource\"},\"glyph\":{\"id\":\"b3da9af6-f518-4a31-87f8-e1d030ac6f53\",\"type\":\"Rect\"},\"hover_glyph\":null,\"muted_glyph\":null},\"id\":\"954dc782-7098-4625-959a-66b596a9dc5d\",\"type\":\"GlyphRenderer\"},{\"attributes\":{\"fill_alpha\":{\"field\":\"fill_alpha\"},\"fill_color\":{\"field\":\"color\"},\"height\":{\"field\":\"height\",\"units\":\"data\"},\"line_color\":{\"field\":\"line_color\"},\"width\":{\"field\":\"width\",\"units\":\"data\"},\"x\":{\"field\":\"x\"},\"y\":{\"field\":\"y\"}},\"id\":\"72c7ad09-2c5b-4a74-85c8-156c7770555c\",\"type\":\"Rect\"},{\"attributes\":{\"fill_alpha\":{\"field\":\"fill_alpha\"},\"fill_color\":{\"field\":\"color\"},\"height\":{\"field\":\"height\",\"units\":\"data\"},\"line_color\":{\"field\":\"line_color\"},\"width\":{\"field\":\"width\",\"units\":\"data\"},\"x\":{\"field\":\"x\"},\"y\":{\"field\":\"y\"}},\"id\":\"d0dea70c-a0ce-4028-ab61-711fbc0d524b\",\"type\":\"Rect\"},{\"attributes\":{\"callback\":null,\"column_names\":[\"x\",\"y\",\"width\",\"height\",\"color\",\"fill_alpha\",\"line_color\",\"line_alpha\",\"label\"],\"data\":{\"chart_index\":[\"(2789.070000, 2819.060000]\"],\"color\":[\"#f22c40\"],\"fill_alpha\":[0.8],\"height\":[103.0],\"label\":[\"(2789.070000, 2819.060000]\"],\"line_alpha\":[1.0],\"line_color\":[\"black\"],\"width\":[29.990000000000236],\"x\":[\"2804.065\"],\"y\":[51.5]}},\"id\":\"9570a495-8840-4289-9e39-0e1a7287d5e8\",\"type\":\"ColumnDataSource\"},{\"attributes\":{\"data_source\":{\"id\":\"c6b91bb4-7abb-4e10-8479-58c0626d8da7\",\"type\":\"ColumnDataSource\"},\"glyph\":{\"id\":\"64f5f55e-f59e-4884-8159-e9b908f667e2\",\"type\":\"Rect\"},\"hover_glyph\":null,\"muted_glyph\":null},\"id\":\"a4c30cfe-f847-4356-acd9-681fd47e2279\",\"type\":\"GlyphRenderer\"},{\"attributes\":{\"fill_alpha\":{\"field\":\"fill_alpha\"},\"fill_color\":{\"field\":\"color\"},\"height\":{\"field\":\"height\",\"units\":\"data\"},\"line_color\":{\"field\":\"line_color\"},\"width\":{\"field\":\"width\",\"units\":\"data\"},\"x\":{\"field\":\"x\"},\"y\":{\"field\":\"y\"}},\"id\":\"7d09a670-ec7e-4cc2-beb7-c81109f40fe8\",\"type\":\"Rect\"},{\"attributes\":{\"data_source\":{\"id\":\"6238b28c-7570-4d73-bea5-d60680461a1f\",\"type\":\"ColumnDataSource\"},\"glyph\":{\"id\":\"007a4794-90c8-46a2-9264-f7a8f835ff1f\",\"type\":\"Rect\"},\"hover_glyph\":null,\"muted_glyph\":null},\"id\":\"16419594-52a0-46d3-a640-d153d9f53c07\",\"type\":\"GlyphRenderer\"},{\"attributes\":{\"fill_alpha\":{\"field\":\"fill_alpha\"},\"fill_color\":{\"field\":\"color\"},\"height\":{\"field\":\"height\",\"units\":\"data\"},\"line_color\":{\"field\":\"line_color\"},\"width\":{\"field\":\"width\",\"units\":\"data\"},\"x\":{\"field\":\"x\"},\"y\":{\"field\":\"y\"}},\"id\":\"16bd67be-101d-4bdb-9954-625c17681019\",\"type\":\"Rect\"},{\"attributes\":{\"callback\":null,\"column_names\":[\"x\",\"y\",\"width\",\"height\",\"color\",\"fill_alpha\",\"line_color\",\"line_alpha\",\"label\"],\"data\":{\"chart_index\":[\"(2339.220000, 2369.210000]\"],\"color\":[\"#f22c40\"],\"fill_alpha\":[0.8],\"height\":[195.0],\"label\":[\"(2339.220000, 2369.210000]\"],\"line_alpha\":[1.0],\"line_color\":[\"black\"],\"width\":[29.990000000000236],\"x\":[\"2354.215\"],\"y\":[97.5]}},\"id\":\"a6168d85-b45b-4f00-83ac-d814e9e6b0bc\",\"type\":\"ColumnDataSource\"},{\"attributes\":{\"data_source\":{\"id\":\"452e041e-196e-4e59-89cb-b93fdebcd806\",\"type\":\"ColumnDataSource\"},\"glyph\":{\"id\":\"16bd67be-101d-4bdb-9954-625c17681019\",\"type\":\"Rect\"},\"hover_glyph\":null,\"muted_glyph\":null},\"id\":\"e9405ae1-4807-4738-b4a3-8ce8e25f3c32\",\"type\":\"GlyphRenderer\"},{\"attributes\":{\"data_source\":{\"id\":\"d601ae67-4a28-4f38-843b-8d49aaa6049e\",\"type\":\"ColumnDataSource\"},\"glyph\":{\"id\":\"7d09a670-ec7e-4cc2-beb7-c81109f40fe8\",\"type\":\"Rect\"},\"hover_glyph\":null,\"muted_glyph\":null},\"id\":\"fdc0cf14-4bd3-4162-b317-b7f27905af51\",\"type\":\"GlyphRenderer\"},{\"attributes\":{},\"id\":\"30299d17-557f-4957-a6c9-8921e243a905\",\"type\":\"BasicTickFormatter\"},{\"attributes\":{\"callback\":null,\"column_names\":[\"x\",\"y\",\"width\",\"height\",\"color\",\"fill_alpha\",\"line_color\",\"line_alpha\",\"label\"],\"data\":{\"chart_index\":[\"(2399.200000, 2429.190000]\"],\"color\":[\"#f22c40\"],\"fill_alpha\":[0.8],\"height\":[167.0],\"label\":[\"(2399.200000, 2429.190000]\"],\"line_alpha\":[1.0],\"line_color\":[\"black\"],\"width\":[29.990000000000236],\"x\":[\"2414.1949999999997\"],\"y\":[83.5]}},\"id\":\"6238b28c-7570-4d73-bea5-d60680461a1f\",\"type\":\"ColumnDataSource\"},{\"attributes\":{\"fill_alpha\":{\"field\":\"fill_alpha\"},\"fill_color\":{\"field\":\"color\"},\"height\":{\"field\":\"height\",\"units\":\"data\"},\"line_color\":{\"field\":\"line_color\"},\"width\":{\"field\":\"width\",\"units\":\"data\"},\"x\":{\"field\":\"x\"},\"y\":{\"field\":\"y\"}},\"id\":\"8e49c031-9730-46fb-b865-1da4174384a3\",\"type\":\"Rect\"},{\"attributes\":{\"fill_alpha\":{\"field\":\"fill_alpha\"},\"fill_color\":{\"field\":\"color\"},\"height\":{\"field\":\"height\",\"units\":\"data\"},\"line_color\":{\"field\":\"line_color\"},\"width\":{\"field\":\"width\",\"units\":\"data\"},\"x\":{\"field\":\"x\"},\"y\":{\"field\":\"y\"}},\"id\":\"37ae1db0-eeb4-4d05-9c6c-5971bafe9b14\",\"type\":\"Rect\"},{\"attributes\":{\"callback\":null,\"column_names\":[\"x\",\"y\",\"width\",\"height\",\"color\",\"fill_alpha\",\"line_color\",\"line_alpha\",\"label\"],\"data\":{\"chart_index\":[\"(2729.090000, 2759.080000]\"],\"color\":[\"#f22c40\"],\"fill_alpha\":[0.8],\"height\":[97.0],\"label\":[\"(2729.090000, 2759.080000]\"],\"line_alpha\":[1.0],\"line_color\":[\"black\"],\"width\":[29.990000000000236],\"x\":[\"2744.085\"],\"y\":[48.5]}},\"id\":\"d601ae67-4a28-4f38-843b-8d49aaa6049e\",\"type\":\"ColumnDataSource\"},{\"attributes\":{\"data_source\":{\"id\":\"2575fc1b-9815-49fa-b0a1-7fbea7f03ca5\",\"type\":\"ColumnDataSource\"},\"glyph\":{\"id\":\"60d3cfad-aa3e-4838-984b-1366a392775b\",\"type\":\"Rect\"},\"hover_glyph\":null,\"muted_glyph\":null},\"id\":\"29dddb6e-fce4-421d-8232-35854453cfd5\",\"type\":\"GlyphRenderer\"},{\"attributes\":{\"data_source\":{\"id\":\"3e9caf3d-3f27-4c69-81b5-f569924489a5\",\"type\":\"ColumnDataSource\"},\"glyph\":{\"id\":\"1bba4f8b-8269-4b23-ab09-3eba3e64b2f2\",\"type\":\"Rect\"},\"hover_glyph\":null,\"muted_glyph\":null},\"id\":\"a83b0431-da8e-4a7c-a92d-81dc34af4e8c\",\"type\":\"GlyphRenderer\"},{\"attributes\":{\"callback\":null,\"column_names\":[\"x\",\"y\",\"width\",\"height\",\"color\",\"fill_alpha\",\"line_color\",\"line_alpha\",\"label\"],\"data\":{\"chart_index\":[\"(689.770000, 719.760000]\"],\"color\":[\"#f22c40\"],\"fill_alpha\":[0.8],\"height\":[4315.0],\"label\":[\"(689.770000, 719.760000]\"],\"line_alpha\":[1.0],\"line_color\":[\"black\"],\"width\":[29.99000000000001],\"x\":[\"704.765\"],\"y\":[2157.5]}},\"id\":\"452e041e-196e-4e59-89cb-b93fdebcd806\",\"type\":\"ColumnDataSource\"},{\"attributes\":{\"fill_alpha\":{\"field\":\"fill_alpha\"},\"fill_color\":{\"field\":\"color\"},\"height\":{\"field\":\"height\",\"units\":\"data\"},\"line_color\":{\"field\":\"line_color\"},\"width\":{\"field\":\"width\",\"units\":\"data\"},\"x\":{\"field\":\"x\"},\"y\":{\"field\":\"y\"}},\"id\":\"74cad8b6-2bf3-44f8-b041-c969f2d4b8da\",\"type\":\"Rect\"},{\"attributes\":{\"data_source\":{\"id\":\"4e25e204-3e5d-423e-94ec-6d5af6708db7\",\"type\":\"ColumnDataSource\"},\"glyph\":{\"id\":\"2b19b6d2-86de-476a-a8ae-bfb1b5171188\",\"type\":\"Rect\"},\"hover_glyph\":null,\"muted_glyph\":null},\"id\":\"8dd94bbb-c5fa-4168-9330-44d987cd3c33\",\"type\":\"GlyphRenderer\"},{\"attributes\":{\"data_source\":{\"id\":\"95cbb1b7-dd4a-45cb-8419-7d3f1e5990f3\",\"type\":\"ColumnDataSource\"},\"glyph\":{\"id\":\"d0dea70c-a0ce-4028-ab61-711fbc0d524b\",\"type\":\"Rect\"},\"hover_glyph\":null,\"muted_glyph\":null},\"id\":\"cbb0bea2-9f25-47db-9604-77cf579bf98a\",\"type\":\"GlyphRenderer\"},{\"attributes\":{\"data_source\":{\"id\":\"712d3813-a3ff-4a1c-8d46-36c4053af839\",\"type\":\"ColumnDataSource\"},\"glyph\":{\"id\":\"74cad8b6-2bf3-44f8-b041-c969f2d4b8da\",\"type\":\"Rect\"},\"hover_glyph\":null,\"muted_glyph\":null},\"id\":\"561e085f-97e6-4080-8d06-a71dc9a396b3\",\"type\":\"GlyphRenderer\"},{\"attributes\":{\"data_source\":{\"id\":\"a6be19f1-b64f-4943-9a34-c39015dd379b\",\"type\":\"ColumnDataSource\"},\"glyph\":{\"id\":\"59598e89-253b-44d7-9f3b-8de77aa448ff\",\"type\":\"Rect\"},\"hover_glyph\":null,\"muted_glyph\":null},\"id\":\"7deabc12-4f47-4f3e-b1de-e9b66f789e9d\",\"type\":\"GlyphRenderer\"},{\"attributes\":{\"callback\":null,\"column_names\":[\"x\",\"y\",\"width\",\"height\",\"color\",\"fill_alpha\",\"line_color\",\"line_alpha\",\"label\"],\"data\":{\"chart_index\":[\"(2429.190000, 2459.180000]\"],\"color\":[\"#f22c40\"],\"fill_alpha\":[0.8],\"height\":[176.0],\"label\":[\"(2429.190000, 2459.180000]\"],\"line_alpha\":[1.0],\"line_color\":[\"black\"],\"width\":[29.98999999999978],\"x\":[\"2444.185\"],\"y\":[88.0]}},\"id\":\"2575fc1b-9815-49fa-b0a1-7fbea7f03ca5\",\"type\":\"ColumnDataSource\"},{\"attributes\":{\"fill_alpha\":{\"field\":\"fill_alpha\"},\"fill_color\":{\"field\":\"color\"},\"height\":{\"field\":\"height\",\"units\":\"data\"},\"line_color\":{\"field\":\"line_color\"},\"width\":{\"field\":\"width\",\"units\":\"data\"},\"x\":{\"field\":\"x\"},\"y\":{\"field\":\"y\"}},\"id\":\"6cc218d5-7e38-4eaa-a22a-844aab1bc6f3\",\"type\":\"Rect\"},{\"attributes\":{\"callback\":null,\"column_names\":[\"x\",\"y\",\"width\",\"height\",\"color\",\"fill_alpha\",\"line_color\",\"line_alpha\",\"label\"],\"data\":{\"chart_index\":[\"(2759.080000, 2789.070000]\"],\"color\":[\"#f22c40\"],\"fill_alpha\":[0.8],\"height\":[117.0],\"label\":[\"(2759.080000, 2789.070000]\"],\"line_alpha\":[1.0],\"line_color\":[\"black\"],\"width\":[29.98999999999978],\"x\":[\"2774.075\"],\"y\":[58.5]}},\"id\":\"95cbb1b7-dd4a-45cb-8419-7d3f1e5990f3\",\"type\":\"ColumnDataSource\"},{\"attributes\":{\"data_source\":{\"id\":\"d2c2c48a-ae0e-4fc8-8114-884c81da32db\",\"type\":\"ColumnDataSource\"},\"glyph\":{\"id\":\"8e49c031-9730-46fb-b865-1da4174384a3\",\"type\":\"Rect\"},\"hover_glyph\":null,\"muted_glyph\":null},\"id\":\"27d826f1-1881-4b6a-95be-9e60d7367b23\",\"type\":\"GlyphRenderer\"},{\"attributes\":{\"callback\":null,\"column_names\":[\"x\",\"y\",\"width\",\"height\",\"color\",\"fill_alpha\",\"line_color\",\"line_alpha\",\"label\"],\"data\":{\"chart_index\":[\"(719.760000, 749.750000]\"],\"color\":[\"#f22c40\"],\"fill_alpha\":[0.8],\"height\":[4391.0],\"label\":[\"(719.760000, 749.750000]\"],\"line_alpha\":[1.0],\"line_color\":[\"black\"],\"width\":[29.99000000000001],\"x\":[\"734.755\"],\"y\":[2195.5]}},\"id\":\"712d3813-a3ff-4a1c-8d46-36c4053af839\",\"type\":\"ColumnDataSource\"},{\"attributes\":{\"fill_alpha\":{\"field\":\"fill_alpha\"},\"fill_color\":{\"field\":\"color\"},\"height\":{\"field\":\"height\",\"units\":\"data\"},\"line_color\":{\"field\":\"line_color\"},\"width\":{\"field\":\"width\",\"units\":\"data\"},\"x\":{\"field\":\"x\"},\"y\":{\"field\":\"y\"}},\"id\":\"9ca6907f-7bc0-4a16-bf02-afc37a2805ae\",\"type\":\"Rect\"},{\"attributes\":{\"fill_alpha\":{\"field\":\"fill_alpha\"},\"fill_color\":{\"field\":\"color\"},\"height\":{\"field\":\"height\",\"units\":\"data\"},\"line_color\":{\"field\":\"line_color\"},\"width\":{\"field\":\"width\",\"units\":\"data\"},\"x\":{\"field\":\"x\"},\"y\":{\"field\":\"y\"}},\"id\":\"64f5f55e-f59e-4884-8159-e9b908f667e2\",\"type\":\"Rect\"},{\"attributes\":{\"fill_alpha\":{\"field\":\"fill_alpha\"},\"fill_color\":{\"field\":\"color\"},\"height\":{\"field\":\"height\",\"units\":\"data\"},\"line_color\":{\"field\":\"line_color\"},\"width\":{\"field\":\"width\",\"units\":\"data\"},\"x\":{\"field\":\"x\"},\"y\":{\"field\":\"y\"}},\"id\":\"af856de2-332c-4d36-a1a4-c86ebacd80dc\",\"type\":\"Rect\"},{\"attributes\":{\"data_source\":{\"id\":\"029b72ad-0e16-4f09-9b21-0e4f42fdf538\",\"type\":\"ColumnDataSource\"},\"glyph\":{\"id\":\"b645886d-3a96-45b9-aed6-b92605c7f0bb\",\"type\":\"Rect\"},\"hover_glyph\":null,\"muted_glyph\":null},\"id\":\"fa04494a-63e7-4864-97b2-109e89fc9cad\",\"type\":\"GlyphRenderer\"},{\"attributes\":{\"fill_alpha\":{\"field\":\"fill_alpha\"},\"fill_color\":{\"field\":\"color\"},\"height\":{\"field\":\"height\",\"units\":\"data\"},\"line_color\":{\"field\":\"line_color\"},\"width\":{\"field\":\"width\",\"units\":\"data\"},\"x\":{\"field\":\"x\"},\"y\":{\"field\":\"y\"}},\"id\":\"12ebb33e-3e02-47ee-b227-09c4eb68aef5\",\"type\":\"Rect\"},{\"attributes\":{\"data_source\":{\"id\":\"acf3545a-8bc4-45f8-a2dd-877e2126de04\",\"type\":\"ColumnDataSource\"},\"glyph\":{\"id\":\"9ca6907f-7bc0-4a16-bf02-afc37a2805ae\",\"type\":\"Rect\"},\"hover_glyph\":null,\"muted_glyph\":null},\"id\":\"47fa731c-6224-4e1a-83d2-52ea13c2e768\",\"type\":\"GlyphRenderer\"},{\"attributes\":{\"callback\":null,\"column_names\":[\"x\",\"y\",\"width\",\"height\",\"color\",\"fill_alpha\",\"line_color\",\"line_alpha\",\"label\"],\"data\":{\"chart_index\":[\"(2459.180000, 2489.170000]\"],\"color\":[\"#f22c40\"],\"fill_alpha\":[0.8],\"height\":[153.0],\"label\":[\"(2459.180000, 2489.170000]\"],\"line_alpha\":[1.0],\"line_color\":[\"black\"],\"width\":[29.990000000000236],\"x\":[\"2474.175\"],\"y\":[76.5]}},\"id\":\"d2c2c48a-ae0e-4fc8-8114-884c81da32db\",\"type\":\"ColumnDataSource\"},{\"attributes\":{\"fill_alpha\":{\"field\":\"fill_alpha\"},\"fill_color\":{\"field\":\"color\"},\"height\":{\"field\":\"height\",\"units\":\"data\"},\"line_color\":{\"field\":\"line_color\"},\"width\":{\"field\":\"width\",\"units\":\"data\"},\"x\":{\"field\":\"x\"},\"y\":{\"field\":\"y\"}},\"id\":\"1bba4f8b-8269-4b23-ab09-3eba3e64b2f2\",\"type\":\"Rect\"},{\"attributes\":{\"fill_alpha\":{\"field\":\"fill_alpha\"},\"fill_color\":{\"field\":\"color\"},\"height\":{\"field\":\"height\",\"units\":\"data\"},\"line_color\":{\"field\":\"line_color\"},\"width\":{\"field\":\"width\",\"units\":\"data\"},\"x\":{\"field\":\"x\"},\"y\":{\"field\":\"y\"}},\"id\":\"8524ecfc-f505-45f3-9868-013ffd0c4705\",\"type\":\"Rect\"},{\"attributes\":{\"fill_alpha\":{\"field\":\"fill_alpha\"},\"fill_color\":{\"field\":\"color\"},\"height\":{\"field\":\"height\",\"units\":\"data\"},\"line_color\":{\"field\":\"line_color\"},\"width\":{\"field\":\"width\",\"units\":\"data\"},\"x\":{\"field\":\"x\"},\"y\":{\"field\":\"y\"}},\"id\":\"9c230ed8-890a-41c8-a658-22a53a2abaf0\",\"type\":\"Rect\"},{\"attributes\":{\"data_source\":{\"id\":\"a7bc2f46-2dd4-44f4-8f06-18e63349512c\",\"type\":\"ColumnDataSource\"},\"glyph\":{\"id\":\"6cc218d5-7e38-4eaa-a22a-844aab1bc6f3\",\"type\":\"Rect\"},\"hover_glyph\":null,\"muted_glyph\":null},\"id\":\"bab74e8a-3f87-41cc-9b54-7fd418f1c55c\",\"type\":\"GlyphRenderer\"},{\"attributes\":{\"callback\":null,\"column_names\":[\"x\",\"y\",\"width\",\"height\",\"color\",\"fill_alpha\",\"line_color\",\"line_alpha\",\"label\"],\"data\":{\"chart_index\":[\"(2849.050000, 2879.040000]\"],\"color\":[\"#f22c40\"],\"fill_alpha\":[0.8],\"height\":[107.0],\"label\":[\"(2849.050000, 2879.040000]\"],\"line_alpha\":[1.0],\"line_color\":[\"black\"],\"width\":[29.990000000000236],\"x\":[\"2864.045\"],\"y\":[53.5]}},\"id\":\"3e9caf3d-3f27-4c69-81b5-f569924489a5\",\"type\":\"ColumnDataSource\"},{\"attributes\":{\"callback\":null,\"column_names\":[\"x\",\"y\",\"width\",\"height\",\"color\",\"fill_alpha\",\"line_color\",\"line_alpha\",\"label\"],\"data\":{\"chart_index\":[\"(749.750000, 779.740000]\"],\"color\":[\"#f22c40\"],\"fill_alpha\":[0.8],\"height\":[4458.0],\"label\":[\"(749.750000, 779.740000]\"],\"line_alpha\":[1.0],\"line_color\":[\"black\"],\"width\":[29.99000000000001],\"x\":[\"764.745\"],\"y\":[2229.0]}},\"id\":\"acf3545a-8bc4-45f8-a2dd-877e2126de04\",\"type\":\"ColumnDataSource\"},{\"attributes\":{\"fill_alpha\":{\"field\":\"fill_alpha\"},\"fill_color\":{\"field\":\"color\"},\"height\":{\"field\":\"height\",\"units\":\"data\"},\"line_color\":{\"field\":\"line_color\"},\"width\":{\"field\":\"width\",\"units\":\"data\"},\"x\":{\"field\":\"x\"},\"y\":{\"field\":\"y\"}},\"id\":\"18c8ed9b-5cf6-4352-a56c-9b8b372900f8\",\"type\":\"Rect\"},{\"attributes\":{\"fill_alpha\":{\"field\":\"fill_alpha\"},\"fill_color\":{\"field\":\"color\"},\"height\":{\"field\":\"height\",\"units\":\"data\"},\"line_color\":{\"field\":\"line_color\"},\"width\":{\"field\":\"width\",\"units\":\"data\"},\"x\":{\"field\":\"x\"},\"y\":{\"field\":\"y\"}},\"id\":\"fc18f876-cd5d-4f7e-b505-5624681459ad\",\"type\":\"Rect\"},{\"attributes\":{\"fill_alpha\":{\"field\":\"fill_alpha\"},\"fill_color\":{\"field\":\"color\"},\"height\":{\"field\":\"height\",\"units\":\"data\"},\"line_color\":{\"field\":\"line_color\"},\"width\":{\"field\":\"width\",\"units\":\"data\"},\"x\":{\"field\":\"x\"},\"y\":{\"field\":\"y\"}},\"id\":\"b645886d-3a96-45b9-aed6-b92605c7f0bb\",\"type\":\"Rect\"},{\"attributes\":{\"fill_alpha\":{\"field\":\"fill_alpha\"},\"fill_color\":{\"field\":\"color\"},\"height\":{\"field\":\"height\",\"units\":\"data\"},\"line_color\":{\"field\":\"line_color\"},\"width\":{\"field\":\"width\",\"units\":\"data\"},\"x\":{\"field\":\"x\"},\"y\":{\"field\":\"y\"}},\"id\":\"a240ac33-575c-40e0-baea-3ee7f6a837a3\",\"type\":\"Rect\"},{\"attributes\":{\"fill_alpha\":{\"field\":\"fill_alpha\"},\"fill_color\":{\"field\":\"color\"},\"height\":{\"field\":\"height\",\"units\":\"data\"},\"line_color\":{\"field\":\"line_color\"},\"width\":{\"field\":\"width\",\"units\":\"data\"},\"x\":{\"field\":\"x\"},\"y\":{\"field\":\"y\"}},\"id\":\"8046ab0b-d1f0-41c7-a56c-1e1002b362a8\",\"type\":\"Rect\"},{\"attributes\":{\"callback\":null,\"column_names\":[\"x\",\"y\",\"width\",\"height\",\"color\",\"fill_alpha\",\"line_color\",\"line_alpha\",\"label\"],\"data\":{\"chart_index\":[\"(2489.170000, 2519.160000]\"],\"color\":[\"#f22c40\"],\"fill_alpha\":[0.8],\"height\":[147.0],\"label\":[\"(2489.170000, 2519.160000]\"],\"line_alpha\":[1.0],\"line_color\":[\"black\"],\"width\":[29.98999999999978],\"x\":[\"2504.165\"],\"y\":[73.5]}},\"id\":\"a7bc2f46-2dd4-44f4-8f06-18e63349512c\",\"type\":\"ColumnDataSource\"},{\"attributes\":{\"data_source\":{\"id\":\"6479b956-6b4d-4713-83fd-81c20f48512e\",\"type\":\"ColumnDataSource\"},\"glyph\":{\"id\":\"fc18f876-cd5d-4f7e-b505-5624681459ad\",\"type\":\"Rect\"},\"hover_glyph\":null,\"muted_glyph\":null},\"id\":\"8784f272-141e-4391-901e-d9d18b4ace41\",\"type\":\"GlyphRenderer\"},{\"attributes\":{\"data_source\":{\"id\":\"e0b6cf0b-e288-4cc6-918e-ec5cd1a55d52\",\"type\":\"ColumnDataSource\"},\"glyph\":{\"id\":\"37ae1db0-eeb4-4d05-9c6c-5971bafe9b14\",\"type\":\"Rect\"},\"hover_glyph\":null,\"muted_glyph\":null},\"id\":\"5a8bf8e4-d5ab-46c5-a4f2-b612ee4d192e\",\"type\":\"GlyphRenderer\"},{\"attributes\":{\"fill_alpha\":{\"field\":\"fill_alpha\"},\"fill_color\":{\"field\":\"color\"},\"height\":{\"field\":\"height\",\"units\":\"data\"},\"line_color\":{\"field\":\"line_color\"},\"width\":{\"field\":\"width\",\"units\":\"data\"},\"x\":{\"field\":\"x\"},\"y\":{\"field\":\"y\"}},\"id\":\"07dee4a3-24f7-4ed8-9c3a-9c0075c1edf6\",\"type\":\"Rect\"},{\"attributes\":{\"data_source\":{\"id\":\"af210c8a-b832-4fbf-a282-07ed0b88cd30\",\"type\":\"ColumnDataSource\"},\"glyph\":{\"id\":\"8524ecfc-f505-45f3-9868-013ffd0c4705\",\"type\":\"Rect\"},\"hover_glyph\":null,\"muted_glyph\":null},\"id\":\"7dd96e7c-381f-4bd7-9401-d9da2d7c6dbc\",\"type\":\"GlyphRenderer\"},{\"attributes\":{\"callback\":null,\"column_names\":[\"x\",\"y\",\"width\",\"height\",\"color\",\"fill_alpha\",\"line_color\",\"line_alpha\",\"label\"],\"data\":{\"chart_index\":[\"(2879.040000, 2909.030000]\"],\"color\":[\"#f22c40\"],\"fill_alpha\":[0.8],\"height\":[88.0],\"label\":[\"(2879.040000, 2909.030000]\"],\"line_alpha\":[1.0],\"line_color\":[\"black\"],\"width\":[29.98999999999978],\"x\":[\"2894.035\"],\"y\":[44.0]}},\"id\":\"e0b6cf0b-e288-4cc6-918e-ec5cd1a55d52\",\"type\":\"ColumnDataSource\"},{\"attributes\":{\"fill_alpha\":{\"field\":\"fill_alpha\"},\"fill_color\":{\"field\":\"color\"},\"height\":{\"field\":\"height\",\"units\":\"data\"},\"line_color\":{\"field\":\"line_color\"},\"width\":{\"field\":\"width\",\"units\":\"data\"},\"x\":{\"field\":\"x\"},\"y\":{\"field\":\"y\"}},\"id\":\"2b19b6d2-86de-476a-a8ae-bfb1b5171188\",\"type\":\"Rect\"},{\"attributes\":{\"callback\":null,\"column_names\":[\"x\",\"y\",\"width\",\"height\",\"color\",\"fill_alpha\",\"line_color\",\"line_alpha\",\"label\"],\"data\":{\"chart_index\":[\"(779.740000, 809.730000]\"],\"color\":[\"#f22c40\"],\"fill_alpha\":[0.8],\"height\":[4317.0],\"label\":[\"(779.740000, 809.730000]\"],\"line_alpha\":[1.0],\"line_color\":[\"black\"],\"width\":[29.989999999999895],\"x\":[\"794.735\"],\"y\":[2158.5]}},\"id\":\"6479b956-6b4d-4713-83fd-81c20f48512e\",\"type\":\"ColumnDataSource\"},{\"attributes\":{\"fill_alpha\":{\"field\":\"fill_alpha\"},\"fill_color\":{\"field\":\"color\"},\"height\":{\"field\":\"height\",\"units\":\"data\"},\"line_color\":{\"field\":\"line_color\"},\"width\":{\"field\":\"width\",\"units\":\"data\"},\"x\":{\"field\":\"x\"},\"y\":{\"field\":\"y\"}},\"id\":\"6be61d1c-34ab-4790-9550-b6341bad2a4a\",\"type\":\"Rect\"},{\"attributes\":{\"data_source\":{\"id\":\"734b8ffa-062b-4aac-bebb-9295502a74eb\",\"type\":\"ColumnDataSource\"},\"glyph\":{\"id\":\"b6012573-f9e6-430a-863a-d3b12c93ab05\",\"type\":\"Rect\"},\"hover_glyph\":null,\"muted_glyph\":null},\"id\":\"2c193fbc-3186-4871-9ca5-4428ea6b1306\",\"type\":\"GlyphRenderer\"},{\"attributes\":{\"callback\":null,\"column_names\":[\"x\",\"y\",\"width\",\"height\",\"color\",\"fill_alpha\",\"line_color\",\"line_alpha\",\"label\"],\"data\":{\"chart_index\":[\"(2519.160000, 2549.150000]\"],\"color\":[\"#f22c40\"],\"fill_alpha\":[0.8],\"height\":[115.0],\"label\":[\"(2519.160000, 2549.150000]\"],\"line_alpha\":[1.0],\"line_color\":[\"black\"],\"width\":[29.990000000000236],\"x\":[\"2534.1549999999997\"],\"y\":[57.5]}},\"id\":\"af210c8a-b832-4fbf-a282-07ed0b88cd30\",\"type\":\"ColumnDataSource\"},{\"attributes\":{\"data_source\":{\"id\":\"ca07cc48-b7c4-495d-84b7-2140f81fbe9b\",\"type\":\"ColumnDataSource\"},\"glyph\":{\"id\":\"12ebb33e-3e02-47ee-b227-09c4eb68aef5\",\"type\":\"Rect\"},\"hover_glyph\":null,\"muted_glyph\":null},\"id\":\"6988370d-77c6-4a50-b23a-374a11cf5441\",\"type\":\"GlyphRenderer\"},{\"attributes\":{\"callback\":null,\"column_names\":[\"x\",\"y\",\"width\",\"height\",\"color\",\"fill_alpha\",\"line_color\",\"line_alpha\",\"label\"],\"data\":{\"chart_index\":[\"(2609.130000, 2639.120000]\"],\"color\":[\"#f22c40\"],\"fill_alpha\":[0.8],\"height\":[120.0],\"label\":[\"(2609.130000, 2639.120000]\"],\"line_alpha\":[1.0],\"line_color\":[\"black\"],\"width\":[29.990000000000236],\"x\":[\"2624.125\"],\"y\":[60.0]}},\"id\":\"029b72ad-0e16-4f09-9b21-0e4f42fdf538\",\"type\":\"ColumnDataSource\"},{\"attributes\":{\"data_source\":{\"id\":\"e2964a80-5ced-484a-8f51-1d5f50678e73\",\"type\":\"ColumnDataSource\"},\"glyph\":{\"id\":\"6be61d1c-34ab-4790-9550-b6341bad2a4a\",\"type\":\"Rect\"},\"hover_glyph\":null,\"muted_glyph\":null},\"id\":\"ad9385ba-a0c4-4927-a726-51acf45cb01d\",\"type\":\"GlyphRenderer\"},{\"attributes\":{\"data_source\":{\"id\":\"2169397c-f3d9-4165-8872-b40e9bd59db4\",\"type\":\"ColumnDataSource\"},\"glyph\":{\"id\":\"07dee4a3-24f7-4ed8-9c3a-9c0075c1edf6\",\"type\":\"Rect\"},\"hover_glyph\":null,\"muted_glyph\":null},\"id\":\"c0becfd5-b3d1-4d5d-90b1-3fa042cbe2ef\",\"type\":\"GlyphRenderer\"},{\"attributes\":{\"callback\":null,\"column_names\":[\"x\",\"y\",\"width\",\"height\",\"color\",\"fill_alpha\",\"line_color\",\"line_alpha\",\"label\"],\"data\":{\"chart_index\":[\"(2909.030000, 2939.020000]\"],\"color\":[\"#f22c40\"],\"fill_alpha\":[0.8],\"height\":[69.0],\"label\":[\"(2909.030000, 2939.020000]\"],\"line_alpha\":[1.0],\"line_color\":[\"black\"],\"width\":[29.990000000000236],\"x\":[\"2924.025\"],\"y\":[34.5]}},\"id\":\"ca07cc48-b7c4-495d-84b7-2140f81fbe9b\",\"type\":\"ColumnDataSource\"},{\"attributes\":{\"axis_label\":\"Count( Sen_Length )\",\"formatter\":{\"id\":\"7d37c168-8ad8-42fa-85fc-1362e694ccfa\",\"type\":\"BasicTickFormatter\"},\"plot\":{\"id\":\"c7bad5ec-764f-44e3-b1cb-acd2a502c81d\",\"subtype\":\"Chart\",\"type\":\"Plot\"},\"ticker\":{\"id\":\"cad6aea3-340e-4b0f-94fa-02e3cc79477a\",\"type\":\"BasicTicker\"}},\"id\":\"4e3061b0-8506-487b-a9a9-f4e670c85d65\",\"type\":\"LinearAxis\"},{\"attributes\":{\"fill_alpha\":{\"field\":\"fill_alpha\"},\"fill_color\":{\"field\":\"color\"},\"height\":{\"field\":\"height\",\"units\":\"data\"},\"line_color\":{\"field\":\"line_color\"},\"width\":{\"field\":\"width\",\"units\":\"data\"},\"x\":{\"field\":\"x\"},\"y\":{\"field\":\"y\"}},\"id\":\"b6012573-f9e6-430a-863a-d3b12c93ab05\",\"type\":\"Rect\"},{\"attributes\":{\"callback\":null,\"column_names\":[\"x\",\"y\",\"width\",\"height\",\"color\",\"fill_alpha\",\"line_color\",\"line_alpha\",\"label\"],\"data\":{\"chart_index\":[\"(809.730000, 839.720000]\"],\"color\":[\"#f22c40\"],\"fill_alpha\":[0.8],\"height\":[4403.0],\"label\":[\"(809.730000, 839.720000]\"],\"line_alpha\":[1.0],\"line_color\":[\"black\"],\"width\":[29.99000000000001],\"x\":[\"824.725\"],\"y\":[2201.5]}},\"id\":\"e2964a80-5ced-484a-8f51-1d5f50678e73\",\"type\":\"ColumnDataSource\"},{\"attributes\":{\"fill_alpha\":{\"field\":\"fill_alpha\"},\"fill_color\":{\"field\":\"color\"},\"height\":{\"field\":\"height\",\"units\":\"data\"},\"line_color\":{\"field\":\"line_color\"},\"width\":{\"field\":\"width\",\"units\":\"data\"},\"x\":{\"field\":\"x\"},\"y\":{\"field\":\"y\"}},\"id\":\"3ea49df7-5d8f-41e0-a153-c60673aab5b6\",\"type\":\"Rect\"},{\"attributes\":{\"callback\":null,\"column_names\":[\"x\",\"y\",\"width\",\"height\",\"color\",\"fill_alpha\",\"line_color\",\"line_alpha\",\"label\"],\"data\":{\"chart_index\":[\"(869.710000, 899.700000]\"],\"color\":[\"#f22c40\"],\"fill_alpha\":[0.8],\"height\":[4347.0],\"label\":[\"(869.710000, 899.700000]\"],\"line_alpha\":[1.0],\"line_color\":[\"black\"],\"width\":[29.99000000000001],\"x\":[\"884.705\"],\"y\":[2173.5]}},\"id\":\"4e25e204-3e5d-423e-94ec-6d5af6708db7\",\"type\":\"ColumnDataSource\"},{\"attributes\":{\"callback\":null,\"column_names\":[\"x\",\"y\",\"width\",\"height\",\"color\",\"fill_alpha\",\"line_color\",\"line_alpha\",\"label\"],\"data\":{\"chart_index\":[\"(2549.150000, 2579.140000]\"],\"color\":[\"#f22c40\"],\"fill_alpha\":[0.8],\"height\":[121.0],\"label\":[\"(2549.150000, 2579.140000]\"],\"line_alpha\":[1.0],\"line_color\":[\"black\"],\"width\":[29.98999999999978],\"x\":[\"2564.145\"],\"y\":[60.5]}},\"id\":\"2169397c-f3d9-4165-8872-b40e9bd59db4\",\"type\":\"ColumnDataSource\"},{\"attributes\":{\"data_source\":{\"id\":\"e6ffcece-0da1-463a-8916-fa45fc967145\",\"type\":\"ColumnDataSource\"},\"glyph\":{\"id\":\"9c230ed8-890a-41c8-a658-22a53a2abaf0\",\"type\":\"Rect\"},\"hover_glyph\":null,\"muted_glyph\":null},\"id\":\"46cd1533-8f13-4fbb-85ad-72c456a1538d\",\"type\":\"GlyphRenderer\"},{\"attributes\":{\"fill_alpha\":{\"field\":\"fill_alpha\"},\"fill_color\":{\"field\":\"color\"},\"height\":{\"field\":\"height\",\"units\":\"data\"},\"line_color\":{\"field\":\"line_color\"},\"width\":{\"field\":\"width\",\"units\":\"data\"},\"x\":{\"field\":\"x\"},\"y\":{\"field\":\"y\"}},\"id\":\"bba20cb8-3e78-4617-b08d-95075fa0ab6a\",\"type\":\"Rect\"},{\"attributes\":{},\"id\":\"cb4b4ea2-2cfe-41d6-8023-aab759c8816f\",\"type\":\"BasicTicker\"},{\"attributes\":{\"callback\":null,\"column_names\":[\"x\",\"y\",\"width\",\"height\",\"color\",\"fill_alpha\",\"line_color\",\"line_alpha\",\"label\"],\"data\":{\"chart_index\":[\"(2939.020000, 2969.010000]\"],\"color\":[\"#f22c40\"],\"fill_alpha\":[0.8],\"height\":[75.0],\"label\":[\"(2939.020000, 2969.010000]\"],\"line_alpha\":[1.0],\"line_color\":[\"black\"],\"width\":[29.98999999999978],\"x\":[\"2954.0150000000003\"],\"y\":[37.5]}},\"id\":\"e6ffcece-0da1-463a-8916-fa45fc967145\",\"type\":\"ColumnDataSource\"},{\"attributes\":{\"data_source\":{\"id\":\"6add8aec-65aa-4efb-8994-d6fb926188e9\",\"type\":\"ColumnDataSource\"},\"glyph\":{\"id\":\"3ea49df7-5d8f-41e0-a153-c60673aab5b6\",\"type\":\"Rect\"},\"hover_glyph\":null,\"muted_glyph\":null},\"id\":\"f2ccdd5f-e145-4413-88fc-fb1b7747110a\",\"type\":\"GlyphRenderer\"},{\"attributes\":{\"data_source\":{\"id\":\"4fd28130-fd65-42f7-bad3-7e1450c60842\",\"type\":\"ColumnDataSource\"},\"glyph\":{\"id\":\"bba20cb8-3e78-4617-b08d-95075fa0ab6a\",\"type\":\"Rect\"},\"hover_glyph\":null,\"muted_glyph\":null},\"id\":\"7546b92b-696d-4a3b-9216-9fdb36a9ac23\",\"type\":\"GlyphRenderer\"},{\"attributes\":{\"data_source\":{\"id\":\"8add0682-70f9-4a6e-b024-24f0c80a8315\",\"type\":\"ColumnDataSource\"},\"glyph\":{\"id\":\"8046ab0b-d1f0-41c7-a56c-1e1002b362a8\",\"type\":\"Rect\"},\"hover_glyph\":null,\"muted_glyph\":null},\"id\":\"efa725d5-24d8-4453-8cf7-c2eb153394fb\",\"type\":\"GlyphRenderer\"},{\"attributes\":{\"data_source\":{\"id\":\"9570a495-8840-4289-9e39-0e1a7287d5e8\",\"type\":\"ColumnDataSource\"},\"glyph\":{\"id\":\"9b222db6-abdc-47a9-aac7-e2473c9eceb3\",\"type\":\"Rect\"},\"hover_glyph\":null,\"muted_glyph\":null},\"id\":\"8365bf3c-8f6e-4d1d-bb50-667255ad13f0\",\"type\":\"GlyphRenderer\"},{\"attributes\":{\"axis_label\":\"sen_length\",\"formatter\":{\"id\":\"30299d17-557f-4957-a6c9-8921e243a905\",\"type\":\"BasicTickFormatter\"},\"plot\":{\"id\":\"c7bad5ec-764f-44e3-b1cb-acd2a502c81d\",\"subtype\":\"Chart\",\"type\":\"Plot\"},\"ticker\":{\"id\":\"cb4b4ea2-2cfe-41d6-8023-aab759c8816f\",\"type\":\"BasicTicker\"}},\"id\":\"b5f0cb0e-dc67-4bb6-9c94-14e25ffceb13\",\"type\":\"LinearAxis\"},{\"attributes\":{\"data_source\":{\"id\":\"23de06e6-f343-448e-ac3e-fff735dabf6c\",\"type\":\"ColumnDataSource\"},\"glyph\":{\"id\":\"18c8ed9b-5cf6-4352-a56c-9b8b372900f8\",\"type\":\"Rect\"},\"hover_glyph\":null,\"muted_glyph\":null},\"id\":\"78ba4d38-551c-441b-b875-c7afcb1005cc\",\"type\":\"GlyphRenderer\"},{\"attributes\":{\"fill_alpha\":{\"field\":\"fill_alpha\"},\"fill_color\":{\"field\":\"color\"},\"height\":{\"field\":\"height\",\"units\":\"data\"},\"line_color\":{\"field\":\"line_color\"},\"width\":{\"field\":\"width\",\"units\":\"data\"},\"x\":{\"field\":\"x\"},\"y\":{\"field\":\"y\"}},\"id\":\"9b222db6-abdc-47a9-aac7-e2473c9eceb3\",\"type\":\"Rect\"},{\"attributes\":{\"callback\":null,\"column_names\":[\"x\",\"y\",\"width\",\"height\",\"color\",\"fill_alpha\",\"line_color\",\"line_alpha\",\"label\"],\"data\":{\"chart_index\":[\"(2639.120000, 2669.110000]\"],\"color\":[\"#f22c40\"],\"fill_alpha\":[0.8],\"height\":[99.0],\"label\":[\"(2639.120000, 2669.110000]\"],\"line_alpha\":[1.0],\"line_color\":[\"black\"],\"width\":[29.98999999999978],\"x\":[\"2654.115\"],\"y\":[49.5]}},\"id\":\"8add0682-70f9-4a6e-b024-24f0c80a8315\",\"type\":\"ColumnDataSource\"},{\"attributes\":{\"data_source\":{\"id\":\"c868b10d-f438-487e-965a-b7a1b84adc4d\",\"type\":\"ColumnDataSource\"},\"glyph\":{\"id\":\"a240ac33-575c-40e0-baea-3ee7f6a837a3\",\"type\":\"Rect\"},\"hover_glyph\":null,\"muted_glyph\":null},\"id\":\"bdec9abc-351c-4855-82f1-5f8a38c05f87\",\"type\":\"GlyphRenderer\"},{\"attributes\":{\"callback\":null,\"column_names\":[\"x\",\"y\",\"width\",\"height\",\"color\",\"fill_alpha\",\"line_color\",\"line_alpha\",\"label\"],\"data\":{\"chart_index\":[\"(2699.100000, 2729.090000]\"],\"color\":[\"#f22c40\"],\"fill_alpha\":[0.8],\"height\":[104.0],\"label\":[\"(2699.100000, 2729.090000]\"],\"line_alpha\":[1.0],\"line_color\":[\"black\"],\"width\":[29.98999999999978],\"x\":[\"2714.0950000000003\"],\"y\":[52.0]}},\"id\":\"b13ed1c2-6a89-40cf-9523-b17662a66a7d\",\"type\":\"ColumnDataSource\"},{\"attributes\":{\"callback\":null,\"column_names\":[\"x\",\"y\",\"width\",\"height\",\"color\",\"fill_alpha\",\"line_color\",\"line_alpha\",\"label\"],\"data\":{\"chart_index\":[\"(899.700000, 929.690000]\"],\"color\":[\"#f22c40\"],\"fill_alpha\":[0.8],\"height\":[4309.0],\"label\":[\"(899.700000, 929.690000]\"],\"line_alpha\":[1.0],\"line_color\":[\"black\"],\"width\":[29.99000000000001],\"x\":[\"914.695\"],\"y\":[2154.5]}},\"id\":\"4fd28130-fd65-42f7-bad3-7e1450c60842\",\"type\":\"ColumnDataSource\"},{\"attributes\":{\"callback\":null,\"column_names\":[\"x\",\"y\",\"width\",\"height\",\"color\",\"fill_alpha\",\"line_color\",\"line_alpha\",\"label\"],\"data\":{\"chart_index\":[\"(2969.010000, 2999.000000]\"],\"color\":[\"#f22c40\"],\"fill_alpha\":[0.8],\"height\":[63.0],\"label\":[\"(2969.010000, 2999.000000]\"],\"line_alpha\":[1.0],\"line_color\":[\"black\"],\"width\":[29.990000000000236],\"x\":[\"2984.005\"],\"y\":[31.5]}},\"id\":\"23de06e6-f343-448e-ac3e-fff735dabf6c\",\"type\":\"ColumnDataSource\"},{\"attributes\":{\"data_source\":{\"id\":\"d44f4c65-0e2d-468a-a201-c509e02f4757\",\"type\":\"ColumnDataSource\"},\"glyph\":{\"id\":\"af856de2-332c-4d36-a1a4-c86ebacd80dc\",\"type\":\"Rect\"},\"hover_glyph\":null,\"muted_glyph\":null},\"id\":\"a8817252-9ebe-42a0-b906-79770f54dd1c\",\"type\":\"GlyphRenderer\"},{\"attributes\":{\"fill_alpha\":{\"field\":\"fill_alpha\"},\"fill_color\":{\"field\":\"color\"},\"height\":{\"field\":\"height\",\"units\":\"data\"},\"line_color\":{\"field\":\"line_color\"},\"width\":{\"field\":\"width\",\"units\":\"data\"},\"x\":{\"field\":\"x\"},\"y\":{\"field\":\"y\"}},\"id\":\"bae56351-492f-4460-a231-84e71a65a60b\",\"type\":\"Rect\"},{\"attributes\":{},\"id\":\"cad6aea3-340e-4b0f-94fa-02e3cc79477a\",\"type\":\"BasicTicker\"},{\"attributes\":{\"dimension\":1,\"plot\":{\"id\":\"c7bad5ec-764f-44e3-b1cb-acd2a502c81d\",\"subtype\":\"Chart\",\"type\":\"Plot\"},\"ticker\":{\"id\":\"cad6aea3-340e-4b0f-94fa-02e3cc79477a\",\"type\":\"BasicTicker\"}},\"id\":\"9593c284-d7f9-4ae3-845c-80403f2bb974\",\"type\":\"Grid\"},{\"attributes\":{\"data_source\":{\"id\":\"385f03a5-2d11-4df7-b15c-f300fd9f4bb0\",\"type\":\"ColumnDataSource\"},\"glyph\":{\"id\":\"bae56351-492f-4460-a231-84e71a65a60b\",\"type\":\"Rect\"},\"hover_glyph\":null,\"muted_glyph\":null},\"id\":\"1932030c-2ded-4924-a2ec-8870f7fd89cd\",\"type\":\"GlyphRenderer\"},{\"attributes\":{\"fill_alpha\":{\"field\":\"fill_alpha\"},\"fill_color\":{\"field\":\"color\"},\"height\":{\"field\":\"height\",\"units\":\"data\"},\"line_color\":{\"field\":\"line_color\"},\"width\":{\"field\":\"width\",\"units\":\"data\"},\"x\":{\"field\":\"x\"},\"y\":{\"field\":\"y\"}},\"id\":\"b3da9af6-f518-4a31-87f8-e1d030ac6f53\",\"type\":\"Rect\"},{\"attributes\":{\"callback\":null,\"column_names\":[\"x\",\"y\",\"width\",\"height\",\"color\",\"fill_alpha\",\"line_color\",\"line_alpha\",\"label\"],\"data\":{\"chart_index\":[\"(2669.110000, 2699.100000]\"],\"color\":[\"#f22c40\"],\"fill_alpha\":[0.8],\"height\":[122.0],\"label\":[\"(2669.110000, 2699.100000]\"],\"line_alpha\":[1.0],\"line_color\":[\"black\"],\"width\":[29.990000000000236],\"x\":[\"2684.105\"],\"y\":[61.0]}},\"id\":\"d44f4c65-0e2d-468a-a201-c509e02f4757\",\"type\":\"ColumnDataSource\"},{\"attributes\":{\"callback\":null,\"column_names\":[\"x\",\"y\",\"width\",\"height\",\"color\",\"fill_alpha\",\"line_color\",\"line_alpha\",\"label\"],\"data\":{\"chart_index\":[\"(929.690000, 959.680000]\"],\"color\":[\"#f22c40\"],\"fill_alpha\":[0.8],\"height\":[4332.0],\"label\":[\"(929.690000, 959.680000]\"],\"line_alpha\":[1.0],\"line_color\":[\"black\"],\"width\":[29.99000000000001],\"x\":[\"944.685\"],\"y\":[2166.0]}},\"id\":\"385f03a5-2d11-4df7-b15c-f300fd9f4bb0\",\"type\":\"ColumnDataSource\"},{\"attributes\":{\"fill_alpha\":{\"field\":\"fill_alpha\"},\"fill_color\":{\"field\":\"color\"},\"height\":{\"field\":\"height\",\"units\":\"data\"},\"line_color\":{\"field\":\"line_color\"},\"width\":{\"field\":\"width\",\"units\":\"data\"},\"x\":{\"field\":\"x\"},\"y\":{\"field\":\"y\"}},\"id\":\"59598e89-253b-44d7-9f3b-8de77aa448ff\",\"type\":\"Rect\"},{\"attributes\":{\"data_source\":{\"id\":\"e17156b2-3625-42ee-b194-b4374eed1da8\",\"type\":\"ColumnDataSource\"},\"glyph\":{\"id\":\"330ee85c-e779-42fe-8c73-c03119cb3ef8\",\"type\":\"Rect\"},\"hover_glyph\":null,\"muted_glyph\":null},\"id\":\"2dde3fd4-0afb-4842-8634-d740d7889df6\",\"type\":\"GlyphRenderer\"},{\"attributes\":{\"data_source\":{\"id\":\"e93f3208-2936-4667-8c51-5309056d54cd\",\"type\":\"ColumnDataSource\"},\"glyph\":{\"id\":\"d82c6a51-dbf0-4594-8729-20cebb463441\",\"type\":\"Rect\"},\"hover_glyph\":null,\"muted_glyph\":null},\"id\":\"e5f0abbd-b5d7-4798-a17b-b065b345efb1\",\"type\":\"GlyphRenderer\"},{\"attributes\":{\"callback\":null,\"column_names\":[\"x\",\"y\",\"width\",\"height\",\"color\",\"fill_alpha\",\"line_color\",\"line_alpha\",\"label\"],\"data\":{\"chart_index\":[\"(329.890000, 359.880000]\"],\"color\":[\"#f22c40\"],\"fill_alpha\":[0.8],\"height\":[3777.0],\"label\":[\"(329.890000, 359.880000]\"],\"line_alpha\":[1.0],\"line_color\":[\"black\"],\"width\":[29.99000000000001],\"x\":[\"344.885\"],\"y\":[1888.5]}},\"id\":\"e17156b2-3625-42ee-b194-b4374eed1da8\",\"type\":\"ColumnDataSource\"},{\"attributes\":{\"fill_alpha\":{\"field\":\"fill_alpha\"},\"fill_color\":{\"field\":\"color\"},\"height\":{\"field\":\"height\",\"units\":\"data\"},\"line_color\":{\"field\":\"line_color\"},\"width\":{\"field\":\"width\",\"units\":\"data\"},\"x\":{\"field\":\"x\"},\"y\":{\"field\":\"y\"}},\"id\":\"caa6d86b-ba58-43d6-bea7-e7d118b80f14\",\"type\":\"Rect\"},{\"attributes\":{\"data_source\":{\"id\":\"8d41e867-2d5b-4486-b72e-6d48489360cd\",\"type\":\"ColumnDataSource\"},\"glyph\":{\"id\":\"caa6d86b-ba58-43d6-bea7-e7d118b80f14\",\"type\":\"Rect\"},\"hover_glyph\":null,\"muted_glyph\":null},\"id\":\"4241905c-334d-41a6-87eb-eec18cd651ee\",\"type\":\"GlyphRenderer\"},{\"attributes\":{},\"id\":\"ece92d36-2601-4a75-90cc-4e755455580d\",\"type\":\"LinearScale\"},{\"attributes\":{\"callback\":null,\"column_names\":[\"x\",\"y\",\"width\",\"height\",\"color\",\"fill_alpha\",\"line_color\",\"line_alpha\",\"label\"],\"data\":{\"chart_index\":[\"(1049.650000, 1079.640000]\"],\"color\":[\"#f22c40\"],\"fill_alpha\":[0.8],\"height\":[4245.0],\"label\":[\"(1049.650000, 1079.640000]\"],\"line_alpha\":[1.0],\"line_color\":[\"black\"],\"width\":[29.99000000000001],\"x\":[\"1064.645\"],\"y\":[2122.5]}},\"id\":\"c6b91bb4-7abb-4e10-8479-58c0626d8da7\",\"type\":\"ColumnDataSource\"},{\"attributes\":{\"callback\":null,\"column_names\":[\"x\",\"y\",\"width\",\"height\",\"color\",\"fill_alpha\",\"line_color\",\"line_alpha\",\"label\"],\"data\":{\"chart_index\":[\"(359.880000, 389.870000]\"],\"color\":[\"#f22c40\"],\"fill_alpha\":[0.8],\"height\":[4065.0],\"label\":[\"(359.880000, 389.870000]\"],\"line_alpha\":[1.0],\"line_color\":[\"black\"],\"width\":[29.99000000000001],\"x\":[\"374.875\"],\"y\":[2032.5]}},\"id\":\"8d41e867-2d5b-4486-b72e-6d48489360cd\",\"type\":\"ColumnDataSource\"},{\"attributes\":{\"fill_alpha\":{\"field\":\"fill_alpha\"},\"fill_color\":{\"field\":\"color\"},\"height\":{\"field\":\"height\",\"units\":\"data\"},\"line_color\":{\"field\":\"line_color\"},\"width\":{\"field\":\"width\",\"units\":\"data\"},\"x\":{\"field\":\"x\"},\"y\":{\"field\":\"y\"}},\"id\":\"d82c6a51-dbf0-4594-8729-20cebb463441\",\"type\":\"Rect\"},{\"attributes\":{\"fill_alpha\":{\"field\":\"fill_alpha\"},\"fill_color\":{\"field\":\"color\"},\"height\":{\"field\":\"height\",\"units\":\"data\"},\"line_color\":{\"field\":\"line_color\"},\"width\":{\"field\":\"width\",\"units\":\"data\"},\"x\":{\"field\":\"x\"},\"y\":{\"field\":\"y\"}},\"id\":\"db439f59-381a-4e18-8dbf-62e1594d1dc9\",\"type\":\"Rect\"},{\"attributes\":{\"callback\":null,\"column_names\":[\"x\",\"y\",\"width\",\"height\",\"color\",\"fill_alpha\",\"line_color\",\"line_alpha\",\"label\"],\"data\":{\"chart_index\":[\"(449.850000, 479.840000]\"],\"color\":[\"#f22c40\"],\"fill_alpha\":[0.8],\"height\":[4637.0],\"label\":[\"(449.850000, 479.840000]\"],\"line_alpha\":[1.0],\"line_color\":[\"black\"],\"width\":[29.99000000000001],\"x\":[\"464.845\"],\"y\":[2318.5]}},\"id\":\"e93f3208-2936-4667-8c51-5309056d54cd\",\"type\":\"ColumnDataSource\"},{\"attributes\":{\"fill_alpha\":{\"field\":\"fill_alpha\"},\"fill_color\":{\"field\":\"color\"},\"height\":{\"field\":\"height\",\"units\":\"data\"},\"line_color\":{\"field\":\"line_color\"},\"width\":{\"field\":\"width\",\"units\":\"data\"},\"x\":{\"field\":\"x\"},\"y\":{\"field\":\"y\"}},\"id\":\"50d6f4c2-b015-4470-9a05-b1d5fb260de4\",\"type\":\"Rect\"},{\"attributes\":{\"callback\":null,\"column_names\":[\"x\",\"y\",\"width\",\"height\",\"color\",\"fill_alpha\",\"line_color\",\"line_alpha\",\"label\"],\"data\":{\"chart_index\":[\"(629.790000, 659.780000]\"],\"color\":[\"#f22c40\"],\"fill_alpha\":[0.8],\"height\":[4565.0],\"label\":[\"(629.790000, 659.780000]\"],\"line_alpha\":[1.0],\"line_color\":[\"black\"],\"width\":[29.99000000000001],\"x\":[\"644.785\"],\"y\":[2282.5]}},\"id\":\"c4c8425f-a037-48ce-9a54-20e97d8b9707\",\"type\":\"ColumnDataSource\"},{\"attributes\":{\"data_source\":{\"id\":\"182dc94a-d2fe-45e7-bff5-c7666dfc8a3e\",\"type\":\"ColumnDataSource\"},\"glyph\":{\"id\":\"50d6f4c2-b015-4470-9a05-b1d5fb260de4\",\"type\":\"Rect\"},\"hover_glyph\":null,\"muted_glyph\":null},\"id\":\"bce754ce-9eb6-44e9-96cc-da4c5f374e63\",\"type\":\"GlyphRenderer\"},{\"attributes\":{\"callback\":null,\"column_names\":[\"x\",\"y\",\"width\",\"height\",\"color\",\"fill_alpha\",\"line_color\",\"line_alpha\",\"label\"],\"data\":{\"chart_index\":[\"(839.720000, 869.710000]\"],\"color\":[\"#f22c40\"],\"fill_alpha\":[0.8],\"height\":[4199.0],\"label\":[\"(839.720000, 869.710000]\"],\"line_alpha\":[1.0],\"line_color\":[\"black\"],\"width\":[29.99000000000001],\"x\":[\"854.715\"],\"y\":[2099.5]}},\"id\":\"734b8ffa-062b-4aac-bebb-9295502a74eb\",\"type\":\"ColumnDataSource\"},{\"attributes\":{\"fill_alpha\":{\"field\":\"fill_alpha\"},\"fill_color\":{\"field\":\"color\"},\"height\":{\"field\":\"height\",\"units\":\"data\"},\"line_color\":{\"field\":\"line_color\"},\"width\":{\"field\":\"width\",\"units\":\"data\"},\"x\":{\"field\":\"x\"},\"y\":{\"field\":\"y\"}},\"id\":\"36ab2b8d-89ef-4571-b4e2-7b3ec716264c\",\"type\":\"Rect\"},{\"attributes\":{\"callback\":null,\"column_names\":[\"x\",\"y\",\"width\",\"height\",\"color\",\"fill_alpha\",\"line_color\",\"line_alpha\",\"label\"],\"data\":{\"chart_index\":[\"(479.840000, 509.830000]\"],\"color\":[\"#f22c40\"],\"fill_alpha\":[0.8],\"height\":[4784.0],\"label\":[\"(479.840000, 509.830000]\"],\"line_alpha\":[1.0],\"line_color\":[\"black\"],\"width\":[29.99000000000001],\"x\":[\"494.835\"],\"y\":[2392.0]}},\"id\":\"182dc94a-d2fe-45e7-bff5-c7666dfc8a3e\",\"type\":\"ColumnDataSource\"},{\"attributes\":{\"fill_alpha\":{\"field\":\"fill_alpha\"},\"fill_color\":{\"field\":\"color\"},\"height\":{\"field\":\"height\",\"units\":\"data\"},\"line_color\":{\"field\":\"line_color\"},\"width\":{\"field\":\"width\",\"units\":\"data\"},\"x\":{\"field\":\"x\"},\"y\":{\"field\":\"y\"}},\"id\":\"74cd8a88-759c-43b1-83f5-de1d6902a653\",\"type\":\"Rect\"},{\"attributes\":{\"data_source\":{\"id\":\"0b597126-5e8e-48e6-9df8-4ea025dff9c0\",\"type\":\"ColumnDataSource\"},\"glyph\":{\"id\":\"74cd8a88-759c-43b1-83f5-de1d6902a653\",\"type\":\"Rect\"},\"hover_glyph\":null,\"muted_glyph\":null},\"id\":\"d33acb15-57f7-468f-9348-2bdf1ef7afbe\",\"type\":\"GlyphRenderer\"},{\"attributes\":{\"callback\":null,\"column_names\":[\"x\",\"y\",\"width\",\"height\",\"color\",\"fill_alpha\",\"line_color\",\"line_alpha\",\"label\"],\"data\":{\"chart_index\":[\"(509.830000, 539.820000]\"],\"color\":[\"#f22c40\"],\"fill_alpha\":[0.8],\"height\":[4798.0],\"label\":[\"(509.830000, 539.820000]\"],\"line_alpha\":[1.0],\"line_color\":[\"black\"],\"width\":[29.989999999999952],\"x\":[\"524.825\"],\"y\":[2399.0]}},\"id\":\"0b597126-5e8e-48e6-9df8-4ea025dff9c0\",\"type\":\"ColumnDataSource\"},{\"attributes\":{\"fill_alpha\":{\"field\":\"fill_alpha\"},\"fill_color\":{\"field\":\"color\"},\"height\":{\"field\":\"height\",\"units\":\"data\"},\"line_color\":{\"field\":\"line_color\"},\"width\":{\"field\":\"width\",\"units\":\"data\"},\"x\":{\"field\":\"x\"},\"y\":{\"field\":\"y\"}},\"id\":\"9a2862a0-1a15-4b19-b55f-0673a7202014\",\"type\":\"Rect\"},{\"attributes\":{\"data_source\":{\"id\":\"a471f671-0da8-46b7-9f8e-71f877fd6e98\",\"type\":\"ColumnDataSource\"},\"glyph\":{\"id\":\"9a2862a0-1a15-4b19-b55f-0673a7202014\",\"type\":\"Rect\"},\"hover_glyph\":null,\"muted_glyph\":null},\"id\":\"a3402c13-22b1-4191-98d3-91d1d664163d\",\"type\":\"GlyphRenderer\"},{\"attributes\":{\"callback\":null,\"column_names\":[\"x\",\"y\",\"width\",\"height\",\"color\",\"fill_alpha\",\"line_color\",\"line_alpha\",\"label\"],\"data\":{\"chart_index\":[\"(539.820000, 569.810000]\"],\"color\":[\"#f22c40\"],\"fill_alpha\":[0.8],\"height\":[4630.0],\"label\":[\"(539.820000, 569.810000]\"],\"line_alpha\":[1.0],\"line_color\":[\"black\"],\"width\":[29.99000000000001],\"x\":[\"554.815\"],\"y\":[2315.0]}},\"id\":\"a471f671-0da8-46b7-9f8e-71f877fd6e98\",\"type\":\"ColumnDataSource\"},{\"attributes\":{\"fill_alpha\":{\"field\":\"fill_alpha\"},\"fill_color\":{\"field\":\"color\"},\"height\":{\"field\":\"height\",\"units\":\"data\"},\"line_color\":{\"field\":\"line_color\"},\"width\":{\"field\":\"width\",\"units\":\"data\"},\"x\":{\"field\":\"x\"},\"y\":{\"field\":\"y\"}},\"id\":\"83d78a03-fe3f-430b-917f-b414085764f5\",\"type\":\"Rect\"},{\"attributes\":{\"data_source\":{\"id\":\"338eb1c1-8700-44ca-af33-802d0dc72c3f\",\"type\":\"ColumnDataSource\"},\"glyph\":{\"id\":\"83d78a03-fe3f-430b-917f-b414085764f5\",\"type\":\"Rect\"},\"hover_glyph\":null,\"muted_glyph\":null},\"id\":\"5728a6a7-2cb5-4c57-9999-9c65f490f237\",\"type\":\"GlyphRenderer\"},{\"attributes\":{\"fill_alpha\":{\"field\":\"fill_alpha\"},\"fill_color\":{\"field\":\"color\"},\"height\":{\"field\":\"height\",\"units\":\"data\"},\"line_color\":{\"field\":\"line_color\"},\"width\":{\"field\":\"width\",\"units\":\"data\"},\"x\":{\"field\":\"x\"},\"y\":{\"field\":\"y\"}},\"id\":\"0e463371-d546-4dba-b885-e58679cd5644\",\"type\":\"Rect\"},{\"attributes\":{\"callback\":null,\"column_names\":[\"x\",\"y\",\"width\",\"height\",\"color\",\"fill_alpha\",\"line_color\",\"line_alpha\",\"label\"],\"data\":{\"chart_index\":[\"(569.810000, 599.800000]\"],\"color\":[\"#f22c40\"],\"fill_alpha\":[0.8],\"height\":[4660.0],\"label\":[\"(569.810000, 599.800000]\"],\"line_alpha\":[1.0],\"line_color\":[\"black\"],\"width\":[29.99000000000001],\"x\":[\"584.805\"],\"y\":[2330.0]}},\"id\":\"338eb1c1-8700-44ca-af33-802d0dc72c3f\",\"type\":\"ColumnDataSource\"},{\"attributes\":{\"fill_alpha\":{\"field\":\"fill_alpha\"},\"fill_color\":{\"field\":\"color\"},\"height\":{\"field\":\"height\",\"units\":\"data\"},\"line_color\":{\"field\":\"line_color\"},\"width\":{\"field\":\"width\",\"units\":\"data\"},\"x\":{\"field\":\"x\"},\"y\":{\"field\":\"y\"}},\"id\":\"ea0db7e5-ea8e-4f72-9e07-e09b06e753f1\",\"type\":\"Rect\"},{\"attributes\":{\"data_source\":{\"id\":\"8c5b2479-a527-4e0b-b8be-438d6016d2b9\",\"type\":\"ColumnDataSource\"},\"glyph\":{\"id\":\"ea0db7e5-ea8e-4f72-9e07-e09b06e753f1\",\"type\":\"Rect\"},\"hover_glyph\":null,\"muted_glyph\":null},\"id\":\"73b8345a-23e7-4a22-8703-91f3d2e212cc\",\"type\":\"GlyphRenderer\"},{\"attributes\":{\"data_source\":{\"id\":\"c4c8425f-a037-48ce-9a54-20e97d8b9707\",\"type\":\"ColumnDataSource\"},\"glyph\":{\"id\":\"db439f59-381a-4e18-8dbf-62e1594d1dc9\",\"type\":\"Rect\"},\"hover_glyph\":null,\"muted_glyph\":null},\"id\":\"204ef0ce-b2c9-46c2-be6e-6dceda9eaf8f\",\"type\":\"GlyphRenderer\"},{\"attributes\":{\"callback\":null,\"column_names\":[\"x\",\"y\",\"width\",\"height\",\"color\",\"fill_alpha\",\"line_color\",\"line_alpha\",\"label\"],\"data\":{\"chart_index\":[\"(599.800000, 629.790000]\"],\"color\":[\"#f22c40\"],\"fill_alpha\":[0.8],\"height\":[4577.0],\"label\":[\"(599.800000, 629.790000]\"],\"line_alpha\":[1.0],\"line_color\":[\"black\"],\"width\":[29.99000000000001],\"x\":[\"614.795\"],\"y\":[2288.5]}},\"id\":\"8c5b2479-a527-4e0b-b8be-438d6016d2b9\",\"type\":\"ColumnDataSource\"},{\"attributes\":{\"fill_alpha\":{\"field\":\"fill_alpha\"},\"fill_color\":{\"field\":\"color\"},\"height\":{\"field\":\"height\",\"units\":\"data\"},\"line_color\":{\"field\":\"line_color\"},\"width\":{\"field\":\"width\",\"units\":\"data\"},\"x\":{\"field\":\"x\"},\"y\":{\"field\":\"y\"}},\"id\":\"efbfa2c0-4e71-42fe-b24d-0f0a3df580ee\",\"type\":\"Rect\"},{\"attributes\":{\"fill_alpha\":{\"field\":\"fill_alpha\"},\"fill_color\":{\"field\":\"color\"},\"height\":{\"field\":\"height\",\"units\":\"data\"},\"line_color\":{\"field\":\"line_color\"},\"width\":{\"field\":\"width\",\"units\":\"data\"},\"x\":{\"field\":\"x\"},\"y\":{\"field\":\"y\"}},\"id\":\"fb4e69cc-2a45-4eff-8342-ed9210c4d35d\",\"type\":\"Rect\"},{\"attributes\":{\"data_source\":{\"id\":\"fdbadd89-f0e0-43be-bc71-52f66a3ec8e0\",\"type\":\"ColumnDataSource\"},\"glyph\":{\"id\":\"06bd1783-ae58-46c8-8ca1-8f2f24d8b30f\",\"type\":\"Rect\"},\"hover_glyph\":null,\"muted_glyph\":null},\"id\":\"da3d573b-0a57-47a2-9ebe-eee0fe8c7bb5\",\"type\":\"GlyphRenderer\"},{\"attributes\":{\"data_source\":{\"id\":\"eb6d9338-5196-42b7-a059-0ae6584df7d9\",\"type\":\"ColumnDataSource\"},\"glyph\":{\"id\":\"fb4e69cc-2a45-4eff-8342-ed9210c4d35d\",\"type\":\"Rect\"},\"hover_glyph\":null,\"muted_glyph\":null},\"id\":\"7a54c142-6857-4e7d-88ae-45720316b54a\",\"type\":\"GlyphRenderer\"},{\"attributes\":{\"callback\":null,\"column_names\":[\"x\",\"y\",\"width\",\"height\",\"color\",\"fill_alpha\",\"line_color\",\"line_alpha\",\"label\"],\"data\":{\"chart_index\":[\"(59.980000, 89.970000]\"],\"color\":[\"#f22c40\"],\"fill_alpha\":[0.8],\"height\":[211.0],\"label\":[\"(59.980000, 89.970000]\"],\"line_alpha\":[1.0],\"line_color\":[\"black\"],\"width\":[29.990000000000002],\"x\":[\"74.975\"],\"y\":[105.5]}},\"id\":\"eb6d9338-5196-42b7-a059-0ae6584df7d9\",\"type\":\"ColumnDataSource\"},{\"attributes\":{\"fill_alpha\":{\"field\":\"fill_alpha\"},\"fill_color\":{\"field\":\"color\"},\"height\":{\"field\":\"height\",\"units\":\"data\"},\"line_color\":{\"field\":\"line_color\"},\"width\":{\"field\":\"width\",\"units\":\"data\"},\"x\":{\"field\":\"x\"},\"y\":{\"field\":\"y\"}},\"id\":\"761e0079-bb5f-4552-b06e-8e3d7c372a6c\",\"type\":\"Rect\"},{\"attributes\":{\"fill_alpha\":{\"field\":\"fill_alpha\"},\"fill_color\":{\"field\":\"color\"},\"height\":{\"field\":\"height\",\"units\":\"data\"},\"line_color\":{\"field\":\"line_color\"},\"width\":{\"field\":\"width\",\"units\":\"data\"},\"x\":{\"field\":\"x\"},\"y\":{\"field\":\"y\"}},\"id\":\"9806d101-dbe2-4741-a36f-1929e8f21c5f\",\"type\":\"Rect\"},{\"attributes\":{\"data_source\":{\"id\":\"1520a073-99b1-4d89-aa47-e7faa30e4649\",\"type\":\"ColumnDataSource\"},\"glyph\":{\"id\":\"761e0079-bb5f-4552-b06e-8e3d7c372a6c\",\"type\":\"Rect\"},\"hover_glyph\":null,\"muted_glyph\":null},\"id\":\"187f32b1-862e-4fd8-b129-574f300321ef\",\"type\":\"GlyphRenderer\"},{\"attributes\":{\"fill_alpha\":{\"field\":\"fill_alpha\"},\"fill_color\":{\"field\":\"color\"},\"height\":{\"field\":\"height\",\"units\":\"data\"},\"line_color\":{\"field\":\"line_color\"},\"width\":{\"field\":\"width\",\"units\":\"data\"},\"x\":{\"field\":\"x\"},\"y\":{\"field\":\"y\"}},\"id\":\"ca4cf384-a76d-4a07-b726-4297109c0436\",\"type\":\"Rect\"},{\"attributes\":{\"callback\":null,\"column_names\":[\"x\",\"y\",\"width\",\"height\",\"color\",\"fill_alpha\",\"line_color\",\"line_alpha\",\"label\"],\"data\":{\"chart_index\":[\"(89.970000, 119.960000]\"],\"color\":[\"#f22c40\"],\"fill_alpha\":[0.8],\"height\":[180.0],\"label\":[\"(89.970000, 119.960000]\"],\"line_alpha\":[1.0],\"line_color\":[\"black\"],\"width\":[29.989999999999995],\"x\":[\"104.965\"],\"y\":[90.0]}},\"id\":\"1520a073-99b1-4d89-aa47-e7faa30e4649\",\"type\":\"ColumnDataSource\"},{\"attributes\":{\"data_source\":{\"id\":\"437f557b-067c-4c84-a361-894db71b8de5\",\"type\":\"ColumnDataSource\"},\"glyph\":{\"id\":\"9806d101-dbe2-4741-a36f-1929e8f21c5f\",\"type\":\"Rect\"},\"hover_glyph\":null,\"muted_glyph\":null},\"id\":\"adee51b8-6750-40c9-98cb-a78de9b36e68\",\"type\":\"GlyphRenderer\"},{\"attributes\":{\"fill_alpha\":{\"field\":\"fill_alpha\"},\"fill_color\":{\"field\":\"color\"},\"height\":{\"field\":\"height\",\"units\":\"data\"},\"line_color\":{\"field\":\"line_color\"},\"width\":{\"field\":\"width\",\"units\":\"data\"},\"x\":{\"field\":\"x\"},\"y\":{\"field\":\"y\"}},\"id\":\"06bd1783-ae58-46c8-8ca1-8f2f24d8b30f\",\"type\":\"Rect\"},{\"attributes\":{\"callback\":null,\"column_names\":[\"x\",\"y\",\"width\",\"height\",\"color\",\"fill_alpha\",\"line_color\",\"line_alpha\",\"label\"],\"data\":{\"chart_index\":[\"(119.960000, 149.950000]\"],\"color\":[\"#f22c40\"],\"fill_alpha\":[0.8],\"height\":[296.0],\"label\":[\"(119.960000, 149.950000]\"],\"line_alpha\":[1.0],\"line_color\":[\"black\"],\"width\":[29.989999999999995],\"x\":[\"134.95499999999998\"],\"y\":[148.0]}},\"id\":\"437f557b-067c-4c84-a361-894db71b8de5\",\"type\":\"ColumnDataSource\"},{\"attributes\":{\"fill_alpha\":{\"field\":\"fill_alpha\"},\"fill_color\":{\"field\":\"color\"},\"height\":{\"field\":\"height\",\"units\":\"data\"},\"line_color\":{\"field\":\"line_color\"},\"width\":{\"field\":\"width\",\"units\":\"data\"},\"x\":{\"field\":\"x\"},\"y\":{\"field\":\"y\"}},\"id\":\"f698e2f6-94fe-4196-bace-231c287a841f\",\"type\":\"Rect\"},{\"attributes\":{\"data_source\":{\"id\":\"f5e5a1f1-3c42-4271-89da-9eb0d3f102b3\",\"type\":\"ColumnDataSource\"},\"glyph\":{\"id\":\"f698e2f6-94fe-4196-bace-231c287a841f\",\"type\":\"Rect\"},\"hover_glyph\":null,\"muted_glyph\":null},\"id\":\"0474bd87-8ebc-4ee8-87e1-70cfe089f823\",\"type\":\"GlyphRenderer\"},{\"attributes\":{\"fill_alpha\":{\"field\":\"fill_alpha\"},\"fill_color\":{\"field\":\"color\"},\"height\":{\"field\":\"height\",\"units\":\"data\"},\"line_color\":{\"field\":\"line_color\"},\"width\":{\"field\":\"width\",\"units\":\"data\"},\"x\":{\"field\":\"x\"},\"y\":{\"field\":\"y\"}},\"id\":\"a5419ed6-5341-40a9-9705-728eddaf6126\",\"type\":\"Rect\"},{\"attributes\":{\"callback\":null,\"column_names\":[\"x\",\"y\",\"width\",\"height\",\"color\",\"fill_alpha\",\"line_color\",\"line_alpha\",\"label\"],\"data\":{\"chart_index\":[\"(149.950000, 179.940000]\"],\"color\":[\"#f22c40\"],\"fill_alpha\":[0.8],\"height\":[624.0],\"label\":[\"(149.950000, 179.940000]\"],\"line_alpha\":[1.0],\"line_color\":[\"black\"],\"width\":[29.99000000000001],\"x\":[\"164.945\"],\"y\":[312.0]}},\"id\":\"f5e5a1f1-3c42-4271-89da-9eb0d3f102b3\",\"type\":\"ColumnDataSource\"},{\"attributes\":{\"fill_alpha\":{\"field\":\"fill_alpha\"},\"fill_color\":{\"field\":\"color\"},\"height\":{\"field\":\"height\",\"units\":\"data\"},\"line_color\":{\"field\":\"line_color\"},\"width\":{\"field\":\"width\",\"units\":\"data\"},\"x\":{\"field\":\"x\"},\"y\":{\"field\":\"y\"}},\"id\":\"330ee85c-e779-42fe-8c73-c03119cb3ef8\",\"type\":\"Rect\"},{\"attributes\":{\"location\":\"top_left\",\"plot\":{\"id\":\"c7bad5ec-764f-44e3-b1cb-acd2a502c81d\",\"subtype\":\"Chart\",\"type\":\"Plot\"}},\"id\":\"1f7cb65b-f5bb-4224-990d-ac95b1fae875\",\"type\":\"Legend\"},{\"attributes\":{\"callback\":null,\"column_names\":[\"x\",\"y\",\"width\",\"height\",\"color\",\"fill_alpha\",\"line_color\",\"line_alpha\",\"label\"],\"data\":{\"chart_index\":[\"(659.780000, 689.770000]\"],\"color\":[\"#f22c40\"],\"fill_alpha\":[0.8],\"height\":[4494.0],\"label\":[\"(659.780000, 689.770000]\"],\"line_alpha\":[1.0],\"line_color\":[\"black\"],\"width\":[29.99000000000001],\"x\":[\"674.775\"],\"y\":[2247.0]}},\"id\":\"bc64ba64-2fd1-40a2-ad02-0571e2862dae\",\"type\":\"ColumnDataSource\"},{\"attributes\":{\"data_source\":{\"id\":\"fd3e3bd8-f581-47d8-9120-1f21a04d7253\",\"type\":\"ColumnDataSource\"},\"glyph\":{\"id\":\"a5419ed6-5341-40a9-9705-728eddaf6126\",\"type\":\"Rect\"},\"hover_glyph\":null,\"muted_glyph\":null},\"id\":\"6538af5a-ffa0-4ff8-8447-3f985bbaf429\",\"type\":\"GlyphRenderer\"},{\"attributes\":{\"callback\":null,\"column_names\":[\"x\",\"y\",\"width\",\"height\",\"color\",\"fill_alpha\",\"line_color\",\"line_alpha\",\"label\"],\"data\":{\"chart_index\":[\"(209.930000, 239.920000]\"],\"color\":[\"#f22c40\"],\"fill_alpha\":[0.8],\"height\":[4811.0],\"label\":[\"(209.930000, 239.920000]\"],\"line_alpha\":[1.0],\"line_color\":[\"black\"],\"width\":[29.99000000000001],\"x\":[\"224.925\"],\"y\":[2405.5]}},\"id\":\"fdbadd89-f0e0-43be-bc71-52f66a3ec8e0\",\"type\":\"ColumnDataSource\"},{\"attributes\":{\"callback\":null,\"column_names\":[\"x\",\"y\",\"width\",\"height\",\"color\",\"fill_alpha\",\"line_color\",\"line_alpha\",\"label\"],\"data\":{\"chart_index\":[\"(389.870000, 419.860000]\"],\"color\":[\"#f22c40\"],\"fill_alpha\":[0.8],\"height\":[4206.0],\"label\":[\"(389.870000, 419.860000]\"],\"line_alpha\":[1.0],\"line_color\":[\"black\"],\"width\":[29.989999999999952],\"x\":[\"404.865\"],\"y\":[2103.0]}},\"id\":\"077986e1-508c-4252-9603-6cd73ba564cc\",\"type\":\"ColumnDataSource\"},{\"attributes\":{\"data_source\":{\"id\":\"1b9e3800-b0d2-4af0-832c-8ae68032c69b\",\"type\":\"ColumnDataSource\"},\"glyph\":{\"id\":\"efbfa2c0-4e71-42fe-b24d-0f0a3df580ee\",\"type\":\"Rect\"},\"hover_glyph\":null,\"muted_glyph\":null},\"id\":\"bbc0cfa8-f008-4762-bf83-1b8f280359af\",\"type\":\"GlyphRenderer\"},{\"attributes\":{\"fill_alpha\":{\"field\":\"fill_alpha\"},\"fill_color\":{\"field\":\"color\"},\"height\":{\"field\":\"height\",\"units\":\"data\"},\"line_color\":{\"field\":\"line_color\"},\"width\":{\"field\":\"width\",\"units\":\"data\"},\"x\":{\"field\":\"x\"},\"y\":{\"field\":\"y\"}},\"id\":\"4b8ba57a-f301-477a-9315-7977d133822a\",\"type\":\"Rect\"},{\"attributes\":{\"callback\":null,\"column_names\":[\"x\",\"y\",\"width\",\"height\",\"color\",\"fill_alpha\",\"line_color\",\"line_alpha\",\"label\"],\"data\":{\"chart_index\":[\"(239.920000, 269.910000]\"],\"color\":[\"#f22c40\"],\"fill_alpha\":[0.8],\"height\":[3864.0],\"label\":[\"(239.920000, 269.910000]\"],\"line_alpha\":[1.0],\"line_color\":[\"black\"],\"width\":[29.98999999999998],\"x\":[\"254.91500000000002\"],\"y\":[1932.0]}},\"id\":\"1b9e3800-b0d2-4af0-832c-8ae68032c69b\",\"type\":\"ColumnDataSource\"},{\"attributes\":{\"fill_alpha\":{\"field\":\"fill_alpha\"},\"fill_color\":{\"field\":\"color\"},\"height\":{\"field\":\"height\",\"units\":\"data\"},\"line_color\":{\"field\":\"line_color\"},\"width\":{\"field\":\"width\",\"units\":\"data\"},\"x\":{\"field\":\"x\"},\"y\":{\"field\":\"y\"}},\"id\":\"ddb31f31-f2c5-4681-9ac9-2604f8e6f5d1\",\"type\":\"Rect\"},{\"attributes\":{\"data_source\":{\"id\":\"077986e1-508c-4252-9603-6cd73ba564cc\",\"type\":\"ColumnDataSource\"},\"glyph\":{\"id\":\"c903b437-5e1d-4a81-a197-a0b3126ed5b4\",\"type\":\"Rect\"},\"hover_glyph\":null,\"muted_glyph\":null},\"id\":\"fa3d06b3-232a-4f0d-9e21-ce186bf05415\",\"type\":\"GlyphRenderer\"},{\"attributes\":{\"data_source\":{\"id\":\"9cbe11de-0ef1-4058-ace8-5ed8f6e0240c\",\"type\":\"ColumnDataSource\"},\"glyph\":{\"id\":\"ca4cf384-a76d-4a07-b726-4297109c0436\",\"type\":\"Rect\"},\"hover_glyph\":null,\"muted_glyph\":null},\"id\":\"9e5dd952-782a-4887-a1d8-590623611f14\",\"type\":\"GlyphRenderer\"},{\"attributes\":{\"data_source\":{\"id\":\"faba0dfe-9a2e-4055-8043-0be03183a851\",\"type\":\"ColumnDataSource\"},\"glyph\":{\"id\":\"ddb31f31-f2c5-4681-9ac9-2604f8e6f5d1\",\"type\":\"Rect\"},\"hover_glyph\":null,\"muted_glyph\":null},\"id\":\"0bf392bf-a638-4016-a938-da22d671964c\",\"type\":\"GlyphRenderer\"},{\"attributes\":{\"fill_alpha\":{\"field\":\"fill_alpha\"},\"fill_color\":{\"field\":\"color\"},\"height\":{\"field\":\"height\",\"units\":\"data\"},\"line_color\":{\"field\":\"line_color\"},\"width\":{\"field\":\"width\",\"units\":\"data\"},\"x\":{\"field\":\"x\"},\"y\":{\"field\":\"y\"}},\"id\":\"d31d945c-b19e-41a9-ba24-b413d421922b\",\"type\":\"Rect\"},{\"attributes\":{\"fill_alpha\":{\"field\":\"fill_alpha\"},\"fill_color\":{\"field\":\"color\"},\"height\":{\"field\":\"height\",\"units\":\"data\"},\"line_color\":{\"field\":\"line_color\"},\"width\":{\"field\":\"width\",\"units\":\"data\"},\"x\":{\"field\":\"x\"},\"y\":{\"field\":\"y\"}},\"id\":\"aa4541eb-4bf7-4746-a426-74f86a782080\",\"type\":\"Rect\"},{\"attributes\":{\"data_source\":{\"id\":\"7ba36b6f-b20d-44b7-8225-26026693027a\",\"type\":\"ColumnDataSource\"},\"glyph\":{\"id\":\"d31d945c-b19e-41a9-ba24-b413d421922b\",\"type\":\"Rect\"},\"hover_glyph\":null,\"muted_glyph\":null},\"id\":\"24ea9d9f-e248-42da-947a-2b1e06cd150e\",\"type\":\"GlyphRenderer\"},{\"attributes\":{\"callback\":null,\"column_names\":[\"x\",\"y\",\"width\",\"height\",\"color\",\"fill_alpha\",\"line_color\",\"line_alpha\",\"label\"],\"data\":{\"chart_index\":[\"(269.910000, 299.900000]\"],\"color\":[\"#f22c40\"],\"fill_alpha\":[0.8],\"height\":[3580.0],\"label\":[\"(269.910000, 299.900000]\"],\"line_alpha\":[1.0],\"line_color\":[\"black\"],\"width\":[29.99000000000001],\"x\":[\"284.905\"],\"y\":[1790.0]}},\"id\":\"faba0dfe-9a2e-4055-8043-0be03183a851\",\"type\":\"ColumnDataSource\"},{\"attributes\":{\"fill_alpha\":{\"field\":\"fill_alpha\"},\"fill_color\":{\"field\":\"color\"},\"height\":{\"field\":\"height\",\"units\":\"data\"},\"line_color\":{\"field\":\"line_color\"},\"width\":{\"field\":\"width\",\"units\":\"data\"},\"x\":{\"field\":\"x\"},\"y\":{\"field\":\"y\"}},\"id\":\"fa656f9b-8b82-4219-838c-fdda091f45b4\",\"type\":\"Rect\"},{\"attributes\":{\"fill_alpha\":{\"field\":\"fill_alpha\"},\"fill_color\":{\"field\":\"color\"},\"height\":{\"field\":\"height\",\"units\":\"data\"},\"line_color\":{\"field\":\"line_color\"},\"width\":{\"field\":\"width\",\"units\":\"data\"},\"x\":{\"field\":\"x\"},\"y\":{\"field\":\"y\"}},\"id\":\"c903b437-5e1d-4a81-a197-a0b3126ed5b4\",\"type\":\"Rect\"},{\"attributes\":{\"callback\":null,\"column_names\":[\"x\",\"y\",\"width\",\"height\",\"color\",\"fill_alpha\",\"line_color\",\"line_alpha\",\"label\"],\"data\":{\"chart_index\":[\"[0.000000, 29.990000]\"],\"color\":[\"#f22c40\"],\"fill_alpha\":[0.8],\"height\":[1080.0],\"label\":[\"[0.000000, 29.990000]\"],\"line_alpha\":[1.0],\"line_color\":[\"black\"],\"width\":[29.99],\"x\":[\"14.995\"],\"y\":[540.0]}},\"id\":\"7ba36b6f-b20d-44b7-8225-26026693027a\",\"type\":\"ColumnDataSource\"},{\"attributes\":{\"data_source\":{\"id\":\"ce93390a-2114-41f1-9a95-edd87f5753cb\",\"type\":\"ColumnDataSource\"},\"glyph\":{\"id\":\"fa656f9b-8b82-4219-838c-fdda091f45b4\",\"type\":\"Rect\"},\"hover_glyph\":null,\"muted_glyph\":null},\"id\":\"0b8c8fd2-79fd-49c1-bb36-9876ec25092d\",\"type\":\"GlyphRenderer\"},{\"attributes\":{\"callback\":null,\"column_names\":[\"x\",\"y\",\"width\",\"height\",\"color\",\"fill_alpha\",\"line_color\",\"line_alpha\",\"label\"],\"data\":{\"chart_index\":[\"(179.940000, 209.930000]\"],\"color\":[\"#f22c40\"],\"fill_alpha\":[0.8],\"height\":[1793.0],\"label\":[\"(179.940000, 209.930000]\"],\"line_alpha\":[1.0],\"line_color\":[\"black\"],\"width\":[29.98999999999998],\"x\":[\"194.935\"],\"y\":[896.5]}},\"id\":\"fd3e3bd8-f581-47d8-9120-1f21a04d7253\",\"type\":\"ColumnDataSource\"},{\"attributes\":{\"callback\":null,\"column_names\":[\"x\",\"y\",\"width\",\"height\",\"color\",\"fill_alpha\",\"line_color\",\"line_alpha\",\"label\"],\"data\":{\"chart_index\":[\"(29.990000, 59.980000]\"],\"color\":[\"#f22c40\"],\"fill_alpha\":[0.8],\"height\":[119.0],\"label\":[\"(29.990000, 59.980000]\"],\"line_alpha\":[1.0],\"line_color\":[\"black\"],\"width\":[29.99],\"x\":[\"44.985\"],\"y\":[59.5]}},\"id\":\"141703ea-833d-4748-87cd-75336da1396b\",\"type\":\"ColumnDataSource\"},{\"attributes\":{\"data_source\":{\"id\":\"141703ea-833d-4748-87cd-75336da1396b\",\"type\":\"ColumnDataSource\"},\"glyph\":{\"id\":\"4b8ba57a-f301-477a-9315-7977d133822a\",\"type\":\"Rect\"},\"hover_glyph\":null,\"muted_glyph\":null},\"id\":\"4ee163bf-1eb2-43f8-9e57-8ac7d0906cbe\",\"type\":\"GlyphRenderer\"},{\"attributes\":{\"callback\":null,\"column_names\":[\"x\",\"y\",\"width\",\"height\",\"color\",\"fill_alpha\",\"line_color\",\"line_alpha\",\"label\"],\"data\":{\"chart_index\":[\"(299.900000, 329.890000]\"],\"color\":[\"#f22c40\"],\"fill_alpha\":[0.8],\"height\":[3694.0],\"label\":[\"(299.900000, 329.890000]\"],\"line_alpha\":[1.0],\"line_color\":[\"black\"],\"width\":[29.99000000000001],\"x\":[\"314.895\"],\"y\":[1847.0]}},\"id\":\"ce93390a-2114-41f1-9a95-edd87f5753cb\",\"type\":\"ColumnDataSource\"},{\"attributes\":{\"fill_alpha\":{\"field\":\"fill_alpha\"},\"fill_color\":{\"field\":\"color\"},\"height\":{\"field\":\"height\",\"units\":\"data\"},\"line_color\":{\"field\":\"line_color\"},\"width\":{\"field\":\"width\",\"units\":\"data\"},\"x\":{\"field\":\"x\"},\"y\":{\"field\":\"y\"}},\"id\":\"fe19577b-552f-4e19-943a-4a2bab156231\",\"type\":\"Rect\"},{\"attributes\":{\"data_source\":{\"id\":\"f6b86f3b-298e-4489-bedb-156c3b8f8987\",\"type\":\"ColumnDataSource\"},\"glyph\":{\"id\":\"40868c0f-c16a-4386-bca5-4c5627f0b49a\",\"type\":\"Rect\"},\"hover_glyph\":null,\"muted_glyph\":null},\"id\":\"736b4dbc-eeae-4db5-b48d-ecf643452921\",\"type\":\"GlyphRenderer\"},{\"attributes\":{\"fill_alpha\":{\"field\":\"fill_alpha\"},\"fill_color\":{\"field\":\"color\"},\"height\":{\"field\":\"height\",\"units\":\"data\"},\"line_color\":{\"field\":\"line_color\"},\"width\":{\"field\":\"width\",\"units\":\"data\"},\"x\":{\"field\":\"x\"},\"y\":{\"field\":\"y\"}},\"id\":\"381a8a43-22b4-4688-bace-f811819e126e\",\"type\":\"Rect\"},{\"attributes\":{\"fill_alpha\":{\"field\":\"fill_alpha\"},\"fill_color\":{\"field\":\"color\"},\"height\":{\"field\":\"height\",\"units\":\"data\"},\"line_color\":{\"field\":\"line_color\"},\"width\":{\"field\":\"width\",\"units\":\"data\"},\"x\":{\"field\":\"x\"},\"y\":{\"field\":\"y\"}},\"id\":\"731babe4-3a4b-42ea-b0e4-f6c54cc789c2\",\"type\":\"Rect\"},{\"attributes\":{\"fill_alpha\":{\"field\":\"fill_alpha\"},\"fill_color\":{\"field\":\"color\"},\"height\":{\"field\":\"height\",\"units\":\"data\"},\"line_color\":{\"field\":\"line_color\"},\"width\":{\"field\":\"width\",\"units\":\"data\"},\"x\":{\"field\":\"x\"},\"y\":{\"field\":\"y\"}},\"id\":\"1d084c15-6eb5-4f45-9450-7b36c02e945a\",\"type\":\"Rect\"},{\"attributes\":{\"callback\":null,\"column_names\":[\"x\",\"y\",\"width\",\"height\",\"color\",\"fill_alpha\",\"line_color\",\"line_alpha\",\"label\"],\"data\":{\"chart_index\":[\"(2579.140000, 2609.130000]\"],\"color\":[\"#f22c40\"],\"fill_alpha\":[0.8],\"height\":[108.0],\"label\":[\"(2579.140000, 2609.130000]\"],\"line_alpha\":[1.0],\"line_color\":[\"black\"],\"width\":[29.98999999999978],\"x\":[\"2594.135\"],\"y\":[54.0]}},\"id\":\"6add8aec-65aa-4efb-8994-d6fb926188e9\",\"type\":\"ColumnDataSource\"},{\"attributes\":{\"plot\":{\"id\":\"c7bad5ec-764f-44e3-b1cb-acd2a502c81d\",\"subtype\":\"Chart\",\"type\":\"Plot\"}},\"id\":\"50ce8856-0ff0-4493-ae70-d2f51be12850\",\"type\":\"WheelZoomTool\"},{\"attributes\":{\"plot\":{\"id\":\"c7bad5ec-764f-44e3-b1cb-acd2a502c81d\",\"subtype\":\"Chart\",\"type\":\"Plot\"}},\"id\":\"9043169f-33f0-42e3-a643-1e62b367e9ac\",\"type\":\"HelpTool\"},{\"attributes\":{\"data_source\":{\"id\":\"b2b29fa7-16d3-4f7e-81f3-96a0d3277701\",\"type\":\"ColumnDataSource\"},\"glyph\":{\"id\":\"72c7ad09-2c5b-4a74-85c8-156c7770555c\",\"type\":\"Rect\"},\"hover_glyph\":null,\"muted_glyph\":null},\"id\":\"4db296c6-2c3f-4caa-acfa-f5e318937365\",\"type\":\"GlyphRenderer\"},{\"attributes\":{\"data_source\":{\"id\":\"bfa11e3a-3239-482b-a74a-0a4cc3eb7a50\",\"type\":\"ColumnDataSource\"},\"glyph\":{\"id\":\"932c47a1-4c0d-43fd-b401-8229f44ae152\",\"type\":\"Rect\"},\"hover_glyph\":null,\"muted_glyph\":null},\"id\":\"d27c69f8-0401-4af6-93ba-5c03055398ce\",\"type\":\"GlyphRenderer\"},{\"attributes\":{\"data_source\":{\"id\":\"9645b1cf-76ea-4f7d-a389-c7f075ef4785\",\"type\":\"ColumnDataSource\"},\"glyph\":{\"id\":\"9e1a40ae-df28-4b14-9f10-5ba65f1e6a11\",\"type\":\"Rect\"},\"hover_glyph\":null,\"muted_glyph\":null},\"id\":\"bdb388c2-85be-476a-9d98-48a370d7dcdf\",\"type\":\"GlyphRenderer\"},{\"attributes\":{\"fill_alpha\":{\"field\":\"fill_alpha\"},\"fill_color\":{\"field\":\"color\"},\"height\":{\"field\":\"height\",\"units\":\"data\"},\"line_color\":{\"field\":\"line_color\"},\"width\":{\"field\":\"width\",\"units\":\"data\"},\"x\":{\"field\":\"x\"},\"y\":{\"field\":\"y\"}},\"id\":\"0af69171-e085-4cc4-9d72-db944641dfd4\",\"type\":\"Rect\"},{\"attributes\":{\"fill_alpha\":{\"field\":\"fill_alpha\"},\"fill_color\":{\"field\":\"color\"},\"height\":{\"field\":\"height\",\"units\":\"data\"},\"line_color\":{\"field\":\"line_color\"},\"width\":{\"field\":\"width\",\"units\":\"data\"},\"x\":{\"field\":\"x\"},\"y\":{\"field\":\"y\"}},\"id\":\"302ec4c0-494f-44cc-b55d-0959e7dccad3\",\"type\":\"Rect\"},{\"attributes\":{\"callback\":null,\"column_names\":[\"x\",\"y\",\"width\",\"height\",\"color\",\"fill_alpha\",\"line_color\",\"line_alpha\",\"label\"],\"data\":{\"chart_index\":[\"(1499.500000, 1529.490000]\"],\"color\":[\"#f22c40\"],\"fill_alpha\":[0.8],\"height\":[1888.0],\"label\":[\"(1499.500000, 1529.490000]\"],\"line_alpha\":[1.0],\"line_color\":[\"black\"],\"width\":[29.99000000000001],\"x\":[\"1514.495\"],\"y\":[944.0]}},\"id\":\"d680fd95-7191-4e75-b9e4-1aa588ca2aaa\",\"type\":\"ColumnDataSource\"},{\"attributes\":{\"fill_alpha\":{\"field\":\"fill_alpha\"},\"fill_color\":{\"field\":\"color\"},\"height\":{\"field\":\"height\",\"units\":\"data\"},\"line_color\":{\"field\":\"line_color\"},\"width\":{\"field\":\"width\",\"units\":\"data\"},\"x\":{\"field\":\"x\"},\"y\":{\"field\":\"y\"}},\"id\":\"15cb0191-14c1-441f-818b-3509382c3c58\",\"type\":\"Rect\"},{\"attributes\":{\"callback\":null,\"column_names\":[\"x\",\"y\",\"width\",\"height\",\"color\",\"fill_alpha\",\"line_color\",\"line_alpha\",\"label\"],\"data\":{\"chart_index\":[\"(1289.570000, 1319.560000]\"],\"color\":[\"#f22c40\"],\"fill_alpha\":[0.8],\"height\":[2865.0],\"label\":[\"(1289.570000, 1319.560000]\"],\"line_alpha\":[1.0],\"line_color\":[\"black\"],\"width\":[29.99000000000001],\"x\":[\"1304.565\"],\"y\":[1432.5]}},\"id\":\"16148b01-1fc8-4030-89fd-515c0e8e8fee\",\"type\":\"ColumnDataSource\"},{\"attributes\":{\"fill_alpha\":{\"field\":\"fill_alpha\"},\"fill_color\":{\"field\":\"color\"},\"height\":{\"field\":\"height\",\"units\":\"data\"},\"line_color\":{\"field\":\"line_color\"},\"width\":{\"field\":\"width\",\"units\":\"data\"},\"x\":{\"field\":\"x\"},\"y\":{\"field\":\"y\"}},\"id\":\"b90e4a47-67cb-4b42-9bc5-ba7217c4b59b\",\"type\":\"Rect\"},{\"attributes\":{\"data_source\":{\"id\":\"e7db5309-777e-4925-96af-6b52484eeeca\",\"type\":\"ColumnDataSource\"},\"glyph\":{\"id\":\"302ec4c0-494f-44cc-b55d-0959e7dccad3\",\"type\":\"Rect\"},\"hover_glyph\":null,\"muted_glyph\":null},\"id\":\"0b5078e3-565b-42f1-9d74-52d851065599\",\"type\":\"GlyphRenderer\"},{\"attributes\":{\"fill_alpha\":{\"field\":\"fill_alpha\"},\"fill_color\":{\"field\":\"color\"},\"height\":{\"field\":\"height\",\"units\":\"data\"},\"line_color\":{\"field\":\"line_color\"},\"width\":{\"field\":\"width\",\"units\":\"data\"},\"x\":{\"field\":\"x\"},\"y\":{\"field\":\"y\"}},\"id\":\"36888c59-d2ff-4444-ac1f-de1a2a1068e9\",\"type\":\"Rect\"},{\"attributes\":{\"callback\":null,\"column_names\":[\"x\",\"y\",\"width\",\"height\",\"color\",\"fill_alpha\",\"line_color\",\"line_alpha\",\"label\"],\"data\":{\"chart_index\":[\"(1949.350000, 1979.340000]\"],\"color\":[\"#f22c40\"],\"fill_alpha\":[0.8],\"height\":[476.0],\"label\":[\"(1949.350000, 1979.340000]\"],\"line_alpha\":[1.0],\"line_color\":[\"black\"],\"width\":[29.99000000000001],\"x\":[\"1964.3449999999998\"],\"y\":[238.0]}},\"id\":\"d0603ede-77df-4f36-be5c-55f9cfc7f7f3\",\"type\":\"ColumnDataSource\"},{\"attributes\":{\"plot\":{\"id\":\"c7bad5ec-764f-44e3-b1cb-acd2a502c81d\",\"subtype\":\"Chart\",\"type\":\"Plot\"}},\"id\":\"b3d90931-029c-4087-b02d-f9c6712e8b7d\",\"type\":\"ResetTool\"},{\"attributes\":{\"data_source\":{\"id\":\"f49cbe51-acc8-4c56-98b9-7895ab094b32\",\"type\":\"ColumnDataSource\"},\"glyph\":{\"id\":\"0af69171-e085-4cc4-9d72-db944641dfd4\",\"type\":\"Rect\"},\"hover_glyph\":null,\"muted_glyph\":null},\"id\":\"90f5a856-e9ad-45b9-9690-669a60489c2a\",\"type\":\"GlyphRenderer\"},{\"attributes\":{\"callback\":null,\"column_names\":[\"x\",\"y\",\"width\",\"height\",\"color\",\"fill_alpha\",\"line_color\",\"line_alpha\",\"label\"],\"data\":{\"chart_index\":[\"(959.680000, 989.670000]\"],\"color\":[\"#f22c40\"],\"fill_alpha\":[0.8],\"height\":[4538.0],\"label\":[\"(959.680000, 989.670000]\"],\"line_alpha\":[1.0],\"line_color\":[\"black\"],\"width\":[29.99000000000001],\"x\":[\"974.675\"],\"y\":[2269.0]}},\"id\":\"b2b29fa7-16d3-4f7e-81f3-96a0d3277701\",\"type\":\"ColumnDataSource\"},{\"attributes\":{\"callback\":null,\"column_names\":[\"x\",\"y\",\"width\",\"height\",\"color\",\"fill_alpha\",\"line_color\",\"line_alpha\",\"label\"],\"data\":{\"chart_index\":[\"(1649.450000, 1679.440000]\"],\"color\":[\"#f22c40\"],\"fill_alpha\":[0.8],\"height\":[1163.0],\"label\":[\"(1649.450000, 1679.440000]\"],\"line_alpha\":[1.0],\"line_color\":[\"black\"],\"width\":[29.99000000000001],\"x\":[\"1664.4450000000002\"],\"y\":[581.5]}},\"id\":\"bfa11e3a-3239-482b-a74a-0a4cc3eb7a50\",\"type\":\"ColumnDataSource\"},{\"attributes\":{\"fill_alpha\":{\"field\":\"fill_alpha\"},\"fill_color\":{\"field\":\"color\"},\"height\":{\"field\":\"height\",\"units\":\"data\"},\"line_color\":{\"field\":\"line_color\"},\"width\":{\"field\":\"width\",\"units\":\"data\"},\"x\":{\"field\":\"x\"},\"y\":{\"field\":\"y\"}},\"id\":\"e5352906-5279-4e39-96a3-0cfed68115c5\",\"type\":\"Rect\"},{\"attributes\":{\"callback\":null,\"column_names\":[\"x\",\"y\",\"width\",\"height\",\"color\",\"fill_alpha\",\"line_color\",\"line_alpha\",\"label\"],\"data\":{\"chart_index\":[\"(1739.420000, 1769.410000]\"],\"color\":[\"#f22c40\"],\"fill_alpha\":[0.8],\"height\":[928.0],\"label\":[\"(1739.420000, 1769.410000]\"],\"line_alpha\":[1.0],\"line_color\":[\"black\"],\"width\":[29.99000000000001],\"x\":[\"1754.415\"],\"y\":[464.0]}},\"id\":\"c6963046-a469-47f3-860e-c2efebe525e7\",\"type\":\"ColumnDataSource\"},{\"attributes\":{\"overlay\":{\"id\":\"3698a33e-5a30-408b-8b91-22597edf8978\",\"type\":\"BoxAnnotation\"},\"plot\":{\"id\":\"c7bad5ec-764f-44e3-b1cb-acd2a502c81d\",\"subtype\":\"Chart\",\"type\":\"Plot\"}},\"id\":\"abcbbb34-b886-4c6b-b12c-661365bbb879\",\"type\":\"BoxZoomTool\"},{\"attributes\":{\"plot\":{\"id\":\"c7bad5ec-764f-44e3-b1cb-acd2a502c81d\",\"subtype\":\"Chart\",\"type\":\"Plot\"}},\"id\":\"3be08f69-0118-4b1d-afb5-a55df705c4b2\",\"type\":\"SaveTool\"},{\"attributes\":{\"data_source\":{\"id\":\"315add98-c1c7-474b-ab82-08605ae0d6ce\",\"type\":\"ColumnDataSource\"},\"glyph\":{\"id\":\"381a8a43-22b4-4688-bace-f811819e126e\",\"type\":\"Rect\"},\"hover_glyph\":null,\"muted_glyph\":null},\"id\":\"f5c0b385-4b18-42cb-8350-4ccfd44b2299\",\"type\":\"GlyphRenderer\"},{\"attributes\":{\"data_source\":{\"id\":\"74db6fe4-4db4-4439-888e-db24208facc6\",\"type\":\"ColumnDataSource\"},\"glyph\":{\"id\":\"731babe4-3a4b-42ea-b0e4-f6c54cc789c2\",\"type\":\"Rect\"},\"hover_glyph\":null,\"muted_glyph\":null},\"id\":\"d8df2be1-8d2f-4b65-8881-6fd2b5f99217\",\"type\":\"GlyphRenderer\"},{\"attributes\":{\"data_source\":{\"id\":\"cbfb0f5e-6e34-48a4-a153-3fb6112428c0\",\"type\":\"ColumnDataSource\"},\"glyph\":{\"id\":\"fe19577b-552f-4e19-943a-4a2bab156231\",\"type\":\"Rect\"},\"hover_glyph\":null,\"muted_glyph\":null},\"id\":\"2e2bd68e-feb8-4e6d-832c-f8e331f7c140\",\"type\":\"GlyphRenderer\"},{\"attributes\":{\"callback\":null,\"column_names\":[\"x\",\"y\",\"width\",\"height\",\"color\",\"fill_alpha\",\"line_color\",\"line_alpha\",\"label\"],\"data\":{\"chart_index\":[\"(2159.280000, 2189.270000]\"],\"color\":[\"#f22c40\"],\"fill_alpha\":[0.8],\"height\":[268.0],\"label\":[\"(2159.280000, 2189.270000]\"],\"line_alpha\":[1.0],\"line_color\":[\"black\"],\"width\":[29.990000000000236],\"x\":[\"2174.275\"],\"y\":[134.0]}},\"id\":\"e2f5bc41-36eb-4453-a4a4-69ee0b811dfe\",\"type\":\"ColumnDataSource\"},{\"attributes\":{\"fill_alpha\":{\"field\":\"fill_alpha\"},\"fill_color\":{\"field\":\"color\"},\"height\":{\"field\":\"height\",\"units\":\"data\"},\"line_color\":{\"field\":\"line_color\"},\"width\":{\"field\":\"width\",\"units\":\"data\"},\"x\":{\"field\":\"x\"},\"y\":{\"field\":\"y\"}},\"id\":\"7fd0266a-cc91-4ffb-a201-17030f0e1492\",\"type\":\"Rect\"},{\"attributes\":{\"callback\":null,\"column_names\":[\"x\",\"y\",\"width\",\"height\",\"color\",\"fill_alpha\",\"line_color\",\"line_alpha\",\"label\"],\"data\":{\"chart_index\":[\"(2039.320000, 2069.310000]\"],\"color\":[\"#f22c40\"],\"fill_alpha\":[0.8],\"height\":[354.0],\"label\":[\"(2039.320000, 2069.310000]\"],\"line_alpha\":[1.0],\"line_color\":[\"black\"],\"width\":[29.99000000000001],\"x\":[\"2054.315\"],\"y\":[177.0]}},\"id\":\"e7db5309-777e-4925-96af-6b52484eeeca\",\"type\":\"ColumnDataSource\"},{\"attributes\":{\"callback\":null,\"column_names\":[\"x\",\"y\",\"width\",\"height\",\"color\",\"fill_alpha\",\"line_color\",\"line_alpha\",\"label\"],\"data\":{\"chart_index\":[\"(1349.550000, 1379.540000]\"],\"color\":[\"#f22c40\"],\"fill_alpha\":[0.8],\"height\":[2517.0],\"label\":[\"(1349.550000, 1379.540000]\"],\"line_alpha\":[1.0],\"line_color\":[\"black\"],\"width\":[29.99000000000001],\"x\":[\"1364.545\"],\"y\":[1258.5]}},\"id\":\"f49cbe51-acc8-4c56-98b9-7895ab094b32\",\"type\":\"ColumnDataSource\"},{\"attributes\":{\"fill_alpha\":{\"field\":\"fill_alpha\"},\"fill_color\":{\"field\":\"color\"},\"height\":{\"field\":\"height\",\"units\":\"data\"},\"line_color\":{\"field\":\"line_color\"},\"width\":{\"field\":\"width\",\"units\":\"data\"},\"x\":{\"field\":\"x\"},\"y\":{\"field\":\"y\"}},\"id\":\"f6a04fcc-685d-485b-a915-df5698f502b9\",\"type\":\"Rect\"},{\"attributes\":{\"fill_alpha\":{\"field\":\"fill_alpha\"},\"fill_color\":{\"field\":\"color\"},\"height\":{\"field\":\"height\",\"units\":\"data\"},\"line_color\":{\"field\":\"line_color\"},\"width\":{\"field\":\"width\",\"units\":\"data\"},\"x\":{\"field\":\"x\"},\"y\":{\"field\":\"y\"}},\"id\":\"2e369bd8-e749-4b7f-bc09-ce74a04a94f4\",\"type\":\"Rect\"},{\"attributes\":{\"data_source\":{\"id\":\"c6963046-a469-47f3-860e-c2efebe525e7\",\"type\":\"ColumnDataSource\"},\"glyph\":{\"id\":\"5596014c-155e-4a97-89d1-1b16d22c9e5d\",\"type\":\"Rect\"},\"hover_glyph\":null,\"muted_glyph\":null},\"id\":\"3dfa0b4f-86aa-4a53-a4e7-e2739479c289\",\"type\":\"GlyphRenderer\"},{\"attributes\":{\"data_source\":{\"id\":\"d5ea6d80-0a48-4253-b6e0-b79d03639f42\",\"type\":\"ColumnDataSource\"},\"glyph\":{\"id\":\"15cb0191-14c1-441f-818b-3509382c3c58\",\"type\":\"Rect\"},\"hover_glyph\":null,\"muted_glyph\":null},\"id\":\"89a9f644-6139-4e4b-9924-6a39ba593c5f\",\"type\":\"GlyphRenderer\"},{\"attributes\":{\"callback\":null,\"column_names\":[\"x\",\"y\",\"width\",\"height\",\"color\",\"fill_alpha\",\"line_color\",\"line_alpha\",\"label\"],\"data\":{\"chart_index\":[\"(1079.640000, 1109.630000]\"],\"color\":[\"#f22c40\"],\"fill_alpha\":[0.8],\"height\":[4054.0],\"label\":[\"(1079.640000, 1109.630000]\"],\"line_alpha\":[1.0],\"line_color\":[\"black\"],\"width\":[29.99000000000001],\"x\":[\"1094.6350000000002\"],\"y\":[2027.0]}},\"id\":\"999b6bc2-fee3-490e-88ed-c81bdc757603\",\"type\":\"ColumnDataSource\"},{\"attributes\":{\"data_source\":{\"id\":\"1d6b08bc-0ee2-40f0-9356-4ad3225f3be8\",\"type\":\"ColumnDataSource\"},\"glyph\":{\"id\":\"b90e4a47-67cb-4b42-9bc5-ba7217c4b59b\",\"type\":\"Rect\"},\"hover_glyph\":null,\"muted_glyph\":null},\"id\":\"0635608a-1e24-4ca3-a331-a50ca6e3c590\",\"type\":\"GlyphRenderer\"},{\"attributes\":{\"callback\":null,\"column_names\":[\"x\",\"y\",\"width\",\"height\",\"color\",\"fill_alpha\",\"line_color\",\"line_alpha\",\"label\"],\"data\":{\"chart_index\":[\"(989.670000, 1019.660000]\"],\"color\":[\"#f22c40\"],\"fill_alpha\":[0.8],\"height\":[4348.0],\"label\":[\"(989.670000, 1019.660000]\"],\"line_alpha\":[1.0],\"line_color\":[\"black\"],\"width\":[29.99000000000001],\"x\":[\"1004.665\"],\"y\":[2174.0]}},\"id\":\"315add98-c1c7-474b-ab82-08605ae0d6ce\",\"type\":\"ColumnDataSource\"},{\"attributes\":{\"callback\":null,\"column_names\":[\"x\",\"y\",\"width\",\"height\",\"color\",\"fill_alpha\",\"line_color\",\"line_alpha\",\"label\"],\"data\":{\"chart_index\":[\"(1679.440000, 1709.430000]\"],\"color\":[\"#f22c40\"],\"fill_alpha\":[0.8],\"height\":[1142.0],\"label\":[\"(1679.440000, 1709.430000]\"],\"line_alpha\":[1.0],\"line_color\":[\"black\"],\"width\":[29.99000000000001],\"x\":[\"1694.435\"],\"y\":[571.0]}},\"id\":\"74db6fe4-4db4-4439-888e-db24208facc6\",\"type\":\"ColumnDataSource\"},{\"attributes\":{\"data_source\":{\"id\":\"1002d7c0-258e-4112-8d01-ed0af0917f27\",\"type\":\"ColumnDataSource\"},\"glyph\":{\"id\":\"159fef79-87da-480c-a1b5-e7a602f74dd8\",\"type\":\"Rect\"},\"hover_glyph\":null,\"muted_glyph\":null},\"id\":\"13b33917-d521-4ca1-8bd9-ef8b061962b0\",\"type\":\"GlyphRenderer\"},{\"attributes\":{\"data_source\":{\"id\":\"5c2ce452-2611-4d8d-a5bb-521bc5100c09\",\"type\":\"ColumnDataSource\"},\"glyph\":{\"id\":\"b55d1d35-fb0a-4bac-80db-3244fb020c25\",\"type\":\"Rect\"},\"hover_glyph\":null,\"muted_glyph\":null},\"id\":\"eb8f6454-7501-4f7d-a02c-b1e8e7356277\",\"type\":\"GlyphRenderer\"},{\"attributes\":{\"data_source\":{\"id\":\"95726589-f3d9-4250-b8fb-a613347411a6\",\"type\":\"ColumnDataSource\"},\"glyph\":{\"id\":\"e5352906-5279-4e39-96a3-0cfed68115c5\",\"type\":\"Rect\"},\"hover_glyph\":null,\"muted_glyph\":null},\"id\":\"a1bb8032-8146-42dc-a68b-ea95b439d220\",\"type\":\"GlyphRenderer\"},{\"attributes\":{\"fill_alpha\":{\"field\":\"fill_alpha\"},\"fill_color\":{\"field\":\"color\"},\"height\":{\"field\":\"height\",\"units\":\"data\"},\"line_color\":{\"field\":\"line_color\"},\"width\":{\"field\":\"width\",\"units\":\"data\"},\"x\":{\"field\":\"x\"},\"y\":{\"field\":\"y\"}},\"id\":\"2ac152b2-1471-4909-a521-4713422b0eef\",\"type\":\"Rect\"},{\"attributes\":{\"data_source\":{\"id\":\"a508440e-dfe3-4b6f-910f-5531723699ac\",\"type\":\"ColumnDataSource\"},\"glyph\":{\"id\":\"b0600fec-585b-47ca-9983-e275ab0bed98\",\"type\":\"Rect\"},\"hover_glyph\":null,\"muted_glyph\":null},\"id\":\"8ff444f2-30ca-4104-ba9b-89b186201511\",\"type\":\"GlyphRenderer\"},{\"attributes\":{\"callback\":null,\"column_names\":[\"x\",\"y\",\"width\",\"height\",\"color\",\"fill_alpha\",\"line_color\",\"line_alpha\",\"label\"],\"data\":{\"chart_index\":[\"(2069.310000, 2099.300000]\"],\"color\":[\"#f22c40\"],\"fill_alpha\":[0.8],\"height\":[337.0],\"label\":[\"(2069.310000, 2099.300000]\"],\"line_alpha\":[1.0],\"line_color\":[\"black\"],\"width\":[29.98999999999978],\"x\":[\"2084.3050000000003\"],\"y\":[168.5]}},\"id\":\"d5ea6d80-0a48-4253-b6e0-b79d03639f42\",\"type\":\"ColumnDataSource\"},{\"attributes\":{\"data_source\":{\"id\":\"e2f5bc41-36eb-4453-a4a4-69ee0b811dfe\",\"type\":\"ColumnDataSource\"},\"glyph\":{\"id\":\"81f59c4a-c4b6-4689-b2de-3ab9fc313784\",\"type\":\"Rect\"},\"hover_glyph\":null,\"muted_glyph\":null},\"id\":\"620585f4-e464-4be4-a033-64bacc5ff7a5\",\"type\":\"GlyphRenderer\"},{\"attributes\":{\"callback\":null,\"column_names\":[\"x\",\"y\",\"width\",\"height\",\"color\",\"fill_alpha\",\"line_color\",\"line_alpha\",\"label\"],\"data\":{\"chart_index\":[\"(1379.540000, 1409.530000]\"],\"color\":[\"#f22c40\"],\"fill_alpha\":[0.8],\"height\":[2403.0],\"label\":[\"(1379.540000, 1409.530000]\"],\"line_alpha\":[1.0],\"line_color\":[\"black\"],\"width\":[29.99000000000001],\"x\":[\"1394.5349999999999\"],\"y\":[1201.5]}},\"id\":\"1d6b08bc-0ee2-40f0-9356-4ad3225f3be8\",\"type\":\"ColumnDataSource\"},{\"attributes\":{\"fill_alpha\":{\"field\":\"fill_alpha\"},\"fill_color\":{\"field\":\"color\"},\"height\":{\"field\":\"height\",\"units\":\"data\"},\"line_color\":{\"field\":\"line_color\"},\"width\":{\"field\":\"width\",\"units\":\"data\"},\"x\":{\"field\":\"x\"},\"y\":{\"field\":\"y\"}},\"id\":\"b55d1d35-fb0a-4bac-80db-3244fb020c25\",\"type\":\"Rect\"},{\"attributes\":{\"fill_alpha\":{\"field\":\"fill_alpha\"},\"fill_color\":{\"field\":\"color\"},\"height\":{\"field\":\"height\",\"units\":\"data\"},\"line_color\":{\"field\":\"line_color\"},\"width\":{\"field\":\"width\",\"units\":\"data\"},\"x\":{\"field\":\"x\"},\"y\":{\"field\":\"y\"}},\"id\":\"dd1eef1b-3e80-4451-b3f9-6d583b3ea11c\",\"type\":\"Rect\"},{\"attributes\":{\"callback\":null,\"end\":5292.1},\"id\":\"6fb0a3f4-50cc-40e4-bf73-7a0560c5cdbd\",\"type\":\"Range1d\"},{\"attributes\":{\"data_source\":{\"id\":\"24cec45e-3bac-44ab-94f8-09db5578ae40\",\"type\":\"ColumnDataSource\"},\"glyph\":{\"id\":\"f6a04fcc-685d-485b-a915-df5698f502b9\",\"type\":\"Rect\"},\"hover_glyph\":null,\"muted_glyph\":null},\"id\":\"f6b6aa19-1246-4712-a608-8819d2913cb8\",\"type\":\"GlyphRenderer\"},{\"attributes\":{\"fill_alpha\":{\"field\":\"fill_alpha\"},\"fill_color\":{\"field\":\"color\"},\"height\":{\"field\":\"height\",\"units\":\"data\"},\"line_color\":{\"field\":\"line_color\"},\"width\":{\"field\":\"width\",\"units\":\"data\"},\"x\":{\"field\":\"x\"},\"y\":{\"field\":\"y\"}},\"id\":\"40868c0f-c16a-4386-bca5-4c5627f0b49a\",\"type\":\"Rect\"},{\"attributes\":{\"data_source\":{\"id\":\"f389d6b5-b597-4c29-a3f0-321667eb2f39\",\"type\":\"ColumnDataSource\"},\"glyph\":{\"id\":\"2e369bd8-e749-4b7f-bc09-ce74a04a94f4\",\"type\":\"Rect\"},\"hover_glyph\":null,\"muted_glyph\":null},\"id\":\"bd29c0b3-7672-4864-811d-2b41f2072525\",\"type\":\"GlyphRenderer\"},{\"attributes\":{\"callback\":null,\"column_names\":[\"x\",\"y\",\"width\",\"height\",\"color\",\"fill_alpha\",\"line_color\",\"line_alpha\",\"label\"],\"data\":{\"chart_index\":[\"(1019.660000, 1049.650000]\"],\"color\":[\"#f22c40\"],\"fill_alpha\":[0.8],\"height\":[4367.0],\"label\":[\"(1019.660000, 1049.650000]\"],\"line_alpha\":[1.0],\"line_color\":[\"black\"],\"width\":[29.989999999999895],\"x\":[\"1034.655\"],\"y\":[2183.5]}},\"id\":\"95726589-f3d9-4250-b8fb-a613347411a6\",\"type\":\"ColumnDataSource\"},{\"attributes\":{\"fill_alpha\":{\"field\":\"fill_alpha\"},\"fill_color\":{\"field\":\"color\"},\"height\":{\"field\":\"height\",\"units\":\"data\"},\"line_color\":{\"field\":\"line_color\"},\"width\":{\"field\":\"width\",\"units\":\"data\"},\"x\":{\"field\":\"x\"},\"y\":{\"field\":\"y\"}},\"id\":\"159fef79-87da-480c-a1b5-e7a602f74dd8\",\"type\":\"Rect\"},{\"attributes\":{\"callback\":null,\"column_names\":[\"x\",\"y\",\"width\",\"height\",\"color\",\"fill_alpha\",\"line_color\",\"line_alpha\",\"label\"],\"data\":{\"chart_index\":[\"(2009.330000, 2039.320000]\"],\"color\":[\"#f22c40\"],\"fill_alpha\":[0.8],\"height\":[394.0],\"label\":[\"(2009.330000, 2039.320000]\"],\"line_alpha\":[1.0],\"line_color\":[\"black\"],\"width\":[29.99000000000001],\"x\":[\"2024.3249999999998\"],\"y\":[197.0]}},\"id\":\"9645b1cf-76ea-4f7d-a389-c7f075ef4785\",\"type\":\"ColumnDataSource\"},{\"attributes\":{\"callback\":null,\"column_names\":[\"x\",\"y\",\"width\",\"height\",\"color\",\"fill_alpha\",\"line_color\",\"line_alpha\",\"label\"],\"data\":{\"chart_index\":[\"(1769.410000, 1799.400000]\"],\"color\":[\"#f22c40\"],\"fill_alpha\":[0.8],\"height\":[857.0],\"label\":[\"(1769.410000, 1799.400000]\"],\"line_alpha\":[1.0],\"line_color\":[\"black\"],\"width\":[29.99000000000001],\"x\":[\"1784.4050000000002\"],\"y\":[428.5]}},\"id\":\"5c2ce452-2611-4d8d-a5bb-521bc5100c09\",\"type\":\"ColumnDataSource\"},{\"attributes\":{\"fill_alpha\":{\"field\":\"fill_alpha\"},\"fill_color\":{\"field\":\"color\"},\"height\":{\"field\":\"height\",\"units\":\"data\"},\"line_color\":{\"field\":\"line_color\"},\"width\":{\"field\":\"width\",\"units\":\"data\"},\"x\":{\"field\":\"x\"},\"y\":{\"field\":\"y\"}},\"id\":\"6c57b1c6-cb5e-4257-94f6-9537f6b70083\",\"type\":\"Rect\"},{\"attributes\":{\"callback\":null,\"column_names\":[\"x\",\"y\",\"width\",\"height\",\"color\",\"fill_alpha\",\"line_color\",\"line_alpha\",\"label\"],\"data\":{\"chart_index\":[\"(2099.300000, 2129.290000]\"],\"color\":[\"#f22c40\"],\"fill_alpha\":[0.8],\"height\":[360.0],\"label\":[\"(2099.300000, 2129.290000]\"],\"line_alpha\":[1.0],\"line_color\":[\"black\"],\"width\":[29.990000000000236],\"x\":[\"2114.295\"],\"y\":[180.0]}},\"id\":\"24cec45e-3bac-44ab-94f8-09db5578ae40\",\"type\":\"ColumnDataSource\"},{\"attributes\":{\"data_source\":{\"id\":\"ac34fbc4-5f60-4670-8cc9-75d643a16515\",\"type\":\"ColumnDataSource\"},\"glyph\":{\"id\":\"2ac152b2-1471-4909-a521-4713422b0eef\",\"type\":\"Rect\"},\"hover_glyph\":null,\"muted_glyph\":null},\"id\":\"9f1ea439-7ad5-41d5-b8a8-6eb1142de3e5\",\"type\":\"GlyphRenderer\"},{\"attributes\":{\"callback\":null,\"column_names\":[\"x\",\"y\",\"width\",\"height\",\"color\",\"fill_alpha\",\"line_color\",\"line_alpha\",\"label\"],\"data\":{\"chart_index\":[\"(1409.530000, 1439.520000]\"],\"color\":[\"#f22c40\"],\"fill_alpha\":[0.8],\"height\":[2277.0],\"label\":[\"(1409.530000, 1439.520000]\"],\"line_alpha\":[1.0],\"line_color\":[\"black\"],\"width\":[29.99000000000001],\"x\":[\"1424.525\"],\"y\":[1138.5]}},\"id\":\"f389d6b5-b597-4c29-a3f0-321667eb2f39\",\"type\":\"ColumnDataSource\"},{\"attributes\":{\"callback\":null,\"column_names\":[\"x\",\"y\",\"width\",\"height\",\"color\",\"fill_alpha\",\"line_color\",\"line_alpha\",\"label\"],\"data\":{\"chart_index\":[\"(2369.210000, 2399.200000]\"],\"color\":[\"#f22c40\"],\"fill_alpha\":[0.8],\"height\":[163.0],\"label\":[\"(2369.210000, 2399.200000]\"],\"line_alpha\":[1.0],\"line_color\":[\"black\"],\"width\":[29.98999999999978],\"x\":[\"2384.205\"],\"y\":[81.5]}},\"id\":\"c2953422-a506-4211-be19-ed901c2a4ec7\",\"type\":\"ColumnDataSource\"},{\"attributes\":{\"data_source\":{\"id\":\"999b6bc2-fee3-490e-88ed-c81bdc757603\",\"type\":\"ColumnDataSource\"},\"glyph\":{\"id\":\"aa4541eb-4bf7-4746-a426-74f86a782080\",\"type\":\"Rect\"},\"hover_glyph\":null,\"muted_glyph\":null},\"id\":\"db059d17-369a-4375-8e90-782729465853\",\"type\":\"GlyphRenderer\"},{\"attributes\":{\"fill_alpha\":{\"field\":\"fill_alpha\"},\"fill_color\":{\"field\":\"color\"},\"height\":{\"field\":\"height\",\"units\":\"data\"},\"line_color\":{\"field\":\"line_color\"},\"width\":{\"field\":\"width\",\"units\":\"data\"},\"x\":{\"field\":\"x\"},\"y\":{\"field\":\"y\"}},\"id\":\"26d18022-dbfb-4e35-a60c-528d307b4e74\",\"type\":\"Rect\"},{\"attributes\":{\"data_source\":{\"id\":\"e8ce1175-4cfa-46bc-a2e4-8698524b57c7\",\"type\":\"ColumnDataSource\"},\"glyph\":{\"id\":\"41dc2c80-e99c-41e0-91cc-d8d97ea26833\",\"type\":\"Rect\"},\"hover_glyph\":null,\"muted_glyph\":null},\"id\":\"a748901c-1db7-4479-8809-6ab733b9f6e9\",\"type\":\"GlyphRenderer\"},{\"attributes\":{\"data_source\":{\"id\":\"b2d129c5-cd6f-40f3-8c92-434480612024\",\"type\":\"ColumnDataSource\"},\"glyph\":{\"id\":\"dd1eef1b-3e80-4451-b3f9-6d583b3ea11c\",\"type\":\"Rect\"},\"hover_glyph\":null,\"muted_glyph\":null},\"id\":\"09e39f90-8c7b-4442-bd5d-026267a43966\",\"type\":\"GlyphRenderer\"},{\"attributes\":{\"fill_alpha\":{\"field\":\"fill_alpha\"},\"fill_color\":{\"field\":\"color\"},\"height\":{\"field\":\"height\",\"units\":\"data\"},\"line_color\":{\"field\":\"line_color\"},\"width\":{\"field\":\"width\",\"units\":\"data\"},\"x\":{\"field\":\"x\"},\"y\":{\"field\":\"y\"}},\"id\":\"81f59c4a-c4b6-4689-b2de-3ab9fc313784\",\"type\":\"Rect\"},{\"attributes\":{\"callback\":null,\"column_names\":[\"x\",\"y\",\"width\",\"height\",\"color\",\"fill_alpha\",\"line_color\",\"line_alpha\",\"label\"],\"data\":{\"chart_index\":[\"(1109.630000, 1139.620000]\"],\"color\":[\"#f22c40\"],\"fill_alpha\":[0.8],\"height\":[4025.0],\"label\":[\"(1109.630000, 1139.620000]\"],\"line_alpha\":[1.0],\"line_color\":[\"black\"],\"width\":[29.99000000000001],\"x\":[\"1124.625\"],\"y\":[2012.5]}},\"id\":\"1002d7c0-258e-4112-8d01-ed0af0917f27\",\"type\":\"ColumnDataSource\"},{\"attributes\":{\"callback\":null,\"column_names\":[\"x\",\"y\",\"width\",\"height\",\"color\",\"fill_alpha\",\"line_color\",\"line_alpha\",\"label\"],\"data\":{\"chart_index\":[\"(1799.400000, 1829.390000]\"],\"color\":[\"#f22c40\"],\"fill_alpha\":[0.8],\"height\":[812.0],\"label\":[\"(1799.400000, 1829.390000]\"],\"line_alpha\":[1.0],\"line_color\":[\"black\"],\"width\":[29.99000000000001],\"x\":[\"1814.395\"],\"y\":[406.0]}},\"id\":\"ac34fbc4-5f60-4670-8cc9-75d643a16515\",\"type\":\"ColumnDataSource\"},{\"attributes\":{\"fill_alpha\":{\"field\":\"fill_alpha\"},\"fill_color\":{\"field\":\"color\"},\"height\":{\"field\":\"height\",\"units\":\"data\"},\"line_color\":{\"field\":\"line_color\"},\"width\":{\"field\":\"width\",\"units\":\"data\"},\"x\":{\"field\":\"x\"},\"y\":{\"field\":\"y\"}},\"id\":\"41dc2c80-e99c-41e0-91cc-d8d97ea26833\",\"type\":\"Rect\"},{\"attributes\":{\"fill_alpha\":{\"field\":\"fill_alpha\"},\"fill_color\":{\"field\":\"color\"},\"height\":{\"field\":\"height\",\"units\":\"data\"},\"line_color\":{\"field\":\"line_color\"},\"width\":{\"field\":\"width\",\"units\":\"data\"},\"x\":{\"field\":\"x\"},\"y\":{\"field\":\"y\"}},\"id\":\"093c497a-2eae-4935-ae27-16b3fd05aab4\",\"type\":\"Rect\"},{\"attributes\":{\"fill_alpha\":{\"field\":\"fill_alpha\"},\"fill_color\":{\"field\":\"color\"},\"height\":{\"field\":\"height\",\"units\":\"data\"},\"line_color\":{\"field\":\"line_color\"},\"width\":{\"field\":\"width\",\"units\":\"data\"},\"x\":{\"field\":\"x\"},\"y\":{\"field\":\"y\"}},\"id\":\"a9bd7d6b-3925-4023-a260-b43d1e123422\",\"type\":\"Rect\"},{\"attributes\":{\"data_source\":{\"id\":\"d680fd95-7191-4e75-b9e4-1aa588ca2aaa\",\"type\":\"ColumnDataSource\"},\"glyph\":{\"id\":\"6bedc6fb-8d27-49fd-9280-d35dcbf04463\",\"type\":\"Rect\"},\"hover_glyph\":null,\"muted_glyph\":null},\"id\":\"1d108d36-f4e8-442c-be1c-c80383366272\",\"type\":\"GlyphRenderer\"},{\"attributes\":{\"data_source\":{\"id\":\"aea43abc-cb05-433e-acc0-e051178949e1\",\"type\":\"ColumnDataSource\"},\"glyph\":{\"id\":\"36888c59-d2ff-4444-ac1f-de1a2a1068e9\",\"type\":\"Rect\"},\"hover_glyph\":null,\"muted_glyph\":null},\"id\":\"39dab39a-8c13-47bb-8886-42ed1c8788ba\",\"type\":\"GlyphRenderer\"},{\"attributes\":{\"data_source\":{\"id\":\"0fae9538-0c96-4b47-8e54-62c4eda87f3f\",\"type\":\"ColumnDataSource\"},\"glyph\":{\"id\":\"6c57b1c6-cb5e-4257-94f6-9537f6b70083\",\"type\":\"Rect\"},\"hover_glyph\":null,\"muted_glyph\":null},\"id\":\"ec2a2528-0544-43cb-a297-2ee2e849254d\",\"type\":\"GlyphRenderer\"},{\"attributes\":{\"data_source\":{\"id\":\"c2953422-a506-4211-be19-ed901c2a4ec7\",\"type\":\"ColumnDataSource\"},\"glyph\":{\"id\":\"12b71be4-fc52-4cbd-a1e8-de0a58e80b30\",\"type\":\"Rect\"},\"hover_glyph\":null,\"muted_glyph\":null},\"id\":\"32a57f1e-515b-4835-812a-e451eabd1d58\",\"type\":\"GlyphRenderer\"},{\"attributes\":{\"callback\":null,\"column_names\":[\"x\",\"y\",\"width\",\"height\",\"color\",\"fill_alpha\",\"line_color\",\"line_alpha\",\"label\"],\"data\":{\"chart_index\":[\"(1439.520000, 1469.510000]\"],\"color\":[\"#f22c40\"],\"fill_alpha\":[0.8],\"height\":[2109.0],\"label\":[\"(1439.520000, 1469.510000]\"],\"line_alpha\":[1.0],\"line_color\":[\"black\"],\"width\":[29.99000000000001],\"x\":[\"1454.5149999999999\"],\"y\":[1054.5]}},\"id\":\"b2d129c5-cd6f-40f3-8c92-434480612024\",\"type\":\"ColumnDataSource\"},{\"attributes\":{\"fill_alpha\":{\"field\":\"fill_alpha\"},\"fill_color\":{\"field\":\"color\"},\"height\":{\"field\":\"height\",\"units\":\"data\"},\"line_color\":{\"field\":\"line_color\"},\"width\":{\"field\":\"width\",\"units\":\"data\"},\"x\":{\"field\":\"x\"},\"y\":{\"field\":\"y\"}},\"id\":\"007a4794-90c8-46a2-9264-f7a8f835ff1f\",\"type\":\"Rect\"},{\"attributes\":{\"callback\":null,\"column_names\":[\"x\",\"y\",\"width\",\"height\",\"color\",\"fill_alpha\",\"line_color\",\"line_alpha\",\"label\"],\"data\":{\"chart_index\":[\"(2189.270000, 2219.260000]\"],\"color\":[\"#f22c40\"],\"fill_alpha\":[0.8],\"height\":[262.0],\"label\":[\"(2189.270000, 2219.260000]\"],\"line_alpha\":[1.0],\"line_color\":[\"black\"],\"width\":[29.98999999999978],\"x\":[\"2204.2650000000003\"],\"y\":[131.0]}},\"id\":\"e8ce1175-4cfa-46bc-a2e4-8698524b57c7\",\"type\":\"ColumnDataSource\"},{\"attributes\":{\"data_source\":{\"id\":\"2b07bbd6-9fd5-4ab6-b03f-31e2024d1a84\",\"type\":\"ColumnDataSource\"},\"glyph\":{\"id\":\"26d18022-dbfb-4e35-a60c-528d307b4e74\",\"type\":\"Rect\"},\"hover_glyph\":null,\"muted_glyph\":null},\"id\":\"31bc99da-0f9f-43e5-82a0-52348d5b1c5e\",\"type\":\"GlyphRenderer\"},{\"attributes\":{\"fill_alpha\":{\"field\":\"fill_alpha\"},\"fill_color\":{\"field\":\"color\"},\"height\":{\"field\":\"height\",\"units\":\"data\"},\"line_color\":{\"field\":\"line_color\"},\"width\":{\"field\":\"width\",\"units\":\"data\"},\"x\":{\"field\":\"x\"},\"y\":{\"field\":\"y\"}},\"id\":\"45313de5-9ccc-44a5-b2fc-70c8236a447d\",\"type\":\"Rect\"},{\"attributes\":{\"data_source\":{\"id\":\"9190b80c-80e5-4392-8b37-1dfb6ffba87b\",\"type\":\"ColumnDataSource\"},\"glyph\":{\"id\":\"1d084c15-6eb5-4f45-9450-7b36c02e945a\",\"type\":\"Rect\"},\"hover_glyph\":null,\"muted_glyph\":null},\"id\":\"ea834aaf-24a7-4d42-87f6-08b65994d29b\",\"type\":\"GlyphRenderer\"},{\"attributes\":{\"callback\":null,\"column_names\":[\"x\",\"y\",\"width\",\"height\",\"color\",\"fill_alpha\",\"line_color\",\"line_alpha\",\"label\"],\"data\":{\"chart_index\":[\"(1139.620000, 1169.610000]\"],\"color\":[\"#f22c40\"],\"fill_alpha\":[0.8],\"height\":[3902.0],\"label\":[\"(1139.620000, 1169.610000]\"],\"line_alpha\":[1.0],\"line_color\":[\"black\"],\"width\":[29.99000000000001],\"x\":[\"1154.6149999999998\"],\"y\":[1951.0]}},\"id\":\"aea43abc-cb05-433e-acc0-e051178949e1\",\"type\":\"ColumnDataSource\"},{\"attributes\":{\"fill_alpha\":{\"field\":\"fill_alpha\"},\"fill_color\":{\"field\":\"color\"},\"height\":{\"field\":\"height\",\"units\":\"data\"},\"line_color\":{\"field\":\"line_color\"},\"width\":{\"field\":\"width\",\"units\":\"data\"},\"x\":{\"field\":\"x\"},\"y\":{\"field\":\"y\"}},\"id\":\"4f6bb85a-f14c-4027-97f8-fbc0d994428a\",\"type\":\"Rect\"},{\"attributes\":{\"data_source\":{\"id\":\"75b6bf49-30ba-4621-960d-04d4894aa0c4\",\"type\":\"ColumnDataSource\"},\"glyph\":{\"id\":\"4f6bb85a-f14c-4027-97f8-fbc0d994428a\",\"type\":\"Rect\"},\"hover_glyph\":null,\"muted_glyph\":null},\"id\":\"264183c9-e5b7-44a7-a2d9-f48c0dd19516\",\"type\":\"GlyphRenderer\"},{\"attributes\":{\"fill_alpha\":{\"field\":\"fill_alpha\"},\"fill_color\":{\"field\":\"color\"},\"height\":{\"field\":\"height\",\"units\":\"data\"},\"line_color\":{\"field\":\"line_color\"},\"width\":{\"field\":\"width\",\"units\":\"data\"},\"x\":{\"field\":\"x\"},\"y\":{\"field\":\"y\"}},\"id\":\"45bc8194-c726-448c-9d3b-0706e0c8a888\",\"type\":\"Rect\"},{\"attributes\":{\"callback\":null,\"column_names\":[\"x\",\"y\",\"width\",\"height\",\"color\",\"fill_alpha\",\"line_color\",\"line_alpha\",\"label\"],\"data\":{\"chart_index\":[\"(1829.390000, 1859.380000]\"],\"color\":[\"#f22c40\"],\"fill_alpha\":[0.8],\"height\":[737.0],\"label\":[\"(1829.390000, 1859.380000]\"],\"line_alpha\":[1.0],\"line_color\":[\"black\"],\"width\":[29.99000000000001],\"x\":[\"1844.3850000000002\"],\"y\":[368.5]}},\"id\":\"0fae9538-0c96-4b47-8e54-62c4eda87f3f\",\"type\":\"ColumnDataSource\"},{\"attributes\":{\"fill_alpha\":{\"field\":\"fill_alpha\"},\"fill_color\":{\"field\":\"color\"},\"height\":{\"field\":\"height\",\"units\":\"data\"},\"line_color\":{\"field\":\"line_color\"},\"width\":{\"field\":\"width\",\"units\":\"data\"},\"x\":{\"field\":\"x\"},\"y\":{\"field\":\"y\"}},\"id\":\"ee4621ac-2588-496d-9c34-8b5d3e9747c9\",\"type\":\"Rect\"},{\"attributes\":{},\"id\":\"7765e672-3402-4559-a1f2-74caad6a7271\",\"type\":\"LinearScale\"},{\"attributes\":{\"active_drag\":\"auto\",\"active_inspect\":\"auto\",\"active_scroll\":\"auto\",\"active_tap\":\"auto\",\"tools\":[{\"id\":\"5b1bed51-17f1-4d9a-b573-c660610f900b\",\"type\":\"PanTool\"},{\"id\":\"50ce8856-0ff0-4493-ae70-d2f51be12850\",\"type\":\"WheelZoomTool\"},{\"id\":\"abcbbb34-b886-4c6b-b12c-661365bbb879\",\"type\":\"BoxZoomTool\"},{\"id\":\"3be08f69-0118-4b1d-afb5-a55df705c4b2\",\"type\":\"SaveTool\"},{\"id\":\"b3d90931-029c-4087-b02d-f9c6712e8b7d\",\"type\":\"ResetTool\"},{\"id\":\"9043169f-33f0-42e3-a643-1e62b367e9ac\",\"type\":\"HelpTool\"}]},\"id\":\"82a668d1-bde1-444c-9e98-fd6675afa1e3\",\"type\":\"Toolbar\"},{\"attributes\":{\"data_source\":{\"id\":\"a2a278c7-f32b-4318-802c-ed95372b0e7f\",\"type\":\"ColumnDataSource\"},\"glyph\":{\"id\":\"093c497a-2eae-4935-ae27-16b3fd05aab4\",\"type\":\"Rect\"},\"hover_glyph\":null,\"muted_glyph\":null},\"id\":\"e11a3e4f-6164-4643-995e-c277a9f39e96\",\"type\":\"GlyphRenderer\"},{\"attributes\":{\"data_source\":{\"id\":\"5cb43187-2b1f-4e01-9bcf-6a6d8085dedc\",\"type\":\"ColumnDataSource\"},\"glyph\":{\"id\":\"a9bd7d6b-3925-4023-a260-b43d1e123422\",\"type\":\"Rect\"},\"hover_glyph\":null,\"muted_glyph\":null},\"id\":\"27c1925c-1ac0-4899-8cc0-550f7ddaeb2a\",\"type\":\"GlyphRenderer\"},{\"attributes\":{\"callback\":null,\"column_names\":[\"x\",\"y\",\"width\",\"height\",\"color\",\"fill_alpha\",\"line_color\",\"line_alpha\",\"label\"],\"data\":{\"chart_index\":[\"(1469.510000, 1499.500000]\"],\"color\":[\"#f22c40\"],\"fill_alpha\":[0.8],\"height\":[1996.0],\"label\":[\"(1469.510000, 1499.500000]\"],\"line_alpha\":[1.0],\"line_color\":[\"black\"],\"width\":[29.99000000000001],\"x\":[\"1484.505\"],\"y\":[998.0]}},\"id\":\"2b07bbd6-9fd5-4ab6-b03f-31e2024d1a84\",\"type\":\"ColumnDataSource\"},{\"attributes\":{\"callback\":null,\"column_names\":[\"x\",\"y\",\"width\",\"height\",\"color\",\"fill_alpha\",\"line_color\",\"line_alpha\",\"label\"],\"data\":{\"chart_index\":[\"(419.860000, 449.850000]\"],\"color\":[\"#f22c40\"],\"fill_alpha\":[0.8],\"height\":[4590.0],\"label\":[\"(419.860000, 449.850000]\"],\"line_alpha\":[1.0],\"line_color\":[\"black\"],\"width\":[29.99000000000001],\"x\":[\"434.855\"],\"y\":[2295.0]}},\"id\":\"9cbe11de-0ef1-4058-ace8-5ed8f6e0240c\",\"type\":\"ColumnDataSource\"},{\"attributes\":{\"fill_alpha\":{\"field\":\"fill_alpha\"},\"fill_color\":{\"field\":\"color\"},\"height\":{\"field\":\"height\",\"units\":\"data\"},\"line_color\":{\"field\":\"line_color\"},\"width\":{\"field\":\"width\",\"units\":\"data\"},\"x\":{\"field\":\"x\"},\"y\":{\"field\":\"y\"}},\"id\":\"5596014c-155e-4a97-89d1-1b16d22c9e5d\",\"type\":\"Rect\"},{\"attributes\":{\"callback\":null,\"column_names\":[\"x\",\"y\",\"width\",\"height\",\"color\",\"fill_alpha\",\"line_color\",\"line_alpha\",\"label\"],\"data\":{\"chart_index\":[\"(1709.430000, 1739.420000]\"],\"color\":[\"#f22c40\"],\"fill_alpha\":[0.8],\"height\":[984.0],\"label\":[\"(1709.430000, 1739.420000]\"],\"line_alpha\":[1.0],\"line_color\":[\"black\"],\"width\":[29.99000000000001],\"x\":[\"1724.4250000000002\"],\"y\":[492.0]}},\"id\":\"cbfb0f5e-6e34-48a4-a153-3fb6112428c0\",\"type\":\"ColumnDataSource\"},{\"attributes\":{\"callback\":null,\"column_names\":[\"x\",\"y\",\"width\",\"height\",\"color\",\"fill_alpha\",\"line_color\",\"line_alpha\",\"label\"],\"data\":{\"chart_index\":[\"(2219.260000, 2249.250000]\"],\"color\":[\"#f22c40\"],\"fill_alpha\":[0.8],\"height\":[237.0],\"label\":[\"(2219.260000, 2249.250000]\"],\"line_alpha\":[1.0],\"line_color\":[\"black\"],\"width\":[29.990000000000236],\"x\":[\"2234.255\"],\"y\":[118.5]}},\"id\":\"9190b80c-80e5-4392-8b37-1dfb6ffba87b\",\"type\":\"ColumnDataSource\"},{\"attributes\":{\"callback\":null,\"column_names\":[\"x\",\"y\",\"width\",\"height\",\"color\",\"fill_alpha\",\"line_color\",\"line_alpha\",\"label\"],\"data\":{\"chart_index\":[\"(1259.580000, 1289.570000]\"],\"color\":[\"#f22c40\"],\"fill_alpha\":[0.8],\"height\":[3120.0],\"label\":[\"(1259.580000, 1289.570000]\"],\"line_alpha\":[1.0],\"line_color\":[\"black\"],\"width\":[29.99000000000001],\"x\":[\"1274.5749999999998\"],\"y\":[1560.0]}},\"id\":\"c868b10d-f438-487e-965a-b7a1b84adc4d\",\"type\":\"ColumnDataSource\"},{\"attributes\":{\"callback\":null,\"column_names\":[\"x\",\"y\",\"width\",\"height\",\"color\",\"fill_alpha\",\"line_color\",\"line_alpha\",\"label\"],\"data\":{\"chart_index\":[\"(1529.490000, 1559.480000]\"],\"color\":[\"#f22c40\"],\"fill_alpha\":[0.8],\"height\":[1655.0],\"label\":[\"(1529.490000, 1559.480000]\"],\"line_alpha\":[1.0],\"line_color\":[\"black\"],\"width\":[29.99000000000001],\"x\":[\"1544.4850000000001\"],\"y\":[827.5]}},\"id\":\"75b6bf49-30ba-4621-960d-04d4894aa0c4\",\"type\":\"ColumnDataSource\"},{\"attributes\":{\"fill_alpha\":{\"field\":\"fill_alpha\"},\"fill_color\":{\"field\":\"color\"},\"height\":{\"field\":\"height\",\"units\":\"data\"},\"line_color\":{\"field\":\"line_color\"},\"width\":{\"field\":\"width\",\"units\":\"data\"},\"x\":{\"field\":\"x\"},\"y\":{\"field\":\"y\"}},\"id\":\"d0ecdcd1-aece-486e-8a16-3ae167f8711d\",\"type\":\"Rect\"},{\"attributes\":{},\"id\":\"cec21aec-68c2-4578-807b-dbf9ee13cd95\",\"type\":\"ToolEvents\"},{\"attributes\":{\"data_source\":{\"id\":\"16148b01-1fc8-4030-89fd-515c0e8e8fee\",\"type\":\"ColumnDataSource\"},\"glyph\":{\"id\":\"2a802270-c413-4314-840d-d499defb236f\",\"type\":\"Rect\"},\"hover_glyph\":null,\"muted_glyph\":null},\"id\":\"22cf7095-cf9c-4f21-85a5-94d799032f8e\",\"type\":\"GlyphRenderer\"},{\"attributes\":{\"data_source\":{\"id\":\"d0603ede-77df-4f36-be5c-55f9cfc7f7f3\",\"type\":\"ColumnDataSource\"},\"glyph\":{\"id\":\"33255af1-5a43-4865-9421-527555f59328\",\"type\":\"Rect\"},\"hover_glyph\":null,\"muted_glyph\":null},\"id\":\"cafc79f8-5eb3-4c15-b367-81a2d5cd11c2\",\"type\":\"GlyphRenderer\"},{\"attributes\":{\"fill_alpha\":{\"field\":\"fill_alpha\"},\"fill_color\":{\"field\":\"color\"},\"height\":{\"field\":\"height\",\"units\":\"data\"},\"line_color\":{\"field\":\"line_color\"},\"width\":{\"field\":\"width\",\"units\":\"data\"},\"x\":{\"field\":\"x\"},\"y\":{\"field\":\"y\"}},\"id\":\"f65e17f7-6ea6-4575-9e90-66b20a6b8468\",\"type\":\"Rect\"},{\"attributes\":{\"data_source\":{\"id\":\"cb31f618-456f-431b-9de1-55ab3cea3bb9\",\"type\":\"ColumnDataSource\"},\"glyph\":{\"id\":\"45313de5-9ccc-44a5-b2fc-70c8236a447d\",\"type\":\"Rect\"},\"hover_glyph\":null,\"muted_glyph\":null},\"id\":\"928360d2-8d19-49d4-a76d-82bfa6419a4f\",\"type\":\"GlyphRenderer\"},{\"attributes\":{\"callback\":null,\"column_names\":[\"x\",\"y\",\"width\",\"height\",\"color\",\"fill_alpha\",\"line_color\",\"line_alpha\",\"label\"],\"data\":{\"chart_index\":[\"(1169.610000, 1199.600000]\"],\"color\":[\"#f22c40\"],\"fill_alpha\":[0.8],\"height\":[3576.0],\"label\":[\"(1169.610000, 1199.600000]\"],\"line_alpha\":[1.0],\"line_color\":[\"black\"],\"width\":[29.99000000000001],\"x\":[\"1184.605\"],\"y\":[1788.0]}},\"id\":\"a2a278c7-f32b-4318-802c-ed95372b0e7f\",\"type\":\"ColumnDataSource\"},{\"attributes\":{\"callback\":null,\"column_names\":[\"x\",\"y\",\"width\",\"height\",\"color\",\"fill_alpha\",\"line_color\",\"line_alpha\",\"label\"],\"data\":{\"chart_index\":[\"(1859.380000, 1889.370000]\"],\"color\":[\"#f22c40\"],\"fill_alpha\":[0.8],\"height\":[673.0],\"label\":[\"(1859.380000, 1889.370000]\"],\"line_alpha\":[1.0],\"line_color\":[\"black\"],\"width\":[29.99000000000001],\"x\":[\"1874.375\"],\"y\":[336.5]}},\"id\":\"5cb43187-2b1f-4e01-9bcf-6a6d8085dedc\",\"type\":\"ColumnDataSource\"},{\"attributes\":{\"data_source\":{\"id\":\"cce4ec5b-f3d4-4fe2-860e-94376ce01593\",\"type\":\"ColumnDataSource\"},\"glyph\":{\"id\":\"7fd0266a-cc91-4ffb-a201-17030f0e1492\",\"type\":\"Rect\"},\"hover_glyph\":null,\"muted_glyph\":null},\"id\":\"af8a38a5-023c-4ecc-8913-0217e14fb804\",\"type\":\"GlyphRenderer\"},{\"attributes\":{\"data_source\":{\"id\":\"e81b036b-56a9-45b6-8b2e-0921a19959ff\",\"type\":\"ColumnDataSource\"},\"glyph\":{\"id\":\"9becd7ad-2d25-43da-9cff-b75938780fe6\",\"type\":\"Rect\"},\"hover_glyph\":null,\"muted_glyph\":null},\"id\":\"b35ba5aa-fceb-48f1-bdd5-d247d13371cb\",\"type\":\"GlyphRenderer\"},{\"attributes\":{\"fill_alpha\":{\"field\":\"fill_alpha\"},\"fill_color\":{\"field\":\"color\"},\"height\":{\"field\":\"height\",\"units\":\"data\"},\"line_color\":{\"field\":\"line_color\"},\"width\":{\"field\":\"width\",\"units\":\"data\"},\"x\":{\"field\":\"x\"},\"y\":{\"field\":\"y\"}},\"id\":\"efbb6fd1-b750-464b-8974-111ef84c0500\",\"type\":\"Rect\"},{\"attributes\":{\"below\":[{\"id\":\"b5f0cb0e-dc67-4bb6-9c94-14e25ffceb13\",\"type\":\"LinearAxis\"}],\"css_classes\":null,\"height\":350,\"left\":[{\"id\":\"4e3061b0-8506-487b-a9a9-f4e670c85d65\",\"type\":\"LinearAxis\"}],\"renderers\":[{\"id\":\"3698a33e-5a30-408b-8b91-22597edf8978\",\"type\":\"BoxAnnotation\"},{\"id\":\"24ea9d9f-e248-42da-947a-2b1e06cd150e\",\"type\":\"GlyphRenderer\"},{\"id\":\"4ee163bf-1eb2-43f8-9e57-8ac7d0906cbe\",\"type\":\"GlyphRenderer\"},{\"id\":\"7a54c142-6857-4e7d-88ae-45720316b54a\",\"type\":\"GlyphRenderer\"},{\"id\":\"187f32b1-862e-4fd8-b129-574f300321ef\",\"type\":\"GlyphRenderer\"},{\"id\":\"adee51b8-6750-40c9-98cb-a78de9b36e68\",\"type\":\"GlyphRenderer\"},{\"id\":\"0474bd87-8ebc-4ee8-87e1-70cfe089f823\",\"type\":\"GlyphRenderer\"},{\"id\":\"6538af5a-ffa0-4ff8-8447-3f985bbaf429\",\"type\":\"GlyphRenderer\"},{\"id\":\"da3d573b-0a57-47a2-9ebe-eee0fe8c7bb5\",\"type\":\"GlyphRenderer\"},{\"id\":\"bbc0cfa8-f008-4762-bf83-1b8f280359af\",\"type\":\"GlyphRenderer\"},{\"id\":\"0bf392bf-a638-4016-a938-da22d671964c\",\"type\":\"GlyphRenderer\"},{\"id\":\"0b8c8fd2-79fd-49c1-bb36-9876ec25092d\",\"type\":\"GlyphRenderer\"},{\"id\":\"2dde3fd4-0afb-4842-8634-d740d7889df6\",\"type\":\"GlyphRenderer\"},{\"id\":\"4241905c-334d-41a6-87eb-eec18cd651ee\",\"type\":\"GlyphRenderer\"},{\"id\":\"fa3d06b3-232a-4f0d-9e21-ce186bf05415\",\"type\":\"GlyphRenderer\"},{\"id\":\"9e5dd952-782a-4887-a1d8-590623611f14\",\"type\":\"GlyphRenderer\"},{\"id\":\"e5f0abbd-b5d7-4798-a17b-b065b345efb1\",\"type\":\"GlyphRenderer\"},{\"id\":\"bce754ce-9eb6-44e9-96cc-da4c5f374e63\",\"type\":\"GlyphRenderer\"},{\"id\":\"d33acb15-57f7-468f-9348-2bdf1ef7afbe\",\"type\":\"GlyphRenderer\"},{\"id\":\"a3402c13-22b1-4191-98d3-91d1d664163d\",\"type\":\"GlyphRenderer\"},{\"id\":\"5728a6a7-2cb5-4c57-9999-9c65f490f237\",\"type\":\"GlyphRenderer\"},{\"id\":\"73b8345a-23e7-4a22-8703-91f3d2e212cc\",\"type\":\"GlyphRenderer\"},{\"id\":\"204ef0ce-b2c9-46c2-be6e-6dceda9eaf8f\",\"type\":\"GlyphRenderer\"},{\"id\":\"12a408f3-6296-427c-9023-d0117f240861\",\"type\":\"GlyphRenderer\"},{\"id\":\"e9405ae1-4807-4738-b4a3-8ce8e25f3c32\",\"type\":\"GlyphRenderer\"},{\"id\":\"561e085f-97e6-4080-8d06-a71dc9a396b3\",\"type\":\"GlyphRenderer\"},{\"id\":\"47fa731c-6224-4e1a-83d2-52ea13c2e768\",\"type\":\"GlyphRenderer\"},{\"id\":\"8784f272-141e-4391-901e-d9d18b4ace41\",\"type\":\"GlyphRenderer\"},{\"id\":\"ad9385ba-a0c4-4927-a726-51acf45cb01d\",\"type\":\"GlyphRenderer\"},{\"id\":\"2c193fbc-3186-4871-9ca5-4428ea6b1306\",\"type\":\"GlyphRenderer\"},{\"id\":\"8dd94bbb-c5fa-4168-9330-44d987cd3c33\",\"type\":\"GlyphRenderer\"},{\"id\":\"7546b92b-696d-4a3b-9216-9fdb36a9ac23\",\"type\":\"GlyphRenderer\"},{\"id\":\"1932030c-2ded-4924-a2ec-8870f7fd89cd\",\"type\":\"GlyphRenderer\"},{\"id\":\"4db296c6-2c3f-4caa-acfa-f5e318937365\",\"type\":\"GlyphRenderer\"},{\"id\":\"f5c0b385-4b18-42cb-8350-4ccfd44b2299\",\"type\":\"GlyphRenderer\"},{\"id\":\"a1bb8032-8146-42dc-a68b-ea95b439d220\",\"type\":\"GlyphRenderer\"},{\"id\":\"a4c30cfe-f847-4356-acd9-681fd47e2279\",\"type\":\"GlyphRenderer\"},{\"id\":\"db059d17-369a-4375-8e90-782729465853\",\"type\":\"GlyphRenderer\"},{\"id\":\"13b33917-d521-4ca1-8bd9-ef8b061962b0\",\"type\":\"GlyphRenderer\"},{\"id\":\"39dab39a-8c13-47bb-8886-42ed1c8788ba\",\"type\":\"GlyphRenderer\"},{\"id\":\"e11a3e4f-6164-4643-995e-c277a9f39e96\",\"type\":\"GlyphRenderer\"},{\"id\":\"d63107cd-ea09-4a3d-a305-cc9f84b0635e\",\"type\":\"GlyphRenderer\"},{\"id\":\"dec6cd76-9f3b-4af9-9f3a-f2b635514ab9\",\"type\":\"GlyphRenderer\"},{\"id\":\"bdec9abc-351c-4855-82f1-5f8a38c05f87\",\"type\":\"GlyphRenderer\"},{\"id\":\"22cf7095-cf9c-4f21-85a5-94d799032f8e\",\"type\":\"GlyphRenderer\"},{\"id\":\"736b4dbc-eeae-4db5-b48d-ecf643452921\",\"type\":\"GlyphRenderer\"},{\"id\":\"90f5a856-e9ad-45b9-9690-669a60489c2a\",\"type\":\"GlyphRenderer\"},{\"id\":\"0635608a-1e24-4ca3-a331-a50ca6e3c590\",\"type\":\"GlyphRenderer\"},{\"id\":\"bd29c0b3-7672-4864-811d-2b41f2072525\",\"type\":\"GlyphRenderer\"},{\"id\":\"09e39f90-8c7b-4442-bd5d-026267a43966\",\"type\":\"GlyphRenderer\"},{\"id\":\"31bc99da-0f9f-43e5-82a0-52348d5b1c5e\",\"type\":\"GlyphRenderer\"},{\"id\":\"1d108d36-f4e8-442c-be1c-c80383366272\",\"type\":\"GlyphRenderer\"},{\"id\":\"264183c9-e5b7-44a7-a2d9-f48c0dd19516\",\"type\":\"GlyphRenderer\"},{\"id\":\"af8a38a5-023c-4ecc-8913-0217e14fb804\",\"type\":\"GlyphRenderer\"},{\"id\":\"f65397ac-f08e-4697-81c4-fbaa6072956e\",\"type\":\"GlyphRenderer\"},{\"id\":\"fdddc268-b5c0-420c-8ab6-bad40e2a5c26\",\"type\":\"GlyphRenderer\"},{\"id\":\"d27c69f8-0401-4af6-93ba-5c03055398ce\",\"type\":\"GlyphRenderer\"},{\"id\":\"d8df2be1-8d2f-4b65-8881-6fd2b5f99217\",\"type\":\"GlyphRenderer\"},{\"id\":\"2e2bd68e-feb8-4e6d-832c-f8e331f7c140\",\"type\":\"GlyphRenderer\"},{\"id\":\"3dfa0b4f-86aa-4a53-a4e7-e2739479c289\",\"type\":\"GlyphRenderer\"},{\"id\":\"eb8f6454-7501-4f7d-a02c-b1e8e7356277\",\"type\":\"GlyphRenderer\"},{\"id\":\"9f1ea439-7ad5-41d5-b8a8-6eb1142de3e5\",\"type\":\"GlyphRenderer\"},{\"id\":\"ec2a2528-0544-43cb-a297-2ee2e849254d\",\"type\":\"GlyphRenderer\"},{\"id\":\"27c1925c-1ac0-4899-8cc0-550f7ddaeb2a\",\"type\":\"GlyphRenderer\"},{\"id\":\"49241e5c-052d-4fb0-ac69-b0b39ab3db3b\",\"type\":\"GlyphRenderer\"},{\"id\":\"8ff444f2-30ca-4104-ba9b-89b186201511\",\"type\":\"GlyphRenderer\"},{\"id\":\"cafc79f8-5eb3-4c15-b367-81a2d5cd11c2\",\"type\":\"GlyphRenderer\"},{\"id\":\"b35ba5aa-fceb-48f1-bdd5-d247d13371cb\",\"type\":\"GlyphRenderer\"},{\"id\":\"bdb388c2-85be-476a-9d98-48a370d7dcdf\",\"type\":\"GlyphRenderer\"},{\"id\":\"0b5078e3-565b-42f1-9d74-52d851065599\",\"type\":\"GlyphRenderer\"},{\"id\":\"89a9f644-6139-4e4b-9924-6a39ba593c5f\",\"type\":\"GlyphRenderer\"},{\"id\":\"f6b6aa19-1246-4712-a608-8819d2913cb8\",\"type\":\"GlyphRenderer\"},{\"id\":\"fb65f212-e088-489a-8339-8ee6c9d323c2\",\"type\":\"GlyphRenderer\"},{\"id\":\"620585f4-e464-4be4-a033-64bacc5ff7a5\",\"type\":\"GlyphRenderer\"},{\"id\":\"a748901c-1db7-4479-8809-6ab733b9f6e9\",\"type\":\"GlyphRenderer\"},{\"id\":\"ea834aaf-24a7-4d42-87f6-08b65994d29b\",\"type\":\"GlyphRenderer\"},{\"id\":\"928360d2-8d19-49d4-a76d-82bfa6419a4f\",\"type\":\"GlyphRenderer\"},{\"id\":\"8fa02679-4287-4415-9c64-0c453f1b0f82\",\"type\":\"GlyphRenderer\"},{\"id\":\"8346e304-cbec-424a-a771-9285150df1b9\",\"type\":\"GlyphRenderer\"},{\"id\":\"ea717030-77fe-4728-8fc8-c44512dd7c0c\",\"type\":\"GlyphRenderer\"},{\"id\":\"32a57f1e-515b-4835-812a-e451eabd1d58\",\"type\":\"GlyphRenderer\"},{\"id\":\"16419594-52a0-46d3-a640-d153d9f53c07\",\"type\":\"GlyphRenderer\"},{\"id\":\"29dddb6e-fce4-421d-8232-35854453cfd5\",\"type\":\"GlyphRenderer\"},{\"id\":\"27d826f1-1881-4b6a-95be-9e60d7367b23\",\"type\":\"GlyphRenderer\"},{\"id\":\"bab74e8a-3f87-41cc-9b54-7fd418f1c55c\",\"type\":\"GlyphRenderer\"},{\"id\":\"7dd96e7c-381f-4bd7-9401-d9da2d7c6dbc\",\"type\":\"GlyphRenderer\"},{\"id\":\"c0becfd5-b3d1-4d5d-90b1-3fa042cbe2ef\",\"type\":\"GlyphRenderer\"},{\"id\":\"f2ccdd5f-e145-4413-88fc-fb1b7747110a\",\"type\":\"GlyphRenderer\"},{\"id\":\"fa04494a-63e7-4864-97b2-109e89fc9cad\",\"type\":\"GlyphRenderer\"},{\"id\":\"efa725d5-24d8-4453-8cf7-c2eb153394fb\",\"type\":\"GlyphRenderer\"},{\"id\":\"a8817252-9ebe-42a0-b906-79770f54dd1c\",\"type\":\"GlyphRenderer\"},{\"id\":\"954dc782-7098-4625-959a-66b596a9dc5d\",\"type\":\"GlyphRenderer\"},{\"id\":\"fdc0cf14-4bd3-4162-b317-b7f27905af51\",\"type\":\"GlyphRenderer\"},{\"id\":\"cbb0bea2-9f25-47db-9604-77cf579bf98a\",\"type\":\"GlyphRenderer\"},{\"id\":\"8365bf3c-8f6e-4d1d-bb50-667255ad13f0\",\"type\":\"GlyphRenderer\"},{\"id\":\"7deabc12-4f47-4f3e-b1de-e9b66f789e9d\",\"type\":\"GlyphRenderer\"},{\"id\":\"a83b0431-da8e-4a7c-a92d-81dc34af4e8c\",\"type\":\"GlyphRenderer\"},{\"id\":\"5a8bf8e4-d5ab-46c5-a4f2-b612ee4d192e\",\"type\":\"GlyphRenderer\"},{\"id\":\"6988370d-77c6-4a50-b23a-374a11cf5441\",\"type\":\"GlyphRenderer\"},{\"id\":\"46cd1533-8f13-4fbb-85ad-72c456a1538d\",\"type\":\"GlyphRenderer\"},{\"id\":\"78ba4d38-551c-441b-b875-c7afcb1005cc\",\"type\":\"GlyphRenderer\"},{\"id\":\"1f7cb65b-f5bb-4224-990d-ac95b1fae875\",\"type\":\"Legend\"},{\"id\":\"b5f0cb0e-dc67-4bb6-9c94-14e25ffceb13\",\"type\":\"LinearAxis\"},{\"id\":\"4e3061b0-8506-487b-a9a9-f4e670c85d65\",\"type\":\"LinearAxis\"},{\"id\":\"9593c284-d7f9-4ae3-845c-80403f2bb974\",\"type\":\"Grid\"}],\"title\":{\"id\":\"772424e4-f4bb-49ee-a476-4fbd7e315f0f\",\"type\":\"Title\"},\"tool_events\":{\"id\":\"cec21aec-68c2-4578-807b-dbf9ee13cd95\",\"type\":\"ToolEvents\"},\"toolbar\":{\"id\":\"82a668d1-bde1-444c-9e98-fd6675afa1e3\",\"type\":\"Toolbar\"},\"width\":600,\"x_range\":{\"id\":\"c70135fe-46c1-499d-8495-5a7d32ec4bd0\",\"type\":\"Range1d\"},\"x_scale\":{\"id\":\"ece92d36-2601-4a75-90cc-4e755455580d\",\"type\":\"LinearScale\"},\"y_range\":{\"id\":\"6fb0a3f4-50cc-40e4-bf73-7a0560c5cdbd\",\"type\":\"Range1d\"},\"y_scale\":{\"id\":\"7765e672-3402-4559-a1f2-74caad6a7271\",\"type\":\"LinearScale\"}},\"id\":\"c7bad5ec-764f-44e3-b1cb-acd2a502c81d\",\"subtype\":\"Chart\",\"type\":\"Plot\"},{\"attributes\":{\"data_source\":{\"id\":\"fd472567-0ec1-4232-bf5e-3bd2c4ce02db\",\"type\":\"ColumnDataSource\"},\"glyph\":{\"id\":\"45bc8194-c726-448c-9d3b-0706e0c8a888\",\"type\":\"Rect\"},\"hover_glyph\":null,\"muted_glyph\":null},\"id\":\"d63107cd-ea09-4a3d-a305-cc9f84b0635e\",\"type\":\"GlyphRenderer\"},{\"attributes\":{\"data_source\":{\"id\":\"e27e5cc1-044a-48cc-9242-698bb1479983\",\"type\":\"ColumnDataSource\"},\"glyph\":{\"id\":\"ee4621ac-2588-496d-9c34-8b5d3e9747c9\",\"type\":\"Rect\"},\"hover_glyph\":null,\"muted_glyph\":null},\"id\":\"49241e5c-052d-4fb0-ac69-b0b39ab3db3b\",\"type\":\"GlyphRenderer\"},{\"attributes\":{\"callback\":null,\"column_names\":[\"x\",\"y\",\"width\",\"height\",\"color\",\"fill_alpha\",\"line_color\",\"line_alpha\",\"label\"],\"data\":{\"chart_index\":[\"(2129.290000, 2159.280000]\"],\"color\":[\"#f22c40\"],\"fill_alpha\":[0.8],\"height\":[273.0],\"label\":[\"(2129.290000, 2159.280000]\"],\"line_alpha\":[1.0],\"line_color\":[\"black\"],\"width\":[29.98999999999978],\"x\":[\"2144.285\"],\"y\":[136.5]}},\"id\":\"df240c82-8fc6-4320-b829-24e8b04341a0\",\"type\":\"ColumnDataSource\"},{\"attributes\":{\"callback\":null,\"column_names\":[\"x\",\"y\",\"width\",\"height\",\"color\",\"fill_alpha\",\"line_color\",\"line_alpha\",\"label\"],\"data\":{\"chart_index\":[\"(2249.250000, 2279.240000]\"],\"color\":[\"#f22c40\"],\"fill_alpha\":[0.8],\"height\":[232.0],\"label\":[\"(2249.250000, 2279.240000]\"],\"line_alpha\":[1.0],\"line_color\":[\"black\"],\"width\":[29.98999999999978],\"x\":[\"2264.245\"],\"y\":[116.0]}},\"id\":\"cb31f618-456f-431b-9de1-55ab3cea3bb9\",\"type\":\"ColumnDataSource\"},{\"attributes\":{\"callback\":null,\"column_names\":[\"x\",\"y\",\"width\",\"height\",\"color\",\"fill_alpha\",\"line_color\",\"line_alpha\",\"label\"],\"data\":{\"chart_index\":[\"(1559.480000, 1589.470000]\"],\"color\":[\"#f22c40\"],\"fill_alpha\":[0.8],\"height\":[1506.0],\"label\":[\"(1559.480000, 1589.470000]\"],\"line_alpha\":[1.0],\"line_color\":[\"black\"],\"width\":[29.99000000000001],\"x\":[\"1574.475\"],\"y\":[753.0]}},\"id\":\"cce4ec5b-f3d4-4fe2-860e-94376ce01593\",\"type\":\"ColumnDataSource\"},{\"attributes\":{\"fill_alpha\":{\"field\":\"fill_alpha\"},\"fill_color\":{\"field\":\"color\"},\"height\":{\"field\":\"height\",\"units\":\"data\"},\"line_color\":{\"field\":\"line_color\"},\"width\":{\"field\":\"width\",\"units\":\"data\"},\"x\":{\"field\":\"x\"},\"y\":{\"field\":\"y\"}},\"id\":\"ee7382ab-ffc9-4b20-96e4-fe06b0749a41\",\"type\":\"Rect\"},{\"attributes\":{\"callback\":null,\"column_names\":[\"x\",\"y\",\"width\",\"height\",\"color\",\"fill_alpha\",\"line_color\",\"line_alpha\",\"label\"],\"data\":{\"chart_index\":[\"(1319.560000, 1349.550000]\"],\"color\":[\"#f22c40\"],\"fill_alpha\":[0.8],\"height\":[2739.0],\"label\":[\"(1319.560000, 1349.550000]\"],\"line_alpha\":[1.0],\"line_color\":[\"black\"],\"width\":[29.99000000000001],\"x\":[\"1334.5549999999998\"],\"y\":[1369.5]}},\"id\":\"f6b86f3b-298e-4489-bedb-156c3b8f8987\",\"type\":\"ColumnDataSource\"},{\"attributes\":{\"fill_alpha\":{\"field\":\"fill_alpha\"},\"fill_color\":{\"field\":\"color\"},\"height\":{\"field\":\"height\",\"units\":\"data\"},\"line_color\":{\"field\":\"line_color\"},\"width\":{\"field\":\"width\",\"units\":\"data\"},\"x\":{\"field\":\"x\"},\"y\":{\"field\":\"y\"}},\"id\":\"2deecd9a-17a5-430d-8b67-64ba84485626\",\"type\":\"Rect\"},{\"attributes\":{\"fill_alpha\":{\"field\":\"fill_alpha\"},\"fill_color\":{\"field\":\"color\"},\"height\":{\"field\":\"height\",\"units\":\"data\"},\"line_color\":{\"field\":\"line_color\"},\"width\":{\"field\":\"width\",\"units\":\"data\"},\"x\":{\"field\":\"x\"},\"y\":{\"field\":\"y\"}},\"id\":\"9becd7ad-2d25-43da-9cff-b75938780fe6\",\"type\":\"Rect\"},{\"attributes\":{\"data_source\":{\"id\":\"ad64a977-ec20-4924-bf23-8f21b81efe4a\",\"type\":\"ColumnDataSource\"},\"glyph\":{\"id\":\"d0ecdcd1-aece-486e-8a16-3ae167f8711d\",\"type\":\"Rect\"},\"hover_glyph\":null,\"muted_glyph\":null},\"id\":\"8fa02679-4287-4415-9c64-0c453f1b0f82\",\"type\":\"GlyphRenderer\"},{\"attributes\":{\"callback\":null,\"column_names\":[\"x\",\"y\",\"width\",\"height\",\"color\",\"fill_alpha\",\"line_color\",\"line_alpha\",\"label\"],\"data\":{\"chart_index\":[\"(1199.600000, 1229.590000]\"],\"color\":[\"#f22c40\"],\"fill_alpha\":[0.8],\"height\":[3363.0],\"label\":[\"(1199.600000, 1229.590000]\"],\"line_alpha\":[1.0],\"line_color\":[\"black\"],\"width\":[29.99000000000001],\"x\":[\"1214.5949999999998\"],\"y\":[1681.5]}},\"id\":\"fd472567-0ec1-4232-bf5e-3bd2c4ce02db\",\"type\":\"ColumnDataSource\"},{\"attributes\":{\"callback\":null,\"column_names\":[\"x\",\"y\",\"width\",\"height\",\"color\",\"fill_alpha\",\"line_color\",\"line_alpha\",\"label\"],\"data\":{\"chart_index\":[\"(1889.370000, 1919.360000]\"],\"color\":[\"#f22c40\"],\"fill_alpha\":[0.8],\"height\":[628.0],\"label\":[\"(1889.370000, 1919.360000]\"],\"line_alpha\":[1.0],\"line_color\":[\"black\"],\"width\":[29.99000000000001],\"x\":[\"1904.3649999999998\"],\"y\":[314.0]}},\"id\":\"e27e5cc1-044a-48cc-9242-698bb1479983\",\"type\":\"ColumnDataSource\"},{\"attributes\":{\"data_source\":{\"id\":\"2cbae4b4-80d7-4f0e-b625-c39a0d256470\",\"type\":\"ColumnDataSource\"},\"glyph\":{\"id\":\"f65e17f7-6ea6-4575-9e90-66b20a6b8468\",\"type\":\"Rect\"},\"hover_glyph\":null,\"muted_glyph\":null},\"id\":\"f65397ac-f08e-4697-81c4-fbaa6072956e\",\"type\":\"GlyphRenderer\"},{\"attributes\":{\"fill_alpha\":{\"field\":\"fill_alpha\"},\"fill_color\":{\"field\":\"color\"},\"height\":{\"field\":\"height\",\"units\":\"data\"},\"line_color\":{\"field\":\"line_color\"},\"width\":{\"field\":\"width\",\"units\":\"data\"},\"x\":{\"field\":\"x\"},\"y\":{\"field\":\"y\"}},\"id\":\"33255af1-5a43-4865-9421-527555f59328\",\"type\":\"Rect\"},{\"attributes\":{\"callback\":null,\"end\":3073.975,\"start\":-74.97500000000001},\"id\":\"c70135fe-46c1-499d-8495-5a7d32ec4bd0\",\"type\":\"Range1d\"},{\"attributes\":{\"data_source\":{\"id\":\"63bcfbb6-f1d3-40d5-8f92-92b805b4bae5\",\"type\":\"ColumnDataSource\"},\"glyph\":{\"id\":\"efbb6fd1-b750-464b-8974-111ef84c0500\",\"type\":\"Rect\"},\"hover_glyph\":null,\"muted_glyph\":null},\"id\":\"dec6cd76-9f3b-4af9-9f3a-f2b635514ab9\",\"type\":\"GlyphRenderer\"},{\"attributes\":{\"fill_alpha\":{\"field\":\"fill_alpha\"},\"fill_color\":{\"field\":\"color\"},\"height\":{\"field\":\"height\",\"units\":\"data\"},\"line_color\":{\"field\":\"line_color\"},\"width\":{\"field\":\"width\",\"units\":\"data\"},\"x\":{\"field\":\"x\"},\"y\":{\"field\":\"y\"}},\"id\":\"12b71be4-fc52-4cbd-a1e8-de0a58e80b30\",\"type\":\"Rect\"},{\"attributes\":{\"fill_alpha\":{\"field\":\"fill_alpha\"},\"fill_color\":{\"field\":\"color\"},\"height\":{\"field\":\"height\",\"units\":\"data\"},\"line_color\":{\"field\":\"line_color\"},\"width\":{\"field\":\"width\",\"units\":\"data\"},\"x\":{\"field\":\"x\"},\"y\":{\"field\":\"y\"}},\"id\":\"b0600fec-585b-47ca-9983-e275ab0bed98\",\"type\":\"Rect\"},{\"attributes\":{\"callback\":null,\"column_names\":[\"x\",\"y\",\"width\",\"height\",\"color\",\"fill_alpha\",\"line_color\",\"line_alpha\",\"label\"],\"data\":{\"chart_index\":[\"(2279.240000, 2309.230000]\"],\"color\":[\"#f22c40\"],\"fill_alpha\":[0.8],\"height\":[205.0],\"label\":[\"(2279.240000, 2309.230000]\"],\"line_alpha\":[1.0],\"line_color\":[\"black\"],\"width\":[29.990000000000236],\"x\":[\"2294.2349999999997\"],\"y\":[102.5]}},\"id\":\"ad64a977-ec20-4924-bf23-8f21b81efe4a\",\"type\":\"ColumnDataSource\"},{\"attributes\":{\"callback\":null,\"column_names\":[\"x\",\"y\",\"width\",\"height\",\"color\",\"fill_alpha\",\"line_color\",\"line_alpha\",\"label\"],\"data\":{\"chart_index\":[\"(1589.470000, 1619.460000]\"],\"color\":[\"#f22c40\"],\"fill_alpha\":[0.8],\"height\":[1380.0],\"label\":[\"(1589.470000, 1619.460000]\"],\"line_alpha\":[1.0],\"line_color\":[\"black\"],\"width\":[29.98999999999978],\"x\":[\"1604.4650000000001\"],\"y\":[690.0]}},\"id\":\"2cbae4b4-80d7-4f0e-b625-c39a0d256470\",\"type\":\"ColumnDataSource\"},{\"attributes\":{\"callback\":null,\"column_names\":[\"x\",\"y\",\"width\",\"height\",\"color\",\"fill_alpha\",\"line_color\",\"line_alpha\",\"label\"],\"data\":{\"chart_index\":[\"(1919.360000, 1949.350000]\"],\"color\":[\"#f22c40\"],\"fill_alpha\":[0.8],\"height\":[550.0],\"label\":[\"(1919.360000, 1949.350000]\"],\"line_alpha\":[1.0],\"line_color\":[\"black\"],\"width\":[29.99000000000001],\"x\":[\"1934.355\"],\"y\":[275.0]}},\"id\":\"a508440e-dfe3-4b6f-910f-5531723699ac\",\"type\":\"ColumnDataSource\"},{\"attributes\":{\"plot\":{\"id\":\"c7bad5ec-764f-44e3-b1cb-acd2a502c81d\",\"subtype\":\"Chart\",\"type\":\"Plot\"}},\"id\":\"5b1bed51-17f1-4d9a-b573-c660610f900b\",\"type\":\"PanTool\"},{\"attributes\":{\"data_source\":{\"id\":\"685c58b4-22ce-40e7-951c-015fad3ff144\",\"type\":\"ColumnDataSource\"},\"glyph\":{\"id\":\"ee7382ab-ffc9-4b20-96e4-fe06b0749a41\",\"type\":\"Rect\"},\"hover_glyph\":null,\"muted_glyph\":null},\"id\":\"8346e304-cbec-424a-a771-9285150df1b9\",\"type\":\"GlyphRenderer\"},{\"attributes\":{\"bottom_units\":\"screen\",\"fill_alpha\":{\"value\":0.5},\"fill_color\":{\"value\":\"lightgrey\"},\"left_units\":\"screen\",\"level\":\"overlay\",\"line_alpha\":{\"value\":1.0},\"line_color\":{\"value\":\"black\"},\"line_dash\":[4,4],\"line_width\":{\"value\":2},\"plot\":null,\"render_mode\":\"css\",\"right_units\":\"screen\",\"top_units\":\"screen\"},\"id\":\"3698a33e-5a30-408b-8b91-22597edf8978\",\"type\":\"BoxAnnotation\"},{\"attributes\":{\"callback\":null,\"column_names\":[\"x\",\"y\",\"width\",\"height\",\"color\",\"fill_alpha\",\"line_color\",\"line_alpha\",\"label\"],\"data\":{\"chart_index\":[\"(1229.590000, 1259.580000]\"],\"color\":[\"#f22c40\"],\"fill_alpha\":[0.8],\"height\":[3305.0],\"label\":[\"(1229.590000, 1259.580000]\"],\"line_alpha\":[1.0],\"line_color\":[\"black\"],\"width\":[29.99000000000001],\"x\":[\"1244.585\"],\"y\":[1652.5]}},\"id\":\"63bcfbb6-f1d3-40d5-8f92-92b805b4bae5\",\"type\":\"ColumnDataSource\"},{\"attributes\":{\"data_source\":{\"id\":\"5a760978-1402-408f-9667-338b4604e4e5\",\"type\":\"ColumnDataSource\"},\"glyph\":{\"id\":\"2deecd9a-17a5-430d-8b67-64ba84485626\",\"type\":\"Rect\"},\"hover_glyph\":null,\"muted_glyph\":null},\"id\":\"fdddc268-b5c0-420c-8ab6-bad40e2a5c26\",\"type\":\"GlyphRenderer\"},{\"attributes\":{\"data_source\":{\"id\":\"df240c82-8fc6-4320-b829-24e8b04341a0\",\"type\":\"ColumnDataSource\"},\"glyph\":{\"id\":\"36ab2b8d-89ef-4571-b4e2-7b3ec716264c\",\"type\":\"Rect\"},\"hover_glyph\":null,\"muted_glyph\":null},\"id\":\"fb65f212-e088-489a-8339-8ee6c9d323c2\",\"type\":\"GlyphRenderer\"},{\"attributes\":{\"fill_alpha\":{\"field\":\"fill_alpha\"},\"fill_color\":{\"field\":\"color\"},\"height\":{\"field\":\"height\",\"units\":\"data\"},\"line_color\":{\"field\":\"line_color\"},\"width\":{\"field\":\"width\",\"units\":\"data\"},\"x\":{\"field\":\"x\"},\"y\":{\"field\":\"y\"}},\"id\":\"2a802270-c413-4314-840d-d499defb236f\",\"type\":\"Rect\"},{\"attributes\":{\"fill_alpha\":{\"field\":\"fill_alpha\"},\"fill_color\":{\"field\":\"color\"},\"height\":{\"field\":\"height\",\"units\":\"data\"},\"line_color\":{\"field\":\"line_color\"},\"width\":{\"field\":\"width\",\"units\":\"data\"},\"x\":{\"field\":\"x\"},\"y\":{\"field\":\"y\"}},\"id\":\"9e1a40ae-df28-4b14-9f10-5ba65f1e6a11\",\"type\":\"Rect\"},{\"attributes\":{\"callback\":null,\"column_names\":[\"x\",\"y\",\"width\",\"height\",\"color\",\"fill_alpha\",\"line_color\",\"line_alpha\",\"label\"],\"data\":{\"chart_index\":[\"(1979.340000, 2009.330000]\"],\"color\":[\"#f22c40\"],\"fill_alpha\":[0.8],\"height\":[475.0],\"label\":[\"(1979.340000, 2009.330000]\"],\"line_alpha\":[1.0],\"line_color\":[\"black\"],\"width\":[29.99000000000001],\"x\":[\"1994.335\"],\"y\":[237.5]}},\"id\":\"e81b036b-56a9-45b6-8b2e-0921a19959ff\",\"type\":\"ColumnDataSource\"},{\"attributes\":{},\"id\":\"7d37c168-8ad8-42fa-85fc-1362e694ccfa\",\"type\":\"BasicTickFormatter\"},{\"attributes\":{\"fill_alpha\":{\"field\":\"fill_alpha\"},\"fill_color\":{\"field\":\"color\"},\"height\":{\"field\":\"height\",\"units\":\"data\"},\"line_color\":{\"field\":\"line_color\"},\"width\":{\"field\":\"width\",\"units\":\"data\"},\"x\":{\"field\":\"x\"},\"y\":{\"field\":\"y\"}},\"id\":\"6bedc6fb-8d27-49fd-9280-d35dcbf04463\",\"type\":\"Rect\"},{\"attributes\":{\"fill_alpha\":{\"field\":\"fill_alpha\"},\"fill_color\":{\"field\":\"color\"},\"height\":{\"field\":\"height\",\"units\":\"data\"},\"line_color\":{\"field\":\"line_color\"},\"width\":{\"field\":\"width\",\"units\":\"data\"},\"x\":{\"field\":\"x\"},\"y\":{\"field\":\"y\"}},\"id\":\"0b0973dc-c09c-401a-bf62-43b989a4c3e8\",\"type\":\"Rect\"},{\"attributes\":{\"plot\":null,\"text\":\"df['sen_length']\"},\"id\":\"772424e4-f4bb-49ee-a476-4fbd7e315f0f\",\"type\":\"Title\"},{\"attributes\":{\"fill_alpha\":{\"field\":\"fill_alpha\"},\"fill_color\":{\"field\":\"color\"},\"height\":{\"field\":\"height\",\"units\":\"data\"},\"line_color\":{\"field\":\"line_color\"},\"width\":{\"field\":\"width\",\"units\":\"data\"},\"x\":{\"field\":\"x\"},\"y\":{\"field\":\"y\"}},\"id\":\"932c47a1-4c0d-43fd-b401-8229f44ae152\",\"type\":\"Rect\"},{\"attributes\":{\"callback\":null,\"column_names\":[\"x\",\"y\",\"width\",\"height\",\"color\",\"fill_alpha\",\"line_color\",\"line_alpha\",\"label\"],\"data\":{\"chart_index\":[\"(2309.230000, 2339.220000]\"],\"color\":[\"#f22c40\"],\"fill_alpha\":[0.8],\"height\":[187.0],\"label\":[\"(2309.230000, 2339.220000]\"],\"line_alpha\":[1.0],\"line_color\":[\"black\"],\"width\":[29.98999999999978],\"x\":[\"2324.225\"],\"y\":[93.5]}},\"id\":\"685c58b4-22ce-40e7-951c-015fad3ff144\",\"type\":\"ColumnDataSource\"},{\"attributes\":{\"callback\":null,\"column_names\":[\"x\",\"y\",\"width\",\"height\",\"color\",\"fill_alpha\",\"line_color\",\"line_alpha\",\"label\"],\"data\":{\"chart_index\":[\"(1619.460000, 1649.450000]\"],\"color\":[\"#f22c40\"],\"fill_alpha\":[0.8],\"height\":[1274.0],\"label\":[\"(1619.460000, 1649.450000]\"],\"line_alpha\":[1.0],\"line_color\":[\"black\"],\"width\":[29.99000000000001],\"x\":[\"1634.455\"],\"y\":[637.0]}},\"id\":\"5a760978-1402-408f-9667-338b4604e4e5\",\"type\":\"ColumnDataSource\"}],\"root_ids\":[\"c7bad5ec-764f-44e3-b1cb-acd2a502c81d\"]},\"title\":\"Bokeh Application\",\"version\":\"0.12.6\"}};\n",
       "            var render_items = [{\"docid\":\"f321feb1-8bfb-4b7a-96ee-aa8c02490452\",\"elementid\":\"2dc2d793-4a5f-4b67-9739-88916f8cd711\",\"modelid\":\"c7bad5ec-764f-44e3-b1cb-acd2a502c81d\"}];\n",
       "            \n",
       "            Bokeh.embed.embed_items(docs_json, render_items);\n",
       "          };\n",
       "          if (document.readyState != \"loading\") fn();\n",
       "          else document.addEventListener(\"DOMContentLoaded\", fn);\n",
       "        })();\n",
       "      },\n",
       "      function(Bokeh) {\n",
       "      }\n",
       "    ];\n",
       "  \n",
       "    function run_inline_js() {\n",
       "      \n",
       "      if ((window.Bokeh !== undefined) || (force === true)) {\n",
       "        for (var i = 0; i < inline_js.length; i++) {\n",
       "          inline_js[i](window.Bokeh);\n",
       "        }if (force === true) {\n",
       "          display_loaded();\n",
       "        }} else if (Date.now() < window._bokeh_timeout) {\n",
       "        setTimeout(run_inline_js, 100);\n",
       "      } else if (!window._bokeh_failed_load) {\n",
       "        console.log(\"Bokeh: BokehJS failed to load within specified timeout.\");\n",
       "        window._bokeh_failed_load = true;\n",
       "      } else if (force !== true) {\n",
       "        var cell = $(document.getElementById(\"2dc2d793-4a5f-4b67-9739-88916f8cd711\")).parents('.cell').data().cell;\n",
       "        cell.output_area.append_execute_result(NB_LOAD_WARNING)\n",
       "      }\n",
       "  \n",
       "    }\n",
       "  \n",
       "    if (window._bokeh_is_loading === 0) {\n",
       "      console.log(\"Bokeh: BokehJS loaded, going straight to plotting\");\n",
       "      run_inline_js();\n",
       "    } else {\n",
       "      load_libs(js_urls, function() {\n",
       "        console.log(\"Bokeh: BokehJS plotting callback run at\", now());\n",
       "        run_inline_js();\n",
       "      });\n",
       "    }\n",
       "  }(this));\n",
       "</script>"
      ]
     },
     "metadata": {},
     "output_type": "display_data"
    }
   ],
   "source": [
    "defaults.width = 600\n",
    "defaults.height = 350\n",
    "\n",
    "# input options\n",
    "hist = Histogram(pd.DataFrame(df[df['sen_length']<3000]['sen_length']), title=\"df['sen_length']\", bins=100)\n",
    "show(hist)"
   ]
  },
  {
   "cell_type": "code",
   "execution_count": 2,
   "metadata": {
    "collapsed": true
   },
   "outputs": [],
   "source": [
    "df=df[df['sen_length']>25]\n",
    "df=df.reset_index(drop=True)"
   ]
  },
  {
   "cell_type": "code",
   "execution_count": 4,
   "metadata": {},
   "outputs": [
    {
     "data": {
      "text/html": [
       "<div>\n",
       "<table border=\"1\" class=\"dataframe\">\n",
       "  <thead>\n",
       "    <tr style=\"text-align: right;\">\n",
       "      <th></th>\n",
       "      <th>level_0</th>\n",
       "      <th>contents</th>\n",
       "      <th>datetime</th>\n",
       "      <th>title</th>\n",
       "      <th>url</th>\n",
       "      <th>label_num</th>\n",
       "      <th>sentences</th>\n",
       "      <th>sen_length</th>\n",
       "      <th>con_length</th>\n",
       "    </tr>\n",
       "  </thead>\n",
       "  <tbody>\n",
       "    <tr>\n",
       "      <th>0</th>\n",
       "      <td>HH</td>\n",
       "      <td>[KBO리그] 전체적 전력 미흡으로 가을야구 실패했지만...[오마이뉴스 김승훈 기자...</td>\n",
       "      <td>2015-10-03 20:43:03</td>\n",
       "      <td>아쉬운 마리한화... 그러나 박수가 아깝지 않다</td>\n",
       "      <td>http://sports.news.naver.com/kbaseball/news/re...</td>\n",
       "      <td>1</td>\n",
       "      <td>전체적 전력 미흡으로 가을야구 실패했지만. 한화 이글스가 2009년부터 2014...</td>\n",
       "      <td>3393</td>\n",
       "      <td>3562</td>\n",
       "    </tr>\n",
       "    <tr>\n",
       "      <th>1</th>\n",
       "      <td>HH</td>\n",
       "      <td>(서울=연합뉴스) 천병혁 기자 = 신생팀 케이티 위즈가 통렬한 홈런포를 쏘아 올리며...</td>\n",
       "      <td>2015-10-03 16:47:21</td>\n",
       "      <td>케이티, 신생팀 최다승 타이 한화 PS 좌절</td>\n",
       "      <td>http://sports.news.naver.com/kbaseball/news/re...</td>\n",
       "      <td>1</td>\n",
       "      <td>신생팀 케이티 위즈가 통렬한 홈런포를 쏘아 올리며 한화 이글스의 실낱같은 희망마저...</td>\n",
       "      <td>838</td>\n",
       "      <td>987</td>\n",
       "    </tr>\n",
       "    <tr>\n",
       "      <th>2</th>\n",
       "      <td>HH</td>\n",
       "      <td>한화 이글스 선수단. 2015.9.30 뉴스1   News1 신성룡 기자(서울=뉴스...</td>\n",
       "      <td>2015-10-03 16:50:42</td>\n",
       "      <td>[프로야구]화제의 중심 한화, 결국 포스트시즌 탈락</td>\n",
       "      <td>http://sports.news.naver.com/kbaseball/news/re...</td>\n",
       "      <td>1</td>\n",
       "      <td>한화 이글스 선수단. 2015.9. 숱한 화제를 뿌렸던 한화 이글스의 2015시즌이...</td>\n",
       "      <td>2273</td>\n",
       "      <td>2386</td>\n",
       "    </tr>\n",
       "  </tbody>\n",
       "</table>\n",
       "</div>"
      ],
      "text/plain": [
       "  level_0                                           contents  \\\n",
       "0      HH  [KBO리그] 전체적 전력 미흡으로 가을야구 실패했지만...[오마이뉴스 김승훈 기자...   \n",
       "1      HH  (서울=연합뉴스) 천병혁 기자 = 신생팀 케이티 위즈가 통렬한 홈런포를 쏘아 올리며...   \n",
       "2      HH  한화 이글스 선수단. 2015.9.30 뉴스1   News1 신성룡 기자(서울=뉴스...   \n",
       "\n",
       "             datetime                         title  \\\n",
       "0 2015-10-03 20:43:03    아쉬운 마리한화... 그러나 박수가 아깝지 않다   \n",
       "1 2015-10-03 16:47:21      케이티, 신생팀 최다승 타이 한화 PS 좌절   \n",
       "2 2015-10-03 16:50:42  [프로야구]화제의 중심 한화, 결국 포스트시즌 탈락   \n",
       "\n",
       "                                                 url  label_num  \\\n",
       "0  http://sports.news.naver.com/kbaseball/news/re...          1   \n",
       "1  http://sports.news.naver.com/kbaseball/news/re...          1   \n",
       "2  http://sports.news.naver.com/kbaseball/news/re...          1   \n",
       "\n",
       "                                           sentences  sen_length  con_length  \n",
       "0    전체적 전력 미흡으로 가을야구 실패했지만. 한화 이글스가 2009년부터 2014...        3393        3562  \n",
       "1   신생팀 케이티 위즈가 통렬한 홈런포를 쏘아 올리며 한화 이글스의 실낱같은 희망마저...         838         987  \n",
       "2  한화 이글스 선수단. 2015.9. 숱한 화제를 뿌렸던 한화 이글스의 2015시즌이...        2273        2386  "
      ]
     },
     "execution_count": 4,
     "metadata": {},
     "output_type": "execute_result"
    }
   ],
   "source": [
    "df.head(3)"
   ]
  },
  {
   "cell_type": "code",
   "execution_count": 5,
   "metadata": {},
   "outputs": [
    {
     "name": "stdout",
     "output_type": "stream",
     "text": [
      "(196993,)\n",
      "(196993,)\n"
     ]
    }
   ],
   "source": [
    "X = df.sentences\n",
    "y = df.label_num\n",
    "print(X.shape)\n",
    "print(y.shape)"
   ]
  },
  {
   "cell_type": "code",
   "execution_count": 6,
   "metadata": {},
   "outputs": [
    {
     "name": "stdout",
     "output_type": "stream",
     "text": [
      "(147744,)\n",
      "(49249,)\n",
      "(147744,)\n",
      "(49249,)\n"
     ]
    }
   ],
   "source": [
    "from sklearn.model_selection import train_test_split\n",
    "X_train, X_test, y_train, y_test = train_test_split(X, y, random_state=1)\n",
    "print(X_train.shape)\n",
    "print(X_test.shape)\n",
    "print(y_train.shape)\n",
    "print(y_test.shape)"
   ]
  },
  {
   "cell_type": "code",
   "execution_count": 7,
   "metadata": {},
   "outputs": [
    {
     "name": "stdout",
     "output_type": "stream",
     "text": [
      "CPU times: user 28 ms, sys: 8 ms, total: 36 ms\n",
      "Wall time: 98 ms\n"
     ]
    }
   ],
   "source": [
    "%%time\n",
    "from konlpy.tag import Mecab; m = Mecab()\n",
    "#pos = lambda d: ['/'.join(p) for p in m.pos(d)]\n",
    "def noun_tagger(text):\n",
    "    #return [pos[0] for pos in m.pos(text) if (pos[1] in ['SL','SH','SN']) or pos[1].startswith('NN')]\n",
    "    return [pos[0] for pos in m.pos(text) if pos[1].startswith('NN')]"
   ]
  },
  {
   "cell_type": "code",
   "execution_count": 8,
   "metadata": {
    "collapsed": true
   },
   "outputs": [],
   "source": [
    "stopwords_kbo=['조','동안','때','구단','만','월','일','메이저','타율','실점','등판','명','치','원','피','프로','이날','상대','타선','연승','연패','상황','연속','이후','후','루','뒤','등','년','팀','승','것','월','위','패','전','번','군','개','점','차','중','기사','제공','팬','루수','회','말','초','야구','리그']"
   ]
  },
  {
   "cell_type": "markdown",
   "metadata": {},
   "source": [
    "### Summary:\n",
    "    * vect.fit(train) learns the vocabulary of the training data\n",
    "    * vect.transform(train) uses the fitted vocabulary to build a document term matrix from the training data\n",
    "    * vect.transform(test) uses the fitted vocabulary to build a document term matrix from the testing data(and ignores tokens it hasn't seen before)"
   ]
  },
  {
   "cell_type": "code",
   "execution_count": 9,
   "metadata": {},
   "outputs": [
    {
     "name": "stdout",
     "output_type": "stream",
     "text": [
      "CPU times: user 9min 59s, sys: 7.29 s, total: 10min 6s\n",
      "Wall time: 10min 7s\n"
     ]
    }
   ],
   "source": [
    "%%time\n",
    "from sklearn.feature_extraction.text import TfidfVectorizer\n",
    "vect = TfidfVectorizer(tokenizer=noun_tagger,stop_words=stopwords_kbo, ngram_range=(1,3), min_df=2, max_df=.5)\n",
    "X_train_dtm = vect.fit_transform(X_train)"
   ]
  },
  {
   "cell_type": "code",
   "execution_count": 10,
   "metadata": {
    "collapsed": true
   },
   "outputs": [],
   "source": [
    "X_test_dtm = vect.transform(X_test)"
   ]
  },
  {
   "cell_type": "code",
   "execution_count": 11,
   "metadata": {},
   "outputs": [
    {
     "data": {
      "text/plain": [
       "(147744, 3095372)"
      ]
     },
     "execution_count": 11,
     "metadata": {},
     "output_type": "execute_result"
    }
   ],
   "source": [
    "X_train_dtm.shape"
   ]
  },
  {
   "cell_type": "code",
   "execution_count": 12,
   "metadata": {},
   "outputs": [
    {
     "data": {
      "text/plain": [
       "(49249, 3095372)"
      ]
     },
     "execution_count": 12,
     "metadata": {},
     "output_type": "execute_result"
    }
   ],
   "source": [
    "X_test_dtm.shape"
   ]
  },
  {
   "cell_type": "markdown",
   "metadata": {},
   "source": [
    "## save vector & dtm\n",
    "\n",
    "https://stackoverflow.com/questions/29788047/keep-tfidf-result-for-predicting-new-content-using-scikit-for-python\n",
    "https://stackoverflow.com/questions/32764991/how-do-i-store-a-tfidfvectorizer-for-future-use-in-scikit-learn"
   ]
  },
  {
   "cell_type": "code",
   "execution_count": 14,
   "metadata": {},
   "outputs": [],
   "source": [
    "import pickle\n",
    "\n",
    "with open(\"kbo_tfidf_vect.pkl\", 'wb') as handle:\n",
    "    pickle.dump(vect, handle)\n",
    "\n",
    "with open(\"kbo_dtm.pkl\", 'wb') as handle:\n",
    "    pickle.dump(X_test_dtm, handle)"
   ]
  },
  {
   "cell_type": "code",
   "execution_count": 15,
   "metadata": {
    "collapsed": true
   },
   "outputs": [],
   "source": [
    "# import and instantiate a Multinomial Naive Bayes model\n",
    "from sklearn.naive_bayes import MultinomialNB\n",
    "nb = MultinomialNB(alpha=.01)"
   ]
  },
  {
   "cell_type": "code",
   "execution_count": 16,
   "metadata": {},
   "outputs": [
    {
     "name": "stdout",
     "output_type": "stream",
     "text": [
      "CPU times: user 2.74 s, sys: 304 ms, total: 3.05 s\n",
      "Wall time: 3.05 s\n"
     ]
    },
    {
     "data": {
      "text/plain": [
       "MultinomialNB(alpha=0.01, class_prior=None, fit_prior=True)"
      ]
     },
     "execution_count": 16,
     "metadata": {},
     "output_type": "execute_result"
    }
   ],
   "source": [
    "# train the model using X_train_dtm (timing it with an IPython \"magic command\")\n",
    "%time nb.fit(X_train_dtm, y_train)"
   ]
  },
  {
   "cell_type": "code",
   "execution_count": 17,
   "metadata": {
    "collapsed": true
   },
   "outputs": [],
   "source": [
    "# make class predictions for X_test_dtm\n",
    "y_pred_class = nb.predict(X_test_dtm)"
   ]
  },
  {
   "cell_type": "code",
   "execution_count": 18,
   "metadata": {},
   "outputs": [
    {
     "data": {
      "text/plain": [
       "0.94284147901480231"
      ]
     },
     "execution_count": 18,
     "metadata": {},
     "output_type": "execute_result"
    }
   ],
   "source": [
    "# calculate accuracy of class predictions\n",
    "from sklearn import metrics\n",
    "metrics.accuracy_score(y_test, y_pred_class)"
   ]
  },
  {
   "cell_type": "code",
   "execution_count": 19,
   "metadata": {},
   "outputs": [
    {
     "name": "stdout",
     "output_type": "stream",
     "text": [
      "             precision    recall  f1-score   support\n",
      "\n",
      "         두산       0.94      0.95      0.95      7479\n",
      "         한화       0.95      0.96      0.96      5976\n",
      "         LG       0.94      0.94      0.94      5125\n",
      "         넥센       0.94      0.94      0.94      5192\n",
      "         기아       0.93      0.94      0.94      4857\n",
      "         삼성       0.92      0.94      0.93      4540\n",
      "         NC       0.95      0.93      0.94      4405\n",
      "         롯데       0.95      0.95      0.95      4415\n",
      "         SK       0.95      0.92      0.94      4345\n",
      "         KT       0.94      0.93      0.94      2915\n",
      "\n",
      "avg / total       0.94      0.94      0.94     49249\n",
      "\n"
     ]
    }
   ],
   "source": [
    "from sklearn.metrics import classification_report\n",
    "print(classification_report(y_test, y_pred_class, target_names=['두산', '한화', 'LG', '넥센', '기아', '삼성', 'NC', '롯데', 'SK', 'KT']))"
   ]
  },
  {
   "cell_type": "code",
   "execution_count": 20,
   "metadata": {},
   "outputs": [
    {
     "name": "stdout",
     "output_type": "stream",
     "text": [
      "5\n"
     ]
    }
   ],
   "source": [
    "import numpy as np\n",
    "counts = np.bincount(y_pred_class[(y_pred_class!=0) & (y_test==0)])\n",
    "print(np.argmax(counts))"
   ]
  },
  {
   "cell_type": "code",
   "execution_count": 21,
   "metadata": {},
   "outputs": [
    {
     "data": {
      "text/plain": [
       "126113      24일 10개 구단 관전 포인트 KBO리그 10개 구단의 키플레이어와 이슈를 한...\n",
       "115498    강정호 공로상 수상이 발표됐다.한국 프로야구 OB회인 사단법인 일구회(회장 이재환)...\n",
       "110516      삼성과 두산에서 가장 많은 도루를 기록한 박해민(왼쪽)과 오재원.삼성 라이온즈 ...\n",
       "116500    삼성 라이온즈가 운명의 8회에 또다시 역전극을 만들어내며 4연승을 내달렸다.삼성은 ...\n",
       "134520    1일 오후 대구 삼성라이온즈파크에서 열리는  2017 프로야구  삼성 라이온즈와 두...\n",
       "121690      삼성의 FA 영입은 성공적일까. 이원석을 둔 손익계산서를 보면 애매한 느낌을 지...\n",
       "128866      두산 베어스의 양의지와 오재원이 24일 대구 삼성라이온즈 파크에서 열린 삼성과의...\n",
       "120180      삼성이 전 두산 내야수 최영진(28)을 영입했다.속초상고와 한일장신대를 거쳐 2...\n",
       "127365      삼성 라이온즈가 화끈한 화력을 뽐내면서 시즌 첫 승을 신고했다. 삼성은 2일 대...\n",
       "112991     불미스러운 일로 팬들께 심려를 끼쳐드려 죄송합니다. 삼성 라이온즈와 두산 베어스의...\n",
       "116699      삼성이 3연승을 내달렸다. 삼성 라이온즈는 18일 서울 잠실야구장에서 열린 20...\n",
       "114611      한국 프로야구 OB회인 사단법인 일구회(회장 이재환)는  2015 넷마블 마구마...\n",
       "127276      4월 셋째주 포지션별 베스트 11과 워스트 11 프로야구 통계기록실 (케이비리포...\n",
       "112463     차우찬.  삼성은 4차전 선발로 알프레도 피가로를 내세웠다. 두산의 4차전 선발은...\n",
       "127818     두산 정수빈, 오재원, 삼성 구자욱, NC 나성범, 넥센 서건창 선수의 아트토이 ...\n",
       "128186    두산 베어스 장원준은 지난해까지 통산 97승을 올려 올시즌 초반 100승 클럽에 가...\n",
       "119376      상수보다는 변수, 예측불허라는 말이 어울렸다. 올 시즌 KBO리그는 구단별 희비...\n",
       "135643    2일 대구 라이온즈파크에서 열린  2017 프로야구 KBO리그  삼성 라이온즈와 두...\n",
       "131072    결승타를 올리는 삼성의 박해민.   삼성 라이온즈가 두산 베어스에 짜릿한 역전승을 ...\n",
       "135172       꾸역꾸역 들쑥날쑥한 제구, 홍상삼의 단점이다. 김태형 감독이 홍상삼보다 이용찬...\n",
       "110277    26일 오후 대구시민야구장에서 열린 2015 KBO 한국시리즈 1차전 삼성 라이온즈...\n",
       "127367      화끈한 설욕전이었다. 삼성 라이온즈가 두산 베어스를 꺾고 시즌 첫 승을 신고했다...\n",
       "120660    삼성 김한수 감독은 이원석의 영입을 적극적으로 원했다. 내야 무한 경쟁의 신호탄이 ...\n",
       "116704      동병상련의 감정을 느꼈을 법도 했다. 삼성 라이온즈와 두산 베어스가 주요선수들의...\n",
       "127398       국민 타자  이승엽이 시즌 첫 홈런을 기록했다. 이승엽은 2일 대구삼성라이온즈...\n",
       "114603     2015 WBSC 프리미어12 우승을 이끈 김인식 감독이 일구대상 수상자로 선정됐...\n",
       "122998      워스트 오브 워스트 이현승 프로야구 통계기록실 (케이비리포트)에서는 한 주간의 ...\n",
       "122608      11주차 MVP 두산 장원준 프로야구 통계기록실 (케이비리포트)에서는 한 주간의...\n",
       "120656      앞으로 볼 수 없을지도 모르는 두산 유니폼을 입은 이원석   곽혜미 기자   이...\n",
       "123443     유희관과 최형우가 최고 투타에 선정됐다.한국 프로야구 OB회인 일구회가 주관하는 ...\n",
       "113713    삼성 심창민과 두산 노경은삼성과 두산이 한국시리즈 1차전을 통해  불펜 대란 을 예...\n",
       "110362     26일 오후 대구광역시 대구시민운동장 야구장에서 열린  2015KBO리그  한국시...\n",
       "140203      퓨처스 올스타전이 열린 지난 14일. 누구보다 익숙하게 대구삼성라이온즈파크를 활...\n",
       "110537    두산 삼성이 한국시리즈에서 2년 만에 만난다.두산 베어스는 10월 26일 오후 6시...\n",
       "110528    올해 한국시리즈 키워드는  회복 과  힐링   우승 자신 있어요  삼성 박석민(오른...\n",
       "127160    두산 양의지가 1일 대구삼성라이온즈파크에서 진행된 2016 프로야구 삼성과 두산의 ...\n",
       "121675         포수 왕국  두산이 또 한 명의 포수를 집안으로 불러 들였다.두산은 27일...\n",
       "117944      삼성은 강했고 두산은 버티지 못하며 끝내 역전패 당했다.삼성 라이온즈는 18일 ...\n",
       "130356    두산 이원석이 23일 삼성전에서 선발 차우찬을 상대로 홈런을 날리며 승부를 원점으로...\n",
       "134475      김재환(두산 베어스)의 기사 및 댓글란에는 늘  약물 이라는 두 글자가 따라붙는...\n",
       "123290      박건우. 선수들이 선정하는 시상식  플레이어스 초이스 어워드 에서 두산 베어스 ...\n",
       "120500    삼성 라이온즈가 자유계약선수(FA) 시장에서 내야수 이원석(30)을 영입했다. 삼성...\n",
       "133107      두산 베어스 최주환이 생애 첫 올스타를 향한 간절한 마음을 표현했습니다. 201...\n",
       "110387    KS 27일 2차전  양팀 약점  뚜렷 26일 개막한 한국시리즈(7전4승제)는 삼성...\n",
       "115721    김현수(두산 외야수 최다 득표)  상을 주셔서 감사하다. (2010년 이후) 5년 ...\n",
       "110282    두산 김태형 감독이 26일 대구구장에서 열리는 2015KBO리그 한국시리즈 1차전 ...\n",
       "117596      김상수(25, 삼성 라이온즈)이 자신의 한 시즌 최다 홈런 기록을 바꿨다.김상수...\n",
       "110332      7회말 3점포를 터뜨리며 대역전의 시작을 알린 나바로.삼성 라이온즈 제공 삼성 ...\n",
       "116701      삼성 라이온즈가 두산 베어스에 역전승하며 3연승으로 독주 채비를 갖췄다.삼성은 ...\n",
       "123411    카스포인트 어워즈를 사랑으로 수놓은 투수 TOP3    여자친구 어머니에게, 아내에...\n",
       "115723     2015 KBO리그 골든글러브 시상식  프로야구 두산베어스 포수 양의지가 2년 연...\n",
       "138429      민병헌(30 두산)이 대뜸 난감한 질문으로 취재진을 당황케 했다. 민병헌은 7일...\n",
       "120504       훌륭한 구단에서 좋은 조건으로 뛰게 돼 기쁘다. 삼성이 나를 진심으로 필요로 ...\n",
       "116322    김태형 두산 감독과 양의지. 스포츠조선 DB.두산 안방마님 양의지(28)는 2007...\n",
       "123463    2016 프로야구 한국시리즈 1차전 NC와 두산의 경기가 29일 서울 잠실야구장에서...\n",
       "125300    프로야구 4월 포지션별 베스트 및 워스트 11 프로야구 통계기록실 (케이비리포트)에...\n",
       "113819      삼성 선수단이 두산의 우승 시상식을 끝까지 지켜보며 축하해주고 있다.김우종 기자...\n",
       "124319      장원준(두산)이 사자 사냥꾼의 위용을 다시 한 번 보여줬다. 올 시즌 삼성전 두...\n",
       "139717      최주환.두산 베어스 최주환이 생애 첫 올스타의 감격을 누렸다. 최주환은 올 시즌...\n",
       "Name: sentences, dtype: object"
      ]
     },
     "execution_count": 21,
     "metadata": {},
     "output_type": "execute_result"
    }
   ],
   "source": [
    "X_test[(y_pred_class==5) & (y_test==0)]"
   ]
  },
  {
   "cell_type": "code",
   "execution_count": 22,
   "metadata": {},
   "outputs": [
    {
     "data": {
      "text/html": [
       "<div>\n",
       "<table border=\"1\" class=\"dataframe\">\n",
       "  <thead>\n",
       "    <tr style=\"text-align: right;\">\n",
       "      <th></th>\n",
       "      <th>level_0</th>\n",
       "      <th>contents</th>\n",
       "      <th>datetime</th>\n",
       "      <th>title</th>\n",
       "      <th>url</th>\n",
       "      <th>label_num</th>\n",
       "      <th>sentences</th>\n",
       "      <th>sen_length</th>\n",
       "      <th>con_length</th>\n",
       "    </tr>\n",
       "  </thead>\n",
       "  <tbody>\n",
       "    <tr>\n",
       "      <th>116500</th>\n",
       "      <td>OB</td>\n",
       "      <td>삼성 라이온즈가 운명의 8회에 또다시 역전극을 만들어내며 4연승을 내달렸다.삼성은 ...</td>\n",
       "      <td>2015-08-19 21:57:03</td>\n",
       "      <td>삼성, 두산에 6대4 승리, 4경기 연속 역전승</td>\n",
       "      <td>http://sports.news.naver.com/kbaseball/news/re...</td>\n",
       "      <td>0</td>\n",
       "      <td>삼성 라이온즈가 운명의 8회에 또다시 역전극을 만들어내며 4연승을 내달렸다.삼성은 ...</td>\n",
       "      <td>861</td>\n",
       "      <td>1059</td>\n",
       "    </tr>\n",
       "  </tbody>\n",
       "</table>\n",
       "</div>"
      ],
      "text/plain": [
       "       level_0                                           contents  \\\n",
       "116500      OB  삼성 라이온즈가 운명의 8회에 또다시 역전극을 만들어내며 4연승을 내달렸다.삼성은 ...   \n",
       "\n",
       "                  datetime                       title  \\\n",
       "116500 2015-08-19 21:57:03  삼성, 두산에 6대4 승리, 4경기 연속 역전승   \n",
       "\n",
       "                                                      url  label_num  \\\n",
       "116500  http://sports.news.naver.com/kbaseball/news/re...          0   \n",
       "\n",
       "                                                sentences  sen_length  \\\n",
       "116500  삼성 라이온즈가 운명의 8회에 또다시 역전극을 만들어내며 4연승을 내달렸다.삼성은 ...         861   \n",
       "\n",
       "        con_length  \n",
       "116500        1059  "
      ]
     },
     "execution_count": 22,
     "metadata": {},
     "output_type": "execute_result"
    }
   ],
   "source": [
    "df[df.index==116500]"
   ]
  },
  {
   "cell_type": "markdown",
   "metadata": {},
   "source": [
    "In practice Multinomial NB can be better than Linear SVM in some situations and svm better than NB on other datasets. Apparently t's possible to combine the two approaches to get a very good baseline: projects:nbsvm - Sida I. Wang\n",
    "\n",
    "You can also try non-linear SVMs but often the quadratic complexity of the SMO algorithm (for instance as implemented in libsvm) makes it not practical on datasets with more than 5000 documents. Instead on prefer to use liblinear than can only train linear SVM on large datasets.\n",
    "\n",
    "https://www.quora.com/What-are-the-differences-similarities-between-SVM-Naive-Bayes-for-binary-text-classification-wrt-how-they-are-processing-the-features\n",
    "\n",
    "http://scikit-learn.org/stable/modules/generated/sklearn.svm.SVC.html#sklearn.svm.SVC"
   ]
  },
  {
   "cell_type": "code",
   "execution_count": 23,
   "metadata": {
    "collapsed": true
   },
   "outputs": [],
   "source": [
    "from sklearn import svm\n",
    "#clf = svm.SVC(decision_function_shape='ovo')\n",
    "clfrSVM=svm.LinearSVC(C=1)"
   ]
  },
  {
   "cell_type": "code",
   "execution_count": 24,
   "metadata": {},
   "outputs": [
    {
     "name": "stdout",
     "output_type": "stream",
     "text": [
      "CPU times: user 1min 8s, sys: 568 ms, total: 1min 8s\n",
      "Wall time: 1min 8s\n"
     ]
    },
    {
     "data": {
      "text/plain": [
       "LinearSVC(C=1, class_weight=None, dual=True, fit_intercept=True,\n",
       "     intercept_scaling=1, loss='squared_hinge', max_iter=1000,\n",
       "     multi_class='ovr', penalty='l2', random_state=None, tol=0.0001,\n",
       "     verbose=0)"
      ]
     },
     "execution_count": 24,
     "metadata": {},
     "output_type": "execute_result"
    }
   ],
   "source": [
    "%time clfrSVM.fit(X_train_dtm, y_train)"
   ]
  },
  {
   "cell_type": "code",
   "execution_count": 25,
   "metadata": {
    "collapsed": true
   },
   "outputs": [],
   "source": [
    "y_pred_class_svm = clfrSVM.predict(X_test_dtm)"
   ]
  },
  {
   "cell_type": "code",
   "execution_count": 26,
   "metadata": {},
   "outputs": [
    {
     "data": {
      "text/plain": [
       "0.96706532112327159"
      ]
     },
     "execution_count": 26,
     "metadata": {},
     "output_type": "execute_result"
    }
   ],
   "source": [
    "from sklearn import metrics\n",
    "metrics.accuracy_score(y_test, y_pred_class_svm)"
   ]
  },
  {
   "cell_type": "code",
   "execution_count": 27,
   "metadata": {},
   "outputs": [
    {
     "name": "stdout",
     "output_type": "stream",
     "text": [
      "             precision    recall  f1-score   support\n",
      "\n",
      "         두산       0.97      0.97      0.97      7479\n",
      "         한화       0.97      0.98      0.98      5976\n",
      "         LG       0.96      0.96      0.96      5125\n",
      "         넥센       0.96      0.97      0.97      5192\n",
      "         기아       0.96      0.96      0.96      4857\n",
      "         삼성       0.96      0.96      0.96      4540\n",
      "         NC       0.97      0.97      0.97      4405\n",
      "         롯데       0.97      0.97      0.97      4415\n",
      "         SK       0.97      0.97      0.97      4345\n",
      "         KT       0.96      0.96      0.96      2915\n",
      "\n",
      "avg / total       0.97      0.97      0.97     49249\n",
      "\n"
     ]
    }
   ],
   "source": [
    "print(classification_report(y_test, y_pred_class_svm, target_names=['두산', '한화', 'LG', '넥센', '기아', '삼성', 'NC', '롯데', 'SK', 'KT']))"
   ]
  },
  {
   "cell_type": "markdown",
   "metadata": {},
   "source": [
    "https://stackoverflow.com/questions/40115043/no-space-left-on-device-error-while-fitting-sklearn-model"
   ]
  },
  {
   "cell_type": "code",
   "execution_count": 28,
   "metadata": {
    "collapsed": true
   },
   "outputs": [],
   "source": [
    "with open(\"kbo_svm_clf.pkl\", 'wb') as handle:\n",
    "    pickle.dump(clfrSVM, handle)"
   ]
  },
  {
   "cell_type": "code",
   "execution_count": 29,
   "metadata": {
    "collapsed": true
   },
   "outputs": [],
   "source": [
    "with open(\"kbo_nb_clf.pkl\", 'wb') as handle:\n",
    "    pickle.dump(nb, handle)"
   ]
  },
  {
   "cell_type": "code",
   "execution_count": null,
   "metadata": {
    "collapsed": true
   },
   "outputs": [],
   "source": []
  }
 ],
 "metadata": {
  "kernelspec": {
   "display_name": "Python 3",
   "language": "python",
   "name": "python3"
  },
  "language_info": {
   "codemirror_mode": {
    "name": "ipython",
    "version": 3
   },
   "file_extension": ".py",
   "mimetype": "text/x-python",
   "name": "python",
   "nbconvert_exporter": "python",
   "pygments_lexer": "ipython3",
   "version": "3.6.2"
  }
 },
 "nbformat": 4,
 "nbformat_minor": 2
}
