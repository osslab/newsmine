{
 "cells": [
  {
   "cell_type": "code",
   "execution_count": 1,
   "metadata": {
    "collapsed": true
   },
   "outputs": [],
   "source": [
    "import pandas as pd\n",
    "df = pd.read_pickle('newsis_local.pkl')"
   ]
  },
  {
   "cell_type": "code",
   "execution_count": 2,
   "metadata": {},
   "outputs": [
    {
     "data": {
      "text/html": [
       "<div>\n",
       "<style scoped>\n",
       "    .dataframe tbody tr th:only-of-type {\n",
       "        vertical-align: middle;\n",
       "    }\n",
       "\n",
       "    .dataframe tbody tr th {\n",
       "        vertical-align: top;\n",
       "    }\n",
       "\n",
       "    .dataframe thead th {\n",
       "        text-align: right;\n",
       "    }\n",
       "</style>\n",
       "<table border=\"1\" class=\"dataframe\">\n",
       "  <thead>\n",
       "    <tr style=\"text-align: right;\">\n",
       "      <th></th>\n",
       "      <th>article</th>\n",
       "      <th>title</th>\n",
       "      <th>sec</th>\n",
       "      <th>sec_sub</th>\n",
       "      <th>len</th>\n",
       "    </tr>\n",
       "  </thead>\n",
       "  <tbody>\n",
       "    <tr>\n",
       "      <th>14</th>\n",
       "      <td>제주지방기상청은 2일 오후 9시를 기해 제주도 서부앞바다에 풍랑주의보를 발효했다. ...</td>\n",
       "      <td>제주서부앞바다 오후 9시 풍랑주의보</td>\n",
       "      <td>전국</td>\n",
       "      <td>제주</td>\n",
       "      <td>233</td>\n",
       "    </tr>\n",
       "    <tr>\n",
       "      <th>21</th>\n",
       "      <td>강원 원주경찰서는 지난 1일 동거녀를 상습적으로 폭행한 혐의(폭력행위등처벌에 관한 ...</td>\n",
       "      <td>원주경찰, 동거녀 상습폭행 40대 구속</td>\n",
       "      <td>전국</td>\n",
       "      <td>강원</td>\n",
       "      <td>308</td>\n",
       "    </tr>\n",
       "    <tr>\n",
       "      <th>23</th>\n",
       "      <td>2일 오후 12시18분께 충남 보령시 대천해수욕장 앞 인근 해상에서 이모(57·여·...</td>\n",
       "      <td>보령 대천해수욕장서 50대女 변사체 발견</td>\n",
       "      <td>전국</td>\n",
       "      <td>대전/충남</td>\n",
       "      <td>270</td>\n",
       "    </tr>\n",
       "  </tbody>\n",
       "</table>\n",
       "</div>"
      ],
      "text/plain": [
       "                                              article                   title  \\\n",
       "14  제주지방기상청은 2일 오후 9시를 기해 제주도 서부앞바다에 풍랑주의보를 발효했다. ...     제주서부앞바다 오후 9시 풍랑주의보   \n",
       "21  강원 원주경찰서는 지난 1일 동거녀를 상습적으로 폭행한 혐의(폭력행위등처벌에 관한 ...   원주경찰, 동거녀 상습폭행 40대 구속   \n",
       "23  2일 오후 12시18분께 충남 보령시 대천해수욕장 앞 인근 해상에서 이모(57·여·...  보령 대천해수욕장서 50대女 변사체 발견   \n",
       "\n",
       "   sec sec_sub  len  \n",
       "14  전국      제주  233  \n",
       "21  전국      강원  308  \n",
       "23  전국   대전/충남  270  "
      ]
     },
     "execution_count": 2,
     "metadata": {},
     "output_type": "execute_result"
    }
   ],
   "source": [
    "df.head(3)"
   ]
  },
  {
   "cell_type": "code",
   "execution_count": 3,
   "metadata": {},
   "outputs": [
    {
     "data": {
      "text/plain": [
       "{'강원': 0,\n",
       " '경기남부': 1,\n",
       " '경기동부': 2,\n",
       " '경기북부': 3,\n",
       " '경남': 4,\n",
       " '광주/전남': 5,\n",
       " '대구/경북': 6,\n",
       " '대전/충남': 7,\n",
       " '부산': 8,\n",
       " '서울': 9,\n",
       " '세종': 10,\n",
       " '울산': 11,\n",
       " '인천': 12,\n",
       " '전북': 13,\n",
       " '제주': 14,\n",
       " '충북': 15}"
      ]
     },
     "execution_count": 3,
     "metadata": {},
     "output_type": "execute_result"
    }
   ],
   "source": [
    "counts=df.groupby('sec_sub').size()\n",
    "section_idx=enumerate(counts.keys())\n",
    "section_to_int = {word: ii for ii, word in section_idx}\n",
    "section_to_int"
   ]
  },
  {
   "cell_type": "code",
   "execution_count": 5,
   "metadata": {
    "collapsed": true
   },
   "outputs": [],
   "source": [
    "def set_section_idx(section):\n",
    "    return section_to_int[section]"
   ]
  },
  {
   "cell_type": "code",
   "execution_count": 6,
   "metadata": {},
   "outputs": [],
   "source": [
    "df['sec_idx']=df['sec_sub'].apply(set_section_idx)"
   ]
  },
  {
   "cell_type": "code",
   "execution_count": 7,
   "metadata": {},
   "outputs": [
    {
     "data": {
      "text/html": [
       "<div>\n",
       "<style scoped>\n",
       "    .dataframe tbody tr th:only-of-type {\n",
       "        vertical-align: middle;\n",
       "    }\n",
       "\n",
       "    .dataframe tbody tr th {\n",
       "        vertical-align: top;\n",
       "    }\n",
       "\n",
       "    .dataframe thead th {\n",
       "        text-align: right;\n",
       "    }\n",
       "</style>\n",
       "<table border=\"1\" class=\"dataframe\">\n",
       "  <thead>\n",
       "    <tr style=\"text-align: right;\">\n",
       "      <th></th>\n",
       "      <th>article</th>\n",
       "      <th>title</th>\n",
       "      <th>sec</th>\n",
       "      <th>sec_sub</th>\n",
       "      <th>len</th>\n",
       "      <th>sec_idx</th>\n",
       "    </tr>\n",
       "  </thead>\n",
       "  <tbody>\n",
       "    <tr>\n",
       "      <th>120967</th>\n",
       "      <td>세종시가 ㈜두루셀텍·㈜싸이텍·㈜광스틸·재진가로등㈜ 등 유망 중소기업 4개사와 투자협...</td>\n",
       "      <td>세종시 유망중소기업과 투자협약 체결</td>\n",
       "      <td>전국</td>\n",
       "      <td>세종</td>\n",
       "      <td>158</td>\n",
       "      <td>10</td>\n",
       "    </tr>\n",
       "    <tr>\n",
       "      <th>1173069</th>\n",
       "      <td>경남도는 시민들이 밤중에 안심하고 귀가할 수 있는 환경을 조성하기 위해 창원시와 밀...</td>\n",
       "      <td>경남도, 창원·밀양에 '안심 골목길 조성사업' 추진</td>\n",
       "      <td>전국</td>\n",
       "      <td>경남</td>\n",
       "      <td>537</td>\n",
       "      <td>4</td>\n",
       "    </tr>\n",
       "    <tr>\n",
       "      <th>591581</th>\n",
       "      <td>강원지방기상청은 5일 오후 4시를 기해 강릉·동해·삼척·속초·고성·양양 평지에 발효...</td>\n",
       "      <td>강원영동 건조경보, 평창·인제 주의보 발령</td>\n",
       "      <td>전국</td>\n",
       "      <td>강원</td>\n",
       "      <td>321</td>\n",
       "      <td>0</td>\n",
       "    </tr>\n",
       "    <tr>\n",
       "      <th>942023</th>\n",
       "      <td>경기 양평군은 지방도 342호선 용문면 화전리 ~ 마룡리간 지방도로가 완공돼 개통했...</td>\n",
       "      <td>양평군 화전-마룡 간 지방도로 준공</td>\n",
       "      <td>전국</td>\n",
       "      <td>경기동부</td>\n",
       "      <td>601</td>\n",
       "      <td>2</td>\n",
       "    </tr>\n",
       "    <tr>\n",
       "      <th>2292438</th>\n",
       "      <td>한국무역협회 대구경북본부는 제53회 무역의 날을 맞아 2016년 유공자 포상 및 수...</td>\n",
       "      <td>무협, 2016년 유공자 포상·수출의 탑 신청 접수</td>\n",
       "      <td>전국</td>\n",
       "      <td>대구/경북</td>\n",
       "      <td>718</td>\n",
       "      <td>6</td>\n",
       "    </tr>\n",
       "    <tr>\n",
       "      <th>426588</th>\n",
       "      <td>대구 서부경찰서는 6일 교통사고 견인요금을 과다 청구한 견인업체 대표 정모(57)씨...</td>\n",
       "      <td>견인업체, 요금 과다청구했다 무더기 적발</td>\n",
       "      <td>전국</td>\n",
       "      <td>대구/경북</td>\n",
       "      <td>282</td>\n",
       "      <td>6</td>\n",
       "    </tr>\n",
       "    <tr>\n",
       "      <th>1286055</th>\n",
       "      <td>칠곡경북대학교병원(원장 박재용)은 31일 대구은행 본점 3층(비지니스룸)에서 대구은...</td>\n",
       "      <td>칠곡경북대병원-대구銀, 지역민 사회공헌 MOU</td>\n",
       "      <td>전국</td>\n",
       "      <td>대구/경북</td>\n",
       "      <td>481</td>\n",
       "      <td>6</td>\n",
       "    </tr>\n",
       "    <tr>\n",
       "      <th>2167320</th>\n",
       "      <td>강원 동해시(심규언)는 15일부터 동해문화예술회관 소공연장과 동해소방서 대회의실 등...</td>\n",
       "      <td>동해시, 공무원 심폐소생술 교육 실시</td>\n",
       "      <td>전국</td>\n",
       "      <td>강원</td>\n",
       "      <td>673</td>\n",
       "      <td>0</td>\n",
       "    </tr>\n",
       "    <tr>\n",
       "      <th>1359268</th>\n",
       "      <td>부산 해운대구청에서 여권·국제운전면허증 등 동시 발급이 가능해 졌다.   해운대구는...</td>\n",
       "      <td>해운대구, '국제운전면허증' 발급 서비스 시행</td>\n",
       "      <td>전국</td>\n",
       "      <td>부산</td>\n",
       "      <td>396</td>\n",
       "      <td>8</td>\n",
       "    </tr>\n",
       "    <tr>\n",
       "      <th>2314357</th>\n",
       "      <td>경북 포항지방해양수산청(청장 윤석홍)은 항내를 출입하는 어선들의 안전항해를 위해 구...</td>\n",
       "      <td>포항해양청, 방파제 등대 2기 설치</td>\n",
       "      <td>전국</td>\n",
       "      <td>대구/경북</td>\n",
       "      <td>361</td>\n",
       "      <td>6</td>\n",
       "    </tr>\n",
       "  </tbody>\n",
       "</table>\n",
       "</div>"
      ],
      "text/plain": [
       "                                                   article  \\\n",
       "120967   세종시가 ㈜두루셀텍·㈜싸이텍·㈜광스틸·재진가로등㈜ 등 유망 중소기업 4개사와 투자협...   \n",
       "1173069  경남도는 시민들이 밤중에 안심하고 귀가할 수 있는 환경을 조성하기 위해 창원시와 밀...   \n",
       "591581   강원지방기상청은 5일 오후 4시를 기해 강릉·동해·삼척·속초·고성·양양 평지에 발효...   \n",
       "942023   경기 양평군은 지방도 342호선 용문면 화전리 ~ 마룡리간 지방도로가 완공돼 개통했...   \n",
       "2292438  한국무역협회 대구경북본부는 제53회 무역의 날을 맞아 2016년 유공자 포상 및 수...   \n",
       "426588   대구 서부경찰서는 6일 교통사고 견인요금을 과다 청구한 견인업체 대표 정모(57)씨...   \n",
       "1286055  칠곡경북대학교병원(원장 박재용)은 31일 대구은행 본점 3층(비지니스룸)에서 대구은...   \n",
       "2167320  강원 동해시(심규언)는 15일부터 동해문화예술회관 소공연장과 동해소방서 대회의실 등...   \n",
       "1359268  부산 해운대구청에서 여권·국제운전면허증 등 동시 발급이 가능해 졌다.   해운대구는...   \n",
       "2314357  경북 포항지방해양수산청(청장 윤석홍)은 항내를 출입하는 어선들의 안전항해를 위해 구...   \n",
       "\n",
       "                                title sec sec_sub  len  sec_idx  \n",
       "120967            세종시 유망중소기업과 투자협약 체결  전국      세종  158       10  \n",
       "1173069  경남도, 창원·밀양에 '안심 골목길 조성사업' 추진  전국      경남  537        4  \n",
       "591581        강원영동 건조경보, 평창·인제 주의보 발령  전국      강원  321        0  \n",
       "942023            양평군 화전-마룡 간 지방도로 준공  전국    경기동부  601        2  \n",
       "2292438  무협, 2016년 유공자 포상·수출의 탑 신청 접수  전국   대구/경북  718        6  \n",
       "426588         견인업체, 요금 과다청구했다 무더기 적발  전국   대구/경북  282        6  \n",
       "1286055     칠곡경북대병원-대구銀, 지역민 사회공헌 MOU  전국   대구/경북  481        6  \n",
       "2167320          동해시, 공무원 심폐소생술 교육 실시  전국      강원  673        0  \n",
       "1359268     해운대구, '국제운전면허증' 발급 서비스 시행  전국      부산  396        8  \n",
       "2314357           포항해양청, 방파제 등대 2기 설치  전국   대구/경북  361        6  "
      ]
     },
     "execution_count": 7,
     "metadata": {},
     "output_type": "execute_result"
    }
   ],
   "source": [
    "df.sample(10)"
   ]
  },
  {
   "cell_type": "code",
   "execution_count": 8,
   "metadata": {},
   "outputs": [
    {
     "name": "stdout",
     "output_type": "stream",
     "text": [
      "(573195,)\n",
      "(573195,)\n"
     ]
    }
   ],
   "source": [
    "X = df.article\n",
    "y = df.sec_idx\n",
    "print(X.shape)\n",
    "print(y.shape)"
   ]
  },
  {
   "cell_type": "code",
   "execution_count": 10,
   "metadata": {},
   "outputs": [
    {
     "name": "stdout",
     "output_type": "stream",
     "text": [
      "(458556,)\n",
      "(114639,)\n",
      "(458556,)\n",
      "(114639,)\n"
     ]
    }
   ],
   "source": [
    "from sklearn.model_selection import train_test_split\n",
    "X_train, X_test, y_train, y_test = train_test_split(X, y, test_size=0.2, random_state=1)\n",
    "print(X_train.shape)\n",
    "print(X_test.shape)\n",
    "print(y_train.shape)\n",
    "print(y_test.shape)"
   ]
  },
  {
   "cell_type": "code",
   "execution_count": 12,
   "metadata": {},
   "outputs": [
    {
     "name": "stdout",
     "output_type": "stream",
     "text": [
      "CPU times: user 0 ns, sys: 0 ns, total: 0 ns\n",
      "Wall time: 808 µs\n"
     ]
    }
   ],
   "source": [
    "%%time\n",
    "from konlpy.tag import Mecab; m = Mecab()\n",
    "#pos = lambda d: ['/'.join(p) for p in m.pos(d)]\n",
    "def noun_tagger(text):\n",
    "    #return [pos[0] for pos in m.pos(text) if (pos[1] in ['SL','SH','SN']) or pos[1].startswith('NN')]\n",
    "    return [pos[0] for pos in m.pos(text) if pos[1].startswith('NN')]"
   ]
  },
  {
   "cell_type": "markdown",
   "metadata": {},
   "source": [
    "### Summary:\n",
    "    * vect.fit(train) learns the vocabulary of the training data\n",
    "    * vect.transform(train) uses the fitted vocabulary to build a document term matrix from the training data\n",
    "    * vect.transform(test) uses the fitted vocabulary to build a document term matrix from the testing data(and ignores tokens it hasn't seen before)"
   ]
  },
  {
   "cell_type": "code",
   "execution_count": 13,
   "metadata": {},
   "outputs": [
    {
     "name": "stdout",
     "output_type": "stream",
     "text": [
      "CPU times: user 18min 43s, sys: 16.4 s, total: 19min\n",
      "Wall time: 19min\n"
     ]
    }
   ],
   "source": [
    "%%time\n",
    "from sklearn.feature_extraction.text import TfidfVectorizer\n",
    "vect = TfidfVectorizer(tokenizer=noun_tagger, ngram_range=(1,3), min_df=2, max_df=.5)\n",
    "X_train_dtm = vect.fit_transform(X_train)"
   ]
  },
  {
   "cell_type": "code",
   "execution_count": 14,
   "metadata": {
    "collapsed": true
   },
   "outputs": [],
   "source": [
    "X_test_dtm = vect.transform(X_test)"
   ]
  },
  {
   "cell_type": "code",
   "execution_count": 15,
   "metadata": {},
   "outputs": [
    {
     "data": {
      "text/plain": [
       "(458556, 7912225)"
      ]
     },
     "execution_count": 15,
     "metadata": {},
     "output_type": "execute_result"
    }
   ],
   "source": [
    "X_train_dtm.shape"
   ]
  },
  {
   "cell_type": "code",
   "execution_count": 16,
   "metadata": {},
   "outputs": [
    {
     "data": {
      "text/plain": [
       "(114639, 7912225)"
      ]
     },
     "execution_count": 16,
     "metadata": {},
     "output_type": "execute_result"
    }
   ],
   "source": [
    "X_test_dtm.shape"
   ]
  },
  {
   "cell_type": "markdown",
   "metadata": {},
   "source": [
    "## save vector & dtm\n",
    "\n",
    "https://stackoverflow.com/questions/29788047/keep-tfidf-result-for-predicting-new-content-using-scikit-for-python\n",
    "https://stackoverflow.com/questions/32764991/how-do-i-store-a-tfidfvectorizer-for-future-use-in-scikit-learn"
   ]
  },
  {
   "cell_type": "code",
   "execution_count": 17,
   "metadata": {
    "collapsed": true
   },
   "outputs": [],
   "source": [
    "import pickle\n",
    "\n",
    "with open(\"local_tfidf_vect.pkl\", 'wb') as handle:\n",
    "    pickle.dump(vect, handle)\n",
    "\n",
    "with open(\"local_dtm.pkl\", 'wb') as handle:\n",
    "    pickle.dump(X_test_dtm, handle)"
   ]
  },
  {
   "cell_type": "code",
   "execution_count": 18,
   "metadata": {
    "collapsed": true
   },
   "outputs": [],
   "source": [
    "# import and instantiate a Multinomial Naive Bayes model\n",
    "from sklearn.naive_bayes import MultinomialNB\n",
    "nb = MultinomialNB(alpha=.01)"
   ]
  },
  {
   "cell_type": "code",
   "execution_count": 19,
   "metadata": {},
   "outputs": [
    {
     "name": "stdout",
     "output_type": "stream",
     "text": [
      "CPU times: user 10.7 s, sys: 1.15 s, total: 11.9 s\n",
      "Wall time: 11.9 s\n"
     ]
    },
    {
     "data": {
      "text/plain": [
       "MultinomialNB(alpha=0.01, class_prior=None, fit_prior=True)"
      ]
     },
     "execution_count": 19,
     "metadata": {},
     "output_type": "execute_result"
    }
   ],
   "source": [
    "# train the model using X_train_dtm (timing it with an IPython \"magic command\")\n",
    "%time nb.fit(X_train_dtm, y_train)"
   ]
  },
  {
   "cell_type": "code",
   "execution_count": 20,
   "metadata": {
    "collapsed": true
   },
   "outputs": [],
   "source": [
    "# make class predictions for X_test_dtm\n",
    "y_pred_class = nb.predict(X_test_dtm)"
   ]
  },
  {
   "cell_type": "code",
   "execution_count": 21,
   "metadata": {},
   "outputs": [
    {
     "data": {
      "text/plain": [
       "0.89231413393347814"
      ]
     },
     "execution_count": 21,
     "metadata": {},
     "output_type": "execute_result"
    }
   ],
   "source": [
    "# calculate accuracy of class predictions\n",
    "from sklearn import metrics\n",
    "metrics.accuracy_score(y_test, y_pred_class)"
   ]
  },
  {
   "cell_type": "code",
   "execution_count": 22,
   "metadata": {},
   "outputs": [
    {
     "name": "stdout",
     "output_type": "stream",
     "text": [
      "             precision    recall  f1-score   support\n",
      "\n",
      "         강원       0.89      0.93      0.91     14154\n",
      "       경기남부       0.77      0.89      0.83      7883\n",
      "       경기동부       0.87      0.73      0.79      1712\n",
      "       경기북부       0.92      0.65      0.76      2021\n",
      "         경남       0.97      0.86      0.91      7641\n",
      "      광주/전남       0.90      0.89      0.89      8663\n",
      "      대구/경북       0.89      0.92      0.91     13887\n",
      "      대전/충남       0.86      0.89      0.88     11217\n",
      "         부산       0.83      0.92      0.87      7107\n",
      "         서울       0.96      0.91      0.93      5382\n",
      "         세종       0.96      0.81      0.88      1676\n",
      "         울산       0.95      0.89      0.92      5970\n",
      "         인천       0.92      0.68      0.78      2324\n",
      "         전북       0.89      0.90      0.89      8447\n",
      "         제주       0.91      0.92      0.91      5815\n",
      "         충북       0.95      0.92      0.93     10740\n",
      "\n",
      "avg / total       0.90      0.89      0.89    114639\n",
      "\n"
     ]
    }
   ],
   "source": [
    "from sklearn.metrics import classification_report\n",
    "print(classification_report(y_test, y_pred_class, target_names=['강원', '경기남부', '경기동부', '경기북부', '경남', '광주/전남', '대구/경북', '대전/충남', '부산', '서울', '세종', '울산', '인천', '전북', '제주', '충북']))"
   ]
  },
  {
   "cell_type": "code",
   "execution_count": 23,
   "metadata": {},
   "outputs": [
    {
     "name": "stdout",
     "output_type": "stream",
     "text": [
      "7\n"
     ]
    }
   ],
   "source": [
    "import numpy as np\n",
    "counts = np.bincount(y_pred_class[(y_pred_class!=0) & (y_test==0)])\n",
    "print(np.argmax(counts))"
   ]
  },
  {
   "cell_type": "code",
   "execution_count": 24,
   "metadata": {},
   "outputs": [
    {
     "data": {
      "text/plain": [
       "248107     강원대학교(총장 신승호)가 삼성재단에서 주최하는 '삼성드림클래스 2013 여름방학 ...\n",
       "2354700    북부지방산림청(청장 박기남)은 20일 경기도 양평군 용문양묘사업소에서 낙엽송 우량 ...\n",
       "1729668    국민건강보험공단은 18일 공단 회의실에서 국립재활원, 도로교통공단, (사)한국장애인...\n",
       "560938     한국폴리텍대학 원주캠퍼스(학장 임관규)는 지난 22일부터 듀얼공동훈련센터 일학습병행...\n",
       "151107     한림대학교 최수영 교수(바이오메디컬학과 )가 최근 생화학분자생물학회 신임 회장으로 ...\n",
       "911238     강원 원주시가 7일 시청 다목적홀에서 정책관리 아카데미를 개최한다.    이번 정책...\n",
       "1486576    강릉아산병원(병원장 김인구)은 고압산소치료센터를 5월에 오픈하겠다고 20일 밝혔다....\n",
       "236049     강원 횡성인재육성관(위원장 조원용)은 방학을 맞아 학생들의 학력향상을 위한 학력제고...\n",
       "1007058    국회 농림축산식품해양수산위원회 소속 새누리당 이이재(동해·삼척)의원은 임업분야 발전...\n",
       "584368     한림대학교(총장 노건일)는 오는 10일 다양한 연구실험환경을 제공하게 될 한림종합연...\n",
       "584683     강릉원주대학교 컴퓨터공학과가 교육부의 지역특성화 우수학과 지원사업에 선정됐다.   ...\n",
       "705853     ▲입학관리본부장 진덕희(생명과학대학 해양분자생명공학과 교수) ▲취업지원본부장 김성준...\n",
       "191002     ▲성시일 학생처장   [뉴시스 이시간 핫 뉴스] ㆍ 김용판, 청문회 증인 선서 거부...\n",
       "1915215    존경하는 강원도민 여러분. 사랑하는 강원도 학생, 학부모, 교직원 여러분. 강원도교...\n",
       "580093     강원도교육청(교육감 민병희)은 교육부에서 주최하는 '제4회 Wee 희망 대상' 3개...\n",
       "1439054    백환조 강원대학교(총장 신승호) 창업지원단장이 최근 대전에서 열린 '제2회 정기회'...\n",
       "608883     강원 태백시는 개학기를 맞아 학교주변의 부정불량 위해식품 및 청소년 유해환경에 대해...\n",
       "2769693    값이 싼 엔진오일을 친환경 제품이라고 속여 판 일당이 경찰에 검거됐다.   강원지방...\n",
       "1655938    강원 고성군은 개발행위(농지) 인·허가 운영 등과 관련된 내용을 군민이 보다 알기 ...\n",
       "692265     강원대병원 농업안전보건센터(센터장 백소라)는 농림축산식품부에서 이달 초 발표한 사업...\n",
       "1193254    강원도교육청은 10일 도교육청 의암실에서 다문화가정 학생의 교육 지원을 위한 다문화...\n",
       "89938      조세심판원·안전행정부·전국지방자치단체 지방세 심판업무 담당자 등 300여 명이 28...\n",
       "1139372    강원 원주시교육지원청은 9일 홈페이지에 '2016학년도 공립유치원 원아모집 요강'을...\n",
       "1929592    강원도교육청은 각급 학교와 일선 교육기관에 조기 방학 실시 검토 등을 포함한 인플루...\n",
       "1645754    해고통지에 앙심을 품은 50대 남성이 회사 화물트럭에 불을 지르고 화상을 입었다. ...\n",
       "566338     강릉원주대학교 평생교육원은 고용노동부로부터 직업능력개발 훈련과정을 승인받았다고 29...\n",
       "1473510    ◇1급   ▲경영전략본부 운영지원실장 박종선 ▲호남지사장 김선규   ★ 뉴시스 뉴스...\n",
       "1016214    강원 동해시가 행정자치부에서 주관하는 '2014년 지방재정공시 노력도 평가'에서 우...\n",
       "272620     일본 문부과학성이 주최한 '2013년도 일본어·일본문화 연수생(일본 국비유학생)'에...\n",
       "2241893    강원도교육청은 25일 2016 학교정보화 업무편람을 도교육청 홈페이지에 게재했다. ...\n",
       "                                 ...                        \n",
       "327855     강원도교육청은 20일 대한산업안전협회와 '학교 교육현장 안전의식 고취 및 시설물 안...\n",
       "558103     강원도교육청(교육감 민병희)이 교육기부 활성화에 기여한 3개 학교를 유공학교로 선정...\n",
       "1922005    한국철도시설공단은 평창동계올림픽 기간 고속열차 수송 지원을 위해 추진하고 있는 기존...\n",
       "334618     강원대학교(총장 신승호) 식물자원응용공학과 이윤수 교수와 의학전문대학원 의학과 김영...\n",
       "2822079    강원도교육청은 13일부터 17일까지 2015년 개정 교육 과정에 따른 초등학교 1·...\n",
       "492638     강원대학교 창업지원단(단장 백환조)은 12일 교내 60주년기념관에서 '사관학교식 창...\n",
       "1478436    강원 동해시는 새학기를 맞아 관련기관과 합동으로 학교주변 안전분야에 대한 일제점검과...\n",
       "1026150    강원대학교(총장 신승호) 농업생명과학대학 바이오자원환경학과 양재의 교수가 지난 6일...\n",
       "34518      제3회 대한민국 창의체험페스티벌에 강원 인제 원통고가 6개 동아리를 본선에 진출시켜...\n",
       "349576     강원 홍천군 선·후배 공무원들의 멘토-멘티 결연식이 16일 오후 5시 대회의실에서 ...\n",
       "1517564    강원대학교 산림자원학부(학부장 박완근) 산림자원학전공 교수들이 십시일반 기금을 모아...\n",
       "1072449    최근 강원 춘천시의 한 여고에서 발생한 시험지 보관 사물함 파손 사건의 범인이 입건...\n",
       "1479152    경동대학교(총장 전성용)는 2015학년도 신입생을 대상으로 2~3일 교내에서 오리엔...\n",
       "1160391    강원대학교(총장 신승호) 는 도시건축학부 건축학전공이 22~29일 나래관 2층 갤러...\n",
       "895294     강원대학교가 자연과학대학(학장 장보안) 주관으로 오는 19일 교내에서 '제5회 자연...\n",
       "664953     강원 철원군은 국민건강보험공단에서 2년마다 실시하는 장기요양기관 평가에서 군노인전문...\n",
       "1435081    강원 태백시는 설 명절을 앞두고 공직기강을 바로 잡기 위해 공직기강 점검에 나선다고...\n",
       "1004443    강원 속초세관은 1월26일~3월6일 설·대보름 성수품 원산지표시 특별단속을 실시한다...\n",
       "1581418    한국관광공사는 백제 역사유적지구의 유네스코 세계문화유산 등록을 계기로 대대적인 방한...\n",
       "686724     한림성심대학교(총장 금승호)는 서울디지털산업단지 경영자협의회와 지난 15일 산학협력...\n",
       "2264470    강원도는 기업의 신설·증설 투자의 지원 조건을 완화하고 대기업 등 우량기업을 전략적...\n",
       "1250013    벤자민인성영재학교 강원학습관은 12일 오후 1시부터 4시까지 강릉 행복한 모루도서관...\n",
       "768591     강원학생교육원은 17~20일 '제1회 또래상담자 양성캠프'를 실시한다고 밝혔다.  ...\n",
       "1162061    강원 평창군은 주요 재정사업에 대한 성과평가를 통해 효율성이 떨어지는 사업에 대해 ...\n",
       "1186028    강원도교육청은 오는 23일 오전 9시20분부터 오후 2시까지 도내 중·고등학교 25...\n",
       "2403061    강원도교육청은 23일 강원진로교육원에서 2017 초·중·고·특수학교 체육(담당)교사...\n",
       "1646160    강원도가 산림청의 산림분야 규제개혁과제(국유림이용 규제 등) 특별 공모에서 2년 연...\n",
       "904206     강원 강릉원주대학교(총장 전방욱)는 중어중문학과 졸업생 이아름(25·여)·서혜리(2...\n",
       "929525     설악산국립공원과 관련한 건축 민원 처리가 빨라진다.   국립공원관리공단 설악산국립공...\n",
       "1085759    강원 한림성심대학교는 훈민정음 반포 569돌인 한글날을 맞이해 8일 한림한국어교육센...\n",
       "Name: article, Length: 170, dtype: object"
      ]
     },
     "execution_count": 24,
     "metadata": {},
     "output_type": "execute_result"
    }
   ],
   "source": [
    "X_test[(y_pred_class==7) & (y_test==0)]"
   ]
  },
  {
   "cell_type": "code",
   "execution_count": 25,
   "metadata": {},
   "outputs": [
    {
     "data": {
      "text/html": [
       "<div>\n",
       "<style scoped>\n",
       "    .dataframe tbody tr th:only-of-type {\n",
       "        vertical-align: middle;\n",
       "    }\n",
       "\n",
       "    .dataframe tbody tr th {\n",
       "        vertical-align: top;\n",
       "    }\n",
       "\n",
       "    .dataframe thead th {\n",
       "        text-align: right;\n",
       "    }\n",
       "</style>\n",
       "<table border=\"1\" class=\"dataframe\">\n",
       "  <thead>\n",
       "    <tr style=\"text-align: right;\">\n",
       "      <th></th>\n",
       "      <th>article</th>\n",
       "      <th>title</th>\n",
       "      <th>sec</th>\n",
       "      <th>sec_sub</th>\n",
       "      <th>len</th>\n",
       "      <th>sec_idx</th>\n",
       "    </tr>\n",
       "  </thead>\n",
       "  <tbody>\n",
       "    <tr>\n",
       "      <th>904206</th>\n",
       "      <td>강원 강릉원주대학교(총장 전방욱)는 중어중문학과 졸업생 이아름(25·여)·서혜리(2...</td>\n",
       "      <td>강릉원주대 이아름·서혜리씨 중국정부 초청장학생 합격</td>\n",
       "      <td>전국</td>\n",
       "      <td>강원</td>\n",
       "      <td>445</td>\n",
       "      <td>0</td>\n",
       "    </tr>\n",
       "  </tbody>\n",
       "</table>\n",
       "</div>"
      ],
      "text/plain": [
       "                                                  article  \\\n",
       "904206  강원 강릉원주대학교(총장 전방욱)는 중어중문학과 졸업생 이아름(25·여)·서혜리(2...   \n",
       "\n",
       "                               title sec sec_sub  len  sec_idx  \n",
       "904206  강릉원주대 이아름·서혜리씨 중국정부 초청장학생 합격  전국      강원  445        0  "
      ]
     },
     "execution_count": 25,
     "metadata": {},
     "output_type": "execute_result"
    }
   ],
   "source": [
    "df[df.index==904206]"
   ]
  },
  {
   "cell_type": "markdown",
   "metadata": {},
   "source": [
    "In practice Multinomial NB can be better than Linear SVM in some situations and svm better than NB on other datasets. Apparently t's possible to combine the two approaches to get a very good baseline: projects:nbsvm - Sida I. Wang\n",
    "\n",
    "You can also try non-linear SVMs but often the quadratic complexity of the SMO algorithm (for instance as implemented in libsvm) makes it not practical on datasets with more than 5000 documents. Instead on prefer to use liblinear than can only train linear SVM on large datasets.\n",
    "\n",
    "https://www.quora.com/What-are-the-differences-similarities-between-SVM-Naive-Bayes-for-binary-text-classification-wrt-how-they-are-processing-the-features\n",
    "\n",
    "http://scikit-learn.org/stable/modules/generated/sklearn.svm.SVC.html#sklearn.svm.SVC"
   ]
  },
  {
   "cell_type": "code",
   "execution_count": 26,
   "metadata": {
    "collapsed": true
   },
   "outputs": [],
   "source": [
    "from sklearn import svm\n",
    "#clf = svm.SVC(decision_function_shape='ovo')\n",
    "clfrSVM=svm.LinearSVC(C=1)"
   ]
  },
  {
   "cell_type": "code",
   "execution_count": 27,
   "metadata": {},
   "outputs": [
    {
     "name": "stdout",
     "output_type": "stream",
     "text": [
      "CPU times: user 4min 46s, sys: 1.01 s, total: 4min 47s\n",
      "Wall time: 4min 47s\n"
     ]
    },
    {
     "data": {
      "text/plain": [
       "LinearSVC(C=1, class_weight=None, dual=True, fit_intercept=True,\n",
       "     intercept_scaling=1, loss='squared_hinge', max_iter=1000,\n",
       "     multi_class='ovr', penalty='l2', random_state=None, tol=0.0001,\n",
       "     verbose=0)"
      ]
     },
     "execution_count": 27,
     "metadata": {},
     "output_type": "execute_result"
    }
   ],
   "source": [
    "%time clfrSVM.fit(X_train_dtm, y_train)"
   ]
  },
  {
   "cell_type": "code",
   "execution_count": 28,
   "metadata": {
    "collapsed": true
   },
   "outputs": [],
   "source": [
    "y_pred_class_svm = clfrSVM.predict(X_test_dtm)"
   ]
  },
  {
   "cell_type": "code",
   "execution_count": 29,
   "metadata": {},
   "outputs": [
    {
     "data": {
      "text/plain": [
       "0.97676183497762537"
      ]
     },
     "execution_count": 29,
     "metadata": {},
     "output_type": "execute_result"
    }
   ],
   "source": [
    "from sklearn import metrics\n",
    "metrics.accuracy_score(y_test, y_pred_class_svm)"
   ]
  },
  {
   "cell_type": "code",
   "execution_count": 30,
   "metadata": {},
   "outputs": [
    {
     "name": "stdout",
     "output_type": "stream",
     "text": [
      "             precision    recall  f1-score   support\n",
      "\n",
      "         강원       0.99      0.99      0.99     14154\n",
      "       경기남부       0.95      0.96      0.96      7883\n",
      "       경기동부       0.98      0.96      0.97      1712\n",
      "       경기북부       0.95      0.90      0.93      2021\n",
      "         경남       0.98      0.98      0.98      7641\n",
      "      광주/전남       0.97      0.98      0.98      8663\n",
      "      대구/경북       0.98      0.98      0.98     13887\n",
      "      대전/충남       0.96      0.97      0.97     11217\n",
      "         부산       0.97      0.97      0.97      7107\n",
      "         서울       0.98      0.97      0.97      5382\n",
      "         세종       0.96      0.91      0.93      1676\n",
      "         울산       0.99      0.99      0.99      5970\n",
      "         인천       0.97      0.95      0.96      2324\n",
      "         전북       0.99      0.99      0.99      8447\n",
      "         제주       0.99      0.99      0.99      5815\n",
      "         충북       0.99      0.98      0.99     10740\n",
      "\n",
      "avg / total       0.98      0.98      0.98    114639\n",
      "\n"
     ]
    }
   ],
   "source": [
    "print(classification_report(y_test, y_pred_class_svm, target_names=['강원', '경기남부', '경기동부', '경기북부', '경남', '광주/전남', '대구/경북', '대전/충남', '부산', '서울', '세종', '울산', '인천', '전북', '제주', '충북']))"
   ]
  },
  {
   "cell_type": "markdown",
   "metadata": {},
   "source": [
    "https://stackoverflow.com/questions/40115043/no-space-left-on-device-error-while-fitting-sklearn-model"
   ]
  },
  {
   "cell_type": "code",
   "execution_count": 31,
   "metadata": {
    "collapsed": true
   },
   "outputs": [],
   "source": [
    "with open(\"local_svm_clf.pkl\", 'wb') as handle:\n",
    "    pickle.dump(clfrSVM, handle)"
   ]
  },
  {
   "cell_type": "code",
   "execution_count": 29,
   "metadata": {
    "collapsed": true
   },
   "outputs": [],
   "source": [
    "with open(\"kbo_nb_clf.pkl\", 'wb') as handle:\n",
    "    pickle.dump(nb, handle)"
   ]
  },
  {
   "cell_type": "code",
   "execution_count": null,
   "metadata": {
    "collapsed": true
   },
   "outputs": [],
   "source": []
  }
 ],
 "metadata": {
  "kernelspec": {
   "display_name": "Python 3",
   "language": "python",
   "name": "python3"
  },
  "language_info": {
   "codemirror_mode": {
    "name": "ipython",
    "version": 3
   },
   "file_extension": ".py",
   "mimetype": "text/x-python",
   "name": "python",
   "nbconvert_exporter": "python",
   "pygments_lexer": "ipython3",
   "version": "3.6.2"
  }
 },
 "nbformat": 4,
 "nbformat_minor": 2
}
